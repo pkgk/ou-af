{
 "cells": [
  {
   "cell_type": "markdown",
   "id": "1faf72f1",
   "metadata": {},
   "source": [
    "# type 2 test influence diagram modelling validation\n",
    "\n",
    "- create the code for the type 2 test\n",
    "  \n",
    "  "
   ]
  },
  {
   "cell_type": "code",
   "execution_count": null,
   "id": "021ef090",
   "metadata": {},
   "outputs": [],
   "source": [
    "# enable autoreload of changes in accompanying code files\n",
    "%load_ext autoreload\n",
    "%autoreload 2"
   ]
  },
  {
   "cell_type": "markdown",
   "id": "50ad9062",
   "metadata": {},
   "source": [
    "### necessary imports en settings"
   ]
  },
  {
   "cell_type": "code",
   "execution_count": null,
   "id": "cbd55a1c",
   "metadata": {},
   "outputs": [],
   "source": [
    "import os\n",
    "import sys\n",
    "import re\n",
    "import pyAgrum as gum\n",
    "import pyAgrum.lib.notebook as gnb\n",
    "from IPython.display import display, HTML, clear_output, Image\n",
    "import pandas as pd\n",
    "from itertools import product\n",
    "import math\n",
    "from deepdiff import DeepDiff"
   ]
  },
  {
   "cell_type": "code",
   "execution_count": null,
   "id": "6bd00806",
   "metadata": {},
   "outputs": [],
   "source": [
    "sys.path.insert(1, \"/workspaces/ou-af/problem2/\")"
   ]
  },
  {
   "cell_type": "code",
   "execution_count": null,
   "id": "f678245d",
   "metadata": {},
   "outputs": [],
   "source": [
    "# import code\n",
    "import src.oopnclasses as oopnclasses\n",
    "import src.oopnbuilder as oopnbuilder\n",
    "import src.diagrambuilder as diagrambuilder\n",
    "import src.testobservereplace as testchangeinput\n",
    "import src.testchangeinput as testobservereplace\n",
    "import specs.components as componentspecs\n",
    "import specs.connections as connectionspecs\n",
    "import specs.assemblies as assemblyspecs\n",
    "import specs.tests as testspecs"
   ]
  },
  {
   "cell_type": "code",
   "execution_count": null,
   "id": "1a8a966f",
   "metadata": {},
   "outputs": [],
   "source": [
    "# Styling notebook\n",
    "def css_styling():\n",
    "    styles = open(\"./styles/custom.css\", \"r\").read()\n",
    "    return HTML(\"<style>\" + styles + \"</style\")\n",
    "\n",
    "css_styling()"
   ]
  },
  {
   "cell_type": "markdown",
   "id": "e5cf1256",
   "metadata": {},
   "source": [
    "### methods to visualize diagram"
   ]
  },
  {
   "cell_type": "code",
   "execution_count": null,
   "id": "2b940189",
   "metadata": {},
   "outputs": [],
   "source": [
    "def visualizeStructure(diagram):\n",
    "#    display(HTML(\"<style>.container { width:100% !important; }</style>\"))\n",
    "\n",
    "    # print summary of nodes\n",
    "    print(diagram)\n",
    "\n",
    "    # view structure\n",
    "    gnb.showInfluenceDiagram(diagram, size=60)\n",
    "    \n",
    "def createUtilityRow(nodelist):\n",
    "    row_elements = [diagram.utility(node) for node in nodelist]\n",
    "    gnb.flow.row(*row_elements)\n",
    "\n",
    "def createCptRow(nodelist):\n",
    "    row_elements = [diagram.cpt(node) for node in nodelist]\n",
    "    gnb.flow.row(*row_elements)\n",
    "\n",
    "def showCPTs(diagram):\n",
    "    nodes = diagram.nodes()\n",
    "    for n in nodes:\n",
    "        if(diagram.isChanceNode(n)):\n",
    "            gnb.flow.row(diagram.cpt(n))\n",
    "            \n",
    "def getDiagramChanceNodeIdsForComponent(componentname, diagram):\n",
    "    idlist = []\n",
    "    diagramNames = diagram.names()\n",
    "    for dname in diagramNames:\n",
    "        if(re.search(componentname + \"$\", dname)):\n",
    "            nodeid = diagram.idFromName(dname)\n",
    "            if (diagram.isChanceNode(nodeid)):\n",
    "                idlist.append(nodeid)\n",
    "    return idlist\n",
    "    \n",
    "\n",
    "def printCptTables(diagram, system):\n",
    "    for component in system.getComponents():\n",
    "        print(\"CPT tables for component: \" + component.getName())\n",
    "        createCptRow(getDiagramChanceNodeIdsForComponent(component.getName(), diagram))\n",
    "        \n",
    "def getDiagramUtilityNodeIdsForComponent(componentname, diagram):\n",
    "    idlist = []\n",
    "    diagramNames = diagram.names()\n",
    "    for dname in diagramNames:\n",
    "        if(re.search(componentname + \"$\", dname)):\n",
    "            nodeid = diagram.idFromName(dname)\n",
    "            if (diagram.isUtilityNode(nodeid)):\n",
    "                idlist.append(nodeid)\n",
    "    return idlist\n",
    "    \n",
    "\n",
    "def printUtilityTables(diagram, system):\n",
    "    for component in system.getComponents():\n",
    "        print(\"Utility tables for component: \" + component.getName())\n",
    "        createUtilityRow(getDiagramUtilityNodeIdsForComponent(component.getName(), diagram))"
   ]
  },
  {
   "cell_type": "markdown",
   "id": "246a9cb8",
   "metadata": {},
   "source": [
    "## generating influence diagram for a type 2 test"
   ]
  },
  {
   "cell_type": "markdown",
   "id": "fde6390e",
   "metadata": {},
   "source": [
    "### elements of the type 2 test to convert into influence diagram:\n",
    "- system: below a simple system a light connected to a switch via a wire will be used\n",
    "- duplicated system: a duplication of the system within the model is necessary to properly model the type 2 test\n",
    "- symptom variables supply information that helps to determine a root cause\n",
    "  - symptom variable for the system are the health variables of every component involved. The health variable reacts to \"abnormal\" behavior of a component modelled as states of both the inputs and the output of a component.\n",
    "  - it's helpfull to create a mediating symptom variable for the type 2 test as a \"system health\" variable that reacts to the state of each component health\n",
    "  - in an influence diagram a utility reacts to symptom variables based on the preferences embedded in the utility table\n",
    "- modelling the decision\n",
    "  - a decision is only needed when the results of the system are known, the decision is therefore conditional on the system output\n",
    "  - decision node is intervening and so needs to be connected to the input of the duplicated chain\n",
    "- modelling the utility\n",
    "  - next to the system health variable the utility needs to know the original input to the system, if it doesn't it can't react by changing the input to another value\n",
    "  - the utility also needs to influence the decision, to enable this the input of the duplicated system needs to be connected to the utility\n",
    "- outcome of the test\n",
    "  - the belief in the health variable of each component is updated by the (duplicated system) output that results from the changed (duplicated system) input \n"
   ]
  },
  {
   "cell_type": "markdown",
   "id": "b979d44d",
   "metadata": {},
   "source": [
    "### configuring the system health and utility\n",
    "\n",
    "system health\n",
    "- when state considered ok > system health is also ok\n",
    "- when 1 of the components is believed to be broken this should be reflected in the system health variable\n",
    "\n",
    "\n",
    "test utility\n",
    "- parents of the utility are the system health, the system input and the duplicated system input\n"
   ]
  },
  {
   "cell_type": "markdown",
   "id": "4c107422",
   "metadata": {},
   "source": [
    "### loading system description"
   ]
  },
  {
   "cell_type": "code",
   "execution_count": null,
   "id": "da20cf43",
   "metadata": {},
   "outputs": [],
   "source": [
    "assembly = {\n",
    "    \"components\"  : [componentspecs.light, componentspecs.switch],\n",
    "    \"connections\" : [connectionspecs.wire, connectionspecs.wire2],\n",
    "    \"structure\"   : assemblyspecs.structure1,   # light, switch en wire \n",
    "    \"tests\"       : [testspecs.observeorreplacetest, testspecs.changeinputtest],\n",
    "    \"testmapping\" : testspecs.testmapping4     # geen testen want de test wordt hieronder handmatig toegevoegd\n",
    "}"
   ]
  },
  {
   "cell_type": "markdown",
   "id": "79982482",
   "metadata": {},
   "source": [
    "### generate OOPN"
   ]
  },
  {
   "cell_type": "code",
   "execution_count": null,
   "id": "5f31297d",
   "metadata": {},
   "outputs": [],
   "source": [
    "oopn = oopnbuilder.OopnBuilder(assembly).getOopn()"
   ]
  },
  {
   "cell_type": "markdown",
   "id": "fb16700b",
   "metadata": {},
   "source": [
    "### generate influence diagram from OOPN"
   ]
  },
  {
   "cell_type": "code",
   "execution_count": null,
   "id": "d5355f33",
   "metadata": {},
   "outputs": [],
   "source": [
    "# create diagram object en bouw influence diagram obv OOPN\n",
    "diagram = gum.InfluenceDiagram()\n",
    "diagram = diagrambuilder.diagramBuilder(diagram, oopn)"
   ]
  },
  {
   "cell_type": "code",
   "execution_count": null,
   "id": "403e2fe0",
   "metadata": {
    "scrolled": false
   },
   "outputs": [],
   "source": [
    "# tussenstand bekijken\n",
    "gnb.showInfluenceDiagram(diagram, size=60)"
   ]
  },
  {
   "cell_type": "markdown",
   "id": "d5862be4",
   "metadata": {},
   "source": [
    "### background variabelen: dupliceer keten door OOPN uit te breiden\n",
    "- background variabelen: system en gedupliceerd systeem (behoud overige inputs en health)\n",
    "- problem variabelen: health van iedere bij de keten betrokken component\n",
    "- symptoom variabelen voor afwijkend gedrag: input / output van keten van componenten \n"
   ]
  },
  {
   "cell_type": "code",
   "execution_count": null,
   "id": "9911ba6c",
   "metadata": {},
   "outputs": [],
   "source": [
    "# breid oopn uit door keten te dupliceren\n",
    "oopn.copyPathType2Test('PresentPowerInputsSwitch', 'PresentLightOutputsLight')"
   ]
  },
  {
   "cell_type": "code",
   "execution_count": null,
   "id": "7a3c51e1",
   "metadata": {},
   "outputs": [],
   "source": [
    "# nieuw influence diagram genereren\n",
    "diagram = gum.InfluenceDiagram()\n",
    "diagram = diagrambuilder.diagramBuilder(diagram, oopn)"
   ]
  },
  {
   "cell_type": "code",
   "execution_count": null,
   "id": "6b18ee01",
   "metadata": {},
   "outputs": [],
   "source": [
    "gnb.showInfluenceDiagram(diagram, size=60)"
   ]
  },
  {
   "cell_type": "code",
   "execution_count": null,
   "id": "9957536c",
   "metadata": {},
   "outputs": [],
   "source": [
    "# Add mediating system health variabele\n",
    "label = \"systemhealth\"\n",
    "C1health = gum.LabelizedVariable(label, label,[\"ok\", \"broken\"])\n",
    "C1healthId = diagram.add(C1health)\n",
    "diagram.addArc(diagram.idFromName(\"healthSwitch\"), C1healthId)\n",
    "diagram.addArc(diagram.idFromName(\"healthWire\"), C1healthId)\n",
    "diagram.addArc(diagram.idFromName(\"healthLight\"), C1healthId)"
   ]
  },
  {
   "cell_type": "code",
   "execution_count": null,
   "id": "ffda710b",
   "metadata": {},
   "outputs": [],
   "source": [
    "# creeer utility variabele\n",
    "# detecter afwijkend gedrag: koppel input en output keten met utility\n",
    "# koppel input gedupliceerde keten met utility\n",
    "\n",
    "UtilityT2 = gum.LabelizedVariable(\"utilT2\", \"utilT2\",1)\n",
    "diagram.addUtilityNode(UtilityT2)\n",
    "diagram.addArc(\"PresentPowerInputsSwitch\", \"utilT2\")\n",
    "#diagram.addArc(\"PresentLightOutputsLight\", \"utilT2\")\n",
    "diagram.addArc(\"PresentPowerInputsSwitchcopy\", \"utilT2\")"
   ]
  },
  {
   "cell_type": "code",
   "execution_count": null,
   "id": "c3f6a492",
   "metadata": {},
   "outputs": [],
   "source": [
    "# creeer decision variabele\n",
    "# conditioneel besluit, koppel output met decision\n",
    "# intervenierend besluit, koppel besluit met input gedupliceerde keten\n",
    "DecisionT2 = gum.LabelizedVariable(\"decT2\", \"decT2\",[\"yes\", \"no\"])\n",
    "diagram.addDecisionNode(DecisionT2)\n",
    "# diagram.addArc(\"PresentPowerInputsSwitch\", \"decT2\")\n",
    "diagram.addArc(\"PresentLightOutputsLight\", \"decT2\")\n",
    "diagram.addArc(\"decT2\", \"PresentPowerInputsSwitchcopy\")"
   ]
  },
  {
   "cell_type": "code",
   "execution_count": null,
   "id": "0e3ea278",
   "metadata": {},
   "outputs": [],
   "source": [
    "diagram.addArc(diagram.idFromName(\"systemhealth\"), diagram.idFromName(\"utilT2\"))"
   ]
  },
  {
   "cell_type": "code",
   "execution_count": null,
   "id": "3389d722",
   "metadata": {},
   "outputs": [],
   "source": [
    "# complete influence diagram\n",
    "gnb.showInfluenceDiagram(diagram, size=60)"
   ]
  },
  {
   "cell_type": "markdown",
   "id": "e36dfdd5",
   "metadata": {},
   "source": [
    "### conditional probability table for system health"
   ]
  },
  {
   "cell_type": "code",
   "execution_count": null,
   "id": "6d315060",
   "metadata": {},
   "outputs": [],
   "source": [
    "diagram.cpt(diagram.idFromName(\"systemhealth\"))[{\"healthLight\":\"ok\", \"healthWire\":\"ok\", \"healthSwitch\":\"ok\"}] = [0.99, 0.01]\n",
    "diagram.cpt(diagram.idFromName(\"systemhealth\"))[{\"healthLight\":\"ok\", \"healthWire\":\"ok\", \"healthSwitch\":\"broken\"}] = [0.01, 0.99]\n",
    "diagram.cpt(diagram.idFromName(\"systemhealth\"))[{\"healthLight\":\"ok\", \"healthWire\":\"broken\", \"healthSwitch\":\"ok\"}] = [0.01, 0.99]\n",
    "diagram.cpt(diagram.idFromName(\"systemhealth\"))[{\"healthLight\":\"ok\", \"healthWire\":\"broken\", \"healthSwitch\":\"broken\"}] = [0.01, 0.99]\n",
    "diagram.cpt(diagram.idFromName(\"systemhealth\"))[{\"healthLight\":\"broken\", \"healthWire\":\"ok\", \"healthSwitch\":\"ok\"}] = [0.01, 0.99]\n",
    "diagram.cpt(diagram.idFromName(\"systemhealth\"))[{\"healthLight\":\"broken\", \"healthWire\":\"ok\", \"healthSwitch\":\"broken\"}] = [0.01, 0.99]\n",
    "diagram.cpt(diagram.idFromName(\"systemhealth\"))[{\"healthLight\":\"broken\", \"healthWire\":\"broken\", \"healthSwitch\":\"ok\"}] = [0.01, 0.99]\n",
    "diagram.cpt(diagram.idFromName(\"systemhealth\"))[{\"healthLight\":\"broken\", \"healthWire\":\"broken\", \"healthSwitch\":\"broken\"}] = [0.01, 0.99]\n",
    "diagram.cpt(diagram.idFromName(\"systemhealth\"))\n"
   ]
  },
  {
   "cell_type": "markdown",
   "id": "b92f8a5a",
   "metadata": {},
   "source": [
    "### configuratie utility"
   ]
  },
  {
   "cell_type": "code",
   "execution_count": null,
   "id": "807fef80",
   "metadata": {},
   "outputs": [],
   "source": [
    "ok, broken = \"ok\", \"broken\"\n",
    "yes, no = \"yes\", \"no\"\n",
    "health, inputcopy, inputswitch = \"systemhealth\", \"PresentPowerInputsSwitchcopy\", \"PresentPowerInputsSwitch\"\n",
    "id = diagram.idFromName(\"utilT2\")\n",
    "diagram.utility(id)[{health:ok,inputcopy:yes,inputswitch:yes}]     = 90  # indien ok dan zelfde input\n",
    "diagram.utility(id)[{health:ok,inputcopy:yes,inputswitch:no}]      = -10 # indien health ok dan niet input wisselen\n",
    "diagram.utility(id)[{health:ok,inputcopy:no,inputswitch:yes}]      = -10 # indien health ok dan niet input wisselen\n",
    "diagram.utility(id)[{health:ok,inputcopy:no,inputswitch:no}]       = 90  # indien ok dan zelfde input\n",
    "diagram.utility(id)[{health:broken,inputcopy:yes,inputswitch:yes}] = -50 # indien broken dan niet input gelijk houden\n",
    "diagram.utility(id)[{health:broken,inputcopy:yes,inputswitch:no}]  = 100 # indien broken dan andere input\n",
    "diagram.utility(id)[{health:broken,inputcopy:no,inputswitch:yes}]  = 100 # indien broken dan andere input\n",
    "diagram.utility(id)[{health:broken,inputcopy:no,inputswitch:no}]   = -50\n"
   ]
  },
  {
   "cell_type": "code",
   "execution_count": null,
   "id": "111af585",
   "metadata": {},
   "outputs": [],
   "source": [
    "diagram.utility(diagram.idFromName(\"utilT2\"))"
   ]
  },
  {
   "cell_type": "markdown",
   "id": "d2672e5c",
   "metadata": {},
   "source": [
    "### uitbreiden cpt input van gedupliceerde keten"
   ]
  },
  {
   "cell_type": "code",
   "execution_count": null,
   "id": "530b9588",
   "metadata": {},
   "outputs": [],
   "source": [
    "diagram.cpt(diagram.idFromName(\"PresentPowerInputsSwitchcopy\"))[1] = [0.01, 0.99]\n",
    "diagram.cpt(diagram.idFromName(\"PresentPowerInputsSwitchcopy\"))"
   ]
  },
  {
   "cell_type": "markdown",
   "id": "a1519ab6",
   "metadata": {},
   "source": [
    "### Unit test 1, normaal gedrag > overnemen input"
   ]
  },
  {
   "cell_type": "code",
   "execution_count": null,
   "id": "4e72ee47",
   "metadata": {},
   "outputs": [],
   "source": [
    "evs = {\n",
    "# input / output evidence van systeem, normaal gedrag is dus 0/0 of 1/1\n",
    "'PresentPowerInputsSwitch':1,  # 0 is yes, 1 is no\n",
    "'PresentLightOutputsLight':0,  # 0 is yes, 1 is no\n",
    "\n",
    "\n",
    "# instellen additionele input\n",
    "#'EnabledStateInputsSwitch':0,  # 0 is yes, 1 is no\n",
    "}"
   ]
  },
  {
   "cell_type": "code",
   "execution_count": null,
   "id": "b85abe42",
   "metadata": {},
   "outputs": [],
   "source": [
    "ie = gum.ShaferShenoyLIMIDInference(diagram) \n",
    "ie.setEvidence(evs)\n",
    "#ie.addNoForgettingAssumption([\"DecisionTestObserveHealthSwitch\",\"DecisionReplaceSwitch\", \"DecisionTestObserveHealthLight\", \"DecisionReplaceLight\"])\n",
    "gnb.sideBySide(gnb.getInference(diagram,engine=ie, evs=evs, size=200))\n",
    "\n"
   ]
  },
  {
   "cell_type": "markdown",
   "id": "d79f15fc",
   "metadata": {},
   "source": [
    "wordt de juiste input voor de gedupliceerde keten ingesteld?\n",
    "- indien evidence input / output systeem beide 0 (yes) dan wordt de input overgenomen voor de gedupliceerde keten\n",
    "- indien evidence input / output systeem beide 1 (no) dan wordt de input overgenomen voor de gedupliceerde keten\n",
    "- indien evidence input no en output yes dan wordt input voor gedupliceerde keten geswitched naar yes\n",
    "- indien evidence input yes en output no dan wordt input voor gedupliceerde keten geswitched naar no \n",
    "\n",
    "laatste test gaat niet goed \n"
   ]
  },
  {
   "cell_type": "markdown",
   "id": "8582e4c9",
   "metadata": {},
   "source": [
    "### OPNIEUW DOEN unit test 2, verwerken extra observatie, betere inschatting health?"
   ]
  },
  {
   "cell_type": "code",
   "execution_count": null,
   "id": "65b2d12a",
   "metadata": {},
   "outputs": [],
   "source": [
    "evs = {\n",
    "# input / output evidence van systeem, normaal gedrag is 0/0 of 1/1\n",
    "'PresentPowerInputsSwitch':0,  # 0 is yes, 1 is no\n",
    "'PresentLightOutputsLight':1,  # 0 is yes, 1 is no\n",
    "\n",
    "\n",
    "# instellen additionele input\n",
    "'EnabledStateInputsSwitch':0,  # 0 is yes, 1 is no\n",
    "    \n",
    "# instellen observaties mbt duplicate chain\n",
    "'PresentPowerInputsSwitchcopy':1,  # 0 is yes, 1 is no\n",
    "'PresentLightOutputsLightcopy':1,  # 0 is yes, 1 is no\n",
    "\n",
    "\n",
    "}"
   ]
  },
  {
   "cell_type": "code",
   "execution_count": null,
   "id": "c4c97bb7",
   "metadata": {},
   "outputs": [],
   "source": [
    "ie = gum.ShaferShenoyLIMIDInference(diagram) \n",
    "ie.setEvidence(evs)\n",
    "#ie.addNoForgettingAssumption([\"DecisionTestObserveHealthSwitch\",\"DecisionReplaceSwitch\", \"DecisionTestObserveHealthLight\", \"DecisionReplaceLight\"])\n",
    "gnb.sideBySide(gnb.getInference(diagram,engine=ie, evs=evs, size=200))"
   ]
  },
  {
   "cell_type": "markdown",
   "id": "ff207153",
   "metadata": {},
   "source": [
    "- indien originele observatie switch:aan maar lamp:uit\n",
    "- en extra observatie is: switch:uit en lamp: uit\n",
    "- waarbij prior van alle healths 99% is\n",
    "\n",
    "dan is de health zonder de extra observatie > daarna met de extra observatie\n",
    "- healthSwitch: 85,45% > 83,27%\n",
    "- healthWire: 72,40% > 83,27%\n",
    "- healthLight: 84,88% > 82,77%\n",
    "\n",
    "dus eerst is de wire de verdachte maar daarna de lamp al ligt het dan dichter bij elkaar"
   ]
  },
  {
   "cell_type": "markdown",
   "id": "2d3d191c",
   "metadata": {},
   "source": [
    "### OPNIEUW DOEN indien health van wire lager wordt...\n",
    "- healht wire wordt 80%\n",
    "\n",
    "health zonder observatie en daarna met...\n",
    "- healthSwitch: 86,34% > 83,9%\n",
    "- healthWire: 67,95% > 80,08%\n",
    "- healthLight: 85,75% > 83,39%"
   ]
  },
  {
   "cell_type": "markdown",
   "id": "23bc0161",
   "metadata": {},
   "source": [
    "### OPNIEUW DOEN indien health van light lager wordt"
   ]
  },
  {
   "cell_type": "markdown",
   "id": "dcce54bc",
   "metadata": {},
   "source": [
    "- healthSwitch: 85,92% > 83,89%\n",
    "- healthWire: 73,29% > 83,89%\n",
    "- healthLight: 81,94% > 79,52%"
   ]
  },
  {
   "cell_type": "code",
   "execution_count": null,
   "id": "b84dd6ab",
   "metadata": {},
   "outputs": [],
   "source": [
    "diagram.cpt(diagram.idFromName(\"healthWire\"))"
   ]
  },
  {
   "cell_type": "code",
   "execution_count": null,
   "id": "a1c73c84",
   "metadata": {},
   "outputs": [],
   "source": []
  },
  {
   "cell_type": "code",
   "execution_count": null,
   "id": "37cf0775",
   "metadata": {},
   "outputs": [],
   "source": []
  },
  {
   "cell_type": "code",
   "execution_count": null,
   "id": "def19adb",
   "metadata": {},
   "outputs": [],
   "source": []
  },
  {
   "cell_type": "markdown",
   "id": "90f52582",
   "metadata": {},
   "source": [
    "## overbodig geworden"
   ]
  },
  {
   "cell_type": "code",
   "execution_count": null,
   "id": "a22d0f54",
   "metadata": {
    "scrolled": false
   },
   "outputs": [],
   "source": [
    "printCptTables(diagram, oopn)"
   ]
  },
  {
   "cell_type": "code",
   "execution_count": null,
   "id": "66461c41",
   "metadata": {},
   "outputs": [],
   "source": [
    "diagram.cpt(diagram.idFromName(\"healthSwitch\"))[0] = 0.9\n",
    "diagram.cpt(diagram.idFromName(\"healthSwitch\"))[1] = 0.1\n",
    "diagram.cpt(diagram.idFromName(\"healthSwitch\"))\n",
    "diagram2.cpt(diagram2.idFromName(\"healthSwitch\"))[0] = 0.9\n",
    "diagram2.cpt(diagram2.idFromName(\"healthSwitch\"))[1] = 0.1\n",
    "diagram2.cpt(diagram2.idFromName(\"healthSwitch\"))"
   ]
  },
  {
   "cell_type": "code",
   "execution_count": null,
   "id": "79b0bfbb",
   "metadata": {},
   "outputs": [],
   "source": [
    "diagram2.cpt(diagram2.idFromName(\"PresentLightOutputsLightcopy\"))[{\"healthLight\":\"ok\", \"PresentPowerInputsLightcopy\":\"yes\"}] = [0.99, 0.01]      # yes, no\n",
    "diagram2.cpt(diagram2.idFromName(\"PresentLightOutputsLightcopy\"))[{\"healthLight\":\"broken\", \"PresentPowerInputsLightcopy\":\"yes\"}] = [0.01, 0.99]\n",
    "diagram2.cpt(diagram2.idFromName(\"PresentLightOutputsLightcopy\"))[{\"healthLight\":\"ok\", \"PresentPowerInputsLightcopy\":\"no\"}] = [0.01, 0.99]\n",
    "diagram2.cpt(diagram2.idFromName(\"PresentLightOutputsLightcopy\"))[{\"healthLight\":\"broken\", \"PresentPowerInputsLightcopy\":\"no\"}] = [0.01, 0.99]\n",
    "\n",
    "diagram2.cpt(diagram2.idFromName(\"PresentPowerOutputsSwitchcopy\"))[{\"PresentPowerInputsSwitchcopy\":\"yes\", \"healthSwitch\":\"ok\", \"EnabledStateInputsSwitch\":\"yes\"}] = [0.99, 0.01]\n",
    "diagram2.cpt(diagram2.idFromName(\"PresentPowerOutputsSwitchcopy\"))[{\"PresentPowerInputsSwitchcopy\":\"yes\", \"healthSwitch\":\"ok\", \"EnabledStateInputsSwitch\":\"no\"}] = [0.01, 0.99]\n",
    "diagram2.cpt(diagram2.idFromName(\"PresentPowerOutputsSwitchcopy\"))[{\"PresentPowerInputsSwitchcopy\":\"yes\", \"healthSwitch\":\"broken\", \"EnabledStateInputsSwitch\":\"yes\"}] = [0.01, 0.99]\n",
    "diagram2.cpt(diagram2.idFromName(\"PresentPowerOutputsSwitchcopy\"))[{\"PresentPowerInputsSwitchcopy\":\"yes\", \"healthSwitch\":\"broken\", \"EnabledStateInputsSwitch\":\"no\"}] = [0.01, 0.99]\n",
    "diagram2.cpt(diagram2.idFromName(\"PresentPowerOutputsSwitchcopy\"))[{\"PresentPowerInputsSwitchcopy\":\"no\", \"healthSwitch\":\"ok\", \"EnabledStateInputsSwitch\":\"yes\"}] = [0.01, 0.99]\n",
    "diagram2.cpt(diagram2.idFromName(\"PresentPowerOutputsSwitchcopy\"))[{\"PresentPowerInputsSwitchcopy\":\"no\", \"healthSwitch\":\"ok\", \"EnabledStateInputsSwitch\":\"no\"}] = [0.01, 0.99]\n",
    "diagram2.cpt(diagram2.idFromName(\"PresentPowerOutputsSwitchcopy\"))[{\"PresentPowerInputsSwitchcopy\":\"no\", \"healthSwitch\":\"broken\", \"EnabledStateInputsSwitch\":\"yes\"}] = [0.01, 0.99]\n",
    "diagram2.cpt(diagram2.idFromName(\"PresentPowerOutputsSwitchcopy\"))[{\"PresentPowerInputsSwitchcopy\":\"no\", \"healthSwitch\":\"broken\", \"EnabledStateInputsSwitch\":\"no\"}] = [0.01, 0.99]\n",
    "\n"
   ]
  },
  {
   "cell_type": "code",
   "execution_count": null,
   "id": "6ef07411",
   "metadata": {},
   "outputs": [],
   "source": [
    "'''\n",
    "# normaal gedrag\n",
    "a, b, c = \"yes\", \"yes\", \"yes\"\n",
    "dict = {\"PresentPowerInputsSwitch\":a, \"PresentLightOutputsLight\":b, \"PresentPowerInputsSwitchcopy\":c}\n",
    "diagram.utility(diagram.idFromName(\"utilT2\"))[dict] = 100\n",
    "\n",
    "a, b, c = \"no\", \"no\", \"no\"\n",
    "dict = {\"PresentPowerInputsSwitch\":a, \"PresentLightOutputsLight\":b, \"PresentPowerInputsSwitchcopy\":c}\n",
    "diagram.utility(diagram.idFromName(\"utilT2\"))[dict]  = 100\n",
    "\n",
    "# afwijkend gedrag\n",
    "a, b, c = \"yes\", \"no\", \"no\"\n",
    "dict = {\"PresentPowerInputsSwitch\":a, \"PresentLightOutputsLight\":b, \"PresentPowerInputsSwitchcopy\":c}\n",
    "diagram.utility(diagram.idFromName(\"utilT2\"))[dict]  = 90\n",
    "\n",
    "a, b, c = \"no\", \"yes\", \"yes\"\n",
    "dict = {\"PresentPowerInputsSwitch\":a, \"PresentLightOutputsLight\":b, \"PresentPowerInputsSwitchcopy\":c}\n",
    "diagram.utility(diagram.idFromName(\"utilT2\"))[dict]  = 90\n",
    "\n",
    "\n",
    "# levert geen extra info op dus onnodig\n",
    "a, b, c = \"yes\", \"no\", \"yes\"\n",
    "dict = {\"PresentPowerInputsSwitch\":a, \"PresentLightOutputsLight\":b, \"PresentPowerInputsSwitchcopy\":c}\n",
    "diagram.utility(diagram.idFromName(\"utilT2\"))[dict]  = 0\n",
    "\n",
    "a, b, c = \"no\", \"yes\", \"no\"\n",
    "dict = {\"PresentPowerInputsSwitch\":a, \"PresentLightOutputsLight\":b, \"PresentPowerInputsSwitchcopy\":c}\n",
    "diagram.utility(diagram.idFromName(\"utilT2\"))[dict]  = 0\n",
    "\n",
    "# bij normaal gedrag is switchen input niet nodig\n",
    "a, b, c = \"no\", \"no\", \"yes\"\n",
    "dict = {\"PresentPowerInputsSwitch\":a, \"PresentLightOutputsLight\":b, \"PresentPowerInputsSwitchcopy\":c}\n",
    "diagram.utility(diagram.idFromName(\"utilT2\"))[dict]  = 0\n",
    "\n",
    "a, b, c = \"yes\", \"yes\", \"no\"\n",
    "dict = {\"PresentPowerInputsSwitch\":a, \"PresentLightOutputsLight\":b, \"PresentPowerInputsSwitchcopy\":c}\n",
    "diagram.utility(diagram.idFromName(\"utilT2\"))[dict]  = 0\n",
    "'''"
   ]
  },
  {
   "cell_type": "code",
   "execution_count": null,
   "id": "bf71ca78",
   "metadata": {},
   "outputs": [],
   "source": [
    "gnb.flow.row(diagram2.cpt(diagram2.idFromName(\"PresentLightOutputsLightcopy\")), diagram2.cpt(diagram2.idFromName(\"PresentPowerInputsLightcopy\")), diagram2.cpt(diagram2.idFromName(\"PresentPowerOutputsSwitchcopy\")), diagram2.cpt(diagram2.idFromName(\"PresentPowerInputsSwitchcopy\")) )"
   ]
  },
  {
   "cell_type": "code",
   "execution_count": null,
   "id": "a66e342b",
   "metadata": {
    "scrolled": false
   },
   "outputs": [],
   "source": [
    "gnb.showInfluenceDiagram(diagram2, size=60)"
   ]
  },
  {
   "cell_type": "code",
   "execution_count": null,
   "id": "996e1d35",
   "metadata": {},
   "outputs": [],
   "source": [
    "diagram2.addArc(\"decT2\", \"PresentPowerInputsSwitchcopy\")"
   ]
  },
  {
   "cell_type": "code",
   "execution_count": null,
   "id": "20da5b12",
   "metadata": {},
   "outputs": [],
   "source": [
    "\n",
    "diagram2.utility(diagram.idFromName(\"utilT2\"))\n"
   ]
  },
  {
   "cell_type": "code",
   "execution_count": null,
   "id": "02526696",
   "metadata": {
    "scrolled": false
   },
   "outputs": [],
   "source": [
    "printCptTables(diagram2, oopn)"
   ]
  },
  {
   "cell_type": "code",
   "execution_count": null,
   "id": "f4b49d87",
   "metadata": {},
   "outputs": [],
   "source": [
    "evs = {    \n",
    "'PresentPowerInputsSwitch':0,\n",
    "'EnabledStateInputsSwitch':0,\n",
    "\n",
    "'PresentLightOutputsLight':1,\n",
    "#'PresentPowerInputsLight',\n",
    "#'healthLight',\n",
    "#'PresentPowerOutputsSwitch',\n",
    "#'healthSwitch',\n",
    "#'PresentLightOutputsLight1',\n",
    "#'PresentPowerInputsLight1':1,\n",
    "#'healthLight1',\n",
    "#'PresentPowerOutputsSwitch1',\n",
    "#'PresentPowerInputsSwitch1',\n",
    "#'EnabledStateInputsSwitch1',\n",
    "#'healthSwitch1',\n",
    "#'PresentLightOutputsLight2':1,\n",
    "#'PresentPowerInputsLight2',\n",
    "#'healthLight2',\n",
    "#'PresentPowerOutputsSwitch2',\n",
    "#'PresentPowerInputsSwitch2',\n",
    "#'EnabledStateInputsSwitch2',\n",
    "#'healthSwitch2',\n",
    "#'healthLight1',\n",
    "#'EnabledStateInputsSwitch2',\n",
    "#'healthSwitch2',\n",
    "#'healthLight2',\n",
    "}\n",
    "    \n"
   ]
  },
  {
   "cell_type": "code",
   "execution_count": null,
   "id": "02ab5d90",
   "metadata": {},
   "outputs": [],
   "source": [
    "evs2 = {    \n",
    "'PresentPowerInputsSwitch':0,\n",
    "'EnabledStateInputsSwitch':0,\n",
    "\n",
    "'PresentLightOutputsLight':1,\n",
    "#'PresentPowerInputsLight',\n",
    "#'healthLight',\n",
    "#'PresentPowerOutputsSwitch',\n",
    "#'healthSwitch',\n",
    "#'PresentLightOutputsLight1',\n",
    "#'PresentPowerInputsLight1':1,\n",
    "#'healthLight1',\n",
    "#'PresentPowerOutputsSwitch1',\n",
    "#'PresentPowerInputsSwitch1',\n",
    "#'EnabledStateInputsSwitch1',\n",
    "#'healthSwitch1',\n",
    "#'PresentLightOutputsLight2':1,\n",
    "#'PresentPowerInputsLight2',\n",
    "#'healthLight2',\n",
    "#'PresentPowerOutputsSwitch2',\n",
    "#'PresentPowerInputsSwitch2',\n",
    "#'EnabledStateInputsSwitch2',\n",
    "#'healthSwitch2',\n",
    "#'healthLight1',\n",
    "#'PresentLightOutputsLight1copy':0,\n",
    "#'PresentPowerInputsLight1copy':0,\n",
    "#'EnabledStateInputsSwitch2',\n",
    "#'healthSwitch2',\n",
    "#'PresentPowerOutputsSwitch2copy',\n",
    "'PresentPowerInputsSwitchcopy':1,\n",
    "#'healthLight2',\n",
    "'PresentLightOutputsLightcopy':0,\n",
    "#'PresentPowerInputsLight2copy':1\n",
    "}"
   ]
  },
  {
   "cell_type": "code",
   "execution_count": null,
   "id": "caaf2327",
   "metadata": {
    "scrolled": false
   },
   "outputs": [],
   "source": [
    "ie = gum.ShaferShenoyLIMIDInference(diagram) \n",
    "ie.setEvidence(evs)\n",
    "#ie.addNoForgettingAssumption([\"DecisionTestObserveHealthSwitch\",\"DecisionReplaceSwitch\", \"DecisionTestObserveHealthLight\", \"DecisionReplaceLight\"])\n",
    "gnb.sideBySide(gnb.getInference(diagram,engine=ie, evs=evs, size=200))"
   ]
  },
  {
   "cell_type": "code",
   "execution_count": null,
   "id": "e5ffea75",
   "metadata": {
    "scrolled": false
   },
   "outputs": [],
   "source": [
    "ie2 = gum.ShaferShenoyLIMIDInference(diagram2) \n",
    "ie2.setEvidence(evs2)\n",
    "#ie.addNoForgettingAssumption([\"DecisionTestObserveHealthSwitch\",\"DecisionReplaceSwitch\", \"DecisionTestObserveHealthLight\", \"DecisionReplaceLight\"])\n",
    "gnb.sideBySide(gnb.getInference(diagram2,engine=ie2, evs=evs2, size=200))"
   ]
  },
  {
   "cell_type": "code",
   "execution_count": null,
   "id": "7590a408",
   "metadata": {},
   "outputs": [],
   "source": []
  },
  {
   "cell_type": "code",
   "execution_count": null,
   "id": "48212e36",
   "metadata": {},
   "outputs": [],
   "source": []
  },
  {
   "cell_type": "code",
   "execution_count": null,
   "id": "df69da38",
   "metadata": {},
   "outputs": [],
   "source": []
  },
  {
   "cell_type": "code",
   "execution_count": null,
   "id": "e71955fe",
   "metadata": {},
   "outputs": [],
   "source": [
    "# visualiseren additionele DAG \n",
    "import matplotlib.pyplot as plt\n",
    "subax1 = plt.subplot()\n",
    "#nx.draw(G, with_labels=True, font_color='white', node_size=2000)\n",
    "nx.draw(G, font_color='white', node_size=500)"
   ]
  },
  {
   "cell_type": "code",
   "execution_count": null,
   "id": "9ac17f4f",
   "metadata": {},
   "outputs": [],
   "source": []
  },
  {
   "cell_type": "code",
   "execution_count": null,
   "id": "071164b8",
   "metadata": {},
   "outputs": [],
   "source": []
  },
  {
   "cell_type": "code",
   "execution_count": null,
   "id": "cc7c6c94",
   "metadata": {},
   "outputs": [],
   "source": []
  },
  {
   "cell_type": "code",
   "execution_count": null,
   "id": "8a359245",
   "metadata": {},
   "outputs": [],
   "source": []
  },
  {
   "cell_type": "code",
   "execution_count": null,
   "id": "18d4b12f",
   "metadata": {},
   "outputs": [],
   "source": []
  },
  {
   "cell_type": "code",
   "execution_count": null,
   "id": "1d4fa7d9",
   "metadata": {},
   "outputs": [],
   "source": [
    "# outputtest\n",
    "testutility = diagram.addUtilityNode(gum.LabelizedVariable(\"outputTest\", \"outputTest\", 1))\n",
    "testdecision = diagram.addDecisionNode(gum.LabelizedVariable(\"testdecision\", \"testdecisionl\", [\"yes\", \"no\"]))\n",
    "testoutcome = diagram.addChanceNode(gum.LabelizedVariable(\"testoutcome\", \"testoutcome\", [\"ok\", \"problem\", \"notdone\"]))\n",
    "diagram.addArc(diagram.idFromName(\"PresentLightOutputsLight\"), testutility)\n",
    "diagram.addArc(testdecision, testutility)\n",
    "diagram.addArc(testdecision, testoutcome)\n",
    "diagram.addArc(diagram.idFromName(\"healthWire\"), testoutcome)\n",
    "diagram.addArc(diagram.idFromName(\"healthSwitch\"), testoutcome)\n",
    "diagram.addArc(diagram.idFromName(\"healthLight\"), testoutcome)"
   ]
  },
  {
   "cell_type": "code",
   "execution_count": null,
   "id": "9d3f6331",
   "metadata": {
    "scrolled": false
   },
   "outputs": [],
   "source": [
    "printCptTables(diagram, oopn)"
   ]
  },
  {
   "cell_type": "code",
   "execution_count": null,
   "id": "80c291fd",
   "metadata": {
    "scrolled": false
   },
   "outputs": [],
   "source": [
    "printUtilityTables(diagram, oopn)"
   ]
  },
  {
   "cell_type": "code",
   "execution_count": null,
   "id": "24f82a0e",
   "metadata": {
    "scrolled": true
   },
   "outputs": [],
   "source": [
    "diagram.utility(\"outputTest\")[{\"testdecision\":\"yes\", \"PresentLightOutputsLight\":\"no\"}] = 4\n",
    "diagram.utility(\"outputTest\")[{\"testdecision\":\"no\", \"PresentLightOutputsLight\":\"no\"}] = 3\n",
    "diagram.utility(\"outputTest\")[{\"testdecision\":\"yes\", \"PresentLightOutputsLight\":\"yes\"}] = 2\n",
    "diagram.utility(\"outputTest\")[{\"testdecision\":\"no\", \"PresentLightOutputsLight\":\"yes\"}] = 1\n",
    "diagram.utility(\"outputTest\")"
   ]
  },
  {
   "cell_type": "code",
   "execution_count": null,
   "id": "60141985",
   "metadata": {},
   "outputs": [],
   "source": [
    "diagram.cpt(diagram.idFromName(\"testoutcome\"))[{\"healthLight\":\"ok\", \"healthSwitch\":\"ok\", \"healthWire\":\"ok\",\"testdecision\":\"yes\" }] = [0.98, 0.01, 0.01]\n",
    "diagram.cpt(diagram.idFromName(\"testoutcome\"))[{\"healthLight\":\"ok\", \"healthSwitch\":\"ok\", \"healthWire\":\"ok\",\"testdecision\":\"no\" }] = [0.01, 0.01, 0.98]\n",
    "diagram.cpt(diagram.idFromName(\"testoutcome\"))[{\"healthLight\":\"ok\", \"healthSwitch\":\"ok\", \"healthWire\":\"broken\",\"testdecision\":\"yes\" }] = [0.01, 0.98, 0.01]\n",
    "diagram.cpt(diagram.idFromName(\"testoutcome\"))[{\"healthLight\":\"ok\", \"healthSwitch\":\"ok\", \"healthWire\":\"broken\",\"testdecision\":\"no\" }] = [0.01, 0.01, 0.98]\n",
    "\n",
    "diagram.cpt(diagram.idFromName(\"testoutcome\"))[{\"healthLight\":\"ok\", \"healthSwitch\":\"broken\", \"healthWire\":\"ok\",\"testdecision\":\"yes\" }] = [0.01, 0.98, 0.01]\n",
    "diagram.cpt(diagram.idFromName(\"testoutcome\"))[{\"healthLight\":\"ok\", \"healthSwitch\":\"broken\", \"healthWire\":\"ok\",\"testdecision\":\"no\" }] = [0.01, 0.01, 0.98]\n",
    "diagram.cpt(diagram.idFromName(\"testoutcome\"))[{\"healthLight\":\"ok\", \"healthSwitch\":\"broken\", \"healthWire\":\"broken\",\"testdecision\":\"yes\" }] = [0.01, 0.98, 0.01]\n",
    "diagram.cpt(diagram.idFromName(\"testoutcome\"))[{\"healthLight\":\"ok\", \"healthSwitch\":\"broken\", \"healthWire\":\"broken\",\"testdecision\":\"no\" }] = [0.01, 0.01, 0.98]\n",
    "\n",
    "diagram.cpt(diagram.idFromName(\"testoutcome\"))[{\"healthLight\":\"broken\", \"healthSwitch\":\"ok\", \"healthWire\":\"ok\",\"testdecision\":\"yes\" }] = [0.01, 0.98, 0.01]\n",
    "diagram.cpt(diagram.idFromName(\"testoutcome\"))[{\"healthLight\":\"broken\", \"healthSwitch\":\"ok\", \"healthWire\":\"ok\",\"testdecision\":\"no\" }] = [0.01, 0.01, 0.98]\n",
    "diagram.cpt(diagram.idFromName(\"testoutcome\"))[{\"healthLight\":\"broken\", \"healthSwitch\":\"ok\", \"healthWire\":\"broken\",\"testdecision\":\"yes\" }] = [0.01, 0.98, 0.01]\n",
    "diagram.cpt(diagram.idFromName(\"testoutcome\"))[{\"healthLight\":\"broken\", \"healthSwitch\":\"ok\", \"healthWire\":\"broken\",\"testdecision\":\"no\" }] = [0.01, 0.01, 0.98]\n",
    "\n",
    "diagram.cpt(diagram.idFromName(\"testoutcome\"))[{\"healthLight\":\"broken\", \"healthSwitch\":\"broken\", \"healthWire\":\"ok\",\"testdecision\":\"yes\" }] = [0.01, 0.98, 0.01]\n",
    "diagram.cpt(diagram.idFromName(\"testoutcome\"))[{\"healthLight\":\"broken\", \"healthSwitch\":\"broken\", \"healthWire\":\"ok\",\"testdecision\":\"no\" }] = [0.01, 0.01, 0.98]\n",
    "diagram.cpt(diagram.idFromName(\"testoutcome\"))[{\"healthLight\":\"broken\", \"healthSwitch\":\"broken\", \"healthWire\":\"broken\",\"testdecision\":\"yes\" }] = [0.01, 0.98, 0.01]\n",
    "diagram.cpt(diagram.idFromName(\"testoutcome\"))[{\"healthLight\":\"broken\", \"healthSwitch\":\"broken\", \"healthWire\":\"broken\",\"testdecision\":\"no\" }] = [0.01, 0.01, 0.98]\n"
   ]
  },
  {
   "cell_type": "code",
   "execution_count": null,
   "id": "9f8136df",
   "metadata": {},
   "outputs": [],
   "source": [
    "diagram.cpt(diagram.idFromName(\"testoutcome\"))"
   ]
  },
  {
   "cell_type": "code",
   "execution_count": null,
   "id": "dc581453",
   "metadata": {},
   "outputs": [],
   "source": [
    "diagram.cpt.posterior(\"outputTest\")"
   ]
  },
  {
   "cell_type": "code",
   "execution_count": null,
   "id": "56fa902d",
   "metadata": {},
   "outputs": [],
   "source": [
    "ie.posteriorUtility(\"UtilityReplaceWire\")"
   ]
  },
  {
   "cell_type": "code",
   "execution_count": null,
   "id": "f379962e",
   "metadata": {},
   "outputs": [],
   "source": [
    "a = -5*.0087 + -2*.0013\n",
    "b = 0 + -4* .1238\n",
    "print(a+b)"
   ]
  },
  {
   "cell_type": "code",
   "execution_count": null,
   "id": "29a38b62",
   "metadata": {},
   "outputs": [],
   "source": []
  },
  {
   "cell_type": "code",
   "execution_count": null,
   "id": "f71f4465",
   "metadata": {},
   "outputs": [],
   "source": []
  },
  {
   "cell_type": "code",
   "execution_count": null,
   "id": "c9befd29",
   "metadata": {},
   "outputs": [],
   "source": [
    "gnb.showInfluenceDiagram(diagram, size=60)"
   ]
  },
  {
   "cell_type": "code",
   "execution_count": null,
   "id": "bbe48901",
   "metadata": {},
   "outputs": [],
   "source": [
    "from collections import defaultdict, deque\n",
    "\n",
    "# Class to represent a graph using adjacency list\n",
    "\n",
    "\n",
    "class Graph:\n",
    "    def __init__(self):\n",
    "        self.adjList = defaultdict(list)\n",
    "\n",
    "    # Function to add an edge to the graph\n",
    "    def addEdge(self, u, v):\n",
    "        self.adjList[u].append(v)\n",
    "\n",
    "    # Function to perform Breadth First Search on a graph represented using adjacency list\n",
    "    def bfs(self, startNode):\n",
    "        # Create a queue for BFS\n",
    "        queue = deque()\n",
    "        visited = [False] * (max(self.adjList.keys()) + 1)\n",
    "\n",
    "        # Mark the current node as visited and enqueue it\n",
    "        visited[startNode] = True\n",
    "        queue.append(startNode)\n",
    "\n",
    "        # Iterate over the queue\n",
    "        while queue:\n",
    "            # Dequeue a vertex from queue and print it\n",
    "            currentNode = queue.popleft()\n",
    "            print(currentNode, end=\" \")\n",
    "\n",
    "            # Get all adjacent vertices of the dequeued vertex currentNode\n",
    "            # If an adjacent has not been visited, then mark it visited and enqueue it\n",
    "            for neighbor in self.adjList[currentNode]:\n",
    "                if not visited[neighbor]:\n",
    "                    visited[neighbor] = True\n",
    "                    queue.append(neighbor)\n",
    "\n",
    "\n",
    "# Create a graph\n",
    "graph = Graph()\n",
    "\n",
    "# Add edges to the graph\n",
    "graph.addEdge(0, 1)\n",
    "graph.addEdge(0, 2)\n",
    "graph.addEdge(1, 3)\n",
    "graph.addEdge(1, 4)\n",
    "graph.addEdge(2, 4)\n",
    "\n",
    "# Perform BFS traversal starting from vertex 0\n",
    "print(\"Breadth First Traversal starting from vertex 0:\", end=\" \")\n",
    "graph.bfs(0)\n"
   ]
  },
  {
   "cell_type": "code",
   "execution_count": null,
   "id": "d16663bc",
   "metadata": {},
   "outputs": [],
   "source": [
    "import networkx as nx\n",
    "\n",
    "G = nx.DiGraph()\n",
    "G.add_nodes_from(range(100, 105))\n",
    "G.add_edges_from([(100, 101), (100, 103), (101,104), (103,102)])\n"
   ]
  },
  {
   "cell_type": "code",
   "execution_count": null,
   "id": "91b66549",
   "metadata": {},
   "outputs": [],
   "source": [
    "import matplotlib.pyplot as plt\n",
    "subax1 = plt.subplot()\n",
    "nx.draw(G, with_labels=True, font_weight='bold', font_color='white', node_size=1000)\n"
   ]
  },
  {
   "cell_type": "code",
   "execution_count": null,
   "id": "83d4656b",
   "metadata": {},
   "outputs": [],
   "source": [
    "nx.has_path(G, 100, 104)"
   ]
  },
  {
   "cell_type": "code",
   "execution_count": null,
   "id": "bff649f3",
   "metadata": {},
   "outputs": [],
   "source": [
    "nx.shortest_path(G, 100, 104)"
   ]
  },
  {
   "cell_type": "code",
   "execution_count": null,
   "id": "c28921fc",
   "metadata": {},
   "outputs": [],
   "source": [
    "nx.has_path(G, 100, 104)\n",
    "nx.shortest_path(G, 100, 104)"
   ]
  }
 ],
 "metadata": {
  "kernelspec": {
   "display_name": "Python 3 (ipykernel)",
   "language": "python",
   "name": "python3"
  },
  "language_info": {
   "codemirror_mode": {
    "name": "ipython",
    "version": 3
   },
   "file_extension": ".py",
   "mimetype": "text/x-python",
   "name": "python",
   "nbconvert_exporter": "python",
   "pygments_lexer": "ipython3",
   "version": "3.11.5"
  }
 },
 "nbformat": 4,
 "nbformat_minor": 5
}
