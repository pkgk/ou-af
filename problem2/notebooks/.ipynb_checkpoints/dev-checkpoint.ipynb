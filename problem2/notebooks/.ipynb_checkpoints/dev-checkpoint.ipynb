{
 "cells": [
  {
   "cell_type": "code",
   "execution_count": null,
   "id": "021ef090",
   "metadata": {},
   "outputs": [],
   "source": [
    "%load_ext autoreload\n",
    "%autoreload 2"
   ]
  },
  {
   "cell_type": "code",
   "execution_count": null,
   "id": "cbd55a1c",
   "metadata": {},
   "outputs": [],
   "source": [
    "import os\n",
    "import sys\n",
    "import re\n",
    "import pyAgrum as gum\n",
    "import pyAgrum.lib.notebook as gnb\n",
    "from IPython.display import display, HTML, clear_output, Image\n",
    "import pandas as pd\n",
    "from itertools import product\n",
    "import math\n",
    "from deepdiff import DeepDiff"
   ]
  },
  {
   "cell_type": "code",
   "execution_count": null,
   "id": "1a8a966f",
   "metadata": {},
   "outputs": [],
   "source": [
    "# Styling notebook\n",
    "def css_styling():\n",
    "    styles = open(\"./styles/custom.css\", \"r\").read()\n",
    "    return HTML(\"<style>\" + styles + \"</style\")\n",
    "\n",
    "css_styling()"
   ]
  },
  {
   "cell_type": "code",
   "execution_count": null,
   "id": "6bd00806",
   "metadata": {},
   "outputs": [],
   "source": [
    "sys.path.insert(1, \"/workspaces/ou-af/problem2/\")"
   ]
  },
  {
   "cell_type": "code",
   "execution_count": null,
   "id": "f678245d",
   "metadata": {},
   "outputs": [],
   "source": [
    "# import de code\n",
    "import src.oopnclasses as oopnclasses\n",
    "import src.oopnbuilder as oopnbuilder\n",
    "import src.diagrambuilder as diagrambuilder\n",
    "import src.testobservereplace as testchangeinput\n",
    "import src.testchangeinput as testobservereplace\n",
    "import specs.components as componentspecs\n",
    "import specs.connections as connectionspecs\n",
    "import specs.assemblies as assemblyspecs\n",
    "import specs.tests as testspecs"
   ]
  },
  {
   "cell_type": "code",
   "execution_count": null,
   "id": "2b940189",
   "metadata": {},
   "outputs": [],
   "source": [
    "def visualizeStructure(diagram):\n",
    "#    display(HTML(\"<style>.container { width:100% !important; }</style>\"))\n",
    "\n",
    "    # print summary of nodes\n",
    "    print(diagram)\n",
    "\n",
    "    # view structure\n",
    "    gnb.showInfluenceDiagram(diagram, size=60)\n",
    "    \n",
    "def createUtilityRow(nodelist):\n",
    "    row_elements = [diagram.utility(node) for node in nodelist]\n",
    "    gnb.flow.row(*row_elements)\n",
    "\n",
    "def createCptRow(nodelist):\n",
    "    row_elements = [diagram.cpt(node) for node in nodelist]\n",
    "    gnb.flow.row(*row_elements)\n",
    "\n",
    "def showCPTs(diagram):\n",
    "    nodes = diagram.nodes()\n",
    "    for n in nodes:\n",
    "        if(diagram.isChanceNode(n)):\n",
    "            gnb.flow.row(diagram.cpt(n))\n",
    "            \n",
    "def getDiagramChanceNodeIdsForComponent(componentname, diagram):\n",
    "    idlist = []\n",
    "    diagramNames = diagram.names()\n",
    "    for dname in diagramNames:\n",
    "        if(re.search(componentname + \"$\", dname)):\n",
    "            nodeid = diagram.idFromName(dname)\n",
    "            if (diagram.isChanceNode(nodeid)):\n",
    "                idlist.append(nodeid)\n",
    "    return idlist\n",
    "    \n",
    "\n",
    "def printCptTables(diagram, system):\n",
    "    for component in system.getComponents():\n",
    "        print(\"CPT tables for component: \" + component.getName())\n",
    "        createCptRow(getDiagramChanceNodeIdsForComponent(component.getName(), diagram))\n",
    "        \n",
    "def getDiagramUtilityNodeIdsForComponent(componentname, diagram):\n",
    "    idlist = []\n",
    "    diagramNames = diagram.names()\n",
    "    for dname in diagramNames:\n",
    "        if(re.search(componentname + \"$\", dname)):\n",
    "            nodeid = diagram.idFromName(dname)\n",
    "            if (diagram.isUtilityNode(nodeid)):\n",
    "                idlist.append(nodeid)\n",
    "    return idlist\n",
    "    \n",
    "\n",
    "def printUtilityTables(diagram, system):\n",
    "    for component in system.getComponents():\n",
    "        print(\"Utility tables for component: \" + component.getName())\n",
    "        createUtilityRow(getDiagramUtilityNodeIdsForComponent(component.getName(), diagram))"
   ]
  },
  {
   "cell_type": "markdown",
   "id": "fde6390e",
   "metadata": {},
   "source": [
    "## Type 2 test:\n",
    "- voorbeeld systeem met meerdere switches (0, 1, 2), meerdere lampjes (0, 1, 2) en meerdere wires (0, 1, 2, 3, 4, 5)\n",
    "- voor een deel van de keten zijn er 2 sets aan evidence bijvoorbeeld EnabledStateInputsSwitch:0 / PresentLightOutputsLight2 en EnabledStateInputsSwitch:1 / PresentLightOutputsLight2\n",
    "    - eis is dat startpunt van de keten een input is en eindpunt een outputnode\n",
    "    - van een keten in het systeem zijn het beginpunt en het eindpunt bekend, niet de tussenliggende nodes, die moeten dan berekend worden\n",
    "- indien 2 sets aan evidence worden geconstateerd is dat signaal dat de test is uitgevoerd en dan gaan we terug naar informatiemodel\n",
    "- mbv informatiemodel berekenen we pad van begin tot einde van de keten via shortest pad methode \n",
    "  - wat als er meerdere paden zijn?\n",
    "- het pad wordt gekopieerd en toegevoegd aan het diagram\n",
    "  - alleen de nodes die in het pad zitten worden gekopieerd naar een nieuw component\n",
    "    - output nodes worden dan altijd gekopieerd\n",
    "  - nodes niet in het pad maar wel in te kopieren component worden hergebruikt uit het originele systeem\n",
    "    - health nodes worden altijd hergebruikt\n",
    "  - output van een gekopieerde component wordt verbonden met de health van de oorspronkelijke component\n",
    "  - een connectienode wordt verbonden met de health van de connectie (todo)\n",
    "\n",
    "- het extra pad wordt vastgehouden zodat bij inference de extra evidence aan dit pad kan worden verbonden\n",
    "\n"
   ]
  },
  {
   "cell_type": "code",
   "execution_count": null,
   "id": "d8357075",
   "metadata": {},
   "outputs": [],
   "source": []
  },
  {
   "cell_type": "code",
   "execution_count": null,
   "id": "da20cf43",
   "metadata": {},
   "outputs": [],
   "source": [
    "# gather specs for a system\n",
    "# system = light + replacedecision + test\n",
    "components = [componentspecs.light, componentspecs.switch]\n",
    "connections = [connectionspecs.wire, connectionspecs.wire2]\n",
    "tests = [testspecs.observeorreplacetest, testspecs.changeinputtest]\n",
    "assembly = {\n",
    "    \"components\"  : components,\n",
    "    \"connections\" : connections,\n",
    "    \"structure\"   : assemblyspecs.structure3,   # light, switch, wire but multiple times\n",
    "    \"tests\"       : tests,\n",
    "    \"testmapping\" : testspecs.testmapping11     # 1 test type 2\n",
    "}"
   ]
  },
  {
   "cell_type": "code",
   "execution_count": null,
   "id": "5f31297d",
   "metadata": {},
   "outputs": [],
   "source": [
    "# fill information model with network classes based on descriptions\n",
    "oopn = oopnbuilder.OopnBuilder(assembly).getOopn()"
   ]
  },
  {
   "cell_type": "markdown",
   "id": "3ae389e3",
   "metadata": {},
   "source": [
    "### mbv informatiemodel pad van de keten afleiden\n",
    "- opbouwen parallele networkx directed graph met nodes en connecties van informatiemodel\n",
    "- in de graph pad bepalen\n",
    "- nodes van de keten bewaren\n",
    "\n",
    "#### algoritme toevoegen keten\n",
    "\n",
    "- bepaal componenten die geraakt worden en welke nodes er in het pad zitten\n",
    "- bepaal kopie component\n",
    "  - welke nodes komen van het origineel?\n",
    "  - welke nodes moeten gemaakt worden obv specs voor een component\n",
    "- maak kopie component"
   ]
  },
  {
   "cell_type": "code",
   "execution_count": null,
   "id": "9911ba6c",
   "metadata": {},
   "outputs": [],
   "source": [
    "oopn.copyPathType2Test('PresentPowerInputsSwitch', 'PresentLightOutputsLight2')"
   ]
  },
  {
   "cell_type": "code",
   "execution_count": null,
   "id": "a2d4662e",
   "metadata": {},
   "outputs": [],
   "source": [
    "# create diagram object\n",
    "diagram = gum.InfluenceDiagram()"
   ]
  },
  {
   "cell_type": "code",
   "execution_count": null,
   "id": "7a3c51e1",
   "metadata": {},
   "outputs": [],
   "source": [
    "diagram = diagrambuilder.diagramBuilder(diagram, oopn)"
   ]
  },
  {
   "cell_type": "code",
   "execution_count": null,
   "id": "403e2fe0",
   "metadata": {},
   "outputs": [],
   "source": [
    "gnb.showInfluenceDiagram(diagram, size=60)"
   ]
  },
  {
   "cell_type": "code",
   "execution_count": null,
   "id": "180b5d6c",
   "metadata": {},
   "outputs": [],
   "source": []
  },
  {
   "cell_type": "code",
   "execution_count": null,
   "id": "02ab5d90",
   "metadata": {},
   "outputs": [],
   "source": []
  },
  {
   "cell_type": "code",
   "execution_count": null,
   "id": "e71955fe",
   "metadata": {},
   "outputs": [],
   "source": [
    "# visualiseren additionele DAG \n",
    "import matplotlib.pyplot as plt\n",
    "subax1 = plt.subplot()\n",
    "#nx.draw(G, with_labels=True, font_color='white', node_size=2000)\n",
    "nx.draw(G, font_color='white', node_size=500)"
   ]
  },
  {
   "cell_type": "code",
   "execution_count": null,
   "id": "e5ffea75",
   "metadata": {},
   "outputs": [],
   "source": []
  },
  {
   "cell_type": "code",
   "execution_count": null,
   "id": "7590a408",
   "metadata": {},
   "outputs": [],
   "source": []
  },
  {
   "cell_type": "code",
   "execution_count": null,
   "id": "48212e36",
   "metadata": {},
   "outputs": [],
   "source": []
  },
  {
   "cell_type": "code",
   "execution_count": null,
   "id": "df69da38",
   "metadata": {},
   "outputs": [],
   "source": []
  },
  {
   "cell_type": "code",
   "execution_count": null,
   "id": "9ac17f4f",
   "metadata": {},
   "outputs": [],
   "source": []
  },
  {
   "cell_type": "code",
   "execution_count": null,
   "id": "071164b8",
   "metadata": {},
   "outputs": [],
   "source": []
  },
  {
   "cell_type": "code",
   "execution_count": null,
   "id": "cc7c6c94",
   "metadata": {},
   "outputs": [],
   "source": []
  },
  {
   "cell_type": "code",
   "execution_count": null,
   "id": "8a359245",
   "metadata": {},
   "outputs": [],
   "source": []
  },
  {
   "cell_type": "code",
   "execution_count": null,
   "id": "18d4b12f",
   "metadata": {},
   "outputs": [],
   "source": []
  },
  {
   "cell_type": "code",
   "execution_count": null,
   "id": "1d4fa7d9",
   "metadata": {},
   "outputs": [],
   "source": [
    "# outputtest\n",
    "testutility = diagram.addUtilityNode(gum.LabelizedVariable(\"outputTest\", \"outputTest\", 1))\n",
    "testdecision = diagram.addDecisionNode(gum.LabelizedVariable(\"testdecision\", \"testdecisionl\", [\"yes\", \"no\"]))\n",
    "testoutcome = diagram.addChanceNode(gum.LabelizedVariable(\"testoutcome\", \"testoutcome\", [\"ok\", \"problem\", \"notdone\"]))\n",
    "diagram.addArc(diagram.idFromName(\"PresentLightOutputsLight\"), testutility)\n",
    "diagram.addArc(testdecision, testutility)\n",
    "diagram.addArc(testdecision, testoutcome)\n",
    "diagram.addArc(diagram.idFromName(\"healthWire\"), testoutcome)\n",
    "diagram.addArc(diagram.idFromName(\"healthSwitch\"), testoutcome)\n",
    "diagram.addArc(diagram.idFromName(\"healthLight\"), testoutcome)"
   ]
  },
  {
   "cell_type": "code",
   "execution_count": null,
   "id": "9d3f6331",
   "metadata": {
    "scrolled": false
   },
   "outputs": [],
   "source": [
    "printCptTables(diagram, oopn)"
   ]
  },
  {
   "cell_type": "code",
   "execution_count": null,
   "id": "80c291fd",
   "metadata": {
    "scrolled": false
   },
   "outputs": [],
   "source": [
    "printUtilityTables(diagram, oopn)"
   ]
  },
  {
   "cell_type": "code",
   "execution_count": null,
   "id": "f4b49d87",
   "metadata": {},
   "outputs": [],
   "source": [
    "evs = {\n",
    "'PresentLightOutputsLight':1,\n",
    "#'testoutcome':0\n",
    "\n",
    "#'PresentPowerInputsLight':1,\n",
    "\n",
    "#'PresentPowerOutputsSwitch':0,\n",
    "#'PresentPowerInputsSwitch':1,\n",
    "#'EnabledStateInputsSwitch':0,\n",
    "\n",
    "# 'DecisionReplaceLight':,\n",
    "# 'DecisionReplaceSwitch':,\n",
    "# 'DecisionTestObserveHealthLight':,\n",
    "# 'DecisionTestObserveHealthSwitch':,\n",
    "\n",
    "# 'TestOutcomeTestObserveHealthLight':,\n",
    "# 'TestOutcomeTestObserveHealthSwitch':,\n",
    "# 'UtilityReplaceLight':,\n",
    "# 'UtilityReplaceSwitch':,\n",
    "# 'UtilityTestObserveHealthLight':,\n",
    "# 'UtilityTestObserveHealthSwitch':,\n",
    "# 'healthLight':,\n",
    "# 'healthSwitch':,\n",
    "# 'healthWire':\n",
    "}\n"
   ]
  },
  {
   "cell_type": "code",
   "execution_count": null,
   "id": "caaf2327",
   "metadata": {},
   "outputs": [],
   "source": [
    "ie = gum.ShaferShenoyLIMIDInference(diagram) \n",
    "ie.setEvidence(evs)\n",
    "#ie.addNoForgettingAssumption([\"DecisionTestObserveHealthSwitch\",\"DecisionReplaceSwitch\", \"DecisionTestObserveHealthLight\", \"DecisionReplaceLight\"])\n",
    "gnb.sideBySide(gnb.getInference(diagram,engine=ie, evs=evs, size=200))"
   ]
  },
  {
   "cell_type": "code",
   "execution_count": null,
   "id": "24f82a0e",
   "metadata": {
    "scrolled": true
   },
   "outputs": [],
   "source": [
    "diagram.utility(\"outputTest\")[{\"testdecision\":\"yes\", \"PresentLightOutputsLight\":\"no\"}] = 4\n",
    "diagram.utility(\"outputTest\")[{\"testdecision\":\"no\", \"PresentLightOutputsLight\":\"no\"}] = 3\n",
    "diagram.utility(\"outputTest\")[{\"testdecision\":\"yes\", \"PresentLightOutputsLight\":\"yes\"}] = 2\n",
    "diagram.utility(\"outputTest\")[{\"testdecision\":\"no\", \"PresentLightOutputsLight\":\"yes\"}] = 1\n",
    "diagram.utility(\"outputTest\")"
   ]
  },
  {
   "cell_type": "code",
   "execution_count": null,
   "id": "60141985",
   "metadata": {},
   "outputs": [],
   "source": [
    "diagram.cpt(diagram.idFromName(\"testoutcome\"))[{\"healthLight\":\"ok\", \"healthSwitch\":\"ok\", \"healthWire\":\"ok\",\"testdecision\":\"yes\" }] = [0.98, 0.01, 0.01]\n",
    "diagram.cpt(diagram.idFromName(\"testoutcome\"))[{\"healthLight\":\"ok\", \"healthSwitch\":\"ok\", \"healthWire\":\"ok\",\"testdecision\":\"no\" }] = [0.01, 0.01, 0.98]\n",
    "diagram.cpt(diagram.idFromName(\"testoutcome\"))[{\"healthLight\":\"ok\", \"healthSwitch\":\"ok\", \"healthWire\":\"broken\",\"testdecision\":\"yes\" }] = [0.01, 0.98, 0.01]\n",
    "diagram.cpt(diagram.idFromName(\"testoutcome\"))[{\"healthLight\":\"ok\", \"healthSwitch\":\"ok\", \"healthWire\":\"broken\",\"testdecision\":\"no\" }] = [0.01, 0.01, 0.98]\n",
    "\n",
    "diagram.cpt(diagram.idFromName(\"testoutcome\"))[{\"healthLight\":\"ok\", \"healthSwitch\":\"broken\", \"healthWire\":\"ok\",\"testdecision\":\"yes\" }] = [0.01, 0.98, 0.01]\n",
    "diagram.cpt(diagram.idFromName(\"testoutcome\"))[{\"healthLight\":\"ok\", \"healthSwitch\":\"broken\", \"healthWire\":\"ok\",\"testdecision\":\"no\" }] = [0.01, 0.01, 0.98]\n",
    "diagram.cpt(diagram.idFromName(\"testoutcome\"))[{\"healthLight\":\"ok\", \"healthSwitch\":\"broken\", \"healthWire\":\"broken\",\"testdecision\":\"yes\" }] = [0.01, 0.98, 0.01]\n",
    "diagram.cpt(diagram.idFromName(\"testoutcome\"))[{\"healthLight\":\"ok\", \"healthSwitch\":\"broken\", \"healthWire\":\"broken\",\"testdecision\":\"no\" }] = [0.01, 0.01, 0.98]\n",
    "\n",
    "diagram.cpt(diagram.idFromName(\"testoutcome\"))[{\"healthLight\":\"broken\", \"healthSwitch\":\"ok\", \"healthWire\":\"ok\",\"testdecision\":\"yes\" }] = [0.01, 0.98, 0.01]\n",
    "diagram.cpt(diagram.idFromName(\"testoutcome\"))[{\"healthLight\":\"broken\", \"healthSwitch\":\"ok\", \"healthWire\":\"ok\",\"testdecision\":\"no\" }] = [0.01, 0.01, 0.98]\n",
    "diagram.cpt(diagram.idFromName(\"testoutcome\"))[{\"healthLight\":\"broken\", \"healthSwitch\":\"ok\", \"healthWire\":\"broken\",\"testdecision\":\"yes\" }] = [0.01, 0.98, 0.01]\n",
    "diagram.cpt(diagram.idFromName(\"testoutcome\"))[{\"healthLight\":\"broken\", \"healthSwitch\":\"ok\", \"healthWire\":\"broken\",\"testdecision\":\"no\" }] = [0.01, 0.01, 0.98]\n",
    "\n",
    "diagram.cpt(diagram.idFromName(\"testoutcome\"))[{\"healthLight\":\"broken\", \"healthSwitch\":\"broken\", \"healthWire\":\"ok\",\"testdecision\":\"yes\" }] = [0.01, 0.98, 0.01]\n",
    "diagram.cpt(diagram.idFromName(\"testoutcome\"))[{\"healthLight\":\"broken\", \"healthSwitch\":\"broken\", \"healthWire\":\"ok\",\"testdecision\":\"no\" }] = [0.01, 0.01, 0.98]\n",
    "diagram.cpt(diagram.idFromName(\"testoutcome\"))[{\"healthLight\":\"broken\", \"healthSwitch\":\"broken\", \"healthWire\":\"broken\",\"testdecision\":\"yes\" }] = [0.01, 0.98, 0.01]\n",
    "diagram.cpt(diagram.idFromName(\"testoutcome\"))[{\"healthLight\":\"broken\", \"healthSwitch\":\"broken\", \"healthWire\":\"broken\",\"testdecision\":\"no\" }] = [0.01, 0.01, 0.98]\n"
   ]
  },
  {
   "cell_type": "code",
   "execution_count": null,
   "id": "9f8136df",
   "metadata": {},
   "outputs": [],
   "source": [
    "diagram.cpt(diagram.idFromName(\"testoutcome\"))"
   ]
  },
  {
   "cell_type": "code",
   "execution_count": null,
   "id": "dc581453",
   "metadata": {},
   "outputs": [],
   "source": [
    "diagram.cpt.posterior(\"outputTest\")"
   ]
  },
  {
   "cell_type": "code",
   "execution_count": null,
   "id": "56fa902d",
   "metadata": {},
   "outputs": [],
   "source": [
    "ie.posteriorUtility(\"UtilityReplaceWire\")"
   ]
  },
  {
   "cell_type": "code",
   "execution_count": null,
   "id": "f379962e",
   "metadata": {},
   "outputs": [],
   "source": [
    "a = -5*.0087 + -2*.0013\n",
    "b = 0 + -4* .1238\n",
    "print(a+b)"
   ]
  },
  {
   "cell_type": "code",
   "execution_count": null,
   "id": "29a38b62",
   "metadata": {},
   "outputs": [],
   "source": []
  },
  {
   "cell_type": "code",
   "execution_count": null,
   "id": "f71f4465",
   "metadata": {},
   "outputs": [],
   "source": []
  },
  {
   "cell_type": "code",
   "execution_count": null,
   "id": "c9befd29",
   "metadata": {},
   "outputs": [],
   "source": [
    "gnb.showInfluenceDiagram(diagram, size=60)"
   ]
  },
  {
   "cell_type": "code",
   "execution_count": null,
   "id": "bbe48901",
   "metadata": {},
   "outputs": [],
   "source": [
    "from collections import defaultdict, deque\n",
    "\n",
    "# Class to represent a graph using adjacency list\n",
    "\n",
    "\n",
    "class Graph:\n",
    "    def __init__(self):\n",
    "        self.adjList = defaultdict(list)\n",
    "\n",
    "    # Function to add an edge to the graph\n",
    "    def addEdge(self, u, v):\n",
    "        self.adjList[u].append(v)\n",
    "\n",
    "    # Function to perform Breadth First Search on a graph represented using adjacency list\n",
    "    def bfs(self, startNode):\n",
    "        # Create a queue for BFS\n",
    "        queue = deque()\n",
    "        visited = [False] * (max(self.adjList.keys()) + 1)\n",
    "\n",
    "        # Mark the current node as visited and enqueue it\n",
    "        visited[startNode] = True\n",
    "        queue.append(startNode)\n",
    "\n",
    "        # Iterate over the queue\n",
    "        while queue:\n",
    "            # Dequeue a vertex from queue and print it\n",
    "            currentNode = queue.popleft()\n",
    "            print(currentNode, end=\" \")\n",
    "\n",
    "            # Get all adjacent vertices of the dequeued vertex currentNode\n",
    "            # If an adjacent has not been visited, then mark it visited and enqueue it\n",
    "            for neighbor in self.adjList[currentNode]:\n",
    "                if not visited[neighbor]:\n",
    "                    visited[neighbor] = True\n",
    "                    queue.append(neighbor)\n",
    "\n",
    "\n",
    "# Create a graph\n",
    "graph = Graph()\n",
    "\n",
    "# Add edges to the graph\n",
    "graph.addEdge(0, 1)\n",
    "graph.addEdge(0, 2)\n",
    "graph.addEdge(1, 3)\n",
    "graph.addEdge(1, 4)\n",
    "graph.addEdge(2, 4)\n",
    "\n",
    "# Perform BFS traversal starting from vertex 0\n",
    "print(\"Breadth First Traversal starting from vertex 0:\", end=\" \")\n",
    "graph.bfs(0)\n"
   ]
  },
  {
   "cell_type": "code",
   "execution_count": null,
   "id": "d16663bc",
   "metadata": {},
   "outputs": [],
   "source": [
    "import networkx as nx\n",
    "\n",
    "G = nx.DiGraph()\n",
    "G.add_nodes_from(range(100, 105))\n",
    "G.add_edges_from([(100, 101), (100, 103), (101,104), (103,102)])\n"
   ]
  },
  {
   "cell_type": "code",
   "execution_count": null,
   "id": "91b66549",
   "metadata": {},
   "outputs": [],
   "source": [
    "import matplotlib.pyplot as plt\n",
    "subax1 = plt.subplot()\n",
    "nx.draw(G, with_labels=True, font_weight='bold', font_color='white', node_size=1000)\n"
   ]
  },
  {
   "cell_type": "code",
   "execution_count": null,
   "id": "83d4656b",
   "metadata": {},
   "outputs": [],
   "source": [
    "nx.has_path(G, 100, 104)"
   ]
  },
  {
   "cell_type": "code",
   "execution_count": null,
   "id": "bff649f3",
   "metadata": {},
   "outputs": [],
   "source": [
    "nx.shortest_path(G, 100, 104)"
   ]
  },
  {
   "cell_type": "code",
   "execution_count": null,
   "id": "c28921fc",
   "metadata": {},
   "outputs": [],
   "source": [
    "nx.has_path(G, 100, 104)\n",
    "nx.shortest_path(G, 100, 104)"
   ]
  }
 ],
 "metadata": {
  "kernelspec": {
   "display_name": "Python 3 (ipykernel)",
   "language": "python",
   "name": "python3"
  },
  "language_info": {
   "codemirror_mode": {
    "name": "ipython",
    "version": 3
   },
   "file_extension": ".py",
   "mimetype": "text/x-python",
   "name": "python",
   "nbconvert_exporter": "python",
   "pygments_lexer": "ipython3",
   "version": "3.11.5"
  }
 },
 "nbformat": 4,
 "nbformat_minor": 5
}
