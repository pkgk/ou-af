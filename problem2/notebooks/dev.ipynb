{
 "cells": [
  {
   "cell_type": "code",
   "execution_count": 150,
   "id": "021ef090",
   "metadata": {},
   "outputs": [
    {
     "name": "stdout",
     "output_type": "stream",
     "text": [
      "The autoreload extension is already loaded. To reload it, use:\n",
      "  %reload_ext autoreload\n"
     ]
    }
   ],
   "source": [
    "%load_ext autoreload\n",
    "%autoreload 2"
   ]
  },
  {
   "cell_type": "code",
   "execution_count": 151,
   "id": "cbd55a1c",
   "metadata": {},
   "outputs": [],
   "source": [
    "import os\n",
    "import sys\n",
    "import re\n",
    "import pyAgrum as gum\n",
    "import pyAgrum.lib.notebook as gnb\n",
    "from IPython.display import display, HTML, clear_output, Image\n",
    "import pandas as pd\n",
    "from itertools import product\n",
    "import math\n",
    "from deepdiff import DeepDiff"
   ]
  },
  {
   "cell_type": "code",
   "execution_count": 152,
   "id": "1a8a966f",
   "metadata": {},
   "outputs": [
    {
     "data": {
      "text/html": [
       "<style>/* https://skelouse.github.io/styling_a_jupyter_notebook */\n",
       "\n",
       ".container { \n",
       "    width:90% !important; \n",
       "}\n",
       "\n",
       ".blockquote {\n",
       "  border: 1.5px solid #333;\n",
       "  padding: 8px 12px;\n",
       "  background-image: linear-gradient(180deg, #fff, rgb(160, 147, 147));\n",
       "  position: static;\n",
       "}\n",
       "\n",
       ".img {\n",
       "    display: inline-block;\n",
       "    align: left;\n",
       "    margin-left: auto;\n",
       "    margin-right: auto;\n",
       "    width: 75%;\n",
       "}\n",
       "\n",
       ".mycomment {\n",
       "    color: red;\n",
       "}\n",
       "</style"
      ],
      "text/plain": [
       "<IPython.core.display.HTML object>"
      ]
     },
     "execution_count": 152,
     "metadata": {},
     "output_type": "execute_result"
    }
   ],
   "source": [
    "# Styling notebook\n",
    "def css_styling():\n",
    "    styles = open(\"./styles/custom.css\", \"r\").read()\n",
    "    return HTML(\"<style>\" + styles + \"</style\")\n",
    "\n",
    "css_styling()"
   ]
  },
  {
   "cell_type": "code",
   "execution_count": 153,
   "id": "6bd00806",
   "metadata": {},
   "outputs": [],
   "source": [
    "sys.path.insert(1, \"/workspaces/ou-af/problem2/\")"
   ]
  },
  {
   "cell_type": "code",
   "execution_count": 154,
   "id": "f678245d",
   "metadata": {},
   "outputs": [],
   "source": [
    "# import de code\n",
    "import src.oopnclasses as oopnclasses\n",
    "import src.oopnbuilder as oopnbuilder\n",
    "import src.diagrambuilder as diagrambuilder\n",
    "import specs.components as componentspecs\n",
    "import specs.connections as connectionspecs\n",
    "import specs.assemblies as assemblyspecs\n",
    "import specs.tests as testspecs"
   ]
  },
  {
   "cell_type": "code",
   "execution_count": 155,
   "id": "2b940189",
   "metadata": {},
   "outputs": [],
   "source": [
    "def visualizeStructure(diagram):\n",
    "#    display(HTML(\"<style>.container { width:100% !important; }</style>\"))\n",
    "\n",
    "    # print summary of nodes\n",
    "    print(diagram)\n",
    "\n",
    "    # view structure\n",
    "    gnb.showInfluenceDiagram(diagram, size=60)\n",
    "    \n",
    "def createUtilityRow(nodelist):\n",
    "    row_elements = [diagram.utility(node) for node in nodelist]\n",
    "    gnb.flow.row(*row_elements)\n",
    "\n",
    "def createCptRow(nodelist):\n",
    "    row_elements = [diagram.cpt(node) for node in nodelist]\n",
    "    gnb.flow.row(*row_elements)\n",
    "\n",
    "def showCPTs(diagram):\n",
    "    nodes = diagram.nodes()\n",
    "    for n in nodes:\n",
    "        if(diagram.isChanceNode(n)):\n",
    "            gnb.flow.row(diagram.cpt(n))\n",
    "            \n",
    "def getDiagramChanceNodeIdsForComponent(componentname, diagram):\n",
    "    idlist = []\n",
    "    diagramNames = diagram.names()\n",
    "    for dname in diagramNames:\n",
    "        if(re.search(componentname + \"$\", dname)):\n",
    "            nodeid = diagram.idFromName(dname)\n",
    "            if (diagram.isChanceNode(nodeid)):\n",
    "                idlist.append(nodeid)\n",
    "    return idlist\n",
    "    \n",
    "\n",
    "def printCptTables(diagram, system):\n",
    "    for component in system.getComponents():\n",
    "        print(\"CPT tables for component: \" + component.getName())\n",
    "        createCptRow(getDiagramChanceNodeIdsForComponent(component.getName(), diagram))\n",
    "        \n",
    "def getDiagramUtilityNodeIdsForComponent(componentname, diagram):\n",
    "    idlist = []\n",
    "    diagramNames = diagram.names()\n",
    "    for dname in diagramNames:\n",
    "        if(re.search(componentname + \"$\", dname)):\n",
    "            nodeid = diagram.idFromName(dname)\n",
    "            if (diagram.isUtilityNode(nodeid)):\n",
    "                idlist.append(nodeid)\n",
    "    return idlist\n",
    "    \n",
    "\n",
    "def printUtilityTables(diagram, system):\n",
    "    for component in system.getComponents():\n",
    "        print(\"Utility tables for component: \" + component.getName())\n",
    "        createUtilityRow(getDiagramUtilityNodeIdsForComponent(component.getName(), diagram))"
   ]
  },
  {
   "cell_type": "code",
   "execution_count": 156,
   "id": "da20cf43",
   "metadata": {},
   "outputs": [],
   "source": [
    "# gather specs for a system\n",
    "# system = light + replacedecision + test\n",
    "components = [componentspecs.light, componentspecs.switch]\n",
    "connections = [connectionspecs.wire, connectionspecs.wire2]\n",
    "tests = [testspecs.observeorreplacetest]\n",
    "assembly = {\n",
    "    \"components\"  : components,\n",
    "    \"connections\" : connections,\n",
    "    \"structure\"   : assemblyspecs.structure1,   #light, switch, wire\n",
    "    \"tests\"       : tests,\n",
    "    \"testmapping\" : testspecs.testmapping1\n",
    "}"
   ]
  },
  {
   "cell_type": "code",
   "execution_count": 157,
   "id": "5f31297d",
   "metadata": {},
   "outputs": [
    {
     "name": "stdout",
     "output_type": "stream",
     "text": [
      "star building system: structure1\n",
      "number of components: 2\n",
      "number of connections: 1\n",
      "{0: {'healthLight': 'ok', 'DecisionObserveOrReplaceTestLight': 'no', 'TestOutcomeObserveOrReplaceTestLight': 'notdone'}, 1: {'healthLight': 'ok', 'DecisionObserveOrReplaceTestLight': 'yes', 'TestOutcomeObserveOrReplaceTestLight': 'ok'}, 2: {'healthLight': 'broken', 'DecisionObserveOrReplaceTestLight': 'no', 'TestOutcomeObserveOrReplaceTestLight': 'notdone'}, 3: {'healthLight': 'broken', 'DecisionObserveOrReplaceTestLight': 'yes', 'TestOutcomeObserveOrReplaceTestLight': 'broken'}}\n",
      "\n",
      "             ||  TestOutcomeObserveOrReplace|\n",
      "Decisi|health||ok       |broken   |notdone  |\n",
      "------|------||---------|---------|---------|\n",
      "yes   |ok    || 0.9800  | 0.0100  | 0.0100  |\n",
      "no    |ok    || 0.0100  | 0.0100  | 0.9800  |\n",
      "yes   |broken|| 0.0100  | 0.9800  | 0.0100  |\n",
      "no    |broken|| 0.0100  | 0.0100  | 0.9800  |\n",
      "\n",
      "<class 'pyAgrum.pyAgrum.Instantiation'>\n",
      "<class 'pyAgrum.pyAgrum.Instantiation'>\n",
      "<class 'pyAgrum.pyAgrum.Instantiation'>\n",
      "<class 'pyAgrum.pyAgrum.Instantiation'>\n",
      "number of tests: 1\n"
     ]
    }
   ],
   "source": [
    "oopn = oopnbuilder.OopnBuilder(assembly).getOopn()\n"
   ]
  },
  {
   "cell_type": "code",
   "execution_count": 158,
   "id": "a2d4662e",
   "metadata": {},
   "outputs": [],
   "source": [
    "# create diagram object\n",
    "diagram = gum.InfluenceDiagram()"
   ]
  },
  {
   "cell_type": "code",
   "execution_count": 159,
   "id": "7a3c51e1",
   "metadata": {},
   "outputs": [
    {
     "name": "stdout",
     "output_type": "stream",
     "text": [
      "adding component: Light\n",
      "adding component: Switch\n",
      "adding connection between: PresentPowerOutputsSwitch and: PresentPowerInputsLight\n",
      "adding cpt for component: Light\n",
      "adding cpt for component: Switch\n",
      "adding cpt for connection: Wire\n",
      "adding test: ObserveOrReplaceTest\n",
      "adding node: DecisionObserveOrReplaceTestLight\n",
      "adding node: UtilityObserveOrReplaceTestLight\n",
      "adding node: TestOutcomeObserveOrReplaceTestLight\n",
      "adding node: DecisionReplaceLight\n",
      "adding node: UtilityReplaceLight\n",
      "add edge from: DecisionObserveOrReplaceTestLight to: UtilityObserveOrReplaceTestLight\n",
      "add edge from: DecisionObserveOrReplaceTestLight to: TestOutcomeObserveOrReplaceTestLight\n",
      "add edge from: TestOutcomeObserveOrReplaceTestLight to: DecisionReplaceLight\n",
      "add edge from: DecisionReplaceLight to: UtilityReplaceLight\n",
      "add edge from: healthLight to: TestOutcomeObserveOrReplaceTestLight\n",
      "add edge from: healthLight to: UtilityReplaceLight\n",
      "adding utility to: UtilityObserveOrReplaceTestLight\n",
      "adding cpt to: TestOutcomeObserveOrReplaceTestLight\n",
      "adding utility to: UtilityReplaceLight\n"
     ]
    }
   ],
   "source": [
    "diagram = diagrambuilder.diagramBuilder(diagram, oopn)"
   ]
  },
  {
   "cell_type": "code",
   "execution_count": null,
   "id": "6511d3c0",
   "metadata": {},
   "outputs": [],
   "source": []
  },
  {
   "cell_type": "code",
   "execution_count": 160,
   "id": "403e2fe0",
   "metadata": {},
   "outputs": [
    {
     "data": {
      "image/svg+xml": [
       "<svg xmlns=\"http://www.w3.org/2000/svg\" xmlns:xlink=\"http://www.w3.org/1999/xlink\" width=\"1704pt\" height=\"435pt\" viewBox=\"0.00 0.00 1703.89 434.75\">\n",
       "<g id=\"graph0\" class=\"graph\" transform=\"scale(1 1) rotate(0) translate(4 430.75)\">\n",
       "<title>G</title>\n",
       "<!-- PresentLightOutputsLight -->\n",
       "<g id=\"node1\" class=\"node\">\n",
       "<title>PresentLightOutputsLight</title>\n",
       "<ellipse fill=\"#808080\" stroke=\"black\" cx=\"595.79\" cy=\"-172.04\" rx=\"143.59\" ry=\"20.51\"/>\n",
       "<text text-anchor=\"middle\" x=\"595.79\" y=\"-168.34\" font-family=\"Times,serif\" font-size=\"14.00\" fill=\"white\">PresentLightOutputsLight</text>\n",
       "</g>\n",
       "<!-- PresentPowerInputsLight -->\n",
       "<g id=\"node2\" class=\"node\">\n",
       "<title>PresentPowerInputsLight</title>\n",
       "<ellipse fill=\"#808080\" stroke=\"black\" cx=\"578.79\" cy=\"-252.22\" rx=\"140.01\" ry=\"20.51\"/>\n",
       "<text text-anchor=\"middle\" x=\"578.79\" y=\"-248.52\" font-family=\"Times,serif\" font-size=\"14.00\" fill=\"white\">PresentPowerInputsLight</text>\n",
       "</g>\n",
       "<!-- PresentPowerInputsLight&#45;&gt;PresentLightOutputsLight -->\n",
       "<g id=\"edge1\" class=\"edge\">\n",
       "<title>PresentPowerInputsLight-&gt;PresentLightOutputsLight</title>\n",
       "<path fill=\"none\" stroke=\"#4a4a4a\" d=\"M583.08,-231.49C584.97,-222.79 587.23,-212.37 589.32,-202.76\"/>\n",
       "<polygon fill=\"#4a4a4a\" stroke=\"#4a4a4a\" points=\"592.79,-203.27 591.5,-192.76 585.95,-201.79 592.79,-203.27\"/>\n",
       "</g>\n",
       "<!-- healthLight -->\n",
       "<g id=\"node3\" class=\"node\">\n",
       "<title>healthLight</title>\n",
       "<ellipse fill=\"#808080\" stroke=\"black\" cx=\"805.79\" cy=\"-252.22\" rx=\"68.68\" ry=\"20.51\"/>\n",
       "<text text-anchor=\"middle\" x=\"805.79\" y=\"-248.52\" font-family=\"Times,serif\" font-size=\"14.00\" fill=\"white\">healthLight</text>\n",
       "</g>\n",
       "<!-- healthLight&#45;&gt;PresentLightOutputsLight -->\n",
       "<g id=\"edge2\" class=\"edge\">\n",
       "<title>healthLight-&gt;PresentLightOutputsLight</title>\n",
       "<path fill=\"none\" stroke=\"#4a4a4a\" d=\"M764.3,-235.77C732.94,-224.1 689.48,-207.92 654.54,-194.91\"/>\n",
       "<polygon fill=\"#4a4a4a\" stroke=\"#4a4a4a\" points=\"655.53,-191.54 644.94,-191.33 653.09,-198.1 655.53,-191.54\"/>\n",
       "</g>\n",
       "<!-- TestOutcomeObserveOrReplaceTestLight -->\n",
       "<g id=\"node9\" class=\"node\">\n",
       "<title>TestOutcomeObserveOrReplaceTestLight</title>\n",
       "<ellipse fill=\"#808080\" stroke=\"black\" cx=\"1032.79\" cy=\"-172.04\" rx=\"218.49\" ry=\"20.51\"/>\n",
       "<text text-anchor=\"middle\" x=\"1032.79\" y=\"-168.34\" font-family=\"Times,serif\" font-size=\"14.00\" fill=\"white\">TestOutcomeObserveOrReplaceTestLight</text>\n",
       "</g>\n",
       "<!-- healthLight&#45;&gt;TestOutcomeObserveOrReplaceTestLight -->\n",
       "<g id=\"edge3\" class=\"edge\">\n",
       "<title>healthLight-&gt;TestOutcomeObserveOrReplaceTestLight</title>\n",
       "<path fill=\"none\" stroke=\"#4a4a4a\" d=\"M849.28,-236.24C882.99,-224.63 930.21,-208.37 968.3,-195.24\"/>\n",
       "<polygon fill=\"#4a4a4a\" stroke=\"#4a4a4a\" points=\"969.46,-198.55 977.78,-191.98 967.18,-191.93 969.46,-198.55\"/>\n",
       "</g>\n",
       "<!-- UtilityReplaceLight -->\n",
       "<g id=\"node13\" class=\"node\">\n",
       "<title>UtilityReplaceLight</title>\n",
       "<polygon fill=\"#50508a\" stroke=\"black\" points=\"968.77,-23.68 905.78,-47.54 779.79,-47.54 716.8,-23.68 779.79,0.18 905.78,0.18 968.77,-23.68\"/>\n",
       "<text text-anchor=\"middle\" x=\"842.79\" y=\"-19.98\" font-family=\"Times,serif\" font-size=\"14.00\" fill=\"white\">UtilityReplaceLight</text>\n",
       "</g>\n",
       "<!-- healthLight&#45;&gt;UtilityReplaceLight -->\n",
       "<g id=\"edge4\" class=\"edge\">\n",
       "<title>healthLight-&gt;UtilityReplaceLight</title>\n",
       "<path fill=\"none\" stroke=\"#4a4a4a\" stroke-dasharray=\"5,2\" d=\"M804.09,-231.38C802.71,-210.57 801.6,-176.98 805.79,-148.36 810.44,-116.59 821.47,-81.64 830.28,-57.03\"/>\n",
       "<polygon fill=\"#4a4a4a\" stroke=\"#4a4a4a\" points=\"833.63,-58.07 833.78,-47.47 827.06,-55.66 833.63,-58.07\"/>\n",
       "</g>\n",
       "<!-- PresentPowerOutputsSwitch -->\n",
       "<g id=\"node4\" class=\"node\">\n",
       "<title>PresentPowerOutputsSwitch</title>\n",
       "<ellipse fill=\"#808080\" stroke=\"black\" cx=\"458.79\" cy=\"-329.23\" rx=\"156.04\" ry=\"20.51\"/>\n",
       "<text text-anchor=\"middle\" x=\"458.79\" y=\"-325.53\" font-family=\"Times,serif\" font-size=\"14.00\" fill=\"white\">PresentPowerOutputsSwitch</text>\n",
       "</g>\n",
       "<!-- PresentPowerOutputsSwitch&#45;&gt;PresentPowerInputsLight -->\n",
       "<g id=\"edge5\" class=\"edge\">\n",
       "<title>PresentPowerOutputsSwitch-&gt;PresentPowerInputsLight</title>\n",
       "<path fill=\"none\" stroke=\"#4a4a4a\" d=\"M489.38,-309.11C504.61,-299.59 523.2,-287.96 539.48,-277.79\"/>\n",
       "<polygon fill=\"#4a4a4a\" stroke=\"#4a4a4a\" points=\"541.63,-280.58 548.25,-272.31 537.91,-274.64 541.63,-280.58\"/>\n",
       "</g>\n",
       "<!-- PresentPowerInputsSwitch -->\n",
       "<g id=\"node5\" class=\"node\">\n",
       "<title>PresentPowerInputsSwitch</title>\n",
       "<ellipse fill=\"#808080\" stroke=\"black\" cx=\"147.79\" cy=\"-406.24\" rx=\"147.57\" ry=\"20.51\"/>\n",
       "<text text-anchor=\"middle\" x=\"147.79\" y=\"-402.54\" font-family=\"Times,serif\" font-size=\"14.00\" fill=\"white\">PresentPowerInputsSwitch</text>\n",
       "</g>\n",
       "<!-- PresentPowerInputsSwitch&#45;&gt;PresentPowerOutputsSwitch -->\n",
       "<g id=\"edge6\" class=\"edge\">\n",
       "<title>PresentPowerInputsSwitch-&gt;PresentPowerOutputsSwitch</title>\n",
       "<path fill=\"none\" stroke=\"#4a4a4a\" d=\"M218.36,-388.22C265.55,-376.84 327.81,-361.82 377.14,-349.92\"/>\n",
       "<polygon fill=\"#4a4a4a\" stroke=\"#4a4a4a\" points=\"378.25,-353.26 387.15,-347.51 376.61,-346.45 378.25,-353.26\"/>\n",
       "</g>\n",
       "<!-- EnabledStateInputsSwitch -->\n",
       "<g id=\"node6\" class=\"node\">\n",
       "<title>EnabledStateInputsSwitch</title>\n",
       "<ellipse fill=\"#808080\" stroke=\"black\" cx=\"458.79\" cy=\"-406.24\" rx=\"145.83\" ry=\"20.51\"/>\n",
       "<text text-anchor=\"middle\" x=\"458.79\" y=\"-402.54\" font-family=\"Times,serif\" font-size=\"14.00\" fill=\"white\">EnabledStateInputsSwitch</text>\n",
       "</g>\n",
       "<!-- EnabledStateInputsSwitch&#45;&gt;PresentPowerOutputsSwitch -->\n",
       "<g id=\"edge7\" class=\"edge\">\n",
       "<title>EnabledStateInputsSwitch-&gt;PresentPowerOutputsSwitch</title>\n",
       "<path fill=\"none\" stroke=\"#4a4a4a\" d=\"M458.79,-385.54C458.79,-377.7 458.79,-368.51 458.79,-359.9\"/>\n",
       "<polygon fill=\"#4a4a4a\" stroke=\"#4a4a4a\" points=\"462.29,-359.81 458.79,-349.81 455.29,-359.81 462.29,-359.81\"/>\n",
       "</g>\n",
       "<!-- healthSwitch -->\n",
       "<g id=\"node7\" class=\"node\">\n",
       "<title>healthSwitch</title>\n",
       "<ellipse fill=\"#808080\" stroke=\"black\" cx=\"698.79\" cy=\"-406.24\" rx=\"76.24\" ry=\"20.51\"/>\n",
       "<text text-anchor=\"middle\" x=\"698.79\" y=\"-402.54\" font-family=\"Times,serif\" font-size=\"14.00\" fill=\"white\">healthSwitch</text>\n",
       "</g>\n",
       "<!-- healthSwitch&#45;&gt;PresentPowerOutputsSwitch -->\n",
       "<g id=\"edge8\" class=\"edge\">\n",
       "<title>healthSwitch-&gt;PresentPowerOutputsSwitch</title>\n",
       "<path fill=\"none\" stroke=\"#4a4a4a\" d=\"M650.79,-390.24C615.16,-379.11 566.07,-363.77 526.46,-351.38\"/>\n",
       "<polygon fill=\"#4a4a4a\" stroke=\"#4a4a4a\" points=\"527.45,-348.03 516.86,-348.38 525.36,-354.71 527.45,-348.03\"/>\n",
       "</g>\n",
       "<!-- healthWire -->\n",
       "<g id=\"node8\" class=\"node\">\n",
       "<title>healthWire</title>\n",
       "<ellipse fill=\"#808080\" stroke=\"black\" cx=\"698.79\" cy=\"-329.23\" rx=\"65.52\" ry=\"20.51\"/>\n",
       "<text text-anchor=\"middle\" x=\"698.79\" y=\"-325.53\" font-family=\"Times,serif\" font-size=\"14.00\" fill=\"white\">healthWire</text>\n",
       "</g>\n",
       "<!-- healthWire&#45;&gt;PresentPowerInputsLight -->\n",
       "<g id=\"edge9\" class=\"edge\">\n",
       "<title>healthWire-&gt;PresentPowerInputsLight</title>\n",
       "<path fill=\"none\" stroke=\"#4a4a4a\" d=\"M670.65,-310.64C654.96,-300.84 635.17,-288.47 617.98,-277.72\"/>\n",
       "<polygon fill=\"#4a4a4a\" stroke=\"#4a4a4a\" points=\"619.6,-274.61 609.27,-272.27 615.89,-280.54 619.6,-274.61\"/>\n",
       "</g>\n",
       "<!-- DecisionReplaceLight -->\n",
       "<g id=\"node11\" class=\"node\">\n",
       "<title>DecisionReplaceLight</title>\n",
       "<polygon fill=\"#9a5050\" stroke=\"black\" points=\"1050.29,-112.36 881.29,-112.36 881.29,-83.36 1050.29,-83.36 1050.29,-112.36\"/>\n",
       "<text text-anchor=\"middle\" x=\"965.79\" y=\"-94.16\" font-family=\"Times,serif\" font-size=\"14.00\" fill=\"white\">DecisionReplaceLight</text>\n",
       "</g>\n",
       "<!-- TestOutcomeObserveOrReplaceTestLight&#45;&gt;DecisionReplaceLight -->\n",
       "<g id=\"edge12\" class=\"edge\">\n",
       "<title>TestOutcomeObserveOrReplaceTestLight-&gt;DecisionReplaceLight</title>\n",
       "<polygon fill=\"#4a4a4a\" stroke=\"transparent\" stroke-width=\"2\" stroke-dasharray=\"1,5\" points=\"1015.21,-150.63 1013.8,-149.19 1012.37,-147.71 1010.92,-146.22 1009.44,-144.7 1007.95,-143.17 1006.44,-141.62 1004.92,-140.05 1003.39,-138.48 1001.85,-136.9 1000.31,-135.32 998.77,-133.73 997.23,-132.15 995.69,-130.57 994.17,-128.99 992.65,-127.43 991.14,-125.88 989.65,-124.35 988.18,-122.84 986.72,-121.34 985.29,-119.87 985.29,-119.87 986.65,-121.41 988.03,-122.97 989.44,-124.55 990.85,-126.15 992.29,-127.77 993.73,-129.4 995.19,-131.04 996.65,-132.69 998.11,-134.34 999.58,-136 1001.04,-137.65 1002.5,-139.3 1003.96,-140.95 1005.41,-142.58 1006.84,-144.2 1008.26,-145.8 1009.66,-147.38 1011.05,-148.95 1012.41,-150.48 1013.74,-151.99 1015.21,-150.63\"/>\n",
       "<polygon fill=\"#4a4a4a\" stroke=\"#4a4a4a\" stroke-width=\"2\" points=\"987.72,-117.34 978.35,-112.39 982.59,-122.1 987.72,-117.34\"/>\n",
       "</g>\n",
       "<!-- DecisionObserveOrReplaceTestLight -->\n",
       "<g id=\"node10\" class=\"node\">\n",
       "<title>DecisionObserveOrReplaceTestLight</title>\n",
       "<polygon fill=\"#9a5050\" stroke=\"black\" points=\"1384.79,-266.72 1108.79,-266.72 1108.79,-237.72 1384.79,-237.72 1384.79,-266.72\"/>\n",
       "<text text-anchor=\"middle\" x=\"1246.79\" y=\"-248.52\" font-family=\"Times,serif\" font-size=\"14.00\" fill=\"white\">DecisionObserveOrReplaceTestLight</text>\n",
       "</g>\n",
       "<!-- DecisionObserveOrReplaceTestLight&#45;&gt;TestOutcomeObserveOrReplaceTestLight -->\n",
       "<g id=\"edge11\" class=\"edge\">\n",
       "<title>DecisionObserveOrReplaceTestLight-&gt;TestOutcomeObserveOrReplaceTestLight</title>\n",
       "<path fill=\"none\" stroke=\"#4a4a4a\" d=\"M1209.51,-237.6C1177.85,-226.03 1131.77,-209.2 1094.6,-195.62\"/>\n",
       "<polygon fill=\"#4a4a4a\" stroke=\"#4a4a4a\" points=\"1095.46,-192.21 1084.86,-192.06 1093.05,-198.78 1095.46,-192.21\"/>\n",
       "</g>\n",
       "<!-- UtilityObserveOrReplaceTestLight -->\n",
       "<g id=\"node12\" class=\"node\">\n",
       "<title>UtilityObserveOrReplaceTestLight</title>\n",
       "<polygon fill=\"#50508a\" stroke=\"black\" points=\"1696,-172.04 1589.39,-195.89 1376.18,-195.89 1269.57,-172.04 1376.18,-148.18 1589.39,-148.18 1696,-172.04\"/>\n",
       "<text text-anchor=\"middle\" x=\"1482.79\" y=\"-168.34\" font-family=\"Times,serif\" font-size=\"14.00\" fill=\"white\">UtilityObserveOrReplaceTestLight</text>\n",
       "</g>\n",
       "<!-- DecisionObserveOrReplaceTestLight&#45;&gt;UtilityObserveOrReplaceTestLight -->\n",
       "<g id=\"edge10\" class=\"edge\">\n",
       "<title>DecisionObserveOrReplaceTestLight-&gt;UtilityObserveOrReplaceTestLight</title>\n",
       "<path fill=\"none\" stroke=\"#4a4a4a\" stroke-dasharray=\"5,2\" d=\"M1287.62,-237.69C1319.73,-227.05 1365.41,-211.92 1404.51,-198.97\"/>\n",
       "<polygon fill=\"#4a4a4a\" stroke=\"#4a4a4a\" points=\"1405.9,-202.19 1414.29,-195.73 1403.7,-195.55 1405.9,-202.19\"/>\n",
       "</g>\n",
       "<!-- DecisionReplaceLight&#45;&gt;UtilityReplaceLight -->\n",
       "<g id=\"edge13\" class=\"edge\">\n",
       "<title>DecisionReplaceLight-&gt;UtilityReplaceLight</title>\n",
       "<path fill=\"none\" stroke=\"#4a4a4a\" stroke-dasharray=\"5,2\" d=\"M942.65,-83.28C927.94,-74.65 908.35,-63.15 890.42,-52.63\"/>\n",
       "<polygon fill=\"#4a4a4a\" stroke=\"#4a4a4a\" points=\"892.18,-49.6 881.78,-47.56 888.63,-55.64 892.18,-49.6\"/>\n",
       "</g>\n",
       "</g>\n",
       "</svg>"
      ],
      "text/plain": [
       "<IPython.core.display.SVG object>"
      ]
     },
     "metadata": {},
     "output_type": "display_data"
    }
   ],
   "source": [
    "gnb.showInfluenceDiagram(diagram, size=60)"
   ]
  },
  {
   "cell_type": "code",
   "execution_count": 161,
   "id": "9d3f6331",
   "metadata": {
    "scrolled": true
   },
   "outputs": [
    {
     "data": {
      "text/html": [
       "<table style=\"border:1px solid black;\">\n",
       "<tr style='border:1px solid black;color:black;background-color:#808080'>\n",
       "      <th colspan='2'><center>healthLight</center></th></tr>\n",
       "<tr><th style='border:1px solid black;border-bottom-style: double;color:black;background-color:#BBBBBB'>\n",
       "      <center>ok</center></th><th style='border:1px solid black;border-bottom-style: double;color:black;background-color:#BBBBBB'>\n",
       "      <center>broken</center></th></tr>\n",
       "<tr><td style='color:black;background-color:#80fd64;text-align:right;'>0.9900</td><td style='color:black;background-color:#fd8064;text-align:right;'>0.0100</td></tr>\n",
       "</table>"
      ],
      "text/plain": [
       "(pyAgrum.Potential<double>@0x40b80490) \n",
       "  healthLight      |\n",
       "ok       |broken   |\n",
       "---------|---------|\n",
       " 0.9900  | 0.0100  |"
      ]
     },
     "execution_count": 161,
     "metadata": {},
     "output_type": "execute_result"
    }
   ],
   "source": [
    "diagram.cpt(diagram.idFromName(\"healthLight\"))"
   ]
  },
  {
   "cell_type": "code",
   "execution_count": 162,
   "id": "5e252957",
   "metadata": {},
   "outputs": [
    {
     "data": {
      "text/html": [
       "<table style=\"border:1px solid black;\">\n",
       "<tr><th colspan='2'></th>\n",
       "      <th colspan='1' style='border:1px solid black;color:black;background-color:#808080;'><center>UtilityReplaceLight</center>\n",
       "      </th></tr>\n",
       "<tr><th style='border:1px solid black;color:black;background-color:#808080'><center>healthLight</center></th><th style='border:1px solid black;color:black;background-color:#808080'><center>DecisionReplaceLight</center></th><th style='border:1px solid black;border-bottom-style: double;color:black;background-color:#BBBBBB'>\n",
       "      <center>0</center></th></tr>\n",
       "<tr><th style='border:1px solid black;color:black;background-color:#BBBBBB;' rowspan = '2'>\n",
       "            <center>ok</center></th><th style='border:1px solid black;color:black;background-color:#BBBBBB'><center>yes</center></th><td style='text-align:right;'>-5.0000</td></tr>\n",
       "<tr><th style='border:1px solid black;color:black;background-color:#BBBBBB'><center>no</center></th><td style='text-align:right;'>0.0000</td></tr>\n",
       "<tr><th style='border:1px solid black;color:black;background-color:#BBBBBB;' rowspan = '2'>\n",
       "            <center>broken</center></th><th style='border:1px solid black;color:black;background-color:#BBBBBB'><center>yes</center></th><td style='text-align:right;'>-2.0000</td></tr>\n",
       "<tr><th style='border:1px solid black;color:black;background-color:#BBBBBB'><center>no</center></th><td style='text-align:right;'>-4.0000</td></tr>\n",
       "</table>"
      ],
      "text/plain": [
       "(pyAgrum.Potential<double>@0x402acb60) \n",
       "             ||  Utility|\n",
       "Decisi|health||0        |\n",
       "------|------||---------|\n",
       "yes   |ok    || -5.0000 |\n",
       "no    |ok    || 0.0000  |\n",
       "yes   |broken|| -2.0000 |\n",
       "no    |broken|| -4.0000 |"
      ]
     },
     "execution_count": 162,
     "metadata": {},
     "output_type": "execute_result"
    }
   ],
   "source": [
    "diagram.utility(\"UtilityReplaceLight\")"
   ]
  },
  {
   "cell_type": "code",
   "execution_count": null,
   "id": "1e8abfa2",
   "metadata": {},
   "outputs": [],
   "source": []
  },
  {
   "cell_type": "code",
   "execution_count": null,
   "id": "6f06f456",
   "metadata": {},
   "outputs": [],
   "source": []
  }
 ],
 "metadata": {
  "kernelspec": {
   "display_name": "Python 3 (ipykernel)",
   "language": "python",
   "name": "python3"
  },
  "language_info": {
   "codemirror_mode": {
    "name": "ipython",
    "version": 3
   },
   "file_extension": ".py",
   "mimetype": "text/x-python",
   "name": "python",
   "nbconvert_exporter": "python",
   "pygments_lexer": "ipython3",
   "version": "3.11.5"
  }
 },
 "nbformat": 4,
 "nbformat_minor": 5
}
