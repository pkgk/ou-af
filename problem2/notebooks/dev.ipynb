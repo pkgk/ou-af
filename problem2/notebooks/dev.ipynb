{
 "cells": [
  {
   "cell_type": "code",
   "execution_count": 1,
   "id": "021ef090",
   "metadata": {},
   "outputs": [],
   "source": [
    "%load_ext autoreload\n",
    "%autoreload 2"
   ]
  },
  {
   "cell_type": "code",
   "execution_count": 20,
   "id": "cbd55a1c",
   "metadata": {},
   "outputs": [],
   "source": [
    "import os\n",
    "import sys\n",
    "import re\n",
    "import pyAgrum as gum\n",
    "import pyAgrum.lib.notebook as gnb\n",
    "from IPython.display import display, HTML, clear_output, Image\n",
    "import pandas as pd\n",
    "from itertools import product\n",
    "import math\n",
    "from deepdiff import DeepDiff"
   ]
  },
  {
   "cell_type": "code",
   "execution_count": 21,
   "id": "1a8a966f",
   "metadata": {},
   "outputs": [
    {
     "data": {
      "text/html": [
       "<style>/* https://skelouse.github.io/styling_a_jupyter_notebook */\n",
       "\n",
       ".container { \n",
       "    width:90% !important; \n",
       "}\n",
       "\n",
       ".blockquote {\n",
       "  border: 1.5px solid #333;\n",
       "  padding: 8px 12px;\n",
       "  background-image: linear-gradient(180deg, #fff, rgb(160, 147, 147));\n",
       "  position: static;\n",
       "}\n",
       "\n",
       ".img {\n",
       "    display: inline-block;\n",
       "    align: left;\n",
       "    margin-left: auto;\n",
       "    margin-right: auto;\n",
       "    width: 75%;\n",
       "}\n",
       "\n",
       ".mycomment {\n",
       "    color: red;\n",
       "}\n",
       "</style"
      ],
      "text/plain": [
       "<IPython.core.display.HTML object>"
      ]
     },
     "execution_count": 21,
     "metadata": {},
     "output_type": "execute_result"
    }
   ],
   "source": [
    "# Styling notebook\n",
    "def css_styling():\n",
    "    styles = open(\"./styles/custom.css\", \"r\").read()\n",
    "    return HTML(\"<style>\" + styles + \"</style\")\n",
    "\n",
    "css_styling()"
   ]
  },
  {
   "cell_type": "code",
   "execution_count": 22,
   "id": "6bd00806",
   "metadata": {},
   "outputs": [],
   "source": [
    "sys.path.insert(1, \"/workspaces/ou-af/problem2/\")"
   ]
  },
  {
   "cell_type": "code",
   "execution_count": 23,
   "id": "f678245d",
   "metadata": {},
   "outputs": [],
   "source": [
    "# import de code\n",
    "import src.oopnclasses as oopnclasses\n",
    "import src.oopnbuilder as oopnbuilder\n",
    "import src.diagrambuilder as diagrambuilder\n",
    "import specs.components as componentspecs\n",
    "import specs.connections as connectionspecs\n",
    "import specs.assemblies as assemblyspecs\n",
    "import specs.tests as testspecs"
   ]
  },
  {
   "cell_type": "code",
   "execution_count": 24,
   "id": "2b940189",
   "metadata": {},
   "outputs": [],
   "source": [
    "def visualizeStructure(diagram):\n",
    "#    display(HTML(\"<style>.container { width:100% !important; }</style>\"))\n",
    "\n",
    "    # print summary of nodes\n",
    "    print(diagram)\n",
    "\n",
    "    # view structure\n",
    "    gnb.showInfluenceDiagram(diagram, size=60)\n",
    "    \n",
    "def createUtilityRow(nodelist):\n",
    "    row_elements = [diagram.utility(node) for node in nodelist]\n",
    "    gnb.flow.row(*row_elements)\n",
    "\n",
    "def createCptRow(nodelist):\n",
    "    row_elements = [diagram.cpt(node) for node in nodelist]\n",
    "    gnb.flow.row(*row_elements)\n",
    "\n",
    "def showCPTs(diagram):\n",
    "    nodes = diagram.nodes()\n",
    "    for n in nodes:\n",
    "        if(diagram.isChanceNode(n)):\n",
    "            gnb.flow.row(diagram.cpt(n))\n",
    "            \n",
    "def getDiagramChanceNodeIdsForComponent(componentname, diagram):\n",
    "    idlist = []\n",
    "    diagramNames = diagram.names()\n",
    "    for dname in diagramNames:\n",
    "        if(re.search(componentname + \"$\", dname)):\n",
    "            nodeid = diagram.idFromName(dname)\n",
    "            if (diagram.isChanceNode(nodeid)):\n",
    "                idlist.append(nodeid)\n",
    "    return idlist\n",
    "    \n",
    "\n",
    "def printCptTables(diagram, system):\n",
    "    for component in system.getComponents():\n",
    "        print(\"CPT tables for component: \" + component.getName())\n",
    "        createCptRow(getDiagramChanceNodeIdsForComponent(component.getName(), diagram))\n",
    "        \n",
    "def getDiagramUtilityNodeIdsForComponent(componentname, diagram):\n",
    "    idlist = []\n",
    "    diagramNames = diagram.names()\n",
    "    for dname in diagramNames:\n",
    "        if(re.search(componentname + \"$\", dname)):\n",
    "            nodeid = diagram.idFromName(dname)\n",
    "            if (diagram.isUtilityNode(nodeid)):\n",
    "                idlist.append(nodeid)\n",
    "    return idlist\n",
    "    \n",
    "\n",
    "def printUtilityTables(diagram, system):\n",
    "    for component in system.getComponents():\n",
    "        print(\"Utility tables for component: \" + component.getName())\n",
    "        createUtilityRow(getDiagramUtilityNodeIdsForComponent(component.getName(), diagram))"
   ]
  },
  {
   "cell_type": "code",
   "execution_count": 36,
   "id": "da20cf43",
   "metadata": {},
   "outputs": [],
   "source": [
    "# gather specs for a system\n",
    "# system = light + replacedecision + test\n",
    "components = [componentspecs.light, componentspecs.switch]\n",
    "connections = [connectionspecs.wire, connectionspecs.wire2]\n",
    "tests = [testspecs.testObserveHealth]\n",
    "assembly = {\n",
    "    \"components\"  : components,\n",
    "    \"connections\" : connections,\n",
    "    \"structure\"   : assemblyspecs.structure1,   #light, switch, wire\n",
    "    \"tests\"       : tests,\n",
    "    \"testmapping\" : testspecs.testmapping4\n",
    "}"
   ]
  },
  {
   "cell_type": "code",
   "execution_count": 115,
   "id": "5f31297d",
   "metadata": {},
   "outputs": [
    {
     "name": "stdout",
     "output_type": "stream",
     "text": [
      "star building system: structure1\n",
      "number of components: 2\n",
      "{0: {'PresentPowerInputsLight': 'yes', 'PresentPowerOutputsSwitch': 'yes', 'healthWire': 'ok'}, 1: {'PresentPowerInputsLight': 'no', 'PresentPowerOutputsSwitch': 'yes', 'healthWire': 'broken'}, 2: {'PresentPowerInputsLight': 'no', 'PresentPowerOutputsSwitch': 'no', 'healthWire': 'ok'}, 3: {'PresentPowerInputsLight': 'yes', 'PresentPowerOutputsSwitch': 'no', 'healthWire': 'broken'}}\n",
      "number of connections: 1\n",
      "number of tests: 0\n"
     ]
    }
   ],
   "source": [
    "oopn = oopnbuilder.OopnBuilder(assembly).getOopn()\n"
   ]
  },
  {
   "cell_type": "code",
   "execution_count": 116,
   "id": "a2d4662e",
   "metadata": {},
   "outputs": [],
   "source": [
    "# create diagram object\n",
    "diagram = gum.InfluenceDiagram()"
   ]
  },
  {
   "cell_type": "code",
   "execution_count": 117,
   "id": "7a3c51e1",
   "metadata": {},
   "outputs": [
    {
     "name": "stdout",
     "output_type": "stream",
     "text": [
      "adding component: Light\n",
      "adding component: Switch\n",
      "adding connection between: PresentPowerOutputsSwitch and: PresentPowerInputsLight\n",
      "adding cpt for component: Light\n",
      "adding cpt for component: Switch\n",
      "adding cpt for connection: Wire\n"
     ]
    }
   ],
   "source": [
    "diagram = diagrambuilder.diagramBuilder(diagram, oopn)"
   ]
  },
  {
   "cell_type": "code",
   "execution_count": null,
   "id": "6511d3c0",
   "metadata": {},
   "outputs": [],
   "source": []
  },
  {
   "cell_type": "code",
   "execution_count": 119,
   "id": "403e2fe0",
   "metadata": {},
   "outputs": [
    {
     "data": {
      "image/svg+xml": [
       "<svg xmlns=\"http://www.w3.org/2000/svg\" xmlns:xlink=\"http://www.w3.org/1999/xlink\" width=\"882pt\" height=\"280pt\" viewBox=\"0.00 0.00 882.37 280.05\">\n",
       "<g id=\"graph0\" class=\"graph\" transform=\"scale(1 1) rotate(0) translate(4 276.05)\">\n",
       "<title>G</title>\n",
       "<!-- PresentLightOutputsLight -->\n",
       "<g id=\"node1\" class=\"node\">\n",
       "<title>PresentLightOutputsLight</title>\n",
       "<ellipse fill=\"#808080\" stroke=\"black\" cx=\"691.79\" cy=\"-20.51\" rx=\"143.59\" ry=\"20.51\"/>\n",
       "<text text-anchor=\"middle\" x=\"691.79\" y=\"-16.81\" font-family=\"Times,serif\" font-size=\"14.00\" fill=\"white\">PresentLightOutputsLight</text>\n",
       "</g>\n",
       "<!-- PresentPowerInputsLight -->\n",
       "<g id=\"node2\" class=\"node\">\n",
       "<title>PresentPowerInputsLight</title>\n",
       "<ellipse fill=\"#808080\" stroke=\"black\" cx=\"578.79\" cy=\"-97.52\" rx=\"140.01\" ry=\"20.51\"/>\n",
       "<text text-anchor=\"middle\" x=\"578.79\" y=\"-93.82\" font-family=\"Times,serif\" font-size=\"14.00\" fill=\"white\">PresentPowerInputsLight</text>\n",
       "</g>\n",
       "<!-- PresentPowerInputsLight&#45;&gt;PresentLightOutputsLight -->\n",
       "<g id=\"edge1\" class=\"edge\">\n",
       "<title>PresentPowerInputsLight-&gt;PresentLightOutputsLight</title>\n",
       "<path fill=\"none\" stroke=\"#4a4a4a\" d=\"M607.59,-77.4C621.69,-68.03 638.86,-56.64 654,-46.59\"/>\n",
       "<polygon fill=\"#4a4a4a\" stroke=\"#4a4a4a\" points=\"656.24,-49.3 662.64,-40.85 652.37,-43.47 656.24,-49.3\"/>\n",
       "</g>\n",
       "<!-- healthLight -->\n",
       "<g id=\"node3\" class=\"node\">\n",
       "<title>healthLight</title>\n",
       "<ellipse fill=\"#808080\" stroke=\"black\" cx=\"805.79\" cy=\"-97.52\" rx=\"68.68\" ry=\"20.51\"/>\n",
       "<text text-anchor=\"middle\" x=\"805.79\" y=\"-93.82\" font-family=\"Times,serif\" font-size=\"14.00\" fill=\"white\">healthLight</text>\n",
       "</g>\n",
       "<!-- healthLight&#45;&gt;PresentLightOutputsLight -->\n",
       "<g id=\"edge2\" class=\"edge\">\n",
       "<title>healthLight-&gt;PresentLightOutputsLight</title>\n",
       "<path fill=\"none\" stroke=\"#4a4a4a\" d=\"M778.48,-78.55C763.81,-68.9 745.49,-56.85 729.48,-46.31\"/>\n",
       "<polygon fill=\"#4a4a4a\" stroke=\"#4a4a4a\" points=\"731.14,-43.21 720.86,-40.64 727.29,-49.06 731.14,-43.21\"/>\n",
       "</g>\n",
       "<!-- PresentPowerOutputsSwitch -->\n",
       "<g id=\"node4\" class=\"node\">\n",
       "<title>PresentPowerOutputsSwitch</title>\n",
       "<ellipse fill=\"#808080\" stroke=\"black\" cx=\"458.79\" cy=\"-174.53\" rx=\"156.04\" ry=\"20.51\"/>\n",
       "<text text-anchor=\"middle\" x=\"458.79\" y=\"-170.83\" font-family=\"Times,serif\" font-size=\"14.00\" fill=\"white\">PresentPowerOutputsSwitch</text>\n",
       "</g>\n",
       "<!-- PresentPowerOutputsSwitch&#45;&gt;PresentPowerInputsLight -->\n",
       "<g id=\"edge3\" class=\"edge\">\n",
       "<title>PresentPowerOutputsSwitch-&gt;PresentPowerInputsLight</title>\n",
       "<path fill=\"none\" stroke=\"#4a4a4a\" d=\"M489.38,-154.41C504.61,-144.89 523.2,-133.26 539.48,-123.09\"/>\n",
       "<polygon fill=\"#4a4a4a\" stroke=\"#4a4a4a\" points=\"541.63,-125.87 548.25,-117.61 537.91,-119.94 541.63,-125.87\"/>\n",
       "</g>\n",
       "<!-- PresentPowerInputsSwitch -->\n",
       "<g id=\"node5\" class=\"node\">\n",
       "<title>PresentPowerInputsSwitch</title>\n",
       "<ellipse fill=\"#808080\" stroke=\"black\" cx=\"147.79\" cy=\"-251.54\" rx=\"147.57\" ry=\"20.51\"/>\n",
       "<text text-anchor=\"middle\" x=\"147.79\" y=\"-247.84\" font-family=\"Times,serif\" font-size=\"14.00\" fill=\"white\">PresentPowerInputsSwitch</text>\n",
       "</g>\n",
       "<!-- PresentPowerInputsSwitch&#45;&gt;PresentPowerOutputsSwitch -->\n",
       "<g id=\"edge4\" class=\"edge\">\n",
       "<title>PresentPowerInputsSwitch-&gt;PresentPowerOutputsSwitch</title>\n",
       "<path fill=\"none\" stroke=\"#4a4a4a\" d=\"M218.36,-233.52C265.55,-222.14 327.81,-207.12 377.14,-195.22\"/>\n",
       "<polygon fill=\"#4a4a4a\" stroke=\"#4a4a4a\" points=\"378.25,-198.56 387.15,-192.81 376.61,-191.75 378.25,-198.56\"/>\n",
       "</g>\n",
       "<!-- EnabledStateInputsSwitch -->\n",
       "<g id=\"node6\" class=\"node\">\n",
       "<title>EnabledStateInputsSwitch</title>\n",
       "<ellipse fill=\"#808080\" stroke=\"black\" cx=\"458.79\" cy=\"-251.54\" rx=\"145.83\" ry=\"20.51\"/>\n",
       "<text text-anchor=\"middle\" x=\"458.79\" y=\"-247.84\" font-family=\"Times,serif\" font-size=\"14.00\" fill=\"white\">EnabledStateInputsSwitch</text>\n",
       "</g>\n",
       "<!-- EnabledStateInputsSwitch&#45;&gt;PresentPowerOutputsSwitch -->\n",
       "<g id=\"edge5\" class=\"edge\">\n",
       "<title>EnabledStateInputsSwitch-&gt;PresentPowerOutputsSwitch</title>\n",
       "<path fill=\"none\" stroke=\"#4a4a4a\" d=\"M458.79,-230.83C458.79,-223 458.79,-213.81 458.79,-205.2\"/>\n",
       "<polygon fill=\"#4a4a4a\" stroke=\"#4a4a4a\" points=\"462.29,-205.11 458.79,-195.11 455.29,-205.11 462.29,-205.11\"/>\n",
       "</g>\n",
       "<!-- healthSwitch -->\n",
       "<g id=\"node7\" class=\"node\">\n",
       "<title>healthSwitch</title>\n",
       "<ellipse fill=\"#808080\" stroke=\"black\" cx=\"698.79\" cy=\"-251.54\" rx=\"76.24\" ry=\"20.51\"/>\n",
       "<text text-anchor=\"middle\" x=\"698.79\" y=\"-247.84\" font-family=\"Times,serif\" font-size=\"14.00\" fill=\"white\">healthSwitch</text>\n",
       "</g>\n",
       "<!-- healthSwitch&#45;&gt;PresentPowerOutputsSwitch -->\n",
       "<g id=\"edge6\" class=\"edge\">\n",
       "<title>healthSwitch-&gt;PresentPowerOutputsSwitch</title>\n",
       "<path fill=\"none\" stroke=\"#4a4a4a\" d=\"M650.79,-235.54C615.16,-224.4 566.07,-209.06 526.46,-196.68\"/>\n",
       "<polygon fill=\"#4a4a4a\" stroke=\"#4a4a4a\" points=\"527.45,-193.32 516.86,-193.68 525.36,-200.01 527.45,-193.32\"/>\n",
       "</g>\n",
       "<!-- healthWire -->\n",
       "<g id=\"node8\" class=\"node\">\n",
       "<title>healthWire</title>\n",
       "<ellipse fill=\"#808080\" stroke=\"black\" cx=\"698.79\" cy=\"-174.53\" rx=\"65.52\" ry=\"20.51\"/>\n",
       "<text text-anchor=\"middle\" x=\"698.79\" y=\"-170.83\" font-family=\"Times,serif\" font-size=\"14.00\" fill=\"white\">healthWire</text>\n",
       "</g>\n",
       "<!-- healthWire&#45;&gt;PresentPowerInputsLight -->\n",
       "<g id=\"edge7\" class=\"edge\">\n",
       "<title>healthWire-&gt;PresentPowerInputsLight</title>\n",
       "<path fill=\"none\" stroke=\"#4a4a4a\" d=\"M670.65,-155.94C654.96,-146.13 635.17,-133.77 617.98,-123.02\"/>\n",
       "<polygon fill=\"#4a4a4a\" stroke=\"#4a4a4a\" points=\"619.6,-119.9 609.27,-117.57 615.89,-125.84 619.6,-119.9\"/>\n",
       "</g>\n",
       "</g>\n",
       "</svg>"
      ],
      "text/plain": [
       "<IPython.core.display.SVG object>"
      ]
     },
     "metadata": {},
     "output_type": "display_data"
    }
   ],
   "source": [
    "gnb.showInfluenceDiagram(diagram, size=60)"
   ]
  },
  {
   "cell_type": "code",
   "execution_count": 118,
   "id": "9d3f6331",
   "metadata": {},
   "outputs": [
    {
     "data": {
      "text/html": [
       "<table style=\"border:1px solid black;\">\n",
       "<tr style='border:1px solid black;color:black;background-color:#808080'>\n",
       "      <th colspan='2'><center>healthWire</center></th></tr>\n",
       "<tr><th style='border:1px solid black;border-bottom-style: double;color:black;background-color:#BBBBBB'>\n",
       "      <center>ok</center></th><th style='border:1px solid black;border-bottom-style: double;color:black;background-color:#BBBBBB'>\n",
       "      <center>broken</center></th></tr>\n",
       "<tr><td style='color:black;background-color:#80fd64;text-align:right;'>0.9900</td><td style='color:black;background-color:#fd8064;text-align:right;'>0.0100</td></tr>\n",
       "</table>"
      ],
      "text/plain": [
       "(pyAgrum.Potential<double>@0x2c0f1cf0) \n",
       "  healthWire       |\n",
       "ok       |broken   |\n",
       "---------|---------|\n",
       " 0.9900  | 0.0100  |"
      ]
     },
     "execution_count": 118,
     "metadata": {},
     "output_type": "execute_result"
    }
   ],
   "source": [
    "diagram.cpt(diagram.idFromName(\"healthWire\"))"
   ]
  },
  {
   "cell_type": "code",
   "execution_count": null,
   "id": "1e8abfa2",
   "metadata": {},
   "outputs": [],
   "source": []
  },
  {
   "cell_type": "code",
   "execution_count": null,
   "id": "6f06f456",
   "metadata": {},
   "outputs": [],
   "source": []
  }
 ],
 "metadata": {
  "kernelspec": {
   "display_name": "Python 3 (ipykernel)",
   "language": "python",
   "name": "python3"
  },
  "language_info": {
   "codemirror_mode": {
    "name": "ipython",
    "version": 3
   },
   "file_extension": ".py",
   "mimetype": "text/x-python",
   "name": "python",
   "nbconvert_exporter": "python",
   "pygments_lexer": "ipython3",
   "version": "3.11.5"
  }
 },
 "nbformat": 4,
 "nbformat_minor": 5
}
