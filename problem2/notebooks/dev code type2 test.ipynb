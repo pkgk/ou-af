{
 "cells": [
  {
   "cell_type": "markdown",
   "id": "1faf72f1",
   "metadata": {},
   "source": [
    "# type 2 test influence diagram modelling validation\n",
    "\n",
    "- create the code for the type 2 test\n",
    "  \n",
    "  "
   ]
  },
  {
   "cell_type": "code",
   "execution_count": 64,
   "id": "021ef090",
   "metadata": {},
   "outputs": [
    {
     "name": "stdout",
     "output_type": "stream",
     "text": [
      "The autoreload extension is already loaded. To reload it, use:\n",
      "  %reload_ext autoreload\n"
     ]
    }
   ],
   "source": [
    "# enable autoreload of changes in accompanying code files\n",
    "%load_ext autoreload\n",
    "%autoreload 2"
   ]
  },
  {
   "cell_type": "markdown",
   "id": "50ad9062",
   "metadata": {},
   "source": [
    "### necessary imports en settings"
   ]
  },
  {
   "cell_type": "code",
   "execution_count": 65,
   "id": "cbd55a1c",
   "metadata": {},
   "outputs": [],
   "source": [
    "import os\n",
    "import sys\n",
    "import re\n",
    "import pyAgrum as gum\n",
    "import pyAgrum.lib.notebook as gnb\n",
    "from IPython.display import display, HTML, clear_output, Image\n",
    "import pandas as pd\n",
    "from itertools import product\n",
    "import math\n",
    "from deepdiff import DeepDiff"
   ]
  },
  {
   "cell_type": "code",
   "execution_count": 66,
   "id": "6bd00806",
   "metadata": {},
   "outputs": [],
   "source": [
    "sys.path.insert(1, \"/workspaces/ou-af/problem2/\")"
   ]
  },
  {
   "cell_type": "code",
   "execution_count": 67,
   "id": "f678245d",
   "metadata": {},
   "outputs": [],
   "source": [
    "# import code\n",
    "import src.oopnclasses as oopnclasses\n",
    "import src.oopnbuilder as oopnbuilder\n",
    "import src.diagrambuilder as diagrambuilder\n",
    "import src.testobservereplace as testobservereplace\n",
    "import src.testchangeinput as testchangeinput\n",
    "import specs.components as componentspecs\n",
    "import specs.connections as connectionspecs\n",
    "import specs.assemblies as assemblyspecs\n",
    "import specs.tests as testspecs\n",
    "import specs.testmappings as testmappingspecs"
   ]
  },
  {
   "cell_type": "code",
   "execution_count": 68,
   "id": "1a8a966f",
   "metadata": {},
   "outputs": [
    {
     "data": {
      "text/html": [
       "<style>/* https://skelouse.github.io/styling_a_jupyter_notebook */\n",
       "\n",
       ".container { \n",
       "    width:90% !important; \n",
       "}\n",
       "\n",
       ".blockquote {\n",
       "  border: 1.5px solid #333;\n",
       "  padding: 8px 12px;\n",
       "  background-image: linear-gradient(180deg, #fff, rgb(160, 147, 147));\n",
       "  position: static;\n",
       "}\n",
       "\n",
       ".img {\n",
       "    display: inline-block;\n",
       "    align: left;\n",
       "    margin-left: auto;\n",
       "    margin-right: auto;\n",
       "    width: 75%;\n",
       "}\n",
       "\n",
       ".mycomment {\n",
       "    color: red;\n",
       "}\n",
       "</style"
      ],
      "text/plain": [
       "<IPython.core.display.HTML object>"
      ]
     },
     "execution_count": 68,
     "metadata": {},
     "output_type": "execute_result"
    }
   ],
   "source": [
    "# Styling notebook\n",
    "def css_styling():\n",
    "    styles = open(\"./styles/custom.css\", \"r\").read()\n",
    "    return HTML(\"<style>\" + styles + \"</style\")\n",
    "\n",
    "css_styling()"
   ]
  },
  {
   "cell_type": "markdown",
   "id": "e5cf1256",
   "metadata": {},
   "source": [
    "### methods to visualize diagram"
   ]
  },
  {
   "cell_type": "code",
   "execution_count": 69,
   "id": "2b940189",
   "metadata": {},
   "outputs": [],
   "source": [
    "def visualizeStructure(diagram):\n",
    "#    display(HTML(\"<style>.container { width:100% !important; }</style>\"))\n",
    "\n",
    "    # print summary of nodes\n",
    "    print(diagram)\n",
    "\n",
    "    # view structure\n",
    "    gnb.showInfluenceDiagram(diagram, size=60)\n",
    "    \n",
    "def createUtilityRow(nodelist):\n",
    "    row_elements = [diagram.utility(node) for node in nodelist]\n",
    "    gnb.flow.row(*row_elements)\n",
    "\n",
    "def createCptRow(nodelist):\n",
    "    row_elements = [diagram.cpt(node) for node in nodelist]\n",
    "    gnb.flow.row(*row_elements)\n",
    "\n",
    "def showCPTs(diagram):\n",
    "    nodes = diagram.nodes()\n",
    "    for n in nodes:\n",
    "        if(diagram.isChanceNode(n)):\n",
    "            gnb.flow.row(diagram.cpt(n))\n",
    "            \n",
    "def getDiagramChanceNodeIdsForComponent(componentname, diagram):\n",
    "    idlist = []\n",
    "    diagramNames = diagram.names()\n",
    "    for dname in diagramNames:\n",
    "        if(re.search(componentname + \"$\", dname)):\n",
    "            nodeid = diagram.idFromName(dname)\n",
    "            if (diagram.isChanceNode(nodeid)):\n",
    "                idlist.append(nodeid)\n",
    "    return idlist\n",
    "    \n",
    "\n",
    "def printCptTables(diagram, system):\n",
    "    for component in system.getComponents():\n",
    "        print(\"CPT tables for component: \" + component.getName())\n",
    "        createCptRow(getDiagramChanceNodeIdsForComponent(component.getName(), diagram))\n",
    "        \n",
    "def getDiagramUtilityNodeIdsForComponent(componentname, diagram):\n",
    "    idlist = []\n",
    "    diagramNames = diagram.names()\n",
    "    for dname in diagramNames:\n",
    "        if(re.search(componentname + \"$\", dname)):\n",
    "            nodeid = diagram.idFromName(dname)\n",
    "            if (diagram.isUtilityNode(nodeid)):\n",
    "                idlist.append(nodeid)\n",
    "    return idlist\n",
    "    \n",
    "\n",
    "def printUtilityTables(diagram, system):\n",
    "    for component in system.getComponents():\n",
    "        print(\"Utility tables for component: \" + component.getName())\n",
    "        createUtilityRow(getDiagramUtilityNodeIdsForComponent(component.getName(), diagram))"
   ]
  },
  {
   "cell_type": "markdown",
   "id": "246a9cb8",
   "metadata": {},
   "source": [
    "## generating influence diagram for a type 2 test"
   ]
  },
  {
   "cell_type": "markdown",
   "id": "4c107422",
   "metadata": {},
   "source": [
    "### loading system description"
   ]
  },
  {
   "cell_type": "code",
   "execution_count": 132,
   "id": "da20cf43",
   "metadata": {},
   "outputs": [],
   "source": [
    "assembly = {\n",
    "    \"components\"  : [componentspecs.light, componentspecs.switch],\n",
    "    \"connections\" : [connectionspecs.wire, connectionspecs.wire2],\n",
    "    \"structure\"   : assemblyspecs.structure1,   # light, switch en wire bb\n",
    "    \"tests\"       : [testspecs.observeorreplacetest, testspecs.changeinputtest],\n",
    "    \"testmapping\" : testmappingspecs.testmapping5     # geen testen want de test wordt hieronder handmatig toegevoegd\n",
    "}"
   ]
  },
  {
   "cell_type": "markdown",
   "id": "984d102a",
   "metadata": {},
   "source": [
    "### toevoegen systemhealth\n",
    "- uitbreiden beschrijving assembly met variabele systemhealth: yes/no\n",
    "- oopnclasses.py, toevoegen class SystemHealth met een naam en inkomende healthnodes\n",
    "- oopnbuilder.py, toevoegen methode om systemhealth aan te maken en methode om healthnodes te verzamelen\n",
    "- oopnbuilder.py, uitbreiden aanmaken oopn object met systemhealth\n",
    "- diagrambuilder.py, toevoegen addSystemHealth aan main\n"
   ]
  },
  {
   "cell_type": "markdown",
   "id": "79982482",
   "metadata": {},
   "source": [
    "### generate OOPN"
   ]
  },
  {
   "cell_type": "code",
   "execution_count": 189,
   "id": "5f31297d",
   "metadata": {},
   "outputs": [
    {
     "name": "stdout",
     "output_type": "stream",
     "text": [
      "start building system: structure1\n",
      "number of components: 2\n",
      "number of connections: 1\n",
      "number of tests: 1\n",
      "<src.oopnclasses.SystemHealth object at 0xffff491e6990>\n",
      "added systemHealth\n"
     ]
    }
   ],
   "source": [
    "oopn = oopnbuilder.OopnBuilder(assembly).getOopn()"
   ]
  },
  {
   "cell_type": "code",
   "execution_count": 75,
   "id": "9911ba6c",
   "metadata": {},
   "outputs": [
    {
     "name": "stdout",
     "output_type": "stream",
     "text": [
      "adding component: Switchcopy\n",
      "adding component: Lightcopy\n",
      "adding connection Wirecopy between: Switchcopy and Lightcopy with healthnode: healthWire\n"
     ]
    }
   ],
   "source": [
    "# breid oopn uit door keten te dupliceren\n",
    "oopn.copyPathType2Test('PresentPowerInputsSwitch', 'PresentLightOutputsLight')"
   ]
  },
  {
   "cell_type": "markdown",
   "id": "fb16700b",
   "metadata": {},
   "source": [
    "### generate influence diagram from OOPN"
   ]
  },
  {
   "cell_type": "code",
   "execution_count": 191,
   "id": "d5355f33",
   "metadata": {},
   "outputs": [
    {
     "name": "stdout",
     "output_type": "stream",
     "text": [
      "adding component: Light\n",
      "adding component: Switch\n",
      "adding connection between: PresentPowerOutputsSwitch and: PresentPowerInputsLight\n",
      "adding cpt for component: Light\n",
      "adding cpt for component: Switch\n",
      "adding cpt for connection: Wire\n",
      "adding systemHealth variable: \n",
      "adding systemhealth connections\n",
      "adding test: ChangeInputTest\n",
      "adding node: DecisionChangeInputTestSwitch\n",
      "adding node: UtilityChangeInputTestSwitch\n",
      "add edge from: DecisionChangeInputTestSwitch to: UtilityChangeInputTestSwitch\n",
      "add edge from: PresentPowerOutputsSwitch to: UtilityChangeInputTestSwitch\n",
      "adding utility to: UtilityChangeInputTestSwitch\n",
      "potential node not identical to potential in diagram:UtilityChangeInputTestSwitch\n",
      "diagram: ('UtilityChangeInputTestSwitch', 'DecisionChangeInputTestSwitch', 'PresentPowerOutputsSwitch') oopn: ('UtilityChangeInputTestSwitch', 'DecisionChangeInputTestSwitch')\n"
     ]
    }
   ],
   "source": [
    "# create diagram object en bouw influence diagram obv OOPN\n",
    "diagram = gum.InfluenceDiagram()\n",
    "diagram = diagrambuilder.diagramBuilder(diagram, oopn)"
   ]
  },
  {
   "cell_type": "code",
   "execution_count": 192,
   "id": "403e2fe0",
   "metadata": {
    "scrolled": false
   },
   "outputs": [
    {
     "data": {
      "image/svg+xml": [
       "<svg xmlns=\"http://www.w3.org/2000/svg\" xmlns:xlink=\"http://www.w3.org/1999/xlink\" width=\"973pt\" height=\"286pt\" viewBox=\"0.00 0.00 973.20 286.39\">\n",
       "<g id=\"graph0\" class=\"graph\" transform=\"scale(1 1) rotate(0) translate(4 282.39)\">\n",
       "<title>G</title>\n",
       "<!-- PresentLightOutputsLight -->\n",
       "<g id=\"node1\" class=\"node\">\n",
       "<title>PresentLightOutputsLight</title>\n",
       "<ellipse fill=\"#808080\" stroke=\"black\" cx=\"727.61\" cy=\"-20.51\" rx=\"143.59\" ry=\"20.51\"/>\n",
       "<text text-anchor=\"middle\" x=\"727.61\" y=\"-16.81\" font-family=\"Times,serif\" font-size=\"14.00\" fill=\"white\">PresentLightOutputsLight</text>\n",
       "</g>\n",
       "<!-- PresentPowerInputsLight -->\n",
       "<g id=\"node2\" class=\"node\">\n",
       "<title>PresentPowerInputsLight</title>\n",
       "<ellipse fill=\"#808080\" stroke=\"black\" cx=\"556.61\" cy=\"-100.69\" rx=\"140.01\" ry=\"20.51\"/>\n",
       "<text text-anchor=\"middle\" x=\"556.61\" y=\"-96.99\" font-family=\"Times,serif\" font-size=\"14.00\" fill=\"white\">PresentPowerInputsLight</text>\n",
       "</g>\n",
       "<!-- PresentPowerInputsLight&#45;&gt;PresentLightOutputsLight -->\n",
       "<g id=\"edge1\" class=\"edge\">\n",
       "<title>PresentPowerInputsLight-&gt;PresentLightOutputsLight</title>\n",
       "<path fill=\"none\" stroke=\"#4a4a4a\" d=\"M597.57,-80.96C621.59,-69.98 652.13,-56.02 677.57,-44.39\"/>\n",
       "<polygon fill=\"#4a4a4a\" stroke=\"#4a4a4a\" points=\"679.05,-47.56 686.69,-40.22 676.14,-41.19 679.05,-47.56\"/>\n",
       "</g>\n",
       "<!-- healthLight -->\n",
       "<g id=\"node3\" class=\"node\">\n",
       "<title>healthLight</title>\n",
       "<ellipse fill=\"#808080\" stroke=\"black\" cx=\"896.61\" cy=\"-180.88\" rx=\"68.68\" ry=\"20.51\"/>\n",
       "<text text-anchor=\"middle\" x=\"896.61\" y=\"-177.18\" font-family=\"Times,serif\" font-size=\"14.00\" fill=\"white\">healthLight</text>\n",
       "</g>\n",
       "<!-- healthLight&#45;&gt;PresentLightOutputsLight -->\n",
       "<g id=\"edge3\" class=\"edge\">\n",
       "<title>healthLight-&gt;PresentLightOutputsLight</title>\n",
       "<path fill=\"none\" stroke=\"#4a4a4a\" d=\"M898.85,-160.07C900.28,-137.41 899.02,-100.42 879.61,-77.01 865.62,-60.13 846.03,-48.39 825.56,-40.21\"/>\n",
       "<polygon fill=\"#4a4a4a\" stroke=\"#4a4a4a\" points=\"826.7,-36.9 816.1,-36.7 824.26,-43.46 826.7,-36.9\"/>\n",
       "</g>\n",
       "<!-- systemhealth -->\n",
       "<g id=\"node9\" class=\"node\">\n",
       "<title>systemhealth</title>\n",
       "<ellipse fill=\"#808080\" stroke=\"black\" cx=\"792.61\" cy=\"-100.69\" rx=\"78.48\" ry=\"20.51\"/>\n",
       "<text text-anchor=\"middle\" x=\"792.61\" y=\"-96.99\" font-family=\"Times,serif\" font-size=\"14.00\" fill=\"white\">systemhealth</text>\n",
       "</g>\n",
       "<!-- healthLight&#45;&gt;systemhealth -->\n",
       "<g id=\"edge2\" class=\"edge\">\n",
       "<title>healthLight-&gt;systemhealth</title>\n",
       "<path fill=\"none\" stroke=\"#4a4a4a\" d=\"M872.23,-161.54C858.25,-151.03 840.51,-137.7 825.33,-126.29\"/>\n",
       "<polygon fill=\"#4a4a4a\" stroke=\"#4a4a4a\" points=\"827.3,-123.39 817.2,-120.18 823.09,-128.98 827.3,-123.39\"/>\n",
       "</g>\n",
       "<!-- PresentPowerOutputsSwitch -->\n",
       "<g id=\"node4\" class=\"node\">\n",
       "<title>PresentPowerOutputsSwitch</title>\n",
       "<ellipse fill=\"#808080\" stroke=\"black\" cx=\"461.61\" cy=\"-180.88\" rx=\"156.04\" ry=\"20.51\"/>\n",
       "<text text-anchor=\"middle\" x=\"461.61\" y=\"-177.18\" font-family=\"Times,serif\" font-size=\"14.00\" fill=\"white\">PresentPowerOutputsSwitch</text>\n",
       "</g>\n",
       "<!-- PresentPowerOutputsSwitch&#45;&gt;PresentPowerInputsLight -->\n",
       "<g id=\"edge4\" class=\"edge\">\n",
       "<title>PresentPowerOutputsSwitch-&gt;PresentPowerInputsLight</title>\n",
       "<path fill=\"none\" stroke=\"#4a4a4a\" d=\"M485.09,-160.55C497.2,-150.59 512.12,-138.3 525.2,-127.54\"/>\n",
       "<polygon fill=\"#4a4a4a\" stroke=\"#4a4a4a\" points=\"527.57,-130.12 533.07,-121.07 523.12,-124.72 527.57,-130.12\"/>\n",
       "</g>\n",
       "<!-- UtilityChangeInputTestSwitch -->\n",
       "<g id=\"node11\" class=\"node\">\n",
       "<title>UtilityChangeInputTestSwitch</title>\n",
       "<polygon fill=\"#50508a\" stroke=\"black\" points=\"377.33,-100.69 282.97,-124.55 94.25,-124.55 -0.11,-100.69 94.25,-76.83 282.97,-76.83 377.33,-100.69\"/>\n",
       "<text text-anchor=\"middle\" x=\"188.61\" y=\"-96.99\" font-family=\"Times,serif\" font-size=\"14.00\" fill=\"white\">UtilityChangeInputTestSwitch</text>\n",
       "</g>\n",
       "<!-- PresentPowerOutputsSwitch&#45;&gt;UtilityChangeInputTestSwitch -->\n",
       "<g id=\"edge5\" class=\"edge\">\n",
       "<title>PresentPowerOutputsSwitch-&gt;UtilityChangeInputTestSwitch</title>\n",
       "<path fill=\"none\" stroke=\"#4a4a4a\" stroke-dasharray=\"5,2\" d=\"M399.32,-162.04C363.34,-151.73 317.47,-138.6 277.73,-127.21\"/>\n",
       "<polygon fill=\"#4a4a4a\" stroke=\"#4a4a4a\" points=\"278.6,-123.82 268.03,-124.43 276.68,-130.55 278.6,-123.82\"/>\n",
       "</g>\n",
       "<!-- PresentPowerInputsSwitch -->\n",
       "<g id=\"node5\" class=\"node\">\n",
       "<title>PresentPowerInputsSwitch</title>\n",
       "<ellipse fill=\"#808080\" stroke=\"black\" cx=\"174.61\" cy=\"-257.89\" rx=\"147.57\" ry=\"20.51\"/>\n",
       "<text text-anchor=\"middle\" x=\"174.61\" y=\"-254.19\" font-family=\"Times,serif\" font-size=\"14.00\" fill=\"white\">PresentPowerInputsSwitch</text>\n",
       "</g>\n",
       "<!-- PresentPowerInputsSwitch&#45;&gt;PresentPowerOutputsSwitch -->\n",
       "<g id=\"edge6\" class=\"edge\">\n",
       "<title>PresentPowerInputsSwitch-&gt;PresentPowerOutputsSwitch</title>\n",
       "<path fill=\"none\" stroke=\"#4a4a4a\" d=\"M241.18,-239.49C283.97,-228.3 339.73,-213.73 384.46,-202.04\"/>\n",
       "<polygon fill=\"#4a4a4a\" stroke=\"#4a4a4a\" points=\"385.62,-205.35 394.41,-199.44 383.85,-198.58 385.62,-205.35\"/>\n",
       "</g>\n",
       "<!-- EnabledStateInputsSwitch -->\n",
       "<g id=\"node6\" class=\"node\">\n",
       "<title>EnabledStateInputsSwitch</title>\n",
       "<ellipse fill=\"#808080\" stroke=\"black\" cx=\"485.61\" cy=\"-257.89\" rx=\"145.83\" ry=\"20.51\"/>\n",
       "<text text-anchor=\"middle\" x=\"485.61\" y=\"-254.19\" font-family=\"Times,serif\" font-size=\"14.00\" fill=\"white\">EnabledStateInputsSwitch</text>\n",
       "</g>\n",
       "<!-- EnabledStateInputsSwitch&#45;&gt;PresentPowerOutputsSwitch -->\n",
       "<g id=\"edge7\" class=\"edge\">\n",
       "<title>EnabledStateInputsSwitch-&gt;PresentPowerOutputsSwitch</title>\n",
       "<path fill=\"none\" stroke=\"#4a4a4a\" d=\"M479.3,-237.18C476.77,-229.25 473.79,-219.95 471.01,-211.26\"/>\n",
       "<polygon fill=\"#4a4a4a\" stroke=\"#4a4a4a\" points=\"474.26,-209.91 467.87,-201.45 467.59,-212.04 474.26,-209.91\"/>\n",
       "</g>\n",
       "<!-- healthSwitch -->\n",
       "<g id=\"node7\" class=\"node\">\n",
       "<title>healthSwitch</title>\n",
       "<ellipse fill=\"#808080\" stroke=\"black\" cx=\"772.61\" cy=\"-257.89\" rx=\"76.24\" ry=\"20.51\"/>\n",
       "<text text-anchor=\"middle\" x=\"772.61\" y=\"-254.19\" font-family=\"Times,serif\" font-size=\"14.00\" fill=\"white\">healthSwitch</text>\n",
       "</g>\n",
       "<!-- healthSwitch&#45;&gt;PresentPowerOutputsSwitch -->\n",
       "<g id=\"edge9\" class=\"edge\">\n",
       "<title>healthSwitch-&gt;PresentPowerOutputsSwitch</title>\n",
       "<path fill=\"none\" stroke=\"#4a4a4a\" d=\"M717.37,-243.56C669.06,-231.91 598.24,-214.83 543.37,-201.59\"/>\n",
       "<polygon fill=\"#4a4a4a\" stroke=\"#4a4a4a\" points=\"543.86,-198.11 533.32,-199.17 542.22,-204.92 543.86,-198.11\"/>\n",
       "</g>\n",
       "<!-- healthSwitch&#45;&gt;systemhealth -->\n",
       "<g id=\"edge8\" class=\"edge\">\n",
       "<title>healthSwitch-&gt;systemhealth</title>\n",
       "<path fill=\"none\" stroke=\"#4a4a4a\" d=\"M775.14,-237.23C778.59,-210.53 784.77,-162.55 788.78,-131.43\"/>\n",
       "<polygon fill=\"#4a4a4a\" stroke=\"#4a4a4a\" points=\"792.29,-131.55 790.1,-121.19 785.35,-130.66 792.29,-131.55\"/>\n",
       "</g>\n",
       "<!-- healthWire -->\n",
       "<g id=\"node8\" class=\"node\">\n",
       "<title>healthWire</title>\n",
       "<ellipse fill=\"#808080\" stroke=\"black\" cx=\"701.61\" cy=\"-180.88\" rx=\"65.52\" ry=\"20.51\"/>\n",
       "<text text-anchor=\"middle\" x=\"701.61\" y=\"-177.18\" font-family=\"Times,serif\" font-size=\"14.00\" fill=\"white\">healthWire</text>\n",
       "</g>\n",
       "<!-- healthWire&#45;&gt;PresentPowerInputsLight -->\n",
       "<g id=\"edge11\" class=\"edge\">\n",
       "<title>healthWire-&gt;PresentPowerInputsLight</title>\n",
       "<path fill=\"none\" stroke=\"#4a4a4a\" d=\"M669.79,-162.72C649.49,-151.77 622.91,-137.44 600.61,-125.41\"/>\n",
       "<polygon fill=\"#4a4a4a\" stroke=\"#4a4a4a\" points=\"602.12,-122.25 591.66,-120.59 598.8,-128.42 602.12,-122.25\"/>\n",
       "</g>\n",
       "<!-- healthWire&#45;&gt;systemhealth -->\n",
       "<g id=\"edge10\" class=\"edge\">\n",
       "<title>healthWire-&gt;systemhealth</title>\n",
       "<path fill=\"none\" stroke=\"#4a4a4a\" d=\"M723.18,-161.35C735.02,-151.17 749.88,-138.41 762.81,-127.3\"/>\n",
       "<polygon fill=\"#4a4a4a\" stroke=\"#4a4a4a\" points=\"765.26,-129.8 770.57,-120.63 760.7,-124.49 765.26,-129.8\"/>\n",
       "</g>\n",
       "<!-- DecisionChangeInputTestSwitch -->\n",
       "<g id=\"node10\" class=\"node\">\n",
       "<title>DecisionChangeInputTestSwitch</title>\n",
       "<polygon fill=\"#9a5050\" stroke=\"black\" points=\"287.61,-195.38 41.61,-195.38 41.61,-166.38 287.61,-166.38 287.61,-195.38\"/>\n",
       "<text text-anchor=\"middle\" x=\"164.61\" y=\"-177.18\" font-family=\"Times,serif\" font-size=\"14.00\" fill=\"white\">DecisionChangeInputTestSwitch</text>\n",
       "</g>\n",
       "<!-- DecisionChangeInputTestSwitch&#45;&gt;UtilityChangeInputTestSwitch -->\n",
       "<g id=\"edge12\" class=\"edge\">\n",
       "<title>DecisionChangeInputTestSwitch-&gt;UtilityChangeInputTestSwitch</title>\n",
       "<path fill=\"none\" stroke=\"#4a4a4a\" stroke-dasharray=\"5,2\" d=\"M168.79,-166.26C171.51,-157.39 175.18,-145.43 178.63,-134.21\"/>\n",
       "<polygon fill=\"#4a4a4a\" stroke=\"#4a4a4a\" points=\"181.98,-135.23 181.57,-124.64 175.29,-133.17 181.98,-135.23\"/>\n",
       "</g>\n",
       "</g>\n",
       "</svg>"
      ],
      "text/plain": [
       "<IPython.core.display.SVG object>"
      ]
     },
     "metadata": {},
     "output_type": "display_data"
    }
   ],
   "source": [
    "# tussenstand bekijken\n",
    "gnb.showInfluenceDiagram(diagram, size=60)"
   ]
  },
  {
   "cell_type": "code",
   "execution_count": 193,
   "id": "eb4f835d",
   "metadata": {},
   "outputs": [
    {
     "data": {
      "text/html": [
       "<table style=\"border:1px solid black;\">\n",
       "<tr><th colspan='3'></th>\n",
       "      <th colspan='2' style='border:1px solid black;color:black;background-color:#808080;'><center>systemhealth</center>\n",
       "      </th></tr>\n",
       "<tr><th style='border:1px solid black;color:black;background-color:#808080'><center>healthWire</center></th><th style='border:1px solid black;color:black;background-color:#808080'><center>healthSwitch</center></th><th style='border:1px solid black;color:black;background-color:#808080'><center>healthLight</center></th><th style='border:1px solid black;border-bottom-style: double;color:black;background-color:#BBBBBB'>\n",
       "      <center>ok</center></th><th style='border:1px solid black;border-bottom-style: double;color:black;background-color:#BBBBBB'>\n",
       "      <center>broken</center></th></tr>\n",
       "<tr><th style='border:1px solid black;color:black;background-color:#BBBBBB;' rowspan = '4'>\n",
       "            <center>ok</center></th><th style='border:1px solid black;color:black;background-color:#BBBBBB;' rowspan = '2'>\n",
       "            <center>ok</center></th><th style='border:1px solid black;color:black;background-color:#BBBBBB'><center>ok</center></th><td style='color:black;background-color:#80fd64;text-align:right;'>0.9900</td><td style='color:black;background-color:#fd8064;text-align:right;'>0.0100</td></tr>\n",
       "<tr><th style='border:1px solid black;color:black;background-color:#BBBBBB'><center>broken</center></th><td style='color:black;background-color:#fd8064;text-align:right;'>0.0100</td><td style='color:black;background-color:#80fd64;text-align:right;'>0.9900</td></tr>\n",
       "<tr><th style='border:1px solid black;color:black;background-color:#BBBBBB;' rowspan = '2'>\n",
       "            <center>broken</center></th><th style='border:1px solid black;color:black;background-color:#BBBBBB'><center>ok</center></th><td style='color:black;background-color:#fd8064;text-align:right;'>0.0100</td><td style='color:black;background-color:#80fd64;text-align:right;'>0.9900</td></tr>\n",
       "<tr><th style='border:1px solid black;color:black;background-color:#BBBBBB'><center>broken</center></th><td style='color:black;background-color:#fd8064;text-align:right;'>0.0100</td><td style='color:black;background-color:#80fd64;text-align:right;'>0.9900</td></tr>\n",
       "<tr><th style='border:1px solid black;color:black;background-color:#BBBBBB;' rowspan = '4'>\n",
       "            <center>broken</center></th><th style='border:1px solid black;color:black;background-color:#BBBBBB;' rowspan = '2'>\n",
       "            <center>ok</center></th><th style='border:1px solid black;color:black;background-color:#BBBBBB'><center>ok</center></th><td style='color:black;background-color:#fd8064;text-align:right;'>0.0100</td><td style='color:black;background-color:#80fd64;text-align:right;'>0.9900</td></tr>\n",
       "<tr><th style='border:1px solid black;color:black;background-color:#BBBBBB'><center>broken</center></th><td style='color:black;background-color:#fd8064;text-align:right;'>0.0100</td><td style='color:black;background-color:#80fd64;text-align:right;'>0.9900</td></tr>\n",
       "<tr><th style='border:1px solid black;color:black;background-color:#BBBBBB;' rowspan = '2'>\n",
       "            <center>broken</center></th><th style='border:1px solid black;color:black;background-color:#BBBBBB'><center>ok</center></th><td style='color:black;background-color:#fd8064;text-align:right;'>0.0100</td><td style='color:black;background-color:#80fd64;text-align:right;'>0.9900</td></tr>\n",
       "<tr><th style='border:1px solid black;color:black;background-color:#BBBBBB'><center>broken</center></th><td style='color:black;background-color:#fd8064;text-align:right;'>0.0100</td><td style='color:black;background-color:#80fd64;text-align:right;'>0.9900</td></tr>\n",
       "</table>"
      ],
      "text/plain": [
       "(pyAgrum.Potential<double>@0x13218b20) \n",
       "                    ||  systemhealth     |\n",
       "health|health|health||ok       |broken   |\n",
       "------|------|------||---------|---------|\n",
       "ok    |ok    |ok    || 0.9900  | 0.0100  |\n",
       "broken|ok    |ok    || 0.0100  | 0.9900  |\n",
       "ok    |broken|ok    || 0.0100  | 0.9900  |\n",
       "broken|broken|ok    || 0.0100  | 0.9900  |\n",
       "ok    |ok    |broken|| 0.0100  | 0.9900  |\n",
       "broken|ok    |broken|| 0.0100  | 0.9900  |\n",
       "ok    |broken|broken|| 0.0100  | 0.9900  |\n",
       "broken|broken|broken|| 0.0100  | 0.9900  |"
      ]
     },
     "execution_count": 193,
     "metadata": {},
     "output_type": "execute_result"
    }
   ],
   "source": [
    "sh = oopn.getSystemHealth()\n",
    "sh.getNode().getPrior()\n"
   ]
  },
  {
   "cell_type": "code",
   "execution_count": null,
   "id": "7bc81341",
   "metadata": {},
   "outputs": [],
   "source": []
  },
  {
   "cell_type": "markdown",
   "id": "d5862be4",
   "metadata": {},
   "source": [
    "### background variabelen: dupliceer keten door OOPN uit te breiden\n",
    "- background variabelen: system en gedupliceerd systeem (behoud overige inputs en health)\n",
    "- problem variabelen: health van iedere bij de keten betrokken component\n",
    "- symptoom variabelen voor afwijkend gedrag: input / output van keten van componenten \n"
   ]
  },
  {
   "cell_type": "code",
   "execution_count": null,
   "id": "7a3c51e1",
   "metadata": {},
   "outputs": [],
   "source": [
    "# nieuw influence diagram genereren\n",
    "diagram = gum.InfluenceDiagram()\n",
    "diagram = diagrambuilder.diagramBuilder(diagram, oopn)"
   ]
  },
  {
   "cell_type": "code",
   "execution_count": null,
   "id": "6b18ee01",
   "metadata": {},
   "outputs": [],
   "source": [
    "gnb.showInfluenceDiagram(diagram, size=60)"
   ]
  },
  {
   "cell_type": "code",
   "execution_count": null,
   "id": "9957536c",
   "metadata": {},
   "outputs": [],
   "source": [
    "# Add mediating system health variabele\n",
    "label = \"systemhealth\"\n",
    "C1health = gum.LabelizedVariable(label, label,[\"ok\", \"broken\"])\n",
    "C1healthId = diagram.add(C1health)\n",
    "diagram.addArc(diagram.idFromName(\"healthSwitch\"), C1healthId)\n",
    "diagram.addArc(diagram.idFromName(\"healthWire\"), C1healthId)\n",
    "diagram.addArc(diagram.idFromName(\"healthLight\"), C1healthId)"
   ]
  },
  {
   "cell_type": "code",
   "execution_count": null,
   "id": "ffda710b",
   "metadata": {},
   "outputs": [],
   "source": [
    "# creeer utility variabele\n",
    "# detecter afwijkend gedrag: koppel input en output keten met utility\n",
    "# koppel input gedupliceerde keten met utility\n",
    "\n",
    "UtilityT2 = gum.LabelizedVariable(\"utilT2\", \"utilT2\",1)\n",
    "diagram.addUtilityNode(UtilityT2)\n",
    "diagram.addArc(\"PresentPowerInputsSwitch\", \"utilT2\")\n",
    "#diagram.addArc(\"PresentLightOutputsLight\", \"utilT2\")\n",
    "diagram.addArc(\"PresentPowerInputsSwitchcopy\", \"utilT2\")"
   ]
  },
  {
   "cell_type": "code",
   "execution_count": null,
   "id": "c3f6a492",
   "metadata": {},
   "outputs": [],
   "source": [
    "# creeer decision variabele\n",
    "# conditioneel besluit, koppel output met decision\n",
    "# intervenierend besluit, koppel besluit met input gedupliceerde keten\n",
    "DecisionT2 = gum.LabelizedVariable(\"decT2\", \"decT2\",[\"yes\", \"no\"])\n",
    "diagram.addDecisionNode(DecisionT2)\n",
    "# diagram.addArc(\"PresentPowerInputsSwitch\", \"decT2\")\n",
    "diagram.addArc(\"PresentLightOutputsLight\", \"decT2\")\n",
    "diagram.addArc(\"decT2\", \"PresentPowerInputsSwitchcopy\")"
   ]
  },
  {
   "cell_type": "code",
   "execution_count": null,
   "id": "0e3ea278",
   "metadata": {},
   "outputs": [],
   "source": [
    "diagram.addArc(diagram.idFromName(\"systemhealth\"), diagram.idFromName(\"utilT2\"))"
   ]
  },
  {
   "cell_type": "code",
   "execution_count": null,
   "id": "3389d722",
   "metadata": {},
   "outputs": [],
   "source": [
    "# complete influence diagram\n",
    "gnb.showInfluenceDiagram(diagram, size=60)"
   ]
  },
  {
   "cell_type": "markdown",
   "id": "e36dfdd5",
   "metadata": {},
   "source": [
    "### conditional probability table for system health"
   ]
  },
  {
   "cell_type": "code",
   "execution_count": null,
   "id": "6d315060",
   "metadata": {},
   "outputs": [],
   "source": [
    "diagram.cpt(diagram.idFromName(\"systemhealth\"))[{\"healthLight\":\"ok\", \"healthWire\":\"ok\", \"healthSwitch\":\"ok\"}] = [0.99, 0.01]\n",
    "diagram.cpt(diagram.idFromName(\"systemhealth\"))[{\"healthLight\":\"ok\", \"healthWire\":\"ok\", \"healthSwitch\":\"broken\"}] = [0.01, 0.99]\n",
    "diagram.cpt(diagram.idFromName(\"systemhealth\"))[{\"healthLight\":\"ok\", \"healthWire\":\"broken\", \"healthSwitch\":\"ok\"}] = [0.01, 0.99]\n",
    "diagram.cpt(diagram.idFromName(\"systemhealth\"))[{\"healthLight\":\"ok\", \"healthWire\":\"broken\", \"healthSwitch\":\"broken\"}] = [0.01, 0.99]\n",
    "diagram.cpt(diagram.idFromName(\"systemhealth\"))[{\"healthLight\":\"broken\", \"healthWire\":\"ok\", \"healthSwitch\":\"ok\"}] = [0.01, 0.99]\n",
    "diagram.cpt(diagram.idFromName(\"systemhealth\"))[{\"healthLight\":\"broken\", \"healthWire\":\"ok\", \"healthSwitch\":\"broken\"}] = [0.01, 0.99]\n",
    "diagram.cpt(diagram.idFromName(\"systemhealth\"))[{\"healthLight\":\"broken\", \"healthWire\":\"broken\", \"healthSwitch\":\"ok\"}] = [0.01, 0.99]\n",
    "diagram.cpt(diagram.idFromName(\"systemhealth\"))[{\"healthLight\":\"broken\", \"healthWire\":\"broken\", \"healthSwitch\":\"broken\"}] = [0.01, 0.99]\n",
    "diagram.cpt(diagram.idFromName(\"systemhealth\"))\n"
   ]
  },
  {
   "cell_type": "markdown",
   "id": "b92f8a5a",
   "metadata": {},
   "source": [
    "### configuratie utility"
   ]
  },
  {
   "cell_type": "code",
   "execution_count": null,
   "id": "807fef80",
   "metadata": {},
   "outputs": [],
   "source": [
    "ok, broken = \"ok\", \"broken\"\n",
    "yes, no = \"yes\", \"no\"\n",
    "health, inputcopy, inputswitch = \"systemhealth\", \"PresentPowerInputsSwitchcopy\", \"PresentPowerInputsSwitch\"\n",
    "id = diagram.idFromName(\"utilT2\")\n",
    "diagram.utility(id)[{health:ok,inputcopy:yes,inputswitch:yes}]     = 90  # indien ok dan zelfde input\n",
    "diagram.utility(id)[{health:ok,inputcopy:yes,inputswitch:no}]      = -10 # indien health ok dan niet input wisselen\n",
    "diagram.utility(id)[{health:ok,inputcopy:no,inputswitch:yes}]      = -10 # indien health ok dan niet input wisselen\n",
    "diagram.utility(id)[{health:ok,inputcopy:no,inputswitch:no}]       = 90  # indien ok dan zelfde input\n",
    "diagram.utility(id)[{health:broken,inputcopy:yes,inputswitch:yes}] = -50 # indien broken dan niet input gelijk houden\n",
    "diagram.utility(id)[{health:broken,inputcopy:yes,inputswitch:no}]  = 100 # indien broken dan andere input\n",
    "diagram.utility(id)[{health:broken,inputcopy:no,inputswitch:yes}]  = 100 # indien broken dan andere input\n",
    "diagram.utility(id)[{health:broken,inputcopy:no,inputswitch:no}]   = -50\n"
   ]
  },
  {
   "cell_type": "code",
   "execution_count": null,
   "id": "111af585",
   "metadata": {},
   "outputs": [],
   "source": [
    "diagram.utility(diagram.idFromName(\"utilT2\"))"
   ]
  },
  {
   "cell_type": "markdown",
   "id": "d2672e5c",
   "metadata": {},
   "source": [
    "### uitbreiden cpt input van gedupliceerde keten"
   ]
  },
  {
   "cell_type": "code",
   "execution_count": null,
   "id": "530b9588",
   "metadata": {},
   "outputs": [],
   "source": [
    "diagram.cpt(diagram.idFromName(\"PresentPowerInputsSwitchcopy\"))[1] = [0.01, 0.99]\n",
    "diagram.cpt(diagram.idFromName(\"PresentPowerInputsSwitchcopy\"))"
   ]
  },
  {
   "cell_type": "markdown",
   "id": "a1519ab6",
   "metadata": {},
   "source": [
    "### Unit test 1, normaal gedrag > overnemen input"
   ]
  },
  {
   "cell_type": "code",
   "execution_count": null,
   "id": "4e72ee47",
   "metadata": {},
   "outputs": [],
   "source": [
    "evs = {\n",
    "# input / output evidence van systeem, normaal gedrag is dus 0/0 of 1/1\n",
    "'PresentPowerInputsSwitch':1,  # 0 is yes, 1 is no\n",
    "'PresentLightOutputsLight':0,  # 0 is yes, 1 is no\n",
    "\n",
    "\n",
    "# instellen additionele input\n",
    "#'EnabledStateInputsSwitch':0,  # 0 is yes, 1 is no\n",
    "}"
   ]
  },
  {
   "cell_type": "code",
   "execution_count": null,
   "id": "b85abe42",
   "metadata": {},
   "outputs": [],
   "source": [
    "ie = gum.ShaferShenoyLIMIDInference(diagram) \n",
    "ie.setEvidence(evs)\n",
    "#ie.addNoForgettingAssumption([\"DecisionTestObserveHealthSwitch\",\"DecisionReplaceSwitch\", \"DecisionTestObserveHealthLight\", \"DecisionReplaceLight\"])\n",
    "gnb.sideBySide(gnb.getInference(diagram,engine=ie, evs=evs, size=200))\n",
    "\n"
   ]
  },
  {
   "cell_type": "markdown",
   "id": "d79f15fc",
   "metadata": {},
   "source": [
    "wordt de juiste input voor de gedupliceerde keten ingesteld?\n",
    "- indien evidence input / output systeem beide 0 (yes) dan wordt de input overgenomen voor de gedupliceerde keten\n",
    "- indien evidence input / output systeem beide 1 (no) dan wordt de input overgenomen voor de gedupliceerde keten\n",
    "- indien evidence input no en output yes dan wordt input voor gedupliceerde keten geswitched naar yes\n",
    "- indien evidence input yes en output no dan wordt input voor gedupliceerde keten geswitched naar no \n",
    "\n",
    "laatste test gaat niet goed \n"
   ]
  },
  {
   "cell_type": "markdown",
   "id": "8582e4c9",
   "metadata": {},
   "source": [
    "### OPNIEUW DOEN unit test 2, verwerken extra observatie, betere inschatting health?"
   ]
  },
  {
   "cell_type": "code",
   "execution_count": null,
   "id": "65b2d12a",
   "metadata": {},
   "outputs": [],
   "source": [
    "evs = {\n",
    "# input / output evidence van systeem, normaal gedrag is 0/0 of 1/1\n",
    "'PresentPowerInputsSwitch':0,  # 0 is yes, 1 is no\n",
    "'PresentLightOutputsLight':1,  # 0 is yes, 1 is no\n",
    "\n",
    "\n",
    "# instellen additionele input\n",
    "'EnabledStateInputsSwitch':0,  # 0 is yes, 1 is no\n",
    "    \n",
    "# instellen observaties mbt duplicate chain\n",
    "'PresentPowerInputsSwitchcopy':1,  # 0 is yes, 1 is no\n",
    "'PresentLightOutputsLightcopy':1,  # 0 is yes, 1 is no\n",
    "\n",
    "\n",
    "}"
   ]
  },
  {
   "cell_type": "code",
   "execution_count": null,
   "id": "c4c97bb7",
   "metadata": {},
   "outputs": [],
   "source": [
    "ie = gum.ShaferShenoyLIMIDInference(diagram) \n",
    "ie.setEvidence(evs)\n",
    "#ie.addNoForgettingAssumption([\"DecisionTestObserveHealthSwitch\",\"DecisionReplaceSwitch\", \"DecisionTestObserveHealthLight\", \"DecisionReplaceLight\"])\n",
    "gnb.sideBySide(gnb.getInference(diagram,engine=ie, evs=evs, size=200))"
   ]
  },
  {
   "cell_type": "markdown",
   "id": "ff207153",
   "metadata": {},
   "source": [
    "- indien originele observatie switch:aan maar lamp:uit\n",
    "- en extra observatie is: switch:uit en lamp: uit\n",
    "- waarbij prior van alle healths 99% is\n",
    "\n",
    "dan is de health zonder de extra observatie > daarna met de extra observatie\n",
    "- healthSwitch: 85,45% > 83,27%\n",
    "- healthWire: 72,40% > 83,27%\n",
    "- healthLight: 84,88% > 82,77%\n",
    "\n",
    "dus eerst is de wire de verdachte maar daarna de lamp al ligt het dan dichter bij elkaar"
   ]
  },
  {
   "cell_type": "markdown",
   "id": "2d3d191c",
   "metadata": {},
   "source": [
    "### OPNIEUW DOEN indien health van wire lager wordt...\n",
    "- healht wire wordt 80%\n",
    "\n",
    "health zonder observatie en daarna met...\n",
    "- healthSwitch: 86,34% > 83,9%\n",
    "- healthWire: 67,95% > 80,08%\n",
    "- healthLight: 85,75% > 83,39%"
   ]
  },
  {
   "cell_type": "markdown",
   "id": "23bc0161",
   "metadata": {},
   "source": [
    "### OPNIEUW DOEN indien health van light lager wordt"
   ]
  },
  {
   "cell_type": "markdown",
   "id": "dcce54bc",
   "metadata": {},
   "source": [
    "- healthSwitch: 85,92% > 83,89%\n",
    "- healthWire: 73,29% > 83,89%\n",
    "- healthLight: 81,94% > 79,52%"
   ]
  },
  {
   "cell_type": "code",
   "execution_count": null,
   "id": "b84dd6ab",
   "metadata": {},
   "outputs": [],
   "source": [
    "diagram.cpt(diagram.idFromName(\"healthWire\"))"
   ]
  },
  {
   "cell_type": "code",
   "execution_count": null,
   "id": "a1c73c84",
   "metadata": {},
   "outputs": [],
   "source": []
  },
  {
   "cell_type": "code",
   "execution_count": null,
   "id": "37cf0775",
   "metadata": {},
   "outputs": [],
   "source": []
  },
  {
   "cell_type": "code",
   "execution_count": null,
   "id": "def19adb",
   "metadata": {},
   "outputs": [],
   "source": []
  },
  {
   "cell_type": "markdown",
   "id": "90f52582",
   "metadata": {},
   "source": [
    "## overbodig geworden"
   ]
  },
  {
   "cell_type": "code",
   "execution_count": null,
   "id": "a22d0f54",
   "metadata": {
    "scrolled": false
   },
   "outputs": [],
   "source": [
    "printCptTables(diagram, oopn)"
   ]
  },
  {
   "cell_type": "code",
   "execution_count": null,
   "id": "66461c41",
   "metadata": {},
   "outputs": [],
   "source": [
    "diagram.cpt(diagram.idFromName(\"healthSwitch\"))[0] = 0.9\n",
    "diagram.cpt(diagram.idFromName(\"healthSwitch\"))[1] = 0.1\n",
    "diagram.cpt(diagram.idFromName(\"healthSwitch\"))\n",
    "diagram2.cpt(diagram2.idFromName(\"healthSwitch\"))[0] = 0.9\n",
    "diagram2.cpt(diagram2.idFromName(\"healthSwitch\"))[1] = 0.1\n",
    "diagram2.cpt(diagram2.idFromName(\"healthSwitch\"))"
   ]
  },
  {
   "cell_type": "code",
   "execution_count": null,
   "id": "79b0bfbb",
   "metadata": {},
   "outputs": [],
   "source": [
    "diagram2.cpt(diagram2.idFromName(\"PresentLightOutputsLightcopy\"))[{\"healthLight\":\"ok\", \"PresentPowerInputsLightcopy\":\"yes\"}] = [0.99, 0.01]      # yes, no\n",
    "diagram2.cpt(diagram2.idFromName(\"PresentLightOutputsLightcopy\"))[{\"healthLight\":\"broken\", \"PresentPowerInputsLightcopy\":\"yes\"}] = [0.01, 0.99]\n",
    "diagram2.cpt(diagram2.idFromName(\"PresentLightOutputsLightcopy\"))[{\"healthLight\":\"ok\", \"PresentPowerInputsLightcopy\":\"no\"}] = [0.01, 0.99]\n",
    "diagram2.cpt(diagram2.idFromName(\"PresentLightOutputsLightcopy\"))[{\"healthLight\":\"broken\", \"PresentPowerInputsLightcopy\":\"no\"}] = [0.01, 0.99]\n",
    "\n",
    "diagram2.cpt(diagram2.idFromName(\"PresentPowerOutputsSwitchcopy\"))[{\"PresentPowerInputsSwitchcopy\":\"yes\", \"healthSwitch\":\"ok\", \"EnabledStateInputsSwitch\":\"yes\"}] = [0.99, 0.01]\n",
    "diagram2.cpt(diagram2.idFromName(\"PresentPowerOutputsSwitchcopy\"))[{\"PresentPowerInputsSwitchcopy\":\"yes\", \"healthSwitch\":\"ok\", \"EnabledStateInputsSwitch\":\"no\"}] = [0.01, 0.99]\n",
    "diagram2.cpt(diagram2.idFromName(\"PresentPowerOutputsSwitchcopy\"))[{\"PresentPowerInputsSwitchcopy\":\"yes\", \"healthSwitch\":\"broken\", \"EnabledStateInputsSwitch\":\"yes\"}] = [0.01, 0.99]\n",
    "diagram2.cpt(diagram2.idFromName(\"PresentPowerOutputsSwitchcopy\"))[{\"PresentPowerInputsSwitchcopy\":\"yes\", \"healthSwitch\":\"broken\", \"EnabledStateInputsSwitch\":\"no\"}] = [0.01, 0.99]\n",
    "diagram2.cpt(diagram2.idFromName(\"PresentPowerOutputsSwitchcopy\"))[{\"PresentPowerInputsSwitchcopy\":\"no\", \"healthSwitch\":\"ok\", \"EnabledStateInputsSwitch\":\"yes\"}] = [0.01, 0.99]\n",
    "diagram2.cpt(diagram2.idFromName(\"PresentPowerOutputsSwitchcopy\"))[{\"PresentPowerInputsSwitchcopy\":\"no\", \"healthSwitch\":\"ok\", \"EnabledStateInputsSwitch\":\"no\"}] = [0.01, 0.99]\n",
    "diagram2.cpt(diagram2.idFromName(\"PresentPowerOutputsSwitchcopy\"))[{\"PresentPowerInputsSwitchcopy\":\"no\", \"healthSwitch\":\"broken\", \"EnabledStateInputsSwitch\":\"yes\"}] = [0.01, 0.99]\n",
    "diagram2.cpt(diagram2.idFromName(\"PresentPowerOutputsSwitchcopy\"))[{\"PresentPowerInputsSwitchcopy\":\"no\", \"healthSwitch\":\"broken\", \"EnabledStateInputsSwitch\":\"no\"}] = [0.01, 0.99]\n",
    "\n"
   ]
  },
  {
   "cell_type": "code",
   "execution_count": null,
   "id": "6ef07411",
   "metadata": {},
   "outputs": [],
   "source": [
    "'''\n",
    "# normaal gedrag\n",
    "a, b, c = \"yes\", \"yes\", \"yes\"\n",
    "dict = {\"PresentPowerInputsSwitch\":a, \"PresentLightOutputsLight\":b, \"PresentPowerInputsSwitchcopy\":c}\n",
    "diagram.utility(diagram.idFromName(\"utilT2\"))[dict] = 100\n",
    "\n",
    "a, b, c = \"no\", \"no\", \"no\"\n",
    "dict = {\"PresentPowerInputsSwitch\":a, \"PresentLightOutputsLight\":b, \"PresentPowerInputsSwitchcopy\":c}\n",
    "diagram.utility(diagram.idFromName(\"utilT2\"))[dict]  = 100\n",
    "\n",
    "# afwijkend gedrag\n",
    "a, b, c = \"yes\", \"no\", \"no\"\n",
    "dict = {\"PresentPowerInputsSwitch\":a, \"PresentLightOutputsLight\":b, \"PresentPowerInputsSwitchcopy\":c}\n",
    "diagram.utility(diagram.idFromName(\"utilT2\"))[dict]  = 90\n",
    "\n",
    "a, b, c = \"no\", \"yes\", \"yes\"\n",
    "dict = {\"PresentPowerInputsSwitch\":a, \"PresentLightOutputsLight\":b, \"PresentPowerInputsSwitchcopy\":c}\n",
    "diagram.utility(diagram.idFromName(\"utilT2\"))[dict]  = 90\n",
    "\n",
    "\n",
    "# levert geen extra info op dus onnodig\n",
    "a, b, c = \"yes\", \"no\", \"yes\"\n",
    "dict = {\"PresentPowerInputsSwitch\":a, \"PresentLightOutputsLight\":b, \"PresentPowerInputsSwitchcopy\":c}\n",
    "diagram.utility(diagram.idFromName(\"utilT2\"))[dict]  = 0\n",
    "\n",
    "a, b, c = \"no\", \"yes\", \"no\"\n",
    "dict = {\"PresentPowerInputsSwitch\":a, \"PresentLightOutputsLight\":b, \"PresentPowerInputsSwitchcopy\":c}\n",
    "diagram.utility(diagram.idFromName(\"utilT2\"))[dict]  = 0\n",
    "\n",
    "# bij normaal gedrag is switchen input niet nodig\n",
    "a, b, c = \"no\", \"no\", \"yes\"\n",
    "dict = {\"PresentPowerInputsSwitch\":a, \"PresentLightOutputsLight\":b, \"PresentPowerInputsSwitchcopy\":c}\n",
    "diagram.utility(diagram.idFromName(\"utilT2\"))[dict]  = 0\n",
    "\n",
    "a, b, c = \"yes\", \"yes\", \"no\"\n",
    "dict = {\"PresentPowerInputsSwitch\":a, \"PresentLightOutputsLight\":b, \"PresentPowerInputsSwitchcopy\":c}\n",
    "diagram.utility(diagram.idFromName(\"utilT2\"))[dict]  = 0\n",
    "'''"
   ]
  },
  {
   "cell_type": "code",
   "execution_count": null,
   "id": "bf71ca78",
   "metadata": {},
   "outputs": [],
   "source": [
    "gnb.flow.row(diagram2.cpt(diagram2.idFromName(\"PresentLightOutputsLightcopy\")), diagram2.cpt(diagram2.idFromName(\"PresentPowerInputsLightcopy\")), diagram2.cpt(diagram2.idFromName(\"PresentPowerOutputsSwitchcopy\")), diagram2.cpt(diagram2.idFromName(\"PresentPowerInputsSwitchcopy\")) )"
   ]
  },
  {
   "cell_type": "code",
   "execution_count": null,
   "id": "a66e342b",
   "metadata": {
    "scrolled": false
   },
   "outputs": [],
   "source": [
    "gnb.showInfluenceDiagram(diagram2, size=60)"
   ]
  },
  {
   "cell_type": "code",
   "execution_count": null,
   "id": "996e1d35",
   "metadata": {},
   "outputs": [],
   "source": [
    "diagram2.addArc(\"decT2\", \"PresentPowerInputsSwitchcopy\")"
   ]
  },
  {
   "cell_type": "code",
   "execution_count": null,
   "id": "20da5b12",
   "metadata": {},
   "outputs": [],
   "source": [
    "\n",
    "diagram2.utility(diagram.idFromName(\"utilT2\"))\n"
   ]
  },
  {
   "cell_type": "code",
   "execution_count": null,
   "id": "02526696",
   "metadata": {
    "scrolled": false
   },
   "outputs": [],
   "source": [
    "printCptTables(diagram2, oopn)"
   ]
  },
  {
   "cell_type": "code",
   "execution_count": null,
   "id": "f4b49d87",
   "metadata": {},
   "outputs": [],
   "source": [
    "evs = {    \n",
    "'PresentPowerInputsSwitch':0,\n",
    "'EnabledStateInputsSwitch':0,\n",
    "\n",
    "'PresentLightOutputsLight':1,\n",
    "#'PresentPowerInputsLight',\n",
    "#'healthLight',\n",
    "#'PresentPowerOutputsSwitch',\n",
    "#'healthSwitch',\n",
    "#'PresentLightOutputsLight1',\n",
    "#'PresentPowerInputsLight1':1,\n",
    "#'healthLight1',\n",
    "#'PresentPowerOutputsSwitch1',\n",
    "#'PresentPowerInputsSwitch1',\n",
    "#'EnabledStateInputsSwitch1',\n",
    "#'healthSwitch1',\n",
    "#'PresentLightOutputsLight2':1,\n",
    "#'PresentPowerInputsLight2',\n",
    "#'healthLight2',\n",
    "#'PresentPowerOutputsSwitch2',\n",
    "#'PresentPowerInputsSwitch2',\n",
    "#'EnabledStateInputsSwitch2',\n",
    "#'healthSwitch2',\n",
    "#'healthLight1',\n",
    "#'EnabledStateInputsSwitch2',\n",
    "#'healthSwitch2',\n",
    "#'healthLight2',\n",
    "}\n",
    "    \n"
   ]
  },
  {
   "cell_type": "code",
   "execution_count": null,
   "id": "02ab5d90",
   "metadata": {},
   "outputs": [],
   "source": [
    "evs2 = {    \n",
    "'PresentPowerInputsSwitch':0,\n",
    "'EnabledStateInputsSwitch':0,\n",
    "\n",
    "'PresentLightOutputsLight':1,\n",
    "#'PresentPowerInputsLight',\n",
    "#'healthLight',\n",
    "#'PresentPowerOutputsSwitch',\n",
    "#'healthSwitch',\n",
    "#'PresentLightOutputsLight1',\n",
    "#'PresentPowerInputsLight1':1,\n",
    "#'healthLight1',\n",
    "#'PresentPowerOutputsSwitch1',\n",
    "#'PresentPowerInputsSwitch1',\n",
    "#'EnabledStateInputsSwitch1',\n",
    "#'healthSwitch1',\n",
    "#'PresentLightOutputsLight2':1,\n",
    "#'PresentPowerInputsLight2',\n",
    "#'healthLight2',\n",
    "#'PresentPowerOutputsSwitch2',\n",
    "#'PresentPowerInputsSwitch2',\n",
    "#'EnabledStateInputsSwitch2',\n",
    "#'healthSwitch2',\n",
    "#'healthLight1',\n",
    "#'PresentLightOutputsLight1copy':0,\n",
    "#'PresentPowerInputsLight1copy':0,\n",
    "#'EnabledStateInputsSwitch2',\n",
    "#'healthSwitch2',\n",
    "#'PresentPowerOutputsSwitch2copy',\n",
    "'PresentPowerInputsSwitchcopy':1,\n",
    "#'healthLight2',\n",
    "'PresentLightOutputsLightcopy':0,\n",
    "#'PresentPowerInputsLight2copy':1\n",
    "}"
   ]
  },
  {
   "cell_type": "code",
   "execution_count": null,
   "id": "caaf2327",
   "metadata": {
    "scrolled": false
   },
   "outputs": [],
   "source": [
    "ie = gum.ShaferShenoyLIMIDInference(diagram) \n",
    "ie.setEvidence(evs)\n",
    "#ie.addNoForgettingAssumption([\"DecisionTestObserveHealthSwitch\",\"DecisionReplaceSwitch\", \"DecisionTestObserveHealthLight\", \"DecisionReplaceLight\"])\n",
    "gnb.sideBySide(gnb.getInference(diagram,engine=ie, evs=evs, size=200))"
   ]
  },
  {
   "cell_type": "code",
   "execution_count": null,
   "id": "e5ffea75",
   "metadata": {
    "scrolled": false
   },
   "outputs": [],
   "source": [
    "ie2 = gum.ShaferShenoyLIMIDInference(diagram2) \n",
    "ie2.setEvidence(evs2)\n",
    "#ie.addNoForgettingAssumption([\"DecisionTestObserveHealthSwitch\",\"DecisionReplaceSwitch\", \"DecisionTestObserveHealthLight\", \"DecisionReplaceLight\"])\n",
    "gnb.sideBySide(gnb.getInference(diagram2,engine=ie2, evs=evs2, size=200))"
   ]
  },
  {
   "cell_type": "code",
   "execution_count": null,
   "id": "7590a408",
   "metadata": {},
   "outputs": [],
   "source": []
  },
  {
   "cell_type": "code",
   "execution_count": null,
   "id": "48212e36",
   "metadata": {},
   "outputs": [],
   "source": []
  },
  {
   "cell_type": "code",
   "execution_count": null,
   "id": "df69da38",
   "metadata": {},
   "outputs": [],
   "source": []
  },
  {
   "cell_type": "code",
   "execution_count": null,
   "id": "e71955fe",
   "metadata": {},
   "outputs": [],
   "source": [
    "# visualiseren additionele DAG \n",
    "import matplotlib.pyplot as plt\n",
    "subax1 = plt.subplot()\n",
    "#nx.draw(G, with_labels=True, font_color='white', node_size=2000)\n",
    "nx.draw(G, font_color='white', node_size=500)"
   ]
  },
  {
   "cell_type": "code",
   "execution_count": null,
   "id": "9ac17f4f",
   "metadata": {},
   "outputs": [],
   "source": []
  },
  {
   "cell_type": "code",
   "execution_count": null,
   "id": "071164b8",
   "metadata": {},
   "outputs": [],
   "source": []
  },
  {
   "cell_type": "code",
   "execution_count": null,
   "id": "cc7c6c94",
   "metadata": {},
   "outputs": [],
   "source": []
  },
  {
   "cell_type": "code",
   "execution_count": null,
   "id": "8a359245",
   "metadata": {},
   "outputs": [],
   "source": []
  },
  {
   "cell_type": "code",
   "execution_count": null,
   "id": "18d4b12f",
   "metadata": {},
   "outputs": [],
   "source": []
  },
  {
   "cell_type": "code",
   "execution_count": null,
   "id": "1d4fa7d9",
   "metadata": {},
   "outputs": [],
   "source": [
    "# outputtest\n",
    "testutility = diagram.addUtilityNode(gum.LabelizedVariable(\"outputTest\", \"outputTest\", 1))\n",
    "testdecision = diagram.addDecisionNode(gum.LabelizedVariable(\"testdecision\", \"testdecisionl\", [\"yes\", \"no\"]))\n",
    "testoutcome = diagram.addChanceNode(gum.LabelizedVariable(\"testoutcome\", \"testoutcome\", [\"ok\", \"problem\", \"notdone\"]))\n",
    "diagram.addArc(diagram.idFromName(\"PresentLightOutputsLight\"), testutility)\n",
    "diagram.addArc(testdecision, testutility)\n",
    "diagram.addArc(testdecision, testoutcome)\n",
    "diagram.addArc(diagram.idFromName(\"healthWire\"), testoutcome)\n",
    "diagram.addArc(diagram.idFromName(\"healthSwitch\"), testoutcome)\n",
    "diagram.addArc(diagram.idFromName(\"healthLight\"), testoutcome)"
   ]
  },
  {
   "cell_type": "code",
   "execution_count": null,
   "id": "9d3f6331",
   "metadata": {
    "scrolled": false
   },
   "outputs": [],
   "source": [
    "printCptTables(diagram, oopn)"
   ]
  },
  {
   "cell_type": "code",
   "execution_count": null,
   "id": "80c291fd",
   "metadata": {
    "scrolled": false
   },
   "outputs": [],
   "source": [
    "printUtilityTables(diagram, oopn)"
   ]
  },
  {
   "cell_type": "code",
   "execution_count": null,
   "id": "24f82a0e",
   "metadata": {
    "scrolled": true
   },
   "outputs": [],
   "source": [
    "diagram.utility(\"outputTest\")[{\"testdecision\":\"yes\", \"PresentLightOutputsLight\":\"no\"}] = 4\n",
    "diagram.utility(\"outputTest\")[{\"testdecision\":\"no\", \"PresentLightOutputsLight\":\"no\"}] = 3\n",
    "diagram.utility(\"outputTest\")[{\"testdecision\":\"yes\", \"PresentLightOutputsLight\":\"yes\"}] = 2\n",
    "diagram.utility(\"outputTest\")[{\"testdecision\":\"no\", \"PresentLightOutputsLight\":\"yes\"}] = 1\n",
    "diagram.utility(\"outputTest\")"
   ]
  },
  {
   "cell_type": "code",
   "execution_count": null,
   "id": "60141985",
   "metadata": {},
   "outputs": [],
   "source": [
    "diagram.cpt(diagram.idFromName(\"testoutcome\"))[{\"healthLight\":\"ok\", \"healthSwitch\":\"ok\", \"healthWire\":\"ok\",\"testdecision\":\"yes\" }] = [0.98, 0.01, 0.01]\n",
    "diagram.cpt(diagram.idFromName(\"testoutcome\"))[{\"healthLight\":\"ok\", \"healthSwitch\":\"ok\", \"healthWire\":\"ok\",\"testdecision\":\"no\" }] = [0.01, 0.01, 0.98]\n",
    "diagram.cpt(diagram.idFromName(\"testoutcome\"))[{\"healthLight\":\"ok\", \"healthSwitch\":\"ok\", \"healthWire\":\"broken\",\"testdecision\":\"yes\" }] = [0.01, 0.98, 0.01]\n",
    "diagram.cpt(diagram.idFromName(\"testoutcome\"))[{\"healthLight\":\"ok\", \"healthSwitch\":\"ok\", \"healthWire\":\"broken\",\"testdecision\":\"no\" }] = [0.01, 0.01, 0.98]\n",
    "\n",
    "diagram.cpt(diagram.idFromName(\"testoutcome\"))[{\"healthLight\":\"ok\", \"healthSwitch\":\"broken\", \"healthWire\":\"ok\",\"testdecision\":\"yes\" }] = [0.01, 0.98, 0.01]\n",
    "diagram.cpt(diagram.idFromName(\"testoutcome\"))[{\"healthLight\":\"ok\", \"healthSwitch\":\"broken\", \"healthWire\":\"ok\",\"testdecision\":\"no\" }] = [0.01, 0.01, 0.98]\n",
    "diagram.cpt(diagram.idFromName(\"testoutcome\"))[{\"healthLight\":\"ok\", \"healthSwitch\":\"broken\", \"healthWire\":\"broken\",\"testdecision\":\"yes\" }] = [0.01, 0.98, 0.01]\n",
    "diagram.cpt(diagram.idFromName(\"testoutcome\"))[{\"healthLight\":\"ok\", \"healthSwitch\":\"broken\", \"healthWire\":\"broken\",\"testdecision\":\"no\" }] = [0.01, 0.01, 0.98]\n",
    "\n",
    "diagram.cpt(diagram.idFromName(\"testoutcome\"))[{\"healthLight\":\"broken\", \"healthSwitch\":\"ok\", \"healthWire\":\"ok\",\"testdecision\":\"yes\" }] = [0.01, 0.98, 0.01]\n",
    "diagram.cpt(diagram.idFromName(\"testoutcome\"))[{\"healthLight\":\"broken\", \"healthSwitch\":\"ok\", \"healthWire\":\"ok\",\"testdecision\":\"no\" }] = [0.01, 0.01, 0.98]\n",
    "diagram.cpt(diagram.idFromName(\"testoutcome\"))[{\"healthLight\":\"broken\", \"healthSwitch\":\"ok\", \"healthWire\":\"broken\",\"testdecision\":\"yes\" }] = [0.01, 0.98, 0.01]\n",
    "diagram.cpt(diagram.idFromName(\"testoutcome\"))[{\"healthLight\":\"broken\", \"healthSwitch\":\"ok\", \"healthWire\":\"broken\",\"testdecision\":\"no\" }] = [0.01, 0.01, 0.98]\n",
    "\n",
    "diagram.cpt(diagram.idFromName(\"testoutcome\"))[{\"healthLight\":\"broken\", \"healthSwitch\":\"broken\", \"healthWire\":\"ok\",\"testdecision\":\"yes\" }] = [0.01, 0.98, 0.01]\n",
    "diagram.cpt(diagram.idFromName(\"testoutcome\"))[{\"healthLight\":\"broken\", \"healthSwitch\":\"broken\", \"healthWire\":\"ok\",\"testdecision\":\"no\" }] = [0.01, 0.01, 0.98]\n",
    "diagram.cpt(diagram.idFromName(\"testoutcome\"))[{\"healthLight\":\"broken\", \"healthSwitch\":\"broken\", \"healthWire\":\"broken\",\"testdecision\":\"yes\" }] = [0.01, 0.98, 0.01]\n",
    "diagram.cpt(diagram.idFromName(\"testoutcome\"))[{\"healthLight\":\"broken\", \"healthSwitch\":\"broken\", \"healthWire\":\"broken\",\"testdecision\":\"no\" }] = [0.01, 0.01, 0.98]\n"
   ]
  },
  {
   "cell_type": "code",
   "execution_count": null,
   "id": "9f8136df",
   "metadata": {},
   "outputs": [],
   "source": [
    "diagram.cpt(diagram.idFromName(\"testoutcome\"))"
   ]
  },
  {
   "cell_type": "code",
   "execution_count": null,
   "id": "dc581453",
   "metadata": {},
   "outputs": [],
   "source": [
    "diagram.cpt.posterior(\"outputTest\")"
   ]
  },
  {
   "cell_type": "code",
   "execution_count": null,
   "id": "56fa902d",
   "metadata": {},
   "outputs": [],
   "source": [
    "ie.posteriorUtility(\"UtilityReplaceWire\")"
   ]
  },
  {
   "cell_type": "code",
   "execution_count": null,
   "id": "f379962e",
   "metadata": {},
   "outputs": [],
   "source": [
    "a = -5*.0087 + -2*.0013\n",
    "b = 0 + -4* .1238\n",
    "print(a+b)"
   ]
  },
  {
   "cell_type": "code",
   "execution_count": null,
   "id": "29a38b62",
   "metadata": {},
   "outputs": [],
   "source": []
  },
  {
   "cell_type": "code",
   "execution_count": null,
   "id": "f71f4465",
   "metadata": {},
   "outputs": [],
   "source": []
  },
  {
   "cell_type": "code",
   "execution_count": null,
   "id": "c9befd29",
   "metadata": {},
   "outputs": [],
   "source": [
    "gnb.showInfluenceDiagram(diagram, size=60)"
   ]
  },
  {
   "cell_type": "code",
   "execution_count": null,
   "id": "bbe48901",
   "metadata": {},
   "outputs": [],
   "source": [
    "from collections import defaultdict, deque\n",
    "\n",
    "# Class to represent a graph using adjacency list\n",
    "\n",
    "\n",
    "class Graph:\n",
    "    def __init__(self):\n",
    "        self.adjList = defaultdict(list)\n",
    "\n",
    "    # Function to add an edge to the graph\n",
    "    def addEdge(self, u, v):\n",
    "        self.adjList[u].append(v)\n",
    "\n",
    "    # Function to perform Breadth First Search on a graph represented using adjacency list\n",
    "    def bfs(self, startNode):\n",
    "        # Create a queue for BFS\n",
    "        queue = deque()\n",
    "        visited = [False] * (max(self.adjList.keys()) + 1)\n",
    "\n",
    "        # Mark the current node as visited and enqueue it\n",
    "        visited[startNode] = True\n",
    "        queue.append(startNode)\n",
    "\n",
    "        # Iterate over the queue\n",
    "        while queue:\n",
    "            # Dequeue a vertex from queue and print it\n",
    "            currentNode = queue.popleft()\n",
    "            print(currentNode, end=\" \")\n",
    "\n",
    "            # Get all adjacent vertices of the dequeued vertex currentNode\n",
    "            # If an adjacent has not been visited, then mark it visited and enqueue it\n",
    "            for neighbor in self.adjList[currentNode]:\n",
    "                if not visited[neighbor]:\n",
    "                    visited[neighbor] = True\n",
    "                    queue.append(neighbor)\n",
    "\n",
    "\n",
    "# Create a graph\n",
    "graph = Graph()\n",
    "\n",
    "# Add edges to the graph\n",
    "graph.addEdge(0, 1)\n",
    "graph.addEdge(0, 2)\n",
    "graph.addEdge(1, 3)\n",
    "graph.addEdge(1, 4)\n",
    "graph.addEdge(2, 4)\n",
    "\n",
    "# Perform BFS traversal starting from vertex 0\n",
    "print(\"Breadth First Traversal starting from vertex 0:\", end=\" \")\n",
    "graph.bfs(0)\n"
   ]
  },
  {
   "cell_type": "code",
   "execution_count": null,
   "id": "d16663bc",
   "metadata": {},
   "outputs": [],
   "source": [
    "import networkx as nx\n",
    "\n",
    "G = nx.DiGraph()\n",
    "G.add_nodes_from(range(100, 105))\n",
    "G.add_edges_from([(100, 101), (100, 103), (101,104), (103,102)])\n"
   ]
  },
  {
   "cell_type": "code",
   "execution_count": null,
   "id": "91b66549",
   "metadata": {},
   "outputs": [],
   "source": [
    "import matplotlib.pyplot as plt\n",
    "subax1 = plt.subplot()\n",
    "nx.draw(G, with_labels=True, font_weight='bold', font_color='white', node_size=1000)\n"
   ]
  },
  {
   "cell_type": "code",
   "execution_count": null,
   "id": "83d4656b",
   "metadata": {},
   "outputs": [],
   "source": [
    "nx.has_path(G, 100, 104)"
   ]
  },
  {
   "cell_type": "code",
   "execution_count": null,
   "id": "bff649f3",
   "metadata": {},
   "outputs": [],
   "source": [
    "nx.shortest_path(G, 100, 104)"
   ]
  },
  {
   "cell_type": "code",
   "execution_count": null,
   "id": "c28921fc",
   "metadata": {},
   "outputs": [],
   "source": [
    "nx.has_path(G, 100, 104)\n",
    "nx.shortest_path(G, 100, 104)"
   ]
  }
 ],
 "metadata": {
  "kernelspec": {
   "display_name": "Python 3 (ipykernel)",
   "language": "python",
   "name": "python3"
  },
  "language_info": {
   "codemirror_mode": {
    "name": "ipython",
    "version": 3
   },
   "file_extension": ".py",
   "mimetype": "text/x-python",
   "name": "python",
   "nbconvert_exporter": "python",
   "pygments_lexer": "ipython3",
   "version": "3.11.5"
  }
 },
 "nbformat": 4,
 "nbformat_minor": 5
}
