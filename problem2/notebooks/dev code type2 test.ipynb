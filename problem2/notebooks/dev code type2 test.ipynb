{
 "cells": [
  {
   "cell_type": "markdown",
   "id": "1faf72f1",
   "metadata": {},
   "source": [
    "# type 2 test influence diagram modelling validation\n",
    "\n",
    "- create the code for the type 2 test\n",
    "  \n",
    "  "
   ]
  },
  {
   "cell_type": "code",
   "execution_count": 64,
   "id": "021ef090",
   "metadata": {},
   "outputs": [
    {
     "name": "stdout",
     "output_type": "stream",
     "text": [
      "The autoreload extension is already loaded. To reload it, use:\n",
      "  %reload_ext autoreload\n"
     ]
    }
   ],
   "source": [
    "# enable autoreload of changes in accompanying code files\n",
    "%load_ext autoreload\n",
    "%autoreload 2"
   ]
  },
  {
   "cell_type": "markdown",
   "id": "50ad9062",
   "metadata": {},
   "source": [
    "### necessary imports en settings"
   ]
  },
  {
   "cell_type": "code",
   "execution_count": 65,
   "id": "cbd55a1c",
   "metadata": {},
   "outputs": [],
   "source": [
    "import os\n",
    "import sys\n",
    "import re\n",
    "import pyAgrum as gum\n",
    "import pyAgrum.lib.notebook as gnb\n",
    "from IPython.display import display, HTML, clear_output, Image\n",
    "import pandas as pd\n",
    "from itertools import product\n",
    "import math\n",
    "from deepdiff import DeepDiff"
   ]
  },
  {
   "cell_type": "code",
   "execution_count": 66,
   "id": "6bd00806",
   "metadata": {},
   "outputs": [],
   "source": [
    "sys.path.insert(1, \"/workspaces/ou-af/problem2/\")"
   ]
  },
  {
   "cell_type": "code",
   "execution_count": 67,
   "id": "f678245d",
   "metadata": {},
   "outputs": [],
   "source": [
    "# import code\n",
    "import src.oopnclasses as oopnclasses\n",
    "import src.oopnbuilder as oopnbuilder\n",
    "import src.diagrambuilder as diagrambuilder\n",
    "import src.testobservereplace as testobservereplace\n",
    "import src.testchangeinput as testchangeinput\n",
    "import specs.components as componentspecs\n",
    "import specs.connections as connectionspecs\n",
    "import specs.assemblies as assemblyspecs\n",
    "import specs.tests as testspecs\n",
    "import specs.testmappings as testmappingspecs"
   ]
  },
  {
   "cell_type": "code",
   "execution_count": 68,
   "id": "1a8a966f",
   "metadata": {},
   "outputs": [
    {
     "data": {
      "text/html": [
       "<style>/* https://skelouse.github.io/styling_a_jupyter_notebook */\n",
       "\n",
       ".container { \n",
       "    width:90% !important; \n",
       "}\n",
       "\n",
       ".blockquote {\n",
       "  border: 1.5px solid #333;\n",
       "  padding: 8px 12px;\n",
       "  background-image: linear-gradient(180deg, #fff, rgb(160, 147, 147));\n",
       "  position: static;\n",
       "}\n",
       "\n",
       ".img {\n",
       "    display: inline-block;\n",
       "    align: left;\n",
       "    margin-left: auto;\n",
       "    margin-right: auto;\n",
       "    width: 75%;\n",
       "}\n",
       "\n",
       ".mycomment {\n",
       "    color: red;\n",
       "}\n",
       "</style"
      ],
      "text/plain": [
       "<IPython.core.display.HTML object>"
      ]
     },
     "execution_count": 68,
     "metadata": {},
     "output_type": "execute_result"
    }
   ],
   "source": [
    "# Styling notebook\n",
    "def css_styling():\n",
    "    styles = open(\"./styles/custom.css\", \"r\").read()\n",
    "    return HTML(\"<style>\" + styles + \"</style\")\n",
    "\n",
    "css_styling()"
   ]
  },
  {
   "cell_type": "markdown",
   "id": "e5cf1256",
   "metadata": {},
   "source": [
    "### methods to visualize diagram"
   ]
  },
  {
   "cell_type": "code",
   "execution_count": 69,
   "id": "2b940189",
   "metadata": {},
   "outputs": [],
   "source": [
    "def visualizeStructure(diagram):\n",
    "#    display(HTML(\"<style>.container { width:100% !important; }</style>\"))\n",
    "\n",
    "    # print summary of nodes\n",
    "    print(diagram)\n",
    "\n",
    "    # view structure\n",
    "    gnb.showInfluenceDiagram(diagram, size=60)\n",
    "    \n",
    "def createUtilityRow(nodelist):\n",
    "    row_elements = [diagram.utility(node) for node in nodelist]\n",
    "    gnb.flow.row(*row_elements)\n",
    "\n",
    "def createCptRow(nodelist):\n",
    "    row_elements = [diagram.cpt(node) for node in nodelist]\n",
    "    gnb.flow.row(*row_elements)\n",
    "\n",
    "def showCPTs(diagram):\n",
    "    nodes = diagram.nodes()\n",
    "    for n in nodes:\n",
    "        if(diagram.isChanceNode(n)):\n",
    "            gnb.flow.row(diagram.cpt(n))\n",
    "            \n",
    "def getDiagramChanceNodeIdsForComponent(componentname, diagram):\n",
    "    idlist = []\n",
    "    diagramNames = diagram.names()\n",
    "    for dname in diagramNames:\n",
    "        if(re.search(componentname + \"$\", dname)):\n",
    "            nodeid = diagram.idFromName(dname)\n",
    "            if (diagram.isChanceNode(nodeid)):\n",
    "                idlist.append(nodeid)\n",
    "    return idlist\n",
    "    \n",
    "\n",
    "def printCptTables(diagram, system):\n",
    "    for component in system.getComponents():\n",
    "        print(\"CPT tables for component: \" + component.getName())\n",
    "        createCptRow(getDiagramChanceNodeIdsForComponent(component.getName(), diagram))\n",
    "        \n",
    "def getDiagramUtilityNodeIdsForComponent(componentname, diagram):\n",
    "    idlist = []\n",
    "    diagramNames = diagram.names()\n",
    "    for dname in diagramNames:\n",
    "        if(re.search(componentname + \"$\", dname)):\n",
    "            nodeid = diagram.idFromName(dname)\n",
    "            if (diagram.isUtilityNode(nodeid)):\n",
    "                idlist.append(nodeid)\n",
    "    return idlist\n",
    "    \n",
    "\n",
    "def printUtilityTables(diagram, system):\n",
    "    for component in system.getComponents():\n",
    "        print(\"Utility tables for component: \" + component.getName())\n",
    "        createUtilityRow(getDiagramUtilityNodeIdsForComponent(component.getName(), diagram))"
   ]
  },
  {
   "cell_type": "markdown",
   "id": "246a9cb8",
   "metadata": {},
   "source": [
    "## generating influence diagram for a type 2 test"
   ]
  },
  {
   "cell_type": "markdown",
   "id": "4c107422",
   "metadata": {},
   "source": [
    "### loading system description"
   ]
  },
  {
   "cell_type": "code",
   "execution_count": 232,
   "id": "da20cf43",
   "metadata": {},
   "outputs": [],
   "source": [
    "assembly = {\n",
    "    \"components\"  : [componentspecs.light, componentspecs.switch],\n",
    "    \"connections\" : [connectionspecs.wire, connectionspecs.wire2],\n",
    "    \"structure\"   : assemblyspecs.structure1,   # light, switch en wire bb\n",
    "    \"tests\"       : [testspecs.observeorreplacetest, testspecs.changeinputtest],\n",
    "    \"testmapping\" : testmappingspecs.testmapping5     # geen testen want de test wordt hieronder handmatig toegevoegd\n",
    "}"
   ]
  },
  {
   "cell_type": "markdown",
   "id": "479827a9",
   "metadata": {},
   "source": [
    "### toevoegen systemhealth\n",
    "- uitbreiden beschrijving assembly met variabele systemhealth: yes/no\n",
    "- oopnclasses.py, toevoegen class SystemHealth met een naam en inkomende healthnodes\n",
    "- oopnbuilder.py, toevoegen methode om systemhealth aan te maken en methode om healthnodes te verzamelen\n",
    "- oopnbuilder.py, uitbreiden aanmaken oopn object met systemhealth\n",
    "- diagrambuilder.py, toevoegen addSystemHealth aan main\n"
   ]
  },
  {
   "cell_type": "markdown",
   "id": "79982482",
   "metadata": {},
   "source": [
    "### generate OOPN"
   ]
  },
  {
   "cell_type": "code",
   "execution_count": 250,
   "id": "5f31297d",
   "metadata": {},
   "outputs": [
    {
     "name": "stdout",
     "output_type": "stream",
     "text": [
      "start building system: structure1\n",
      "number of components: 2\n",
      "number of connections: 1\n",
      "added systemHealth\n",
      "adding component: Switchcopy\n",
      "adding component: Lightcopy\n",
      "adding connection Wirecopy between: Switchcopy and Lightcopy with healthnode: healthWire\n",
      "number of tests: 1\n"
     ]
    }
   ],
   "source": [
    "oopn = oopnbuilder.OopnBuilder(assembly).getOopn()"
   ]
  },
  {
   "cell_type": "markdown",
   "id": "fb16700b",
   "metadata": {},
   "source": [
    "### generate influence diagram from OOPN"
   ]
  },
  {
   "cell_type": "code",
   "execution_count": 251,
   "id": "d5355f33",
   "metadata": {},
   "outputs": [
    {
     "name": "stdout",
     "output_type": "stream",
     "text": [
      "adding component: Light\n",
      "adding component: Switch\n",
      "adding component: Switchcopy\n",
      "node not added, already exists in diagramEnabledStateInputsSwitch\n",
      "node not added, already exists in diagramhealthSwitch\n",
      "adding component: Lightcopy\n",
      "node not added, already exists in diagramhealthLight\n",
      "adding connection between: PresentPowerOutputsSwitch and: PresentPowerInputsLight\n",
      "adding connection between: PresentPowerOutputsSwitchcopy and: PresentPowerInputsLightcopy\n",
      "node not added, already exists in diagramhealthWire\n",
      "adding cpt for component: Light\n",
      "adding cpt for component: Switch\n",
      "adding cpt for component: Switchcopy\n",
      "adding cpt for component: Lightcopy\n",
      "adding cpt for connection: Wire\n",
      "adding cpt for connection: Wirecopy\n",
      "adding systemHealth variable: \n",
      "adding systemhealth connections\n",
      "adding test: ChangeInputTest\n",
      "adding node: DecisionChangeInputTestSwitch\n",
      "adding node: UtilityChangeInputTestSwitch\n",
      "add edge from: DecisionChangeInputTestSwitch to: PresentPowerInputsSwitchcopy\n",
      "add edge from: PresentPowerOutputsSwitch to: DecisionChangeInputTestSwitch\n",
      "add edge from: PresentPowerInputsSwitchcopy to: UtilityChangeInputTestSwitch\n",
      "add edge from: systemhealth to: UtilityChangeInputTestSwitch\n",
      "add edge from: PresentPowerInputsSwitch to: UtilityChangeInputTestSwitch\n",
      "adding utility to: UtilityChangeInputTestSwitch\n",
      "potential node not identical to potential in diagram:UtilityChangeInputTestSwitch\n",
      "diagram: ('UtilityChangeInputTestSwitch', 'PresentPowerInputsSwitchcopy', 'systemhealth', 'PresentPowerInputsSwitch') oopn: ('UtilityChangeInputTestSwitch', 'DecisionChangeInputTestSwitch')\n"
     ]
    }
   ],
   "source": [
    "# create diagram object en bouw influence diagram obv OOPN\n",
    "diagram = gum.InfluenceDiagram()\n",
    "diagram = diagrambuilder.diagramBuilder(diagram, oopn)"
   ]
  },
  {
   "cell_type": "code",
   "execution_count": 252,
   "id": "403e2fe0",
   "metadata": {
    "scrolled": false
   },
   "outputs": [
    {
     "data": {
      "image/svg+xml": [
       "<svg xmlns=\"http://www.w3.org/2000/svg\" xmlns:xlink=\"http://www.w3.org/1999/xlink\" width=\"1231pt\" height=\"517pt\" viewBox=\"0.00 0.00 1231.26 517.43\">\n",
       "<g id=\"graph0\" class=\"graph\" transform=\"scale(1 1) rotate(0) translate(4 513.43)\">\n",
       "<title>G</title>\n",
       "<!-- PresentLightOutputsLight -->\n",
       "<g id=\"node1\" class=\"node\">\n",
       "<title>PresentLightOutputsLight</title>\n",
       "<ellipse fill=\"#808080\" stroke=\"black\" cx=\"662.66\" cy=\"-177.7\" rx=\"143.59\" ry=\"20.51\"/>\n",
       "<text text-anchor=\"middle\" x=\"662.66\" y=\"-174\" font-family=\"Times,serif\" font-size=\"14.00\" fill=\"white\">PresentLightOutputsLight</text>\n",
       "</g>\n",
       "<!-- PresentPowerInputsLight -->\n",
       "<g id=\"node2\" class=\"node\">\n",
       "<title>PresentPowerInputsLight</title>\n",
       "<ellipse fill=\"#808080\" stroke=\"black\" cx=\"658.66\" cy=\"-257.89\" rx=\"140.01\" ry=\"20.51\"/>\n",
       "<text text-anchor=\"middle\" x=\"658.66\" y=\"-254.19\" font-family=\"Times,serif\" font-size=\"14.00\" fill=\"white\">PresentPowerInputsLight</text>\n",
       "</g>\n",
       "<!-- PresentPowerInputsLight&#45;&gt;PresentLightOutputsLight -->\n",
       "<g id=\"edge1\" class=\"edge\">\n",
       "<title>PresentPowerInputsLight-&gt;PresentLightOutputsLight</title>\n",
       "<path fill=\"none\" stroke=\"#4a4a4a\" d=\"M659.67,-237.16C660.12,-228.45 660.65,-218.04 661.14,-208.42\"/>\n",
       "<polygon fill=\"#4a4a4a\" stroke=\"#4a4a4a\" points=\"664.64,-208.59 661.65,-198.43 657.65,-208.23 664.64,-208.59\"/>\n",
       "</g>\n",
       "<!-- healthLight -->\n",
       "<g id=\"node3\" class=\"node\">\n",
       "<title>healthLight</title>\n",
       "<ellipse fill=\"#808080\" stroke=\"black\" cx=\"941.66\" cy=\"-334.9\" rx=\"68.68\" ry=\"20.51\"/>\n",
       "<text text-anchor=\"middle\" x=\"941.66\" y=\"-331.2\" font-family=\"Times,serif\" font-size=\"14.00\" fill=\"white\">healthLight</text>\n",
       "</g>\n",
       "<!-- healthLight&#45;&gt;PresentLightOutputsLight -->\n",
       "<g id=\"edge2\" class=\"edge\">\n",
       "<title>healthLight-&gt;PresentLightOutputsLight</title>\n",
       "<path fill=\"none\" stroke=\"#4a4a4a\" d=\"M960.16,-315.08C978.39,-294.23 1000.93,-260.52 981.66,-237.38 974.64,-228.95 857.86,-209.02 767.61,-194.73\"/>\n",
       "<polygon fill=\"#4a4a4a\" stroke=\"#4a4a4a\" points=\"768,-191.25 757.58,-193.15 766.91,-198.17 768,-191.25\"/>\n",
       "</g>\n",
       "<!-- PresentLightOutputsLightcopy -->\n",
       "<g id=\"node10\" class=\"node\">\n",
       "<title>PresentLightOutputsLightcopy</title>\n",
       "<ellipse fill=\"#808080\" stroke=\"black\" cx=\"859.66\" cy=\"-20.51\" rx=\"166.75\" ry=\"20.51\"/>\n",
       "<text text-anchor=\"middle\" x=\"859.66\" y=\"-16.81\" font-family=\"Times,serif\" font-size=\"14.00\" fill=\"white\">PresentLightOutputsLightcopy</text>\n",
       "</g>\n",
       "<!-- healthLight&#45;&gt;PresentLightOutputsLightcopy -->\n",
       "<g id=\"edge3\" class=\"edge\">\n",
       "<title>healthLight-&gt;PresentLightOutputsLightcopy</title>\n",
       "<path fill=\"none\" stroke=\"#4a4a4a\" d=\"M995.94,-322.25C1090.97,-299.27 1271.85,-242.52 1210.66,-154.02 1162.81,-84.8 1073.85,-51.7 997.47,-35.89\"/>\n",
       "<polygon fill=\"#4a4a4a\" stroke=\"#4a4a4a\" points=\"997.76,-32.37 987.27,-33.86 996.39,-39.24 997.76,-32.37\"/>\n",
       "</g>\n",
       "<!-- systemhealth -->\n",
       "<g id=\"node13\" class=\"node\">\n",
       "<title>systemhealth</title>\n",
       "<ellipse fill=\"#808080\" stroke=\"black\" cx=\"894.66\" cy=\"-257.89\" rx=\"78.48\" ry=\"20.51\"/>\n",
       "<text text-anchor=\"middle\" x=\"894.66\" y=\"-254.19\" font-family=\"Times,serif\" font-size=\"14.00\" fill=\"white\">systemhealth</text>\n",
       "</g>\n",
       "<!-- healthLight&#45;&gt;systemhealth -->\n",
       "<g id=\"edge4\" class=\"edge\">\n",
       "<title>healthLight-&gt;systemhealth</title>\n",
       "<path fill=\"none\" stroke=\"#4a4a4a\" d=\"M929.56,-314.58C924.28,-306.16 918,-296.12 912.22,-286.91\"/>\n",
       "<polygon fill=\"#4a4a4a\" stroke=\"#4a4a4a\" points=\"915.17,-285.02 906.89,-278.4 909.23,-288.73 915.17,-285.02\"/>\n",
       "</g>\n",
       "<!-- PresentPowerOutputsSwitch -->\n",
       "<g id=\"node4\" class=\"node\">\n",
       "<title>PresentPowerOutputsSwitch</title>\n",
       "<ellipse fill=\"#808080\" stroke=\"black\" cx=\"567.66\" cy=\"-411.91\" rx=\"156.04\" ry=\"20.51\"/>\n",
       "<text text-anchor=\"middle\" x=\"567.66\" y=\"-408.21\" font-family=\"Times,serif\" font-size=\"14.00\" fill=\"white\">PresentPowerOutputsSwitch</text>\n",
       "</g>\n",
       "<!-- PresentPowerOutputsSwitch&#45;&gt;PresentPowerInputsLight -->\n",
       "<g id=\"edge5\" class=\"edge\">\n",
       "<title>PresentPowerOutputsSwitch-&gt;PresentPowerInputsLight</title>\n",
       "<path fill=\"none\" stroke=\"#4a4a4a\" d=\"M602.29,-391.75C615.95,-382.49 630.53,-370.17 639.66,-355.41 652.08,-335.34 656.63,-308.82 658.19,-288.66\"/>\n",
       "<polygon fill=\"#4a4a4a\" stroke=\"#4a4a4a\" points=\"661.69,-288.66 658.76,-278.47 654.7,-288.26 661.69,-288.66\"/>\n",
       "</g>\n",
       "<!-- DecisionChangeInputTestSwitch -->\n",
       "<g id=\"node14\" class=\"node\">\n",
       "<title>DecisionChangeInputTestSwitch</title>\n",
       "<polygon fill=\"#9a5050\" stroke=\"black\" points=\"447.66,-349.4 201.66,-349.4 201.66,-320.4 447.66,-320.4 447.66,-349.4\"/>\n",
       "<text text-anchor=\"middle\" x=\"324.66\" y=\"-331.2\" font-family=\"Times,serif\" font-size=\"14.00\" fill=\"white\">DecisionChangeInputTestSwitch</text>\n",
       "</g>\n",
       "<!-- PresentPowerOutputsSwitch&#45;&gt;DecisionChangeInputTestSwitch -->\n",
       "<g id=\"edge6\" class=\"edge\">\n",
       "<title>PresentPowerOutputsSwitch-&gt;DecisionChangeInputTestSwitch</title>\n",
       "<polygon fill=\"#4a4a4a\" stroke=\"transparent\" stroke-width=\"2\" stroke-dasharray=\"1,5\" points=\"509.45,-391.89 503.39,-390.07 497.16,-388.2 490.79,-386.28 484.28,-384.33 477.67,-382.34 470.97,-380.32 464.2,-378.29 457.38,-376.24 450.52,-374.18 443.66,-372.11 436.8,-370.05 429.97,-368 423.19,-365.96 416.47,-363.94 409.84,-361.94 403.31,-359.98 396.9,-358.05 390.64,-356.17 384.54,-354.34 378.63,-352.56 378.63,-352.56 384.52,-354.42 390.59,-356.35 396.82,-358.32 403.2,-360.34 409.7,-362.4 416.3,-364.49 422.99,-366.61 429.74,-368.75 436.54,-370.9 443.37,-373.06 450.2,-375.23 457.02,-377.39 463.81,-379.54 470.55,-381.67 477.22,-383.79 483.81,-385.87 490.28,-387.92 496.62,-389.93 502.82,-391.89 508.86,-393.8 509.45,-391.89\"/>\n",
       "<polygon fill=\"#4a4a4a\" stroke=\"#4a4a4a\" stroke-width=\"2\" points=\"379.18,-349.06 368.59,-349.46 377.11,-355.75 379.18,-349.06\"/>\n",
       "</g>\n",
       "<!-- PresentPowerInputsSwitch -->\n",
       "<g id=\"node5\" class=\"node\">\n",
       "<title>PresentPowerInputsSwitch</title>\n",
       "<ellipse fill=\"#808080\" stroke=\"black\" cx=\"924.66\" cy=\"-488.92\" rx=\"147.57\" ry=\"20.51\"/>\n",
       "<text text-anchor=\"middle\" x=\"924.66\" y=\"-485.22\" font-family=\"Times,serif\" font-size=\"14.00\" fill=\"white\">PresentPowerInputsSwitch</text>\n",
       "</g>\n",
       "<!-- PresentPowerInputsSwitch&#45;&gt;PresentPowerOutputsSwitch -->\n",
       "<g id=\"edge7\" class=\"edge\">\n",
       "<title>PresentPowerInputsSwitch-&gt;PresentPowerOutputsSwitch</title>\n",
       "<path fill=\"none\" stroke=\"#4a4a4a\" d=\"M846.32,-471.46C790.44,-459.72 715.2,-443.91 656.99,-431.68\"/>\n",
       "<polygon fill=\"#4a4a4a\" stroke=\"#4a4a4a\" points=\"657.57,-428.23 647.06,-429.59 656.13,-435.08 657.57,-428.23\"/>\n",
       "</g>\n",
       "<!-- UtilityChangeInputTestSwitch -->\n",
       "<g id=\"node15\" class=\"node\">\n",
       "<title>UtilityChangeInputTestSwitch</title>\n",
       "<polygon fill=\"#50508a\" stroke=\"black\" points=\"1201.39,-177.7 1107.02,-201.56 918.3,-201.56 823.94,-177.7 918.3,-153.84 1107.02,-153.84 1201.39,-177.7\"/>\n",
       "<text text-anchor=\"middle\" x=\"1012.66\" y=\"-174\" font-family=\"Times,serif\" font-size=\"14.00\" fill=\"white\">UtilityChangeInputTestSwitch</text>\n",
       "</g>\n",
       "<!-- PresentPowerInputsSwitch&#45;&gt;UtilityChangeInputTestSwitch -->\n",
       "<g id=\"edge8\" class=\"edge\">\n",
       "<title>PresentPowerInputsSwitch-&gt;UtilityChangeInputTestSwitch</title>\n",
       "<path fill=\"none\" stroke=\"#4a4a4a\" stroke-dasharray=\"5,2\" d=\"M945.05,-468.19C968.31,-444.11 1005.03,-400.95 1019.66,-355.41 1035.18,-307.12 1027.76,-247.57 1020.54,-211.4\"/>\n",
       "<polygon fill=\"#4a4a4a\" stroke=\"#4a4a4a\" points=\"1023.92,-210.47 1018.43,-201.41 1017.07,-211.92 1023.92,-210.47\"/>\n",
       "</g>\n",
       "<!-- EnabledStateInputsSwitch -->\n",
       "<g id=\"node6\" class=\"node\">\n",
       "<title>EnabledStateInputsSwitch</title>\n",
       "<ellipse fill=\"#808080\" stroke=\"black\" cx=\"145.66\" cy=\"-488.92\" rx=\"145.83\" ry=\"20.51\"/>\n",
       "<text text-anchor=\"middle\" x=\"145.66\" y=\"-485.22\" font-family=\"Times,serif\" font-size=\"14.00\" fill=\"white\">EnabledStateInputsSwitch</text>\n",
       "</g>\n",
       "<!-- EnabledStateInputsSwitch&#45;&gt;PresentPowerOutputsSwitch -->\n",
       "<g id=\"edge9\" class=\"edge\">\n",
       "<title>EnabledStateInputsSwitch-&gt;PresentPowerOutputsSwitch</title>\n",
       "<path fill=\"none\" stroke=\"#4a4a4a\" d=\"M232.85,-472.43C301.42,-460.24 397,-443.25 468.49,-430.54\"/>\n",
       "<polygon fill=\"#4a4a4a\" stroke=\"#4a4a4a\" points=\"469.18,-433.97 478.41,-428.78 467.96,-427.08 469.18,-433.97\"/>\n",
       "</g>\n",
       "<!-- PresentPowerOutputsSwitchcopy -->\n",
       "<g id=\"node8\" class=\"node\">\n",
       "<title>PresentPowerOutputsSwitchcopy</title>\n",
       "<ellipse fill=\"#808080\" stroke=\"black\" cx=\"187.66\" cy=\"-177.7\" rx=\"179.71\" ry=\"20.51\"/>\n",
       "<text text-anchor=\"middle\" x=\"187.66\" y=\"-174\" font-family=\"Times,serif\" font-size=\"14.00\" fill=\"white\">PresentPowerOutputsSwitchcopy</text>\n",
       "</g>\n",
       "<!-- EnabledStateInputsSwitch&#45;&gt;PresentPowerOutputsSwitchcopy -->\n",
       "<g id=\"edge10\" class=\"edge\">\n",
       "<title>EnabledStateInputsSwitch-&gt;PresentPowerOutputsSwitchcopy</title>\n",
       "<path fill=\"none\" stroke=\"#4a4a4a\" d=\"M111.69,-468.78C98.86,-459.59 85.67,-447.32 78.66,-432.42 41.78,-353.97 34.21,-311.8 78.66,-237.38 87.83,-222.04 102.55,-210.47 118.24,-201.84\"/>\n",
       "<polygon fill=\"#4a4a4a\" stroke=\"#4a4a4a\" points=\"120.23,-204.75 127.56,-197.1 117.06,-198.52 120.23,-204.75\"/>\n",
       "</g>\n",
       "<!-- healthSwitch -->\n",
       "<g id=\"node7\" class=\"node\">\n",
       "<title>healthSwitch</title>\n",
       "<ellipse fill=\"#808080\" stroke=\"black\" cx=\"567.66\" cy=\"-488.92\" rx=\"76.24\" ry=\"20.51\"/>\n",
       "<text text-anchor=\"middle\" x=\"567.66\" y=\"-485.22\" font-family=\"Times,serif\" font-size=\"14.00\" fill=\"white\">healthSwitch</text>\n",
       "</g>\n",
       "<!-- healthSwitch&#45;&gt;PresentPowerOutputsSwitch -->\n",
       "<g id=\"edge11\" class=\"edge\">\n",
       "<title>healthSwitch-&gt;PresentPowerOutputsSwitch</title>\n",
       "<path fill=\"none\" stroke=\"#4a4a4a\" d=\"M567.66,-468.22C567.66,-460.38 567.66,-451.19 567.66,-442.58\"/>\n",
       "<polygon fill=\"#4a4a4a\" stroke=\"#4a4a4a\" points=\"571.16,-442.49 567.66,-432.49 564.16,-442.49 571.16,-442.49\"/>\n",
       "</g>\n",
       "<!-- healthSwitch&#45;&gt;PresentPowerOutputsSwitchcopy -->\n",
       "<g id=\"edge13\" class=\"edge\">\n",
       "<title>healthSwitch-&gt;PresentPowerOutputsSwitchcopy</title>\n",
       "<path fill=\"none\" stroke=\"#4a4a4a\" d=\"M509.29,-475.59C432.46,-457.57 295.16,-419.07 192.66,-355.41 138.62,-321.84 83.61,-294.48 111.66,-237.38 118.29,-223.89 129.68,-212.62 141.66,-203.68\"/>\n",
       "<polygon fill=\"#4a4a4a\" stroke=\"#4a4a4a\" points=\"143.79,-206.46 149.99,-197.87 139.79,-200.72 143.79,-206.46\"/>\n",
       "</g>\n",
       "<!-- healthSwitch&#45;&gt;systemhealth -->\n",
       "<g id=\"edge12\" class=\"edge\">\n",
       "<title>healthSwitch-&gt;systemhealth</title>\n",
       "<path fill=\"none\" stroke=\"#4a4a4a\" d=\"M626.55,-475.68C659.53,-467.02 700.39,-453.2 732.66,-432.42 794.1,-392.86 848.14,-324.87 875.56,-286.8\"/>\n",
       "<polygon fill=\"#4a4a4a\" stroke=\"#4a4a4a\" points=\"878.69,-288.43 881.63,-278.25 872.99,-284.37 878.69,-288.43\"/>\n",
       "</g>\n",
       "<!-- PresentPowerInputsLightcopy -->\n",
       "<g id=\"node11\" class=\"node\">\n",
       "<title>PresentPowerInputsLightcopy</title>\n",
       "<ellipse fill=\"#808080\" stroke=\"black\" cx=\"490.66\" cy=\"-97.52\" rx=\"163.18\" ry=\"20.51\"/>\n",
       "<text text-anchor=\"middle\" x=\"490.66\" y=\"-93.82\" font-family=\"Times,serif\" font-size=\"14.00\" fill=\"white\">PresentPowerInputsLightcopy</text>\n",
       "</g>\n",
       "<!-- PresentPowerOutputsSwitchcopy&#45;&gt;PresentPowerInputsLightcopy -->\n",
       "<g id=\"edge14\" class=\"edge\">\n",
       "<title>PresentPowerOutputsSwitchcopy-&gt;PresentPowerInputsLightcopy</title>\n",
       "<path fill=\"none\" stroke=\"#4a4a4a\" d=\"M257.18,-158.77C303.52,-146.81 364.5,-131.07 412.53,-118.68\"/>\n",
       "<polygon fill=\"#4a4a4a\" stroke=\"#4a4a4a\" points=\"413.45,-122.06 422.26,-116.17 411.7,-115.28 413.45,-122.06\"/>\n",
       "</g>\n",
       "<!-- PresentPowerInputsSwitchcopy -->\n",
       "<g id=\"node9\" class=\"node\">\n",
       "<title>PresentPowerInputsSwitchcopy</title>\n",
       "<ellipse fill=\"#808080\" stroke=\"black\" cx=\"291.66\" cy=\"-257.89\" rx=\"171.24\" ry=\"20.51\"/>\n",
       "<text text-anchor=\"middle\" x=\"291.66\" y=\"-254.19\" font-family=\"Times,serif\" font-size=\"14.00\" fill=\"white\">PresentPowerInputsSwitchcopy</text>\n",
       "</g>\n",
       "<!-- PresentPowerInputsSwitchcopy&#45;&gt;PresentPowerOutputsSwitchcopy -->\n",
       "<g id=\"edge16\" class=\"edge\">\n",
       "<title>PresentPowerInputsSwitchcopy-&gt;PresentPowerOutputsSwitchcopy</title>\n",
       "<path fill=\"none\" stroke=\"#4a4a4a\" d=\"M265.96,-237.56C252.58,-227.51 236.06,-215.08 221.64,-204.25\"/>\n",
       "<polygon fill=\"#4a4a4a\" stroke=\"#4a4a4a\" points=\"223.53,-201.29 213.44,-198.08 219.33,-206.88 223.53,-201.29\"/>\n",
       "</g>\n",
       "<!-- PresentPowerInputsSwitchcopy&#45;&gt;UtilityChangeInputTestSwitch -->\n",
       "<g id=\"edge15\" class=\"edge\">\n",
       "<title>PresentPowerInputsSwitchcopy-&gt;UtilityChangeInputTestSwitch</title>\n",
       "<path fill=\"none\" stroke=\"#4a4a4a\" stroke-dasharray=\"5,2\" d=\"M417.16,-243.92C523.34,-232.87 679.5,-216.43 815.66,-201.38 835.13,-199.23 855.67,-196.91 875.85,-194.61\"/>\n",
       "<polygon fill=\"#4a4a4a\" stroke=\"#4a4a4a\" points=\"876.51,-198.06 886.04,-193.45 875.71,-191.11 876.51,-198.06\"/>\n",
       "</g>\n",
       "<!-- PresentPowerInputsLightcopy&#45;&gt;PresentLightOutputsLightcopy -->\n",
       "<g id=\"edge17\" class=\"edge\">\n",
       "<title>PresentPowerInputsLightcopy-&gt;PresentLightOutputsLightcopy</title>\n",
       "<path fill=\"none\" stroke=\"#4a4a4a\" d=\"M573.02,-79.78C630.44,-68.1 707.15,-52.51 766.76,-40.39\"/>\n",
       "<polygon fill=\"#4a4a4a\" stroke=\"#4a4a4a\" points=\"767.82,-43.75 776.93,-38.33 766.43,-36.89 767.82,-43.75\"/>\n",
       "</g>\n",
       "<!-- healthWire -->\n",
       "<g id=\"node12\" class=\"node\">\n",
       "<title>healthWire</title>\n",
       "<ellipse fill=\"#808080\" stroke=\"black\" cx=\"564.66\" cy=\"-334.9\" rx=\"65.52\" ry=\"20.51\"/>\n",
       "<text text-anchor=\"middle\" x=\"564.66\" y=\"-331.2\" font-family=\"Times,serif\" font-size=\"14.00\" fill=\"white\">healthWire</text>\n",
       "</g>\n",
       "<!-- healthWire&#45;&gt;PresentPowerInputsLight -->\n",
       "<g id=\"edge18\" class=\"edge\">\n",
       "<title>healthWire-&gt;PresentPowerInputsLight</title>\n",
       "<path fill=\"none\" stroke=\"#4a4a4a\" d=\"M587.9,-315.36C599.5,-306.1 613.71,-294.76 626.35,-284.67\"/>\n",
       "<polygon fill=\"#4a4a4a\" stroke=\"#4a4a4a\" points=\"628.75,-287.24 634.38,-278.26 624.38,-281.76 628.75,-287.24\"/>\n",
       "</g>\n",
       "<!-- healthWire&#45;&gt;PresentPowerInputsLightcopy -->\n",
       "<g id=\"edge19\" class=\"edge\">\n",
       "<title>healthWire-&gt;PresentPowerInputsLightcopy</title>\n",
       "<path fill=\"none\" stroke=\"#4a4a4a\" d=\"M540.21,-315.76C528.96,-306 516.58,-292.98 509.66,-278.39 486.57,-229.72 485.9,-165.5 487.96,-128.43\"/>\n",
       "<polygon fill=\"#4a4a4a\" stroke=\"#4a4a4a\" points=\"491.47,-128.5 488.64,-118.29 484.48,-128.03 491.47,-128.5\"/>\n",
       "</g>\n",
       "<!-- healthWire&#45;&gt;systemhealth -->\n",
       "<g id=\"edge20\" class=\"edge\">\n",
       "<title>healthWire-&gt;systemhealth</title>\n",
       "<path fill=\"none\" stroke=\"#4a4a4a\" d=\"M616.59,-322.1C673.41,-309.18 764.72,-288.43 827.09,-274.25\"/>\n",
       "<polygon fill=\"#4a4a4a\" stroke=\"#4a4a4a\" points=\"828.25,-277.57 837.22,-271.94 826.69,-270.75 828.25,-277.57\"/>\n",
       "</g>\n",
       "<!-- systemhealth&#45;&gt;UtilityChangeInputTestSwitch -->\n",
       "<g id=\"edge21\" class=\"edge\">\n",
       "<title>systemhealth-&gt;UtilityChangeInputTestSwitch</title>\n",
       "<path fill=\"none\" stroke=\"#4a4a4a\" stroke-dasharray=\"5,2\" d=\"M922.33,-238.56C936.47,-229.19 953.99,-217.58 969.83,-207.09\"/>\n",
       "<polygon fill=\"#4a4a4a\" stroke=\"#4a4a4a\" points=\"972.02,-209.83 978.42,-201.39 968.15,-204 972.02,-209.83\"/>\n",
       "</g>\n",
       "<!-- DecisionChangeInputTestSwitch&#45;&gt;PresentPowerInputsSwitchcopy -->\n",
       "<g id=\"edge22\" class=\"edge\">\n",
       "<title>DecisionChangeInputTestSwitch-&gt;PresentPowerInputsSwitchcopy</title>\n",
       "<path fill=\"none\" stroke=\"#4a4a4a\" d=\"M318.61,-320.14C314.64,-311.11 309.3,-298.96 304.41,-287.87\"/>\n",
       "<polygon fill=\"#4a4a4a\" stroke=\"#4a4a4a\" points=\"307.52,-286.24 300.29,-278.49 301.11,-289.05 307.52,-286.24\"/>\n",
       "</g>\n",
       "</g>\n",
       "</svg>"
      ],
      "text/plain": [
       "<IPython.core.display.SVG object>"
      ]
     },
     "metadata": {},
     "output_type": "display_data"
    }
   ],
   "source": [
    "# tussenstand bekijken\n",
    "gnb.showInfluenceDiagram(diagram, size=60)"
   ]
  },
  {
   "cell_type": "code",
   "execution_count": 240,
   "id": "fe6612b8",
   "metadata": {},
   "outputs": [],
   "source": [
    "oopn.getSystemHealth()"
   ]
  },
  {
   "cell_type": "code",
   "execution_count": null,
   "id": "1d51e404",
   "metadata": {},
   "outputs": [],
   "source": []
  },
  {
   "cell_type": "markdown",
   "id": "d5862be4",
   "metadata": {},
   "source": [
    "### background variabelen: dupliceer keten door OOPN uit te breiden\n",
    "- background variabelen: system en gedupliceerd systeem (behoud overige inputs en health)\n",
    "- problem variabelen: health van iedere bij de keten betrokken component\n",
    "- symptoom variabelen voor afwijkend gedrag: input / output van keten van componenten \n"
   ]
  },
  {
   "cell_type": "code",
   "execution_count": null,
   "id": "7a3c51e1",
   "metadata": {},
   "outputs": [],
   "source": [
    "# nieuw influence diagram genereren\n",
    "diagram = gum.InfluenceDiagram()\n",
    "diagram = diagrambuilder.diagramBuilder(diagram, oopn)"
   ]
  },
  {
   "cell_type": "code",
   "execution_count": null,
   "id": "6b18ee01",
   "metadata": {},
   "outputs": [],
   "source": [
    "gnb.showInfluenceDiagram(diagram, size=60)"
   ]
  },
  {
   "cell_type": "code",
   "execution_count": null,
   "id": "9957536c",
   "metadata": {},
   "outputs": [],
   "source": [
    "# Add mediating system health variabele\n",
    "label = \"systemhealth\"\n",
    "C1health = gum.LabelizedVariable(label, label,[\"ok\", \"broken\"])\n",
    "C1healthId = diagram.add(C1health)\n",
    "diagram.addArc(diagram.idFromName(\"healthSwitch\"), C1healthId)\n",
    "diagram.addArc(diagram.idFromName(\"healthWire\"), C1healthId)\n",
    "diagram.addArc(diagram.idFromName(\"healthLight\"), C1healthId)"
   ]
  },
  {
   "cell_type": "code",
   "execution_count": null,
   "id": "ffda710b",
   "metadata": {},
   "outputs": [],
   "source": [
    "# creeer utility variabele\n",
    "# detecter afwijkend gedrag: koppel input en output keten met utility\n",
    "# koppel input gedupliceerde keten met utility\n",
    "\n",
    "UtilityT2 = gum.LabelizedVariable(\"utilT2\", \"utilT2\",1)\n",
    "diagram.addUtilityNode(UtilityT2)\n",
    "diagram.addArc(\"PresentPowerInputsSwitch\", \"utilT2\")\n",
    "#diagram.addArc(\"PresentLightOutputsLight\", \"utilT2\")\n",
    "diagram.addArc(\"PresentPowerInputsSwitchcopy\", \"utilT2\")"
   ]
  },
  {
   "cell_type": "code",
   "execution_count": null,
   "id": "c3f6a492",
   "metadata": {},
   "outputs": [],
   "source": [
    "# creeer decision variabele\n",
    "# conditioneel besluit, koppel output met decision\n",
    "# intervenierend besluit, koppel besluit met input gedupliceerde keten\n",
    "DecisionT2 = gum.LabelizedVariable(\"decT2\", \"decT2\",[\"yes\", \"no\"])\n",
    "diagram.addDecisionNode(DecisionT2)\n",
    "# diagram.addArc(\"PresentPowerInputsSwitch\", \"decT2\")\n",
    "diagram.addArc(\"PresentLightOutputsLight\", \"decT2\")\n",
    "diagram.addArc(\"decT2\", \"PresentPowerInputsSwitchcopy\")"
   ]
  },
  {
   "cell_type": "code",
   "execution_count": null,
   "id": "0e3ea278",
   "metadata": {},
   "outputs": [],
   "source": [
    "diagram.addArc(diagram.idFromName(\"systemhealth\"), diagram.idFromName(\"utilT2\"))"
   ]
  },
  {
   "cell_type": "code",
   "execution_count": null,
   "id": "3389d722",
   "metadata": {},
   "outputs": [],
   "source": [
    "# complete influence diagram\n",
    "gnb.showInfluenceDiagram(diagram, size=60)"
   ]
  },
  {
   "cell_type": "markdown",
   "id": "e36dfdd5",
   "metadata": {},
   "source": [
    "### conditional probability table for system health"
   ]
  },
  {
   "cell_type": "code",
   "execution_count": null,
   "id": "6d315060",
   "metadata": {},
   "outputs": [],
   "source": [
    "diagram.cpt(diagram.idFromName(\"systemhealth\"))[{\"healthLight\":\"ok\", \"healthWire\":\"ok\", \"healthSwitch\":\"ok\"}] = [0.99, 0.01]\n",
    "diagram.cpt(diagram.idFromName(\"systemhealth\"))[{\"healthLight\":\"ok\", \"healthWire\":\"ok\", \"healthSwitch\":\"broken\"}] = [0.01, 0.99]\n",
    "diagram.cpt(diagram.idFromName(\"systemhealth\"))[{\"healthLight\":\"ok\", \"healthWire\":\"broken\", \"healthSwitch\":\"ok\"}] = [0.01, 0.99]\n",
    "diagram.cpt(diagram.idFromName(\"systemhealth\"))[{\"healthLight\":\"ok\", \"healthWire\":\"broken\", \"healthSwitch\":\"broken\"}] = [0.01, 0.99]\n",
    "diagram.cpt(diagram.idFromName(\"systemhealth\"))[{\"healthLight\":\"broken\", \"healthWire\":\"ok\", \"healthSwitch\":\"ok\"}] = [0.01, 0.99]\n",
    "diagram.cpt(diagram.idFromName(\"systemhealth\"))[{\"healthLight\":\"broken\", \"healthWire\":\"ok\", \"healthSwitch\":\"broken\"}] = [0.01, 0.99]\n",
    "diagram.cpt(diagram.idFromName(\"systemhealth\"))[{\"healthLight\":\"broken\", \"healthWire\":\"broken\", \"healthSwitch\":\"ok\"}] = [0.01, 0.99]\n",
    "diagram.cpt(diagram.idFromName(\"systemhealth\"))[{\"healthLight\":\"broken\", \"healthWire\":\"broken\", \"healthSwitch\":\"broken\"}] = [0.01, 0.99]\n",
    "diagram.cpt(diagram.idFromName(\"systemhealth\"))\n"
   ]
  },
  {
   "cell_type": "markdown",
   "id": "b92f8a5a",
   "metadata": {},
   "source": [
    "### configuratie utility"
   ]
  },
  {
   "cell_type": "code",
   "execution_count": null,
   "id": "807fef80",
   "metadata": {},
   "outputs": [],
   "source": [
    "ok, broken = \"ok\", \"broken\"\n",
    "yes, no = \"yes\", \"no\"\n",
    "health, inputcopy, inputswitch = \"systemhealth\", \"PresentPowerInputsSwitchcopy\", \"PresentPowerInputsSwitch\"\n",
    "id = diagram.idFromName(\"utilT2\")\n",
    "diagram.utility(id)[{health:ok,inputcopy:yes,inputswitch:yes}]     = 90  # indien ok dan zelfde input\n",
    "diagram.utility(id)[{health:ok,inputcopy:yes,inputswitch:no}]      = -10 # indien health ok dan niet input wisselen\n",
    "diagram.utility(id)[{health:ok,inputcopy:no,inputswitch:yes}]      = -10 # indien health ok dan niet input wisselen\n",
    "diagram.utility(id)[{health:ok,inputcopy:no,inputswitch:no}]       = 90  # indien ok dan zelfde input\n",
    "diagram.utility(id)[{health:broken,inputcopy:yes,inputswitch:yes}] = -50 # indien broken dan niet input gelijk houden\n",
    "diagram.utility(id)[{health:broken,inputcopy:yes,inputswitch:no}]  = 100 # indien broken dan andere input\n",
    "diagram.utility(id)[{health:broken,inputcopy:no,inputswitch:yes}]  = 100 # indien broken dan andere input\n",
    "diagram.utility(id)[{health:broken,inputcopy:no,inputswitch:no}]   = -50\n"
   ]
  },
  {
   "cell_type": "code",
   "execution_count": null,
   "id": "111af585",
   "metadata": {},
   "outputs": [],
   "source": [
    "diagram.utility(diagram.idFromName(\"utilT2\"))"
   ]
  },
  {
   "cell_type": "markdown",
   "id": "d2672e5c",
   "metadata": {},
   "source": [
    "### uitbreiden cpt input van gedupliceerde keten"
   ]
  },
  {
   "cell_type": "code",
   "execution_count": null,
   "id": "530b9588",
   "metadata": {},
   "outputs": [],
   "source": [
    "diagram.cpt(diagram.idFromName(\"PresentPowerInputsSwitchcopy\"))[1] = [0.01, 0.99]\n",
    "diagram.cpt(diagram.idFromName(\"PresentPowerInputsSwitchcopy\"))"
   ]
  },
  {
   "cell_type": "markdown",
   "id": "a1519ab6",
   "metadata": {},
   "source": [
    "### Unit test 1, normaal gedrag > overnemen input"
   ]
  },
  {
   "cell_type": "code",
   "execution_count": null,
   "id": "4e72ee47",
   "metadata": {},
   "outputs": [],
   "source": [
    "evs = {\n",
    "# input / output evidence van systeem, normaal gedrag is dus 0/0 of 1/1\n",
    "'PresentPowerInputsSwitch':1,  # 0 is yes, 1 is no\n",
    "'PresentLightOutputsLight':0,  # 0 is yes, 1 is no\n",
    "\n",
    "\n",
    "# instellen additionele input\n",
    "#'EnabledStateInputsSwitch':0,  # 0 is yes, 1 is no\n",
    "}"
   ]
  },
  {
   "cell_type": "code",
   "execution_count": null,
   "id": "b85abe42",
   "metadata": {},
   "outputs": [],
   "source": [
    "ie = gum.ShaferShenoyLIMIDInference(diagram) \n",
    "ie.setEvidence(evs)\n",
    "#ie.addNoForgettingAssumption([\"DecisionTestObserveHealthSwitch\",\"DecisionReplaceSwitch\", \"DecisionTestObserveHealthLight\", \"DecisionReplaceLight\"])\n",
    "gnb.sideBySide(gnb.getInference(diagram,engine=ie, evs=evs, size=200))\n",
    "\n"
   ]
  },
  {
   "cell_type": "markdown",
   "id": "d79f15fc",
   "metadata": {},
   "source": [
    "wordt de juiste input voor de gedupliceerde keten ingesteld?\n",
    "- indien evidence input / output systeem beide 0 (yes) dan wordt de input overgenomen voor de gedupliceerde keten\n",
    "- indien evidence input / output systeem beide 1 (no) dan wordt de input overgenomen voor de gedupliceerde keten\n",
    "- indien evidence input no en output yes dan wordt input voor gedupliceerde keten geswitched naar yes\n",
    "- indien evidence input yes en output no dan wordt input voor gedupliceerde keten geswitched naar no \n",
    "\n",
    "laatste test gaat niet goed \n"
   ]
  },
  {
   "cell_type": "markdown",
   "id": "8582e4c9",
   "metadata": {},
   "source": [
    "### OPNIEUW DOEN unit test 2, verwerken extra observatie, betere inschatting health?"
   ]
  },
  {
   "cell_type": "code",
   "execution_count": null,
   "id": "65b2d12a",
   "metadata": {},
   "outputs": [],
   "source": [
    "evs = {\n",
    "# input / output evidence van systeem, normaal gedrag is 0/0 of 1/1\n",
    "'PresentPowerInputsSwitch':0,  # 0 is yes, 1 is no\n",
    "'PresentLightOutputsLight':1,  # 0 is yes, 1 is no\n",
    "\n",
    "\n",
    "# instellen additionele input\n",
    "'EnabledStateInputsSwitch':0,  # 0 is yes, 1 is no\n",
    "    \n",
    "# instellen observaties mbt duplicate chain\n",
    "'PresentPowerInputsSwitchcopy':1,  # 0 is yes, 1 is no\n",
    "'PresentLightOutputsLightcopy':1,  # 0 is yes, 1 is no\n",
    "\n",
    "\n",
    "}"
   ]
  },
  {
   "cell_type": "code",
   "execution_count": null,
   "id": "c4c97bb7",
   "metadata": {},
   "outputs": [],
   "source": [
    "ie = gum.ShaferShenoyLIMIDInference(diagram) \n",
    "ie.setEvidence(evs)\n",
    "#ie.addNoForgettingAssumption([\"DecisionTestObserveHealthSwitch\",\"DecisionReplaceSwitch\", \"DecisionTestObserveHealthLight\", \"DecisionReplaceLight\"])\n",
    "gnb.sideBySide(gnb.getInference(diagram,engine=ie, evs=evs, size=200))"
   ]
  },
  {
   "cell_type": "markdown",
   "id": "ff207153",
   "metadata": {},
   "source": [
    "- indien originele observatie switch:aan maar lamp:uit\n",
    "- en extra observatie is: switch:uit en lamp: uit\n",
    "- waarbij prior van alle healths 99% is\n",
    "\n",
    "dan is de health zonder de extra observatie > daarna met de extra observatie\n",
    "- healthSwitch: 85,45% > 83,27%\n",
    "- healthWire: 72,40% > 83,27%\n",
    "- healthLight: 84,88% > 82,77%\n",
    "\n",
    "dus eerst is de wire de verdachte maar daarna de lamp al ligt het dan dichter bij elkaar"
   ]
  },
  {
   "cell_type": "markdown",
   "id": "2d3d191c",
   "metadata": {},
   "source": [
    "### OPNIEUW DOEN indien health van wire lager wordt...\n",
    "- healht wire wordt 80%\n",
    "\n",
    "health zonder observatie en daarna met...\n",
    "- healthSwitch: 86,34% > 83,9%\n",
    "- healthWire: 67,95% > 80,08%\n",
    "- healthLight: 85,75% > 83,39%"
   ]
  },
  {
   "cell_type": "markdown",
   "id": "23bc0161",
   "metadata": {},
   "source": [
    "### OPNIEUW DOEN indien health van light lager wordt"
   ]
  },
  {
   "cell_type": "markdown",
   "id": "dcce54bc",
   "metadata": {},
   "source": [
    "- healthSwitch: 85,92% > 83,89%\n",
    "- healthWire: 73,29% > 83,89%\n",
    "- healthLight: 81,94% > 79,52%"
   ]
  },
  {
   "cell_type": "code",
   "execution_count": null,
   "id": "b84dd6ab",
   "metadata": {},
   "outputs": [],
   "source": [
    "diagram.cpt(diagram.idFromName(\"healthWire\"))"
   ]
  },
  {
   "cell_type": "code",
   "execution_count": null,
   "id": "a1c73c84",
   "metadata": {},
   "outputs": [],
   "source": []
  },
  {
   "cell_type": "code",
   "execution_count": null,
   "id": "37cf0775",
   "metadata": {},
   "outputs": [],
   "source": []
  },
  {
   "cell_type": "code",
   "execution_count": null,
   "id": "def19adb",
   "metadata": {},
   "outputs": [],
   "source": []
  },
  {
   "cell_type": "markdown",
   "id": "90f52582",
   "metadata": {},
   "source": [
    "## overbodig geworden"
   ]
  },
  {
   "cell_type": "code",
   "execution_count": null,
   "id": "a22d0f54",
   "metadata": {
    "scrolled": false
   },
   "outputs": [],
   "source": [
    "printCptTables(diagram, oopn)"
   ]
  },
  {
   "cell_type": "code",
   "execution_count": null,
   "id": "66461c41",
   "metadata": {},
   "outputs": [],
   "source": [
    "diagram.cpt(diagram.idFromName(\"healthSwitch\"))[0] = 0.9\n",
    "diagram.cpt(diagram.idFromName(\"healthSwitch\"))[1] = 0.1\n",
    "diagram.cpt(diagram.idFromName(\"healthSwitch\"))\n",
    "diagram2.cpt(diagram2.idFromName(\"healthSwitch\"))[0] = 0.9\n",
    "diagram2.cpt(diagram2.idFromName(\"healthSwitch\"))[1] = 0.1\n",
    "diagram2.cpt(diagram2.idFromName(\"healthSwitch\"))"
   ]
  },
  {
   "cell_type": "code",
   "execution_count": null,
   "id": "79b0bfbb",
   "metadata": {},
   "outputs": [],
   "source": [
    "diagram2.cpt(diagram2.idFromName(\"PresentLightOutputsLightcopy\"))[{\"healthLight\":\"ok\", \"PresentPowerInputsLightcopy\":\"yes\"}] = [0.99, 0.01]      # yes, no\n",
    "diagram2.cpt(diagram2.idFromName(\"PresentLightOutputsLightcopy\"))[{\"healthLight\":\"broken\", \"PresentPowerInputsLightcopy\":\"yes\"}] = [0.01, 0.99]\n",
    "diagram2.cpt(diagram2.idFromName(\"PresentLightOutputsLightcopy\"))[{\"healthLight\":\"ok\", \"PresentPowerInputsLightcopy\":\"no\"}] = [0.01, 0.99]\n",
    "diagram2.cpt(diagram2.idFromName(\"PresentLightOutputsLightcopy\"))[{\"healthLight\":\"broken\", \"PresentPowerInputsLightcopy\":\"no\"}] = [0.01, 0.99]\n",
    "\n",
    "diagram2.cpt(diagram2.idFromName(\"PresentPowerOutputsSwitchcopy\"))[{\"PresentPowerInputsSwitchcopy\":\"yes\", \"healthSwitch\":\"ok\", \"EnabledStateInputsSwitch\":\"yes\"}] = [0.99, 0.01]\n",
    "diagram2.cpt(diagram2.idFromName(\"PresentPowerOutputsSwitchcopy\"))[{\"PresentPowerInputsSwitchcopy\":\"yes\", \"healthSwitch\":\"ok\", \"EnabledStateInputsSwitch\":\"no\"}] = [0.01, 0.99]\n",
    "diagram2.cpt(diagram2.idFromName(\"PresentPowerOutputsSwitchcopy\"))[{\"PresentPowerInputsSwitchcopy\":\"yes\", \"healthSwitch\":\"broken\", \"EnabledStateInputsSwitch\":\"yes\"}] = [0.01, 0.99]\n",
    "diagram2.cpt(diagram2.idFromName(\"PresentPowerOutputsSwitchcopy\"))[{\"PresentPowerInputsSwitchcopy\":\"yes\", \"healthSwitch\":\"broken\", \"EnabledStateInputsSwitch\":\"no\"}] = [0.01, 0.99]\n",
    "diagram2.cpt(diagram2.idFromName(\"PresentPowerOutputsSwitchcopy\"))[{\"PresentPowerInputsSwitchcopy\":\"no\", \"healthSwitch\":\"ok\", \"EnabledStateInputsSwitch\":\"yes\"}] = [0.01, 0.99]\n",
    "diagram2.cpt(diagram2.idFromName(\"PresentPowerOutputsSwitchcopy\"))[{\"PresentPowerInputsSwitchcopy\":\"no\", \"healthSwitch\":\"ok\", \"EnabledStateInputsSwitch\":\"no\"}] = [0.01, 0.99]\n",
    "diagram2.cpt(diagram2.idFromName(\"PresentPowerOutputsSwitchcopy\"))[{\"PresentPowerInputsSwitchcopy\":\"no\", \"healthSwitch\":\"broken\", \"EnabledStateInputsSwitch\":\"yes\"}] = [0.01, 0.99]\n",
    "diagram2.cpt(diagram2.idFromName(\"PresentPowerOutputsSwitchcopy\"))[{\"PresentPowerInputsSwitchcopy\":\"no\", \"healthSwitch\":\"broken\", \"EnabledStateInputsSwitch\":\"no\"}] = [0.01, 0.99]\n",
    "\n"
   ]
  },
  {
   "cell_type": "code",
   "execution_count": null,
   "id": "6ef07411",
   "metadata": {},
   "outputs": [],
   "source": [
    "'''\n",
    "# normaal gedrag\n",
    "a, b, c = \"yes\", \"yes\", \"yes\"\n",
    "dict = {\"PresentPowerInputsSwitch\":a, \"PresentLightOutputsLight\":b, \"PresentPowerInputsSwitchcopy\":c}\n",
    "diagram.utility(diagram.idFromName(\"utilT2\"))[dict] = 100\n",
    "\n",
    "a, b, c = \"no\", \"no\", \"no\"\n",
    "dict = {\"PresentPowerInputsSwitch\":a, \"PresentLightOutputsLight\":b, \"PresentPowerInputsSwitchcopy\":c}\n",
    "diagram.utility(diagram.idFromName(\"utilT2\"))[dict]  = 100\n",
    "\n",
    "# afwijkend gedrag\n",
    "a, b, c = \"yes\", \"no\", \"no\"\n",
    "dict = {\"PresentPowerInputsSwitch\":a, \"PresentLightOutputsLight\":b, \"PresentPowerInputsSwitchcopy\":c}\n",
    "diagram.utility(diagram.idFromName(\"utilT2\"))[dict]  = 90\n",
    "\n",
    "a, b, c = \"no\", \"yes\", \"yes\"\n",
    "dict = {\"PresentPowerInputsSwitch\":a, \"PresentLightOutputsLight\":b, \"PresentPowerInputsSwitchcopy\":c}\n",
    "diagram.utility(diagram.idFromName(\"utilT2\"))[dict]  = 90\n",
    "\n",
    "\n",
    "# levert geen extra info op dus onnodig\n",
    "a, b, c = \"yes\", \"no\", \"yes\"\n",
    "dict = {\"PresentPowerInputsSwitch\":a, \"PresentLightOutputsLight\":b, \"PresentPowerInputsSwitchcopy\":c}\n",
    "diagram.utility(diagram.idFromName(\"utilT2\"))[dict]  = 0\n",
    "\n",
    "a, b, c = \"no\", \"yes\", \"no\"\n",
    "dict = {\"PresentPowerInputsSwitch\":a, \"PresentLightOutputsLight\":b, \"PresentPowerInputsSwitchcopy\":c}\n",
    "diagram.utility(diagram.idFromName(\"utilT2\"))[dict]  = 0\n",
    "\n",
    "# bij normaal gedrag is switchen input niet nodig\n",
    "a, b, c = \"no\", \"no\", \"yes\"\n",
    "dict = {\"PresentPowerInputsSwitch\":a, \"PresentLightOutputsLight\":b, \"PresentPowerInputsSwitchcopy\":c}\n",
    "diagram.utility(diagram.idFromName(\"utilT2\"))[dict]  = 0\n",
    "\n",
    "a, b, c = \"yes\", \"yes\", \"no\"\n",
    "dict = {\"PresentPowerInputsSwitch\":a, \"PresentLightOutputsLight\":b, \"PresentPowerInputsSwitchcopy\":c}\n",
    "diagram.utility(diagram.idFromName(\"utilT2\"))[dict]  = 0\n",
    "'''"
   ]
  },
  {
   "cell_type": "code",
   "execution_count": null,
   "id": "bf71ca78",
   "metadata": {},
   "outputs": [],
   "source": [
    "gnb.flow.row(diagram2.cpt(diagram2.idFromName(\"PresentLightOutputsLightcopy\")), diagram2.cpt(diagram2.idFromName(\"PresentPowerInputsLightcopy\")), diagram2.cpt(diagram2.idFromName(\"PresentPowerOutputsSwitchcopy\")), diagram2.cpt(diagram2.idFromName(\"PresentPowerInputsSwitchcopy\")) )"
   ]
  },
  {
   "cell_type": "code",
   "execution_count": null,
   "id": "a66e342b",
   "metadata": {
    "scrolled": false
   },
   "outputs": [],
   "source": [
    "gnb.showInfluenceDiagram(diagram2, size=60)"
   ]
  },
  {
   "cell_type": "code",
   "execution_count": null,
   "id": "996e1d35",
   "metadata": {},
   "outputs": [],
   "source": [
    "diagram2.addArc(\"decT2\", \"PresentPowerInputsSwitchcopy\")"
   ]
  },
  {
   "cell_type": "code",
   "execution_count": null,
   "id": "20da5b12",
   "metadata": {},
   "outputs": [],
   "source": [
    "\n",
    "diagram2.utility(diagram.idFromName(\"utilT2\"))\n"
   ]
  },
  {
   "cell_type": "code",
   "execution_count": null,
   "id": "02526696",
   "metadata": {
    "scrolled": false
   },
   "outputs": [],
   "source": [
    "printCptTables(diagram2, oopn)"
   ]
  },
  {
   "cell_type": "code",
   "execution_count": null,
   "id": "f4b49d87",
   "metadata": {},
   "outputs": [],
   "source": [
    "evs = {    \n",
    "'PresentPowerInputsSwitch':0,\n",
    "'EnabledStateInputsSwitch':0,\n",
    "\n",
    "'PresentLightOutputsLight':1,\n",
    "#'PresentPowerInputsLight',\n",
    "#'healthLight',\n",
    "#'PresentPowerOutputsSwitch',\n",
    "#'healthSwitch',\n",
    "#'PresentLightOutputsLight1',\n",
    "#'PresentPowerInputsLight1':1,\n",
    "#'healthLight1',\n",
    "#'PresentPowerOutputsSwitch1',\n",
    "#'PresentPowerInputsSwitch1',\n",
    "#'EnabledStateInputsSwitch1',\n",
    "#'healthSwitch1',\n",
    "#'PresentLightOutputsLight2':1,\n",
    "#'PresentPowerInputsLight2',\n",
    "#'healthLight2',\n",
    "#'PresentPowerOutputsSwitch2',\n",
    "#'PresentPowerInputsSwitch2',\n",
    "#'EnabledStateInputsSwitch2',\n",
    "#'healthSwitch2',\n",
    "#'healthLight1',\n",
    "#'EnabledStateInputsSwitch2',\n",
    "#'healthSwitch2',\n",
    "#'healthLight2',\n",
    "}\n",
    "    \n"
   ]
  },
  {
   "cell_type": "code",
   "execution_count": null,
   "id": "02ab5d90",
   "metadata": {},
   "outputs": [],
   "source": [
    "evs2 = {    \n",
    "'PresentPowerInputsSwitch':0,\n",
    "'EnabledStateInputsSwitch':0,\n",
    "\n",
    "'PresentLightOutputsLight':1,\n",
    "#'PresentPowerInputsLight',\n",
    "#'healthLight',\n",
    "#'PresentPowerOutputsSwitch',\n",
    "#'healthSwitch',\n",
    "#'PresentLightOutputsLight1',\n",
    "#'PresentPowerInputsLight1':1,\n",
    "#'healthLight1',\n",
    "#'PresentPowerOutputsSwitch1',\n",
    "#'PresentPowerInputsSwitch1',\n",
    "#'EnabledStateInputsSwitch1',\n",
    "#'healthSwitch1',\n",
    "#'PresentLightOutputsLight2':1,\n",
    "#'PresentPowerInputsLight2',\n",
    "#'healthLight2',\n",
    "#'PresentPowerOutputsSwitch2',\n",
    "#'PresentPowerInputsSwitch2',\n",
    "#'EnabledStateInputsSwitch2',\n",
    "#'healthSwitch2',\n",
    "#'healthLight1',\n",
    "#'PresentLightOutputsLight1copy':0,\n",
    "#'PresentPowerInputsLight1copy':0,\n",
    "#'EnabledStateInputsSwitch2',\n",
    "#'healthSwitch2',\n",
    "#'PresentPowerOutputsSwitch2copy',\n",
    "'PresentPowerInputsSwitchcopy':1,\n",
    "#'healthLight2',\n",
    "'PresentLightOutputsLightcopy':0,\n",
    "#'PresentPowerInputsLight2copy':1\n",
    "}"
   ]
  },
  {
   "cell_type": "code",
   "execution_count": null,
   "id": "caaf2327",
   "metadata": {
    "scrolled": false
   },
   "outputs": [],
   "source": [
    "ie = gum.ShaferShenoyLIMIDInference(diagram) \n",
    "ie.setEvidence(evs)\n",
    "#ie.addNoForgettingAssumption([\"DecisionTestObserveHealthSwitch\",\"DecisionReplaceSwitch\", \"DecisionTestObserveHealthLight\", \"DecisionReplaceLight\"])\n",
    "gnb.sideBySide(gnb.getInference(diagram,engine=ie, evs=evs, size=200))"
   ]
  },
  {
   "cell_type": "code",
   "execution_count": null,
   "id": "e5ffea75",
   "metadata": {
    "scrolled": false
   },
   "outputs": [],
   "source": [
    "ie2 = gum.ShaferShenoyLIMIDInference(diagram2) \n",
    "ie2.setEvidence(evs2)\n",
    "#ie.addNoForgettingAssumption([\"DecisionTestObserveHealthSwitch\",\"DecisionReplaceSwitch\", \"DecisionTestObserveHealthLight\", \"DecisionReplaceLight\"])\n",
    "gnb.sideBySide(gnb.getInference(diagram2,engine=ie2, evs=evs2, size=200))"
   ]
  },
  {
   "cell_type": "code",
   "execution_count": null,
   "id": "7590a408",
   "metadata": {},
   "outputs": [],
   "source": []
  },
  {
   "cell_type": "code",
   "execution_count": null,
   "id": "48212e36",
   "metadata": {},
   "outputs": [],
   "source": []
  },
  {
   "cell_type": "code",
   "execution_count": null,
   "id": "df69da38",
   "metadata": {},
   "outputs": [],
   "source": []
  },
  {
   "cell_type": "code",
   "execution_count": null,
   "id": "e71955fe",
   "metadata": {},
   "outputs": [],
   "source": [
    "# visualiseren additionele DAG \n",
    "import matplotlib.pyplot as plt\n",
    "subax1 = plt.subplot()\n",
    "#nx.draw(G, with_labels=True, font_color='white', node_size=2000)\n",
    "nx.draw(G, font_color='white', node_size=500)"
   ]
  },
  {
   "cell_type": "code",
   "execution_count": null,
   "id": "9ac17f4f",
   "metadata": {},
   "outputs": [],
   "source": []
  },
  {
   "cell_type": "code",
   "execution_count": null,
   "id": "071164b8",
   "metadata": {},
   "outputs": [],
   "source": []
  },
  {
   "cell_type": "code",
   "execution_count": null,
   "id": "cc7c6c94",
   "metadata": {},
   "outputs": [],
   "source": []
  },
  {
   "cell_type": "code",
   "execution_count": null,
   "id": "8a359245",
   "metadata": {},
   "outputs": [],
   "source": []
  },
  {
   "cell_type": "code",
   "execution_count": null,
   "id": "18d4b12f",
   "metadata": {},
   "outputs": [],
   "source": []
  },
  {
   "cell_type": "code",
   "execution_count": null,
   "id": "1d4fa7d9",
   "metadata": {},
   "outputs": [],
   "source": [
    "# outputtest\n",
    "testutility = diagram.addUtilityNode(gum.LabelizedVariable(\"outputTest\", \"outputTest\", 1))\n",
    "testdecision = diagram.addDecisionNode(gum.LabelizedVariable(\"testdecision\", \"testdecisionl\", [\"yes\", \"no\"]))\n",
    "testoutcome = diagram.addChanceNode(gum.LabelizedVariable(\"testoutcome\", \"testoutcome\", [\"ok\", \"problem\", \"notdone\"]))\n",
    "diagram.addArc(diagram.idFromName(\"PresentLightOutputsLight\"), testutility)\n",
    "diagram.addArc(testdecision, testutility)\n",
    "diagram.addArc(testdecision, testoutcome)\n",
    "diagram.addArc(diagram.idFromName(\"healthWire\"), testoutcome)\n",
    "diagram.addArc(diagram.idFromName(\"healthSwitch\"), testoutcome)\n",
    "diagram.addArc(diagram.idFromName(\"healthLight\"), testoutcome)"
   ]
  },
  {
   "cell_type": "code",
   "execution_count": null,
   "id": "9d3f6331",
   "metadata": {
    "scrolled": false
   },
   "outputs": [],
   "source": [
    "printCptTables(diagram, oopn)"
   ]
  },
  {
   "cell_type": "code",
   "execution_count": null,
   "id": "80c291fd",
   "metadata": {
    "scrolled": false
   },
   "outputs": [],
   "source": [
    "printUtilityTables(diagram, oopn)"
   ]
  },
  {
   "cell_type": "code",
   "execution_count": null,
   "id": "24f82a0e",
   "metadata": {
    "scrolled": true
   },
   "outputs": [],
   "source": [
    "diagram.utility(\"outputTest\")[{\"testdecision\":\"yes\", \"PresentLightOutputsLight\":\"no\"}] = 4\n",
    "diagram.utility(\"outputTest\")[{\"testdecision\":\"no\", \"PresentLightOutputsLight\":\"no\"}] = 3\n",
    "diagram.utility(\"outputTest\")[{\"testdecision\":\"yes\", \"PresentLightOutputsLight\":\"yes\"}] = 2\n",
    "diagram.utility(\"outputTest\")[{\"testdecision\":\"no\", \"PresentLightOutputsLight\":\"yes\"}] = 1\n",
    "diagram.utility(\"outputTest\")"
   ]
  },
  {
   "cell_type": "code",
   "execution_count": null,
   "id": "60141985",
   "metadata": {},
   "outputs": [],
   "source": [
    "diagram.cpt(diagram.idFromName(\"testoutcome\"))[{\"healthLight\":\"ok\", \"healthSwitch\":\"ok\", \"healthWire\":\"ok\",\"testdecision\":\"yes\" }] = [0.98, 0.01, 0.01]\n",
    "diagram.cpt(diagram.idFromName(\"testoutcome\"))[{\"healthLight\":\"ok\", \"healthSwitch\":\"ok\", \"healthWire\":\"ok\",\"testdecision\":\"no\" }] = [0.01, 0.01, 0.98]\n",
    "diagram.cpt(diagram.idFromName(\"testoutcome\"))[{\"healthLight\":\"ok\", \"healthSwitch\":\"ok\", \"healthWire\":\"broken\",\"testdecision\":\"yes\" }] = [0.01, 0.98, 0.01]\n",
    "diagram.cpt(diagram.idFromName(\"testoutcome\"))[{\"healthLight\":\"ok\", \"healthSwitch\":\"ok\", \"healthWire\":\"broken\",\"testdecision\":\"no\" }] = [0.01, 0.01, 0.98]\n",
    "\n",
    "diagram.cpt(diagram.idFromName(\"testoutcome\"))[{\"healthLight\":\"ok\", \"healthSwitch\":\"broken\", \"healthWire\":\"ok\",\"testdecision\":\"yes\" }] = [0.01, 0.98, 0.01]\n",
    "diagram.cpt(diagram.idFromName(\"testoutcome\"))[{\"healthLight\":\"ok\", \"healthSwitch\":\"broken\", \"healthWire\":\"ok\",\"testdecision\":\"no\" }] = [0.01, 0.01, 0.98]\n",
    "diagram.cpt(diagram.idFromName(\"testoutcome\"))[{\"healthLight\":\"ok\", \"healthSwitch\":\"broken\", \"healthWire\":\"broken\",\"testdecision\":\"yes\" }] = [0.01, 0.98, 0.01]\n",
    "diagram.cpt(diagram.idFromName(\"testoutcome\"))[{\"healthLight\":\"ok\", \"healthSwitch\":\"broken\", \"healthWire\":\"broken\",\"testdecision\":\"no\" }] = [0.01, 0.01, 0.98]\n",
    "\n",
    "diagram.cpt(diagram.idFromName(\"testoutcome\"))[{\"healthLight\":\"broken\", \"healthSwitch\":\"ok\", \"healthWire\":\"ok\",\"testdecision\":\"yes\" }] = [0.01, 0.98, 0.01]\n",
    "diagram.cpt(diagram.idFromName(\"testoutcome\"))[{\"healthLight\":\"broken\", \"healthSwitch\":\"ok\", \"healthWire\":\"ok\",\"testdecision\":\"no\" }] = [0.01, 0.01, 0.98]\n",
    "diagram.cpt(diagram.idFromName(\"testoutcome\"))[{\"healthLight\":\"broken\", \"healthSwitch\":\"ok\", \"healthWire\":\"broken\",\"testdecision\":\"yes\" }] = [0.01, 0.98, 0.01]\n",
    "diagram.cpt(diagram.idFromName(\"testoutcome\"))[{\"healthLight\":\"broken\", \"healthSwitch\":\"ok\", \"healthWire\":\"broken\",\"testdecision\":\"no\" }] = [0.01, 0.01, 0.98]\n",
    "\n",
    "diagram.cpt(diagram.idFromName(\"testoutcome\"))[{\"healthLight\":\"broken\", \"healthSwitch\":\"broken\", \"healthWire\":\"ok\",\"testdecision\":\"yes\" }] = [0.01, 0.98, 0.01]\n",
    "diagram.cpt(diagram.idFromName(\"testoutcome\"))[{\"healthLight\":\"broken\", \"healthSwitch\":\"broken\", \"healthWire\":\"ok\",\"testdecision\":\"no\" }] = [0.01, 0.01, 0.98]\n",
    "diagram.cpt(diagram.idFromName(\"testoutcome\"))[{\"healthLight\":\"broken\", \"healthSwitch\":\"broken\", \"healthWire\":\"broken\",\"testdecision\":\"yes\" }] = [0.01, 0.98, 0.01]\n",
    "diagram.cpt(diagram.idFromName(\"testoutcome\"))[{\"healthLight\":\"broken\", \"healthSwitch\":\"broken\", \"healthWire\":\"broken\",\"testdecision\":\"no\" }] = [0.01, 0.01, 0.98]\n"
   ]
  },
  {
   "cell_type": "code",
   "execution_count": null,
   "id": "9f8136df",
   "metadata": {},
   "outputs": [],
   "source": [
    "diagram.cpt(diagram.idFromName(\"testoutcome\"))"
   ]
  },
  {
   "cell_type": "code",
   "execution_count": null,
   "id": "dc581453",
   "metadata": {},
   "outputs": [],
   "source": [
    "diagram.cpt.posterior(\"outputTest\")"
   ]
  },
  {
   "cell_type": "code",
   "execution_count": null,
   "id": "56fa902d",
   "metadata": {},
   "outputs": [],
   "source": [
    "ie.posteriorUtility(\"UtilityReplaceWire\")"
   ]
  },
  {
   "cell_type": "code",
   "execution_count": null,
   "id": "f379962e",
   "metadata": {},
   "outputs": [],
   "source": [
    "a = -5*.0087 + -2*.0013\n",
    "b = 0 + -4* .1238\n",
    "print(a+b)"
   ]
  },
  {
   "cell_type": "code",
   "execution_count": null,
   "id": "29a38b62",
   "metadata": {},
   "outputs": [],
   "source": []
  },
  {
   "cell_type": "code",
   "execution_count": null,
   "id": "f71f4465",
   "metadata": {},
   "outputs": [],
   "source": []
  },
  {
   "cell_type": "code",
   "execution_count": null,
   "id": "c9befd29",
   "metadata": {},
   "outputs": [],
   "source": [
    "gnb.showInfluenceDiagram(diagram, size=60)"
   ]
  },
  {
   "cell_type": "code",
   "execution_count": null,
   "id": "bbe48901",
   "metadata": {},
   "outputs": [],
   "source": [
    "from collections import defaultdict, deque\n",
    "\n",
    "# Class to represent a graph using adjacency list\n",
    "\n",
    "\n",
    "class Graph:\n",
    "    def __init__(self):\n",
    "        self.adjList = defaultdict(list)\n",
    "\n",
    "    # Function to add an edge to the graph\n",
    "    def addEdge(self, u, v):\n",
    "        self.adjList[u].append(v)\n",
    "\n",
    "    # Function to perform Breadth First Search on a graph represented using adjacency list\n",
    "    def bfs(self, startNode):\n",
    "        # Create a queue for BFS\n",
    "        queue = deque()\n",
    "        visited = [False] * (max(self.adjList.keys()) + 1)\n",
    "\n",
    "        # Mark the current node as visited and enqueue it\n",
    "        visited[startNode] = True\n",
    "        queue.append(startNode)\n",
    "\n",
    "        # Iterate over the queue\n",
    "        while queue:\n",
    "            # Dequeue a vertex from queue and print it\n",
    "            currentNode = queue.popleft()\n",
    "            print(currentNode, end=\" \")\n",
    "\n",
    "            # Get all adjacent vertices of the dequeued vertex currentNode\n",
    "            # If an adjacent has not been visited, then mark it visited and enqueue it\n",
    "            for neighbor in self.adjList[currentNode]:\n",
    "                if not visited[neighbor]:\n",
    "                    visited[neighbor] = True\n",
    "                    queue.append(neighbor)\n",
    "\n",
    "\n",
    "# Create a graph\n",
    "graph = Graph()\n",
    "\n",
    "# Add edges to the graph\n",
    "graph.addEdge(0, 1)\n",
    "graph.addEdge(0, 2)\n",
    "graph.addEdge(1, 3)\n",
    "graph.addEdge(1, 4)\n",
    "graph.addEdge(2, 4)\n",
    "\n",
    "# Perform BFS traversal starting from vertex 0\n",
    "print(\"Breadth First Traversal starting from vertex 0:\", end=\" \")\n",
    "graph.bfs(0)\n"
   ]
  },
  {
   "cell_type": "code",
   "execution_count": null,
   "id": "d16663bc",
   "metadata": {},
   "outputs": [],
   "source": [
    "import networkx as nx\n",
    "\n",
    "G = nx.DiGraph()\n",
    "G.add_nodes_from(range(100, 105))\n",
    "G.add_edges_from([(100, 101), (100, 103), (101,104), (103,102)])\n"
   ]
  },
  {
   "cell_type": "code",
   "execution_count": null,
   "id": "91b66549",
   "metadata": {},
   "outputs": [],
   "source": [
    "import matplotlib.pyplot as plt\n",
    "subax1 = plt.subplot()\n",
    "nx.draw(G, with_labels=True, font_weight='bold', font_color='white', node_size=1000)\n"
   ]
  },
  {
   "cell_type": "code",
   "execution_count": null,
   "id": "83d4656b",
   "metadata": {},
   "outputs": [],
   "source": [
    "nx.has_path(G, 100, 104)"
   ]
  },
  {
   "cell_type": "code",
   "execution_count": null,
   "id": "bff649f3",
   "metadata": {},
   "outputs": [],
   "source": [
    "nx.shortest_path(G, 100, 104)"
   ]
  },
  {
   "cell_type": "code",
   "execution_count": null,
   "id": "c28921fc",
   "metadata": {},
   "outputs": [],
   "source": [
    "nx.has_path(G, 100, 104)\n",
    "nx.shortest_path(G, 100, 104)"
   ]
  }
 ],
 "metadata": {
  "kernelspec": {
   "display_name": "Python 3 (ipykernel)",
   "language": "python",
   "name": "python3"
  },
  "language_info": {
   "codemirror_mode": {
    "name": "ipython",
    "version": 3
   },
   "file_extension": ".py",
   "mimetype": "text/x-python",
   "name": "python",
   "nbconvert_exporter": "python",
   "pygments_lexer": "ipython3",
   "version": "3.11.5"
  }
 },
 "nbformat": 4,
 "nbformat_minor": 5
}
