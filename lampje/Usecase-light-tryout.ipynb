{
 "cells": [
  {
   "cell_type": "markdown",
   "id": "b3932e5d",
   "metadata": {},
   "source": [
    "# Light example, use influence diagrams during problem diagnosis\n",
    "\n",
    "\n",
    "### Actors:\n",
    "- system which via embeded influence diagram can help diagnosing problems in a system\n",
    "- repair specialist who needs to solve a problem that prevents normal operation of a system\n",
    "\n"
   ]
  },
  {
   "cell_type": "markdown",
   "id": "6dbbb223",
   "metadata": {},
   "source": [
    "Start of scenario is when a repair specialist is called in to help solve a problem at a user. The repair specialist brings a laptop containing a system that guides the steps. First step is to start the software."
   ]
  },
  {
   "cell_type": "markdown",
   "id": "c22e2a93",
   "metadata": {},
   "source": [
    "### starting the software"
   ]
  },
  {
   "cell_type": "code",
   "execution_count": 1,
   "id": "1bba5255",
   "metadata": {},
   "outputs": [],
   "source": [
    "# imports\n",
    "import os\n",
    "import math\n",
    "%matplotlib inline\n",
    "import matplotlib.pyplot as plt\n",
    "import pandas as pd\n",
    "\n",
    "from pylab import *\n",
    "from IPython.display import display,HTML\n",
    "\n",
    "# pyAgrum\n",
    "import pyAgrum as gum\n",
    "import pyAgrum.lib.notebook as gnb"
   ]
  },
  {
   "cell_type": "code",
   "execution_count": 2,
   "id": "6e1cc4aa",
   "metadata": {
    "scrolled": false
   },
   "outputs": [
    {
     "data": {
      "image/svg+xml": [
       "<svg xmlns=\"http://www.w3.org/2000/svg\" xmlns:xlink=\"http://www.w3.org/1999/xlink\" width=\"417pt\" height=\"441pt\" viewBox=\"0.00 0.00 416.84 441.09\">\n",
       "<g id=\"graph0\" class=\"graph\" transform=\"scale(1 1) rotate(0) translate(4 437.09)\">\n",
       "<title>G</title>\n",
       "<!-- L1 -->\n",
       "<g id=\"node1\" class=\"node\">\n",
       "<title>L1</title>\n",
       "<ellipse fill=\"#808080\" stroke=\"black\" cx=\"45.41\" cy=\"-255.39\" rx=\"27\" ry=\"20.51\"/>\n",
       "<text text-anchor=\"middle\" x=\"45.41\" y=\"-251.69\" font-family=\"Times,serif\" font-size=\"14.00\" fill=\"white\">L1</text>\n",
       "</g>\n",
       "<!-- L1H -->\n",
       "<g id=\"node2\" class=\"node\">\n",
       "<title>L1H</title>\n",
       "<ellipse fill=\"#808080\" stroke=\"black\" cx=\"122.41\" cy=\"-335.58\" rx=\"31.64\" ry=\"20.51\"/>\n",
       "<text text-anchor=\"middle\" x=\"122.41\" y=\"-331.88\" font-family=\"Times,serif\" font-size=\"14.00\" fill=\"white\">L1H</text>\n",
       "</g>\n",
       "<!-- L1H&#45;&gt;L1 -->\n",
       "<g id=\"edge1\" class=\"edge\">\n",
       "<title>L1H-&gt;L1</title>\n",
       "<path fill=\"none\" stroke=\"black\" d=\"M105.7,-317.61C94.71,-306.45 80.19,-291.71 68.15,-279.49\"/>\n",
       "<polygon fill=\"black\" stroke=\"black\" points=\"70.54,-276.93 61.03,-272.26 65.55,-281.84 70.54,-276.93\"/>\n",
       "</g>\n",
       "<!-- DT1 -->\n",
       "<g id=\"node8\" class=\"node\">\n",
       "<title>DT1</title>\n",
       "<polygon fill=\"#9a5050\" stroke=\"black\" points=\"144.41,-269.89 90.41,-269.89 90.41,-240.89 144.41,-240.89 144.41,-269.89\"/>\n",
       "<text text-anchor=\"middle\" x=\"117.41\" y=\"-251.69\" font-family=\"Times,serif\" font-size=\"14.00\" fill=\"white\">DT1</text>\n",
       "</g>\n",
       "<!-- L1H&#45;&gt;DT1 -->\n",
       "<g id=\"edge2\" class=\"edge\">\n",
       "<title>L1H-&gt;DT1</title>\n",
       "<polygon fill=\"black\" stroke=\"transparent\" stroke-width=\"2\" stroke-dasharray=\"1,5\" points=\"122.14,-314.78 121.99,-313.2 121.84,-311.58 121.69,-309.94 121.53,-308.26 121.38,-306.57 121.22,-304.85 121.05,-303.11 120.89,-301.36 120.73,-299.6 120.56,-297.83 120.4,-296.06 120.23,-294.29 120.07,-292.51 119.9,-290.75 119.74,-288.99 119.58,-287.24 119.42,-285.51 119.26,-283.8 119.1,-282.11 118.94,-280.44 118.94,-280.44 119,-282.12 119.06,-283.81 119.12,-285.53 119.18,-287.27 119.24,-289.02 119.3,-290.79 119.37,-292.56 119.43,-294.34 119.49,-296.12 119.55,-297.9 119.61,-299.67 119.68,-301.44 119.74,-303.2 119.8,-304.94 119.86,-306.66 119.92,-308.37 119.98,-310.05 120.03,-311.7 120.09,-313.32 120.15,-314.91 122.14,-314.78\"/>\n",
       "<polygon fill=\"black\" stroke=\"black\" stroke-width=\"2\" points=\"122.42,-279.96 118.29,-270.2 115.43,-280.4 122.42,-279.96\"/>\n",
       "</g>\n",
       "<!-- UT1 -->\n",
       "<g id=\"node11\" class=\"node\">\n",
       "<title>UT1</title>\n",
       "<polygon fill=\"#50508a\" stroke=\"black\" points=\"209.39,-172.04 190.9,-195.89 153.91,-195.89 135.42,-172.04 153.91,-148.18 190.9,-148.18 209.39,-172.04\"/>\n",
       "<text text-anchor=\"middle\" x=\"172.41\" y=\"-168.34\" font-family=\"Times,serif\" font-size=\"14.00\" fill=\"white\">UT1</text>\n",
       "</g>\n",
       "<!-- L1H&#45;&gt;UT1 -->\n",
       "<g id=\"edge3\" class=\"edge\">\n",
       "<title>L1H-&gt;UT1</title>\n",
       "<path fill=\"none\" stroke=\"black\" stroke-dasharray=\"5,2\" d=\"M134.49,-316.55C141.02,-306.03 148.69,-292.27 153.41,-279.07 161.86,-255.42 166.67,-227.4 169.34,-206.1\"/>\n",
       "<polygon fill=\"black\" stroke=\"black\" points=\"172.84,-206.27 170.51,-195.94 165.89,-205.47 172.84,-206.27\"/>\n",
       "</g>\n",
       "<!-- S1 -->\n",
       "<g id=\"node3\" class=\"node\">\n",
       "<title>S1</title>\n",
       "<ellipse fill=\"#808080\" stroke=\"black\" cx=\"45.41\" cy=\"-335.58\" rx=\"27\" ry=\"20.51\"/>\n",
       "<text text-anchor=\"middle\" x=\"45.41\" y=\"-331.88\" font-family=\"Times,serif\" font-size=\"14.00\" fill=\"white\">S1</text>\n",
       "</g>\n",
       "<!-- S1&#45;&gt;L1 -->\n",
       "<g id=\"edge4\" class=\"edge\">\n",
       "<title>S1-&gt;L1</title>\n",
       "<path fill=\"none\" stroke=\"black\" d=\"M45.41,-314.85C45.41,-306.24 45.41,-295.95 45.41,-286.42\"/>\n",
       "<polygon fill=\"black\" stroke=\"black\" points=\"48.91,-286.11 45.41,-276.11 41.91,-286.11 48.91,-286.11\"/>\n",
       "</g>\n",
       "<!-- S1H -->\n",
       "<g id=\"node4\" class=\"node\">\n",
       "<title>S1H</title>\n",
       "<ellipse fill=\"#808080\" stroke=\"black\" cx=\"257.41\" cy=\"-412.59\" rx=\"31.64\" ry=\"20.51\"/>\n",
       "<text text-anchor=\"middle\" x=\"257.41\" y=\"-408.89\" font-family=\"Times,serif\" font-size=\"14.00\" fill=\"white\">S1H</text>\n",
       "</g>\n",
       "<!-- S1H&#45;&gt;S1 -->\n",
       "<g id=\"edge5\" class=\"edge\">\n",
       "<title>S1H-&gt;S1</title>\n",
       "<path fill=\"none\" stroke=\"black\" d=\"M228.14,-404.2C192.71,-394.84 131.55,-377.34 81.41,-356.08 79.54,-355.29 77.64,-354.44 75.75,-353.54\"/>\n",
       "<polygon fill=\"black\" stroke=\"black\" points=\"76.9,-350.2 66.39,-348.82 73.75,-356.45 76.9,-350.2\"/>\n",
       "</g>\n",
       "<!-- DS1T1 -->\n",
       "<g id=\"node10\" class=\"node\">\n",
       "<title>DS1T1</title>\n",
       "<polygon fill=\"#9a5050\" stroke=\"black\" points=\"288.91,-350.08 225.91,-350.08 225.91,-321.08 288.91,-321.08 288.91,-350.08\"/>\n",
       "<text text-anchor=\"middle\" x=\"257.41\" y=\"-331.88\" font-family=\"Times,serif\" font-size=\"14.00\" fill=\"white\">DS1T1</text>\n",
       "</g>\n",
       "<!-- S1H&#45;&gt;DS1T1 -->\n",
       "<g id=\"edge6\" class=\"edge\">\n",
       "<title>S1H-&gt;DS1T1</title>\n",
       "<polygon fill=\"black\" stroke=\"transparent\" stroke-width=\"2\" stroke-dasharray=\"1,5\" points=\"258.41,-391.88 258.36,-390.43 258.31,-388.95 258.26,-387.45 258.21,-385.93 258.17,-384.39 258.12,-382.83 258.07,-381.25 258.01,-379.66 257.96,-378.07 257.91,-376.47 257.86,-374.86 257.81,-373.25 257.76,-371.65 257.71,-370.04 257.66,-368.45 257.6,-366.86 257.55,-365.29 257.5,-363.73 257.45,-362.18 257.41,-360.66 257.41,-360.66 257.36,-362.18 257.31,-363.73 257.26,-365.29 257.21,-366.86 257.16,-368.45 257.11,-370.04 257.05,-371.65 257,-373.25 256.95,-374.86 256.9,-376.47 256.85,-378.07 256.8,-379.66 256.75,-381.25 256.7,-382.83 256.65,-384.39 256.6,-385.93 256.55,-387.45 256.5,-388.95 256.45,-390.43 256.41,-391.88 258.41,-391.88\"/>\n",
       "<polygon fill=\"black\" stroke=\"black\" stroke-width=\"2\" points=\"260.91,-360.47 257.41,-350.47 253.91,-360.47 260.91,-360.47\"/>\n",
       "</g>\n",
       "<!-- S1UT1 -->\n",
       "<g id=\"node13\" class=\"node\">\n",
       "<title>S1UT1</title>\n",
       "<polygon fill=\"#50508a\" stroke=\"black\" points=\"408.78,-255.39 383.09,-279.25 331.72,-279.25 306.03,-255.39 331.72,-231.53 383.09,-231.53 408.78,-255.39\"/>\n",
       "<text text-anchor=\"middle\" x=\"357.41\" y=\"-251.69\" font-family=\"Times,serif\" font-size=\"14.00\" fill=\"white\">S1UT1</text>\n",
       "</g>\n",
       "<!-- S1H&#45;&gt;S1UT1 -->\n",
       "<g id=\"edge7\" class=\"edge\">\n",
       "<title>S1H-&gt;S1UT1</title>\n",
       "<path fill=\"none\" stroke=\"black\" stroke-dasharray=\"5,2\" d=\"M271.17,-393.92C279.36,-383.18 289.8,-369.06 298.41,-356.08 313.08,-333.94 328.32,-308.11 339.63,-288.29\"/>\n",
       "<polygon fill=\"black\" stroke=\"black\" points=\"342.8,-289.79 344.69,-279.36 336.72,-286.34 342.8,-289.79\"/>\n",
       "</g>\n",
       "<!-- RT1 -->\n",
       "<g id=\"node5\" class=\"node\">\n",
       "<title>RT1</title>\n",
       "<ellipse fill=\"#808080\" stroke=\"black\" cx=\"87.41\" cy=\"-172.04\" rx=\"30.31\" ry=\"20.51\"/>\n",
       "<text text-anchor=\"middle\" x=\"87.41\" y=\"-168.34\" font-family=\"Times,serif\" font-size=\"14.00\" fill=\"white\">RT1</text>\n",
       "</g>\n",
       "<!-- DT2 -->\n",
       "<g id=\"node9\" class=\"node\">\n",
       "<title>DT2</title>\n",
       "<polygon fill=\"#9a5050\" stroke=\"black\" points=\"87.41,-112.36 33.41,-112.36 33.41,-83.36 87.41,-83.36 87.41,-112.36\"/>\n",
       "<text text-anchor=\"middle\" x=\"60.41\" y=\"-94.16\" font-family=\"Times,serif\" font-size=\"14.00\" fill=\"white\">DT2</text>\n",
       "</g>\n",
       "<!-- RT1&#45;&gt;DT2 -->\n",
       "<g id=\"edge11\" class=\"edge\">\n",
       "<title>RT1-&gt;DT2</title>\n",
       "<polygon fill=\"black\" stroke=\"transparent\" stroke-width=\"2\" stroke-dasharray=\"1,5\" points=\"81.25,-151.72 80.68,-150.35 80.11,-148.95 79.53,-147.52 78.93,-146.08 78.33,-144.61 77.73,-143.14 77.11,-141.64 76.5,-140.14 75.88,-138.62 75.25,-137.11 74.63,-135.58 74,-134.06 73.38,-132.53 72.76,-131.02 72.14,-129.5 71.52,-128 70.91,-126.5 70.3,-125.02 69.7,-123.56 69.11,-122.11 69.11,-122.11 69.61,-123.59 70.11,-125.09 70.63,-126.61 71.15,-128.14 71.67,-129.68 72.19,-131.23 72.72,-132.78 73.25,-134.34 73.78,-135.9 74.31,-137.46 74.83,-139.02 75.36,-140.56 75.88,-142.1 76.4,-143.63 76.91,-145.15 77.42,-146.65 77.92,-148.12 78.41,-149.58 78.9,-151.01 79.38,-152.42 81.25,-151.72\"/>\n",
       "<polygon fill=\"black\" stroke=\"black\" stroke-width=\"2\" points=\"72.36,-120.82 65.58,-112.68 65.8,-123.27 72.36,-120.82\"/>\n",
       "</g>\n",
       "<!-- UT2 -->\n",
       "<g id=\"node12\" class=\"node\">\n",
       "<title>UT2</title>\n",
       "<polygon fill=\"#50508a\" stroke=\"black\" points=\"152.39,-23.68 133.9,-47.54 96.91,-47.54 78.42,-23.68 96.91,0.18 133.9,0.18 152.39,-23.68\"/>\n",
       "<text text-anchor=\"middle\" x=\"115.41\" y=\"-19.98\" font-family=\"Times,serif\" font-size=\"14.00\" fill=\"white\">UT2</text>\n",
       "</g>\n",
       "<!-- RT1&#45;&gt;UT2 -->\n",
       "<g id=\"edge10\" class=\"edge\">\n",
       "<title>RT1-&gt;UT2</title>\n",
       "<path fill=\"none\" stroke=\"black\" stroke-dasharray=\"5,2\" d=\"M91.12,-151.6C95.71,-127.64 103.57,-86.54 109.1,-57.62\"/>\n",
       "<polygon fill=\"black\" stroke=\"black\" points=\"112.59,-58.05 111.03,-47.57 105.71,-56.73 112.59,-58.05\"/>\n",
       "</g>\n",
       "<!-- RT2 -->\n",
       "<g id=\"node6\" class=\"node\">\n",
       "<title>RT2</title>\n",
       "<ellipse fill=\"#808080\" stroke=\"black\" cx=\"30.41\" cy=\"-23.68\" rx=\"30.31\" ry=\"20.51\"/>\n",
       "<text text-anchor=\"middle\" x=\"30.41\" y=\"-19.98\" font-family=\"Times,serif\" font-size=\"14.00\" fill=\"white\">RT2</text>\n",
       "</g>\n",
       "<!-- RS1T1 -->\n",
       "<g id=\"node7\" class=\"node\">\n",
       "<title>RS1T1</title>\n",
       "<ellipse fill=\"#808080\" stroke=\"black\" cx=\"244.41\" cy=\"-255.39\" rx=\"43.68\" ry=\"20.51\"/>\n",
       "<text text-anchor=\"middle\" x=\"244.41\" y=\"-251.69\" font-family=\"Times,serif\" font-size=\"14.00\" fill=\"white\">RS1T1</text>\n",
       "</g>\n",
       "<!-- DT1&#45;&gt;RT1 -->\n",
       "<g id=\"edge8\" class=\"edge\">\n",
       "<title>DT1-&gt;RT1</title>\n",
       "<path fill=\"none\" stroke=\"black\" d=\"M112.32,-240.59C108.4,-229.97 102.85,-214.92 97.99,-201.73\"/>\n",
       "<polygon fill=\"black\" stroke=\"black\" points=\"101.18,-200.27 94.44,-192.1 94.61,-202.69 101.18,-200.27\"/>\n",
       "</g>\n",
       "<!-- DT1&#45;&gt;UT1 -->\n",
       "<g id=\"edge9\" class=\"edge\">\n",
       "<title>DT1-&gt;UT1</title>\n",
       "<path fill=\"none\" stroke=\"black\" stroke-dasharray=\"5,2\" d=\"M126.74,-240.59C133.46,-230.65 142.81,-216.82 151.29,-204.27\"/>\n",
       "<polygon fill=\"black\" stroke=\"black\" points=\"154.29,-206.09 156.99,-195.84 148.49,-202.17 154.29,-206.09\"/>\n",
       "</g>\n",
       "<!-- DT2&#45;&gt;RT2 -->\n",
       "<g id=\"edge12\" class=\"edge\">\n",
       "<title>DT2-&gt;RT2</title>\n",
       "<path fill=\"none\" stroke=\"black\" d=\"M54.76,-83.28C51.24,-74.8 46.57,-63.56 42.26,-53.19\"/>\n",
       "<polygon fill=\"black\" stroke=\"black\" points=\"45.36,-51.53 38.29,-43.64 38.89,-54.22 45.36,-51.53\"/>\n",
       "</g>\n",
       "<!-- DT2&#45;&gt;UT2 -->\n",
       "<g id=\"edge13\" class=\"edge\">\n",
       "<title>DT2-&gt;UT2</title>\n",
       "<path fill=\"none\" stroke=\"black\" stroke-dasharray=\"5,2\" d=\"M70.75,-83.28C76.73,-75.43 84.51,-65.22 91.9,-55.52\"/>\n",
       "<polygon fill=\"black\" stroke=\"black\" points=\"94.69,-57.64 97.97,-47.56 89.12,-53.39 94.69,-57.64\"/>\n",
       "</g>\n",
       "<!-- DS1T1&#45;&gt;RS1T1 -->\n",
       "<g id=\"edge14\" class=\"edge\">\n",
       "<title>DS1T1-&gt;RS1T1</title>\n",
       "<path fill=\"none\" stroke=\"black\" d=\"M255.14,-320.96C253.54,-311.35 251.34,-298.1 249.35,-286.1\"/>\n",
       "<polygon fill=\"black\" stroke=\"black\" points=\"252.76,-285.3 247.67,-276.01 245.85,-286.45 252.76,-285.3\"/>\n",
       "</g>\n",
       "<!-- DS1T1&#45;&gt;S1UT1 -->\n",
       "<g id=\"edge15\" class=\"edge\">\n",
       "<title>DS1T1-&gt;S1UT1</title>\n",
       "<path fill=\"none\" stroke=\"black\" stroke-dasharray=\"5,2\" d=\"M274.82,-320.96C287.79,-310.82 305.92,-296.65 321.9,-284.16\"/>\n",
       "<polygon fill=\"black\" stroke=\"black\" points=\"324.29,-286.72 330.01,-277.81 319.98,-281.21 324.29,-286.72\"/>\n",
       "</g>\n",
       "</g>\n",
       "</svg>"
      ],
      "text/plain": [
       "<IPython.core.display.SVG object>"
      ]
     },
     "metadata": {},
     "output_type": "display_data"
    }
   ],
   "source": [
    "# create influence diagram, load BIFXML file\n",
    "diag = gum.InfluenceDiagram()\n",
    "diag.loadBIFXML(\"light.xml\") \n",
    "gnb.showInfluenceDiagram(diag, size=80)"
   ]
  },
  {
   "cell_type": "code",
   "execution_count": 6,
   "id": "83172e2a",
   "metadata": {},
   "outputs": [],
   "source": [
    "# create inference without any evidence\n",
    "ie = gum.ShaferShenoyLIMIDInference(diag) \n",
    "ie.setEvidence({\"L1\":\"off\", \"L1H\":\"ok\"})\n",
    "ie.makeInference()\n"
   ]
  },
  {
   "cell_type": "code",
   "execution_count": 10,
   "id": "beec82c9",
   "metadata": {},
   "outputs": [
    {
     "data": {
      "text/html": [
       "<table style=\"border:1px solid black;\">\n",
       "<tr style='border:1px solid black;color:black;background-color:#808080'>\n",
       "      <th colspan='2'><center>S1</center></th></tr>\n",
       "<tr><th style='border:1px solid black;border-bottom-style: double;color:black;background-color:#BBBBBB'>\n",
       "      <center>on</center></th><th style='border:1px solid black;border-bottom-style: double;color:black;background-color:#BBBBBB'>\n",
       "      <center>off</center></th></tr>\n",
       "<tr><td style='color:black;background-color:#f28b64;text-align:right;'>0.1006</td><td style='color:black;background-color:#8bf264;text-align:right;'>0.8994</td></tr>\n",
       "</table>"
      ],
      "text/plain": [
       "(pyAgrum.Potential<double>@0x55ee27d216a0) \n",
       "  S1               |\n",
       "on       |off      |\n",
       "---------|---------|\n",
       " 0.1006  | 0.8994  |"
      ]
     },
     "execution_count": 10,
     "metadata": {},
     "output_type": "execute_result"
    }
   ],
   "source": [
    "ie.posterior(\"S1\")"
   ]
  },
  {
   "cell_type": "code",
   "execution_count": null,
   "id": "959185e5",
   "metadata": {},
   "outputs": [],
   "source": [
    "ie.MEU()"
   ]
  },
  {
   "cell_type": "code",
   "execution_count": null,
   "id": "53f7cddb",
   "metadata": {},
   "outputs": [],
   "source": [
    "ie"
   ]
  },
  {
   "cell_type": "code",
   "execution_count": null,
   "id": "edcb97d9",
   "metadata": {
    "scrolled": true
   },
   "outputs": [],
   "source": [
    "ie.optimalDecision(\"DT2\")"
   ]
  },
  {
   "cell_type": "code",
   "execution_count": null,
   "id": "aea1a476",
   "metadata": {},
   "outputs": [],
   "source": [
    "\n",
    "def get_chance_variables():\n",
    "    \"\"\" method to deliver all chance variables\"\"\"\n",
    "    chance_variables = []\n",
    "    for i in diag.names():\n",
    "        if diag.isChanceNode(i):\n",
    "           chance_variables.append(i)\n",
    "        \n",
    "    return chance_variables\n",
    "\n",
    "print(get_chance_variables())\n",
    "    "
   ]
  },
  {
   "cell_type": "code",
   "execution_count": null,
   "id": "7d8ae22f",
   "metadata": {},
   "outputs": [],
   "source": [
    "diag.topologicalOrder()"
   ]
  },
  {
   "cell_type": "code",
   "execution_count": null,
   "id": "38d88f25",
   "metadata": {},
   "outputs": [],
   "source": [
    "v = \"L1\"\n",
    "p = diag.cpt(v)           # get cpt > potential object\n",
    "d = p.argmax()[0][0]      # get highest chance, first element in tuple then first element in list\n",
    "if type(d) == dict:       # should be dict\n",
    "    dv = diag.variable(v) # get definition of variable\n",
    "    if dv.varType() == 1: # should be labelized variable\n",
    "        print(dv.labels()[d[v]])   # print label for value of v"
   ]
  },
  {
   "cell_type": "code",
   "execution_count": null,
   "id": "b86bb747",
   "metadata": {},
   "outputs": [],
   "source": [
    "print(diag.cpt(\"L1\"))\n",
    "p = diag.cpt(\"L1\")\n",
    "print(p.argmax())\n",
    "print(diag.variable(\"L1\"))\n",
    "dv = diag.variable(\"L1\")\n",
    "print(dv.labels())\n"
   ]
  },
  {
   "cell_type": "code",
   "execution_count": null,
   "id": "ca9232c1",
   "metadata": {},
   "outputs": [],
   "source": [
    "v = \"L1\"\n",
    "d = {\"S1\": \"\"}\n",
    "p = diag.cpt(v)           # get cpt > potential object\n",
    "d[\"S1\"] = p\n",
    "print(d[\"S1\"])"
   ]
  },
  {
   "cell_type": "code",
   "execution_count": null,
   "id": "b75b8a6d",
   "metadata": {},
   "outputs": [],
   "source": []
  },
  {
   "cell_type": "code",
   "execution_count": null,
   "id": "e667de32",
   "metadata": {},
   "outputs": [],
   "source": []
  },
  {
   "cell_type": "markdown",
   "id": "15c5e627",
   "metadata": {},
   "source": [
    "Inference results show \"normal operation\", no tests are recommended (DT1, DT2, DS1T1)\n",
    "\n",
    "\n",
    "\n",
    "\n",
    "\n"
   ]
  },
  {
   "cell_type": "markdown",
   "id": "a104a93b",
   "metadata": {},
   "source": [
    "### start diagnosis \n",
    "- after startup the system asks to provide evidence on the problem the users are facing\n",
    "- the repair specialist enters light 1 is not on\n",
    "- the system calculates the most probable situation for the system and derives a next step"
   ]
  },
  {
   "cell_type": "code",
   "execution_count": null,
   "id": "fcd70c61",
   "metadata": {
    "scrolled": false
   },
   "outputs": [],
   "source": [
    "# calculate situation given evidence: light 1 is off\n",
    "ie = gum.ShaferShenoyLIMIDInference(diag) \n",
    "gnb.showInference(diag, engine=ie, evs={\"L1\":1}, size=15)"
   ]
  },
  {
   "cell_type": "markdown",
   "id": "97c72fb4",
   "metadata": {},
   "source": [
    "- Inference of the situation with provided evidence \"light 1 is off\" indicates a higher change light 1 is broken, via the L1H variable. This leads the system to suggest to execute test 1, via a >50% chance for decision DT1 = \"Yes\".\n",
    "- Based on this result the repair specialist is instructed to execute test 1.\n",
    "- Test 1 is the cheapest of the tests that can be done to check the health of light 1."
   ]
  },
  {
   "cell_type": "markdown",
   "id": "0b9c9ac8",
   "metadata": {},
   "source": [
    "### Test 1 performed\n",
    "- As instructed the repair specialist executes test 1 and provides the result to the system.\n",
    "- The result of test 1 is evidence that indicates light 1 is probably broken.\n",
    "- the system is asked for the next step"
   ]
  },
  {
   "cell_type": "code",
   "execution_count": null,
   "id": "fa14fad2",
   "metadata": {
    "scrolled": false
   },
   "outputs": [],
   "source": [
    "# calculate situation given evidencce light 1 is off and test 1 indicate light is broken\n",
    "ie = gum.ShaferShenoyLIMIDInference(diag) \n",
    "gnb.showInference(diag, engine=ie, evs={\"L1\":1, \"RT1\": 2}, size=15)"
   ]
  },
  {
   "cell_type": "markdown",
   "id": "cbc10a8e",
   "metadata": {},
   "source": [
    "- Results show a second test is recommended by the system, via decision DT2.\n",
    "- The system instructs the repair specialist to execute test 2."
   ]
  },
  {
   "cell_type": "markdown",
   "id": "2f412ff9",
   "metadata": {},
   "source": [
    "### Test 2 performed\n",
    "- repair specialist excutes test 2 and provides result to the system.\n",
    "- the evidence is the light is definitely broken."
   ]
  },
  {
   "cell_type": "code",
   "execution_count": null,
   "id": "d7ffc642",
   "metadata": {
    "scrolled": false
   },
   "outputs": [],
   "source": [
    "# calculate situation given evidencce light 1 is off, test 1 & test 2 indicate light is broken\n",
    "ie = gum.ShaferShenoyLIMIDInference(diag) \n",
    "gnb.showInference(diag, engine=ie, evs={\"L1\":1, \"RT1\": 1, \"RT2\":2}, size=15)"
   ]
  },
  {
   "cell_type": "markdown",
   "id": "6968ad15",
   "metadata": {},
   "source": [
    "- Given the results the system now instructs the repair specialist to replace the light, based on result of RT2.\n",
    "- The repair specialist is asked to confirm the light is replaced."
   ]
  },
  {
   "cell_type": "markdown",
   "id": "c243d3bc",
   "metadata": {},
   "source": [
    "### new starting point after replacement of light 1"
   ]
  },
  {
   "cell_type": "code",
   "execution_count": null,
   "id": "af225b74",
   "metadata": {},
   "outputs": [],
   "source": [
    "# inference after light 1 is replaced, chance of failure of light 1 is now between 80/90%\n",
    "ie = gum.ShaferShenoyLIMIDInference(diag) \n",
    "gnb.showInference(diag, engine=ie, evs={\"L1H\":[0.8, 0.9],\"L1\":1}, size=15)"
   ]
  },
  {
   "cell_type": "markdown",
   "id": "9bbb0057",
   "metadata": {},
   "source": [
    "- Repair specialist is asked if system is running as expected and this is confirmed. "
   ]
  },
  {
   "cell_type": "code",
   "execution_count": null,
   "id": "0be9fefe",
   "metadata": {},
   "outputs": [],
   "source": []
  }
 ],
 "metadata": {
  "kernelspec": {
   "display_name": "Python 3 (ipykernel)",
   "language": "python",
   "name": "python3"
  },
  "language_info": {
   "codemirror_mode": {
    "name": "ipython",
    "version": 3
   },
   "file_extension": ".py",
   "mimetype": "text/x-python",
   "name": "python",
   "nbconvert_exporter": "python",
   "pygments_lexer": "ipython3",
   "version": "3.10.4"
  }
 },
 "nbformat": 4,
 "nbformat_minor": 5
}
