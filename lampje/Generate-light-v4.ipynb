{
 "cells": [
  {
   "cell_type": "markdown",
   "id": "92a983a2",
   "metadata": {},
   "source": [
    "# Light example: generate influence diagram\n",
    "\n",
    "- 1 light + 1 switch\n",
    "- normal operation and so highest chance: light is on and switch set to on\n",
    "- both components have a health variable\n",
    "- light 1 can be tested with 2 tests\n",
    "  - test 1 is cheapest test\n",
    "  - test 2 is more expensive\n",
    "- when test 2 negative then replace component\n",
    "- switch can be tested with 1 test \n",
    "- \n",
    "\n",
    "this notebook generates the influence diagram"
   ]
  },
  {
   "cell_type": "code",
   "execution_count": 1,
   "id": "ea0bda67",
   "metadata": {},
   "outputs": [],
   "source": [
    "# imports\n",
    "import os\n",
    "import matplotlib.pyplot as plt\n",
    "from pylab import *\n",
    "import pyAgrum as gum\n",
    "import pyAgrum.lib.notebook as gnb\n",
    "\n",
    "from IPython.display import display,HTML"
   ]
  },
  {
   "cell_type": "code",
   "execution_count": 2,
   "id": "382ab7d5",
   "metadata": {},
   "outputs": [],
   "source": [
    "# create influence diagram\n",
    "diag = gum.InfluenceDiagram()"
   ]
  },
  {
   "cell_type": "markdown",
   "id": "d68e0e31",
   "metadata": {},
   "source": [
    "# influence diagram structure\n",
    "\n",
    "chance, decision and utility variables"
   ]
  },
  {
   "cell_type": "markdown",
   "id": "a1ce4be4",
   "metadata": {},
   "source": [
    "CL1: light 1 \n",
    "- normal behavior is light 1 is on \n",
    "- but can also be off\n",
    "\n",
    "HL1: light 1 health \n",
    "- models if light is broken. \n",
    "- If HL1 set to broken light 1 will be off. \n",
    "- So light 1 is conditionally dependent on L1H"
   ]
  },
  {
   "cell_type": "code",
   "execution_count": 3,
   "id": "79c1cf89",
   "metadata": {},
   "outputs": [],
   "source": [
    "# CL1 and HL1\n",
    "CL1 = diag.addChanceNode(gum.LabelizedVariable('CL1', 'L1 component', [\"on\", \"off\"]))\n",
    "HL1 = diag.addChanceNode(gum.LabelizedVariable('HL1', 'L1 health', [\"ok\", \"broken\"]))\n",
    "\n",
    "# CL1 is conditionally dependent on L1H\n",
    "diag.addArc(HL1, CL1)"
   ]
  },
  {
   "cell_type": "markdown",
   "id": "7cfd17a5",
   "metadata": {},
   "source": [
    "DT1: test 1\n",
    "- decision variable test 1 determines if test 1 will be performed\n",
    "- values are yes / no\n",
    "- if HL1 is likely broken DT1 becomes relevant\n",
    "\n",
    "RT1: test result of test 1\n",
    "- chance variable test 1 result models outcome of test 1: OK, not OK\n",
    "- not done is also an option if DT1 set to no\n",
    "\n",
    "UT1: utility of test 1\n",
    "- function of L1H and DT1 \n",
    "- when low health it's likely to perform test for more assurance"
   ]
  },
  {
   "cell_type": "code",
   "execution_count": 4,
   "id": "b27b83c6",
   "metadata": {},
   "outputs": [],
   "source": [
    "DT1 = diag.addDecisionNode(gum.LabelizedVariable('DT1', 'Decide T1', [\"yes\", \"no\"]))\n",
    "RT1 = diag.addChanceNode(gum.LabelizedVariable('RT1', 'Result T1', [\"not done\", \"ok\", \"broken\"]))\n",
    "UT1 = diag.addUtilityNode(gum.LabelizedVariable(\"UT1\", \"R(L1H, DT1)\", 1))"
   ]
  },
  {
   "cell_type": "code",
   "execution_count": 5,
   "id": "32ab1e76",
   "metadata": {},
   "outputs": [],
   "source": [
    "diag.addArc(DT1, UT1)\n",
    "diag.addArc(HL1, RT1)\n",
    "diag.addArc(HL1, UT1)"
   ]
  },
  {
   "cell_type": "markdown",
   "id": "f932088f",
   "metadata": {},
   "source": [
    "DT2 test 2\n",
    "- decision variable test 2 determines if test 2 will be performed\n",
    "- values are yes / no\n",
    "- if RT1 is likely broken DT1 becomes relevant\n",
    "\n",
    "RT2: test result of test 2\n",
    "- chance variable test 2 result models outcome of test 2: OK, not OK\n",
    "- not done is also an option if DT2 set to no\n",
    "\n",
    "UT2: utility of test 1\n",
    "- function of RT1 and DT2 \n",
    "- when low health it's likely to perform test for more assurance"
   ]
  },
  {
   "cell_type": "code",
   "execution_count": 6,
   "id": "6c06ad30",
   "metadata": {},
   "outputs": [],
   "source": [
    "DT2 = diag.addDecisionNode(gum.LabelizedVariable('DT2', 'Decide T2', [\"yes\", \"no\"]))\n",
    "RT2 = diag.addChanceNode(gum.LabelizedVariable('RT2', 'Result T2', [\"not done\", \"ok\", \"broken\"]))\n",
    "UT2 = diag.addUtilityNode(gum.LabelizedVariable(\"UT2\", \"R(RT1, DT2)\", 1))"
   ]
  },
  {
   "cell_type": "code",
   "execution_count": 7,
   "id": "675d6e3f",
   "metadata": {},
   "outputs": [],
   "source": [
    "diag.addArc(DT2, UT2)\n",
    "diag.addArc(RT1, RT2)\n",
    "diag.addArc(RT1, UT2)"
   ]
  },
  {
   "cell_type": "markdown",
   "id": "a223239f",
   "metadata": {},
   "source": [
    "DRL1, decision to replace light 1\n",
    "- decision variable DRL1 to decide if light 1 needs replacing\n",
    "- values are replace / keep\n",
    "- if RT2 is likely broken DRL1 becomes relevant\n",
    "\n",
    "URL1: utility for replacing light 1\n",
    "- function of RT2 and DRL1 \n",
    "- when low health it's likely to perform test for more assurance"
   ]
  },
  {
   "cell_type": "code",
   "execution_count": 8,
   "id": "9574e42a",
   "metadata": {},
   "outputs": [],
   "source": [
    "DRL1 = diag.addDecisionNode(gum.LabelizedVariable('DRL1', 'replace Light 1 T2', [\"replace\", \"keep\"]))\n",
    "URL1 = diag.addUtilityNode(gum.LabelizedVariable(\"URL1\", \"R(RT2, DRL1)\", 1))"
   ]
  },
  {
   "cell_type": "code",
   "execution_count": 9,
   "id": "047d7084",
   "metadata": {},
   "outputs": [],
   "source": [
    "diag.addArc(DRL1, URL1)\n",
    "diag.addArc(RT2, URL1)"
   ]
  },
  {
   "cell_type": "code",
   "execution_count": 10,
   "id": "88174711",
   "metadata": {
    "scrolled": false
   },
   "outputs": [
    {
     "name": "stdout",
     "output_type": "stream",
     "text": [
      "Influence Diagram{\n",
      "  chance: 4,\n",
      "  utility: 3,\n",
      "  decision: 3,\n",
      "  arcs: 9,\n",
      "  domainSize: 288\n",
      "}\n"
     ]
    },
    {
     "data": {
      "image/svg+xml": [
       "<svg xmlns=\"http://www.w3.org/2000/svg\" xmlns:xlink=\"http://www.w3.org/1999/xlink\" width=\"311pt\" height=\"299pt\" viewBox=\"0.00 0.00 311.41 299.08\">\n",
       "<g id=\"graph0\" class=\"graph\" transform=\"scale(1 1) rotate(0) translate(4 295.08)\">\n",
       "<title>G</title>\n",
       "<!-- CL1 -->\n",
       "<g id=\"node1\" class=\"node\">\n",
       "<title>CL1</title>\n",
       "<ellipse fill=\"#808080\" stroke=\"black\" cx=\"30.41\" cy=\"-190.39\" rx=\"30.31\" ry=\"20.51\"/>\n",
       "<text text-anchor=\"middle\" x=\"30.41\" y=\"-186.69\" font-family=\"Times,serif\" font-size=\"14.00\" fill=\"white\">CL1</text>\n",
       "</g>\n",
       "<!-- HL1 -->\n",
       "<g id=\"node2\" class=\"node\">\n",
       "<title>HL1</title>\n",
       "<ellipse fill=\"#808080\" stroke=\"black\" cx=\"109.41\" cy=\"-270.58\" rx=\"31.64\" ry=\"20.51\"/>\n",
       "<text text-anchor=\"middle\" x=\"109.41\" y=\"-266.88\" font-family=\"Times,serif\" font-size=\"14.00\" fill=\"white\">HL1</text>\n",
       "</g>\n",
       "<!-- HL1&#45;&gt;CL1 -->\n",
       "<g id=\"edge1\" class=\"edge\">\n",
       "<title>HL1-&gt;CL1</title>\n",
       "<path fill=\"none\" stroke=\"black\" d=\"M92.65,-253C81.47,-241.93 66.61,-227.22 54.21,-214.95\"/>\n",
       "<polygon fill=\"black\" stroke=\"black\" points=\"56.43,-212.23 46.86,-207.68 51.51,-217.2 56.43,-212.23\"/>\n",
       "</g>\n",
       "<!-- RT1 -->\n",
       "<g id=\"node3\" class=\"node\">\n",
       "<title>RT1</title>\n",
       "<ellipse fill=\"#808080\" stroke=\"black\" cx=\"109.41\" cy=\"-190.39\" rx=\"30.31\" ry=\"20.51\"/>\n",
       "<text text-anchor=\"middle\" x=\"109.41\" y=\"-186.69\" font-family=\"Times,serif\" font-size=\"14.00\" fill=\"white\">RT1</text>\n",
       "</g>\n",
       "<!-- HL1&#45;&gt;RT1 -->\n",
       "<g id=\"edge2\" class=\"edge\">\n",
       "<title>HL1-&gt;RT1</title>\n",
       "<path fill=\"none\" stroke=\"black\" d=\"M109.41,-249.85C109.41,-241.24 109.41,-230.95 109.41,-221.42\"/>\n",
       "<polygon fill=\"black\" stroke=\"black\" points=\"112.91,-221.11 109.41,-211.11 105.91,-221.11 112.91,-221.11\"/>\n",
       "</g>\n",
       "<!-- UT1 -->\n",
       "<g id=\"node8\" class=\"node\">\n",
       "<title>UT1</title>\n",
       "<polygon fill=\"#50508a\" stroke=\"black\" points=\"231.39,-190.39 212.9,-214.25 175.91,-214.25 157.42,-190.39 175.91,-166.53 212.9,-166.53 231.39,-190.39\"/>\n",
       "<text text-anchor=\"middle\" x=\"194.41\" y=\"-186.69\" font-family=\"Times,serif\" font-size=\"14.00\" fill=\"white\">UT1</text>\n",
       "</g>\n",
       "<!-- HL1&#45;&gt;UT1 -->\n",
       "<g id=\"edge3\" class=\"edge\">\n",
       "<title>HL1-&gt;UT1</title>\n",
       "<path fill=\"none\" stroke=\"black\" stroke-dasharray=\"5,2\" d=\"M127.02,-253.38C138.13,-243.15 152.75,-229.71 165.53,-217.95\"/>\n",
       "<polygon fill=\"black\" stroke=\"black\" points=\"168.22,-220.24 173.21,-210.89 163.48,-215.09 168.22,-220.24\"/>\n",
       "</g>\n",
       "<!-- RT2 -->\n",
       "<g id=\"node4\" class=\"node\">\n",
       "<title>RT2</title>\n",
       "<ellipse fill=\"#808080\" stroke=\"black\" cx=\"109.41\" cy=\"-107.04\" rx=\"30.31\" ry=\"20.51\"/>\n",
       "<text text-anchor=\"middle\" x=\"109.41\" y=\"-103.34\" font-family=\"Times,serif\" font-size=\"14.00\" fill=\"white\">RT2</text>\n",
       "</g>\n",
       "<!-- RT1&#45;&gt;RT2 -->\n",
       "<g id=\"edge5\" class=\"edge\">\n",
       "<title>RT1-&gt;RT2</title>\n",
       "<path fill=\"none\" stroke=\"black\" d=\"M109.41,-169.7C109.41,-160.1 109.41,-148.37 109.41,-137.72\"/>\n",
       "<polygon fill=\"black\" stroke=\"black\" points=\"112.91,-137.55 109.41,-127.55 105.91,-137.55 112.91,-137.55\"/>\n",
       "</g>\n",
       "<!-- UT2 -->\n",
       "<g id=\"node9\" class=\"node\">\n",
       "<title>UT2</title>\n",
       "<polygon fill=\"#50508a\" stroke=\"black\" points=\"231.39,-107.04 212.9,-130.89 175.91,-130.89 157.42,-107.04 175.91,-83.18 212.9,-83.18 231.39,-107.04\"/>\n",
       "<text text-anchor=\"middle\" x=\"194.41\" y=\"-103.34\" font-family=\"Times,serif\" font-size=\"14.00\" fill=\"white\">UT2</text>\n",
       "</g>\n",
       "<!-- RT1&#45;&gt;UT2 -->\n",
       "<g id=\"edge6\" class=\"edge\">\n",
       "<title>RT1-&gt;UT2</title>\n",
       "<path fill=\"none\" stroke=\"black\" stroke-dasharray=\"5,2\" d=\"M126.61,-172.93C137.88,-162.14 152.89,-147.77 165.92,-135.3\"/>\n",
       "<polygon fill=\"black\" stroke=\"black\" points=\"168.51,-137.66 173.32,-128.22 163.67,-132.61 168.51,-137.66\"/>\n",
       "</g>\n",
       "<!-- URL1 -->\n",
       "<g id=\"node10\" class=\"node\">\n",
       "<title>URL1</title>\n",
       "<polygon fill=\"#50508a\" stroke=\"black\" points=\"237.22,-23.68 214.81,-47.54 170,-47.54 147.59,-23.68 170,0.18 214.81,0.18 237.22,-23.68\"/>\n",
       "<text text-anchor=\"middle\" x=\"192.41\" y=\"-19.98\" font-family=\"Times,serif\" font-size=\"14.00\" fill=\"white\">URL1</text>\n",
       "</g>\n",
       "<!-- RT2&#45;&gt;URL1 -->\n",
       "<g id=\"edge8\" class=\"edge\">\n",
       "<title>RT2-&gt;URL1</title>\n",
       "<path fill=\"none\" stroke=\"black\" stroke-dasharray=\"5,2\" d=\"M126.2,-89.57C136.48,-79.5 149.94,-66.31 162.03,-54.45\"/>\n",
       "<polygon fill=\"black\" stroke=\"black\" points=\"164.65,-56.78 169.34,-47.28 159.75,-51.78 164.65,-56.78\"/>\n",
       "</g>\n",
       "<!-- DT1 -->\n",
       "<g id=\"node5\" class=\"node\">\n",
       "<title>DT1</title>\n",
       "<polygon fill=\"#9a5050\" stroke=\"black\" points=\"221.41,-285.08 167.41,-285.08 167.41,-256.08 221.41,-256.08 221.41,-285.08\"/>\n",
       "<text text-anchor=\"middle\" x=\"194.41\" y=\"-266.88\" font-family=\"Times,serif\" font-size=\"14.00\" fill=\"white\">DT1</text>\n",
       "</g>\n",
       "<!-- DT1&#45;&gt;UT1 -->\n",
       "<g id=\"edge4\" class=\"edge\">\n",
       "<title>DT1-&gt;UT1</title>\n",
       "<path fill=\"none\" stroke=\"black\" stroke-dasharray=\"5,2\" d=\"M194.41,-255.96C194.41,-247.27 194.41,-235.61 194.41,-224.59\"/>\n",
       "<polygon fill=\"black\" stroke=\"black\" points=\"197.91,-224.34 194.41,-214.34 190.91,-224.34 197.91,-224.34\"/>\n",
       "</g>\n",
       "<!-- DT2 -->\n",
       "<g id=\"node6\" class=\"node\">\n",
       "<title>DT2</title>\n",
       "<polygon fill=\"#9a5050\" stroke=\"black\" points=\"303.41,-204.89 249.41,-204.89 249.41,-175.89 303.41,-175.89 303.41,-204.89\"/>\n",
       "<text text-anchor=\"middle\" x=\"276.41\" y=\"-186.69\" font-family=\"Times,serif\" font-size=\"14.00\" fill=\"white\">DT2</text>\n",
       "</g>\n",
       "<!-- DT2&#45;&gt;UT2 -->\n",
       "<g id=\"edge7\" class=\"edge\">\n",
       "<title>DT2-&gt;UT2</title>\n",
       "<path fill=\"none\" stroke=\"black\" stroke-dasharray=\"5,2\" d=\"M262.5,-175.59C251.55,-164.73 235.93,-149.24 222.42,-135.83\"/>\n",
       "<polygon fill=\"black\" stroke=\"black\" points=\"224.73,-133.19 215.17,-128.63 219.8,-138.16 224.73,-133.19\"/>\n",
       "</g>\n",
       "<!-- DRL1 -->\n",
       "<g id=\"node7\" class=\"node\">\n",
       "<title>DRL1</title>\n",
       "<polygon fill=\"#9a5050\" stroke=\"black\" points=\"303.41,-121.54 249.41,-121.54 249.41,-92.54 303.41,-92.54 303.41,-121.54\"/>\n",
       "<text text-anchor=\"middle\" x=\"276.41\" y=\"-103.34\" font-family=\"Times,serif\" font-size=\"14.00\" fill=\"white\">DRL1</text>\n",
       "</g>\n",
       "<!-- DRL1&#45;&gt;URL1 -->\n",
       "<g id=\"edge9\" class=\"edge\">\n",
       "<title>DRL1-&gt;URL1</title>\n",
       "<path fill=\"none\" stroke=\"black\" stroke-dasharray=\"5,2\" d=\"M262.16,-92.23C251.41,-81.83 236.29,-67.18 222.87,-54.18\"/>\n",
       "<polygon fill=\"black\" stroke=\"black\" points=\"225.24,-51.61 215.62,-47.17 220.37,-56.64 225.24,-51.61\"/>\n",
       "</g>\n",
       "</g>\n",
       "</svg>"
      ],
      "text/plain": [
       "<IPython.core.display.SVG object>"
      ]
     },
     "metadata": {},
     "output_type": "display_data"
    }
   ],
   "source": [
    "print(diag)\n",
    "gnb.showInfluenceDiagram(diag, size=60)"
   ]
  },
  {
   "cell_type": "markdown",
   "id": "2cf5c0cc",
   "metadata": {},
   "source": [
    "# probabilities"
   ]
  },
  {
   "cell_type": "code",
   "execution_count": 11,
   "id": "cac4276c",
   "metadata": {},
   "outputs": [],
   "source": [
    "# CL1 and HL1\n",
    "diag.cpt(CL1)[{\"HL1\":0}] = [0.95, 0.05]  # when S1:on, HL1: healthy > CL1 should be on\n",
    "diag.cpt(CL1)[{\"HL1\":1}] = [0.1, 0.9]  # when S1:on, HL1: broken > CL1 likely off\n",
    "\n",
    "diag.cpt(HL1)[0] = 0.7  # most likely light is not broken\n",
    "diag.cpt(HL1)[1] = 0.3  # but 30% chance light is broken"
   ]
  },
  {
   "cell_type": "code",
   "execution_count": 12,
   "id": "ac29eece",
   "metadata": {},
   "outputs": [],
   "source": [
    "# RT1\n",
    "diag.cpt(RT1)[{\"HL1\": \"ok\"}]          = [0.95, 0.05, 0.0]  # HL1:ok > RT1 likely not done\n",
    "diag.cpt(RT1)[{\"HL1\": \"broken\"}]      = [0.4, 0.1, 0.5]  # HL1:broken > RT1 likely broken"
   ]
  },
  {
   "cell_type": "code",
   "execution_count": 13,
   "id": "5ae154c0",
   "metadata": {},
   "outputs": [],
   "source": [
    "# RT2\n",
    "diag.cpt(RT2)[{\"RT1\": \"not done\"}]    = [0.95, 0.05, 0.0]   # RT1:not done > RT2 likely not done\n",
    "diag.cpt(RT2)[{\"RT1\": \"ok\"}]          = [0.05, 0.90, 0.05]  # RT1:ok > RT2 likely OK\n",
    "diag.cpt(RT2)[{\"RT1\": \"broken\"}]      = [0.4, 0.1, 0.5]   # RT1:broken > RT2 likely broken or not done"
   ]
  },
  {
   "cell_type": "code",
   "execution_count": 14,
   "id": "361b1639",
   "metadata": {},
   "outputs": [
    {
     "data": {
      "text/html": [
       "\n",
       "      <style>\n",
       "      .floating-box {\n",
       "      display: inline-block;\n",
       "      margin: 7px;\n",
       "      padding : 3px;\n",
       "      border: 0px solid transparent;  \n",
       "      valign:middle;\n",
       "      background-color: transparent;\n",
       "      }\n",
       "      </style>\n",
       "      <div class=\"floating-box\"><table style=\"border:1px solid black;\">\n",
       "<tr><th colspan='1'></th>\n",
       "      <th colspan='2' style='border:1px solid black;color:black;background-color:#808080;'><center>CL1</center>\n",
       "      </th></tr>\n",
       "<tr><th style='border:1px solid black;color:black;background-color:#808080'><center>HL1</center></th><th style='border:1px solid black;border-bottom-style: double;color:black;background-color:#BBBBBB'>\n",
       "      <center>on</center></th><th style='border:1px solid black;border-bottom-style: double;color:black;background-color:#BBBBBB'>\n",
       "      <center>off</center></th></tr>\n",
       "<tr><th style='border:1px solid black;color:black;background-color:#BBBBBB'><center>ok</center></th><td style='color:black;background-color:#85f864;text-align:right;'>0.9500</td><td style='color:black;background-color:#f88564;text-align:right;'>0.0500</td></tr>\n",
       "<tr><th style='border:1px solid black;color:black;background-color:#BBBBBB'><center>broken</center></th><td style='color:black;background-color:#f28b64;text-align:right;'>0.1000</td><td style='color:black;background-color:#8bf264;text-align:right;'>0.9000</td></tr>\n",
       "</table><br><center><small><em>prior of CL1</em></small></center></div><div class=\"floating-box\"><table style=\"border:1px solid black;\">\n",
       "<tr style='border:1px solid black;color:black;background-color:#808080'>\n",
       "      <th colspan='2'><center>HL1</center></th></tr>\n",
       "<tr><th style='border:1px solid black;border-bottom-style: double;color:black;background-color:#BBBBBB'>\n",
       "      <center>ok</center></th><th style='border:1px solid black;border-bottom-style: double;color:black;background-color:#BBBBBB'>\n",
       "      <center>broken</center></th></tr>\n",
       "<tr><td style='color:black;background-color:#a5d864;text-align:right;'>0.7000</td><td style='color:black;background-color:#d8a564;text-align:right;'>0.3000</td></tr>\n",
       "</table><br><center><small><em>prior of HL1</em></small></center></div><div class=\"floating-box\"><table style=\"border:1px solid black;\">\n",
       "<tr><th colspan='1'></th>\n",
       "      <th colspan='3' style='border:1px solid black;color:black;background-color:#808080;'><center>RT1</center>\n",
       "      </th></tr>\n",
       "<tr><th style='border:1px solid black;color:black;background-color:#808080'><center>HL1</center></th><th style='border:1px solid black;border-bottom-style: double;color:black;background-color:#BBBBBB'>\n",
       "      <center>not done</center></th><th style='border:1px solid black;border-bottom-style: double;color:black;background-color:#BBBBBB'>\n",
       "      <center>ok</center></th><th style='border:1px solid black;border-bottom-style: double;color:black;background-color:#BBBBBB'>\n",
       "      <center>broken</center></th></tr>\n",
       "<tr><th style='border:1px solid black;color:black;background-color:#BBBBBB'><center>ok</center></th><td style='color:black;background-color:#85f864;text-align:right;'>0.9500</td><td style='color:black;background-color:#f88564;text-align:right;'>0.0500</td><td style='color:black;background-color:#ff7f64;text-align:right;'>0.0000</td></tr>\n",
       "<tr><th style='border:1px solid black;color:black;background-color:#BBBBBB'><center>broken</center></th><td style='color:black;background-color:#cbb264;text-align:right;'>0.4000</td><td style='color:black;background-color:#f28b64;text-align:right;'>0.1000</td><td style='color:black;background-color:#bfbf64;text-align:right;'>0.5000</td></tr>\n",
       "</table><br><center><small><em>prior of RT1</em></small></center></div><div class=\"floating-box\"><table style=\"border:1px solid black;\">\n",
       "<tr><th colspan='1'></th>\n",
       "      <th colspan='3' style='border:1px solid black;color:black;background-color:#808080;'><center>RT2</center>\n",
       "      </th></tr>\n",
       "<tr><th style='border:1px solid black;color:black;background-color:#808080'><center>RT1</center></th><th style='border:1px solid black;border-bottom-style: double;color:black;background-color:#BBBBBB'>\n",
       "      <center>not done</center></th><th style='border:1px solid black;border-bottom-style: double;color:black;background-color:#BBBBBB'>\n",
       "      <center>ok</center></th><th style='border:1px solid black;border-bottom-style: double;color:black;background-color:#BBBBBB'>\n",
       "      <center>broken</center></th></tr>\n",
       "<tr><th style='border:1px solid black;color:black;background-color:#BBBBBB'><center>not done</center></th><td style='color:black;background-color:#85f864;text-align:right;'>0.9500</td><td style='color:black;background-color:#f88564;text-align:right;'>0.0500</td><td style='color:black;background-color:#ff7f64;text-align:right;'>0.0000</td></tr>\n",
       "<tr><th style='border:1px solid black;color:black;background-color:#BBBBBB'><center>ok</center></th><td style='color:black;background-color:#f88564;text-align:right;'>0.0500</td><td style='color:black;background-color:#8bf264;text-align:right;'>0.9000</td><td style='color:black;background-color:#f88564;text-align:right;'>0.0500</td></tr>\n",
       "<tr><th style='border:1px solid black;color:black;background-color:#BBBBBB'><center>broken</center></th><td style='color:black;background-color:#cbb264;text-align:right;'>0.4000</td><td style='color:black;background-color:#f28b64;text-align:right;'>0.1000</td><td style='color:black;background-color:#bfbf64;text-align:right;'>0.5000</td></tr>\n",
       "</table><br><center><small><em>prior of RT2</em></small></center></div>"
      ],
      "text/plain": [
       "<IPython.core.display.HTML object>"
      ]
     },
     "metadata": {},
     "output_type": "display_data"
    }
   ],
   "source": [
    "gnb.flow.row(diag.cpt(CL1),\n",
    "            diag.cpt(HL1),\n",
    "            diag.cpt(RT1),\n",
    "            diag.cpt(RT2),\n",
    "            captions=[  \"prior of CL1\",\n",
    "                        \"prior of HL1\",\n",
    "                        \"prior of RT1\",\n",
    "                        \"prior of RT2\"\n",
    "                      ])"
   ]
  },
  {
   "cell_type": "markdown",
   "id": "4d2ba402",
   "metadata": {},
   "source": [
    "# utility function"
   ]
  },
  {
   "cell_type": "code",
   "execution_count": 15,
   "id": "618fda76",
   "metadata": {},
   "outputs": [],
   "source": [
    "diag.utility(\"UT1\")[{\"HL1\":\"ok\", \"DT1\": \"yes\"}]           = 1   # test done but not relevant\n",
    "diag.utility(\"UT1\")[{\"HL1\":\"broken\", \"DT1\": \"yes\"}]       = 3   # test done when broken, excellent\n",
    "diag.utility(\"UT1\")[{\"HL1\":\"ok\", \"DT1\": \"no\"}]            = 2   # test not done but that's ok\n",
    "diag.utility(\"UT1\")[{\"HL1\":\"broken\", \"DT1\": \"no\"}]        = 0   # test not done when broken: missed chance"
   ]
  },
  {
   "cell_type": "code",
   "execution_count": 16,
   "id": "c80f2eb8",
   "metadata": {},
   "outputs": [],
   "source": [
    "diag.utility(\"UT2\")[{\"RT1\":\"not done\", \"DT2\": \"yes\"}]     = 1   # test done but not relevant\n",
    "diag.utility(\"UT2\")[{\"RT1\":\"ok\", \"DT2\": \"yes\"}]           = 0   # test done but not relevant\n",
    "diag.utility(\"UT2\")[{\"RT1\":\"broken\", \"DT2\": \"yes\"}]       = 3   # test done when broken, excellent\n",
    "diag.utility(\"UT2\")[{\"RT1\":\"not done\", \"DT2\": \"no\"}]      = 2   # test not done but not relevant\n",
    "diag.utility(\"UT2\")[{\"RT1\":\"ok\", \"DT2\": \"no\"}]            = 3   # test not done but that's ok\n",
    "diag.utility(\"UT2\")[{\"RT1\":\"broken\", \"DT2\": \"no\"}]        = 2   # test not done when broken: missed chance\n"
   ]
  },
  {
   "cell_type": "code",
   "execution_count": 17,
   "id": "09538b67",
   "metadata": {},
   "outputs": [],
   "source": [
    "diag.utility(\"URL1\")[{\"RT2\":\"not done\", \"DRL1\": \"replace\"}]    = 2   # test done but not relevant\n",
    "diag.utility(\"URL1\")[{\"RT2\":\"not done\", \"DRL1\": \"keep\"}]       = 4   # test not done but that's ok\n",
    "diag.utility(\"URL1\")[{\"RT2\":\"ok\", \"DRL1\": \"replace\"}]          = 0   # test done but not relevant\n",
    "diag.utility(\"URL1\")[{\"RT2\":\"ok\", \"DRL1\": \"keep\"}]             = 3   # test not done but that's ok\n",
    "diag.utility(\"URL1\")[{\"RT2\":\"broken\", \"DRL1\": \"replace\"}]      = 4   # test done when broken, excellent\n",
    "diag.utility(\"URL1\")[{\"RT2\":\"broken\", \"DRL1\": \"keep\"}]         = 4   # test not done when broken: missed chance"
   ]
  },
  {
   "cell_type": "code",
   "execution_count": 18,
   "id": "53a7b497",
   "metadata": {},
   "outputs": [
    {
     "data": {
      "text/html": [
       "\n",
       "      <style>\n",
       "      .floating-box {\n",
       "      display: inline-block;\n",
       "      margin: 7px;\n",
       "      padding : 3px;\n",
       "      border: 0px solid transparent;  \n",
       "      valign:middle;\n",
       "      background-color: transparent;\n",
       "      }\n",
       "      </style>\n",
       "      <div class=\"floating-box\"><table style=\"border:1px solid black;\">\n",
       "<tr><th colspan='2'></th>\n",
       "      <th colspan='1' style='border:1px solid black;color:black;background-color:#808080;'><center>UT1</center>\n",
       "      </th></tr>\n",
       "<tr><th style='border:1px solid black;color:black;background-color:#808080'><center>HL1</center></th><th style='border:1px solid black;color:black;background-color:#808080'><center>DT1</center></th><th style='border:1px solid black;border-bottom-style: double;color:black;background-color:#BBBBBB'>\n",
       "      <center>0</center></th></tr>\n",
       "<tr><th style='border:1px solid black;color:black;background-color:#BBBBBB;' rowspan = '2'>\n",
       "            <center>ok</center></th><th style='border:1px solid black;color:black;background-color:#BBBBBB'><center>yes</center></th><td style='text-align:right;'>1.0000</td></tr>\n",
       "<tr><th style='border:1px solid black;color:black;background-color:#BBBBBB'><center>no</center></th><td style='text-align:right;'>2.0000</td></tr>\n",
       "<tr><th style='border:1px solid black;color:black;background-color:#BBBBBB;' rowspan = '2'>\n",
       "            <center>broken</center></th><th style='border:1px solid black;color:black;background-color:#BBBBBB'><center>yes</center></th><td style='text-align:right;'>3.0000</td></tr>\n",
       "<tr><th style='border:1px solid black;color:black;background-color:#BBBBBB'><center>no</center></th><td style='text-align:right;'>0.0000</td></tr>\n",
       "</table><br><center><small><em>utility UT1</em></small></center></div><div class=\"floating-box\"><table style=\"border:1px solid black;\">\n",
       "<tr><th colspan='2'></th>\n",
       "      <th colspan='1' style='border:1px solid black;color:black;background-color:#808080;'><center>UT2</center>\n",
       "      </th></tr>\n",
       "<tr><th style='border:1px solid black;color:black;background-color:#808080'><center>RT1</center></th><th style='border:1px solid black;color:black;background-color:#808080'><center>DT2</center></th><th style='border:1px solid black;border-bottom-style: double;color:black;background-color:#BBBBBB'>\n",
       "      <center>0</center></th></tr>\n",
       "<tr><th style='border:1px solid black;color:black;background-color:#BBBBBB;' rowspan = '2'>\n",
       "            <center>not done</center></th><th style='border:1px solid black;color:black;background-color:#BBBBBB'><center>yes</center></th><td style='text-align:right;'>1.0000</td></tr>\n",
       "<tr><th style='border:1px solid black;color:black;background-color:#BBBBBB'><center>no</center></th><td style='text-align:right;'>2.0000</td></tr>\n",
       "<tr><th style='border:1px solid black;color:black;background-color:#BBBBBB;' rowspan = '2'>\n",
       "            <center>ok</center></th><th style='border:1px solid black;color:black;background-color:#BBBBBB'><center>yes</center></th><td style='text-align:right;'>0.0000</td></tr>\n",
       "<tr><th style='border:1px solid black;color:black;background-color:#BBBBBB'><center>no</center></th><td style='text-align:right;'>3.0000</td></tr>\n",
       "<tr><th style='border:1px solid black;color:black;background-color:#BBBBBB;' rowspan = '2'>\n",
       "            <center>broken</center></th><th style='border:1px solid black;color:black;background-color:#BBBBBB'><center>yes</center></th><td style='text-align:right;'>3.0000</td></tr>\n",
       "<tr><th style='border:1px solid black;color:black;background-color:#BBBBBB'><center>no</center></th><td style='text-align:right;'>2.0000</td></tr>\n",
       "</table><br><center><small><em>utility UT2</em></small></center></div><div class=\"floating-box\"><table style=\"border:1px solid black;\">\n",
       "<tr><th colspan='2'></th>\n",
       "      <th colspan='1' style='border:1px solid black;color:black;background-color:#808080;'><center>URL1</center>\n",
       "      </th></tr>\n",
       "<tr><th style='border:1px solid black;color:black;background-color:#808080'><center>RT2</center></th><th style='border:1px solid black;color:black;background-color:#808080'><center>DRL1</center></th><th style='border:1px solid black;border-bottom-style: double;color:black;background-color:#BBBBBB'>\n",
       "      <center>0</center></th></tr>\n",
       "<tr><th style='border:1px solid black;color:black;background-color:#BBBBBB;' rowspan = '2'>\n",
       "            <center>not done</center></th><th style='border:1px solid black;color:black;background-color:#BBBBBB'><center>replace</center></th><td style='text-align:right;'>2.0000</td></tr>\n",
       "<tr><th style='border:1px solid black;color:black;background-color:#BBBBBB'><center>keep</center></th><td style='text-align:right;'>4.0000</td></tr>\n",
       "<tr><th style='border:1px solid black;color:black;background-color:#BBBBBB;' rowspan = '2'>\n",
       "            <center>ok</center></th><th style='border:1px solid black;color:black;background-color:#BBBBBB'><center>replace</center></th><td style='text-align:right;'>0.0000</td></tr>\n",
       "<tr><th style='border:1px solid black;color:black;background-color:#BBBBBB'><center>keep</center></th><td style='text-align:right;'>3.0000</td></tr>\n",
       "<tr><th style='border:1px solid black;color:black;background-color:#BBBBBB;' rowspan = '2'>\n",
       "            <center>broken</center></th><th style='border:1px solid black;color:black;background-color:#BBBBBB'><center>replace</center></th><td style='text-align:right;'>4.0000</td></tr>\n",
       "<tr><th style='border:1px solid black;color:black;background-color:#BBBBBB'><center>keep</center></th><td style='text-align:right;'>4.0000</td></tr>\n",
       "</table><br><center><small><em>utility URL1</em></small></center></div>"
      ],
      "text/plain": [
       "<IPython.core.display.HTML object>"
      ]
     },
     "metadata": {},
     "output_type": "display_data"
    }
   ],
   "source": [
    "gnb.flow.row(diag.utility(\"UT1\"),\n",
    "            diag.utility(\"UT2\"),\n",
    "            diag.utility(\"URL1\"),\n",
    "           \n",
    "            captions=[  \"utility UT1\",\n",
    "                        \"utility UT2\",\n",
    "                        \"utility URL1\",\n",
    "            \n",
    "                      ])"
   ]
  },
  {
   "cell_type": "code",
   "execution_count": null,
   "id": "5559a653",
   "metadata": {},
   "outputs": [],
   "source": [
    "diag.saveBIFXML(\"lightv4.xml\")"
   ]
  },
  {
   "cell_type": "code",
   "execution_count": null,
   "id": "7f018c8f",
   "metadata": {},
   "outputs": [],
   "source": []
  }
 ],
 "metadata": {
  "kernelspec": {
   "display_name": "Python 3 (ipykernel)",
   "language": "python",
   "name": "python3"
  },
  "language_info": {
   "codemirror_mode": {
    "name": "ipython",
    "version": 3
   },
   "file_extension": ".py",
   "mimetype": "text/x-python",
   "name": "python",
   "nbconvert_exporter": "python",
   "pygments_lexer": "ipython3",
   "version": "3.10.4"
  }
 },
 "nbformat": 4,
 "nbformat_minor": 5
}
