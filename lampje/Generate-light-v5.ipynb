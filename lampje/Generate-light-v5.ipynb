{
 "cells": [
  {
   "cell_type": "markdown",
   "id": "7d5a99a2",
   "metadata": {},
   "source": [
    "# variant met switch"
   ]
  },
  {
   "cell_type": "markdown",
   "id": "92a983a2",
   "metadata": {},
   "source": [
    "# Light example: generate influence diagram\n",
    "\n",
    "- 1 light + 1 switch\n",
    "- normal operation and so highest chance: light is on and switch set to on\n",
    "- both components have a health variable\n",
    "- light 1 can be tested with 2 tests\n",
    "  - test 1 is cheapest test\n",
    "  - test 2 is more expensive\n",
    "- when test 2 negative then replace component\n",
    "- switch can be tested with 1 test \n",
    "- \n",
    "\n",
    "this notebook generates the influence diagram"
   ]
  },
  {
   "cell_type": "code",
   "execution_count": 12,
   "id": "ea0bda67",
   "metadata": {},
   "outputs": [],
   "source": [
    "# imports\n",
    "import os\n",
    "import matplotlib.pyplot as plt\n",
    "from pylab import *\n",
    "import pyAgrum as gum\n",
    "import pyAgrum.lib.notebook as gnb\n",
    "\n",
    "from IPython.display import display,HTML"
   ]
  },
  {
   "cell_type": "code",
   "execution_count": 13,
   "id": "382ab7d5",
   "metadata": {},
   "outputs": [],
   "source": [
    "# create influence diagram\n",
    "diag = gum.InfluenceDiagram()"
   ]
  },
  {
   "cell_type": "markdown",
   "id": "d68e0e31",
   "metadata": {},
   "source": [
    "# influence diagram structure\n",
    "\n",
    "chance, decision and utility variables"
   ]
  },
  {
   "cell_type": "markdown",
   "id": "a1ce4be4",
   "metadata": {},
   "source": [
    "CL1: light 1 \n",
    "- normal behavior is light 1 is on \n",
    "- but can also be off\n",
    "\n",
    "HL1: light 1 health \n",
    "- models if light is broken. \n",
    "- If HL1 set to broken light 1 will be off. \n",
    "- So light 1 is conditionally dependent on L1H"
   ]
  },
  {
   "cell_type": "code",
   "execution_count": 14,
   "id": "79c1cf89",
   "metadata": {},
   "outputs": [],
   "source": [
    "# CL1 and HL1\n",
    "CL1 = diag.addChanceNode(gum.LabelizedVariable('CL1', 'L1 component', [\"on\", \"off\"]))\n",
    "HL1 = diag.addChanceNode(gum.LabelizedVariable('HL1', 'L1 health', [\"ok\", \"broken\"]))\n",
    "\n",
    "# CL1 is conditionally dependent on L1H\n",
    "diag.addArc(HL1, CL1)"
   ]
  },
  {
   "cell_type": "markdown",
   "id": "7cfd17a5",
   "metadata": {},
   "source": [
    "DT1: test 1\n",
    "- decision variable test 1 determines if test 1 will be performed\n",
    "- values are yes / no\n",
    "- if HL1 is likely broken DT1 becomes relevant\n",
    "\n",
    "RL1T1: test result of test 1\n",
    "- chance variable test 1 result models outcome of test 1: OK, not OK\n",
    "- not done is also an option if DT1 set to no\n",
    "\n",
    "UT1: utility of test 1\n",
    "- function of L1H and DT1 \n",
    "- when low health it's likely to perform test for more assurance"
   ]
  },
  {
   "cell_type": "code",
   "execution_count": 15,
   "id": "b27b83c6",
   "metadata": {},
   "outputs": [],
   "source": [
    "DL1T1 = diag.addDecisionNode(gum.LabelizedVariable('DL1T1', 'Decide T1', [\"yes\", \"no\"]))\n",
    "RL1T1 = diag.addChanceNode(gum.LabelizedVariable('RL1T1', 'Result T1', [\"not done\", \"ok\", \"broken\"]))\n",
    "UL1T1 = diag.addUtilityNode(gum.LabelizedVariable(\"UL1T1\", \"R(L1H, DT1)\", 1))"
   ]
  },
  {
   "cell_type": "code",
   "execution_count": 16,
   "id": "32ab1e76",
   "metadata": {},
   "outputs": [],
   "source": [
    "diag.addArc(DL1T1, UL1T1)\n",
    "diag.addArc(HL1, RL1T1)\n",
    "diag.addArc(HL1, UL1T1)"
   ]
  },
  {
   "cell_type": "markdown",
   "id": "f932088f",
   "metadata": {},
   "source": [
    "DT2 test 2\n",
    "- decision variable test 2 determines if test 2 will be performed\n",
    "- values are yes / no\n",
    "- if RL1T1 is likely broken DT1 becomes relevant\n",
    "\n",
    "RT2: test result of test 2\n",
    "- chance variable test 2 result models outcome of test 2: OK, not OK\n",
    "- not done is also an option if DT2 set to no\n",
    "\n",
    "UT2: utility of test 1\n",
    "- function of RL1T1 and DT2 \n",
    "- when low health it's likely to perform test for more assurance"
   ]
  },
  {
   "cell_type": "code",
   "execution_count": 17,
   "id": "6c06ad30",
   "metadata": {},
   "outputs": [],
   "source": [
    "DL1T2 = diag.addDecisionNode(gum.LabelizedVariable('DL1T2', 'Decide T2', [\"yes\", \"no\"]))\n",
    "RL1T2 = diag.addChanceNode(gum.LabelizedVariable('RL1T2', 'Result T2', [\"not done\", \"ok\", \"broken\"]))\n",
    "UL1T2 = diag.addUtilityNode(gum.LabelizedVariable(\"UL1T2\", \"R(RL1T1, DL1T2)\", 1))"
   ]
  },
  {
   "cell_type": "code",
   "execution_count": 18,
   "id": "675d6e3f",
   "metadata": {},
   "outputs": [],
   "source": [
    "diag.addArc(DL1T2, UL1T2)\n",
    "diag.addArc(RL1T1, RL1T2)\n",
    "diag.addArc(RL1T1, UL1T2)"
   ]
  },
  {
   "cell_type": "markdown",
   "id": "a223239f",
   "metadata": {},
   "source": [
    "DRL1, decision to replace light 1\n",
    "- decision variable DRL1 to decide if light 1 needs replacing\n",
    "- values are replace / keep\n",
    "- if RT2 is likely broken DRL1 becomes relevant\n",
    "\n",
    "URL1: utility for replacing light 1\n",
    "- function of RT2 and DRL1 \n",
    "- when low health it's likely to perform test for more assurance"
   ]
  },
  {
   "cell_type": "code",
   "execution_count": 19,
   "id": "9574e42a",
   "metadata": {},
   "outputs": [],
   "source": [
    "DRL1 = diag.addDecisionNode(gum.LabelizedVariable('DRL1', 'replace Light 1 T2', [\"replace\", \"keep\"]))\n",
    "URL1 = diag.addUtilityNode(gum.LabelizedVariable(\"URL1\", \"R(RT2, DRL1)\", 1))"
   ]
  },
  {
   "cell_type": "code",
   "execution_count": 20,
   "id": "047d7084",
   "metadata": {},
   "outputs": [],
   "source": [
    "diag.addArc(DRL1, URL1)\n",
    "diag.addArc(RL1T2, URL1)"
   ]
  },
  {
   "cell_type": "markdown",
   "id": "1e31d9eb",
   "metadata": {},
   "source": [
    "CS1, switch to turn CL1 on or off\n",
    "- normal behavior is switch should be on to support light to be on\n",
    "\n",
    "HS1\n",
    "- models health of the switch, if broken switch will be off"
   ]
  },
  {
   "cell_type": "code",
   "execution_count": 21,
   "id": "da199d37",
   "metadata": {},
   "outputs": [],
   "source": [
    "CS1 = diag.addChanceNode(gum.LabelizedVariable('CS1', 'S1 component', [\"on\", \"off\"]))\n",
    "HS1 = diag.addChanceNode(gum.LabelizedVariable('HS1', 'S1 health', [\"ok\", \"broken\"]))"
   ]
  },
  {
   "cell_type": "code",
   "execution_count": 22,
   "id": "49823e76",
   "metadata": {},
   "outputs": [],
   "source": [
    "diag.addArc(HS1, CS1)\n",
    "diag.addArc(CS1, CL1)"
   ]
  },
  {
   "cell_type": "markdown",
   "id": "57463db5",
   "metadata": {},
   "source": [
    "DT1: test 1\n",
    "- decision variable test 1 determines if test 1 will be performed\n",
    "- values are yes / no\n",
    "- if HL1 is likely broken DT1 becomes relevant\n",
    "\n",
    "RL1T1: test result of test 1\n",
    "- chance variable test 1 result models outcome of test 1: OK, not OK\n",
    "- not done is also an option if DT1 set to no\n",
    "\n",
    "UT1: utility of test 1\n",
    "- function of L1H and DT1 \n",
    "- when low health it's likely to perform test for more assurance"
   ]
  },
  {
   "cell_type": "code",
   "execution_count": 23,
   "id": "d9c63139",
   "metadata": {},
   "outputs": [],
   "source": [
    "DS1T1 = diag.addDecisionNode(gum.LabelizedVariable('DS1T1', 'Decide S1T1', [\"yes\", \"no\"]))\n",
    "RS1T1 = diag.addChanceNode(gum.LabelizedVariable('RS1T1', 'Result S1T1', [\"not done\", \"ok\", \"broken\"]))\n",
    "US1T1 = diag.addUtilityNode(gum.LabelizedVariable(\"US1T1\", \"R(HS1, DS1T1)\", 1))"
   ]
  },
  {
   "cell_type": "code",
   "execution_count": 24,
   "id": "a969dc14",
   "metadata": {},
   "outputs": [],
   "source": [
    "diag.addArc(DS1T1, US1T1)\n",
    "diag.addArc(HS1, RS1T1)\n",
    "diag.addArc(HS1, US1T1)"
   ]
  },
  {
   "cell_type": "markdown",
   "id": "8351a617",
   "metadata": {},
   "source": [
    "test 2 for S1 "
   ]
  },
  {
   "cell_type": "code",
   "execution_count": 25,
   "id": "96535b49",
   "metadata": {},
   "outputs": [],
   "source": [
    "DRS1 = diag.addDecisionNode(gum.LabelizedVariable('DRS1', 'replace switch S1', [\"replace\", \"keep\"]))\n",
    "URS1 = diag.addUtilityNode(gum.LabelizedVariable(\"URS1\", \"R(RS1T1, DRS1)\", 1))"
   ]
  },
  {
   "cell_type": "code",
   "execution_count": 27,
   "id": "68178c4d",
   "metadata": {},
   "outputs": [],
   "source": [
    "diag.addArc(RS1T1, URS1)\n",
    "diag.addArc(DRS1, URS1)"
   ]
  },
  {
   "cell_type": "code",
   "execution_count": 28,
   "id": "88174711",
   "metadata": {
    "scrolled": false
   },
   "outputs": [
    {
     "name": "stdout",
     "output_type": "stream",
     "text": [
      "Influence Diagram{\n",
      "  chance: 7,\n",
      "  utility: 5,\n",
      "  decision: 5,\n",
      "  arcs: 16,\n",
      "  domainSize: 13824\n",
      "}\n"
     ]
    },
    {
     "data": {
      "image/svg+xml": [
       "<svg xmlns=\"http://www.w3.org/2000/svg\" xmlns:xlink=\"http://www.w3.org/1999/xlink\" width=\"672pt\" height=\"382pt\" viewBox=\"0.00 0.00 671.50 382.44\">\n",
       "<g id=\"graph0\" class=\"graph\" transform=\"scale(1 1) rotate(0) translate(4 378.44)\">\n",
       "<title>G</title>\n",
       "<!-- CL1 -->\n",
       "<g id=\"node1\" class=\"node\">\n",
       "<title>CL1</title>\n",
       "<ellipse fill=\"#808080\" stroke=\"black\" cx=\"144\" cy=\"-190.39\" rx=\"30.31\" ry=\"20.51\"/>\n",
       "<text text-anchor=\"middle\" x=\"144\" y=\"-186.69\" font-family=\"Times,serif\" font-size=\"14.00\" fill=\"white\">CL1</text>\n",
       "</g>\n",
       "<!-- HL1 -->\n",
       "<g id=\"node2\" class=\"node\">\n",
       "<title>HL1</title>\n",
       "<ellipse fill=\"#808080\" stroke=\"black\" cx=\"236\" cy=\"-273.75\" rx=\"31.64\" ry=\"20.51\"/>\n",
       "<text text-anchor=\"middle\" x=\"236\" y=\"-270.05\" font-family=\"Times,serif\" font-size=\"14.00\" fill=\"white\">HL1</text>\n",
       "</g>\n",
       "<!-- HL1&#45;&gt;CL1 -->\n",
       "<g id=\"edge1\" class=\"edge\">\n",
       "<title>HL1-&gt;CL1</title>\n",
       "<path fill=\"none\" stroke=\"black\" d=\"M217.82,-256.68C204,-244.45 184.81,-227.48 169.45,-213.9\"/>\n",
       "<polygon fill=\"black\" stroke=\"black\" points=\"171.64,-211.16 161.83,-207.16 167,-216.4 171.64,-211.16\"/>\n",
       "</g>\n",
       "<!-- RL1T1 -->\n",
       "<g id=\"node3\" class=\"node\">\n",
       "<title>RL1T1</title>\n",
       "<ellipse fill=\"#808080\" stroke=\"black\" cx=\"236\" cy=\"-190.39\" rx=\"43.27\" ry=\"20.51\"/>\n",
       "<text text-anchor=\"middle\" x=\"236\" y=\"-186.69\" font-family=\"Times,serif\" font-size=\"14.00\" fill=\"white\">RL1T1</text>\n",
       "</g>\n",
       "<!-- HL1&#45;&gt;RL1T1 -->\n",
       "<g id=\"edge2\" class=\"edge\">\n",
       "<title>HL1-&gt;RL1T1</title>\n",
       "<path fill=\"none\" stroke=\"black\" d=\"M236,-253.05C236,-243.46 236,-231.72 236,-221.07\"/>\n",
       "<polygon fill=\"black\" stroke=\"black\" points=\"239.5,-220.9 236,-210.9 232.5,-220.9 239.5,-220.9\"/>\n",
       "</g>\n",
       "<!-- UL1T1 -->\n",
       "<g id=\"node13\" class=\"node\">\n",
       "<title>UL1T1</title>\n",
       "<polygon fill=\"#50508a\" stroke=\"black\" points=\"400.38,-190.39 374.69,-214.25 323.31,-214.25 297.62,-190.39 323.31,-166.53 374.69,-166.53 400.38,-190.39\"/>\n",
       "<text text-anchor=\"middle\" x=\"349\" y=\"-186.69\" font-family=\"Times,serif\" font-size=\"14.00\" fill=\"white\">UL1T1</text>\n",
       "</g>\n",
       "<!-- HL1&#45;&gt;UL1T1 -->\n",
       "<g id=\"edge3\" class=\"edge\">\n",
       "<title>HL1-&gt;UL1T1</title>\n",
       "<path fill=\"none\" stroke=\"black\" stroke-dasharray=\"5,2\" d=\"M256.46,-258.02C272.02,-246.82 293.82,-231.12 312.36,-217.77\"/>\n",
       "<polygon fill=\"black\" stroke=\"black\" points=\"314.54,-220.51 320.61,-211.83 310.45,-214.83 314.54,-220.51\"/>\n",
       "</g>\n",
       "<!-- RL1T2 -->\n",
       "<g id=\"node4\" class=\"node\">\n",
       "<title>RL1T2</title>\n",
       "<ellipse fill=\"#808080\" stroke=\"black\" cx=\"236\" cy=\"-107.04\" rx=\"43.27\" ry=\"20.51\"/>\n",
       "<text text-anchor=\"middle\" x=\"236\" y=\"-103.34\" font-family=\"Times,serif\" font-size=\"14.00\" fill=\"white\">RL1T2</text>\n",
       "</g>\n",
       "<!-- RL1T1&#45;&gt;RL1T2 -->\n",
       "<g id=\"edge5\" class=\"edge\">\n",
       "<title>RL1T1-&gt;RL1T2</title>\n",
       "<path fill=\"none\" stroke=\"black\" d=\"M236,-169.7C236,-160.1 236,-148.37 236,-137.72\"/>\n",
       "<polygon fill=\"black\" stroke=\"black\" points=\"239.5,-137.55 236,-127.55 232.5,-137.55 239.5,-137.55\"/>\n",
       "</g>\n",
       "<!-- UL1T2 -->\n",
       "<g id=\"node14\" class=\"node\">\n",
       "<title>UL1T2</title>\n",
       "<polygon fill=\"#50508a\" stroke=\"black\" points=\"174.38,-107.04 148.69,-130.89 97.31,-130.89 71.62,-107.04 97.31,-83.18 148.69,-83.18 174.38,-107.04\"/>\n",
       "<text text-anchor=\"middle\" x=\"123\" y=\"-103.34\" font-family=\"Times,serif\" font-size=\"14.00\" fill=\"white\">UL1T2</text>\n",
       "</g>\n",
       "<!-- RL1T1&#45;&gt;UL1T2 -->\n",
       "<g id=\"edge6\" class=\"edge\">\n",
       "<title>RL1T1-&gt;UL1T2</title>\n",
       "<path fill=\"none\" stroke=\"black\" stroke-dasharray=\"5,2\" d=\"M213.13,-172.93C197.84,-161.92 177.37,-147.18 159.8,-134.53\"/>\n",
       "<polygon fill=\"black\" stroke=\"black\" points=\"161.61,-131.52 151.45,-128.52 157.52,-137.2 161.61,-131.52\"/>\n",
       "</g>\n",
       "<!-- URL1 -->\n",
       "<g id=\"node15\" class=\"node\">\n",
       "<title>URL1</title>\n",
       "<polygon fill=\"#50508a\" stroke=\"black\" points=\"175.81,-23.68 153.41,-47.54 108.59,-47.54 86.19,-23.68 108.59,0.18 153.41,0.18 175.81,-23.68\"/>\n",
       "<text text-anchor=\"middle\" x=\"131\" y=\"-19.98\" font-family=\"Times,serif\" font-size=\"14.00\" fill=\"white\">URL1</text>\n",
       "</g>\n",
       "<!-- RL1T2&#45;&gt;URL1 -->\n",
       "<g id=\"edge8\" class=\"edge\">\n",
       "<title>RL1T2-&gt;URL1</title>\n",
       "<path fill=\"none\" stroke=\"black\" stroke-dasharray=\"5,2\" d=\"M214.24,-89.18C199.92,-78.08 180.89,-63.33 164.63,-50.74\"/>\n",
       "<polygon fill=\"black\" stroke=\"black\" points=\"166.47,-47.74 156.43,-44.38 162.19,-53.27 166.47,-47.74\"/>\n",
       "</g>\n",
       "<!-- CS1 -->\n",
       "<g id=\"node5\" class=\"node\">\n",
       "<title>CS1</title>\n",
       "<ellipse fill=\"#808080\" stroke=\"black\" cx=\"150\" cy=\"-273.75\" rx=\"31.23\" ry=\"20.51\"/>\n",
       "<text text-anchor=\"middle\" x=\"150\" y=\"-270.05\" font-family=\"Times,serif\" font-size=\"14.00\" fill=\"white\">CS1</text>\n",
       "</g>\n",
       "<!-- CS1&#45;&gt;CL1 -->\n",
       "<g id=\"edge10\" class=\"edge\">\n",
       "<title>CS1-&gt;CL1</title>\n",
       "<path fill=\"none\" stroke=\"black\" d=\"M148.55,-253.05C147.84,-243.46 146.97,-231.72 146.19,-221.07\"/>\n",
       "<polygon fill=\"black\" stroke=\"black\" points=\"149.67,-220.62 145.44,-210.9 142.68,-221.14 149.67,-220.62\"/>\n",
       "</g>\n",
       "<!-- HS1 -->\n",
       "<g id=\"node6\" class=\"node\">\n",
       "<title>HS1</title>\n",
       "<ellipse fill=\"#808080\" stroke=\"black\" cx=\"426\" cy=\"-353.93\" rx=\"31.64\" ry=\"20.51\"/>\n",
       "<text text-anchor=\"middle\" x=\"426\" y=\"-350.23\" font-family=\"Times,serif\" font-size=\"14.00\" fill=\"white\">HS1</text>\n",
       "</g>\n",
       "<!-- HS1&#45;&gt;CS1 -->\n",
       "<g id=\"edge11\" class=\"edge\">\n",
       "<title>HS1-&gt;CS1</title>\n",
       "<path fill=\"none\" stroke=\"black\" d=\"M395.44,-347.92C350.59,-340.04 264.71,-322.98 195,-297.43 190.93,-295.94 186.76,-294.18 182.67,-292.3\"/>\n",
       "<polygon fill=\"black\" stroke=\"black\" points=\"183.89,-289.01 173.36,-287.81 180.85,-295.31 183.89,-289.01\"/>\n",
       "</g>\n",
       "<!-- RS1T1 -->\n",
       "<g id=\"node7\" class=\"node\">\n",
       "<title>RS1T1</title>\n",
       "<ellipse fill=\"#808080\" stroke=\"black\" cx=\"426\" cy=\"-273.75\" rx=\"43.68\" ry=\"20.51\"/>\n",
       "<text text-anchor=\"middle\" x=\"426\" y=\"-270.05\" font-family=\"Times,serif\" font-size=\"14.00\" fill=\"white\">RS1T1</text>\n",
       "</g>\n",
       "<!-- HS1&#45;&gt;RS1T1 -->\n",
       "<g id=\"edge12\" class=\"edge\">\n",
       "<title>HS1-&gt;RS1T1</title>\n",
       "<path fill=\"none\" stroke=\"black\" d=\"M426,-333.2C426,-324.59 426,-314.3 426,-304.78\"/>\n",
       "<polygon fill=\"black\" stroke=\"black\" points=\"429.5,-304.47 426,-294.47 422.5,-304.47 429.5,-304.47\"/>\n",
       "</g>\n",
       "<!-- US1T1 -->\n",
       "<g id=\"node16\" class=\"node\">\n",
       "<title>US1T1</title>\n",
       "<polygon fill=\"#50508a\" stroke=\"black\" points=\"590.38,-273.75 564.69,-297.61 513.31,-297.61 487.62,-273.75 513.31,-249.89 564.69,-249.89 590.38,-273.75\"/>\n",
       "<text text-anchor=\"middle\" x=\"539\" y=\"-270.05\" font-family=\"Times,serif\" font-size=\"14.00\" fill=\"white\">US1T1</text>\n",
       "</g>\n",
       "<!-- HS1&#45;&gt;US1T1 -->\n",
       "<g id=\"edge13\" class=\"edge\">\n",
       "<title>HS1-&gt;US1T1</title>\n",
       "<path fill=\"none\" stroke=\"black\" stroke-dasharray=\"5,2\" d=\"M446.99,-338.41C462.24,-327.86 483.29,-313.29 501.41,-300.76\"/>\n",
       "<polygon fill=\"black\" stroke=\"black\" points=\"503.8,-303.36 510.03,-294.79 499.81,-297.61 503.8,-303.36\"/>\n",
       "</g>\n",
       "<!-- URS1 -->\n",
       "<g id=\"node17\" class=\"node\">\n",
       "<title>URS1</title>\n",
       "<polygon fill=\"#50508a\" stroke=\"black\" points=\"595.95,-190.39 572.97,-214.25 527.03,-214.25 504.05,-190.39 527.03,-166.53 572.97,-166.53 595.95,-190.39\"/>\n",
       "<text text-anchor=\"middle\" x=\"550\" y=\"-186.69\" font-family=\"Times,serif\" font-size=\"14.00\" fill=\"white\">URS1</text>\n",
       "</g>\n",
       "<!-- RS1T1&#45;&gt;URS1 -->\n",
       "<g id=\"edge15\" class=\"edge\">\n",
       "<title>RS1T1-&gt;URS1</title>\n",
       "<path fill=\"none\" stroke=\"black\" stroke-dasharray=\"5,2\" d=\"M450.5,-256.68C468.53,-244.84 493.35,-228.56 513.68,-215.22\"/>\n",
       "<polygon fill=\"black\" stroke=\"black\" points=\"515.65,-218.12 522.09,-209.7 511.81,-212.26 515.65,-218.12\"/>\n",
       "</g>\n",
       "<!-- DL1T1 -->\n",
       "<g id=\"node8\" class=\"node\">\n",
       "<title>DL1T1</title>\n",
       "<polygon fill=\"#9a5050\" stroke=\"black\" points=\"364,-288.25 302,-288.25 302,-259.25 364,-259.25 364,-288.25\"/>\n",
       "<text text-anchor=\"middle\" x=\"333\" y=\"-270.05\" font-family=\"Times,serif\" font-size=\"14.00\" fill=\"white\">DL1T1</text>\n",
       "</g>\n",
       "<!-- DL1T1&#45;&gt;UL1T1 -->\n",
       "<g id=\"edge4\" class=\"edge\">\n",
       "<title>DL1T1-&gt;UL1T1</title>\n",
       "<path fill=\"none\" stroke=\"black\" stroke-dasharray=\"5,2\" d=\"M335.71,-258.95C337.59,-249.38 340.18,-236.24 342.57,-224.08\"/>\n",
       "<polygon fill=\"black\" stroke=\"black\" points=\"346.02,-224.69 344.51,-214.2 339.15,-223.33 346.02,-224.69\"/>\n",
       "</g>\n",
       "<!-- DL1T2 -->\n",
       "<g id=\"node9\" class=\"node\">\n",
       "<title>DL1T2</title>\n",
       "<polygon fill=\"#9a5050\" stroke=\"black\" points=\"96,-204.89 34,-204.89 34,-175.89 96,-175.89 96,-204.89\"/>\n",
       "<text text-anchor=\"middle\" x=\"65\" y=\"-186.69\" font-family=\"Times,serif\" font-size=\"14.00\" fill=\"white\">DL1T2</text>\n",
       "</g>\n",
       "<!-- DL1T2&#45;&gt;UL1T2 -->\n",
       "<g id=\"edge7\" class=\"edge\">\n",
       "<title>DL1T2-&gt;UL1T2</title>\n",
       "<path fill=\"none\" stroke=\"black\" stroke-dasharray=\"5,2\" d=\"M74.84,-175.59C81.93,-165.65 91.78,-151.82 100.74,-139.27\"/>\n",
       "<polygon fill=\"black\" stroke=\"black\" points=\"103.79,-141.02 106.74,-130.84 98.09,-136.95 103.79,-141.02\"/>\n",
       "</g>\n",
       "<!-- DRL1 -->\n",
       "<g id=\"node10\" class=\"node\">\n",
       "<title>DRL1</title>\n",
       "<polygon fill=\"#9a5050\" stroke=\"black\" points=\"54,-121.54 0,-121.54 0,-92.54 54,-92.54 54,-121.54\"/>\n",
       "<text text-anchor=\"middle\" x=\"27\" y=\"-103.34\" font-family=\"Times,serif\" font-size=\"14.00\" fill=\"white\">DRL1</text>\n",
       "</g>\n",
       "<!-- DRL1&#45;&gt;URL1 -->\n",
       "<g id=\"edge9\" class=\"edge\">\n",
       "<title>DRL1-&gt;URL1</title>\n",
       "<path fill=\"none\" stroke=\"black\" stroke-dasharray=\"5,2\" d=\"M44.64,-92.23C58.99,-81.01 79.64,-64.86 97.16,-51.15\"/>\n",
       "<polygon fill=\"black\" stroke=\"black\" points=\"99.74,-53.58 105.46,-44.66 95.43,-48.06 99.74,-53.58\"/>\n",
       "</g>\n",
       "<!-- DS1T1 -->\n",
       "<g id=\"node11\" class=\"node\">\n",
       "<title>DS1T1</title>\n",
       "<polygon fill=\"#9a5050\" stroke=\"black\" points=\"570.5,-368.43 507.5,-368.43 507.5,-339.43 570.5,-339.43 570.5,-368.43\"/>\n",
       "<text text-anchor=\"middle\" x=\"539\" y=\"-350.23\" font-family=\"Times,serif\" font-size=\"14.00\" fill=\"white\">DS1T1</text>\n",
       "</g>\n",
       "<!-- DS1T1&#45;&gt;US1T1 -->\n",
       "<g id=\"edge14\" class=\"edge\">\n",
       "<title>DS1T1-&gt;US1T1</title>\n",
       "<path fill=\"none\" stroke=\"black\" stroke-dasharray=\"5,2\" d=\"M539,-339.31C539,-330.63 539,-318.97 539,-307.95\"/>\n",
       "<polygon fill=\"black\" stroke=\"black\" points=\"542.5,-307.7 539,-297.7 535.5,-307.7 542.5,-307.7\"/>\n",
       "</g>\n",
       "<!-- DRS1 -->\n",
       "<g id=\"node12\" class=\"node\">\n",
       "<title>DRS1</title>\n",
       "<polygon fill=\"#9a5050\" stroke=\"black\" points=\"663.5,-288.25 608.5,-288.25 608.5,-259.25 663.5,-259.25 663.5,-288.25\"/>\n",
       "<text text-anchor=\"middle\" x=\"636\" y=\"-270.05\" font-family=\"Times,serif\" font-size=\"14.00\" fill=\"white\">DRS1</text>\n",
       "</g>\n",
       "<!-- DRS1&#45;&gt;URS1 -->\n",
       "<g id=\"edge16\" class=\"edge\">\n",
       "<title>DRS1-&gt;URS1</title>\n",
       "<path fill=\"none\" stroke=\"black\" stroke-dasharray=\"5,2\" d=\"M621.41,-258.95C610.41,-248.54 594.93,-233.89 581.19,-220.89\"/>\n",
       "<polygon fill=\"black\" stroke=\"black\" points=\"583.44,-218.21 573.77,-213.88 578.63,-223.29 583.44,-218.21\"/>\n",
       "</g>\n",
       "</g>\n",
       "</svg>"
      ],
      "text/plain": [
       "<IPython.core.display.SVG object>"
      ]
     },
     "metadata": {},
     "output_type": "display_data"
    }
   ],
   "source": [
    "print(diag)\n",
    "gnb.showInfluenceDiagram(diag, size=60)"
   ]
  },
  {
   "cell_type": "markdown",
   "id": "2cf5c0cc",
   "metadata": {},
   "source": [
    "# probabilities"
   ]
  },
  {
   "cell_type": "code",
   "execution_count": null,
   "id": "cac4276c",
   "metadata": {},
   "outputs": [],
   "source": [
    "# CL1\n",
    "diag.cpt(CL1)[{\"CS1\":0, \"HL1\":0}] = [0.99, 0.01]  # CS1:on,  HL1:ok     > CL1 should be on\n",
    "diag.cpt(CL1)[{\"CS1\":0, \"HL1\":1}] = [0.05, 0.95]  # CS1:on,  HL1:broken > CL1 should be off\n",
    "diag.cpt(CL1)[{\"CS1\":1, \"HL1\":0}] = [0.1, 0.9]    # CS1:off, HL1:ok     > CL1 should be off\n",
    "diag.cpt(CL1)[{\"CS1\":1, \"HL1\":1}] = [0.05, 0.95]  # CS1:off, HL1:broken > CL1 should be off"
   ]
  },
  {
   "cell_type": "code",
   "execution_count": null,
   "id": "800f2f4f",
   "metadata": {},
   "outputs": [],
   "source": [
    "# HL1\n",
    "diag.cpt(HL1)[0] = 0.7  # most likely light is not broken\n",
    "diag.cpt(HL1)[1] = 0.3  # but 30% chance light is broken"
   ]
  },
  {
   "cell_type": "code",
   "execution_count": null,
   "id": "ac29eece",
   "metadata": {},
   "outputs": [],
   "source": [
    "# RL1T1\n",
    "diag.cpt(RL1T1)[{\"HL1\": \"ok\"}]          = [0.95, 0.05, 0.0]  # HL1:ok > RL1T1 likely not done\n",
    "diag.cpt(RL1T1)[{\"HL1\": \"broken\"}]      = [0.4, 0.1, 0.5]  # HL1:broken > RL1T1 likely broken"
   ]
  },
  {
   "cell_type": "code",
   "execution_count": null,
   "id": "5ae154c0",
   "metadata": {},
   "outputs": [],
   "source": [
    "# RL1T2\n",
    "diag.cpt(RL1T2)[{\"RL1T1\": \"not done\"}]    = [0.95, 0.05, 0.0]   # RL1T1:not done > RL1T2 likely not done\n",
    "diag.cpt(RL1T2)[{\"RL1T1\": \"ok\"}]          = [0.05, 0.90, 0.05]  # RL1T1:ok > RL1T2 likely OK\n",
    "diag.cpt(RL1T2)[{\"RL1T1\": \"broken\"}]      = [0.4, 0.1, 0.5]   # RL1T1:broken > RL1T2 likely broken or not done"
   ]
  },
  {
   "cell_type": "code",
   "execution_count": null,
   "id": "361b1639",
   "metadata": {},
   "outputs": [],
   "source": [
    "gnb.flow.row(diag.cpt(CL1),\n",
    "            diag.cpt(HL1),\n",
    "            diag.cpt(RL1T1),\n",
    "            diag.cpt(RT2),\n",
    "            captions=[  \"prior of CL1\",\n",
    "                        \"prior of HL1\",\n",
    "                        \"prior of RL1T1\",\n",
    "                        \"prior of RT2\"\n",
    "                      ])"
   ]
  },
  {
   "cell_type": "code",
   "execution_count": null,
   "id": "ad057a18",
   "metadata": {},
   "outputs": [],
   "source": [
    "# CS1\n",
    "diag.cpt(CS1)[{\"HS1\":0}] = [0.95, 0.05]  # when CS1:on, HS1: healthy > CS1 should be on\n",
    "diag.cpt(CS1)[{\"HS1\":1}] = [0.1, 0.9]  # when CS1:on, HS1: broken > CS1 likely off"
   ]
  },
  {
   "cell_type": "code",
   "execution_count": null,
   "id": "1ce725b6",
   "metadata": {},
   "outputs": [],
   "source": [
    "# HS1\n",
    "diag.cpt(HS1)[0] = 0.7  # most likely light is not broken\n",
    "diag.cpt(HS1)[1] = 0.3  # but 30% chance light is broken"
   ]
  },
  {
   "cell_type": "code",
   "execution_count": null,
   "id": "4751bef1",
   "metadata": {},
   "outputs": [],
   "source": [
    "# RS1T1\n",
    "diag.cpt(RS1T1)[{\"HS1\": \"ok\"}]          = [0.95, 0.05, 0.0]  # Hs1:ok > RST1 likely not done\n",
    "diag.cpt(RS1T1)[{\"HS1\": \"broken\"}]      = [0.4, 0.1, 0.5]  # HS1:broken > RST1 likely broken"
   ]
  },
  {
   "cell_type": "code",
   "execution_count": null,
   "id": "123b6253",
   "metadata": {},
   "outputs": [],
   "source": [
    "gnb.flow.row(diag.cpt(CS1),\n",
    "            diag.cpt(HS1),\n",
    "            diag.cpt(RST1),\n",
    "            captions=[  \"prior of CS1\",\n",
    "                        \"prior of HS1\",\n",
    "                        \"prior of RST1\"\n",
    "                      ])"
   ]
  },
  {
   "cell_type": "markdown",
   "id": "4d2ba402",
   "metadata": {},
   "source": [
    "# utility function"
   ]
  },
  {
   "cell_type": "code",
   "execution_count": null,
   "id": "618fda76",
   "metadata": {},
   "outputs": [],
   "source": [
    "diag.utility(\"UL1T1\")[{\"HL1\":\"ok\", \"DL1T1\": \"yes\"}]           = 1   # test done but not relevant\n",
    "diag.utility(\"UL1T1\")[{\"HL1\":\"broken\", \"DL1T1\": \"yes\"}]       = 3   # test done when broken, excellent\n",
    "diag.utility(\"UL1T1\")[{\"HL1\":\"ok\", \"DL1T1\": \"no\"}]            = 2   # test not done but that's ok\n",
    "diag.utility(\"UL1T1\")[{\"HL1\":\"broken\", \"DL1T1\": \"no\"}]        = 0   # test not done when broken: missed chance"
   ]
  },
  {
   "cell_type": "code",
   "execution_count": null,
   "id": "c80f2eb8",
   "metadata": {},
   "outputs": [],
   "source": [
    "diag.utility(\"UL1T2\")[{\"RL1T1\":\"not done\", \"DL1T2\": \"yes\"}]     = 1   # test done but not relevant\n",
    "diag.utility(\"UL1T2\")[{\"RL1T1\":\"ok\", \"DL1T2\": \"yes\"}]           = 0   # test done but not relevant\n",
    "diag.utility(\"UL1T2\")[{\"RL1T1\":\"broken\", \"DL1T2\": \"yes\"}]       = 3   # test done when broken, excellent\n",
    "diag.utility(\"UL1T2\")[{\"RL1T1\":\"not done\", \"DL1T2\": \"no\"}]      = 2   # test not done but not relevant\n",
    "diag.utility(\"UL1T2\")[{\"RL1T1\":\"ok\", \"DL1T2\": \"no\"}]            = 3   # test not done but that's ok\n",
    "diag.utility(\"UL1T2\")[{\"RL1T1\":\"broken\", \"DL1T2\": \"no\"}]        = 2   # test not done when broken: missed chance\n"
   ]
  },
  {
   "cell_type": "code",
   "execution_count": null,
   "id": "09538b67",
   "metadata": {},
   "outputs": [],
   "source": [
    "diag.utility(\"URL1\")[{\"RL1T2\":\"not done\", \"DRL1\": \"replace\"}]    = 2   # test done but not relevant\n",
    "diag.utility(\"URL1\")[{\"RL1T2\":\"not done\", \"DRL1\": \"keep\"}]       = 4   # test not done but that's ok\n",
    "diag.utility(\"URL1\")[{\"RL1T2\":\"ok\"      , \"DRL1\": \"replace\"}]          = 0   # test done but not relevant\n",
    "diag.utility(\"URL1\")[{\"RL1T2\":\"ok\"      , \"DRL1\": \"keep\"}]             = 3   # test not done but that's ok\n",
    "diag.utility(\"URL1\")[{\"RL1T2\":\"broken\"  , \"DRL1\": \"replace\"}]      = 4   # test done when broken, excellent\n",
    "diag.utility(\"URL1\")[{\"RL1T2\":\"broken\"  , \"DRL1\": \"keep\"}]         = 4   # test not done when broken: missed chance"
   ]
  },
  {
   "cell_type": "code",
   "execution_count": null,
   "id": "53a7b497",
   "metadata": {},
   "outputs": [],
   "source": [
    "gnb.flow.row(diag.utility(\"UL1T1\"),\n",
    "            diag.utility(\"UL1T2\"),\n",
    "            diag.utility(\"URL1\"),\n",
    "           \n",
    "            captions=[  \"utility UT1\",\n",
    "                        \"utility UT2\",\n",
    "                        \"utility URL1\",\n",
    "                      ])"
   ]
  },
  {
   "cell_type": "code",
   "execution_count": null,
   "id": "8676972e",
   "metadata": {},
   "outputs": [],
   "source": [
    "diag.utility(\"US1T1\")[{\"HS1\":\"ok\"    , \"DS1T1\": \"yes\"}]       = 1   # test done but not relevant\n",
    "diag.utility(\"US1T1\")[{\"HS1\":\"broken\", \"DS1T1\": \"yes\"}]       = 3   # test done when broken, excellent\n",
    "diag.utility(\"US1T1\")[{\"HS1\":\"ok\"    , \"DS1T1\": \"no\"}]        = 2   # test not done but that's ok\n",
    "diag.utility(\"US1T1\")[{\"HS1\":\"broken\", \"DS1T1\": \"no\"}]        = 0   # test not done when broken: missed chance"
   ]
  },
  {
   "cell_type": "code",
   "execution_count": null,
   "id": "dcd1bb5f",
   "metadata": {},
   "outputs": [],
   "source": [
    "diag.utility(\"URS1\")[{\"RS1T1\":\"not done\", \"DRS1\": \"replace\"}]    = 2   # test done but not relevant\n",
    "diag.utility(\"URS1\")[{\"RS1T1\":\"not done\", \"DRS1\": \"keep\"}]       = 4   # test not done but that's ok\n",
    "diag.utility(\"URS1\")[{\"RS1T1\":\"ok\"      , \"DRS1\": \"replace\"}]          = 0   # test done but not relevant\n",
    "diag.utility(\"URS1\")[{\"RS1T1\":\"ok\"      , \"DRS1\": \"keep\"}]             = 3   # test not done but that's ok\n",
    "diag.utility(\"URS1\")[{\"RS1T1\":\"broken\"  , \"DRS1\": \"replace\"}]      = 4   # test done when broken, excellent\n",
    "diag.utility(\"URS1\")[{\"RS1T1\":\"broken\"  , \"DRS1\": \"keep\"}]         = 4   # test not done when broken: missed chance"
   ]
  },
  {
   "cell_type": "code",
   "execution_count": null,
   "id": "7f2bd970",
   "metadata": {},
   "outputs": [],
   "source": [
    "gnb.flow.row(diag.utility(\"US1T1\"),\n",
    "            diag.utility(\"URS1\"),\n",
    "           \n",
    "            captions=[  \"utility US1T1\",\n",
    "                        \"utility URS1\"\n",
    "                      ])"
   ]
  },
  {
   "cell_type": "code",
   "execution_count": null,
   "id": "5559a653",
   "metadata": {},
   "outputs": [],
   "source": [
    "diag.saveBIFXML(\"lightv5.xml\")"
   ]
  },
  {
   "cell_type": "code",
   "execution_count": null,
   "id": "7f018c8f",
   "metadata": {},
   "outputs": [],
   "source": []
  },
  {
   "cell_type": "code",
   "execution_count": null,
   "id": "a6830a2f",
   "metadata": {},
   "outputs": [],
   "source": []
  },
  {
   "cell_type": "code",
   "execution_count": null,
   "id": "2e7461e4",
   "metadata": {},
   "outputs": [],
   "source": []
  },
  {
   "cell_type": "code",
   "execution_count": null,
   "id": "153d2b64",
   "metadata": {},
   "outputs": [],
   "source": []
  },
  {
   "cell_type": "code",
   "execution_count": null,
   "id": "051ade5c",
   "metadata": {},
   "outputs": [],
   "source": []
  }
 ],
 "metadata": {
  "kernelspec": {
   "display_name": "Python 3 (ipykernel)",
   "language": "python",
   "name": "python3"
  },
  "language_info": {
   "codemirror_mode": {
    "name": "ipython",
    "version": 3
   },
   "file_extension": ".py",
   "mimetype": "text/x-python",
   "name": "python",
   "nbconvert_exporter": "python",
   "pygments_lexer": "ipython3",
   "version": "3.11.3"
  }
 },
 "nbformat": 4,
 "nbformat_minor": 5
}
