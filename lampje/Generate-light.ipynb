{
 "cells": [
  {
   "cell_type": "markdown",
   "id": "92a983a2",
   "metadata": {},
   "source": [
    "# Light example: generate influence diagram\n",
    "\n",
    "- 1 light + 1 switch\n",
    "- normal operation and so highest chance: light is on and switch set to on\n",
    "- both components have a health variable\n",
    "- light 1 can be tested with 2 tests\n",
    "  - test 1 is cheapest test\n",
    "  - test 2 is more expensive\n",
    "- switch can be tested with 1 test \n",
    "\n",
    "this notebook generates the influence diagram"
   ]
  },
  {
   "cell_type": "code",
   "execution_count": 1,
   "id": "ea0bda67",
   "metadata": {},
   "outputs": [],
   "source": [
    "# imports\n",
    "import os\n",
    "import matplotlib.pyplot as plt\n",
    "from pylab import *\n",
    "import pyAgrum as gum\n",
    "import pyAgrum.lib.notebook as gnb\n",
    "\n",
    "from IPython.display import display,HTML"
   ]
  },
  {
   "cell_type": "code",
   "execution_count": 2,
   "id": "382ab7d5",
   "metadata": {},
   "outputs": [],
   "source": [
    "# create influence diagram\n",
    "diag = gum.InfluenceDiagram()"
   ]
  },
  {
   "cell_type": "markdown",
   "id": "d68e0e31",
   "metadata": {},
   "source": [
    "# influence diagram structure\n",
    "\n",
    "chance, decision and utility variables"
   ]
  },
  {
   "cell_type": "markdown",
   "id": "a1ce4be4",
   "metadata": {},
   "source": [
    "L1: light 1 \n",
    "- normal behavior is light 1 is on \n",
    "- but can also be off\n",
    "\n",
    "L1H: light 1 health \n",
    "- models if light is broken. \n",
    "- If L1H set to broken light 1 will be off. \n",
    "- So light 1 is conditionally dependent on L1H"
   ]
  },
  {
   "cell_type": "code",
   "execution_count": 3,
   "id": "79c1cf89",
   "metadata": {},
   "outputs": [],
   "source": [
    "# L1 and L1H\n",
    "L1 = diag.addChanceNode(gum.LabelizedVariable('L1', 'L1', [\"on\", \"off\"]))\n",
    "L1H = diag.addChanceNode(gum.LabelizedVariable('L1H', 'L1 health', [\"ok\", \"broken\"]))\n",
    "\n",
    "# L1 is conditionally dependent on L1H\n",
    "diag.addArc(L1H, L1)"
   ]
  },
  {
   "cell_type": "markdown",
   "id": "aa2b421a",
   "metadata": {},
   "source": [
    "S1: toggle for light 1\n",
    "- since L1 normally on S1 also normally on\n",
    "- when off L1 should be off\n",
    "- when off but L1 on: weird situation\n",
    "- when on but L1 off: probably broken\n",
    "- L1 is conditionally dependent on S1 "
   ]
  },
  {
   "cell_type": "code",
   "execution_count": 4,
   "id": "6e3a334b",
   "metadata": {},
   "outputs": [],
   "source": [
    "# S1 and S1H\n",
    "S1 = diag.addChanceNode(gum.LabelizedVariable('S1', 'S1', [\"on\", \"off\"]))\n",
    "S1H = diag.addChanceNode(gum.LabelizedVariable('S1H', 'S1 health', ['ok', 'broken']))\n",
    "\n",
    "# L1 is dependent on S1\n",
    "diag.addArc(S1, L1)\n",
    "diag.addArc(S1H, S1)"
   ]
  },
  {
   "cell_type": "markdown",
   "id": "7cfd17a5",
   "metadata": {},
   "source": [
    "DT1: test 1\n",
    "- decision variable test 1 determines if test 1 will be performed\n",
    "- values are yes / no\n",
    "- if L1H is likely broken DT1 becomes relevant\n",
    "\n",
    "RT1: test result of test 1\n",
    "- chance variable test 1 result models outcome of test 1: OK, not OK\n",
    "- not done is also an option if DT1 set to no\n",
    "\n",
    "UT1: utility of test 1\n",
    "- function of L1H and DT1 \n",
    "- when low health it's likely to perform test for more assurance"
   ]
  },
  {
   "cell_type": "code",
   "execution_count": 5,
   "id": "b27b83c6",
   "metadata": {},
   "outputs": [],
   "source": [
    "DT1 = diag.addDecisionNode(gum.LabelizedVariable('DT1', 'Decide T1', [\"yes\", \"no\"]))\n",
    "RT1 = diag.addChanceNode(gum.LabelizedVariable('RT1', 'Result T1', [\"not done\", \"OK\", \"broken\"]))\n",
    "UT1 = diag.addUtilityNode(gum.LabelizedVariable(\"UT1\", \"R(L1H, DT1)\", 1))"
   ]
  },
  {
   "cell_type": "code",
   "execution_count": 6,
   "id": "32ab1e76",
   "metadata": {},
   "outputs": [],
   "source": [
    "diag.addArc(L1H, DT1)\n",
    "diag.addArc(L1H, UT1)\n",
    "diag.addArc(DT1, UT1)\n",
    "diag.addArc(DT1, RT1)"
   ]
  },
  {
   "cell_type": "markdown",
   "id": "f8229130",
   "metadata": {},
   "source": [
    "DT2 test 2\n",
    "- decision variable test 2 determines if test 2 will be performed\n",
    "- values are yes / no\n",
    "- if L1H is likely broken DT1 becomes relevant\n",
    "\n",
    "RT2: test result of test 2\n",
    "- chance variable test 2 result models outcome of test 2: OK, not OK\n",
    "- not done is also an option if DT2 set to no\n",
    "\n",
    "UT2: utility of test 1\n",
    "- function of RT1 and DT2 \n",
    "- when low health it's likely to perform test for more assurance"
   ]
  },
  {
   "cell_type": "code",
   "execution_count": 7,
   "id": "298ebb1b",
   "metadata": {},
   "outputs": [],
   "source": [
    "DT2 = diag.addDecisionNode(gum.LabelizedVariable('DT2', 'Decide T2', [\"yes\", \"no\"]))\n",
    "RT2 = diag.addChanceNode(gum.LabelizedVariable('RT2', 'Result T2', [\"not done\", \"OK\", \"broken\"]))\n",
    "UT2 = diag.addUtilityNode(gum.LabelizedVariable(\"UT2\", \"R(L1H, DT2)\", 1))"
   ]
  },
  {
   "cell_type": "code",
   "execution_count": 8,
   "id": "fb280307",
   "metadata": {},
   "outputs": [],
   "source": [
    "diag.addArc(RT1, DT2)\n",
    "diag.addArc(DT2, UT2)\n",
    "diag.addArc(RT1, UT2)\n",
    "diag.addArc(DT2, RT2)"
   ]
  },
  {
   "cell_type": "markdown",
   "id": "ff5688dd",
   "metadata": {},
   "source": [
    "DS1T1 test 1\n",
    "- decision variable S1 test 1 determines if test 1 will be performed\n",
    "- values are yes / no\n",
    "- if S1H is likely broken DS1T1 becomes relevant\n",
    "\n",
    "RS1T1: test result of S1 test 1\n",
    "- chance variable test 1 result models outcome of test 1: OK, not OK\n",
    "- not done is also an option if DS1T2 set to no\n",
    "\n",
    "S1UT1: utility for test 1 of L1 and S1\n",
    "- function of DT1, DS1T1 and S1H and L1H \n",
    "- when low health it's likely to perform test for more assurance"
   ]
  },
  {
   "cell_type": "code",
   "execution_count": 9,
   "id": "5b4ddfda",
   "metadata": {},
   "outputs": [],
   "source": [
    "DS1T1 = diag.addDecisionNode(gum.LabelizedVariable('DS1T1', 'Decide S1 T1', [\"yes\", \"no\"]))\n",
    "RS1T1 = diag.addChanceNode(gum.LabelizedVariable('RS1T1', 'Result S1 T1', [\"not done\", \"OK\", \"broken\"]))\n",
    "S1UT1 = diag.addUtilityNode(gum.LabelizedVariable(\"S1UT1\", \"R(S1H, S1DT1)\", 1))"
   ]
  },
  {
   "cell_type": "code",
   "execution_count": 10,
   "id": "d8a347e9",
   "metadata": {},
   "outputs": [],
   "source": [
    "diag.addArc(DS1T1, RS1T1)\n",
    "diag.addArc(S1H, S1UT1)\n",
    "diag.addArc(DS1T1, S1UT1)\n",
    "diag.addArc(S1H, DS1T1)"
   ]
  },
  {
   "cell_type": "code",
   "execution_count": 11,
   "id": "88174711",
   "metadata": {
    "scrolled": false
   },
   "outputs": [
    {
     "name": "stdout",
     "output_type": "stream",
     "text": [
      "Influence Diagram{\n",
      "  chance: 7,\n",
      "  utility: 3,\n",
      "  decision: 3,\n",
      "  arcs: 15,\n",
      "  domainSize: 3456\n",
      "}\n"
     ]
    },
    {
     "data": {
      "image/svg+xml": [
       "<svg xmlns=\"http://www.w3.org/2000/svg\" xmlns:xlink=\"http://www.w3.org/1999/xlink\" width=\"417pt\" height=\"441pt\" viewBox=\"0.00 0.00 416.84 441.09\">\n",
       "<g id=\"graph0\" class=\"graph\" transform=\"scale(1 1) rotate(0) translate(4 437.09)\">\n",
       "<title>G</title>\n",
       "<!-- L1 -->\n",
       "<g id=\"node1\" class=\"node\">\n",
       "<title>L1</title>\n",
       "<ellipse fill=\"#808080\" stroke=\"black\" cx=\"45.41\" cy=\"-255.39\" rx=\"27\" ry=\"20.51\"/>\n",
       "<text text-anchor=\"middle\" x=\"45.41\" y=\"-251.69\" font-family=\"Times,serif\" font-size=\"14.00\" fill=\"white\">L1</text>\n",
       "</g>\n",
       "<!-- L1H -->\n",
       "<g id=\"node2\" class=\"node\">\n",
       "<title>L1H</title>\n",
       "<ellipse fill=\"#808080\" stroke=\"black\" cx=\"122.41\" cy=\"-335.58\" rx=\"31.64\" ry=\"20.51\"/>\n",
       "<text text-anchor=\"middle\" x=\"122.41\" y=\"-331.88\" font-family=\"Times,serif\" font-size=\"14.00\" fill=\"white\">L1H</text>\n",
       "</g>\n",
       "<!-- L1H&#45;&gt;L1 -->\n",
       "<g id=\"edge1\" class=\"edge\">\n",
       "<title>L1H-&gt;L1</title>\n",
       "<path fill=\"none\" stroke=\"black\" d=\"M105.7,-317.61C94.71,-306.45 80.19,-291.71 68.15,-279.49\"/>\n",
       "<polygon fill=\"black\" stroke=\"black\" points=\"70.54,-276.93 61.03,-272.26 65.55,-281.84 70.54,-276.93\"/>\n",
       "</g>\n",
       "<!-- DT1 -->\n",
       "<g id=\"node8\" class=\"node\">\n",
       "<title>DT1</title>\n",
       "<polygon fill=\"#9a5050\" stroke=\"black\" points=\"144.41,-269.89 90.41,-269.89 90.41,-240.89 144.41,-240.89 144.41,-269.89\"/>\n",
       "<text text-anchor=\"middle\" x=\"117.41\" y=\"-251.69\" font-family=\"Times,serif\" font-size=\"14.00\" fill=\"white\">DT1</text>\n",
       "</g>\n",
       "<!-- L1H&#45;&gt;DT1 -->\n",
       "<g id=\"edge2\" class=\"edge\">\n",
       "<title>L1H-&gt;DT1</title>\n",
       "<polygon fill=\"black\" stroke=\"transparent\" stroke-width=\"2\" stroke-dasharray=\"1,5\" points=\"122.14,-314.78 121.99,-313.2 121.84,-311.58 121.69,-309.94 121.53,-308.26 121.38,-306.57 121.22,-304.85 121.05,-303.11 120.89,-301.36 120.73,-299.6 120.56,-297.83 120.4,-296.06 120.23,-294.29 120.07,-292.51 119.9,-290.75 119.74,-288.99 119.58,-287.24 119.42,-285.51 119.26,-283.8 119.1,-282.11 118.94,-280.44 118.94,-280.44 119,-282.12 119.06,-283.81 119.12,-285.53 119.18,-287.27 119.24,-289.02 119.3,-290.79 119.37,-292.56 119.43,-294.34 119.49,-296.12 119.55,-297.9 119.61,-299.67 119.68,-301.44 119.74,-303.2 119.8,-304.94 119.86,-306.66 119.92,-308.37 119.98,-310.05 120.03,-311.7 120.09,-313.32 120.15,-314.91 122.14,-314.78\"/>\n",
       "<polygon fill=\"black\" stroke=\"black\" stroke-width=\"2\" points=\"122.42,-279.96 118.29,-270.2 115.43,-280.4 122.42,-279.96\"/>\n",
       "</g>\n",
       "<!-- UT1 -->\n",
       "<g id=\"node11\" class=\"node\">\n",
       "<title>UT1</title>\n",
       "<polygon fill=\"#50508a\" stroke=\"black\" points=\"209.39,-172.04 190.9,-195.89 153.91,-195.89 135.42,-172.04 153.91,-148.18 190.9,-148.18 209.39,-172.04\"/>\n",
       "<text text-anchor=\"middle\" x=\"172.41\" y=\"-168.34\" font-family=\"Times,serif\" font-size=\"14.00\" fill=\"white\">UT1</text>\n",
       "</g>\n",
       "<!-- L1H&#45;&gt;UT1 -->\n",
       "<g id=\"edge3\" class=\"edge\">\n",
       "<title>L1H-&gt;UT1</title>\n",
       "<path fill=\"none\" stroke=\"black\" stroke-dasharray=\"5,2\" d=\"M134.49,-316.55C141.02,-306.03 148.69,-292.27 153.41,-279.07 161.86,-255.42 166.67,-227.4 169.34,-206.1\"/>\n",
       "<polygon fill=\"black\" stroke=\"black\" points=\"172.84,-206.27 170.51,-195.94 165.89,-205.47 172.84,-206.27\"/>\n",
       "</g>\n",
       "<!-- S1 -->\n",
       "<g id=\"node3\" class=\"node\">\n",
       "<title>S1</title>\n",
       "<ellipse fill=\"#808080\" stroke=\"black\" cx=\"45.41\" cy=\"-335.58\" rx=\"27\" ry=\"20.51\"/>\n",
       "<text text-anchor=\"middle\" x=\"45.41\" y=\"-331.88\" font-family=\"Times,serif\" font-size=\"14.00\" fill=\"white\">S1</text>\n",
       "</g>\n",
       "<!-- S1&#45;&gt;L1 -->\n",
       "<g id=\"edge4\" class=\"edge\">\n",
       "<title>S1-&gt;L1</title>\n",
       "<path fill=\"none\" stroke=\"black\" d=\"M45.41,-314.85C45.41,-306.24 45.41,-295.95 45.41,-286.42\"/>\n",
       "<polygon fill=\"black\" stroke=\"black\" points=\"48.91,-286.11 45.41,-276.11 41.91,-286.11 48.91,-286.11\"/>\n",
       "</g>\n",
       "<!-- S1H -->\n",
       "<g id=\"node4\" class=\"node\">\n",
       "<title>S1H</title>\n",
       "<ellipse fill=\"#808080\" stroke=\"black\" cx=\"257.41\" cy=\"-412.59\" rx=\"31.64\" ry=\"20.51\"/>\n",
       "<text text-anchor=\"middle\" x=\"257.41\" y=\"-408.89\" font-family=\"Times,serif\" font-size=\"14.00\" fill=\"white\">S1H</text>\n",
       "</g>\n",
       "<!-- S1H&#45;&gt;S1 -->\n",
       "<g id=\"edge5\" class=\"edge\">\n",
       "<title>S1H-&gt;S1</title>\n",
       "<path fill=\"none\" stroke=\"black\" d=\"M228.14,-404.2C192.71,-394.84 131.55,-377.34 81.41,-356.08 79.54,-355.29 77.64,-354.44 75.75,-353.54\"/>\n",
       "<polygon fill=\"black\" stroke=\"black\" points=\"76.9,-350.2 66.39,-348.82 73.75,-356.45 76.9,-350.2\"/>\n",
       "</g>\n",
       "<!-- DS1T1 -->\n",
       "<g id=\"node10\" class=\"node\">\n",
       "<title>DS1T1</title>\n",
       "<polygon fill=\"#9a5050\" stroke=\"black\" points=\"288.91,-350.08 225.91,-350.08 225.91,-321.08 288.91,-321.08 288.91,-350.08\"/>\n",
       "<text text-anchor=\"middle\" x=\"257.41\" y=\"-331.88\" font-family=\"Times,serif\" font-size=\"14.00\" fill=\"white\">DS1T1</text>\n",
       "</g>\n",
       "<!-- S1H&#45;&gt;DS1T1 -->\n",
       "<g id=\"edge6\" class=\"edge\">\n",
       "<title>S1H-&gt;DS1T1</title>\n",
       "<polygon fill=\"black\" stroke=\"transparent\" stroke-width=\"2\" stroke-dasharray=\"1,5\" points=\"258.41,-391.88 258.36,-390.43 258.31,-388.95 258.26,-387.45 258.21,-385.93 258.17,-384.39 258.12,-382.83 258.07,-381.25 258.01,-379.66 257.96,-378.07 257.91,-376.47 257.86,-374.86 257.81,-373.25 257.76,-371.65 257.71,-370.04 257.66,-368.45 257.6,-366.86 257.55,-365.29 257.5,-363.73 257.45,-362.18 257.41,-360.66 257.41,-360.66 257.36,-362.18 257.31,-363.73 257.26,-365.29 257.21,-366.86 257.16,-368.45 257.11,-370.04 257.05,-371.65 257,-373.25 256.95,-374.86 256.9,-376.47 256.85,-378.07 256.8,-379.66 256.75,-381.25 256.7,-382.83 256.65,-384.39 256.6,-385.93 256.55,-387.45 256.5,-388.95 256.45,-390.43 256.41,-391.88 258.41,-391.88\"/>\n",
       "<polygon fill=\"black\" stroke=\"black\" stroke-width=\"2\" points=\"260.91,-360.47 257.41,-350.47 253.91,-360.47 260.91,-360.47\"/>\n",
       "</g>\n",
       "<!-- S1UT1 -->\n",
       "<g id=\"node13\" class=\"node\">\n",
       "<title>S1UT1</title>\n",
       "<polygon fill=\"#50508a\" stroke=\"black\" points=\"408.78,-255.39 383.09,-279.25 331.72,-279.25 306.03,-255.39 331.72,-231.53 383.09,-231.53 408.78,-255.39\"/>\n",
       "<text text-anchor=\"middle\" x=\"357.41\" y=\"-251.69\" font-family=\"Times,serif\" font-size=\"14.00\" fill=\"white\">S1UT1</text>\n",
       "</g>\n",
       "<!-- S1H&#45;&gt;S1UT1 -->\n",
       "<g id=\"edge7\" class=\"edge\">\n",
       "<title>S1H-&gt;S1UT1</title>\n",
       "<path fill=\"none\" stroke=\"black\" stroke-dasharray=\"5,2\" d=\"M271.17,-393.92C279.36,-383.18 289.8,-369.06 298.41,-356.08 313.08,-333.94 328.32,-308.11 339.63,-288.29\"/>\n",
       "<polygon fill=\"black\" stroke=\"black\" points=\"342.8,-289.79 344.69,-279.36 336.72,-286.34 342.8,-289.79\"/>\n",
       "</g>\n",
       "<!-- RT1 -->\n",
       "<g id=\"node5\" class=\"node\">\n",
       "<title>RT1</title>\n",
       "<ellipse fill=\"#808080\" stroke=\"black\" cx=\"87.41\" cy=\"-172.04\" rx=\"30.31\" ry=\"20.51\"/>\n",
       "<text text-anchor=\"middle\" x=\"87.41\" y=\"-168.34\" font-family=\"Times,serif\" font-size=\"14.00\" fill=\"white\">RT1</text>\n",
       "</g>\n",
       "<!-- DT2 -->\n",
       "<g id=\"node9\" class=\"node\">\n",
       "<title>DT2</title>\n",
       "<polygon fill=\"#9a5050\" stroke=\"black\" points=\"87.41,-112.36 33.41,-112.36 33.41,-83.36 87.41,-83.36 87.41,-112.36\"/>\n",
       "<text text-anchor=\"middle\" x=\"60.41\" y=\"-94.16\" font-family=\"Times,serif\" font-size=\"14.00\" fill=\"white\">DT2</text>\n",
       "</g>\n",
       "<!-- RT1&#45;&gt;DT2 -->\n",
       "<g id=\"edge11\" class=\"edge\">\n",
       "<title>RT1-&gt;DT2</title>\n",
       "<polygon fill=\"black\" stroke=\"transparent\" stroke-width=\"2\" stroke-dasharray=\"1,5\" points=\"81.25,-151.72 80.68,-150.35 80.11,-148.95 79.53,-147.52 78.93,-146.08 78.33,-144.61 77.73,-143.14 77.11,-141.64 76.5,-140.14 75.88,-138.62 75.25,-137.11 74.63,-135.58 74,-134.06 73.38,-132.53 72.76,-131.02 72.14,-129.5 71.52,-128 70.91,-126.5 70.3,-125.02 69.7,-123.56 69.11,-122.11 69.11,-122.11 69.61,-123.59 70.11,-125.09 70.63,-126.61 71.15,-128.14 71.67,-129.68 72.19,-131.23 72.72,-132.78 73.25,-134.34 73.78,-135.9 74.31,-137.46 74.83,-139.02 75.36,-140.56 75.88,-142.1 76.4,-143.63 76.91,-145.15 77.42,-146.65 77.92,-148.12 78.41,-149.58 78.9,-151.01 79.38,-152.42 81.25,-151.72\"/>\n",
       "<polygon fill=\"black\" stroke=\"black\" stroke-width=\"2\" points=\"72.36,-120.82 65.58,-112.68 65.8,-123.27 72.36,-120.82\"/>\n",
       "</g>\n",
       "<!-- UT2 -->\n",
       "<g id=\"node12\" class=\"node\">\n",
       "<title>UT2</title>\n",
       "<polygon fill=\"#50508a\" stroke=\"black\" points=\"152.39,-23.68 133.9,-47.54 96.91,-47.54 78.42,-23.68 96.91,0.18 133.9,0.18 152.39,-23.68\"/>\n",
       "<text text-anchor=\"middle\" x=\"115.41\" y=\"-19.98\" font-family=\"Times,serif\" font-size=\"14.00\" fill=\"white\">UT2</text>\n",
       "</g>\n",
       "<!-- RT1&#45;&gt;UT2 -->\n",
       "<g id=\"edge10\" class=\"edge\">\n",
       "<title>RT1-&gt;UT2</title>\n",
       "<path fill=\"none\" stroke=\"black\" stroke-dasharray=\"5,2\" d=\"M91.12,-151.6C95.71,-127.64 103.57,-86.54 109.1,-57.62\"/>\n",
       "<polygon fill=\"black\" stroke=\"black\" points=\"112.59,-58.05 111.03,-47.57 105.71,-56.73 112.59,-58.05\"/>\n",
       "</g>\n",
       "<!-- RT2 -->\n",
       "<g id=\"node6\" class=\"node\">\n",
       "<title>RT2</title>\n",
       "<ellipse fill=\"#808080\" stroke=\"black\" cx=\"30.41\" cy=\"-23.68\" rx=\"30.31\" ry=\"20.51\"/>\n",
       "<text text-anchor=\"middle\" x=\"30.41\" y=\"-19.98\" font-family=\"Times,serif\" font-size=\"14.00\" fill=\"white\">RT2</text>\n",
       "</g>\n",
       "<!-- RS1T1 -->\n",
       "<g id=\"node7\" class=\"node\">\n",
       "<title>RS1T1</title>\n",
       "<ellipse fill=\"#808080\" stroke=\"black\" cx=\"244.41\" cy=\"-255.39\" rx=\"43.68\" ry=\"20.51\"/>\n",
       "<text text-anchor=\"middle\" x=\"244.41\" y=\"-251.69\" font-family=\"Times,serif\" font-size=\"14.00\" fill=\"white\">RS1T1</text>\n",
       "</g>\n",
       "<!-- DT1&#45;&gt;RT1 -->\n",
       "<g id=\"edge8\" class=\"edge\">\n",
       "<title>DT1-&gt;RT1</title>\n",
       "<path fill=\"none\" stroke=\"black\" d=\"M112.32,-240.59C108.4,-229.97 102.85,-214.92 97.99,-201.73\"/>\n",
       "<polygon fill=\"black\" stroke=\"black\" points=\"101.18,-200.27 94.44,-192.1 94.61,-202.69 101.18,-200.27\"/>\n",
       "</g>\n",
       "<!-- DT1&#45;&gt;UT1 -->\n",
       "<g id=\"edge9\" class=\"edge\">\n",
       "<title>DT1-&gt;UT1</title>\n",
       "<path fill=\"none\" stroke=\"black\" stroke-dasharray=\"5,2\" d=\"M126.74,-240.59C133.46,-230.65 142.81,-216.82 151.29,-204.27\"/>\n",
       "<polygon fill=\"black\" stroke=\"black\" points=\"154.29,-206.09 156.99,-195.84 148.49,-202.17 154.29,-206.09\"/>\n",
       "</g>\n",
       "<!-- DT2&#45;&gt;RT2 -->\n",
       "<g id=\"edge12\" class=\"edge\">\n",
       "<title>DT2-&gt;RT2</title>\n",
       "<path fill=\"none\" stroke=\"black\" d=\"M54.76,-83.28C51.24,-74.8 46.57,-63.56 42.26,-53.19\"/>\n",
       "<polygon fill=\"black\" stroke=\"black\" points=\"45.36,-51.53 38.29,-43.64 38.89,-54.22 45.36,-51.53\"/>\n",
       "</g>\n",
       "<!-- DT2&#45;&gt;UT2 -->\n",
       "<g id=\"edge13\" class=\"edge\">\n",
       "<title>DT2-&gt;UT2</title>\n",
       "<path fill=\"none\" stroke=\"black\" stroke-dasharray=\"5,2\" d=\"M70.75,-83.28C76.73,-75.43 84.51,-65.22 91.9,-55.52\"/>\n",
       "<polygon fill=\"black\" stroke=\"black\" points=\"94.69,-57.64 97.97,-47.56 89.12,-53.39 94.69,-57.64\"/>\n",
       "</g>\n",
       "<!-- DS1T1&#45;&gt;RS1T1 -->\n",
       "<g id=\"edge14\" class=\"edge\">\n",
       "<title>DS1T1-&gt;RS1T1</title>\n",
       "<path fill=\"none\" stroke=\"black\" d=\"M255.14,-320.96C253.54,-311.35 251.34,-298.1 249.35,-286.1\"/>\n",
       "<polygon fill=\"black\" stroke=\"black\" points=\"252.76,-285.3 247.67,-276.01 245.85,-286.45 252.76,-285.3\"/>\n",
       "</g>\n",
       "<!-- DS1T1&#45;&gt;S1UT1 -->\n",
       "<g id=\"edge15\" class=\"edge\">\n",
       "<title>DS1T1-&gt;S1UT1</title>\n",
       "<path fill=\"none\" stroke=\"black\" stroke-dasharray=\"5,2\" d=\"M274.82,-320.96C287.79,-310.82 305.92,-296.65 321.9,-284.16\"/>\n",
       "<polygon fill=\"black\" stroke=\"black\" points=\"324.29,-286.72 330.01,-277.81 319.98,-281.21 324.29,-286.72\"/>\n",
       "</g>\n",
       "</g>\n",
       "</svg>"
      ],
      "text/plain": [
       "<IPython.core.display.SVG object>"
      ]
     },
     "metadata": {},
     "output_type": "display_data"
    }
   ],
   "source": [
    "print(diag)\n",
    "gnb.showInfluenceDiagram(diag, size=60)"
   ]
  },
  {
   "cell_type": "markdown",
   "id": "2cf5c0cc",
   "metadata": {},
   "source": [
    "# probabilities"
   ]
  },
  {
   "cell_type": "code",
   "execution_count": 12,
   "id": "cac4276c",
   "metadata": {},
   "outputs": [],
   "source": [
    "# L1 and test 1\n",
    "diag.cpt(L1)[{\"S1\": 0, \"L1H\":0}] = [0.95, 0.05]  # when S1:on, L1H: healthy > L1 should be on\n",
    "diag.cpt(L1)[{\"S1\": 0, \"L1H\":1}] = [0.1, 0.9]  # when S1:on, L1H: broken > L1 likely off\n",
    "diag.cpt(L1)[{\"S1\": 1, \"L1H\":0}] = [0.05, 0.95]  # when S1:off, L1H: healthy > L1 is off\n",
    "diag.cpt(L1)[{\"S1\": 1, \"L1H\":1}] = [0.01, 0.99] # when S1:off, L1H: broken > L1 likely off\n",
    "\n",
    "\n",
    "diag.cpt(L1H)[0] = 0.7  # most likely light is not broken\n",
    "diag.cpt(L1H)[1] = 0.3  # but 30% chance light is broken\n",
    "\n",
    "diag.cpt(RT1)[{\"DT1\": 0}] = [0.0, 0.8, 0.2] # when DT1:yes > most likely RT1 is OK\n",
    "diag.cpt(RT1)[{\"DT1\": 1}] = [0.95, 0.05,0.0] # when DT1:no > very likely not done"
   ]
  },
  {
   "cell_type": "code",
   "execution_count": 13,
   "id": "fa702505",
   "metadata": {},
   "outputs": [],
   "source": [
    "# L1 and test 2\n",
    "diag.cpt(RT2)[{\"DT2\": 0}] = [0, 0.2, 0.8]  # when DT2:yes > RT2 most likely broken after T1\n",
    "diag.cpt(RT2)[{\"DT2\": 1}] = [1.0, 0.0, 0]  # when DT2:no > RT2 should not have a result\n"
   ]
  },
  {
   "cell_type": "code",
   "execution_count": 14,
   "id": "361b1639",
   "metadata": {},
   "outputs": [
    {
     "data": {
      "text/html": [
       "\n",
       "      <style>\n",
       "      .floating-box {\n",
       "      display: inline-block;\n",
       "      margin: 7px;\n",
       "      padding : 3px;\n",
       "      border: 0px solid transparent;  \n",
       "      valign:middle;\n",
       "      background-color: transparent;\n",
       "      }\n",
       "      </style>\n",
       "      <div class=\"floating-box\"><table style=\"border:1px solid black;\">\n",
       "<tr><th colspan='2'></th>\n",
       "      <th colspan='2' style='border:1px solid black;color:black;background-color:#808080;'><center>L1</center>\n",
       "      </th></tr>\n",
       "<tr><th style='border:1px solid black;color:black;background-color:#808080'><center>S1</center></th><th style='border:1px solid black;color:black;background-color:#808080'><center>L1H</center></th><th style='border:1px solid black;border-bottom-style: double;color:black;background-color:#BBBBBB'>\n",
       "      <center>on</center></th><th style='border:1px solid black;border-bottom-style: double;color:black;background-color:#BBBBBB'>\n",
       "      <center>off</center></th></tr>\n",
       "<tr><th style='border:1px solid black;color:black;background-color:#BBBBBB;' rowspan = '2'>\n",
       "            <center>on</center></th><th style='border:1px solid black;color:black;background-color:#BBBBBB'><center>ok</center></th><td style='color:black;background-color:#85f864;text-align:right;'>0.9500</td><td style='color:black;background-color:#f88564;text-align:right;'>0.0500</td></tr>\n",
       "<tr><th style='border:1px solid black;color:black;background-color:#BBBBBB'><center>broken</center></th><td style='color:black;background-color:#f28b64;text-align:right;'>0.1000</td><td style='color:black;background-color:#8bf264;text-align:right;'>0.9000</td></tr>\n",
       "<tr><th style='border:1px solid black;color:black;background-color:#BBBBBB;' rowspan = '2'>\n",
       "            <center>off</center></th><th style='border:1px solid black;color:black;background-color:#BBBBBB'><center>ok</center></th><td style='color:black;background-color:#f88564;text-align:right;'>0.0500</td><td style='color:black;background-color:#85f864;text-align:right;'>0.9500</td></tr>\n",
       "<tr><th style='border:1px solid black;color:black;background-color:#BBBBBB'><center>broken</center></th><td style='color:black;background-color:#fd8064;text-align:right;'>0.0100</td><td style='color:black;background-color:#80fd64;text-align:right;'>0.9900</td></tr>\n",
       "</table><br><center><small><em>prior of L1</em></small></center></div><div class=\"floating-box\"><table style=\"border:1px solid black;\">\n",
       "<tr style='border:1px solid black;color:black;background-color:#808080'>\n",
       "      <th colspan='2'><center>L1H</center></th></tr>\n",
       "<tr><th style='border:1px solid black;border-bottom-style: double;color:black;background-color:#BBBBBB'>\n",
       "      <center>ok</center></th><th style='border:1px solid black;border-bottom-style: double;color:black;background-color:#BBBBBB'>\n",
       "      <center>broken</center></th></tr>\n",
       "<tr><td style='color:black;background-color:#a5d864;text-align:right;'>0.7000</td><td style='color:black;background-color:#d8a564;text-align:right;'>0.3000</td></tr>\n",
       "</table><br><center><small><em>prior of L1H</em></small></center></div><div class=\"floating-box\"><table style=\"border:1px solid black;\">\n",
       "<tr><th colspan='1'></th>\n",
       "      <th colspan='3' style='border:1px solid black;color:black;background-color:#808080;'><center>RT1</center>\n",
       "      </th></tr>\n",
       "<tr><th style='border:1px solid black;color:black;background-color:#808080'><center>DT1</center></th><th style='border:1px solid black;border-bottom-style: double;color:black;background-color:#BBBBBB'>\n",
       "      <center>not done</center></th><th style='border:1px solid black;border-bottom-style: double;color:black;background-color:#BBBBBB'>\n",
       "      <center>OK</center></th><th style='border:1px solid black;border-bottom-style: double;color:black;background-color:#BBBBBB'>\n",
       "      <center>broken</center></th></tr>\n",
       "<tr><th style='border:1px solid black;color:black;background-color:#BBBBBB'><center>yes</center></th><td style='color:black;background-color:#ff7f64;text-align:right;'>0.0000</td><td style='color:black;background-color:#98e564;text-align:right;'>0.8000</td><td style='color:black;background-color:#e59864;text-align:right;'>0.2000</td></tr>\n",
       "<tr><th style='border:1px solid black;color:black;background-color:#BBBBBB'><center>no</center></th><td style='color:black;background-color:#85f864;text-align:right;'>0.9500</td><td style='color:black;background-color:#f88564;text-align:right;'>0.0500</td><td style='color:black;background-color:#ff7f64;text-align:right;'>0.0000</td></tr>\n",
       "</table><br><center><small><em>prior of RT1</em></small></center></div><div class=\"floating-box\"><table style=\"border:1px solid black;\">\n",
       "<tr><th colspan='1'></th>\n",
       "      <th colspan='3' style='border:1px solid black;color:black;background-color:#808080;'><center>RT2</center>\n",
       "      </th></tr>\n",
       "<tr><th style='border:1px solid black;color:black;background-color:#808080'><center>DT2</center></th><th style='border:1px solid black;border-bottom-style: double;color:black;background-color:#BBBBBB'>\n",
       "      <center>not done</center></th><th style='border:1px solid black;border-bottom-style: double;color:black;background-color:#BBBBBB'>\n",
       "      <center>OK</center></th><th style='border:1px solid black;border-bottom-style: double;color:black;background-color:#BBBBBB'>\n",
       "      <center>broken</center></th></tr>\n",
       "<tr><th style='border:1px solid black;color:black;background-color:#BBBBBB'><center>yes</center></th><td style='color:black;background-color:#ff7f64;text-align:right;'>0.0000</td><td style='color:black;background-color:#e59864;text-align:right;'>0.2000</td><td style='color:black;background-color:#98e564;text-align:right;'>0.8000</td></tr>\n",
       "<tr><th style='border:1px solid black;color:black;background-color:#BBBBBB'><center>no</center></th><td style='color:black;background-color:#7fff64;text-align:right;'>1.0000</td><td style='color:black;background-color:#ff7f64;text-align:right;'>0.0000</td><td style='color:black;background-color:#ff7f64;text-align:right;'>0.0000</td></tr>\n",
       "</table><br><center><small><em>prior of RT2</em></small></center></div>"
      ],
      "text/plain": [
       "<IPython.core.display.HTML object>"
      ]
     },
     "metadata": {},
     "output_type": "display_data"
    }
   ],
   "source": [
    "gnb.flow.row(diag.cpt(L1),\n",
    "            diag.cpt(L1H),\n",
    "            diag.cpt(RT1),\n",
    "            diag.cpt(RT2),\n",
    "            captions=[  \"prior of L1\",\n",
    "                        \"prior of L1H\",\n",
    "                        \"prior of RT1\",\n",
    "                        \"prior of RT2\"\n",
    "                      ])"
   ]
  },
  {
   "cell_type": "code",
   "execution_count": 15,
   "id": "9fb5bfa3",
   "metadata": {},
   "outputs": [],
   "source": [
    "diag.cpt(S1)[{'S1H':0}] = [0.7, 0.3] # normal behavior light is on\n",
    "diag.cpt(S1)[{'S1H':1}] = [0.5, 0.5] # if broken it could be stuck in on or off\n",
    "\n",
    "diag.cpt(S1H)[0] = 0.90\n",
    "diag.cpt(S1H)[1] = 0.1 # very small chance the switch is broken\n",
    "\n",
    "diag.cpt(RS1T1)[{\"DS1T1\":0}] = [0,0.4,0.6]  # when Decision to test = yes > probably broken\n",
    "diag.cpt(RS1T1)[{\"DS1T1\":1}] = [1,0,0]      # when Decision no > no result\n",
    "\n"
   ]
  },
  {
   "cell_type": "code",
   "execution_count": 16,
   "id": "4124a178",
   "metadata": {},
   "outputs": [
    {
     "data": {
      "text/html": [
       "\n",
       "      <style>\n",
       "      .floating-box {\n",
       "      display: inline-block;\n",
       "      margin: 7px;\n",
       "      padding : 3px;\n",
       "      border: 0px solid transparent;  \n",
       "      valign:middle;\n",
       "      background-color: transparent;\n",
       "      }\n",
       "      </style>\n",
       "      <div class=\"floating-box\"><table style=\"border:1px solid black;\">\n",
       "<tr><th colspan='1'></th>\n",
       "      <th colspan='2' style='border:1px solid black;color:black;background-color:#808080;'><center>S1</center>\n",
       "      </th></tr>\n",
       "<tr><th style='border:1px solid black;color:black;background-color:#808080'><center>S1H</center></th><th style='border:1px solid black;border-bottom-style: double;color:black;background-color:#BBBBBB'>\n",
       "      <center>on</center></th><th style='border:1px solid black;border-bottom-style: double;color:black;background-color:#BBBBBB'>\n",
       "      <center>off</center></th></tr>\n",
       "<tr><th style='border:1px solid black;color:black;background-color:#BBBBBB'><center>ok</center></th><td style='color:black;background-color:#a5d864;text-align:right;'>0.7000</td><td style='color:black;background-color:#d8a564;text-align:right;'>0.3000</td></tr>\n",
       "<tr><th style='border:1px solid black;color:black;background-color:#BBBBBB'><center>broken</center></th><td style='color:black;background-color:#bfbf64;text-align:right;'>0.5000</td><td style='color:black;background-color:#bfbf64;text-align:right;'>0.5000</td></tr>\n",
       "</table><br><center><small><em>prior of S1</em></small></center></div><div class=\"floating-box\"><table style=\"border:1px solid black;\">\n",
       "<tr style='border:1px solid black;color:black;background-color:#808080'>\n",
       "      <th colspan='2'><center>S1H</center></th></tr>\n",
       "<tr><th style='border:1px solid black;border-bottom-style: double;color:black;background-color:#BBBBBB'>\n",
       "      <center>ok</center></th><th style='border:1px solid black;border-bottom-style: double;color:black;background-color:#BBBBBB'>\n",
       "      <center>broken</center></th></tr>\n",
       "<tr><td style='color:black;background-color:#8bf264;text-align:right;'>0.9000</td><td style='color:black;background-color:#f28b64;text-align:right;'>0.1000</td></tr>\n",
       "</table><br><center><small><em>prior of S1H</em></small></center></div><div class=\"floating-box\"><table style=\"border:1px solid black;\">\n",
       "<tr><th colspan='1'></th>\n",
       "      <th colspan='3' style='border:1px solid black;color:black;background-color:#808080;'><center>RS1T1</center>\n",
       "      </th></tr>\n",
       "<tr><th style='border:1px solid black;color:black;background-color:#808080'><center>DS1T1</center></th><th style='border:1px solid black;border-bottom-style: double;color:black;background-color:#BBBBBB'>\n",
       "      <center>not done</center></th><th style='border:1px solid black;border-bottom-style: double;color:black;background-color:#BBBBBB'>\n",
       "      <center>OK</center></th><th style='border:1px solid black;border-bottom-style: double;color:black;background-color:#BBBBBB'>\n",
       "      <center>broken</center></th></tr>\n",
       "<tr><th style='border:1px solid black;color:black;background-color:#BBBBBB'><center>yes</center></th><td style='color:black;background-color:#ff7f64;text-align:right;'>0.0000</td><td style='color:black;background-color:#cbb264;text-align:right;'>0.4000</td><td style='color:black;background-color:#b2cb64;text-align:right;'>0.6000</td></tr>\n",
       "<tr><th style='border:1px solid black;color:black;background-color:#BBBBBB'><center>no</center></th><td style='color:black;background-color:#7fff64;text-align:right;'>1.0000</td><td style='color:black;background-color:#ff7f64;text-align:right;'>0.0000</td><td style='color:black;background-color:#ff7f64;text-align:right;'>0.0000</td></tr>\n",
       "</table><br><center><small><em>prior of RS1T1</em></small></center></div>"
      ],
      "text/plain": [
       "<IPython.core.display.HTML object>"
      ]
     },
     "metadata": {},
     "output_type": "display_data"
    }
   ],
   "source": [
    "gnb.flow.row(diag.cpt(S1),\n",
    "            diag.cpt(S1H),\n",
    "            diag.cpt(RS1T1),\n",
    "            \n",
    "            captions=[  \"prior of S1\",\n",
    "                        \"prior of S1H\",\n",
    "                        \"prior of RS1T1\"\n",
    "            \n",
    "                      ])"
   ]
  },
  {
   "cell_type": "markdown",
   "id": "4d2ba402",
   "metadata": {},
   "source": [
    "# utility function"
   ]
  },
  {
   "cell_type": "code",
   "execution_count": 17,
   "id": "ff0a883d",
   "metadata": {},
   "outputs": [],
   "source": [
    "diag.utility(\"UT1\")[{\"DT1\": 0, \"L1H\":0}] = -100 # no test necessary when in good health\n",
    "diag.utility(\"UT1\")[{\"DT1\": 0, \"L1H\":1}] = -1   # test relevant\n",
    "diag.utility(\"UT1\")[{\"DT1\": 1, \"L1H\":0}] = -10  # no test needed\n",
    "diag.utility(\"UT1\")[{\"DT1\": 1, \"L1H\":1}] = -30  # not a good option not to test when brokeen"
   ]
  },
  {
   "cell_type": "code",
   "execution_count": 18,
   "id": "2c2ce7df",
   "metadata": {},
   "outputs": [],
   "source": [
    "diag.utility(\"UT2\")[{\"RT1\": 0, \"DT2\":0}] = -100 # when DT2 yes should have a result so not a logical result\n",
    "diag.utility(\"UT2\")[{\"RT1\": 0, \"DT2\":1}] = -10 # when DT2 no it's logical no result\n",
    "\n",
    "diag.utility(\"UT2\")[{\"RT1\": 1, \"DT2\":0}] = -100 # when DT2 yes AND RT1 OK > not logical\n",
    "diag.utility(\"UT2\")[{\"RT1\": 1, \"DT2\":1}] = -10 # when DT2 no AND RT1 OK > logical\n",
    "\n",
    "diag.utility(\"UT2\")[{\"RT1\": 2, \"DT2\":0}] = -0 # DT2 yes when RT1 broken is logical \n",
    "diag.utility(\"UT2\")[{\"RT1\": 2, \"DT2\":1}] = -20 # DT2 no when RT1 broken not logical"
   ]
  },
  {
   "cell_type": "code",
   "execution_count": 19,
   "id": "08b3d3b8",
   "metadata": {},
   "outputs": [],
   "source": [
    "diag.utility(\"S1UT1\")[{\"DS1T1\": 0, \"S1H\":0}] = -50 # no test necessary when in good health\n",
    "diag.utility(\"S1UT1\")[{\"DS1T1\": 0, \"S1H\":1}] = -1   # test relevant\n",
    "diag.utility(\"S1UT1\")[{\"DS1T1\": 1, \"S1H\":0}] = -10  # no test needed\n",
    "diag.utility(\"S1UT1\")[{\"DS1T1\": 1, \"S1H\":1}] = -30  # not a good option not to test when brokeen"
   ]
  },
  {
   "cell_type": "code",
   "execution_count": 20,
   "id": "06aefd1d",
   "metadata": {},
   "outputs": [
    {
     "data": {
      "text/html": [
       "\n",
       "      <style>\n",
       "      .floating-box {\n",
       "      display: inline-block;\n",
       "      margin: 7px;\n",
       "      padding : 3px;\n",
       "      border: 0px solid transparent;  \n",
       "      valign:middle;\n",
       "      background-color: transparent;\n",
       "      }\n",
       "      </style>\n",
       "      <div class=\"floating-box\"><table style=\"border:1px solid black;\">\n",
       "<tr><th colspan='2'></th>\n",
       "      <th colspan='1' style='border:1px solid black;color:black;background-color:#808080;'><center>UT1</center>\n",
       "      </th></tr>\n",
       "<tr><th style='border:1px solid black;color:black;background-color:#808080'><center>DT1</center></th><th style='border:1px solid black;color:black;background-color:#808080'><center>L1H</center></th><th style='border:1px solid black;border-bottom-style: double;color:black;background-color:#BBBBBB'>\n",
       "      <center>0</center></th></tr>\n",
       "<tr><th style='border:1px solid black;color:black;background-color:#BBBBBB;' rowspan = '2'>\n",
       "            <center>yes</center></th><th style='border:1px solid black;color:black;background-color:#BBBBBB'><center>ok</center></th><td style='text-align:right;'>-100.0000</td></tr>\n",
       "<tr><th style='border:1px solid black;color:black;background-color:#BBBBBB'><center>broken</center></th><td style='text-align:right;'>-1.0000</td></tr>\n",
       "<tr><th style='border:1px solid black;color:black;background-color:#BBBBBB;' rowspan = '2'>\n",
       "            <center>no</center></th><th style='border:1px solid black;color:black;background-color:#BBBBBB'><center>ok</center></th><td style='text-align:right;'>-10.0000</td></tr>\n",
       "<tr><th style='border:1px solid black;color:black;background-color:#BBBBBB'><center>broken</center></th><td style='text-align:right;'>-30.0000</td></tr>\n",
       "</table><br><center><small><em>utility UT1</em></small></center></div><div class=\"floating-box\"><table style=\"border:1px solid black;\">\n",
       "<tr><th colspan='2'></th>\n",
       "      <th colspan='1' style='border:1px solid black;color:black;background-color:#808080;'><center>UT2</center>\n",
       "      </th></tr>\n",
       "<tr><th style='border:1px solid black;color:black;background-color:#808080'><center>RT1</center></th><th style='border:1px solid black;color:black;background-color:#808080'><center>DT2</center></th><th style='border:1px solid black;border-bottom-style: double;color:black;background-color:#BBBBBB'>\n",
       "      <center>0</center></th></tr>\n",
       "<tr><th style='border:1px solid black;color:black;background-color:#BBBBBB;' rowspan = '2'>\n",
       "            <center>not done</center></th><th style='border:1px solid black;color:black;background-color:#BBBBBB'><center>yes</center></th><td style='text-align:right;'>-100.0000</td></tr>\n",
       "<tr><th style='border:1px solid black;color:black;background-color:#BBBBBB'><center>no</center></th><td style='text-align:right;'>-10.0000</td></tr>\n",
       "<tr><th style='border:1px solid black;color:black;background-color:#BBBBBB;' rowspan = '2'>\n",
       "            <center>OK</center></th><th style='border:1px solid black;color:black;background-color:#BBBBBB'><center>yes</center></th><td style='text-align:right;'>-100.0000</td></tr>\n",
       "<tr><th style='border:1px solid black;color:black;background-color:#BBBBBB'><center>no</center></th><td style='text-align:right;'>-10.0000</td></tr>\n",
       "<tr><th style='border:1px solid black;color:black;background-color:#BBBBBB;' rowspan = '2'>\n",
       "            <center>broken</center></th><th style='border:1px solid black;color:black;background-color:#BBBBBB'><center>yes</center></th><td style='text-align:right;'>0.0000</td></tr>\n",
       "<tr><th style='border:1px solid black;color:black;background-color:#BBBBBB'><center>no</center></th><td style='text-align:right;'>-20.0000</td></tr>\n",
       "</table><br><center><small><em>utility UT2</em></small></center></div><div class=\"floating-box\"><table style=\"border:1px solid black;\">\n",
       "<tr><th colspan='2'></th>\n",
       "      <th colspan='1' style='border:1px solid black;color:black;background-color:#808080;'><center>S1UT1</center>\n",
       "      </th></tr>\n",
       "<tr><th style='border:1px solid black;color:black;background-color:#808080'><center>DS1T1</center></th><th style='border:1px solid black;color:black;background-color:#808080'><center>S1H</center></th><th style='border:1px solid black;border-bottom-style: double;color:black;background-color:#BBBBBB'>\n",
       "      <center>0</center></th></tr>\n",
       "<tr><th style='border:1px solid black;color:black;background-color:#BBBBBB;' rowspan = '2'>\n",
       "            <center>yes</center></th><th style='border:1px solid black;color:black;background-color:#BBBBBB'><center>ok</center></th><td style='text-align:right;'>-50.0000</td></tr>\n",
       "<tr><th style='border:1px solid black;color:black;background-color:#BBBBBB'><center>broken</center></th><td style='text-align:right;'>-1.0000</td></tr>\n",
       "<tr><th style='border:1px solid black;color:black;background-color:#BBBBBB;' rowspan = '2'>\n",
       "            <center>no</center></th><th style='border:1px solid black;color:black;background-color:#BBBBBB'><center>ok</center></th><td style='text-align:right;'>-10.0000</td></tr>\n",
       "<tr><th style='border:1px solid black;color:black;background-color:#BBBBBB'><center>broken</center></th><td style='text-align:right;'>-30.0000</td></tr>\n",
       "</table><br><center><small><em>utility S1UT1</em></small></center></div>"
      ],
      "text/plain": [
       "<IPython.core.display.HTML object>"
      ]
     },
     "metadata": {},
     "output_type": "display_data"
    }
   ],
   "source": [
    "gnb.flow.row(diag.utility(\"UT1\"),\n",
    "            diag.utility(\"UT2\"),\n",
    "            diag.utility(\"S1UT1\"),\n",
    "           \n",
    "            captions=[  \"utility UT1\",\n",
    "                        \"utility UT2\",\n",
    "                        \"utility S1UT1\",\n",
    "            \n",
    "                      ])"
   ]
  },
  {
   "cell_type": "code",
   "execution_count": 21,
   "id": "5559a653",
   "metadata": {},
   "outputs": [],
   "source": [
    "diag.saveBIFXML(\"light.xml\")"
   ]
  },
  {
   "cell_type": "code",
   "execution_count": null,
   "id": "7f018c8f",
   "metadata": {},
   "outputs": [],
   "source": []
  }
 ],
 "metadata": {
  "kernelspec": {
   "display_name": "Python 3 (ipykernel)",
   "language": "python",
   "name": "python3"
  },
  "language_info": {
   "codemirror_mode": {
    "name": "ipython",
    "version": 3
   },
   "file_extension": ".py",
   "mimetype": "text/x-python",
   "name": "python",
   "nbconvert_exporter": "python",
   "pygments_lexer": "ipython3",
   "version": "3.10.4"
  }
 },
 "nbformat": 4,
 "nbformat_minor": 5
}
