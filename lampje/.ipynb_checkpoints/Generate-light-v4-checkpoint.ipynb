{
 "cells": [
  {
   "cell_type": "markdown",
   "id": "92a983a2",
   "metadata": {},
   "source": [
    "# Light example: generate influence diagram\n",
    "\n",
    "- 1 light + 1 switch\n",
    "- normal operation and so highest chance: light is on and switch set to on\n",
    "- both components have a health variable\n",
    "- light 1 can be tested with 2 tests\n",
    "  - test 1 is cheapest test\n",
    "  - test 2 is more expensive\n",
    "- when test 2 negative then replace component\n",
    "- switch can be tested with 1 test \n",
    "- \n",
    "\n",
    "this notebook generates the influence diagram"
   ]
  },
  {
   "cell_type": "code",
   "execution_count": 1,
   "id": "ea0bda67",
   "metadata": {},
   "outputs": [],
   "source": [
    "# imports\n",
    "import os\n",
    "import matplotlib.pyplot as plt\n",
    "from pylab import *\n",
    "import pyAgrum as gum\n",
    "import pyAgrum.lib.notebook as gnb\n",
    "\n",
    "from IPython.display import display,HTML"
   ]
  },
  {
   "cell_type": "code",
   "execution_count": null,
   "id": "382ab7d5",
   "metadata": {},
   "outputs": [],
   "source": [
    "# create influence diagram\n",
    "diag = gum.InfluenceDiagram()"
   ]
  },
  {
   "cell_type": "markdown",
   "id": "d68e0e31",
   "metadata": {},
   "source": [
    "# influence diagram structure\n",
    "\n",
    "chance, decision and utility variables"
   ]
  },
  {
   "cell_type": "markdown",
   "id": "a1ce4be4",
   "metadata": {},
   "source": [
    "CL1: light 1 \n",
    "- normal behavior is light 1 is on \n",
    "- but can also be off\n",
    "\n",
    "HL1: light 1 health \n",
    "- models if light is broken. \n",
    "- If HL1 set to broken light 1 will be off. \n",
    "- So light 1 is conditionally dependent on L1H"
   ]
  },
  {
   "cell_type": "code",
   "execution_count": null,
   "id": "79c1cf89",
   "metadata": {},
   "outputs": [],
   "source": [
    "# CL1 and HL1\n",
    "CL1 = diag.addChanceNode(gum.LabelizedVariable('CL1', 'L1 component', [\"on\", \"off\"]))\n",
    "HL1 = diag.addChanceNode(gum.LabelizedVariable('HL1', 'L1 health', [\"ok\", \"broken\"]))\n",
    "\n",
    "# CL1 is conditionally dependent on L1H\n",
    "diag.addArc(HL1, CL1)"
   ]
  },
  {
   "cell_type": "markdown",
   "id": "7cfd17a5",
   "metadata": {},
   "source": [
    "DT1: test 1\n",
    "- decision variable test 1 determines if test 1 will be performed\n",
    "- values are yes / no\n",
    "- if HL1 is likely broken DT1 becomes relevant\n",
    "\n",
    "RT1: test result of test 1\n",
    "- chance variable test 1 result models outcome of test 1: OK, not OK\n",
    "- not done is also an option if DT1 set to no\n",
    "\n",
    "UT1: utility of test 1\n",
    "- function of L1H and DT1 \n",
    "- when low health it's likely to perform test for more assurance"
   ]
  },
  {
   "cell_type": "code",
   "execution_count": null,
   "id": "b27b83c6",
   "metadata": {},
   "outputs": [],
   "source": [
    "DT1 = diag.addDecisionNode(gum.LabelizedVariable('DT1', 'Decide T1', [\"yes\", \"no\"]))\n",
    "RT1 = diag.addChanceNode(gum.LabelizedVariable('RT1', 'Result T1', [\"not done\", \"ok\", \"broken\"]))\n",
    "UT1 = diag.addUtilityNode(gum.LabelizedVariable(\"UT1\", \"R(L1H, DT1)\", 1))"
   ]
  },
  {
   "cell_type": "code",
   "execution_count": null,
   "id": "32ab1e76",
   "metadata": {},
   "outputs": [],
   "source": [
    "diag.addArc(DT1, UT1)\n",
    "diag.addArc(HL1, RT1)\n",
    "diag.addArc(HL1, UT1)"
   ]
  },
  {
   "cell_type": "markdown",
   "id": "f932088f",
   "metadata": {},
   "source": [
    "DT2 test 2\n",
    "- decision variable test 2 determines if test 2 will be performed\n",
    "- values are yes / no\n",
    "- if RT1 is likely broken DT1 becomes relevant\n",
    "\n",
    "RT2: test result of test 2\n",
    "- chance variable test 2 result models outcome of test 2: OK, not OK\n",
    "- not done is also an option if DT2 set to no\n",
    "\n",
    "UT2: utility of test 1\n",
    "- function of RT1 and DT2 \n",
    "- when low health it's likely to perform test for more assurance"
   ]
  },
  {
   "cell_type": "code",
   "execution_count": null,
   "id": "6c06ad30",
   "metadata": {},
   "outputs": [],
   "source": [
    "DT2 = diag.addDecisionNode(gum.LabelizedVariable('DT2', 'Decide T2', [\"yes\", \"no\"]))\n",
    "RT2 = diag.addChanceNode(gum.LabelizedVariable('RT2', 'Result T2', [\"not done\", \"ok\", \"broken\"]))\n",
    "UT2 = diag.addUtilityNode(gum.LabelizedVariable(\"UT2\", \"R(RT1, DT2)\", 1))"
   ]
  },
  {
   "cell_type": "code",
   "execution_count": null,
   "id": "675d6e3f",
   "metadata": {},
   "outputs": [],
   "source": [
    "diag.addArc(DT2, UT2)\n",
    "diag.addArc(RT1, RT2)\n",
    "diag.addArc(RT1, UT2)"
   ]
  },
  {
   "cell_type": "markdown",
   "id": "a223239f",
   "metadata": {},
   "source": [
    "DRL1, decision to replace light 1\n",
    "- decision variable DRL1 to decide if light 1 needs replacing\n",
    "- values are replace / keep\n",
    "- if RT2 is likely broken DRL1 becomes relevant\n",
    "\n",
    "URL1: utility for replacing light 1\n",
    "- function of RT2 and DRL1 \n",
    "- when low health it's likely to perform test for more assurance"
   ]
  },
  {
   "cell_type": "code",
   "execution_count": null,
   "id": "9574e42a",
   "metadata": {},
   "outputs": [],
   "source": [
    "DRL1 = diag.addDecisionNode(gum.LabelizedVariable('DRL1', 'replace Light 1 T2', [\"replace\", \"keep\"]))\n",
    "URL1 = diag.addUtilityNode(gum.LabelizedVariable(\"URL1\", \"R(RT2, DRL1)\", 1))"
   ]
  },
  {
   "cell_type": "code",
   "execution_count": null,
   "id": "047d7084",
   "metadata": {},
   "outputs": [],
   "source": [
    "diag.addArc(DRL1, URL1)\n",
    "diag.addArc(RT2, URL1)"
   ]
  },
  {
   "cell_type": "code",
   "execution_count": null,
   "id": "88174711",
   "metadata": {
    "scrolled": false
   },
   "outputs": [],
   "source": [
    "print(diag)\n",
    "gnb.showInfluenceDiagram(diag, size=60)"
   ]
  },
  {
   "cell_type": "markdown",
   "id": "2cf5c0cc",
   "metadata": {},
   "source": [
    "# probabilities"
   ]
  },
  {
   "cell_type": "code",
   "execution_count": null,
   "id": "cac4276c",
   "metadata": {},
   "outputs": [],
   "source": [
    "# CL1 and HL1\n",
    "diag.cpt(CL1)[{\"HL1\":0}] = [0.95, 0.05]  # when S1:on, HL1: healthy > CL1 should be on\n",
    "diag.cpt(CL1)[{\"HL1\":1}] = [0.1, 0.9]  # when S1:on, HL1: broken > CL1 likely off\n",
    "\n",
    "diag.cpt(HL1)[0] = 0.7  # most likely light is not broken\n",
    "diag.cpt(HL1)[1] = 0.3  # but 30% chance light is broken"
   ]
  },
  {
   "cell_type": "code",
   "execution_count": null,
   "id": "ac29eece",
   "metadata": {},
   "outputs": [],
   "source": [
    "# RT1\n",
    "diag.cpt(RT1)[{\"HL1\": \"ok\"}]          = [0.95, 0.05, 0.0]  # HL1:ok > RT1 likely not done\n",
    "diag.cpt(RT1)[{\"HL1\": \"broken\"}]      = [0.4, 0.1, 0.5]  # HL1:broken > RT1 likely broken"
   ]
  },
  {
   "cell_type": "code",
   "execution_count": null,
   "id": "5ae154c0",
   "metadata": {},
   "outputs": [],
   "source": [
    "# RT2\n",
    "diag.cpt(RT2)[{\"RT1\": \"not done\"}]    = [0.95, 0.05, 0.0]   # RT1:not done > RT2 likely not done\n",
    "diag.cpt(RT2)[{\"RT1\": \"ok\"}]          = [0.05, 0.90, 0.05]  # RT1:ok > RT2 likely OK\n",
    "diag.cpt(RT2)[{\"RT1\": \"broken\"}]      = [0.4, 0.1, 0.5]   # RT1:broken > RT2 likely broken or not done"
   ]
  },
  {
   "cell_type": "code",
   "execution_count": null,
   "id": "361b1639",
   "metadata": {},
   "outputs": [],
   "source": [
    "gnb.flow.row(diag.cpt(CL1),\n",
    "            diag.cpt(HL1),\n",
    "            diag.cpt(RT1),\n",
    "            diag.cpt(RT2),\n",
    "            captions=[  \"prior of CL1\",\n",
    "                        \"prior of HL1\",\n",
    "                        \"prior of RT1\",\n",
    "                        \"prior of RT2\"\n",
    "                      ])"
   ]
  },
  {
   "cell_type": "markdown",
   "id": "4d2ba402",
   "metadata": {},
   "source": [
    "# utility function"
   ]
  },
  {
   "cell_type": "code",
   "execution_count": null,
   "id": "618fda76",
   "metadata": {},
   "outputs": [],
   "source": [
    "diag.utility(\"UT1\")[{\"HL1\":\"ok\", \"DT1\": \"yes\"}]           = 1   # test done but not relevant\n",
    "diag.utility(\"UT1\")[{\"HL1\":\"broken\", \"DT1\": \"yes\"}]       = 3   # test done when broken, excellent\n",
    "diag.utility(\"UT1\")[{\"HL1\":\"ok\", \"DT1\": \"no\"}]            = 2   # test not done but that's ok\n",
    "diag.utility(\"UT1\")[{\"HL1\":\"broken\", \"DT1\": \"no\"}]        = 0   # test not done when broken: missed chance"
   ]
  },
  {
   "cell_type": "code",
   "execution_count": null,
   "id": "c80f2eb8",
   "metadata": {},
   "outputs": [],
   "source": [
    "diag.utility(\"UT2\")[{\"RT1\":\"not done\", \"DT2\": \"yes\"}]     = 1   # test done but not relevant\n",
    "diag.utility(\"UT2\")[{\"RT1\":\"ok\", \"DT2\": \"yes\"}]           = 0   # test done but not relevant\n",
    "diag.utility(\"UT2\")[{\"RT1\":\"broken\", \"DT2\": \"yes\"}]       = 3   # test done when broken, excellent\n",
    "diag.utility(\"UT2\")[{\"RT1\":\"not done\", \"DT2\": \"no\"}]      = 2   # test not done but not relevant\n",
    "diag.utility(\"UT2\")[{\"RT1\":\"ok\", \"DT2\": \"no\"}]            = 3   # test not done but that's ok\n",
    "diag.utility(\"UT2\")[{\"RT1\":\"broken\", \"DT2\": \"no\"}]        = 2   # test not done when broken: missed chance\n"
   ]
  },
  {
   "cell_type": "code",
   "execution_count": null,
   "id": "09538b67",
   "metadata": {},
   "outputs": [],
   "source": [
    "diag.utility(\"URL1\")[{\"RT2\":\"not done\", \"DRL1\": \"replace\"}]    = 2   # test done but not relevant\n",
    "diag.utility(\"URL1\")[{\"RT2\":\"not done\", \"DRL1\": \"keep\"}]       = 4   # test not done but that's ok\n",
    "diag.utility(\"URL1\")[{\"RT2\":\"ok\", \"DRL1\": \"replace\"}]          = 0   # test done but not relevant\n",
    "diag.utility(\"URL1\")[{\"RT2\":\"ok\", \"DRL1\": \"keep\"}]             = 3   # test not done but that's ok\n",
    "diag.utility(\"URL1\")[{\"RT2\":\"broken\", \"DRL1\": \"replace\"}]      = 4   # test done when broken, excellent\n",
    "diag.utility(\"URL1\")[{\"RT2\":\"broken\", \"DRL1\": \"keep\"}]         = 4   # test not done when broken: missed chance"
   ]
  },
  {
   "cell_type": "code",
   "execution_count": null,
   "id": "53a7b497",
   "metadata": {},
   "outputs": [],
   "source": [
    "gnb.flow.row(diag.utility(\"UT1\"),\n",
    "            diag.utility(\"UT2\"),\n",
    "            diag.utility(\"URL1\"),\n",
    "           \n",
    "            captions=[  \"utility UT1\",\n",
    "                        \"utility UT2\",\n",
    "                        \"utility URL1\",\n",
    "            \n",
    "                      ])"
   ]
  },
  {
   "cell_type": "code",
   "execution_count": null,
   "id": "5559a653",
   "metadata": {},
   "outputs": [],
   "source": [
    "diag.saveBIFXML(\"lightv4.xml\")"
   ]
  },
  {
   "cell_type": "code",
   "execution_count": null,
   "id": "7f018c8f",
   "metadata": {},
   "outputs": [],
   "source": []
  }
 ],
 "metadata": {
  "kernelspec": {
   "display_name": "Python 3 (ipykernel)",
   "language": "python",
   "name": "python3"
  },
  "language_info": {
   "codemirror_mode": {
    "name": "ipython",
    "version": 3
   },
   "file_extension": ".py",
   "mimetype": "text/x-python",
   "name": "python",
   "nbconvert_exporter": "python",
   "pygments_lexer": "ipython3",
   "version": "3.11.3"
  }
 },
 "nbformat": 4,
 "nbformat_minor": 5
}
