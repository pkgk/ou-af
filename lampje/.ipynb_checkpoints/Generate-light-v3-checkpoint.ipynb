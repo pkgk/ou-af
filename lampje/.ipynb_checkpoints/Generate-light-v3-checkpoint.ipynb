{
 "cells": [
  {
   "cell_type": "markdown",
   "id": "92a983a2",
   "metadata": {},
   "source": [
    "# Light example: generate influence diagram\n",
    "\n",
    "- 1 light + 1 switch\n",
    "- normal operation and so highest chance: light is on and switch set to on\n",
    "- both components have a health variable\n",
    "- light 1 can be tested with 2 tests\n",
    "  - test 1 is cheapest test\n",
    "  - test 2 is more expensive\n",
    "- when test 2 negative then replace component\n",
    "- switch can be tested with 1 test \n",
    "- \n",
    "\n",
    "this notebook generates the influence diagram"
   ]
  },
  {
   "cell_type": "code",
   "execution_count": 1,
   "id": "ea0bda67",
   "metadata": {},
   "outputs": [],
   "source": [
    "# imports\n",
    "import os\n",
    "import matplotlib.pyplot as plt\n",
    "from pylab import *\n",
    "import pyAgrum as gum\n",
    "import pyAgrum.lib.notebook as gnb\n",
    "\n",
    "from IPython.display import display,HTML"
   ]
  },
  {
   "cell_type": "code",
   "execution_count": 2,
   "id": "382ab7d5",
   "metadata": {},
   "outputs": [],
   "source": [
    "# create influence diagram\n",
    "diag = gum.InfluenceDiagram()"
   ]
  },
  {
   "cell_type": "markdown",
   "id": "d68e0e31",
   "metadata": {},
   "source": [
    "# influence diagram structure\n",
    "\n",
    "chance, decision and utility variables"
   ]
  },
  {
   "cell_type": "markdown",
   "id": "a1ce4be4",
   "metadata": {},
   "source": [
    "CL1: light 1 \n",
    "- normal behavior is light 1 is on \n",
    "- but can also be off\n",
    "\n",
    "HL1: light 1 health \n",
    "- models if light is broken. \n",
    "- If HL1 set to broken light 1 will be off. \n",
    "- So light 1 is conditionally dependent on L1H"
   ]
  },
  {
   "cell_type": "code",
   "execution_count": 3,
   "id": "79c1cf89",
   "metadata": {},
   "outputs": [],
   "source": [
    "# CL1 and HL1\n",
    "CL1 = diag.addChanceNode(gum.LabelizedVariable('CL1', 'L1 component', [\"on\", \"off\"]))\n",
    "HL1 = diag.addChanceNode(gum.LabelizedVariable('HL1', 'L1 health', [\"ok\", \"broken\"]))\n",
    "\n",
    "# CL1 is conditionally dependent on L1H\n",
    "diag.addArc(HL1, CL1)"
   ]
  },
  {
   "cell_type": "markdown",
   "id": "aa2b421a",
   "metadata": {},
   "source": [
    "CS1: toggle for light 1\n",
    "- since CL1 normally on CS1 also normally on\n",
    "- when off CL1 should be off\n",
    "- when off but CL1 on: weird situation\n",
    "- when on but CL1 off: probably broken\n",
    "- CL1 is conditionally dependent on CS1 "
   ]
  },
  {
   "cell_type": "code",
   "execution_count": 4,
   "id": "6e3a334b",
   "metadata": {},
   "outputs": [],
   "source": [
    "# CS1 and HS1\n",
    "CS1 = diag.addChanceNode(gum.LabelizedVariable('CS1', 'S1 component', [\"on\", \"off\"]))\n",
    "HS1 = diag.addChanceNode(gum.LabelizedVariable('HS1', 'S1 health', ['ok', 'broken']))\n",
    "\n",
    "# L1 is dependent on S1\n",
    "diag.addArc(CS1, CL1)\n",
    "diag.addArc(HS1, CS1)"
   ]
  },
  {
   "cell_type": "markdown",
   "id": "7cfd17a5",
   "metadata": {},
   "source": [
    "DT1: test 1\n",
    "- decision variable test 1 determines if test 1 will be performed\n",
    "- values are yes / no\n",
    "- if L1H is likely broken DT1 becomes relevant\n",
    "\n",
    "RT1: test result of test 1\n",
    "- chance variable test 1 result models outcome of test 1: OK, not OK\n",
    "- not done is also an option if DT1 set to no\n",
    "\n",
    "UT1: utility of test 1\n",
    "- function of L1H and DT1 \n",
    "- when low health it's likely to perform test for more assurance"
   ]
  },
  {
   "cell_type": "code",
   "execution_count": 5,
   "id": "b27b83c6",
   "metadata": {},
   "outputs": [],
   "source": [
    "DT1 = diag.addDecisionNode(gum.LabelizedVariable('DT1', 'Decide T1', [\"yes\", \"no\"]))\n",
    "RT1 = diag.addChanceNode(gum.LabelizedVariable('RT1', 'Result T1', [\"not done\", \"OK\", \"broken\"]))\n",
    "UT1 = diag.addUtilityNode(gum.LabelizedVariable(\"UT1\", \"R(L1H, DT1)\", 1))"
   ]
  },
  {
   "cell_type": "code",
   "execution_count": 6,
   "id": "32ab1e76",
   "metadata": {},
   "outputs": [],
   "source": [
    "#diag.addArc(HL1, DT1), change v3\n",
    "diag.addArc(HL1, UT1)\n",
    "diag.addArc(DT1, UT1)\n",
    "diag.addArc(DT1, RT1)"
   ]
  },
  {
   "cell_type": "markdown",
   "id": "f8229130",
   "metadata": {},
   "source": [
    "DT2 test 2\n",
    "- decision variable test 2 determines if test 2 will be performed\n",
    "- values are yes / no\n",
    "- if L1H is likely broken DT1 becomes relevant\n",
    "\n",
    "RT2: test result of test 2\n",
    "- chance variable test 2 result models outcome of test 2: OK, not OK\n",
    "- not done is also an option if DT2 set to no\n",
    "\n",
    "UT2: utility of test 1\n",
    "- function of RT1 and DT2 \n",
    "- when low health it's likely to perform test for more assurance"
   ]
  },
  {
   "cell_type": "code",
   "execution_count": 7,
   "id": "298ebb1b",
   "metadata": {},
   "outputs": [],
   "source": [
    "DT2 = diag.addDecisionNode(gum.LabelizedVariable('DT2', 'Decide T2', [\"yes\", \"no\"]))\n",
    "RT2 = diag.addChanceNode(gum.LabelizedVariable('RT2', 'Result T2', [\"not done\", \"OK\", \"broken\"]))\n",
    "UT2 = diag.addUtilityNode(gum.LabelizedVariable(\"UT2\", \"R(L1H, DT2)\", 1))"
   ]
  },
  {
   "cell_type": "code",
   "execution_count": 8,
   "id": "fb280307",
   "metadata": {},
   "outputs": [],
   "source": [
    "#diag.addArc(RT1, DT2), change v3\n",
    "diag.addArc(DT2, UT2)\n",
    "diag.addArc(RT1, UT2)\n",
    "diag.addArc(DT2, RT2)"
   ]
  },
  {
   "cell_type": "markdown",
   "id": "ff5688dd",
   "metadata": {},
   "source": [
    "DS1T1 test 1\n",
    "- decision variable S1 test 1 determines if test 1 will be performed\n",
    "- values are yes / no\n",
    "- if S1H is likely broken DS1T1 becomes relevant\n",
    "\n",
    "RS1T1: test result of S1 test 1\n",
    "- chance variable test 1 result models outcome of test 1: OK, not OK\n",
    "- not done is also an option if DS1T2 set to no\n",
    "\n",
    "S1UT1: utility for test 1 of L1 and S1\n",
    "- function of DT1, DS1T1 and S1H and L1H \n",
    "- when low health it's likely to perform test for more assurance"
   ]
  },
  {
   "cell_type": "code",
   "execution_count": 9,
   "id": "5b4ddfda",
   "metadata": {},
   "outputs": [],
   "source": [
    "DS1T1 = diag.addDecisionNode(gum.LabelizedVariable('DS1T1', 'Decide S1 T1', [\"yes\", \"no\"]))\n",
    "RS1T1 = diag.addChanceNode(gum.LabelizedVariable('RS1T1', 'Result S1 T1', [\"not done\", \"OK\", \"broken\"]))\n",
    "S1UT1 = diag.addUtilityNode(gum.LabelizedVariable(\"S1UT1\", \"R(S1H, S1DT1)\", 1))"
   ]
  },
  {
   "cell_type": "code",
   "execution_count": 10,
   "id": "d8a347e9",
   "metadata": {},
   "outputs": [],
   "source": [
    "diag.addArc(DS1T1, RS1T1)\n",
    "diag.addArc(HS1, S1UT1)\n",
    "diag.addArc(DS1T1, S1UT1)\n",
    "diag.addArc(HS1, DS1T1)"
   ]
  },
  {
   "cell_type": "markdown",
   "id": "7734bbc3",
   "metadata": {},
   "source": [
    "DRL1: decision on replacement of component 1\n",
    "- yes when output RT2 = broken\n",
    "- no otherwise\n",
    "\n",
    "URL1: utility steering decision to replace component\n",
    "- input RT2 test to indicate if CL1 is broken"
   ]
  },
  {
   "cell_type": "code",
   "execution_count": 11,
   "id": "4ccbfcb0",
   "metadata": {},
   "outputs": [],
   "source": [
    "DRL1 = diag.addDecisionNode(gum.LabelizedVariable('DRL1', 'L1 replacement decision', [\"yes\", \"no\"]))\n",
    "URL1 = diag.addUtilityNode(gum.LabelizedVariable(\"URL1\", \"R(RT2, DRL1)\", 1))\n",
    "\n",
    "#diag.addArc(RT2, DRL1)\n",
    "diag.addArc(DRL1, URL1)\n",
    "diag.addArc(RT2, URL1)\n"
   ]
  },
  {
   "cell_type": "code",
   "execution_count": 12,
   "id": "88174711",
   "metadata": {
    "scrolled": false
   },
   "outputs": [
    {
     "name": "stdout",
     "output_type": "stream",
     "text": [
      "Influence Diagram{\n",
      "  chance: 7,\n",
      "  utility: 4,\n",
      "  decision: 4,\n",
      "  arcs: 15,\n",
      "  domainSize: 6912\n",
      "}\n"
     ]
    },
    {
     "data": {
      "image/svg+xml": [
       "<svg xmlns=\"http://www.w3.org/2000/svg\" xmlns:xlink=\"http://www.w3.org/1999/xlink\" width=\"537pt\" height=\"376pt\" viewBox=\"0.00 0.00 536.84 376.09\">\n",
       "<g id=\"graph0\" class=\"graph\" transform=\"scale(1 1) rotate(0) translate(4 372.09)\">\n",
       "<title>G</title>\n",
       "<!-- CL1 -->\n",
       "<g id=\"node1\" class=\"node\">\n",
       "<title>CL1</title>\n",
       "<ellipse fill=\"#808080\" stroke=\"black\" cx=\"30.41\" cy=\"-190.39\" rx=\"30.31\" ry=\"20.51\"/>\n",
       "<text text-anchor=\"middle\" x=\"30.41\" y=\"-186.69\" font-family=\"Times,serif\" font-size=\"14.00\" fill=\"white\">CL1</text>\n",
       "</g>\n",
       "<!-- HL1 -->\n",
       "<g id=\"node2\" class=\"node\">\n",
       "<title>HL1</title>\n",
       "<ellipse fill=\"#808080\" stroke=\"black\" cx=\"113.41\" cy=\"-270.58\" rx=\"31.64\" ry=\"20.51\"/>\n",
       "<text text-anchor=\"middle\" x=\"113.41\" y=\"-266.88\" font-family=\"Times,serif\" font-size=\"14.00\" fill=\"white\">HL1</text>\n",
       "</g>\n",
       "<!-- HL1&#45;&gt;CL1 -->\n",
       "<g id=\"edge1\" class=\"edge\">\n",
       "<title>HL1-&gt;CL1</title>\n",
       "<path fill=\"none\" stroke=\"black\" d=\"M95.8,-253C83.87,-241.75 67.94,-226.75 54.79,-214.36\"/>\n",
       "<polygon fill=\"black\" stroke=\"black\" points=\"57.09,-211.72 47.41,-207.41 52.29,-216.82 57.09,-211.72\"/>\n",
       "</g>\n",
       "<!-- UT1 -->\n",
       "<g id=\"node12\" class=\"node\">\n",
       "<title>UT1</title>\n",
       "<polygon fill=\"#50508a\" stroke=\"black\" points=\"152.39,-190.39 133.9,-214.25 96.91,-214.25 78.42,-190.39 96.91,-166.53 133.9,-166.53 152.39,-190.39\"/>\n",
       "<text text-anchor=\"middle\" x=\"115.41\" y=\"-186.69\" font-family=\"Times,serif\" font-size=\"14.00\" fill=\"white\">UT1</text>\n",
       "</g>\n",
       "<!-- HL1&#45;&gt;UT1 -->\n",
       "<g id=\"edge2\" class=\"edge\">\n",
       "<title>HL1-&gt;UT1</title>\n",
       "<path fill=\"none\" stroke=\"black\" stroke-dasharray=\"5,2\" d=\"M113.91,-249.85C114.11,-242.13 114.34,-233.06 114.56,-224.4\"/>\n",
       "<polygon fill=\"black\" stroke=\"black\" points=\"118.07,-224.25 114.82,-214.16 111.07,-224.07 118.07,-224.25\"/>\n",
       "</g>\n",
       "<!-- CS1 -->\n",
       "<g id=\"node3\" class=\"node\">\n",
       "<title>CS1</title>\n",
       "<ellipse fill=\"#808080\" stroke=\"black\" cx=\"31.41\" cy=\"-270.58\" rx=\"31.23\" ry=\"20.51\"/>\n",
       "<text text-anchor=\"middle\" x=\"31.41\" y=\"-266.88\" font-family=\"Times,serif\" font-size=\"14.00\" fill=\"white\">CS1</text>\n",
       "</g>\n",
       "<!-- CS1&#45;&gt;CL1 -->\n",
       "<g id=\"edge3\" class=\"edge\">\n",
       "<title>CS1-&gt;CL1</title>\n",
       "<path fill=\"none\" stroke=\"black\" d=\"M31.15,-249.85C31.04,-241.24 30.91,-230.95 30.79,-221.42\"/>\n",
       "<polygon fill=\"black\" stroke=\"black\" points=\"34.29,-221.07 30.66,-211.11 27.29,-221.16 34.29,-221.07\"/>\n",
       "</g>\n",
       "<!-- HS1 -->\n",
       "<g id=\"node4\" class=\"node\">\n",
       "<title>HS1</title>\n",
       "<ellipse fill=\"#808080\" stroke=\"black\" cx=\"377.41\" cy=\"-347.59\" rx=\"31.64\" ry=\"20.51\"/>\n",
       "<text text-anchor=\"middle\" x=\"377.41\" y=\"-343.89\" font-family=\"Times,serif\" font-size=\"14.00\" fill=\"white\">HS1</text>\n",
       "</g>\n",
       "<!-- HS1&#45;&gt;CS1 -->\n",
       "<g id=\"edge4\" class=\"edge\">\n",
       "<title>HS1-&gt;CS1</title>\n",
       "<path fill=\"none\" stroke=\"black\" d=\"M346,-343.64C289.96,-337.76 169.47,-322.39 72.41,-291.08 69.82,-290.25 67.19,-289.29 64.57,-288.25\"/>\n",
       "<polygon fill=\"black\" stroke=\"black\" points=\"65.82,-284.97 55.25,-284.22 63.05,-291.4 65.82,-284.97\"/>\n",
       "</g>\n",
       "<!-- DS1T1 -->\n",
       "<g id=\"node10\" class=\"node\">\n",
       "<title>DS1T1</title>\n",
       "<polygon fill=\"#9a5050\" stroke=\"black\" points=\"408.91,-285.08 345.91,-285.08 345.91,-256.08 408.91,-256.08 408.91,-285.08\"/>\n",
       "<text text-anchor=\"middle\" x=\"377.41\" y=\"-266.88\" font-family=\"Times,serif\" font-size=\"14.00\" fill=\"white\">DS1T1</text>\n",
       "</g>\n",
       "<!-- HS1&#45;&gt;DS1T1 -->\n",
       "<g id=\"edge5\" class=\"edge\">\n",
       "<title>HS1-&gt;DS1T1</title>\n",
       "<polygon fill=\"black\" stroke=\"transparent\" stroke-width=\"2\" stroke-dasharray=\"1,5\" points=\"378.41,-326.88 378.36,-325.43 378.31,-323.95 378.26,-322.45 378.21,-320.93 378.17,-319.39 378.12,-317.83 378.07,-316.25 378.01,-314.66 377.96,-313.07 377.91,-311.47 377.86,-309.86 377.81,-308.25 377.76,-306.65 377.71,-305.04 377.66,-303.45 377.6,-301.86 377.55,-300.29 377.5,-298.73 377.45,-297.18 377.41,-295.66 377.41,-295.66 377.36,-297.18 377.31,-298.73 377.26,-300.29 377.21,-301.86 377.16,-303.45 377.11,-305.04 377.05,-306.65 377,-308.25 376.95,-309.86 376.9,-311.47 376.85,-313.07 376.8,-314.66 376.75,-316.25 376.7,-317.83 376.65,-319.39 376.6,-320.93 376.55,-322.45 376.5,-323.95 376.45,-325.43 376.41,-326.88 378.41,-326.88\"/>\n",
       "<polygon fill=\"black\" stroke=\"black\" stroke-width=\"2\" points=\"380.91,-295.47 377.41,-285.47 373.91,-295.47 380.91,-295.47\"/>\n",
       "</g>\n",
       "<!-- S1UT1 -->\n",
       "<g id=\"node14\" class=\"node\">\n",
       "<title>S1UT1</title>\n",
       "<polygon fill=\"#50508a\" stroke=\"black\" points=\"528.78,-190.39 503.09,-214.25 451.72,-214.25 426.03,-190.39 451.72,-166.53 503.09,-166.53 528.78,-190.39\"/>\n",
       "<text text-anchor=\"middle\" x=\"477.41\" y=\"-186.69\" font-family=\"Times,serif\" font-size=\"14.00\" fill=\"white\">S1UT1</text>\n",
       "</g>\n",
       "<!-- HS1&#45;&gt;S1UT1 -->\n",
       "<g id=\"edge6\" class=\"edge\">\n",
       "<title>HS1-&gt;S1UT1</title>\n",
       "<path fill=\"none\" stroke=\"black\" stroke-dasharray=\"5,2\" d=\"M391.17,-328.92C399.36,-318.18 409.8,-304.06 418.41,-291.08 433.08,-268.94 448.32,-243.11 459.63,-223.29\"/>\n",
       "<polygon fill=\"black\" stroke=\"black\" points=\"462.8,-224.79 464.69,-214.36 456.72,-221.34 462.8,-224.79\"/>\n",
       "</g>\n",
       "<!-- RT1 -->\n",
       "<g id=\"node5\" class=\"node\">\n",
       "<title>RT1</title>\n",
       "<ellipse fill=\"#808080\" stroke=\"black\" cx=\"200.41\" cy=\"-190.39\" rx=\"30.31\" ry=\"20.51\"/>\n",
       "<text text-anchor=\"middle\" x=\"200.41\" y=\"-186.69\" font-family=\"Times,serif\" font-size=\"14.00\" fill=\"white\">RT1</text>\n",
       "</g>\n",
       "<!-- UT2 -->\n",
       "<g id=\"node13\" class=\"node\">\n",
       "<title>UT2</title>\n",
       "<polygon fill=\"#50508a\" stroke=\"black\" points=\"237.39,-107.04 218.9,-130.89 181.91,-130.89 163.42,-107.04 181.91,-83.18 218.9,-83.18 237.39,-107.04\"/>\n",
       "<text text-anchor=\"middle\" x=\"200.41\" y=\"-103.34\" font-family=\"Times,serif\" font-size=\"14.00\" fill=\"white\">UT2</text>\n",
       "</g>\n",
       "<!-- RT1&#45;&gt;UT2 -->\n",
       "<g id=\"edge9\" class=\"edge\">\n",
       "<title>RT1-&gt;UT2</title>\n",
       "<path fill=\"none\" stroke=\"black\" stroke-dasharray=\"5,2\" d=\"M200.41,-169.7C200.41,-161.06 200.41,-150.69 200.41,-140.94\"/>\n",
       "<polygon fill=\"black\" stroke=\"black\" points=\"203.91,-140.71 200.41,-130.71 196.91,-140.71 203.91,-140.71\"/>\n",
       "</g>\n",
       "<!-- RT2 -->\n",
       "<g id=\"node6\" class=\"node\">\n",
       "<title>RT2</title>\n",
       "<ellipse fill=\"#808080\" stroke=\"black\" cx=\"285.41\" cy=\"-107.04\" rx=\"30.31\" ry=\"20.51\"/>\n",
       "<text text-anchor=\"middle\" x=\"285.41\" y=\"-103.34\" font-family=\"Times,serif\" font-size=\"14.00\" fill=\"white\">RT2</text>\n",
       "</g>\n",
       "<!-- URL1 -->\n",
       "<g id=\"node15\" class=\"node\">\n",
       "<title>URL1</title>\n",
       "<polygon fill=\"#50508a\" stroke=\"black\" points=\"367.22,-23.68 344.81,-47.54 300,-47.54 277.59,-23.68 300,0.18 344.81,0.18 367.22,-23.68\"/>\n",
       "<text text-anchor=\"middle\" x=\"322.41\" y=\"-19.98\" font-family=\"Times,serif\" font-size=\"14.00\" fill=\"white\">URL1</text>\n",
       "</g>\n",
       "<!-- RT2&#45;&gt;URL1 -->\n",
       "<g id=\"edge12\" class=\"edge\">\n",
       "<title>RT2-&gt;URL1</title>\n",
       "<path fill=\"none\" stroke=\"black\" stroke-dasharray=\"5,2\" d=\"M293.99,-87.17C298.11,-78.11 303.16,-67 307.85,-56.68\"/>\n",
       "<polygon fill=\"black\" stroke=\"black\" points=\"311.07,-58.05 312.03,-47.5 304.7,-55.16 311.07,-58.05\"/>\n",
       "</g>\n",
       "<!-- RS1T1 -->\n",
       "<g id=\"node7\" class=\"node\">\n",
       "<title>RS1T1</title>\n",
       "<ellipse fill=\"#808080\" stroke=\"black\" cx=\"364.41\" cy=\"-190.39\" rx=\"43.68\" ry=\"20.51\"/>\n",
       "<text text-anchor=\"middle\" x=\"364.41\" y=\"-186.69\" font-family=\"Times,serif\" font-size=\"14.00\" fill=\"white\">RS1T1</text>\n",
       "</g>\n",
       "<!-- DT1 -->\n",
       "<g id=\"node8\" class=\"node\">\n",
       "<title>DT1</title>\n",
       "<polygon fill=\"#9a5050\" stroke=\"black\" points=\"222.41,-285.08 168.41,-285.08 168.41,-256.08 222.41,-256.08 222.41,-285.08\"/>\n",
       "<text text-anchor=\"middle\" x=\"195.41\" y=\"-266.88\" font-family=\"Times,serif\" font-size=\"14.00\" fill=\"white\">DT1</text>\n",
       "</g>\n",
       "<!-- DT1&#45;&gt;RT1 -->\n",
       "<g id=\"edge7\" class=\"edge\">\n",
       "<title>DT1-&gt;RT1</title>\n",
       "<path fill=\"none\" stroke=\"black\" d=\"M196.28,-255.96C196.89,-246.35 197.74,-233.1 198.51,-221.1\"/>\n",
       "<polygon fill=\"black\" stroke=\"black\" points=\"202.01,-221.21 199.15,-211.01 195.02,-220.76 202.01,-221.21\"/>\n",
       "</g>\n",
       "<!-- DT1&#45;&gt;UT1 -->\n",
       "<g id=\"edge8\" class=\"edge\">\n",
       "<title>DT1-&gt;UT1</title>\n",
       "<path fill=\"none\" stroke=\"black\" stroke-dasharray=\"5,2\" d=\"M181.47,-255.96C170.99,-245.72 156.29,-231.35 143.41,-218.76\"/>\n",
       "<polygon fill=\"black\" stroke=\"black\" points=\"145.68,-216.09 136.09,-211.6 140.79,-221.1 145.68,-216.09\"/>\n",
       "</g>\n",
       "<!-- DT2 -->\n",
       "<g id=\"node9\" class=\"node\">\n",
       "<title>DT2</title>\n",
       "<polygon fill=\"#9a5050\" stroke=\"black\" points=\"302.41,-204.89 248.41,-204.89 248.41,-175.89 302.41,-175.89 302.41,-204.89\"/>\n",
       "<text text-anchor=\"middle\" x=\"275.41\" y=\"-186.69\" font-family=\"Times,serif\" font-size=\"14.00\" fill=\"white\">DT2</text>\n",
       "</g>\n",
       "<!-- DT2&#45;&gt;RT2 -->\n",
       "<g id=\"edge10\" class=\"edge\">\n",
       "<title>DT2-&gt;RT2</title>\n",
       "<path fill=\"none\" stroke=\"black\" d=\"M277.1,-175.59C278.38,-165.22 280.17,-150.62 281.77,-137.65\"/>\n",
       "<polygon fill=\"black\" stroke=\"black\" points=\"285.24,-138.06 282.99,-127.71 278.29,-137.21 285.24,-138.06\"/>\n",
       "</g>\n",
       "<!-- DT2&#45;&gt;UT2 -->\n",
       "<g id=\"edge11\" class=\"edge\">\n",
       "<title>DT2-&gt;UT2</title>\n",
       "<path fill=\"none\" stroke=\"black\" stroke-dasharray=\"5,2\" d=\"M262.68,-175.59C252.97,-165.06 239.24,-150.17 227.15,-137.05\"/>\n",
       "<polygon fill=\"black\" stroke=\"black\" points=\"229.61,-134.55 220.26,-129.57 224.46,-139.3 229.61,-134.55\"/>\n",
       "</g>\n",
       "<!-- DS1T1&#45;&gt;RS1T1 -->\n",
       "<g id=\"edge13\" class=\"edge\">\n",
       "<title>DS1T1-&gt;RS1T1</title>\n",
       "<path fill=\"none\" stroke=\"black\" d=\"M375.14,-255.96C373.54,-246.35 371.34,-233.1 369.35,-221.1\"/>\n",
       "<polygon fill=\"black\" stroke=\"black\" points=\"372.76,-220.3 367.67,-211.01 365.85,-221.45 372.76,-220.3\"/>\n",
       "</g>\n",
       "<!-- DS1T1&#45;&gt;S1UT1 -->\n",
       "<g id=\"edge14\" class=\"edge\">\n",
       "<title>DS1T1-&gt;S1UT1</title>\n",
       "<path fill=\"none\" stroke=\"black\" stroke-dasharray=\"5,2\" d=\"M394.82,-255.96C407.79,-245.82 425.92,-231.65 441.9,-219.16\"/>\n",
       "<polygon fill=\"black\" stroke=\"black\" points=\"444.29,-221.72 450.01,-212.81 439.98,-216.21 444.29,-221.72\"/>\n",
       "</g>\n",
       "<!-- DRL1 -->\n",
       "<g id=\"node11\" class=\"node\">\n",
       "<title>DRL1</title>\n",
       "<polygon fill=\"#9a5050\" stroke=\"black\" points=\"387.41,-121.54 333.41,-121.54 333.41,-92.54 387.41,-92.54 387.41,-121.54\"/>\n",
       "<text text-anchor=\"middle\" x=\"360.41\" y=\"-103.34\" font-family=\"Times,serif\" font-size=\"14.00\" fill=\"white\">DRL1</text>\n",
       "</g>\n",
       "<!-- DRL1&#45;&gt;URL1 -->\n",
       "<g id=\"edge15\" class=\"edge\">\n",
       "<title>DRL1-&gt;URL1</title>\n",
       "<path fill=\"none\" stroke=\"black\" stroke-dasharray=\"5,2\" d=\"M353.96,-92.23C349.4,-82.48 343.1,-68.99 337.33,-56.64\"/>\n",
       "<polygon fill=\"black\" stroke=\"black\" points=\"340.46,-55.06 333.06,-47.48 334.12,-58.03 340.46,-55.06\"/>\n",
       "</g>\n",
       "</g>\n",
       "</svg>"
      ],
      "text/plain": [
       "<IPython.core.display.SVG object>"
      ]
     },
     "metadata": {},
     "output_type": "display_data"
    }
   ],
   "source": [
    "print(diag)\n",
    "gnb.showInfluenceDiagram(diag, size=60)"
   ]
  },
  {
   "cell_type": "markdown",
   "id": "2cf5c0cc",
   "metadata": {},
   "source": [
    "# probabilities"
   ]
  },
  {
   "cell_type": "code",
   "execution_count": 13,
   "id": "cac4276c",
   "metadata": {},
   "outputs": [],
   "source": [
    "# CL1 and test 1\n",
    "diag.cpt(CL1)[{\"CS1\": 0, \"HL1\":0}] = [0.95, 0.05]  # when S1:on, L1H: healthy > L1 should be on\n",
    "diag.cpt(CL1)[{\"CS1\": 0, \"HL1\":1}] = [0.1, 0.9]  # when S1:on, L1H: broken > L1 likely off\n",
    "diag.cpt(CL1)[{\"CS1\": 1, \"HL1\":0}] = [0.05, 0.95]  # when S1:off, L1H: healthy > L1 is off\n",
    "diag.cpt(CL1)[{\"CS1\": 1, \"HL1\":1}] = [0.01, 0.99] # when S1:off, L1H: broken > L1 likely off\n",
    "\n",
    "\n",
    "diag.cpt(HL1)[0] = 0.7  # most likely light is not broken\n",
    "diag.cpt(HL1)[1] = 0.3  # but 30% chance light is broken\n",
    "\n",
    "diag.cpt(RT1)[{\"DT1\": 0}] = [0.0, 0.8, 0.2] # when DT1:yes > most likely RT1 is OK\n",
    "diag.cpt(RT1)[{\"DT1\": 1}] = [0.95, 0.05,0.0] # when DT1:no > very likely not done"
   ]
  },
  {
   "cell_type": "code",
   "execution_count": 14,
   "id": "fa702505",
   "metadata": {},
   "outputs": [],
   "source": [
    "# CL1 and test 2\n",
    "diag.cpt(RT2)[{\"DT2\": 0}] = [0, 0.2, 0.8]  # when DT2:yes > RT2 most likely broken after T1\n",
    "diag.cpt(RT2)[{\"DT2\": 1}] = [1.0, 0.0, 0]  # when DT2:no > RT2 should not have a result\n"
   ]
  },
  {
   "cell_type": "code",
   "execution_count": 15,
   "id": "361b1639",
   "metadata": {},
   "outputs": [
    {
     "data": {
      "text/html": [
       "\n",
       "      <style>\n",
       "      .floating-box {\n",
       "      display: inline-block;\n",
       "      margin: 7px;\n",
       "      padding : 3px;\n",
       "      border: 0px solid transparent;  \n",
       "      valign:middle;\n",
       "      background-color: transparent;\n",
       "      }\n",
       "      </style>\n",
       "      <div class=\"floating-box\"><table style=\"border:1px solid black;\">\n",
       "<tr><th colspan='2'></th>\n",
       "      <th colspan='2' style='border:1px solid black;color:black;background-color:#808080;'><center>CL1</center>\n",
       "      </th></tr>\n",
       "<tr><th style='border:1px solid black;color:black;background-color:#808080'><center>CS1</center></th><th style='border:1px solid black;color:black;background-color:#808080'><center>HL1</center></th><th style='border:1px solid black;border-bottom-style: double;color:black;background-color:#BBBBBB'>\n",
       "      <center>on</center></th><th style='border:1px solid black;border-bottom-style: double;color:black;background-color:#BBBBBB'>\n",
       "      <center>off</center></th></tr>\n",
       "<tr><th style='border:1px solid black;color:black;background-color:#BBBBBB;' rowspan = '2'>\n",
       "            <center>on</center></th><th style='border:1px solid black;color:black;background-color:#BBBBBB'><center>ok</center></th><td style='color:black;background-color:#85f864;text-align:right;'>0.9500</td><td style='color:black;background-color:#f88564;text-align:right;'>0.0500</td></tr>\n",
       "<tr><th style='border:1px solid black;color:black;background-color:#BBBBBB'><center>broken</center></th><td style='color:black;background-color:#f28b64;text-align:right;'>0.1000</td><td style='color:black;background-color:#8bf264;text-align:right;'>0.9000</td></tr>\n",
       "<tr><th style='border:1px solid black;color:black;background-color:#BBBBBB;' rowspan = '2'>\n",
       "            <center>off</center></th><th style='border:1px solid black;color:black;background-color:#BBBBBB'><center>ok</center></th><td style='color:black;background-color:#f88564;text-align:right;'>0.0500</td><td style='color:black;background-color:#85f864;text-align:right;'>0.9500</td></tr>\n",
       "<tr><th style='border:1px solid black;color:black;background-color:#BBBBBB'><center>broken</center></th><td style='color:black;background-color:#fd8064;text-align:right;'>0.0100</td><td style='color:black;background-color:#80fd64;text-align:right;'>0.9900</td></tr>\n",
       "</table><br><center><small><em>prior of CL1</em></small></center></div><div class=\"floating-box\"><table style=\"border:1px solid black;\">\n",
       "<tr style='border:1px solid black;color:black;background-color:#808080'>\n",
       "      <th colspan='2'><center>HL1</center></th></tr>\n",
       "<tr><th style='border:1px solid black;border-bottom-style: double;color:black;background-color:#BBBBBB'>\n",
       "      <center>ok</center></th><th style='border:1px solid black;border-bottom-style: double;color:black;background-color:#BBBBBB'>\n",
       "      <center>broken</center></th></tr>\n",
       "<tr><td style='color:black;background-color:#a5d864;text-align:right;'>0.7000</td><td style='color:black;background-color:#d8a564;text-align:right;'>0.3000</td></tr>\n",
       "</table><br><center><small><em>prior of HL1</em></small></center></div><div class=\"floating-box\"><table style=\"border:1px solid black;\">\n",
       "<tr><th colspan='1'></th>\n",
       "      <th colspan='3' style='border:1px solid black;color:black;background-color:#808080;'><center>RT1</center>\n",
       "      </th></tr>\n",
       "<tr><th style='border:1px solid black;color:black;background-color:#808080'><center>DT1</center></th><th style='border:1px solid black;border-bottom-style: double;color:black;background-color:#BBBBBB'>\n",
       "      <center>not done</center></th><th style='border:1px solid black;border-bottom-style: double;color:black;background-color:#BBBBBB'>\n",
       "      <center>OK</center></th><th style='border:1px solid black;border-bottom-style: double;color:black;background-color:#BBBBBB'>\n",
       "      <center>broken</center></th></tr>\n",
       "<tr><th style='border:1px solid black;color:black;background-color:#BBBBBB'><center>yes</center></th><td style='color:black;background-color:#ff7f64;text-align:right;'>0.0000</td><td style='color:black;background-color:#98e564;text-align:right;'>0.8000</td><td style='color:black;background-color:#e59864;text-align:right;'>0.2000</td></tr>\n",
       "<tr><th style='border:1px solid black;color:black;background-color:#BBBBBB'><center>no</center></th><td style='color:black;background-color:#85f864;text-align:right;'>0.9500</td><td style='color:black;background-color:#f88564;text-align:right;'>0.0500</td><td style='color:black;background-color:#ff7f64;text-align:right;'>0.0000</td></tr>\n",
       "</table><br><center><small><em>prior of RT1</em></small></center></div><div class=\"floating-box\"><table style=\"border:1px solid black;\">\n",
       "<tr><th colspan='1'></th>\n",
       "      <th colspan='3' style='border:1px solid black;color:black;background-color:#808080;'><center>RT2</center>\n",
       "      </th></tr>\n",
       "<tr><th style='border:1px solid black;color:black;background-color:#808080'><center>DT2</center></th><th style='border:1px solid black;border-bottom-style: double;color:black;background-color:#BBBBBB'>\n",
       "      <center>not done</center></th><th style='border:1px solid black;border-bottom-style: double;color:black;background-color:#BBBBBB'>\n",
       "      <center>OK</center></th><th style='border:1px solid black;border-bottom-style: double;color:black;background-color:#BBBBBB'>\n",
       "      <center>broken</center></th></tr>\n",
       "<tr><th style='border:1px solid black;color:black;background-color:#BBBBBB'><center>yes</center></th><td style='color:black;background-color:#ff7f64;text-align:right;'>0.0000</td><td style='color:black;background-color:#e59864;text-align:right;'>0.2000</td><td style='color:black;background-color:#98e564;text-align:right;'>0.8000</td></tr>\n",
       "<tr><th style='border:1px solid black;color:black;background-color:#BBBBBB'><center>no</center></th><td style='color:black;background-color:#7fff64;text-align:right;'>1.0000</td><td style='color:black;background-color:#ff7f64;text-align:right;'>0.0000</td><td style='color:black;background-color:#ff7f64;text-align:right;'>0.0000</td></tr>\n",
       "</table><br><center><small><em>prior of RT2</em></small></center></div>"
      ],
      "text/plain": [
       "<IPython.core.display.HTML object>"
      ]
     },
     "metadata": {},
     "output_type": "display_data"
    }
   ],
   "source": [
    "gnb.flow.row(diag.cpt(CL1),\n",
    "            diag.cpt(HL1),\n",
    "            diag.cpt(RT1),\n",
    "            diag.cpt(RT2),\n",
    "            captions=[  \"prior of CL1\",\n",
    "                        \"prior of HL1\",\n",
    "                        \"prior of RT1\",\n",
    "                        \"prior of RT2\"\n",
    "                      ])"
   ]
  },
  {
   "cell_type": "code",
   "execution_count": 16,
   "id": "9fb5bfa3",
   "metadata": {},
   "outputs": [],
   "source": [
    "diag.cpt(CS1)[{'HS1':0}] = [0.7, 0.3] # normal behavior light is on\n",
    "diag.cpt(CS1)[{'HS1':1}] = [0.5, 0.5] # if broken it could be stuck in on or off\n",
    "\n",
    "diag.cpt(HS1)[0] = 0.90\n",
    "diag.cpt(HS1)[1] = 0.1 # very small chance the switch is broken\n",
    "\n",
    "diag.cpt(RS1T1)[{\"DS1T1\":0}] = [0,0.4,0.6]  # when Decision to test = yes > probably broken\n",
    "diag.cpt(RS1T1)[{\"DS1T1\":1}] = [1,0,0]      # when Decision no > no result\n",
    "\n"
   ]
  },
  {
   "cell_type": "code",
   "execution_count": 17,
   "id": "4124a178",
   "metadata": {},
   "outputs": [
    {
     "data": {
      "text/html": [
       "\n",
       "      <style>\n",
       "      .floating-box {\n",
       "      display: inline-block;\n",
       "      margin: 7px;\n",
       "      padding : 3px;\n",
       "      border: 0px solid transparent;  \n",
       "      valign:middle;\n",
       "      background-color: transparent;\n",
       "      }\n",
       "      </style>\n",
       "      <div class=\"floating-box\"><table style=\"border:1px solid black;\">\n",
       "<tr><th colspan='1'></th>\n",
       "      <th colspan='2' style='border:1px solid black;color:black;background-color:#808080;'><center>CS1</center>\n",
       "      </th></tr>\n",
       "<tr><th style='border:1px solid black;color:black;background-color:#808080'><center>HS1</center></th><th style='border:1px solid black;border-bottom-style: double;color:black;background-color:#BBBBBB'>\n",
       "      <center>on</center></th><th style='border:1px solid black;border-bottom-style: double;color:black;background-color:#BBBBBB'>\n",
       "      <center>off</center></th></tr>\n",
       "<tr><th style='border:1px solid black;color:black;background-color:#BBBBBB'><center>ok</center></th><td style='color:black;background-color:#a5d864;text-align:right;'>0.7000</td><td style='color:black;background-color:#d8a564;text-align:right;'>0.3000</td></tr>\n",
       "<tr><th style='border:1px solid black;color:black;background-color:#BBBBBB'><center>broken</center></th><td style='color:black;background-color:#bfbf64;text-align:right;'>0.5000</td><td style='color:black;background-color:#bfbf64;text-align:right;'>0.5000</td></tr>\n",
       "</table><br><center><small><em>prior of CS1</em></small></center></div><div class=\"floating-box\"><table style=\"border:1px solid black;\">\n",
       "<tr style='border:1px solid black;color:black;background-color:#808080'>\n",
       "      <th colspan='2'><center>HS1</center></th></tr>\n",
       "<tr><th style='border:1px solid black;border-bottom-style: double;color:black;background-color:#BBBBBB'>\n",
       "      <center>ok</center></th><th style='border:1px solid black;border-bottom-style: double;color:black;background-color:#BBBBBB'>\n",
       "      <center>broken</center></th></tr>\n",
       "<tr><td style='color:black;background-color:#8bf264;text-align:right;'>0.9000</td><td style='color:black;background-color:#f28b64;text-align:right;'>0.1000</td></tr>\n",
       "</table><br><center><small><em>prior of HS1</em></small></center></div><div class=\"floating-box\"><table style=\"border:1px solid black;\">\n",
       "<tr><th colspan='1'></th>\n",
       "      <th colspan='3' style='border:1px solid black;color:black;background-color:#808080;'><center>RS1T1</center>\n",
       "      </th></tr>\n",
       "<tr><th style='border:1px solid black;color:black;background-color:#808080'><center>DS1T1</center></th><th style='border:1px solid black;border-bottom-style: double;color:black;background-color:#BBBBBB'>\n",
       "      <center>not done</center></th><th style='border:1px solid black;border-bottom-style: double;color:black;background-color:#BBBBBB'>\n",
       "      <center>OK</center></th><th style='border:1px solid black;border-bottom-style: double;color:black;background-color:#BBBBBB'>\n",
       "      <center>broken</center></th></tr>\n",
       "<tr><th style='border:1px solid black;color:black;background-color:#BBBBBB'><center>yes</center></th><td style='color:black;background-color:#ff7f64;text-align:right;'>0.0000</td><td style='color:black;background-color:#cbb264;text-align:right;'>0.4000</td><td style='color:black;background-color:#b2cb64;text-align:right;'>0.6000</td></tr>\n",
       "<tr><th style='border:1px solid black;color:black;background-color:#BBBBBB'><center>no</center></th><td style='color:black;background-color:#7fff64;text-align:right;'>1.0000</td><td style='color:black;background-color:#ff7f64;text-align:right;'>0.0000</td><td style='color:black;background-color:#ff7f64;text-align:right;'>0.0000</td></tr>\n",
       "</table><br><center><small><em>prior of RS1T1</em></small></center></div>"
      ],
      "text/plain": [
       "<IPython.core.display.HTML object>"
      ]
     },
     "metadata": {},
     "output_type": "display_data"
    }
   ],
   "source": [
    "gnb.flow.row(diag.cpt(CS1),\n",
    "            diag.cpt(HS1),\n",
    "            diag.cpt(RS1T1),\n",
    "            \n",
    "            captions=[  \"prior of CS1\",\n",
    "                        \"prior of HS1\",\n",
    "                        \"prior of RS1T1\"\n",
    "            \n",
    "                      ])"
   ]
  },
  {
   "cell_type": "markdown",
   "id": "4d2ba402",
   "metadata": {},
   "source": [
    "# utility function"
   ]
  },
  {
   "cell_type": "code",
   "execution_count": 18,
   "id": "ff0a883d",
   "metadata": {},
   "outputs": [],
   "source": [
    "diag.utility(\"UT1\")[{\"DT1\": \"yes\", \"HL1\":\"ok\"    }] = -100   # no test necessary when in good health\n",
    "diag.utility(\"UT1\")[{\"DT1\": \"yes\", \"HL1\":\"broken\"}] =  100   # test relevant\n",
    "diag.utility(\"UT1\")[{\"DT1\": \"no\" , \"HL1\":\"ok\"    }] = -10    # no test needed\n",
    "diag.utility(\"UT1\")[{\"DT1\": \"no\" , \"HL1\":\"broken\"}] = -300   # not a good option not to test when brokeen"
   ]
  },
  {
   "cell_type": "code",
   "execution_count": 19,
   "id": "2c2ce7df",
   "metadata": {},
   "outputs": [],
   "source": [
    "diag.utility(\"UT2\")[{\"RT1\": 0, \"DT2\":0}] = -100 # when DT2 yes should have a result so not a logical result\n",
    "diag.utility(\"UT2\")[{\"RT1\": 0, \"DT2\":1}] = -10 # when DT2 no it's logical no result\n",
    "\n",
    "diag.utility(\"UT2\")[{\"RT1\": 1, \"DT2\":0}] = -100 # when DT2 yes AND RT1 OK > not logical\n",
    "diag.utility(\"UT2\")[{\"RT1\": 1, \"DT2\":1}] = -10 # when DT2 no AND RT1 OK > logical\n",
    "\n",
    "diag.utility(\"UT2\")[{\"RT1\": 2, \"DT2\":0}] = -0 # DT2 yes when RT1 broken is logical \n",
    "diag.utility(\"UT2\")[{\"RT1\": 2, \"DT2\":1}] = -20 # DT2 no when RT1 broken not logical"
   ]
  },
  {
   "cell_type": "code",
   "execution_count": 20,
   "id": "08b3d3b8",
   "metadata": {},
   "outputs": [],
   "source": [
    "diag.utility(\"S1UT1\")[{\"DS1T1\": 0, \"HS1\":0}] = -50 # no test necessary when in good health\n",
    "diag.utility(\"S1UT1\")[{\"DS1T1\": 0, \"HS1\":1}] = -1   # test relevant\n",
    "diag.utility(\"S1UT1\")[{\"DS1T1\": 1, \"HS1\":0}] = -10  # no test needed\n",
    "diag.utility(\"S1UT1\")[{\"DS1T1\": 1, \"HS1\":1}] = -30  # not a good option not to test when brokeen"
   ]
  },
  {
   "cell_type": "code",
   "execution_count": 21,
   "id": "1ebe2b23",
   "metadata": {},
   "outputs": [],
   "source": [
    "diag.utility(\"URL1\")[{\"RT2\":\"not done\", \"DRL1\":\"yes\"}] = -200   # when T2 not done and decision to replace yes\n",
    "diag.utility(\"URL1\")[{\"RT2\":\"not done\", \"DRL1\":\"no\"}]  = -100   # when T2 not done and decision to replace no\n",
    "diag.utility(\"URL1\")[{\"RT2\":\"OK\"      , \"DRL1\":\"yes\"}] = -300   # when T2 OK and decision to replace yes\n",
    "diag.utility(\"URL1\")[{\"RT2\":\"OK\"      , \"DRL1\":\"no\"}]  = -100   # when T2 OK and decision to replace no\n",
    "diag.utility(\"URL1\")[{\"RT2\":\"broken\"  , \"DRL1\":\"yes\"}] =  0     # when T2 broken and decision to replace yes\n",
    "diag.utility(\"URL1\")[{\"RT2\":\"broken\"  , \"DRL1\":\"no\"}]  = -100   # when T2 broken and decision to replace no\n"
   ]
  },
  {
   "cell_type": "code",
   "execution_count": 22,
   "id": "06aefd1d",
   "metadata": {},
   "outputs": [
    {
     "data": {
      "text/html": [
       "\n",
       "      <style>\n",
       "      .floating-box {\n",
       "      display: inline-block;\n",
       "      margin: 7px;\n",
       "      padding : 3px;\n",
       "      border: 0px solid transparent;  \n",
       "      valign:middle;\n",
       "      background-color: transparent;\n",
       "      }\n",
       "      </style>\n",
       "      <div class=\"floating-box\"><table style=\"border:1px solid black;\">\n",
       "<tr><th colspan='2'></th>\n",
       "      <th colspan='1' style='border:1px solid black;color:black;background-color:#808080;'><center>UT1</center>\n",
       "      </th></tr>\n",
       "<tr><th style='border:1px solid black;color:black;background-color:#808080'><center>DT1</center></th><th style='border:1px solid black;color:black;background-color:#808080'><center>HL1</center></th><th style='border:1px solid black;border-bottom-style: double;color:black;background-color:#BBBBBB'>\n",
       "      <center>0</center></th></tr>\n",
       "<tr><th style='border:1px solid black;color:black;background-color:#BBBBBB;' rowspan = '2'>\n",
       "            <center>yes</center></th><th style='border:1px solid black;color:black;background-color:#BBBBBB'><center>ok</center></th><td style='text-align:right;'>-100.0000</td></tr>\n",
       "<tr><th style='border:1px solid black;color:black;background-color:#BBBBBB'><center>broken</center></th><td style='text-align:right;'>100.0000</td></tr>\n",
       "<tr><th style='border:1px solid black;color:black;background-color:#BBBBBB;' rowspan = '2'>\n",
       "            <center>no</center></th><th style='border:1px solid black;color:black;background-color:#BBBBBB'><center>ok</center></th><td style='text-align:right;'>-10.0000</td></tr>\n",
       "<tr><th style='border:1px solid black;color:black;background-color:#BBBBBB'><center>broken</center></th><td style='text-align:right;'>-300.0000</td></tr>\n",
       "</table><br><center><small><em>utility UT1</em></small></center></div><div class=\"floating-box\"><table style=\"border:1px solid black;\">\n",
       "<tr><th colspan='2'></th>\n",
       "      <th colspan='1' style='border:1px solid black;color:black;background-color:#808080;'><center>UT2</center>\n",
       "      </th></tr>\n",
       "<tr><th style='border:1px solid black;color:black;background-color:#808080'><center>RT1</center></th><th style='border:1px solid black;color:black;background-color:#808080'><center>DT2</center></th><th style='border:1px solid black;border-bottom-style: double;color:black;background-color:#BBBBBB'>\n",
       "      <center>0</center></th></tr>\n",
       "<tr><th style='border:1px solid black;color:black;background-color:#BBBBBB;' rowspan = '2'>\n",
       "            <center>not done</center></th><th style='border:1px solid black;color:black;background-color:#BBBBBB'><center>yes</center></th><td style='text-align:right;'>-100.0000</td></tr>\n",
       "<tr><th style='border:1px solid black;color:black;background-color:#BBBBBB'><center>no</center></th><td style='text-align:right;'>-10.0000</td></tr>\n",
       "<tr><th style='border:1px solid black;color:black;background-color:#BBBBBB;' rowspan = '2'>\n",
       "            <center>OK</center></th><th style='border:1px solid black;color:black;background-color:#BBBBBB'><center>yes</center></th><td style='text-align:right;'>-100.0000</td></tr>\n",
       "<tr><th style='border:1px solid black;color:black;background-color:#BBBBBB'><center>no</center></th><td style='text-align:right;'>-10.0000</td></tr>\n",
       "<tr><th style='border:1px solid black;color:black;background-color:#BBBBBB;' rowspan = '2'>\n",
       "            <center>broken</center></th><th style='border:1px solid black;color:black;background-color:#BBBBBB'><center>yes</center></th><td style='text-align:right;'>0.0000</td></tr>\n",
       "<tr><th style='border:1px solid black;color:black;background-color:#BBBBBB'><center>no</center></th><td style='text-align:right;'>-20.0000</td></tr>\n",
       "</table><br><center><small><em>utility UT2</em></small></center></div><div class=\"floating-box\"><table style=\"border:1px solid black;\">\n",
       "<tr><th colspan='2'></th>\n",
       "      <th colspan='1' style='border:1px solid black;color:black;background-color:#808080;'><center>S1UT1</center>\n",
       "      </th></tr>\n",
       "<tr><th style='border:1px solid black;color:black;background-color:#808080'><center>DS1T1</center></th><th style='border:1px solid black;color:black;background-color:#808080'><center>HS1</center></th><th style='border:1px solid black;border-bottom-style: double;color:black;background-color:#BBBBBB'>\n",
       "      <center>0</center></th></tr>\n",
       "<tr><th style='border:1px solid black;color:black;background-color:#BBBBBB;' rowspan = '2'>\n",
       "            <center>yes</center></th><th style='border:1px solid black;color:black;background-color:#BBBBBB'><center>ok</center></th><td style='text-align:right;'>-50.0000</td></tr>\n",
       "<tr><th style='border:1px solid black;color:black;background-color:#BBBBBB'><center>broken</center></th><td style='text-align:right;'>-1.0000</td></tr>\n",
       "<tr><th style='border:1px solid black;color:black;background-color:#BBBBBB;' rowspan = '2'>\n",
       "            <center>no</center></th><th style='border:1px solid black;color:black;background-color:#BBBBBB'><center>ok</center></th><td style='text-align:right;'>-10.0000</td></tr>\n",
       "<tr><th style='border:1px solid black;color:black;background-color:#BBBBBB'><center>broken</center></th><td style='text-align:right;'>-30.0000</td></tr>\n",
       "</table><br><center><small><em>utility S1UT1</em></small></center></div><div class=\"floating-box\"><table style=\"border:1px solid black;\">\n",
       "<tr><th colspan='2'></th>\n",
       "      <th colspan='1' style='border:1px solid black;color:black;background-color:#808080;'><center>URL1</center>\n",
       "      </th></tr>\n",
       "<tr><th style='border:1px solid black;color:black;background-color:#808080'><center>RT2</center></th><th style='border:1px solid black;color:black;background-color:#808080'><center>DRL1</center></th><th style='border:1px solid black;border-bottom-style: double;color:black;background-color:#BBBBBB'>\n",
       "      <center>0</center></th></tr>\n",
       "<tr><th style='border:1px solid black;color:black;background-color:#BBBBBB;' rowspan = '2'>\n",
       "            <center>not done</center></th><th style='border:1px solid black;color:black;background-color:#BBBBBB'><center>yes</center></th><td style='text-align:right;'>-200.0000</td></tr>\n",
       "<tr><th style='border:1px solid black;color:black;background-color:#BBBBBB'><center>no</center></th><td style='text-align:right;'>-100.0000</td></tr>\n",
       "<tr><th style='border:1px solid black;color:black;background-color:#BBBBBB;' rowspan = '2'>\n",
       "            <center>OK</center></th><th style='border:1px solid black;color:black;background-color:#BBBBBB'><center>yes</center></th><td style='text-align:right;'>-300.0000</td></tr>\n",
       "<tr><th style='border:1px solid black;color:black;background-color:#BBBBBB'><center>no</center></th><td style='text-align:right;'>-100.0000</td></tr>\n",
       "<tr><th style='border:1px solid black;color:black;background-color:#BBBBBB;' rowspan = '2'>\n",
       "            <center>broken</center></th><th style='border:1px solid black;color:black;background-color:#BBBBBB'><center>yes</center></th><td style='text-align:right;'>0.0000</td></tr>\n",
       "<tr><th style='border:1px solid black;color:black;background-color:#BBBBBB'><center>no</center></th><td style='text-align:right;'>-100.0000</td></tr>\n",
       "</table><br><center><small><em>utility URL1</em></small></center></div>"
      ],
      "text/plain": [
       "<IPython.core.display.HTML object>"
      ]
     },
     "metadata": {},
     "output_type": "display_data"
    }
   ],
   "source": [
    "gnb.flow.row(diag.utility(\"UT1\"),\n",
    "            diag.utility(\"UT2\"),\n",
    "            diag.utility(\"S1UT1\"),\n",
    "            diag.utility(\"URL1\"),\n",
    "           \n",
    "            captions=[  \"utility UT1\",\n",
    "                        \"utility UT2\",\n",
    "                        \"utility S1UT1\",\n",
    "                        \"utility URL1\"                      \n",
    "            \n",
    "                      ])"
   ]
  },
  {
   "cell_type": "code",
   "execution_count": 23,
   "id": "5559a653",
   "metadata": {},
   "outputs": [],
   "source": [
    "diag.saveBIFXML(\"lightv3.xml\")"
   ]
  },
  {
   "cell_type": "code",
   "execution_count": null,
   "id": "7f018c8f",
   "metadata": {},
   "outputs": [],
   "source": []
  }
 ],
 "metadata": {
  "kernelspec": {
   "display_name": "Python 3 (ipykernel)",
   "language": "python",
   "name": "python3"
  },
  "language_info": {
   "codemirror_mode": {
    "name": "ipython",
    "version": 3
   },
   "file_extension": ".py",
   "mimetype": "text/x-python",
   "name": "python",
   "nbconvert_exporter": "python",
   "pygments_lexer": "ipython3",
   "version": "3.11.5"
  }
 },
 "nbformat": 4,
 "nbformat_minor": 5
}
