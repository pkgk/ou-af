{
 "cells": [
  {
   "cell_type": "markdown",
   "id": "92a983a2",
   "metadata": {},
   "source": [
    "# Light example: generate influence diagram\n",
    "\n",
    "- 1 light + 1 switch\n",
    "- normal operation and so highest chance: light is on and switch set to on\n",
    "- both components have a health variable\n",
    "- light 1 can be tested with 2 tests\n",
    "  - test 1 is cheapest test\n",
    "  - test 2 is more expensive\n",
    "- when test 2 negative then replace component\n",
    "- switch can be tested with 1 test \n",
    "- \n",
    "\n",
    "this notebook generates the influence diagram"
   ]
  },
  {
   "cell_type": "code",
   "execution_count": 1,
   "id": "ea0bda67",
   "metadata": {},
   "outputs": [],
   "source": [
    "# imports\n",
    "import os\n",
    "import matplotlib.pyplot as plt\n",
    "from pylab import *\n",
    "import pyAgrum as gum\n",
    "import pyAgrum.lib.notebook as gnb\n",
    "\n",
    "from IPython.display import display,HTML"
   ]
  },
  {
   "cell_type": "code",
   "execution_count": 2,
   "id": "382ab7d5",
   "metadata": {},
   "outputs": [],
   "source": [
    "# create influence diagram\n",
    "diag = gum.InfluenceDiagram()"
   ]
  },
  {
   "cell_type": "markdown",
   "id": "d68e0e31",
   "metadata": {},
   "source": [
    "# influence diagram structure\n",
    "\n",
    "chance, decision and utility variables"
   ]
  },
  {
   "cell_type": "markdown",
   "id": "a1ce4be4",
   "metadata": {},
   "source": [
    "CL1: light 1 \n",
    "- normal behavior is light 1 is on \n",
    "- but can also be off\n",
    "\n",
    "HL1: light 1 health \n",
    "- models if light is broken. \n",
    "- If HL1 set to broken light 1 will be off. \n",
    "- So light 1 is conditionally dependent on L1H"
   ]
  },
  {
   "cell_type": "code",
   "execution_count": 3,
   "id": "79c1cf89",
   "metadata": {},
   "outputs": [],
   "source": [
    "# CL1 and HL1\n",
    "CL1 = diag.addChanceNode(gum.LabelizedVariable('CL1', 'L1 component', [\"on\", \"off\"]))\n",
    "HL1 = diag.addChanceNode(gum.LabelizedVariable('HL1', 'L1 health', [\"ok\", \"broken\"]))\n",
    "\n",
    "# CL1 is conditionally dependent on L1H\n",
    "diag.addArc(HL1, CL1)"
   ]
  },
  {
   "cell_type": "markdown",
   "id": "aa2b421a",
   "metadata": {},
   "source": [
    "CS1: toggle for light 1\n",
    "- since CL1 normally on CS1 also normally on\n",
    "- when off CL1 should be off\n",
    "- when off but CL1 on: weird situation\n",
    "- when on but CL1 off: probably broken\n",
    "- CL1 is conditionally dependent on CS1 "
   ]
  },
  {
   "cell_type": "code",
   "execution_count": 4,
   "id": "6e3a334b",
   "metadata": {},
   "outputs": [],
   "source": [
    "# CS1 and HS1\n",
    "CS1 = diag.addChanceNode(gum.LabelizedVariable('CS1', 'S1 component', [\"on\", \"off\"]))\n",
    "HS1 = diag.addChanceNode(gum.LabelizedVariable('HS1', 'S1 health', ['ok', 'broken']))\n",
    "\n",
    "# L1 is dependent on S1\n",
    "diag.addArc(CS1, CL1)\n",
    "diag.addArc(HS1, CS1)"
   ]
  },
  {
   "cell_type": "markdown",
   "id": "7cfd17a5",
   "metadata": {},
   "source": [
    "DT1: test 1\n",
    "- decision variable test 1 determines if test 1 will be performed\n",
    "- values are yes / no\n",
    "- if L1H is likely broken DT1 becomes relevant\n",
    "\n",
    "RT1: test result of test 1\n",
    "- chance variable test 1 result models outcome of test 1: OK, not OK\n",
    "- not done is also an option if DT1 set to no\n",
    "\n",
    "UT1: utility of test 1\n",
    "- function of L1H and DT1 \n",
    "- when low health it's likely to perform test for more assurance"
   ]
  },
  {
   "cell_type": "code",
   "execution_count": 5,
   "id": "b27b83c6",
   "metadata": {},
   "outputs": [],
   "source": [
    "DT1 = diag.addDecisionNode(gum.LabelizedVariable('DT1', 'Decide T1', [\"yes\", \"no\"]))\n",
    "RT1 = diag.addChanceNode(gum.LabelizedVariable('RT1', 'Result T1', [\"not done\", \"OK\", \"broken\"]))\n",
    "UT1 = diag.addUtilityNode(gum.LabelizedVariable(\"UT1\", \"R(L1H, DT1)\", 1))"
   ]
  },
  {
   "cell_type": "code",
   "execution_count": 6,
   "id": "32ab1e76",
   "metadata": {},
   "outputs": [],
   "source": [
    "diag.addArc(HL1, DT1)\n",
    "diag.addArc(HL1, UT1)\n",
    "diag.addArc(DT1, UT1)\n",
    "diag.addArc(DT1, RT1)"
   ]
  },
  {
   "cell_type": "markdown",
   "id": "f8229130",
   "metadata": {},
   "source": [
    "DT2 test 2\n",
    "- decision variable test 2 determines if test 2 will be performed\n",
    "- values are yes / no\n",
    "- if L1H is likely broken DT1 becomes relevant\n",
    "\n",
    "RT2: test result of test 2\n",
    "- chance variable test 2 result models outcome of test 2: OK, not OK\n",
    "- not done is also an option if DT2 set to no\n",
    "\n",
    "UT2: utility of test 1\n",
    "- function of RT1 and DT2 \n",
    "- when low health it's likely to perform test for more assurance"
   ]
  },
  {
   "cell_type": "code",
   "execution_count": 7,
   "id": "298ebb1b",
   "metadata": {},
   "outputs": [],
   "source": [
    "DT2 = diag.addDecisionNode(gum.LabelizedVariable('DT2', 'Decide T2', [\"yes\", \"no\"]))\n",
    "RT2 = diag.addChanceNode(gum.LabelizedVariable('RT2', 'Result T2', [\"not done\", \"OK\", \"broken\"]))\n",
    "UT2 = diag.addUtilityNode(gum.LabelizedVariable(\"UT2\", \"R(L1H, DT2)\", 1))"
   ]
  },
  {
   "cell_type": "code",
   "execution_count": 8,
   "id": "fb280307",
   "metadata": {},
   "outputs": [],
   "source": [
    "diag.addArc(RT1, DT2)\n",
    "diag.addArc(DT2, UT2)\n",
    "diag.addArc(RT1, UT2)\n",
    "diag.addArc(DT2, RT2)"
   ]
  },
  {
   "cell_type": "markdown",
   "id": "ff5688dd",
   "metadata": {},
   "source": [
    "DS1T1 test 1\n",
    "- decision variable S1 test 1 determines if test 1 will be performed\n",
    "- values are yes / no\n",
    "- if S1H is likely broken DS1T1 becomes relevant\n",
    "\n",
    "RS1T1: test result of S1 test 1\n",
    "- chance variable test 1 result models outcome of test 1: OK, not OK\n",
    "- not done is also an option if DS1T2 set to no\n",
    "\n",
    "S1UT1: utility for test 1 of L1 and S1\n",
    "- function of DT1, DS1T1 and S1H and L1H \n",
    "- when low health it's likely to perform test for more assurance"
   ]
  },
  {
   "cell_type": "code",
   "execution_count": 9,
   "id": "5b4ddfda",
   "metadata": {},
   "outputs": [],
   "source": [
    "DS1T1 = diag.addDecisionNode(gum.LabelizedVariable('DS1T1', 'Decide S1 T1', [\"yes\", \"no\"]))\n",
    "RS1T1 = diag.addChanceNode(gum.LabelizedVariable('RS1T1', 'Result S1 T1', [\"not done\", \"OK\", \"broken\"]))\n",
    "S1UT1 = diag.addUtilityNode(gum.LabelizedVariable(\"S1UT1\", \"R(S1H, S1DT1)\", 1))"
   ]
  },
  {
   "cell_type": "code",
   "execution_count": 10,
   "id": "d8a347e9",
   "metadata": {},
   "outputs": [],
   "source": [
    "diag.addArc(DS1T1, RS1T1)\n",
    "diag.addArc(HS1, S1UT1)\n",
    "diag.addArc(DS1T1, S1UT1)\n",
    "diag.addArc(HS1, DS1T1)"
   ]
  },
  {
   "cell_type": "markdown",
   "id": "7734bbc3",
   "metadata": {},
   "source": [
    "DRL1: decision on replacement of component 1\n",
    "- yes when output RT2 = broken\n",
    "- no otherwise\n",
    "\n",
    "URL1: utility steering decision to replace component\n",
    "- input RT2 test to indicate if CL1 is broken"
   ]
  },
  {
   "cell_type": "code",
   "execution_count": 11,
   "id": "4ccbfcb0",
   "metadata": {},
   "outputs": [],
   "source": [
    "DRL1 = diag.addDecisionNode(gum.LabelizedVariable('DRL1', 'L1 replacement decision', [\"yes\", \"no\"]))\n",
    "URL1 = diag.addUtilityNode(gum.LabelizedVariable(\"URL1\", \"R(RT2, DRL1)\", 1))\n",
    "\n",
    "diag.addArc(RT2, DRL1)\n",
    "diag.addArc(DRL1, URL1)\n",
    "diag.addArc(RT2, URL1)\n"
   ]
  },
  {
   "cell_type": "code",
   "execution_count": 12,
   "id": "88174711",
   "metadata": {
    "scrolled": false
   },
   "outputs": [
    {
     "name": "stdout",
     "output_type": "stream",
     "text": [
      "Influence Diagram{\n",
      "  chance: 7,\n",
      "  utility: 4,\n",
      "  decision: 4,\n",
      "  arcs: 18,\n",
      "  domainSize: 6912\n",
      "}\n"
     ]
    },
    {
     "data": {
      "image/svg+xml": [
       "<svg xmlns=\"http://www.w3.org/2000/svg\" xmlns:xlink=\"http://www.w3.org/1999/xlink\" width=\"440pt\" height=\"589pt\" viewBox=\"0.00 0.00 440.44 589.45\">\n",
       "<g id=\"graph0\" class=\"graph\" transform=\"scale(1 1) rotate(0) translate(4 585.45)\">\n",
       "<title>G</title>\n",
       "<!-- CL1 -->\n",
       "<g id=\"node1\" class=\"node\">\n",
       "<title>CL1</title>\n",
       "<ellipse fill=\"#808080\" stroke=\"black\" cx=\"66\" cy=\"-403.75\" rx=\"30.31\" ry=\"20.51\"/>\n",
       "<text text-anchor=\"middle\" x=\"66\" y=\"-400.05\" font-family=\"Times,serif\" font-size=\"14.00\" fill=\"white\">CL1</text>\n",
       "</g>\n",
       "<!-- HL1 -->\n",
       "<g id=\"node2\" class=\"node\">\n",
       "<title>HL1</title>\n",
       "<ellipse fill=\"#808080\" stroke=\"black\" cx=\"147\" cy=\"-483.93\" rx=\"31.64\" ry=\"20.51\"/>\n",
       "<text text-anchor=\"middle\" x=\"147\" y=\"-480.23\" font-family=\"Times,serif\" font-size=\"14.00\" fill=\"white\">HL1</text>\n",
       "</g>\n",
       "<!-- HL1&#45;&gt;CL1 -->\n",
       "<g id=\"edge1\" class=\"edge\">\n",
       "<title>HL1-&gt;CL1</title>\n",
       "<path fill=\"none\" stroke=\"black\" d=\"M129.82,-466.35C118.36,-455.29 103.12,-440.58 90.41,-428.31\"/>\n",
       "<polygon fill=\"black\" stroke=\"black\" points=\"92.5,-425.46 82.88,-421.04 87.64,-430.5 92.5,-425.46\"/>\n",
       "</g>\n",
       "<!-- DT1 -->\n",
       "<g id=\"node8\" class=\"node\">\n",
       "<title>DT1</title>\n",
       "<polygon fill=\"#9a5050\" stroke=\"black\" points=\"168,-418.25 114,-418.25 114,-389.25 168,-389.25 168,-418.25\"/>\n",
       "<text text-anchor=\"middle\" x=\"141\" y=\"-400.05\" font-family=\"Times,serif\" font-size=\"14.00\" fill=\"white\">DT1</text>\n",
       "</g>\n",
       "<!-- HL1&#45;&gt;DT1 -->\n",
       "<g id=\"edge2\" class=\"edge\">\n",
       "<title>HL1-&gt;DT1</title>\n",
       "<polygon fill=\"black\" stroke=\"transparent\" stroke-width=\"2\" stroke-dasharray=\"1,5\" points=\"146.48,-463.13 146.32,-461.55 146.14,-459.93 145.97,-458.28 145.79,-456.61 145.61,-454.91 145.43,-453.2 145.25,-451.46 145.06,-449.71 144.87,-447.95 144.69,-446.18 144.5,-444.41 144.31,-442.64 144.12,-440.87 143.94,-439.1 143.75,-437.34 143.57,-435.6 143.38,-433.87 143.2,-432.16 143.02,-430.47 142.85,-428.8 142.85,-428.8 142.93,-430.47 143.01,-432.17 143.09,-433.89 143.17,-435.63 143.25,-437.38 143.34,-439.15 143.42,-440.92 143.51,-442.7 143.59,-444.48 143.68,-446.26 143.76,-448.04 143.85,-449.8 143.93,-451.56 144.01,-453.3 144.1,-455.03 144.18,-456.73 144.26,-458.42 144.34,-460.07 144.41,-461.69 144.49,-463.28 146.48,-463.13\"/>\n",
       "<polygon fill=\"black\" stroke=\"black\" stroke-width=\"2\" points=\"146.31,-428.26 142.06,-418.56 139.34,-428.8 146.31,-428.26\"/>\n",
       "</g>\n",
       "<!-- UT1 -->\n",
       "<g id=\"node12\" class=\"node\">\n",
       "<title>UT1</title>\n",
       "<polygon fill=\"#50508a\" stroke=\"black\" points=\"232.99,-320.39 214.49,-344.25 177.51,-344.25 159.01,-320.39 177.51,-296.53 214.49,-296.53 232.99,-320.39\"/>\n",
       "<text text-anchor=\"middle\" x=\"196\" y=\"-316.69\" font-family=\"Times,serif\" font-size=\"14.00\" fill=\"white\">UT1</text>\n",
       "</g>\n",
       "<!-- HL1&#45;&gt;UT1 -->\n",
       "<g id=\"edge3\" class=\"edge\">\n",
       "<title>HL1-&gt;UT1</title>\n",
       "<path fill=\"none\" stroke=\"black\" stroke-dasharray=\"5,2\" d=\"M158.83,-464.61C165.11,-454.11 172.44,-440.46 177,-427.43 185.29,-403.72 190.11,-375.7 192.82,-354.42\"/>\n",
       "<polygon fill=\"black\" stroke=\"black\" points=\"196.32,-354.61 194.02,-344.27 189.37,-353.79 196.32,-354.61\"/>\n",
       "</g>\n",
       "<!-- CS1 -->\n",
       "<g id=\"node3\" class=\"node\">\n",
       "<title>CS1</title>\n",
       "<ellipse fill=\"#808080\" stroke=\"black\" cx=\"66\" cy=\"-483.93\" rx=\"31.23\" ry=\"20.51\"/>\n",
       "<text text-anchor=\"middle\" x=\"66\" y=\"-480.23\" font-family=\"Times,serif\" font-size=\"14.00\" fill=\"white\">CS1</text>\n",
       "</g>\n",
       "<!-- CS1&#45;&gt;CL1 -->\n",
       "<g id=\"edge4\" class=\"edge\">\n",
       "<title>CS1-&gt;CL1</title>\n",
       "<path fill=\"none\" stroke=\"black\" d=\"M66,-463.2C66,-454.59 66,-444.3 66,-434.78\"/>\n",
       "<polygon fill=\"black\" stroke=\"black\" points=\"69.5,-434.47 66,-424.47 62.5,-434.47 69.5,-434.47\"/>\n",
       "</g>\n",
       "<!-- HS1 -->\n",
       "<g id=\"node4\" class=\"node\">\n",
       "<title>HS1</title>\n",
       "<ellipse fill=\"#808080\" stroke=\"black\" cx=\"281\" cy=\"-560.95\" rx=\"31.64\" ry=\"20.51\"/>\n",
       "<text text-anchor=\"middle\" x=\"281\" y=\"-557.25\" font-family=\"Times,serif\" font-size=\"14.00\" fill=\"white\">HS1</text>\n",
       "</g>\n",
       "<!-- HS1&#45;&gt;CS1 -->\n",
       "<g id=\"edge5\" class=\"edge\">\n",
       "<title>HS1-&gt;CS1</title>\n",
       "<path fill=\"none\" stroke=\"black\" d=\"M252.05,-552.17C216.97,-542.43 156.31,-524.56 106,-504.44 103.76,-503.54 101.47,-502.58 99.18,-501.57\"/>\n",
       "<polygon fill=\"black\" stroke=\"black\" points=\"100.4,-498.28 89.86,-497.27 97.47,-504.64 100.4,-498.28\"/>\n",
       "</g>\n",
       "<!-- DS1T1 -->\n",
       "<g id=\"node10\" class=\"node\">\n",
       "<title>DS1T1</title>\n",
       "<polygon fill=\"#9a5050\" stroke=\"black\" points=\"312.5,-498.43 249.5,-498.43 249.5,-469.43 312.5,-469.43 312.5,-498.43\"/>\n",
       "<text text-anchor=\"middle\" x=\"281\" y=\"-480.23\" font-family=\"Times,serif\" font-size=\"14.00\" fill=\"white\">DS1T1</text>\n",
       "</g>\n",
       "<!-- HS1&#45;&gt;DS1T1 -->\n",
       "<g id=\"edge6\" class=\"edge\">\n",
       "<title>HS1-&gt;DS1T1</title>\n",
       "<polygon fill=\"black\" stroke=\"transparent\" stroke-width=\"2\" stroke-dasharray=\"1,5\" points=\"282,-540.24 281.95,-538.79 281.91,-537.31 281.86,-535.81 281.81,-534.29 281.76,-532.74 281.71,-531.18 281.66,-529.61 281.61,-528.02 281.56,-526.42 281.51,-524.82 281.45,-523.22 281.4,-521.61 281.35,-520 281.3,-518.4 281.25,-516.8 281.2,-515.22 281.15,-513.64 281.1,-512.08 281.05,-510.54 281,-509.02 281,-509.02 280.95,-510.54 280.9,-512.08 280.85,-513.64 280.8,-515.22 280.75,-516.8 280.7,-518.4 280.65,-520 280.6,-521.61 280.55,-523.22 280.49,-524.82 280.44,-526.42 280.39,-528.02 280.34,-529.61 280.29,-531.18 280.24,-532.74 280.19,-534.29 280.14,-535.81 280.09,-537.31 280.05,-538.79 280,-540.24 282,-540.24\"/>\n",
       "<polygon fill=\"black\" stroke=\"black\" stroke-width=\"2\" points=\"284.5,-508.83 281,-498.83 277.5,-508.83 284.5,-508.83\"/>\n",
       "</g>\n",
       "<!-- S1UT1 -->\n",
       "<g id=\"node14\" class=\"node\">\n",
       "<title>S1UT1</title>\n",
       "<polygon fill=\"#50508a\" stroke=\"black\" points=\"432.38,-403.75 406.69,-427.61 355.31,-427.61 329.62,-403.75 355.31,-379.89 406.69,-379.89 432.38,-403.75\"/>\n",
       "<text text-anchor=\"middle\" x=\"381\" y=\"-400.05\" font-family=\"Times,serif\" font-size=\"14.00\" fill=\"white\">S1UT1</text>\n",
       "</g>\n",
       "<!-- HS1&#45;&gt;S1UT1 -->\n",
       "<g id=\"edge7\" class=\"edge\">\n",
       "<title>HS1-&gt;S1UT1</title>\n",
       "<path fill=\"none\" stroke=\"black\" stroke-dasharray=\"5,2\" d=\"M294.77,-542.28C302.96,-531.53 313.4,-517.42 322,-504.44 336.67,-482.3 351.91,-456.47 363.23,-436.65\"/>\n",
       "<polygon fill=\"black\" stroke=\"black\" points=\"366.4,-438.15 368.29,-427.72 360.31,-434.69 366.4,-438.15\"/>\n",
       "</g>\n",
       "<!-- RT1 -->\n",
       "<g id=\"node5\" class=\"node\">\n",
       "<title>RT1</title>\n",
       "<ellipse fill=\"#808080\" stroke=\"black\" cx=\"111\" cy=\"-320.39\" rx=\"30.31\" ry=\"20.51\"/>\n",
       "<text text-anchor=\"middle\" x=\"111\" y=\"-316.69\" font-family=\"Times,serif\" font-size=\"14.00\" fill=\"white\">RT1</text>\n",
       "</g>\n",
       "<!-- DT2 -->\n",
       "<g id=\"node9\" class=\"node\">\n",
       "<title>DT2</title>\n",
       "<polygon fill=\"#9a5050\" stroke=\"black\" points=\"111,-260.71 57,-260.71 57,-231.71 111,-231.71 111,-260.71\"/>\n",
       "<text text-anchor=\"middle\" x=\"84\" y=\"-242.51\" font-family=\"Times,serif\" font-size=\"14.00\" fill=\"white\">DT2</text>\n",
       "</g>\n",
       "<!-- RT1&#45;&gt;DT2 -->\n",
       "<g id=\"edge11\" class=\"edge\">\n",
       "<title>RT1-&gt;DT2</title>\n",
       "<polygon fill=\"black\" stroke=\"transparent\" stroke-width=\"2\" stroke-dasharray=\"1,5\" points=\"104.84,-300.08 104.28,-298.7 103.7,-297.3 103.12,-295.88 102.53,-294.43 101.93,-292.97 101.32,-291.49 100.71,-290 100.09,-288.49 99.47,-286.98 98.85,-285.46 98.22,-283.94 97.6,-282.41 96.97,-280.89 96.35,-279.37 95.73,-277.86 95.11,-276.35 94.5,-274.86 93.89,-273.38 93.29,-271.92 92.7,-270.47 92.7,-270.47 93.2,-271.95 93.71,-273.45 94.22,-274.96 94.74,-276.49 95.26,-278.03 95.79,-279.58 96.31,-281.14 96.84,-282.7 97.37,-284.26 97.9,-285.82 98.43,-287.37 98.95,-288.92 99.47,-290.46 99.99,-291.99 100.5,-293.5 101.01,-295 101.51,-296.48 102.01,-297.94 102.49,-299.37 102.97,-300.78 104.84,-300.08\"/>\n",
       "<polygon fill=\"black\" stroke=\"black\" stroke-width=\"2\" points=\"95.95,-269.17 89.17,-261.03 89.4,-271.63 95.95,-269.17\"/>\n",
       "</g>\n",
       "<!-- UT2 -->\n",
       "<g id=\"node13\" class=\"node\">\n",
       "<title>UT2</title>\n",
       "<polygon fill=\"#50508a\" stroke=\"black\" points=\"175.99,-172.04 157.49,-195.89 120.51,-195.89 102.01,-172.04 120.51,-148.18 157.49,-148.18 175.99,-172.04\"/>\n",
       "<text text-anchor=\"middle\" x=\"139\" y=\"-168.34\" font-family=\"Times,serif\" font-size=\"14.00\" fill=\"white\">UT2</text>\n",
       "</g>\n",
       "<!-- RT1&#45;&gt;UT2 -->\n",
       "<g id=\"edge10\" class=\"edge\">\n",
       "<title>RT1-&gt;UT2</title>\n",
       "<path fill=\"none\" stroke=\"black\" stroke-dasharray=\"5,2\" d=\"M114.72,-299.96C119.3,-276 127.16,-234.9 132.7,-205.98\"/>\n",
       "<polygon fill=\"black\" stroke=\"black\" points=\"136.18,-206.4 134.62,-195.92 129.3,-205.09 136.18,-206.4\"/>\n",
       "</g>\n",
       "<!-- RT2 -->\n",
       "<g id=\"node6\" class=\"node\">\n",
       "<title>RT2</title>\n",
       "<ellipse fill=\"#808080\" stroke=\"black\" cx=\"54\" cy=\"-172.04\" rx=\"30.31\" ry=\"20.51\"/>\n",
       "<text text-anchor=\"middle\" x=\"54\" y=\"-168.34\" font-family=\"Times,serif\" font-size=\"14.00\" fill=\"white\">RT2</text>\n",
       "</g>\n",
       "<!-- DRL1 -->\n",
       "<g id=\"node11\" class=\"node\">\n",
       "<title>DRL1</title>\n",
       "<polygon fill=\"#9a5050\" stroke=\"black\" points=\"54,-112.36 0,-112.36 0,-83.36 54,-83.36 54,-112.36\"/>\n",
       "<text text-anchor=\"middle\" x=\"27\" y=\"-94.16\" font-family=\"Times,serif\" font-size=\"14.00\" fill=\"white\">DRL1</text>\n",
       "</g>\n",
       "<!-- RT2&#45;&gt;DRL1 -->\n",
       "<g id=\"edge14\" class=\"edge\">\n",
       "<title>RT2-&gt;DRL1</title>\n",
       "<polygon fill=\"black\" stroke=\"transparent\" stroke-width=\"2\" stroke-dasharray=\"1,5\" points=\"47.84,-151.72 47.28,-150.35 46.7,-148.95 46.12,-147.52 45.53,-146.08 44.93,-144.61 44.32,-143.14 43.71,-141.64 43.09,-140.14 42.47,-138.62 41.85,-137.11 41.22,-135.58 40.6,-134.06 39.97,-132.53 39.35,-131.02 38.73,-129.5 38.11,-128 37.5,-126.5 36.89,-125.02 36.29,-123.56 35.7,-122.11 35.7,-122.11 36.2,-123.59 36.71,-125.09 37.22,-126.61 37.74,-128.14 38.26,-129.68 38.79,-131.23 39.31,-132.78 39.84,-134.34 40.37,-135.9 40.9,-137.46 41.43,-139.02 41.95,-140.56 42.47,-142.1 42.99,-143.63 43.5,-145.15 44.01,-146.65 44.51,-148.12 45.01,-149.58 45.49,-151.01 45.97,-152.42 47.84,-151.72\"/>\n",
       "<polygon fill=\"black\" stroke=\"black\" stroke-width=\"2\" points=\"38.95,-120.82 32.17,-112.68 32.4,-123.27 38.95,-120.82\"/>\n",
       "</g>\n",
       "<!-- URL1 -->\n",
       "<g id=\"node15\" class=\"node\">\n",
       "<title>URL1</title>\n",
       "<polygon fill=\"#50508a\" stroke=\"black\" points=\"98.81,-23.68 76.41,-47.54 31.59,-47.54 9.19,-23.68 31.59,0.18 76.41,0.18 98.81,-23.68\"/>\n",
       "<text text-anchor=\"middle\" x=\"54\" y=\"-19.98\" font-family=\"Times,serif\" font-size=\"14.00\" fill=\"white\">URL1</text>\n",
       "</g>\n",
       "<!-- RT2&#45;&gt;URL1 -->\n",
       "<g id=\"edge15\" class=\"edge\">\n",
       "<title>RT2-&gt;URL1</title>\n",
       "<path fill=\"none\" stroke=\"black\" stroke-dasharray=\"5,2\" d=\"M57.75,-151.56C59.75,-140.18 62,-125.51 63,-112.36 63.98,-99.51 63.98,-96.21 63,-83.36 62.35,-74.88 61.19,-65.78 59.91,-57.33\"/>\n",
       "<polygon fill=\"black\" stroke=\"black\" points=\"63.36,-56.75 58.32,-47.44 56.45,-57.87 63.36,-56.75\"/>\n",
       "</g>\n",
       "<!-- RS1T1 -->\n",
       "<g id=\"node7\" class=\"node\">\n",
       "<title>RS1T1</title>\n",
       "<ellipse fill=\"#808080\" stroke=\"black\" cx=\"268\" cy=\"-403.75\" rx=\"43.68\" ry=\"20.51\"/>\n",
       "<text text-anchor=\"middle\" x=\"268\" y=\"-400.05\" font-family=\"Times,serif\" font-size=\"14.00\" fill=\"white\">RS1T1</text>\n",
       "</g>\n",
       "<!-- DT1&#45;&gt;RT1 -->\n",
       "<g id=\"edge8\" class=\"edge\">\n",
       "<title>DT1-&gt;RT1</title>\n",
       "<path fill=\"none\" stroke=\"black\" d=\"M135.91,-388.95C131.99,-378.33 126.45,-363.28 121.58,-350.08\"/>\n",
       "<polygon fill=\"black\" stroke=\"black\" points=\"124.77,-348.63 118.03,-340.46 118.21,-351.05 124.77,-348.63\"/>\n",
       "</g>\n",
       "<!-- DT1&#45;&gt;UT1 -->\n",
       "<g id=\"edge9\" class=\"edge\">\n",
       "<title>DT1-&gt;UT1</title>\n",
       "<path fill=\"none\" stroke=\"black\" stroke-dasharray=\"5,2\" d=\"M150.33,-388.95C157.05,-379 166.4,-365.18 174.89,-352.62\"/>\n",
       "<polygon fill=\"black\" stroke=\"black\" points=\"177.88,-354.44 180.58,-344.2 172.08,-350.52 177.88,-354.44\"/>\n",
       "</g>\n",
       "<!-- DT2&#45;&gt;RT2 -->\n",
       "<g id=\"edge12\" class=\"edge\">\n",
       "<title>DT2-&gt;RT2</title>\n",
       "<path fill=\"none\" stroke=\"black\" d=\"M78.36,-231.64C74.83,-223.16 70.16,-211.92 65.85,-201.55\"/>\n",
       "<polygon fill=\"black\" stroke=\"black\" points=\"68.95,-199.89 61.88,-192 62.49,-202.58 68.95,-199.89\"/>\n",
       "</g>\n",
       "<!-- DT2&#45;&gt;UT2 -->\n",
       "<g id=\"edge13\" class=\"edge\">\n",
       "<title>DT2-&gt;UT2</title>\n",
       "<path fill=\"none\" stroke=\"black\" stroke-dasharray=\"5,2\" d=\"M94.35,-231.64C100.33,-223.79 108.11,-213.58 115.5,-203.88\"/>\n",
       "<polygon fill=\"black\" stroke=\"black\" points=\"118.29,-205.99 121.56,-195.92 112.72,-201.75 118.29,-205.99\"/>\n",
       "</g>\n",
       "<!-- DS1T1&#45;&gt;RS1T1 -->\n",
       "<g id=\"edge16\" class=\"edge\">\n",
       "<title>DS1T1-&gt;RS1T1</title>\n",
       "<path fill=\"none\" stroke=\"black\" d=\"M278.74,-469.31C277.14,-459.7 274.93,-446.46 272.94,-434.46\"/>\n",
       "<polygon fill=\"black\" stroke=\"black\" points=\"276.35,-433.65 271.26,-424.36 269.45,-434.8 276.35,-433.65\"/>\n",
       "</g>\n",
       "<!-- DS1T1&#45;&gt;S1UT1 -->\n",
       "<g id=\"edge17\" class=\"edge\">\n",
       "<title>DS1T1-&gt;S1UT1</title>\n",
       "<path fill=\"none\" stroke=\"black\" stroke-dasharray=\"5,2\" d=\"M298.42,-469.31C311.38,-459.18 329.52,-445 345.49,-432.51\"/>\n",
       "<polygon fill=\"black\" stroke=\"black\" points=\"347.89,-435.08 353.61,-426.16 343.57,-429.57 347.89,-435.08\"/>\n",
       "</g>\n",
       "<!-- DRL1&#45;&gt;URL1 -->\n",
       "<g id=\"edge18\" class=\"edge\">\n",
       "<title>DRL1-&gt;URL1</title>\n",
       "<path fill=\"none\" stroke=\"black\" stroke-dasharray=\"5,2\" d=\"M32.08,-83.28C34.87,-75.82 38.46,-66.23 41.92,-56.98\"/>\n",
       "<polygon fill=\"black\" stroke=\"black\" points=\"45.21,-58.15 45.44,-47.56 38.66,-55.7 45.21,-58.15\"/>\n",
       "</g>\n",
       "</g>\n",
       "</svg>"
      ],
      "text/plain": [
       "<IPython.core.display.SVG object>"
      ]
     },
     "metadata": {},
     "output_type": "display_data"
    }
   ],
   "source": [
    "print(diag)\n",
    "gnb.showInfluenceDiagram(diag, size=60)"
   ]
  },
  {
   "cell_type": "markdown",
   "id": "2cf5c0cc",
   "metadata": {},
   "source": [
    "# probabilities"
   ]
  },
  {
   "cell_type": "code",
   "execution_count": null,
   "id": "cac4276c",
   "metadata": {},
   "outputs": [],
   "source": [
    "# CL1 and test 1\n",
    "diag.cpt(CL1)[{\"CS1\": 0, \"HL1\":0}] = [0.95, 0.05]  # when S1:on, L1H: healthy > L1 should be on\n",
    "diag.cpt(CL1)[{\"CS1\": 0, \"HL1\":1}] = [0.1, 0.9]  # when S1:on, L1H: broken > L1 likely off\n",
    "diag.cpt(CL1)[{\"CS1\": 1, \"HL1\":0}] = [0.05, 0.95]  # when S1:off, L1H: healthy > L1 is off\n",
    "diag.cpt(CL1)[{\"CS1\": 1, \"HL1\":1}] = [0.01, 0.99] # when S1:off, L1H: broken > L1 likely off\n",
    "\n",
    "\n",
    "diag.cpt(HL1)[0] = 0.7  # most likely light is not broken\n",
    "diag.cpt(HL1)[1] = 0.3  # but 30% chance light is broken\n",
    "\n",
    "diag.cpt(RT1)[{\"DT1\": 0}] = [0.0, 0.8, 0.2] # when DT1:yes > most likely RT1 is OK\n",
    "diag.cpt(RT1)[{\"DT1\": 1}] = [0.95, 0.05,0.0] # when DT1:no > very likely not done"
   ]
  },
  {
   "cell_type": "code",
   "execution_count": null,
   "id": "fa702505",
   "metadata": {},
   "outputs": [],
   "source": [
    "# CL1 and test 2\n",
    "diag.cpt(RT2)[{\"DT2\": 0}] = [0, 0.2, 0.8]  # when DT2:yes > RT2 most likely broken after T1\n",
    "diag.cpt(RT2)[{\"DT2\": 1}] = [1.0, 0.0, 0]  # when DT2:no > RT2 should not have a result\n"
   ]
  },
  {
   "cell_type": "code",
   "execution_count": null,
   "id": "361b1639",
   "metadata": {},
   "outputs": [],
   "source": [
    "gnb.flow.row(diag.cpt(CL1),\n",
    "            diag.cpt(HL1),\n",
    "            diag.cpt(RT1),\n",
    "            diag.cpt(RT2),\n",
    "            captions=[  \"prior of CL1\",\n",
    "                        \"prior of HL1\",\n",
    "                        \"prior of RT1\",\n",
    "                        \"prior of RT2\"\n",
    "                      ])"
   ]
  },
  {
   "cell_type": "code",
   "execution_count": null,
   "id": "9fb5bfa3",
   "metadata": {},
   "outputs": [],
   "source": [
    "diag.cpt(CS1)[{'HS1':0}] = [0.7, 0.3] # normal behavior light is on\n",
    "diag.cpt(CS1)[{'HS1':1}] = [0.5, 0.5] # if broken it could be stuck in on or off\n",
    "\n",
    "diag.cpt(HS1)[0] = 0.90\n",
    "diag.cpt(HS1)[1] = 0.1 # very small chance the switch is broken\n",
    "\n",
    "diag.cpt(RS1T1)[{\"DS1T1\":0}] = [0,0.4,0.6]  # when Decision to test = yes > probably broken\n",
    "diag.cpt(RS1T1)[{\"DS1T1\":1}] = [1,0,0]      # when Decision no > no result\n",
    "\n"
   ]
  },
  {
   "cell_type": "code",
   "execution_count": null,
   "id": "4124a178",
   "metadata": {},
   "outputs": [],
   "source": [
    "gnb.flow.row(diag.cpt(CS1),\n",
    "            diag.cpt(HS1),\n",
    "            diag.cpt(RS1T1),\n",
    "            \n",
    "            captions=[  \"prior of CS1\",\n",
    "                        \"prior of HS1\",\n",
    "                        \"prior of RS1T1\"\n",
    "            \n",
    "                      ])"
   ]
  },
  {
   "cell_type": "markdown",
   "id": "4d2ba402",
   "metadata": {},
   "source": [
    "# utility function"
   ]
  },
  {
   "cell_type": "code",
   "execution_count": null,
   "id": "ff0a883d",
   "metadata": {},
   "outputs": [],
   "source": [
    "diag.utility(\"UT1\")[{\"DT1\": 0, \"HL1\":0}] = -100 # no test necessary when in good health\n",
    "diag.utility(\"UT1\")[{\"DT1\": 0, \"HL1\":1}] = -1   # test relevant\n",
    "diag.utility(\"UT1\")[{\"DT1\": 1, \"HL1\":0}] = -10  # no test needed\n",
    "diag.utility(\"UT1\")[{\"DT1\": 1, \"HL1\":1}] = -30  # not a good option not to test when brokeen"
   ]
  },
  {
   "cell_type": "code",
   "execution_count": null,
   "id": "2c2ce7df",
   "metadata": {},
   "outputs": [],
   "source": [
    "diag.utility(\"UT2\")[{\"RT1\": 0, \"DT2\":0}] = -100 # when DT2 yes should have a result so not a logical result\n",
    "diag.utility(\"UT2\")[{\"RT1\": 0, \"DT2\":1}] = -10 # when DT2 no it's logical no result\n",
    "\n",
    "diag.utility(\"UT2\")[{\"RT1\": 1, \"DT2\":0}] = -100 # when DT2 yes AND RT1 OK > not logical\n",
    "diag.utility(\"UT2\")[{\"RT1\": 1, \"DT2\":1}] = -10 # when DT2 no AND RT1 OK > logical\n",
    "\n",
    "diag.utility(\"UT2\")[{\"RT1\": 2, \"DT2\":0}] = -0 # DT2 yes when RT1 broken is logical \n",
    "diag.utility(\"UT2\")[{\"RT1\": 2, \"DT2\":1}] = -20 # DT2 no when RT1 broken not logical"
   ]
  },
  {
   "cell_type": "code",
   "execution_count": null,
   "id": "08b3d3b8",
   "metadata": {},
   "outputs": [],
   "source": [
    "diag.utility(\"S1UT1\")[{\"DS1T1\": 0, \"HS1\":0}] = -50 # no test necessary when in good health\n",
    "diag.utility(\"S1UT1\")[{\"DS1T1\": 0, \"HS1\":1}] = -1   # test relevant\n",
    "diag.utility(\"S1UT1\")[{\"DS1T1\": 1, \"HS1\":0}] = -10  # no test needed\n",
    "diag.utility(\"S1UT1\")[{\"DS1T1\": 1, \"HS1\":1}] = -30  # not a good option not to test when brokeen"
   ]
  },
  {
   "cell_type": "code",
   "execution_count": null,
   "id": "1ebe2b23",
   "metadata": {},
   "outputs": [],
   "source": [
    "diag.utility(\"URL1\")[{\"RT2\":\"not done\", \"DRL1\":\"yes\"}] = -200   # when T2 not done and decision to replace yes\n",
    "diag.utility(\"URL1\")[{\"RT2\":\"not done\", \"DRL1\":\"no\"}]  = -100   # when T2 not done and decision to replace no\n",
    "diag.utility(\"URL1\")[{\"RT2\":\"OK\"      , \"DRL1\":\"yes\"}] = -300   # when T2 OK and decision to replace yes\n",
    "diag.utility(\"URL1\")[{\"RT2\":\"OK\"      , \"DRL1\":\"no\"}]  = -100   # when T2 OK and decision to replace no\n",
    "diag.utility(\"URL1\")[{\"RT2\":\"broken\"  , \"DRL1\":\"yes\"}] =  0     # when T2 broken and decision to replace yes\n",
    "diag.utility(\"URL1\")[{\"RT2\":\"broken\"  , \"DRL1\":\"no\"}]  = -100   # when T2 broken and decision to replace no\n"
   ]
  },
  {
   "cell_type": "code",
   "execution_count": null,
   "id": "06aefd1d",
   "metadata": {},
   "outputs": [],
   "source": [
    "gnb.flow.row(diag.utility(\"UT1\"),\n",
    "            diag.utility(\"UT2\"),\n",
    "            diag.utility(\"S1UT1\"),\n",
    "            diag.utility(\"URL1\"),\n",
    "           \n",
    "            captions=[  \"utility UT1\",\n",
    "                        \"utility UT2\",\n",
    "                        \"utility S1UT1\",\n",
    "                        \"utility URL1\"                      \n",
    "            \n",
    "                      ])"
   ]
  },
  {
   "cell_type": "code",
   "execution_count": null,
   "id": "5559a653",
   "metadata": {},
   "outputs": [],
   "source": [
    "diag.saveBIFXML(\"lightv2.xml\")"
   ]
  },
  {
   "cell_type": "code",
   "execution_count": null,
   "id": "7f018c8f",
   "metadata": {},
   "outputs": [],
   "source": []
  }
 ],
 "metadata": {
  "kernelspec": {
   "display_name": "Python 3 (ipykernel)",
   "language": "python",
   "name": "python3"
  },
  "language_info": {
   "codemirror_mode": {
    "name": "ipython",
    "version": 3
   },
   "file_extension": ".py",
   "mimetype": "text/x-python",
   "name": "python",
   "nbconvert_exporter": "python",
   "pygments_lexer": "ipython3",
   "version": "3.10.4"
  }
 },
 "nbformat": 4,
 "nbformat_minor": 5
}
