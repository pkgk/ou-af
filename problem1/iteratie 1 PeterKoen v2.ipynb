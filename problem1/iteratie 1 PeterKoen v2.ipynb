{
 "cells": [
  {
   "cell_type": "markdown",
   "id": "92a983a2",
   "metadata": {},
   "source": [
    "# Switch / Light example\n"
   ]
  },
  {
   "cell_type": "markdown",
   "id": "880192fc",
   "metadata": {},
   "source": [
    "### concept system modeling according to literature\n",
    "\n",
    "based on TNO report: Guided root analysis of machine failure, par 5.2\n",
    "\n",
    "a system is an assembly of components + connections between components\n",
    "\n",
    "how to define a component?\n",
    "- define inputs and outputs\n",
    "- define failure modes\n",
    "- inputs and outputs are associated with modalities and a modality has properties\n",
    "- relation between inputs and outputs for normal behavior and for every failure mode\n",
    "\n",
    "how to define an assembly\n",
    "- components that are part of the assembly\n",
    "- how the components are connected\n",
    "\n",
    "limitations/prerequisites system modeling\n",
    "- every component has one health and one output variable. multiple inputs are possible\n",
    "- type names are unique"
   ]
  },
  {
   "cell_type": "markdown",
   "id": "6ce9f9a0",
   "metadata": {},
   "source": [
    "### generate influence diagram from system definition\n",
    "\n",
    "implementation below uses following steps\n",
    "- define component (inputs/outputs, ...) as dict\n",
    "- define connection as dict\n",
    "- define system as dict\n",
    "- create diagram\n",
    "  - generate nodes from dicts and add to influence diagram\n",
    "  - generate arcs from dict and add to influence diagram"
   ]
  },
  {
   "cell_type": "markdown",
   "id": "a7f99fd0",
   "metadata": {},
   "source": [
    "### component specification\n",
    "\n",
    "- every component has one or more inputs, outputs\n",
    "- every component has one health\n",
    "- every component has a type\n",
    "- inputs/outputs/health have modalities which have properties which have values"
   ]
  },
  {
   "cell_type": "code",
   "execution_count": 298,
   "id": "0389910f",
   "metadata": {},
   "outputs": [],
   "source": [
    "# component Switch > Python datastructure dictionary\n",
    "\n",
    "switch = {\n",
    "    \"type\":\"Switch\",\n",
    "    \"Inputs\":{\n",
    "        \"1\":{\n",
    "            \"modality\":\"Power\",\n",
    "            \"property\":\"Present\",\n",
    "            \"propertyvalues\":[\"yes\", \"no\"],\n",
    "            \"normal1\":\"yes\",\n",
    "            \"normal2\":\"*\",\n",
    "            \"failure1\":\"no\"\n",
    "        },\n",
    "        \"2\":\n",
    "        {\n",
    "            \"modality\":\"State\",\n",
    "            \"property\":\"Enabled\",\n",
    "            \"propertyvalues\":[\"yes\", \"no\"],\n",
    "            \"normal1\":\"yes\",\n",
    "            \"normal2\":\"no\",\n",
    "            \"failure1\":\"*\"\n",
    "        }\n",
    "    },\n",
    "    \"Outputs\":{\n",
    "        \"1\":{\n",
    "            \"modality\":\"Power\",\n",
    "            \"property\":\"Present\",\n",
    "            \"propertyvalues\":[\"yes\", \"no\"],\n",
    "            \"normal1\":\"yes\",\n",
    "            \"normal2\":\"no\",\n",
    "            \"failure1\":\"no\"\n",
    "        }\n",
    "    },\n",
    "    \"Healths\":{\n",
    "        \"1\":{\n",
    "            \"modality\":\"Health\",\n",
    "            \"property\":\"health\",\n",
    "            \"propertyvalues\":[\"ok\",\"broken\"],\n",
    "            \"priorprobability\":[0.99,0.01]\n",
    "        }\n",
    "    },\n",
    "    \"Behavior\":{\n",
    "        \"normalstates\":[\"normal1\",\"normal2\"],\n",
    "        \"failurestates\":[\"failure1\"]\n",
    "    }\n",
    "\n",
    "}"
   ]
  },
  {
   "cell_type": "code",
   "execution_count": 293,
   "id": "d513975e",
   "metadata": {},
   "outputs": [],
   "source": [
    "# component Light > Python datastructure dictionary\n",
    "\n",
    "light = {\n",
    "    \"type\":\"Light\",\n",
    "    \"Inputs\":{\n",
    "        \"1\":{\n",
    "            \"modality\":\"Power\",\n",
    "            \"property\":\"Present\",\n",
    "            \"propertyvalues\":[\"yes\", \"no\"]\n",
    "        }\n",
    "    },\n",
    "    \"Outputs\":{\n",
    "        \"1\":{\n",
    "            \"modality\":\"Light\",\n",
    "            \"property\":\"Present\",\n",
    "            \"propertyvalues\":[\"yes\", \"no\"]\n",
    "        }\n",
    "    },\n",
    "    \"Healths\":{\n",
    "        \"1\":{\n",
    "            \"modality\":\"Health\",\n",
    "            \"property\":\"health\",\n",
    "            \"propertyvalues\":[\"ok\",\"broken\"],\n",
    "            \"priorprobability\":[0.9,0.1]\n",
    "        }\n",
    "    }\n",
    "}"
   ]
  },
  {
   "cell_type": "markdown",
   "id": "cbb14899",
   "metadata": {},
   "source": [
    "### connections connect components \n",
    "- connections have a name\n",
    "- connections have two named components and a direction\n",
    "- connections have a health that is connected to the component that is addressed by the connection"
   ]
  },
  {
   "cell_type": "code",
   "execution_count": 10,
   "id": "c51fe9e4",
   "metadata": {},
   "outputs": [],
   "source": [
    "wire = {\n",
    "    \"type\":\"Wire\",\n",
    "    \"start\":\"PresentPowerOutputs\",\n",
    "    \"typeStart\":\"Switch\",\n",
    "    \"end\":\"PresentPowerInputs\",\n",
    "    \"typeEnd\":\"Light\",\n",
    "    \"healthpriorprobability\":0.99\n",
    "}"
   ]
  },
  {
   "cell_type": "markdown",
   "id": "97300c9f",
   "metadata": {},
   "source": [
    "### system defines assembly\n",
    "system consists of components and connections between them"
   ]
  },
  {
   "cell_type": "code",
   "execution_count": 282,
   "id": "07fc2ae7",
   "metadata": {},
   "outputs": [],
   "source": [
    "structure = {\n",
    "    \"components\": {\n",
    "        \"1\":{\n",
    "            \"name\":\"Light\",\n",
    "            \"type\":\"Light\"\n",
    "        },\n",
    "        \"2\":{\n",
    "            \"name\":\"Switch\",\n",
    "            \"type\":\"Switch\"           \n",
    "        }\n",
    "    },\n",
    "    \"connections\":{\n",
    "        \"1\":{\n",
    "            \"name\":\"Wire\",\n",
    "            \"type\":\"Wire\",\n",
    "            \"startComponent\":\"Switch\",\n",
    "            \"endComponent\":\"Light\"\n",
    "        }\n",
    "    }\n",
    "}\n",
    "\n",
    "structure2 = {\n",
    "    \"components\": {\n",
    "        \"1\":{\n",
    "            \"name\":\"Light\",\n",
    "            \"type\":\"Light\"\n",
    "        },\n",
    "        \"2\":{\n",
    "            \"name\":\"Switch\",\n",
    "            \"type\":\"Switch\"           \n",
    "        }\n",
    "    }\n",
    "}"
   ]
  },
  {
   "cell_type": "code",
   "execution_count": 283,
   "id": "b9a27426",
   "metadata": {},
   "outputs": [],
   "source": [
    "# create \"system\"\n",
    "components = [switch, light]\n",
    "connections = []\n",
    "assembly = {\n",
    "    \"components\" : components,\n",
    "    \"connections\": connections,\n",
    "    \"structure\":structure2\n",
    "}"
   ]
  },
  {
   "cell_type": "code",
   "execution_count": 284,
   "id": "ea0bda67",
   "metadata": {},
   "outputs": [],
   "source": [
    "# imports\n",
    "import os\n",
    "import matplotlib.pyplot as plt\n",
    "from pylab import *\n",
    "import pyAgrum as gum\n",
    "import pyAgrum.lib.notebook as gnb\n",
    "\n",
    "from IPython.display import display,HTML\n",
    "import re"
   ]
  },
  {
   "cell_type": "code",
   "execution_count": 285,
   "id": "eab95485",
   "metadata": {},
   "outputs": [],
   "source": [
    "# purpose: add Components from system structure to diagram\n",
    "\n",
    "# diag: pyagrum influence diagram\n",
    "# comp: specification of 1 component\n",
    "# name: name to use for component in diagram\n",
    "\n",
    "# result: nodes for 1 component added to diagram\n",
    "\n",
    "# per modality a variable is generated and added to diagram\n",
    "# arcs are created to connect inputs to output and health to output\n",
    "\n",
    "def addComponentToDiagram(diag, comp, name):\n",
    "    componentkeys = [\"Inputs\",\"Outputs\",\"Healths\"]\n",
    "    keys = comp.keys()\n",
    "    labels = []\n",
    "        \n",
    "    # read inputs, outputs and health, add named variable to diagram \n",
    "    for ckey in componentkeys:\n",
    "        if ckey in keys:  \n",
    "            for modality in comp[ckey].keys():                                             # get modalities\n",
    "                modalitylabel = comp[ckey][modality][\"modality\"]                           # get modality label\n",
    "                property = comp[ckey][modality][\"property\"]                                # get property label\n",
    "                propertyvalues = comp[ckey][modality][\"propertyvalues\"]                    # get property values\n",
    "                if(ckey == \"Healths\"):                                                     # shorter name for health\n",
    "                    label = str(property + name)\n",
    "                else:\n",
    "                    label = str(property + modalitylabel + ckey + name)                    # name variable\n",
    "                labels.append(label)\n",
    "                diag.addChanceNode(gum.LabelizedVariable(label, label, propertyvalues))    # add variable to diagram\n",
    "\n",
    "    # add arcs to connect inputs / health nodes to output within component\n",
    "    inputvars = []\n",
    "    for label in labels:\n",
    "        if(re.search(\"Inputs\", label)):\n",
    "            inputvars.append(diag.idFromName(label))\n",
    "        if(re.search(\"health\", label)):\n",
    "            hvar = diag.idFromName(label)\n",
    "        if(re.search(\"Outputs\",label)):\n",
    "            ovar = diag.idFromName(label)\n",
    "    # add arc for health to output\n",
    "    diag.addArc(hvar, ovar)\n",
    "    # add arc for every input to output\n",
    "    for v in inputvars:\n",
    "        diag.addArc(v,ovar)        "
   ]
  },
  {
   "cell_type": "code",
   "execution_count": 286,
   "id": "6320e0ef",
   "metadata": {},
   "outputs": [],
   "source": [
    "# purpose: read connection specification and connect components in diagram via arc, \n",
    "# create health for connection\n",
    "\n",
    "# diag: pyagrum influence diagram\n",
    "# name: name to use for connection in diagram\n",
    "# connection: type of connection used to find right specification for connection\n",
    "# startComponent: component from which the connection starts\n",
    "# endComponent: component that receives connection\n",
    "\n",
    "# result: connection + health for connection created in diagram\n",
    "\n",
    "def addConnectionToDiagram(diag, name, connection, startComponent, endComponent):\n",
    "    diaglabels = diag.names()\n",
    "    for label in diaglabels:\n",
    "        if(re.search(startComponent, label)):\n",
    "            if(re.search(connection['start'], label)):\n",
    "                startvar = diag.idFromName(label)\n",
    "        elif(re.search(endComponent, label)):\n",
    "            if(re.search(connection['end'], label)):\n",
    "                endvar = diag.idFromName(label)\n",
    "    diag.addArc(startvar, endvar)\n",
    "    label = str(\"health\" + name)\n",
    "    hvar = diag.addChanceNode(gum.LabelizedVariable(label,label,[\"ok\",\"broken\"]))\n",
    "    diag.addArc(hvar, endvar)"
   ]
  },
  {
   "cell_type": "code",
   "execution_count": 287,
   "id": "cfa04d67",
   "metadata": {},
   "outputs": [],
   "source": [
    "# find the right dict in set of elements (components or connections) by searching typename\n",
    "def getDictByType(elementType, elementSet):\n",
    "    for c in elementSet:\n",
    "        if(c[\"type\"] == elementType):\n",
    "            return c"
   ]
  },
  {
   "cell_type": "code",
   "execution_count": 288,
   "id": "a0c6bd45",
   "metadata": {},
   "outputs": [],
   "source": [
    "# disassemble system, read systemstructure and add components + connections to diagram\n",
    "def buildDiagram(diag, assembly):\n",
    "    systemstructure = assembly[\"structure\"]\n",
    "    components = assembly[\"components\"]\n",
    "    connections = assembly[\"connections\"]\n",
    "\n",
    "    # loop sets (connections, components) in assembly structure\n",
    "    for set, elements in systemstructure.items():\n",
    "\n",
    "        # add components from structure to diagram\n",
    "        if(set ==\"components\"):\n",
    "            for n, value in elements.items():\n",
    "                addComponentToDiagram(diag, getDictByType(value[\"type\"], components) ,value['name'])\n",
    "\n",
    "        #add connections from structure to diagram\n",
    "        if(set ==\"connections\"):\n",
    "            for n, connection in elements.items():\n",
    "                connectionType = getDictByType(connection[\"type\"], connections)\n",
    "                startComponent = connection[\"startComponent\"]\n",
    "                endComponent = connection[\"endComponent\"]\n",
    "                connectionName = connection[\"name\"]\n",
    "                addConnectionToDiagram(diag,connectionName, connectionType, startComponent, endComponent)\n"
   ]
  },
  {
   "cell_type": "code",
   "execution_count": 289,
   "id": "8065e531",
   "metadata": {
    "scrolled": true
   },
   "outputs": [
    {
     "data": {
      "text/html": [
       "<style>.container { width:60% !important; }</style>"
      ],
      "text/plain": [
       "<IPython.core.display.HTML object>"
      ]
     },
     "metadata": {},
     "output_type": "display_data"
    },
    {
     "name": "stdout",
     "output_type": "stream",
     "text": [
      "Influence Diagram{\n",
      "  chance: 7,\n",
      "  utility: 0,\n",
      "  decision: 0,\n",
      "  arcs: 5,\n",
      "  domainSize: 128\n",
      "}\n"
     ]
    },
    {
     "data": {
      "image/svg+xml": [
       "<svg xmlns=\"http://www.w3.org/2000/svg\" xmlns:xlink=\"http://www.w3.org/1999/xlink\" width=\"1236pt\" height=\"126pt\" viewBox=\"0.00 0.00 1236.37 126.02\">\n",
       "<g id=\"graph0\" class=\"graph\" transform=\"scale(1 1) rotate(0) translate(4 122.02)\">\n",
       "<title>G</title>\n",
       "<!-- PresentPowerInputsLight -->\n",
       "<g id=\"node1\" class=\"node\">\n",
       "<title>PresentPowerInputsLight</title>\n",
       "<ellipse fill=\"#808080\" stroke=\"black\" cx=\"140.01\" cy=\"-97.52\" rx=\"140.01\" ry=\"20.51\"/>\n",
       "<text text-anchor=\"middle\" x=\"140.01\" y=\"-93.82\" font-family=\"Times,serif\" font-size=\"14.00\" fill=\"white\">PresentPowerInputsLight</text>\n",
       "</g>\n",
       "<!-- PresentLightOutputsLight -->\n",
       "<g id=\"node2\" class=\"node\">\n",
       "<title>PresentLightOutputsLight</title>\n",
       "<ellipse fill=\"#808080\" stroke=\"black\" cx=\"254.01\" cy=\"-20.51\" rx=\"143.59\" ry=\"20.51\"/>\n",
       "<text text-anchor=\"middle\" x=\"254.01\" y=\"-16.81\" font-family=\"Times,serif\" font-size=\"14.00\" fill=\"white\">PresentLightOutputsLight</text>\n",
       "</g>\n",
       "<!-- PresentPowerInputsLight&#45;&gt;PresentLightOutputsLight -->\n",
       "<g id=\"edge1\" class=\"edge\">\n",
       "<title>PresentPowerInputsLight-&gt;PresentLightOutputsLight</title>\n",
       "<path fill=\"none\" stroke=\"black\" d=\"M169.07,-77.4C183.41,-67.96 200.88,-56.47 216.24,-46.36\"/>\n",
       "<polygon fill=\"black\" stroke=\"black\" points=\"218.57,-49.01 225,-40.59 214.72,-43.17 218.57,-49.01\"/>\n",
       "</g>\n",
       "<!-- healthLight -->\n",
       "<g id=\"node3\" class=\"node\">\n",
       "<title>healthLight</title>\n",
       "<ellipse fill=\"#808080\" stroke=\"black\" cx=\"367.01\" cy=\"-97.52\" rx=\"68.68\" ry=\"20.51\"/>\n",
       "<text text-anchor=\"middle\" x=\"367.01\" y=\"-93.82\" font-family=\"Times,serif\" font-size=\"14.00\" fill=\"white\">healthLight</text>\n",
       "</g>\n",
       "<!-- healthLight&#45;&gt;PresentLightOutputsLight -->\n",
       "<g id=\"edge2\" class=\"edge\">\n",
       "<title>healthLight-&gt;PresentLightOutputsLight</title>\n",
       "<path fill=\"none\" stroke=\"black\" d=\"M339.94,-78.55C325.4,-68.9 307.24,-56.85 291.37,-46.31\"/>\n",
       "<polygon fill=\"black\" stroke=\"black\" points=\"293.1,-43.25 282.83,-40.64 289.22,-49.08 293.1,-43.25\"/>\n",
       "</g>\n",
       "<!-- PresentPowerInputsSwitch -->\n",
       "<g id=\"node4\" class=\"node\">\n",
       "<title>PresentPowerInputsSwitch</title>\n",
       "<ellipse fill=\"#808080\" stroke=\"black\" cx=\"601.01\" cy=\"-97.52\" rx=\"147.57\" ry=\"20.51\"/>\n",
       "<text text-anchor=\"middle\" x=\"601.01\" y=\"-93.82\" font-family=\"Times,serif\" font-size=\"14.00\" fill=\"white\">PresentPowerInputsSwitch</text>\n",
       "</g>\n",
       "<!-- PresentPowerOutputsSwitch -->\n",
       "<g id=\"node6\" class=\"node\">\n",
       "<title>PresentPowerOutputsSwitch</title>\n",
       "<ellipse fill=\"#808080\" stroke=\"black\" cx=\"912.01\" cy=\"-20.51\" rx=\"156.04\" ry=\"20.51\"/>\n",
       "<text text-anchor=\"middle\" x=\"912.01\" y=\"-16.81\" font-family=\"Times,serif\" font-size=\"14.00\" fill=\"white\">PresentPowerOutputsSwitch</text>\n",
       "</g>\n",
       "<!-- PresentPowerInputsSwitch&#45;&gt;PresentPowerOutputsSwitch -->\n",
       "<g id=\"edge3\" class=\"edge\">\n",
       "<title>PresentPowerInputsSwitch-&gt;PresentPowerOutputsSwitch</title>\n",
       "<path fill=\"none\" stroke=\"black\" d=\"M671.58,-79.5C718.78,-68.11 781.03,-53.1 830.37,-41.2\"/>\n",
       "<polygon fill=\"black\" stroke=\"black\" points=\"831.47,-44.53 840.37,-38.78 829.83,-37.73 831.47,-44.53\"/>\n",
       "</g>\n",
       "<!-- EnabledStateInputsSwitch -->\n",
       "<g id=\"node5\" class=\"node\">\n",
       "<title>EnabledStateInputsSwitch</title>\n",
       "<ellipse fill=\"#808080\" stroke=\"black\" cx=\"912.01\" cy=\"-97.52\" rx=\"145.83\" ry=\"20.51\"/>\n",
       "<text text-anchor=\"middle\" x=\"912.01\" y=\"-93.82\" font-family=\"Times,serif\" font-size=\"14.00\" fill=\"white\">EnabledStateInputsSwitch</text>\n",
       "</g>\n",
       "<!-- EnabledStateInputsSwitch&#45;&gt;PresentPowerOutputsSwitch -->\n",
       "<g id=\"edge4\" class=\"edge\">\n",
       "<title>EnabledStateInputsSwitch-&gt;PresentPowerOutputsSwitch</title>\n",
       "<path fill=\"none\" stroke=\"black\" d=\"M912.01,-76.81C912.01,-68.97 912.01,-59.78 912.01,-51.17\"/>\n",
       "<polygon fill=\"black\" stroke=\"black\" points=\"915.51,-51.08 912.01,-41.08 908.51,-51.08 915.51,-51.08\"/>\n",
       "</g>\n",
       "<!-- healthSwitch -->\n",
       "<g id=\"node7\" class=\"node\">\n",
       "<title>healthSwitch</title>\n",
       "<ellipse fill=\"#808080\" stroke=\"black\" cx=\"1152.01\" cy=\"-97.52\" rx=\"76.24\" ry=\"20.51\"/>\n",
       "<text text-anchor=\"middle\" x=\"1152.01\" y=\"-93.82\" font-family=\"Times,serif\" font-size=\"14.00\" fill=\"white\">healthSwitch</text>\n",
       "</g>\n",
       "<!-- healthSwitch&#45;&gt;PresentPowerOutputsSwitch -->\n",
       "<g id=\"edge5\" class=\"edge\">\n",
       "<title>healthSwitch-&gt;PresentPowerOutputsSwitch</title>\n",
       "<path fill=\"none\" stroke=\"black\" d=\"M1104.02,-81.52C1068.38,-70.38 1019.3,-55.04 979.68,-42.66\"/>\n",
       "<polygon fill=\"black\" stroke=\"black\" points=\"980.67,-39.3 970.08,-39.66 978.58,-45.98 980.67,-39.3\"/>\n",
       "</g>\n",
       "</g>\n",
       "</svg>"
      ],
      "text/plain": [
       "<IPython.core.display.SVG object>"
      ]
     },
     "metadata": {},
     "output_type": "display_data"
    }
   ],
   "source": [
    "from IPython.display import display, HTML\n",
    "display(HTML(\"<style>.container { width:60% !important; }</style>\"))\n",
    "\n",
    "# create diagram\n",
    "diagram = gum.InfluenceDiagram()\n",
    "\n",
    "# read structure, add to diagram\n",
    "buildDiagram(diagram, assembly)\n",
    "\n",
    "# print summary of nodes\n",
    "print(diagram)\n",
    "\n",
    "# view structure\n",
    "gnb.showInfluenceDiagram(diagram, size=60)"
   ]
  },
  {
   "cell_type": "code",
   "execution_count": null,
   "id": "30f3e754",
   "metadata": {},
   "outputs": [],
   "source": []
  },
  {
   "cell_type": "code",
   "execution_count": null,
   "id": "a64bf5a6",
   "metadata": {},
   "outputs": [],
   "source": []
  },
  {
   "cell_type": "markdown",
   "id": "fcc37d73",
   "metadata": {},
   "source": [
    "todo's:\n",
    "\n",
    "- determine components in diagram: switch, switch1 etc\n",
    "\n",
    "Health en Inputs\n",
    "- set priors van health, dit zijn altijd nodes zonder parent\n",
    "- set priors van inputs, dit zijn ook nodes zonder parent, alternatieven:\n",
    "  - eigen prior\n",
    "  - afleiden uit behaviorstates, kans is 1 -/- failurekansen\n",
    "  - een setting \"expected\"\n",
    "\n",
    "Outputs\n",
    "- behaviorstates definieren wat normaal is of niet voor hele component, de relatie tussen input / health en output is deterministic en dus 0 of 1, zie par 5.2.3\n",
    "bijv normal1 voor switch is power in yes / enabled yes > power uit yes\n",
    "- indien broken dan kans op NO is 1\n",
    "- indien switch uit dan kans op NO is 1\n",
    "\n",
    "connecties\n",
    "- hoe doe je dat bij connecties, de input krijgt er een parent en een health bij\n",
    "\n",
    " "
   ]
  },
  {
   "cell_type": "code",
   "execution_count": 301,
   "id": "df0a703f",
   "metadata": {},
   "outputs": [
    {
     "data": {
      "text/html": [
       "<table style=\"border:1px solid black;\">\n",
       "<tr><th colspan='3'></th>\n",
       "      <th colspan='2' style='border:1px solid black;color:black;background-color:#808080;'><center>PresentPowerOutputsSwitch</center>\n",
       "      </th></tr>\n",
       "<tr><th style='border:1px solid black;color:black;background-color:#808080'><center>EnabledStateInputsSwitch</center></th><th style='border:1px solid black;color:black;background-color:#808080'><center>PresentPowerInputsSwitch</center></th><th style='border:1px solid black;color:black;background-color:#808080'><center>healthSwitch</center></th><th style='border:1px solid black;border-bottom-style: double;color:black;background-color:#BBBBBB'>\n",
       "      <center>yes</center></th><th style='border:1px solid black;border-bottom-style: double;color:black;background-color:#BBBBBB'>\n",
       "      <center>no</center></th></tr>\n",
       "<tr><th style='border:1px solid black;color:black;background-color:#BBBBBB;' rowspan = '4'>\n",
       "            <center>yes</center></th><th style='border:1px solid black;color:black;background-color:#BBBBBB;' rowspan = '2'>\n",
       "            <center>yes</center></th><th style='border:1px solid black;color:black;background-color:#BBBBBB'><center>ok</center></th><td style='text-align:right;'>0.0000</td><td style='text-align:right;'>0.0000</td></tr>\n",
       "<tr><th style='border:1px solid black;color:black;background-color:#BBBBBB'><center>broken</center></th><td style='text-align:right;'>0.0000</td><td style='text-align:right;'>0.0000</td></tr>\n",
       "<tr><th style='border:1px solid black;color:black;background-color:#BBBBBB;' rowspan = '2'>\n",
       "            <center>no</center></th><th style='border:1px solid black;color:black;background-color:#BBBBBB'><center>ok</center></th><td style='text-align:right;'>0.0000</td><td style='text-align:right;'>0.0000</td></tr>\n",
       "<tr><th style='border:1px solid black;color:black;background-color:#BBBBBB'><center>broken</center></th><td style='text-align:right;'>0.0000</td><td style='text-align:right;'>0.0000</td></tr>\n",
       "<tr><th style='border:1px solid black;color:black;background-color:#BBBBBB;' rowspan = '4'>\n",
       "            <center>no</center></th><th style='border:1px solid black;color:black;background-color:#BBBBBB;' rowspan = '2'>\n",
       "            <center>yes</center></th><th style='border:1px solid black;color:black;background-color:#BBBBBB'><center>ok</center></th><td style='text-align:right;'>0.0000</td><td style='text-align:right;'>0.0000</td></tr>\n",
       "<tr><th style='border:1px solid black;color:black;background-color:#BBBBBB'><center>broken</center></th><td style='text-align:right;'>0.0000</td><td style='text-align:right;'>0.0000</td></tr>\n",
       "<tr><th style='border:1px solid black;color:black;background-color:#BBBBBB;' rowspan = '2'>\n",
       "            <center>no</center></th><th style='border:1px solid black;color:black;background-color:#BBBBBB'><center>ok</center></th><td style='text-align:right;'>0.0000</td><td style='text-align:right;'>0.0000</td></tr>\n",
       "<tr><th style='border:1px solid black;color:black;background-color:#BBBBBB'><center>broken</center></th><td style='text-align:right;'>0.0000</td><td style='text-align:right;'>0.0000</td></tr>\n",
       "</table>"
      ],
      "text/plain": [
       "(pyAgrum.Potential<double>@0x1ed1a8a0) \n",
       "                    ||  PresentPowerOutpu|\n",
       "health|Presen|Enable||yes      |no       |\n",
       "------|------|------||---------|---------|\n",
       "ok    |yes   |yes   || 0.0000  | 0.0000  |\n",
       "broken|yes   |yes   || 0.0000  | 0.0000  |\n",
       "ok    |no    |yes   || 0.0000  | 0.0000  |\n",
       "broken|no    |yes   || 0.0000  | 0.0000  |\n",
       "ok    |yes   |no    || 0.0000  | 0.0000  |\n",
       "broken|yes   |no    || 0.0000  | 0.0000  |\n",
       "ok    |no    |no    || 0.0000  | 0.0000  |\n",
       "broken|no    |no    || 0.0000  | 0.0000  |"
      ]
     },
     "execution_count": 301,
     "metadata": {},
     "output_type": "execute_result"
    }
   ],
   "source": [
    "id2 = diagram.idFromName(\"PresentPowerOutputsSwitch\")\n",
    "diagram.cpt(id2)"
   ]
  },
  {
   "cell_type": "code",
   "execution_count": null,
   "id": "933cdb57",
   "metadata": {},
   "outputs": [],
   "source": []
  },
  {
   "cell_type": "code",
   "execution_count": 258,
   "id": "498a2b5e",
   "metadata": {},
   "outputs": [],
   "source": [
    "probabilities = {\n",
    "\"PresentPowerInputsLight:yes|PresentPowerOutputsSwitch:yes|healthWire:ok\":0.2,\n",
    "\"PresentPowerInputsLight:no|PresentPowerOutputsSwitch:yes|healthWire:ok\":0.3,\n",
    "\"PresentPowerInputsLight:yes|PresentPowerOutputsSwitch:no|healthWire:ok\":0.4,\n",
    "\"PresentPowerInputsLight:no|PresentPowerOutputsSwitch:no|healthWire:ok\":0.5,\n",
    "\"PresentPowerInputsLight:yes|PresentPowerOutputsSwitch:yes|healthWire:broken\":0.6,\n",
    "\"PresentPowerInputsLight:no|PresentPowerOutputsSwitch:yes|healthWire:broken\":0.7,\n",
    "\"PresentPowerInputsLight:yes|PresentPowerOutputsSwitch:no|healthWire:broken\":0.8,\n",
    "\"PresentPowerInputsLight:no|PresentPowerOutputsSwitch:no|healthWire:broken\":0.9\n",
    "}\n",
    "\n",
    "probabilities2 = {\n",
    "    \"order\": (\"PresentPowerInputsLight\", \"PresentPowerOutputsSwitch\", \"healthWire\"),\n",
    "    \"yes:yes:ok\":0.9,\n",
    "    \"no:yes:ok\":0.8,\n",
    "    \"yes:no:ok\":0.7,\n",
    "    \"no:no:ok\":0.6,\n",
    "    \"yes:yes:broken\":0.5,\n",
    "    \"no:yes:broken\":0.4,\n",
    "    \"yes:no:broken\":0.3,\n",
    "    \"no:no:broken\":0.2\n",
    "}"
   ]
  },
  {
   "cell_type": "code",
   "execution_count": 236,
   "id": "07d8977a",
   "metadata": {},
   "outputs": [
    {
     "data": {
      "text/html": [
       "<table style=\"border:1px solid black;\">\n",
       "<tr><th colspan='2'></th>\n",
       "      <th colspan='2' style='border:1px solid black;color:black;background-color:#808080;'><center>PresentPowerInputsLight</center>\n",
       "      </th></tr>\n",
       "<tr><th style='border:1px solid black;color:black;background-color:#808080'><center>healthWire</center></th><th style='border:1px solid black;color:black;background-color:#808080'><center>PresentPowerOutputsSwitch</center></th><th style='border:1px solid black;border-bottom-style: double;color:black;background-color:#BBBBBB'>\n",
       "      <center>yes</center></th><th style='border:1px solid black;border-bottom-style: double;color:black;background-color:#BBBBBB'>\n",
       "      <center>no</center></th></tr>\n",
       "<tr><th style='border:1px solid black;color:black;background-color:#BBBBBB;' rowspan = '2'>\n",
       "            <center>ok</center></th><th style='border:1px solid black;color:black;background-color:#BBBBBB'><center>yes</center></th><td style='text-align:right;'>0.2000</td><td style='text-align:right;'>0.3000</td></tr>\n",
       "<tr><th style='border:1px solid black;color:black;background-color:#BBBBBB'><center>no</center></th><td style='text-align:right;'>0.4000</td><td style='text-align:right;'>0.5000</td></tr>\n",
       "<tr><th style='border:1px solid black;color:black;background-color:#BBBBBB;' rowspan = '2'>\n",
       "            <center>broken</center></th><th style='border:1px solid black;color:black;background-color:#BBBBBB'><center>yes</center></th><td style='text-align:right;'>0.6000</td><td style='text-align:right;'>0.7000</td></tr>\n",
       "<tr><th style='border:1px solid black;color:black;background-color:#BBBBBB'><center>no</center></th><td style='text-align:right;'>0.8000</td><td style='text-align:right;'>0.9000</td></tr>\n",
       "</table>"
      ],
      "text/plain": [
       "(pyAgrum.Potential<double>@0x1fc22cb0) \n",
       "             ||  PresentPowerInput|\n",
       "Presen|health||yes      |no       |\n",
       "------|------||---------|---------|\n",
       "yes   |ok    || 0.2000  | 0.3000  |\n",
       "no    |ok    || 0.4000  | 0.5000  |\n",
       "yes   |broken|| 0.6000  | 0.7000  |\n",
       "no    |broken|| 0.8000  | 0.9000  |"
      ]
     },
     "execution_count": 236,
     "metadata": {},
     "output_type": "execute_result"
    }
   ],
   "source": [
    "id1 = diagram.idFromName(\"PresentPowerInputsLight\")\n",
    "for i in diagram.cpt(id1).loopIn():\n",
    "    d = i.todict()\n",
    "    s = \"\"\n",
    "    for k, v in d.items():\n",
    "        s = s + k + \":\" + v + \"|\"\n",
    "    c = probabilities[s[:-1]]\n",
    "    diagram.cpt(id1).set(i,c)\n",
    "diagram.cpt(id1)\n",
    "    "
   ]
  },
  {
   "cell_type": "code",
   "execution_count": 259,
   "id": "1344b221",
   "metadata": {},
   "outputs": [
    {
     "data": {
      "text/html": [
       "<table style=\"border:1px solid black;\">\n",
       "<tr><th colspan='2'></th>\n",
       "      <th colspan='2' style='border:1px solid black;color:black;background-color:#808080;'><center>PresentPowerInputsLight</center>\n",
       "      </th></tr>\n",
       "<tr><th style='border:1px solid black;color:black;background-color:#808080'><center>healthWire</center></th><th style='border:1px solid black;color:black;background-color:#808080'><center>PresentPowerOutputsSwitch</center></th><th style='border:1px solid black;border-bottom-style: double;color:black;background-color:#BBBBBB'>\n",
       "      <center>yes</center></th><th style='border:1px solid black;border-bottom-style: double;color:black;background-color:#BBBBBB'>\n",
       "      <center>no</center></th></tr>\n",
       "<tr><th style='border:1px solid black;color:black;background-color:#BBBBBB;' rowspan = '2'>\n",
       "            <center>ok</center></th><th style='border:1px solid black;color:black;background-color:#BBBBBB'><center>yes</center></th><td style='text-align:right;'>0.9000</td><td style='text-align:right;'>0.8000</td></tr>\n",
       "<tr><th style='border:1px solid black;color:black;background-color:#BBBBBB'><center>no</center></th><td style='text-align:right;'>0.7000</td><td style='text-align:right;'>0.6000</td></tr>\n",
       "<tr><th style='border:1px solid black;color:black;background-color:#BBBBBB;' rowspan = '2'>\n",
       "            <center>broken</center></th><th style='border:1px solid black;color:black;background-color:#BBBBBB'><center>yes</center></th><td style='text-align:right;'>0.5000</td><td style='text-align:right;'>0.4000</td></tr>\n",
       "<tr><th style='border:1px solid black;color:black;background-color:#BBBBBB'><center>no</center></th><td style='text-align:right;'>0.3000</td><td style='text-align:right;'>0.2000</td></tr>\n",
       "</table>"
      ],
      "text/plain": [
       "(pyAgrum.Potential<double>@0x1fc22cb0) \n",
       "             ||  PresentPowerInput|\n",
       "Presen|health||yes      |no       |\n",
       "------|------||---------|---------|\n",
       "yes   |ok    || 0.9000  | 0.8000  |\n",
       "no    |ok    || 0.7000  | 0.6000  |\n",
       "yes   |broken|| 0.5000  | 0.4000  |\n",
       "no    |broken|| 0.3000  | 0.2000  |"
      ]
     },
     "execution_count": 259,
     "metadata": {},
     "output_type": "execute_result"
    }
   ],
   "source": [
    "id1 = diagram.idFromName(\"PresentPowerInputsLight\")\n",
    "names = diagram.cpt(id1).names\n",
    "cptlist = []\n",
    "if (names == probabilities2[\"order\"]):\n",
    "    for k, v in probabilities2.items():\n",
    "        if (k != \"order\"):\n",
    "            cptlist.append(v)\n",
    "diagram.cpt(id1).fillWith(cptlist)\n",
    "diagram.cpt(id1)\n",
    "            \n",
    "\n",
    "\n"
   ]
  },
  {
   "cell_type": "code",
   "execution_count": null,
   "id": "1f5ad0ca",
   "metadata": {},
   "outputs": [],
   "source": []
  },
  {
   "cell_type": "code",
   "execution_count": null,
   "id": "ce264180",
   "metadata": {},
   "outputs": [],
   "source": []
  },
  {
   "cell_type": "code",
   "execution_count": null,
   "id": "787a4b49",
   "metadata": {},
   "outputs": [],
   "source": []
  },
  {
   "cell_type": "code",
   "execution_count": null,
   "id": "b8138bba",
   "metadata": {},
   "outputs": [],
   "source": []
  },
  {
   "cell_type": "code",
   "execution_count": 193,
   "id": "512d3933",
   "metadata": {},
   "outputs": [],
   "source": [
    "labvar = gum.LabelizedVariable(\"healthWire\", \"healthWire\",[\"ok\",\"broken\"])"
   ]
  },
  {
   "cell_type": "code",
   "execution_count": 200,
   "id": "a6187cd8",
   "metadata": {},
   "outputs": [
    {
     "name": "stdout",
     "output_type": "stream",
     "text": [
      "<healthWire:ok>\n"
     ]
    }
   ],
   "source": [
    "i = gum.Instantiation()\n",
    "i.add(labvar)\n",
    "i.fromdict({'healthWire': 'ok'})\n",
    "print(i)"
   ]
  },
  {
   "cell_type": "code",
   "execution_count": 201,
   "id": "f12c89c9",
   "metadata": {},
   "outputs": [
    {
     "ename": "InvalidArgument",
     "evalue": "[pyAgrum] Invalid argument: healthWire not present in the instantiation <healthWire:ok>",
     "output_type": "error",
     "traceback": [
      "\u001b[0;31m---------------------------------------------------------------------------\u001b[0m",
      "\u001b[0;31mInvalidArgument\u001b[0m                           Traceback (most recent call last)",
      "Cell \u001b[0;32mIn[201], line 1\u001b[0m\n\u001b[0;32m----> 1\u001b[0m diagram\u001b[38;5;241m.\u001b[39mcpt(id1)\u001b[38;5;241m.\u001b[39mget(i)\n",
      "File \u001b[0;32m~/.local/lib/python3.11/site-packages/pyAgrum/pyAgrum.py:9433\u001b[0m, in \u001b[0;36mPotential.get\u001b[0;34m(self, i)\u001b[0m\n\u001b[1;32m   9419\u001b[0m \u001b[38;5;28;01mdef\u001b[39;00m \u001b[38;5;21mget\u001b[39m(\u001b[38;5;28mself\u001b[39m, i: \u001b[38;5;124m\"\u001b[39m\u001b[38;5;124mInstantiation\u001b[39m\u001b[38;5;124m\"\u001b[39m) \u001b[38;5;241m-\u001b[39m\u001b[38;5;241m>\u001b[39m \u001b[38;5;28mfloat\u001b[39m:\n\u001b[1;32m   9420\u001b[0m \u001b[38;5;250m    \u001b[39m\u001b[38;5;124mr\u001b[39m\u001b[38;5;124;03m\"\"\"\u001b[39;00m\n\u001b[1;32m   9421\u001b[0m \n\u001b[1;32m   9422\u001b[0m \u001b[38;5;124;03m    Parameters\u001b[39;00m\n\u001b[0;32m   (...)\u001b[0m\n\u001b[1;32m   9431\u001b[0m \n\u001b[1;32m   9432\u001b[0m \u001b[38;5;124;03m    \"\"\"\u001b[39;00m\n\u001b[0;32m-> 9433\u001b[0m     \u001b[38;5;28;01mreturn\u001b[39;00m _pyAgrum\u001b[38;5;241m.\u001b[39mPotential_get(\u001b[38;5;28mself\u001b[39m, i)\n",
      "\u001b[0;31mInvalidArgument\u001b[0m: [pyAgrum] Invalid argument: healthWire not present in the instantiation <healthWire:ok>"
     ]
    }
   ],
   "source": [
    "diagram.cpt(id1).get(i)"
   ]
  },
  {
   "cell_type": "code",
   "execution_count": 198,
   "id": "bf956283",
   "metadata": {},
   "outputs": [
    {
     "data": {
      "text/plain": [
       "{'healthWire': 'ok'}"
      ]
     },
     "execution_count": 198,
     "metadata": {},
     "output_type": "execute_result"
    }
   ],
   "source": [
    "l = []\n",
    "\n",
    "for i in diagram.cpt(id1).loopIn():\n",
    "#    print(i)\n",
    "    l.append(i)\n",
    "    \n",
    "l[0].todict()"
   ]
  },
  {
   "cell_type": "code",
   "execution_count": null,
   "id": "5a176994",
   "metadata": {},
   "outputs": [],
   "source": []
  },
  {
   "cell_type": "code",
   "execution_count": null,
   "id": "6cb5e16c",
   "metadata": {},
   "outputs": [],
   "source": []
  },
  {
   "cell_type": "code",
   "execution_count": null,
   "id": "ba43fdfb",
   "metadata": {},
   "outputs": [],
   "source": []
  },
  {
   "cell_type": "code",
   "execution_count": null,
   "id": "bea3d705",
   "metadata": {},
   "outputs": [],
   "source": []
  },
  {
   "cell_type": "code",
   "execution_count": 113,
   "id": "3fb2763f",
   "metadata": {},
   "outputs": [
    {
     "data": {
      "text/plain": [
       "('PresentPowerOutputsSwitch',\n",
       " 'healthSwitch',\n",
       " 'PresentPowerInputsSwitch',\n",
       " 'EnabledStateInputsSwitch')"
      ]
     },
     "execution_count": 113,
     "metadata": {},
     "output_type": "execute_result"
    }
   ],
   "source": [
    "values = [0.1,0.2,0.3,0.4,0.5,0.6,0.7,0.8,0.9,0.11,0.12,0.13,0.14,0.15,0.16,0.17]\n",
    "diagram.cpt(id1).names\n"
   ]
  },
  {
   "cell_type": "code",
   "execution_count": 114,
   "id": "fb372a11",
   "metadata": {},
   "outputs": [
    {
     "data": {
      "text/html": [
       "<table style=\"border:1px solid black;\">\n",
       "<tr><th colspan='3'></th>\n",
       "      <th colspan='2' style='border:1px solid black;color:black;background-color:#808080;'><center>PresentPowerOutputsSwitch</center>\n",
       "      </th></tr>\n",
       "<tr><th style='border:1px solid black;color:black;background-color:#808080'><center>EnabledStateInputsSwitch</center></th><th style='border:1px solid black;color:black;background-color:#808080'><center>PresentPowerInputsSwitch</center></th><th style='border:1px solid black;color:black;background-color:#808080'><center>healthSwitch</center></th><th style='border:1px solid black;border-bottom-style: double;color:black;background-color:#BBBBBB'>\n",
       "      <center>yes</center></th><th style='border:1px solid black;border-bottom-style: double;color:black;background-color:#BBBBBB'>\n",
       "      <center>no</center></th></tr>\n",
       "<tr><th style='border:1px solid black;color:black;background-color:#BBBBBB;' rowspan = '4'>\n",
       "            <center>yes</center></th><th style='border:1px solid black;color:black;background-color:#BBBBBB;' rowspan = '2'>\n",
       "            <center>yes</center></th><th style='border:1px solid black;color:black;background-color:#BBBBBB'><center>ok</center></th><td style='text-align:right;'>0.1000</td><td style='text-align:right;'>0.2000</td></tr>\n",
       "<tr><th style='border:1px solid black;color:black;background-color:#BBBBBB'><center>broken</center></th><td style='text-align:right;'>0.3000</td><td style='text-align:right;'>0.4000</td></tr>\n",
       "<tr><th style='border:1px solid black;color:black;background-color:#BBBBBB;' rowspan = '2'>\n",
       "            <center>no</center></th><th style='border:1px solid black;color:black;background-color:#BBBBBB'><center>ok</center></th><td style='text-align:right;'>0.5000</td><td style='text-align:right;'>0.6000</td></tr>\n",
       "<tr><th style='border:1px solid black;color:black;background-color:#BBBBBB'><center>broken</center></th><td style='text-align:right;'>0.7000</td><td style='text-align:right;'>0.8000</td></tr>\n",
       "<tr><th style='border:1px solid black;color:black;background-color:#BBBBBB;' rowspan = '4'>\n",
       "            <center>no</center></th><th style='border:1px solid black;color:black;background-color:#BBBBBB;' rowspan = '2'>\n",
       "            <center>yes</center></th><th style='border:1px solid black;color:black;background-color:#BBBBBB'><center>ok</center></th><td style='text-align:right;'>0.9000</td><td style='text-align:right;'>0.1100</td></tr>\n",
       "<tr><th style='border:1px solid black;color:black;background-color:#BBBBBB'><center>broken</center></th><td style='text-align:right;'>0.1200</td><td style='text-align:right;'>0.1300</td></tr>\n",
       "<tr><th style='border:1px solid black;color:black;background-color:#BBBBBB;' rowspan = '2'>\n",
       "            <center>no</center></th><th style='border:1px solid black;color:black;background-color:#BBBBBB'><center>ok</center></th><td style='text-align:right;'>0.1400</td><td style='text-align:right;'>0.1500</td></tr>\n",
       "<tr><th style='border:1px solid black;color:black;background-color:#BBBBBB'><center>broken</center></th><td style='text-align:right;'>0.1600</td><td style='text-align:right;'>0.1700</td></tr>\n",
       "</table>"
      ],
      "text/plain": [
       "(pyAgrum.Potential<double>@0x1fbe0140) \n",
       "                    ||  PresentPowerOutpu|\n",
       "health|Presen|Enable||yes      |no       |\n",
       "------|------|------||---------|---------|\n",
       "ok    |yes   |yes   || 0.1000  | 0.2000  |\n",
       "broken|yes   |yes   || 0.3000  | 0.4000  |\n",
       "ok    |no    |yes   || 0.5000  | 0.6000  |\n",
       "broken|no    |yes   || 0.7000  | 0.8000  |\n",
       "ok    |yes   |no    || 0.9000  | 0.1100  |\n",
       "broken|yes   |no    || 0.1200  | 0.1300  |\n",
       "ok    |no    |no    || 0.1400  | 0.1500  |\n",
       "broken|no    |no    || 0.1600  | 0.1700  |"
      ]
     },
     "execution_count": 114,
     "metadata": {},
     "output_type": "execute_result"
    }
   ],
   "source": [
    "diagram.cpt(id1).fillWith(values)"
   ]
  },
  {
   "cell_type": "code",
   "execution_count": null,
   "id": "d28c0d0c",
   "metadata": {},
   "outputs": [],
   "source": []
  },
  {
   "cell_type": "code",
   "execution_count": 119,
   "id": "0bfaba4b",
   "metadata": {},
   "outputs": [
    {
     "name": "stdout",
     "output_type": "stream",
     "text": [
      "\n",
      "             ||  A                          |\n",
      "B     |C     ||1        |2        |3        |\n",
      "------|------||---------|---------|---------|\n",
      "1     |1     || 1.0000  | 2.0000  | 3.0000  |\n",
      "2     |1     || 4.0000  | 5.0000  | 6.0000  |\n",
      "1     |2     || 7.0000  | 8.0000  | 9.0000  |\n",
      "2     |2     || 10.0000 | 11.0000 | 12.0000 |\n",
      "\n"
     ]
    }
   ],
   "source": [
    "a = gum.RangeVariable(\"A\",\"variable A\", 1, 3)\n",
    "b = gum.RangeVariable(\"B\",\"variable B\", 1, 2)\n",
    "c = gum.RangeVariable(\"C\",\"variable C\", 1, 2)\n",
    "\n",
    "p = gum.Potential().add(a).add(b).add(c).fillWith([1,2,3,4,5,6,7,8,9,10,11,12])\n",
    "print(p)"
   ]
  },
  {
   "cell_type": "code",
   "execution_count": 149,
   "id": "58f1febd",
   "metadata": {},
   "outputs": [
    {
     "name": "stdout",
     "output_type": "stream",
     "text": [
      "<class 'pyAgrum.pyAgrum.Instantiation'>\n",
      "<class 'pyAgrum.pyAgrum.Instantiation'>\n",
      "<class 'pyAgrum.pyAgrum.Instantiation'>\n",
      "<class 'pyAgrum.pyAgrum.Instantiation'>\n",
      "<class 'pyAgrum.pyAgrum.Instantiation'>\n",
      "<class 'pyAgrum.pyAgrum.Instantiation'>\n",
      "<class 'pyAgrum.pyAgrum.Instantiation'>\n",
      "<class 'pyAgrum.pyAgrum.Instantiation'>\n",
      "<class 'pyAgrum.pyAgrum.Instantiation'>\n",
      "<class 'pyAgrum.pyAgrum.Instantiation'>\n",
      "<class 'pyAgrum.pyAgrum.Instantiation'>\n",
      "<class 'pyAgrum.pyAgrum.Instantiation'>\n"
     ]
    }
   ],
   "source": [
    "for i in p.loopIn():\n",
    "    print(type(i))"
   ]
  }
 ],
 "metadata": {
  "kernelspec": {
   "display_name": "Python 3 (ipykernel)",
   "language": "python",
   "name": "python3"
  },
  "language_info": {
   "codemirror_mode": {
    "name": "ipython",
    "version": 3
   },
   "file_extension": ".py",
   "mimetype": "text/x-python",
   "name": "python",
   "nbconvert_exporter": "python",
   "pygments_lexer": "ipython3",
   "version": "3.11.3"
  }
 },
 "nbformat": 4,
 "nbformat_minor": 5
}
