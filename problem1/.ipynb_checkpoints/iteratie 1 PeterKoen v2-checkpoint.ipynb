{
 "cells": [
  {
   "cell_type": "markdown",
   "id": "92a983a2",
   "metadata": {},
   "source": [
    "# Switch / Light example\n"
   ]
  },
  {
   "cell_type": "markdown",
   "id": "880192fc",
   "metadata": {},
   "source": [
    "### concept system modeling according to literature\n",
    "\n",
    "based on TNO report: Guided root analysis of machine failure, par 5.2\n",
    "\n",
    "a system is an assembly of components + connections between components\n",
    "\n",
    "how to define a component?\n",
    "- define inputs and outputs\n",
    "- define failure modes\n",
    "- inputs and outputs are associated with modalities and a modality has properties\n",
    "- relation between inputs and outputs for normal behavior and for every failure mode\n",
    "\n",
    "how to define an assembly\n",
    "- components that are part of the assembly\n",
    "- how the components are connected\n",
    "\n",
    "limitations/prerequisites system modeling\n",
    "- every component has one health and one output variable. multiple inputs are possible\n",
    "- type names are unique\n",
    "- variable names are unique and follow strict convention PropertyModalityInputsName"
   ]
  },
  {
   "cell_type": "markdown",
   "id": "6ce9f9a0",
   "metadata": {},
   "source": [
    "### generate influence diagram from system definition\n",
    "\n",
    "implementation below uses following steps\n",
    "- define component (inputs/outputs, ...) as dict\n",
    "- define connection as dict\n",
    "- define system as dict\n",
    "- create diagram\n",
    "  - generate nodes from dicts and add to influence diagram\n",
    "  - generate arcs from dict and add to influence diagram"
   ]
  },
  {
   "cell_type": "markdown",
   "id": "a7f99fd0",
   "metadata": {},
   "source": [
    "### component specification\n",
    "\n",
    "- every component has one or more inputs, outputs\n",
    "- every component has one health\n",
    "- every component has a type\n",
    "- inputs/outputs/health have modalities which have properties which have values\n",
    "\n",
    "probabilities\n",
    "- health and inputs don't have parents, prior can be determined before hand\n",
    "- "
   ]
  },
  {
   "cell_type": "code",
   "execution_count": 137,
   "id": "0389910f",
   "metadata": {},
   "outputs": [],
   "source": [
    "# component Switch > Python datastructure dictionary\n",
    "\n",
    "switch = {\n",
    "    \"type\":\"Switch\",\n",
    "    \"Inputs\":{\n",
    "        \"1\":{\n",
    "            \"modality\":\"Power\",\n",
    "            \"property\":\"Present\",\n",
    "            \"propertyvalues\":[\"yes\", \"no\"],\n",
    "            \"priorprobability\":[0.99,0.01]        },\n",
    "        \"2\":\n",
    "        {\n",
    "            \"modality\":\"State\",\n",
    "            \"property\":\"Enabled\",\n",
    "            \"propertyvalues\":[\"yes\", \"no\"],\n",
    "            \"priorprobability\":[0.99,0.01]        }\n",
    "    },\n",
    "    \"Outputs\":{\n",
    "        \"1\":{\n",
    "            \"modality\":\"Power\",\n",
    "            \"property\":\"Present\",\n",
    "            \"propertyvalues\":[\"yes\", \"no\"]\n",
    "        }\n",
    "    },\n",
    "    \"Healths\":{\n",
    "        \"1\":{\n",
    "            \"modality\":\"Health\",\n",
    "            \"property\":\"health\",\n",
    "            \"propertyvalues\":[\"ok\",\"broken\"],\n",
    "            \"priorprobability\":[0.99,0.01]\n",
    "        }\n",
    "    },\n",
    "    \"Behavior\":{\n",
    "        \"normal\": {\n",
    "            'PresentPowerInputs':  [\"yes\", \"yes\",\"no\" , \"no\"], \n",
    "            'EnabledStateInputs':  [\"yes\", \"no\" ,\"yes\", \"no\"],\n",
    "            'PresentPowerOutputs': [\"yes\", \"no\" ,\"no\" , \"no\"],\n",
    "            'health':              [\"ok\",  \"ok\" , \"ok\", \"ok\"]\n",
    "        }\n",
    "    }\n",
    "}"
   ]
  },
  {
   "cell_type": "code",
   "execution_count": 138,
   "id": "d513975e",
   "metadata": {},
   "outputs": [],
   "source": [
    "# component Light > Python datastructure dictionary\n",
    "\n",
    "light = {\n",
    "    \"type\":\"Light\",\n",
    "    \"Inputs\":{\n",
    "        \"1\":{\n",
    "            \"modality\":\"Power\",\n",
    "            \"property\":\"Present\",\n",
    "            \"propertyvalues\":[\"yes\", \"no\"],\n",
    "            \"priorprobability\":[0.9,0.1]\n",
    "        }\n",
    "    },\n",
    "    \"Outputs\":{\n",
    "        \"1\":{\n",
    "            \"modality\":\"Light\",\n",
    "            \"property\":\"Present\",\n",
    "            \"propertyvalues\":[\"yes\", \"no\"]\n",
    "        }\n",
    "    },\n",
    "    \"Healths\":{\n",
    "        \"1\":{\n",
    "            \"modality\":\"Health\",\n",
    "            \"property\":\"health\",\n",
    "            \"propertyvalues\":[\"ok\",\"broken\"],\n",
    "            \"priorprobability\":[0.9,0.1]\n",
    "        }\n",
    "    },\n",
    "    \"Behavior\":{\n",
    "        \"normal\": {\n",
    "            'PresentPowerInputs':  [\"yes\", \"no\"], \n",
    "            'PresentLightOutputs': [\"yes\", \"no\"],\n",
    "            'health':              [\"ok\",  \"ok\"]\n",
    "        }\n",
    "    }\n",
    "\n",
    "}"
   ]
  },
  {
   "cell_type": "markdown",
   "id": "cbb14899",
   "metadata": {},
   "source": [
    "### connections connect components \n",
    "- connections have a name\n",
    "- connections have two named components and a direction\n",
    "- connections have a health that is connected to the component that is addressed by the connection"
   ]
  },
  {
   "cell_type": "code",
   "execution_count": 139,
   "id": "c51fe9e4",
   "metadata": {},
   "outputs": [],
   "source": [
    "wire = {\n",
    "    \"type\":\"Wire\",\n",
    "    \"start\":\"PresentPowerOutputs\",\n",
    "    \"typeStart\":\"Switch\",\n",
    "    \"end\":\"PresentPowerInputs\",\n",
    "    \"typeEnd\":\"Light\",\n",
    "    \"healthpriorprobability\":0.99\n",
    "}"
   ]
  },
  {
   "cell_type": "markdown",
   "id": "97300c9f",
   "metadata": {},
   "source": [
    "### system defines assembly\n",
    "system consists of components and connections between them"
   ]
  },
  {
   "cell_type": "code",
   "execution_count": 140,
   "id": "07fc2ae7",
   "metadata": {},
   "outputs": [],
   "source": [
    "structure = {\n",
    "    \"components\": {\n",
    "        \"1\":{\n",
    "            \"name\":\"Light\",\n",
    "            \"type\":\"Light\"\n",
    "        },\n",
    "        \"2\":{\n",
    "            \"name\":\"Switch\",\n",
    "            \"type\":\"Switch\"           \n",
    "        }\n",
    "    },\n",
    "    \"connections\":{\n",
    "        \"1\":{\n",
    "            \"name\":\"Wire\",\n",
    "            \"type\":\"Wire\",\n",
    "            \"startComponent\":\"Switch\",\n",
    "            \"endComponent\":\"Light\"\n",
    "        }\n",
    "    }\n",
    "}\n",
    "\n",
    "structure2 = {\n",
    "    \"components\": {\n",
    "        \"1\":{\n",
    "            \"name\":\"Light\",\n",
    "            \"type\":\"Light\"\n",
    "        },\n",
    "        \"2\":{\n",
    "            \"name\":\"Switch\",\n",
    "            \"type\":\"Switch\"           \n",
    "        }\n",
    "    }\n",
    "}"
   ]
  },
  {
   "cell_type": "code",
   "execution_count": 148,
   "id": "d01fcef7",
   "metadata": {},
   "outputs": [],
   "source": [
    "# create \"system\"\n",
    "components = [switch, light]\n",
    "connections = [wire]\n",
    "assembly = {\n",
    "    \"components\" : components,\n",
    "    \"connections\": connections,\n",
    "    \"structure\":structure\n",
    "}"
   ]
  },
  {
   "cell_type": "code",
   "execution_count": 149,
   "id": "ea0bda67",
   "metadata": {},
   "outputs": [],
   "source": [
    "# imports\n",
    "import os\n",
    "import matplotlib.pyplot as plt\n",
    "from pylab import *\n",
    "import pyAgrum as gum\n",
    "import pyAgrum.lib.notebook as gnb\n",
    "\n",
    "from IPython.display import display,HTML\n",
    "import re"
   ]
  },
  {
   "cell_type": "markdown",
   "id": "359133d7",
   "metadata": {},
   "source": [
    "# structure"
   ]
  },
  {
   "cell_type": "code",
   "execution_count": 150,
   "id": "eab95485",
   "metadata": {},
   "outputs": [],
   "source": [
    "# purpose: add Components from system structure to diagram\n",
    "\n",
    "# diag: pyagrum influence diagram\n",
    "# comp: specification of 1 component\n",
    "# name: name to use for component in diagram\n",
    "\n",
    "# result: nodes for 1 component added to diagram\n",
    "\n",
    "# per modality a variable is generated and added to diagram\n",
    "# arcs are created to connect inputs to output and health to output\n",
    "\n",
    "def addComponentToDiagram(diag, comp, name):\n",
    "    componentkeys = [\"Inputs\",\"Outputs\",\"Healths\"]\n",
    "    keys = comp.keys()\n",
    "    labels = []\n",
    "        \n",
    "    # read inputs, outputs and health, add named variable to diagram \n",
    "    for ckey in componentkeys:\n",
    "        if ckey in keys:  \n",
    "            for modality in comp[ckey].keys():                                             # get modalities\n",
    "                modalitylabel = comp[ckey][modality][\"modality\"]                           # get modality label\n",
    "                property = comp[ckey][modality][\"property\"]                                # get property label\n",
    "                propertyvalues = comp[ckey][modality][\"propertyvalues\"]                    # get property values\n",
    "                if(ckey == \"Healths\"):                                                     # shorter name for health\n",
    "                    label = str(property + name)\n",
    "                else:\n",
    "                    label = str(property + modalitylabel + ckey + name)                    # name variable\n",
    "                labels.append(label)\n",
    "                diag.addChanceNode(gum.LabelizedVariable(label, label, propertyvalues))    # add variable to diagram\n",
    "\n",
    "    # add arcs to connect inputs / health nodes to output within component\n",
    "    inputvars = []\n",
    "    for label in labels:\n",
    "        if(re.search(\"Inputs\", label)):\n",
    "            inputvars.append(diag.idFromName(label))\n",
    "        if(re.search(\"health\", label)):\n",
    "            hvar = diag.idFromName(label)\n",
    "        if(re.search(\"Outputs\",label)):\n",
    "            ovar = diag.idFromName(label)\n",
    "    # add arc for health to output\n",
    "    diag.addArc(hvar, ovar)\n",
    "    # add arc for every input to output\n",
    "    for v in inputvars:\n",
    "        diag.addArc(v,ovar)        "
   ]
  },
  {
   "cell_type": "code",
   "execution_count": 151,
   "id": "6320e0ef",
   "metadata": {},
   "outputs": [],
   "source": [
    "# purpose: read connection specification and connect components in diagram via arc, \n",
    "# create health for connection\n",
    "\n",
    "# diag: pyagrum influence diagram\n",
    "# name: name to use for connection in diagram\n",
    "# connection: type of connection used to find right specification for connection\n",
    "# startComponent: component from which the connection starts\n",
    "# endComponent: component that receives connection\n",
    "\n",
    "# result: connection + health for connection created in diagram\n",
    "\n",
    "def addConnectionToDiagram(diag, name, connection, startComponent, endComponent):\n",
    "    diaglabels = diag.names()\n",
    "    for label in diaglabels:\n",
    "        if(re.search(startComponent, label)):\n",
    "            if(re.search(connection['start'], label)):\n",
    "                startvar = diag.idFromName(label)\n",
    "        elif(re.search(endComponent, label)):\n",
    "            if(re.search(connection['end'], label)):\n",
    "                endvar = diag.idFromName(label)\n",
    "    diag.addArc(startvar, endvar)\n",
    "    label = str(\"health\" + name)\n",
    "    hvar = diag.addChanceNode(gum.LabelizedVariable(label,label,[\"ok\",\"broken\"]))\n",
    "    diag.addArc(hvar, endvar)"
   ]
  },
  {
   "cell_type": "code",
   "execution_count": 152,
   "id": "059c1bd2",
   "metadata": {},
   "outputs": [],
   "source": [
    "# find the right dict in set of elements (components or connections) by searching typename\n",
    "def getDictByType(elementType, elementSet):\n",
    "    found = False\n",
    "    for c in elementSet:\n",
    "        if(c[\"type\"] == elementType):\n",
    "            found = True\n",
    "            return c\n",
    "    if(found == False): print(\"error getDictByType: no dict found for type\")"
   ]
  },
  {
   "cell_type": "code",
   "execution_count": 153,
   "id": "a0c6bd45",
   "metadata": {},
   "outputs": [],
   "source": [
    "# disassemble system, read systemstructure and add components + connections to diagram\n",
    "def buildDiagram(diag, assembly):\n",
    "    systemstructure = assembly[\"structure\"]\n",
    "    components = assembly[\"components\"]\n",
    "    connections = assembly[\"connections\"]\n",
    "\n",
    "    # loop sets (connections, components) in assembly structure\n",
    "    for set, elements in systemstructure.items():\n",
    "\n",
    "        # add components from structure to diagram\n",
    "        if(set ==\"components\"):\n",
    "            for n, value in elements.items():\n",
    "                addComponentToDiagram(diag, getDictByType(value[\"type\"], components) ,value['name'])\n",
    "\n",
    "        #add connections from structure to diagram\n",
    "        if(set ==\"connections\"):\n",
    "            for n, connection in elements.items():\n",
    "                connectionType = getDictByType(connection[\"type\"], connections)\n",
    "                startComponent = connection[\"startComponent\"]\n",
    "                endComponent = connection[\"endComponent\"]\n",
    "                connectionName = connection[\"name\"]\n",
    "                addConnectionToDiagram(diag,connectionName, connectionType, startComponent, endComponent)\n"
   ]
  },
  {
   "cell_type": "code",
   "execution_count": 155,
   "id": "8065e531",
   "metadata": {
    "scrolled": true
   },
   "outputs": [
    {
     "data": {
      "text/html": [
       "<style>.container { width:60% !important; }</style>"
      ],
      "text/plain": [
       "<IPython.core.display.HTML object>"
      ]
     },
     "metadata": {},
     "output_type": "display_data"
    },
    {
     "name": "stdout",
     "output_type": "stream",
     "text": [
      "Influence Diagram{\n",
      "  chance: 8,\n",
      "  utility: 0,\n",
      "  decision: 0,\n",
      "  arcs: 7,\n",
      "  domainSize: 256\n",
      "}\n"
     ]
    },
    {
     "data": {
      "image/svg+xml": [
       "<svg xmlns=\"http://www.w3.org/2000/svg\" xmlns:xlink=\"http://www.w3.org/1999/xlink\" width=\"783pt\" height=\"280pt\" viewBox=\"0.00 0.00 783.15 280.05\">\n",
       "<g id=\"graph0\" class=\"graph\" transform=\"scale(1 1) rotate(0) translate(4 276.05)\">\n",
       "<title>G</title>\n",
       "<!-- PresentPowerInputsLight -->\n",
       "<g id=\"node1\" class=\"node\">\n",
       "<title>PresentPowerInputsLight</title>\n",
       "<ellipse fill=\"#808080\" stroke=\"black\" cx=\"578.79\" cy=\"-97.52\" rx=\"140.01\" ry=\"20.51\"/>\n",
       "<text text-anchor=\"middle\" x=\"578.79\" y=\"-93.82\" font-family=\"Times,serif\" font-size=\"14.00\" fill=\"white\">PresentPowerInputsLight</text>\n",
       "</g>\n",
       "<!-- PresentLightOutputsLight -->\n",
       "<g id=\"node2\" class=\"node\">\n",
       "<title>PresentLightOutputsLight</title>\n",
       "<ellipse fill=\"#808080\" stroke=\"black\" cx=\"464.79\" cy=\"-20.51\" rx=\"143.59\" ry=\"20.51\"/>\n",
       "<text text-anchor=\"middle\" x=\"464.79\" y=\"-16.81\" font-family=\"Times,serif\" font-size=\"14.00\" fill=\"white\">PresentLightOutputsLight</text>\n",
       "</g>\n",
       "<!-- PresentPowerInputsLight&#45;&gt;PresentLightOutputsLight -->\n",
       "<g id=\"edge1\" class=\"edge\">\n",
       "<title>PresentPowerInputsLight-&gt;PresentLightOutputsLight</title>\n",
       "<path fill=\"none\" stroke=\"black\" d=\"M549.72,-77.4C535.39,-67.96 517.91,-56.47 502.55,-46.36\"/>\n",
       "<polygon fill=\"black\" stroke=\"black\" points=\"504.07,-43.17 493.79,-40.59 500.22,-49.01 504.07,-43.17\"/>\n",
       "</g>\n",
       "<!-- healthLight -->\n",
       "<g id=\"node3\" class=\"node\">\n",
       "<title>healthLight</title>\n",
       "<ellipse fill=\"#808080\" stroke=\"black\" cx=\"351.79\" cy=\"-97.52\" rx=\"68.68\" ry=\"20.51\"/>\n",
       "<text text-anchor=\"middle\" x=\"351.79\" y=\"-93.82\" font-family=\"Times,serif\" font-size=\"14.00\" fill=\"white\">healthLight</text>\n",
       "</g>\n",
       "<!-- healthLight&#45;&gt;PresentLightOutputsLight -->\n",
       "<g id=\"edge2\" class=\"edge\">\n",
       "<title>healthLight-&gt;PresentLightOutputsLight</title>\n",
       "<path fill=\"none\" stroke=\"black\" d=\"M378.85,-78.55C393.4,-68.9 411.55,-56.85 427.42,-46.31\"/>\n",
       "<polygon fill=\"black\" stroke=\"black\" points=\"429.57,-49.08 435.96,-40.64 425.7,-43.25 429.57,-49.08\"/>\n",
       "</g>\n",
       "<!-- PresentPowerInputsSwitch -->\n",
       "<g id=\"node4\" class=\"node\">\n",
       "<title>PresentPowerInputsSwitch</title>\n",
       "<ellipse fill=\"#808080\" stroke=\"black\" cx=\"147.79\" cy=\"-251.54\" rx=\"147.57\" ry=\"20.51\"/>\n",
       "<text text-anchor=\"middle\" x=\"147.79\" y=\"-247.84\" font-family=\"Times,serif\" font-size=\"14.00\" fill=\"white\">PresentPowerInputsSwitch</text>\n",
       "</g>\n",
       "<!-- PresentPowerOutputsSwitch -->\n",
       "<g id=\"node6\" class=\"node\">\n",
       "<title>PresentPowerOutputsSwitch</title>\n",
       "<ellipse fill=\"#808080\" stroke=\"black\" cx=\"458.79\" cy=\"-174.53\" rx=\"156.04\" ry=\"20.51\"/>\n",
       "<text text-anchor=\"middle\" x=\"458.79\" y=\"-170.83\" font-family=\"Times,serif\" font-size=\"14.00\" fill=\"white\">PresentPowerOutputsSwitch</text>\n",
       "</g>\n",
       "<!-- PresentPowerInputsSwitch&#45;&gt;PresentPowerOutputsSwitch -->\n",
       "<g id=\"edge3\" class=\"edge\">\n",
       "<title>PresentPowerInputsSwitch-&gt;PresentPowerOutputsSwitch</title>\n",
       "<path fill=\"none\" stroke=\"black\" d=\"M218.36,-233.52C265.55,-222.14 327.81,-207.12 377.14,-195.22\"/>\n",
       "<polygon fill=\"black\" stroke=\"black\" points=\"378.25,-198.56 387.15,-192.81 376.61,-191.75 378.25,-198.56\"/>\n",
       "</g>\n",
       "<!-- EnabledStateInputsSwitch -->\n",
       "<g id=\"node5\" class=\"node\">\n",
       "<title>EnabledStateInputsSwitch</title>\n",
       "<ellipse fill=\"#808080\" stroke=\"black\" cx=\"458.79\" cy=\"-251.54\" rx=\"145.83\" ry=\"20.51\"/>\n",
       "<text text-anchor=\"middle\" x=\"458.79\" y=\"-247.84\" font-family=\"Times,serif\" font-size=\"14.00\" fill=\"white\">EnabledStateInputsSwitch</text>\n",
       "</g>\n",
       "<!-- EnabledStateInputsSwitch&#45;&gt;PresentPowerOutputsSwitch -->\n",
       "<g id=\"edge4\" class=\"edge\">\n",
       "<title>EnabledStateInputsSwitch-&gt;PresentPowerOutputsSwitch</title>\n",
       "<path fill=\"none\" stroke=\"black\" d=\"M458.79,-230.83C458.79,-223 458.79,-213.81 458.79,-205.2\"/>\n",
       "<polygon fill=\"black\" stroke=\"black\" points=\"462.29,-205.11 458.79,-195.11 455.29,-205.11 462.29,-205.11\"/>\n",
       "</g>\n",
       "<!-- PresentPowerOutputsSwitch&#45;&gt;PresentPowerInputsLight -->\n",
       "<g id=\"edge5\" class=\"edge\">\n",
       "<title>PresentPowerOutputsSwitch-&gt;PresentPowerInputsLight</title>\n",
       "<path fill=\"none\" stroke=\"black\" d=\"M489.38,-154.41C504.61,-144.89 523.2,-133.26 539.48,-123.09\"/>\n",
       "<polygon fill=\"black\" stroke=\"black\" points=\"541.63,-125.87 548.25,-117.61 537.91,-119.94 541.63,-125.87\"/>\n",
       "</g>\n",
       "<!-- healthSwitch -->\n",
       "<g id=\"node7\" class=\"node\">\n",
       "<title>healthSwitch</title>\n",
       "<ellipse fill=\"#808080\" stroke=\"black\" cx=\"698.79\" cy=\"-251.54\" rx=\"76.24\" ry=\"20.51\"/>\n",
       "<text text-anchor=\"middle\" x=\"698.79\" y=\"-247.84\" font-family=\"Times,serif\" font-size=\"14.00\" fill=\"white\">healthSwitch</text>\n",
       "</g>\n",
       "<!-- healthSwitch&#45;&gt;PresentPowerOutputsSwitch -->\n",
       "<g id=\"edge6\" class=\"edge\">\n",
       "<title>healthSwitch-&gt;PresentPowerOutputsSwitch</title>\n",
       "<path fill=\"none\" stroke=\"black\" d=\"M650.79,-235.54C615.16,-224.4 566.07,-209.06 526.46,-196.68\"/>\n",
       "<polygon fill=\"black\" stroke=\"black\" points=\"527.45,-193.32 516.86,-193.68 525.36,-200.01 527.45,-193.32\"/>\n",
       "</g>\n",
       "<!-- healthWire -->\n",
       "<g id=\"node8\" class=\"node\">\n",
       "<title>healthWire</title>\n",
       "<ellipse fill=\"#808080\" stroke=\"black\" cx=\"698.79\" cy=\"-174.53\" rx=\"65.52\" ry=\"20.51\"/>\n",
       "<text text-anchor=\"middle\" x=\"698.79\" y=\"-170.83\" font-family=\"Times,serif\" font-size=\"14.00\" fill=\"white\">healthWire</text>\n",
       "</g>\n",
       "<!-- healthWire&#45;&gt;PresentPowerInputsLight -->\n",
       "<g id=\"edge7\" class=\"edge\">\n",
       "<title>healthWire-&gt;PresentPowerInputsLight</title>\n",
       "<path fill=\"none\" stroke=\"black\" d=\"M670.65,-155.94C654.96,-146.13 635.17,-133.77 617.98,-123.02\"/>\n",
       "<polygon fill=\"black\" stroke=\"black\" points=\"619.6,-119.9 609.27,-117.57 615.89,-125.84 619.6,-119.9\"/>\n",
       "</g>\n",
       "</g>\n",
       "</svg>"
      ],
      "text/plain": [
       "<IPython.core.display.SVG object>"
      ]
     },
     "metadata": {},
     "output_type": "display_data"
    }
   ],
   "source": [
    "from IPython.display import display, HTML\n",
    "display(HTML(\"<style>.container { width:60% !important; }</style>\"))\n",
    "\n",
    "# create diagram\n",
    "diagram = gum.InfluenceDiagram()\n",
    "\n",
    "# read structure, add to diagram\n",
    "buildDiagram(diagram, assembly)\n",
    "\n",
    "# print summary of nodes\n",
    "print(diagram)\n",
    "\n",
    "# view structure\n",
    "gnb.showInfluenceDiagram(diagram, size=60)"
   ]
  },
  {
   "cell_type": "code",
   "execution_count": null,
   "id": "3b69477c",
   "metadata": {},
   "outputs": [],
   "source": []
  },
  {
   "cell_type": "markdown",
   "id": "a407675e",
   "metadata": {},
   "source": [
    "# probabilities"
   ]
  },
  {
   "cell_type": "markdown",
   "id": "1737072a",
   "metadata": {},
   "source": [
    "todo's:\n",
    "\n",
    "- determine components in diagram: switch, switch1 etc\n",
    "\n",
    "Health en Inputs\n",
    "- set priors van health, dit zijn altijd nodes zonder parent\n",
    "- set priors van inputs, dit zijn ook nodes zonder parent, alternatieven:\n",
    "  - eigen prior\n",
    "  - afleiden uit behaviorstates, kans is 1 -/- failurekansen\n",
    "  - een setting \"expected\"\n",
    "\n",
    "Outputs\n",
    "- behaviorstates definieren wat normaal is of niet voor hele component, de relatie tussen input / health en output is deterministic en dus 0 of 1, zie par 5.2.3\n",
    "bijv normal1 voor switch is power in yes / enabled yes > power uit yes\n",
    "- indien broken dan kans op NO is 1\n",
    "- indien switch uit dan kans op NO is 1\n",
    "\n",
    "connecties\n",
    "- hoe doe je dat bij connecties, de input krijgt er een parent en een health bij\n",
    "\n",
    " "
   ]
  },
  {
   "cell_type": "code",
   "execution_count": 156,
   "id": "f35a4f8f",
   "metadata": {},
   "outputs": [],
   "source": [
    "import pandas as pd\n",
    "from deepdiff import DeepDiff"
   ]
  },
  {
   "cell_type": "code",
   "execution_count": 157,
   "id": "9802d2ca",
   "metadata": {},
   "outputs": [
    {
     "name": "stdout",
     "output_type": "stream",
     "text": [
      "[0.99, 0.01]\n"
     ]
    }
   ],
   "source": [
    "for k, v in switch['Healths'].items():\n",
    "    print(v['priorprobability'])"
   ]
  },
  {
   "cell_type": "code",
   "execution_count": 158,
   "id": "ea640f81",
   "metadata": {},
   "outputs": [],
   "source": [
    "# determine ids in diagram for named component in diagram\n",
    "def getIdsForName(name):\n",
    "    ids = []\n",
    "    for n in diagram.names():\n",
    "        if (re.search(v[\"name\"], n)):\n",
    "            ids.append(diagram.idFromName(n))\n",
    "    return ids\n",
    "\n",
    "def setCPTHealthNode(i, componentdict, name):\n",
    "    for k, v in componentdict['Healths'].items():\n",
    "        id = diagram.idFromName('health' + name)\n",
    "        diagram.cpt(id).fillWith(v['priorprobability'])\n",
    "    \n",
    "    \n",
    "def setCPTInputsNode(i, componentdict, name):\n",
    "    for k, v in componentdict['Inputs'].items():\n",
    "        id = diagram.idFromName(v['property'] + v['modality'] + \"Inputs\" + name)\n",
    "        diagram.cpt(id).fillWith(v['priorprobability'])\n",
    "\n",
    "\n",
    "# i: id of variable in diagram: \n",
    "# componentdict: dictionary from component type\n",
    "def setCPTOutputsNode(i, componentdict, name):\n",
    "\n",
    "    # create dataframe based on component normal behavior table\n",
    "    # rename columns by adding name of component at the rear\n",
    "    # transform dataframe back to dict but in different format for comparison\n",
    "    dfNormalStates = pd.DataFrame.from_dict(data = componentdict['Behavior']['normal'])\n",
    "    dfNormalStates.rename(columns=lambda x: x+name, inplace=True)\n",
    "    compareDict = dfNormalStates.to_dict('index')\n",
    "\n",
    "\n",
    "    # CPT has type Potential and contains tuples (Instantiations) of discrete variables\n",
    "    # loop in CPT, transform tuple to dict\n",
    "    # if tuple is in normal behavior table: set P(1), else 0\n",
    "    for tupleVars in diagram.cpt(i).loopIn():\n",
    "        t1 = tupleVars.todict()\n",
    "        for k, s in compareDict.items():\n",
    "            if ('values_changed' not in DeepDiff(s, t1).keys()):\n",
    "                diagram.cpt(i).set(tupleVars, 1)\n"
   ]
  },
  {
   "cell_type": "code",
   "execution_count": 159,
   "id": "94c32dc2",
   "metadata": {},
   "outputs": [
    {
     "ename": "SizeError",
     "evalue": "[pyAgrum] incorrect size: Sizes do not match : 8!=2",
     "output_type": "error",
     "traceback": [
      "\u001b[0;31m---------------------------------------------------------------------------\u001b[0m",
      "\u001b[0;31mSizeError\u001b[0m                                 Traceback (most recent call last)",
      "Cell \u001b[0;32mIn[159], line 18\u001b[0m\n\u001b[1;32m     16\u001b[0m     setCPTHealthNode(i, typedict, v[\u001b[38;5;124m'\u001b[39m\u001b[38;5;124mname\u001b[39m\u001b[38;5;124m'\u001b[39m])\n\u001b[1;32m     17\u001b[0m \u001b[38;5;28;01melif\u001b[39;00m re\u001b[38;5;241m.\u001b[39msearch(\u001b[38;5;124m\"\u001b[39m\u001b[38;5;124mInputs\u001b[39m\u001b[38;5;124m\"\u001b[39m, diagram\u001b[38;5;241m.\u001b[39mvariable(i)\u001b[38;5;241m.\u001b[39mname()):\n\u001b[0;32m---> 18\u001b[0m     setCPTInputsNode(i, typedict, v[\u001b[38;5;124m'\u001b[39m\u001b[38;5;124mname\u001b[39m\u001b[38;5;124m'\u001b[39m])\n\u001b[1;32m     19\u001b[0m \u001b[38;5;28;01melif\u001b[39;00m re\u001b[38;5;241m.\u001b[39msearch(\u001b[38;5;124m\"\u001b[39m\u001b[38;5;124mOutputs\u001b[39m\u001b[38;5;124m\"\u001b[39m, diagram\u001b[38;5;241m.\u001b[39mvariable(i)\u001b[38;5;241m.\u001b[39mname()):\n\u001b[1;32m     20\u001b[0m     setCPTOutputsNode(i, typedict, v[\u001b[38;5;124m'\u001b[39m\u001b[38;5;124mname\u001b[39m\u001b[38;5;124m'\u001b[39m])\n",
      "Cell \u001b[0;32mIn[158], line 18\u001b[0m, in \u001b[0;36msetCPTInputsNode\u001b[0;34m(i, componentdict, name)\u001b[0m\n\u001b[1;32m     16\u001b[0m \u001b[38;5;28;01mfor\u001b[39;00m k, v \u001b[38;5;129;01min\u001b[39;00m componentdict[\u001b[38;5;124m'\u001b[39m\u001b[38;5;124mInputs\u001b[39m\u001b[38;5;124m'\u001b[39m]\u001b[38;5;241m.\u001b[39mitems():\n\u001b[1;32m     17\u001b[0m     \u001b[38;5;28mid\u001b[39m \u001b[38;5;241m=\u001b[39m diagram\u001b[38;5;241m.\u001b[39midFromName(v[\u001b[38;5;124m'\u001b[39m\u001b[38;5;124mproperty\u001b[39m\u001b[38;5;124m'\u001b[39m] \u001b[38;5;241m+\u001b[39m v[\u001b[38;5;124m'\u001b[39m\u001b[38;5;124mmodality\u001b[39m\u001b[38;5;124m'\u001b[39m] \u001b[38;5;241m+\u001b[39m \u001b[38;5;124m\"\u001b[39m\u001b[38;5;124mInputs\u001b[39m\u001b[38;5;124m\"\u001b[39m \u001b[38;5;241m+\u001b[39m name)\n\u001b[0;32m---> 18\u001b[0m     diagram\u001b[38;5;241m.\u001b[39mcpt(\u001b[38;5;28mid\u001b[39m)\u001b[38;5;241m.\u001b[39mfillWith(v[\u001b[38;5;124m'\u001b[39m\u001b[38;5;124mpriorprobability\u001b[39m\u001b[38;5;124m'\u001b[39m])\n",
      "File \u001b[0;32m~/.local/lib/python3.11/site-packages/pyAgrum/pyAgrum.py:8567\u001b[0m, in \u001b[0;36mPotential.fillWith\u001b[0;34m(self, *args)\u001b[0m\n\u001b[1;32m   8563\u001b[0m     \u001b[38;5;28;01melse\u001b[39;00m:\n\u001b[1;32m   8564\u001b[0m       \u001b[38;5;28;01mraise\u001b[39;00m pyAgrum\u001b[38;5;241m.\u001b[39mArgumentError(\u001b[38;5;124mf\u001b[39m\u001b[38;5;124m\"\u001b[39m\u001b[38;5;124m[pyAgrum] keys in dict \u001b[39m\u001b[38;5;132;01m{\u001b[39;00m\u001b[38;5;28mtuple\u001b[39m(d\u001b[38;5;241m.\u001b[39mkeys())\u001b[38;5;132;01m}\u001b[39;00m\u001b[38;5;124m does not match the Potential\u001b[39m\u001b[38;5;124m'\u001b[39m\u001b[38;5;124ms variables \u001b[39m\u001b[38;5;132;01m{\u001b[39;00m\u001b[38;5;28mself\u001b[39m\u001b[38;5;241m.\u001b[39mnames\u001b[38;5;132;01m}\u001b[39;00m\u001b[38;5;124m\"\u001b[39m)\n\u001b[0;32m-> 8567\u001b[0m val \u001b[38;5;241m=\u001b[39m _pyAgrum\u001b[38;5;241m.\u001b[39mPotential_fillWith(\u001b[38;5;28mself\u001b[39m, \u001b[38;5;241m*\u001b[39margs)\n\u001b[1;32m   8569\u001b[0m \u001b[38;5;28;01mreturn\u001b[39;00m \u001b[38;5;28mself\u001b[39m\n\u001b[1;32m   8572\u001b[0m \u001b[38;5;28;01mreturn\u001b[39;00m val\n",
      "\u001b[0;31mSizeError\u001b[0m: [pyAgrum] incorrect size: Sizes do not match : 8!=2"
     ]
    }
   ],
   "source": [
    "# determine probabilities (CPT) for variables of a component\n",
    "\n",
    "# for every component that is part of the structure\n",
    "for k, v in assembly[\"structure\"][\"components\"].items():\n",
    "\n",
    "    # get id's in diagram for variables that are part of component\n",
    "    ids = getIdsForName(v[\"type\"])   \n",
    "    \n",
    "    # get dict for type of component\n",
    "    typedict = getDictByType(v[\"type\"],assembly[\"components\"]) \n",
    "    \n",
    "    # for every id validate it's a chancenode, determine probability via method based on input, output or health\n",
    "    for i in ids:\n",
    "        if (diagram.isChanceNode(i)):\n",
    "            if re.search(\"health\", diagram.variable(i).name()):\n",
    "                setCPTHealthNode(i, typedict, v['name'])\n",
    "            elif re.search(\"Inputs\", diagram.variable(i).name()):\n",
    "                setCPTInputsNode(i, typedict, v['name'])\n",
    "            elif re.search(\"Outputs\", diagram.variable(i).name()):\n",
    "                setCPTOutputsNode(i, typedict, v['name'])\n"
   ]
  },
  {
   "cell_type": "code",
   "execution_count": 160,
   "id": "9b7cd828",
   "metadata": {},
   "outputs": [
    {
     "data": {
      "text/html": [
       "\n",
       "      <style>\n",
       "      .floating-box {\n",
       "      display: inline-block;\n",
       "      margin: 7px;\n",
       "      padding : 3px;\n",
       "      border: 0px solid transparent;  \n",
       "      valign:middle;\n",
       "      background-color: transparent;\n",
       "      }\n",
       "      </style>\n",
       "      <div class=\"floating-box\"><table style=\"border:1px solid black;\">\n",
       "<tr><th colspan='2'></th>\n",
       "      <th colspan='2' style='border:1px solid black;color:black;background-color:#808080;'><center>PresentPowerInputsLight</center>\n",
       "      </th></tr>\n",
       "<tr><th style='border:1px solid black;color:black;background-color:#808080'><center>healthWire</center></th><th style='border:1px solid black;color:black;background-color:#808080'><center>PresentPowerOutputsSwitch</center></th><th style='border:1px solid black;border-bottom-style: double;color:black;background-color:#BBBBBB'>\n",
       "      <center>yes</center></th><th style='border:1px solid black;border-bottom-style: double;color:black;background-color:#BBBBBB'>\n",
       "      <center>no</center></th></tr>\n",
       "<tr><th style='border:1px solid black;color:black;background-color:#BBBBBB;' rowspan = '2'>\n",
       "            <center>ok</center></th><th style='border:1px solid black;color:black;background-color:#BBBBBB'><center>yes</center></th><td style='text-align:right;'>0.0000</td><td style='text-align:right;'>0.0000</td></tr>\n",
       "<tr><th style='border:1px solid black;color:black;background-color:#BBBBBB'><center>no</center></th><td style='text-align:right;'>0.0000</td><td style='text-align:right;'>0.0000</td></tr>\n",
       "<tr><th style='border:1px solid black;color:black;background-color:#BBBBBB;' rowspan = '2'>\n",
       "            <center>broken</center></th><th style='border:1px solid black;color:black;background-color:#BBBBBB'><center>yes</center></th><td style='text-align:right;'>0.0000</td><td style='text-align:right;'>0.0000</td></tr>\n",
       "<tr><th style='border:1px solid black;color:black;background-color:#BBBBBB'><center>no</center></th><td style='text-align:right;'>0.0000</td><td style='text-align:right;'>0.0000</td></tr>\n",
       "</table><br><center><small><em>prior</em></small></center></div><div class=\"floating-box\"><table style=\"border:1px solid black;\">\n",
       "<tr><th colspan='2'></th>\n",
       "      <th colspan='2' style='border:1px solid black;color:black;background-color:#808080;'><center>PresentLightOutputsLight</center>\n",
       "      </th></tr>\n",
       "<tr><th style='border:1px solid black;color:black;background-color:#808080'><center>PresentPowerInputsLight</center></th><th style='border:1px solid black;color:black;background-color:#808080'><center>healthLight</center></th><th style='border:1px solid black;border-bottom-style: double;color:black;background-color:#BBBBBB'>\n",
       "      <center>yes</center></th><th style='border:1px solid black;border-bottom-style: double;color:black;background-color:#BBBBBB'>\n",
       "      <center>no</center></th></tr>\n",
       "<tr><th style='border:1px solid black;color:black;background-color:#BBBBBB;' rowspan = '2'>\n",
       "            <center>yes</center></th><th style='border:1px solid black;color:black;background-color:#BBBBBB'><center>ok</center></th><td style='text-align:right;'>1.0000</td><td style='text-align:right;'>0.0000</td></tr>\n",
       "<tr><th style='border:1px solid black;color:black;background-color:#BBBBBB'><center>broken</center></th><td style='text-align:right;'>0.0000</td><td style='text-align:right;'>0.0000</td></tr>\n",
       "<tr><th style='border:1px solid black;color:black;background-color:#BBBBBB;' rowspan = '2'>\n",
       "            <center>no</center></th><th style='border:1px solid black;color:black;background-color:#BBBBBB'><center>ok</center></th><td style='text-align:right;'>0.0000</td><td style='text-align:right;'>1.0000</td></tr>\n",
       "<tr><th style='border:1px solid black;color:black;background-color:#BBBBBB'><center>broken</center></th><td style='text-align:right;'>0.0000</td><td style='text-align:right;'>0.0000</td></tr>\n",
       "</table><br><center><small><em>prior</em></small></center></div><div class=\"floating-box\"><table style=\"border:1px solid black;\">\n",
       "<tr style='border:1px solid black;color:black;background-color:#808080'>\n",
       "      <th colspan='2'><center>healthLight</center></th></tr>\n",
       "<tr><th style='border:1px solid black;border-bottom-style: double;color:black;background-color:#BBBBBB'>\n",
       "      <center>ok</center></th><th style='border:1px solid black;border-bottom-style: double;color:black;background-color:#BBBBBB'>\n",
       "      <center>broken</center></th></tr>\n",
       "<tr><td style='text-align:right;'>0.0000</td><td style='text-align:right;'>0.0000</td></tr>\n",
       "</table><br><center><small><em>prior</em></small></center></div><div class=\"floating-box\"><table style=\"border:1px solid black;\">\n",
       "<tr style='border:1px solid black;color:black;background-color:#808080'>\n",
       "      <th colspan='2'><center>PresentPowerInputsSwitch</center></th></tr>\n",
       "<tr><th style='border:1px solid black;border-bottom-style: double;color:black;background-color:#BBBBBB'>\n",
       "      <center>yes</center></th><th style='border:1px solid black;border-bottom-style: double;color:black;background-color:#BBBBBB'>\n",
       "      <center>no</center></th></tr>\n",
       "<tr><td style='text-align:right;'>0.0000</td><td style='text-align:right;'>0.0000</td></tr>\n",
       "</table><br><center><small><em>prior</em></small></center></div>"
      ],
      "text/plain": [
       "<IPython.core.display.HTML object>"
      ]
     },
     "metadata": {},
     "output_type": "display_data"
    }
   ],
   "source": [
    "gnb.flow.row(diagram.cpt(0),\n",
    "            diagram.cpt(1),\n",
    "            diagram.cpt(2),\n",
    "            diagram.cpt(3),\n",
    "\n",
    "            captions=[  \"prior\",\n",
    "                        \"prior\",\n",
    "                        \"prior\",\n",
    "                        \"prior\"\n",
    "                      ])"
   ]
  },
  {
   "cell_type": "code",
   "execution_count": 161,
   "id": "6f1ecc05",
   "metadata": {},
   "outputs": [
    {
     "data": {
      "text/html": [
       "\n",
       "      <style>\n",
       "      .floating-box {\n",
       "      display: inline-block;\n",
       "      margin: 7px;\n",
       "      padding : 3px;\n",
       "      border: 0px solid transparent;  \n",
       "      valign:middle;\n",
       "      background-color: transparent;\n",
       "      }\n",
       "      </style>\n",
       "      <div class=\"floating-box\"><table style=\"border:1px solid black;\">\n",
       "<tr style='border:1px solid black;color:black;background-color:#808080'>\n",
       "      <th colspan='2'><center>EnabledStateInputsSwitch</center></th></tr>\n",
       "<tr><th style='border:1px solid black;border-bottom-style: double;color:black;background-color:#BBBBBB'>\n",
       "      <center>yes</center></th><th style='border:1px solid black;border-bottom-style: double;color:black;background-color:#BBBBBB'>\n",
       "      <center>no</center></th></tr>\n",
       "<tr><td style='text-align:right;'>0.0000</td><td style='text-align:right;'>0.0000</td></tr>\n",
       "</table><br><center><small><em>prior</em></small></center></div><div class=\"floating-box\"><table style=\"border:1px solid black;\">\n",
       "<tr><th colspan='3'></th>\n",
       "      <th colspan='2' style='border:1px solid black;color:black;background-color:#808080;'><center>PresentPowerOutputsSwitch</center>\n",
       "      </th></tr>\n",
       "<tr><th style='border:1px solid black;color:black;background-color:#808080'><center>EnabledStateInputsSwitch</center></th><th style='border:1px solid black;color:black;background-color:#808080'><center>PresentPowerInputsSwitch</center></th><th style='border:1px solid black;color:black;background-color:#808080'><center>healthSwitch</center></th><th style='border:1px solid black;border-bottom-style: double;color:black;background-color:#BBBBBB'>\n",
       "      <center>yes</center></th><th style='border:1px solid black;border-bottom-style: double;color:black;background-color:#BBBBBB'>\n",
       "      <center>no</center></th></tr>\n",
       "<tr><th style='border:1px solid black;color:black;background-color:#BBBBBB;' rowspan = '4'>\n",
       "            <center>yes</center></th><th style='border:1px solid black;color:black;background-color:#BBBBBB;' rowspan = '2'>\n",
       "            <center>yes</center></th><th style='border:1px solid black;color:black;background-color:#BBBBBB'><center>ok</center></th><td style='text-align:right;'>0.0000</td><td style='text-align:right;'>0.0000</td></tr>\n",
       "<tr><th style='border:1px solid black;color:black;background-color:#BBBBBB'><center>broken</center></th><td style='text-align:right;'>0.0000</td><td style='text-align:right;'>0.0000</td></tr>\n",
       "<tr><th style='border:1px solid black;color:black;background-color:#BBBBBB;' rowspan = '2'>\n",
       "            <center>no</center></th><th style='border:1px solid black;color:black;background-color:#BBBBBB'><center>ok</center></th><td style='text-align:right;'>0.0000</td><td style='text-align:right;'>0.0000</td></tr>\n",
       "<tr><th style='border:1px solid black;color:black;background-color:#BBBBBB'><center>broken</center></th><td style='text-align:right;'>0.0000</td><td style='text-align:right;'>0.0000</td></tr>\n",
       "<tr><th style='border:1px solid black;color:black;background-color:#BBBBBB;' rowspan = '4'>\n",
       "            <center>no</center></th><th style='border:1px solid black;color:black;background-color:#BBBBBB;' rowspan = '2'>\n",
       "            <center>yes</center></th><th style='border:1px solid black;color:black;background-color:#BBBBBB'><center>ok</center></th><td style='text-align:right;'>0.0000</td><td style='text-align:right;'>0.0000</td></tr>\n",
       "<tr><th style='border:1px solid black;color:black;background-color:#BBBBBB'><center>broken</center></th><td style='text-align:right;'>0.0000</td><td style='text-align:right;'>0.0000</td></tr>\n",
       "<tr><th style='border:1px solid black;color:black;background-color:#BBBBBB;' rowspan = '2'>\n",
       "            <center>no</center></th><th style='border:1px solid black;color:black;background-color:#BBBBBB'><center>ok</center></th><td style='text-align:right;'>0.0000</td><td style='text-align:right;'>0.0000</td></tr>\n",
       "<tr><th style='border:1px solid black;color:black;background-color:#BBBBBB'><center>broken</center></th><td style='text-align:right;'>0.0000</td><td style='text-align:right;'>0.0000</td></tr>\n",
       "</table><br><center><small><em>prior</em></small></center></div><div class=\"floating-box\"><table style=\"border:1px solid black;\">\n",
       "<tr style='border:1px solid black;color:black;background-color:#808080'>\n",
       "      <th colspan='2'><center>healthSwitch</center></th></tr>\n",
       "<tr><th style='border:1px solid black;border-bottom-style: double;color:black;background-color:#BBBBBB'>\n",
       "      <center>ok</center></th><th style='border:1px solid black;border-bottom-style: double;color:black;background-color:#BBBBBB'>\n",
       "      <center>broken</center></th></tr>\n",
       "<tr><td style='text-align:right;'>0.0000</td><td style='text-align:right;'>0.0000</td></tr>\n",
       "</table><br><center><small><em>prior</em></small></center></div>"
      ],
      "text/plain": [
       "<IPython.core.display.HTML object>"
      ]
     },
     "metadata": {},
     "output_type": "display_data"
    }
   ],
   "source": [
    "gnb.flow.row(diagram.cpt(4),\n",
    "            diagram.cpt(5),\n",
    "            diagram.cpt(6),\n",
    "#            diagram.cpt(7),\n",
    "\n",
    "            captions=[  \"prior\",\n",
    "                        \"prior\",\n",
    "                        \"prior\",\n",
    "#                        \"prior\"\n",
    "                      ])"
   ]
  },
  {
   "cell_type": "code",
   "execution_count": 168,
   "id": "51e4455b",
   "metadata": {},
   "outputs": [
    {
     "data": {
      "text/plain": [
       "{(0, 1), (2, 1), (3, 5), (4, 5), (5, 0), (6, 5), (7, 0)}"
      ]
     },
     "execution_count": 168,
     "metadata": {},
     "output_type": "execute_result"
    }
   ],
   "source": [
    "diagram.arcs()"
   ]
  },
  {
   "cell_type": "code",
   "execution_count": 169,
   "id": "d195e68b",
   "metadata": {},
   "outputs": [
    {
     "name": "stdout",
     "output_type": "stream",
     "text": [
      "not good\n",
      "not good\n"
     ]
    }
   ],
   "source": [
    "nodeid = 0\n",
    "for t in diagram.arcs():\n",
    "    if (t[1] == nodeid):\n",
    "        print(\"not good\")\n"
   ]
  },
  {
   "cell_type": "code",
   "execution_count": null,
   "id": "30fa61ae",
   "metadata": {},
   "outputs": [],
   "source": [
    "\n"
   ]
  }
 ],
 "metadata": {
  "kernelspec": {
   "display_name": "Python 3 (ipykernel)",
   "language": "python",
   "name": "python3"
  },
  "language_info": {
   "codemirror_mode": {
    "name": "ipython",
    "version": 3
   },
   "file_extension": ".py",
   "mimetype": "text/x-python",
   "name": "python",
   "nbconvert_exporter": "python",
   "pygments_lexer": "ipython3",
   "version": "3.11.3"
  }
 },
 "nbformat": 4,
 "nbformat_minor": 5
}
