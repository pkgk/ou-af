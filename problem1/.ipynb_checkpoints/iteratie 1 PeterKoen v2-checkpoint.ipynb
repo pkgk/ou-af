{
 "cells": [
  {
   "cell_type": "markdown",
   "id": "92a983a2",
   "metadata": {},
   "source": [
    "# Switch / Light example\n"
   ]
  },
  {
   "cell_type": "markdown",
   "id": "880192fc",
   "metadata": {},
   "source": [
    "### concept system modeling according to literature\n",
    "\n",
    "based on TNO report: Guided root analysis of machine failure, par 5.2\n",
    "\n",
    "a system is an assembly of components + connections between components\n",
    "\n",
    "how to define a component?\n",
    "- define inputs and outputs\n",
    "- define failure modes\n",
    "- inputs and outputs are associated with modalities and a modality has properties\n",
    "- relation between inputs and outputs for normal behavior and for every failure mode\n",
    "\n",
    "how to define an assembly\n",
    "- components that are part of the assembly\n",
    "- how the components are connected\n",
    "\n",
    "limitations/prerequisites system modeling\n",
    "- every component has one health and one output variable. multiple inputs are possible\n",
    "- type names are unique\n",
    "- variable names are unique and follow strict convention PropertyModalityInputsName"
   ]
  },
  {
   "cell_type": "markdown",
   "id": "6ce9f9a0",
   "metadata": {},
   "source": [
    "### generate influence diagram from system definition\n",
    "\n",
    "implementation below uses following steps\n",
    "- define component (inputs/outputs, ...) as dict\n",
    "- define connection as dict\n",
    "- define system as dict\n",
    "- create diagram\n",
    "  - generate nodes from dicts and add to influence diagram\n",
    "  - generate arcs from dict and add to influence diagram"
   ]
  },
  {
   "cell_type": "markdown",
   "id": "a7f99fd0",
   "metadata": {},
   "source": [
    "### component specification\n",
    "\n",
    "- every component has one or more inputs, outputs\n",
    "- every component has one health\n",
    "- every component has a type\n",
    "- inputs/outputs/health have modalities which have properties which have values\n",
    "\n",
    "probabilities\n",
    "- health and inputs don't have parents, prior can be determined before hand\n",
    "- "
   ]
  },
  {
   "cell_type": "code",
   "execution_count": 460,
   "id": "0389910f",
   "metadata": {},
   "outputs": [],
   "source": [
    "# component Switch > Python datastructure dictionary\n",
    "\n",
    "switch = {\n",
    "    \"type\":\"Switch\",\n",
    "    \"Inputs\":{\n",
    "        \"1\":{\n",
    "            \"modality\":\"Power\",\n",
    "            \"property\":\"Present\",\n",
    "            \"propertyvalues\":[\"yes\", \"no\"],\n",
    "            \"normal1\":\"yes\",\n",
    "            \"normal2\":\"*\",\n",
    "            \"failure1\":\"no\"\n",
    "        },\n",
    "        \"2\":\n",
    "        {\n",
    "            \"modality\":\"State\",\n",
    "            \"property\":\"Enabled\",\n",
    "            \"propertyvalues\":[\"yes\", \"no\"]\n",
    "        }\n",
    "    },\n",
    "    \"Outputs\":{\n",
    "        \"1\":{\n",
    "            \"modality\":\"Power\",\n",
    "            \"property\":\"Present\",\n",
    "            \"propertyvalues\":[\"yes\", \"no\"]\n",
    "        }\n",
    "    },\n",
    "    \"Healths\":{\n",
    "        \"1\":{\n",
    "            \"modality\":\"Health\",\n",
    "            \"property\":\"health\",\n",
    "            \"propertyvalues\":[\"ok\",\"broken\"],\n",
    "            \"priorprobability\":[0.99,0.01]\n",
    "        }\n",
    "    },\n",
    "    \"Behavior\":{\n",
    "        \"normal\": {\n",
    "            'PresentPowerInputs':  [\"yes\", \"yes\",\"no\"], \n",
    "            'EnabledStateInputs':  [\"yes\", \"yes\",\"no\"],\n",
    "            'PresentPowerOutputs': [\"yes\", \"yes\",\"no\"]\n",
    "        }\n",
    "    }\n",
    "}"
   ]
  },
  {
   "cell_type": "code",
   "execution_count": 343,
   "id": "d513975e",
   "metadata": {},
   "outputs": [],
   "source": [
    "# component Light > Python datastructure dictionary\n",
    "\n",
    "light = {\n",
    "    \"type\":\"Light\",\n",
    "    \"Inputs\":{\n",
    "        \"1\":{\n",
    "            \"modality\":\"Power\",\n",
    "            \"property\":\"Present\",\n",
    "            \"propertyvalues\":[\"yes\", \"no\"]\n",
    "        }\n",
    "    },\n",
    "    \"Outputs\":{\n",
    "        \"1\":{\n",
    "            \"modality\":\"Light\",\n",
    "            \"property\":\"Present\",\n",
    "            \"propertyvalues\":[\"yes\", \"no\"]\n",
    "        }\n",
    "    },\n",
    "    \"Healths\":{\n",
    "        \"1\":{\n",
    "            \"modality\":\"Health\",\n",
    "            \"property\":\"health\",\n",
    "            \"propertyvalues\":[\"ok\",\"broken\"],\n",
    "            \"priorprobability\":[0.9,0.1]\n",
    "        }\n",
    "    }\n",
    "}"
   ]
  },
  {
   "cell_type": "markdown",
   "id": "cbb14899",
   "metadata": {},
   "source": [
    "### connections connect components \n",
    "- connections have a name\n",
    "- connections have two named components and a direction\n",
    "- connections have a health that is connected to the component that is addressed by the connection"
   ]
  },
  {
   "cell_type": "code",
   "execution_count": 344,
   "id": "c51fe9e4",
   "metadata": {},
   "outputs": [],
   "source": [
    "wire = {\n",
    "    \"type\":\"Wire\",\n",
    "    \"start\":\"PresentPowerOutputs\",\n",
    "    \"typeStart\":\"Switch\",\n",
    "    \"end\":\"PresentPowerInputs\",\n",
    "    \"typeEnd\":\"Light\",\n",
    "    \"healthpriorprobability\":0.99\n",
    "}"
   ]
  },
  {
   "cell_type": "markdown",
   "id": "97300c9f",
   "metadata": {},
   "source": [
    "### system defines assembly\n",
    "system consists of components and connections between them"
   ]
  },
  {
   "cell_type": "code",
   "execution_count": 345,
   "id": "07fc2ae7",
   "metadata": {},
   "outputs": [],
   "source": [
    "structure = {\n",
    "    \"components\": {\n",
    "        \"1\":{\n",
    "            \"name\":\"Light\",\n",
    "            \"type\":\"Light\"\n",
    "        },\n",
    "        \"2\":{\n",
    "            \"name\":\"Switch\",\n",
    "            \"type\":\"Switch\"           \n",
    "        }\n",
    "    },\n",
    "    \"connections\":{\n",
    "        \"1\":{\n",
    "            \"name\":\"Wire\",\n",
    "            \"type\":\"Wire\",\n",
    "            \"startComponent\":\"Switch\",\n",
    "            \"endComponent\":\"Light\"\n",
    "        }\n",
    "    }\n",
    "}\n",
    "\n",
    "structure2 = {\n",
    "    \"components\": {\n",
    "        \"1\":{\n",
    "            \"name\":\"Switch\",\n",
    "            \"type\":\"Switch\"           \n",
    "        }\n",
    "    }\n",
    "}"
   ]
  },
  {
   "cell_type": "code",
   "execution_count": 346,
   "id": "0bd7bbe8",
   "metadata": {},
   "outputs": [],
   "source": [
    "# create \"system\"\n",
    "#components = [switch, light]\n",
    "components = [switch]\n",
    "#connections = [wire]\n",
    "connections = []\n",
    "assembly = {\n",
    "    \"components\" : components,\n",
    "    \"connections\": connections,\n",
    "    \"structure\":structure2\n",
    "}"
   ]
  },
  {
   "cell_type": "code",
   "execution_count": 347,
   "id": "ea0bda67",
   "metadata": {},
   "outputs": [],
   "source": [
    "# imports\n",
    "import os\n",
    "import matplotlib.pyplot as plt\n",
    "from pylab import *\n",
    "import pyAgrum as gum\n",
    "import pyAgrum.lib.notebook as gnb\n",
    "\n",
    "from IPython.display import display,HTML\n",
    "import re"
   ]
  },
  {
   "cell_type": "markdown",
   "id": "7cf7feb3",
   "metadata": {},
   "source": [
    "# structure"
   ]
  },
  {
   "cell_type": "code",
   "execution_count": 348,
   "id": "eab95485",
   "metadata": {},
   "outputs": [],
   "source": [
    "# purpose: add Components from system structure to diagram\n",
    "\n",
    "# diag: pyagrum influence diagram\n",
    "# comp: specification of 1 component\n",
    "# name: name to use for component in diagram\n",
    "\n",
    "# result: nodes for 1 component added to diagram\n",
    "\n",
    "# per modality a variable is generated and added to diagram\n",
    "# arcs are created to connect inputs to output and health to output\n",
    "\n",
    "def addComponentToDiagram(diag, comp, name):\n",
    "    componentkeys = [\"Inputs\",\"Outputs\",\"Healths\"]\n",
    "    keys = comp.keys()\n",
    "    labels = []\n",
    "        \n",
    "    # read inputs, outputs and health, add named variable to diagram \n",
    "    for ckey in componentkeys:\n",
    "        if ckey in keys:  \n",
    "            for modality in comp[ckey].keys():                                             # get modalities\n",
    "                modalitylabel = comp[ckey][modality][\"modality\"]                           # get modality label\n",
    "                property = comp[ckey][modality][\"property\"]                                # get property label\n",
    "                propertyvalues = comp[ckey][modality][\"propertyvalues\"]                    # get property values\n",
    "                if(ckey == \"Healths\"):                                                     # shorter name for health\n",
    "                    label = str(property + name)\n",
    "                else:\n",
    "                    label = str(property + modalitylabel + ckey + name)                    # name variable\n",
    "                labels.append(label)\n",
    "                diag.addChanceNode(gum.LabelizedVariable(label, label, propertyvalues))    # add variable to diagram\n",
    "\n",
    "    # add arcs to connect inputs / health nodes to output within component\n",
    "    inputvars = []\n",
    "    for label in labels:\n",
    "        if(re.search(\"Inputs\", label)):\n",
    "            inputvars.append(diag.idFromName(label))\n",
    "        if(re.search(\"health\", label)):\n",
    "            hvar = diag.idFromName(label)\n",
    "        if(re.search(\"Outputs\",label)):\n",
    "            ovar = diag.idFromName(label)\n",
    "    # add arc for health to output\n",
    "    diag.addArc(hvar, ovar)\n",
    "    # add arc for every input to output\n",
    "    for v in inputvars:\n",
    "        diag.addArc(v,ovar)        "
   ]
  },
  {
   "cell_type": "code",
   "execution_count": 349,
   "id": "6320e0ef",
   "metadata": {},
   "outputs": [],
   "source": [
    "# purpose: read connection specification and connect components in diagram via arc, \n",
    "# create health for connection\n",
    "\n",
    "# diag: pyagrum influence diagram\n",
    "# name: name to use for connection in diagram\n",
    "# connection: type of connection used to find right specification for connection\n",
    "# startComponent: component from which the connection starts\n",
    "# endComponent: component that receives connection\n",
    "\n",
    "# result: connection + health for connection created in diagram\n",
    "\n",
    "def addConnectionToDiagram(diag, name, connection, startComponent, endComponent):\n",
    "    diaglabels = diag.names()\n",
    "    for label in diaglabels:\n",
    "        if(re.search(startComponent, label)):\n",
    "            if(re.search(connection['start'], label)):\n",
    "                startvar = diag.idFromName(label)\n",
    "        elif(re.search(endComponent, label)):\n",
    "            if(re.search(connection['end'], label)):\n",
    "                endvar = diag.idFromName(label)\n",
    "    diag.addArc(startvar, endvar)\n",
    "    label = str(\"health\" + name)\n",
    "    hvar = diag.addChanceNode(gum.LabelizedVariable(label,label,[\"ok\",\"broken\"]))\n",
    "    diag.addArc(hvar, endvar)"
   ]
  },
  {
   "cell_type": "code",
   "execution_count": 350,
   "id": "7b41fe20",
   "metadata": {},
   "outputs": [],
   "source": [
    "# find the right dict in set of elements (components or connections) by searching typename\n",
    "def getDictByType(elementType, elementSet):\n",
    "    for c in elementSet:\n",
    "        if(c[\"type\"] == elementType):\n",
    "            return c\n",
    "        else:print(\"error getDictByType: no dict found for type\")"
   ]
  },
  {
   "cell_type": "code",
   "execution_count": 351,
   "id": "a0c6bd45",
   "metadata": {},
   "outputs": [],
   "source": [
    "# disassemble system, read systemstructure and add components + connections to diagram\n",
    "def buildDiagram(diag, assembly):\n",
    "    systemstructure = assembly[\"structure\"]\n",
    "    components = assembly[\"components\"]\n",
    "    connections = assembly[\"connections\"]\n",
    "\n",
    "    # loop sets (connections, components) in assembly structure\n",
    "    for set, elements in systemstructure.items():\n",
    "\n",
    "        # add components from structure to diagram\n",
    "        if(set ==\"components\"):\n",
    "            for n, value in elements.items():\n",
    "                addComponentToDiagram(diag, getDictByType(value[\"type\"], components) ,value['name'])\n",
    "\n",
    "        #add connections from structure to diagram\n",
    "        if(set ==\"connections\"):\n",
    "            for n, connection in elements.items():\n",
    "                connectionType = getDictByType(connection[\"type\"], connections)\n",
    "                startComponent = connection[\"startComponent\"]\n",
    "                endComponent = connection[\"endComponent\"]\n",
    "                connectionName = connection[\"name\"]\n",
    "                addConnectionToDiagram(diag,connectionName, connectionType, startComponent, endComponent)\n"
   ]
  },
  {
   "cell_type": "code",
   "execution_count": 352,
   "id": "8065e531",
   "metadata": {
    "scrolled": true
   },
   "outputs": [
    {
     "data": {
      "text/html": [
       "<style>.container { width:60% !important; }</style>"
      ],
      "text/plain": [
       "<IPython.core.display.HTML object>"
      ]
     },
     "metadata": {},
     "output_type": "display_data"
    },
    {
     "name": "stdout",
     "output_type": "stream",
     "text": [
      "Influence Diagram{\n",
      "  chance: 4,\n",
      "  utility: 0,\n",
      "  decision: 0,\n",
      "  arcs: 3,\n",
      "  domainSize: 16\n",
      "}\n"
     ]
    },
    {
     "data": {
      "image/svg+xml": [
       "<svg xmlns=\"http://www.w3.org/2000/svg\" xmlns:xlink=\"http://www.w3.org/1999/xlink\" width=\"783pt\" height=\"126pt\" viewBox=\"0.00 0.00 783.15 126.02\">\n",
       "<g id=\"graph0\" class=\"graph\" transform=\"scale(1 1) rotate(0) translate(4 122.02)\">\n",
       "<title>G</title>\n",
       "<!-- PresentPowerInputsSwitch -->\n",
       "<g id=\"node1\" class=\"node\">\n",
       "<title>PresentPowerInputsSwitch</title>\n",
       "<ellipse fill=\"#808080\" stroke=\"black\" cx=\"147.79\" cy=\"-97.52\" rx=\"147.57\" ry=\"20.51\"/>\n",
       "<text text-anchor=\"middle\" x=\"147.79\" y=\"-93.82\" font-family=\"Times,serif\" font-size=\"14.00\" fill=\"white\">PresentPowerInputsSwitch</text>\n",
       "</g>\n",
       "<!-- PresentPowerOutputsSwitch -->\n",
       "<g id=\"node3\" class=\"node\">\n",
       "<title>PresentPowerOutputsSwitch</title>\n",
       "<ellipse fill=\"#808080\" stroke=\"black\" cx=\"458.79\" cy=\"-20.51\" rx=\"156.04\" ry=\"20.51\"/>\n",
       "<text text-anchor=\"middle\" x=\"458.79\" y=\"-16.81\" font-family=\"Times,serif\" font-size=\"14.00\" fill=\"white\">PresentPowerOutputsSwitch</text>\n",
       "</g>\n",
       "<!-- PresentPowerInputsSwitch&#45;&gt;PresentPowerOutputsSwitch -->\n",
       "<g id=\"edge1\" class=\"edge\">\n",
       "<title>PresentPowerInputsSwitch-&gt;PresentPowerOutputsSwitch</title>\n",
       "<path fill=\"none\" stroke=\"black\" d=\"M218.36,-79.5C265.55,-68.11 327.81,-53.1 377.14,-41.2\"/>\n",
       "<polygon fill=\"black\" stroke=\"black\" points=\"378.25,-44.53 387.15,-38.78 376.61,-37.73 378.25,-44.53\"/>\n",
       "</g>\n",
       "<!-- EnabledStateInputsSwitch -->\n",
       "<g id=\"node2\" class=\"node\">\n",
       "<title>EnabledStateInputsSwitch</title>\n",
       "<ellipse fill=\"#808080\" stroke=\"black\" cx=\"458.79\" cy=\"-97.52\" rx=\"145.83\" ry=\"20.51\"/>\n",
       "<text text-anchor=\"middle\" x=\"458.79\" y=\"-93.82\" font-family=\"Times,serif\" font-size=\"14.00\" fill=\"white\">EnabledStateInputsSwitch</text>\n",
       "</g>\n",
       "<!-- EnabledStateInputsSwitch&#45;&gt;PresentPowerOutputsSwitch -->\n",
       "<g id=\"edge2\" class=\"edge\">\n",
       "<title>EnabledStateInputsSwitch-&gt;PresentPowerOutputsSwitch</title>\n",
       "<path fill=\"none\" stroke=\"black\" d=\"M458.79,-76.81C458.79,-68.97 458.79,-59.78 458.79,-51.17\"/>\n",
       "<polygon fill=\"black\" stroke=\"black\" points=\"462.29,-51.08 458.79,-41.08 455.29,-51.08 462.29,-51.08\"/>\n",
       "</g>\n",
       "<!-- healthSwitch -->\n",
       "<g id=\"node4\" class=\"node\">\n",
       "<title>healthSwitch</title>\n",
       "<ellipse fill=\"#808080\" stroke=\"black\" cx=\"698.79\" cy=\"-97.52\" rx=\"76.24\" ry=\"20.51\"/>\n",
       "<text text-anchor=\"middle\" x=\"698.79\" y=\"-93.82\" font-family=\"Times,serif\" font-size=\"14.00\" fill=\"white\">healthSwitch</text>\n",
       "</g>\n",
       "<!-- healthSwitch&#45;&gt;PresentPowerOutputsSwitch -->\n",
       "<g id=\"edge3\" class=\"edge\">\n",
       "<title>healthSwitch-&gt;PresentPowerOutputsSwitch</title>\n",
       "<path fill=\"none\" stroke=\"black\" d=\"M650.79,-81.52C615.16,-70.38 566.07,-55.04 526.46,-42.66\"/>\n",
       "<polygon fill=\"black\" stroke=\"black\" points=\"527.45,-39.3 516.86,-39.66 525.36,-45.98 527.45,-39.3\"/>\n",
       "</g>\n",
       "</g>\n",
       "</svg>"
      ],
      "text/plain": [
       "<IPython.core.display.SVG object>"
      ]
     },
     "metadata": {},
     "output_type": "display_data"
    }
   ],
   "source": [
    "from IPython.display import display, HTML\n",
    "display(HTML(\"<style>.container { width:60% !important; }</style>\"))\n",
    "\n",
    "# create diagram\n",
    "diagram = gum.InfluenceDiagram()\n",
    "\n",
    "# read structure, add to diagram\n",
    "buildDiagram(diagram, assembly)\n",
    "\n",
    "# print summary of nodes\n",
    "print(diagram)\n",
    "\n",
    "# view structure\n",
    "gnb.showInfluenceDiagram(diagram, size=60)"
   ]
  },
  {
   "cell_type": "code",
   "execution_count": null,
   "id": "775babd9",
   "metadata": {},
   "outputs": [],
   "source": []
  },
  {
   "cell_type": "markdown",
   "id": "7c68c9d3",
   "metadata": {},
   "source": [
    "# probabilities"
   ]
  },
  {
   "cell_type": "markdown",
   "id": "15fe7f81",
   "metadata": {},
   "source": [
    "todo's:\n",
    "\n",
    "- determine components in diagram: switch, switch1 etc\n",
    "\n",
    "Health en Inputs\n",
    "- set priors van health, dit zijn altijd nodes zonder parent\n",
    "- set priors van inputs, dit zijn ook nodes zonder parent, alternatieven:\n",
    "  - eigen prior\n",
    "  - afleiden uit behaviorstates, kans is 1 -/- failurekansen\n",
    "  - een setting \"expected\"\n",
    "\n",
    "Outputs\n",
    "- behaviorstates definieren wat normaal is of niet voor hele component, de relatie tussen input / health en output is deterministic en dus 0 of 1, zie par 5.2.3\n",
    "bijv normal1 voor switch is power in yes / enabled yes > power uit yes\n",
    "- indien broken dan kans op NO is 1\n",
    "- indien switch uit dan kans op NO is 1\n",
    "\n",
    "connecties\n",
    "- hoe doe je dat bij connecties, de input krijgt er een parent en een health bij\n",
    "\n",
    " "
   ]
  },
  {
   "cell_type": "code",
   "execution_count": 469,
   "id": "0100a2bc",
   "metadata": {},
   "outputs": [],
   "source": [
    "# determine ids in diagram for named component in diagram\n",
    "def getIdsForName(name):\n",
    "    ids = []\n",
    "    for n in diagram.names():\n",
    "        if (re.search(v[\"name\"], n)):\n",
    "            ids.append(diagram.idFromName(n))\n",
    "    return ids\n",
    "\n",
    "def setCPTHealthNode(i, typedict):\n",
    "    pass\n",
    "\n",
    "\n",
    "def setCPTInputsNode(i, typedict):\n",
    "    pass\n",
    "\n",
    "def setCPTOutputsNode(i, typedict):\n",
    "\n",
    "#TODOTODO\n",
    "# maak tabel vanuit key behavior voor normaal gedrag conform artikel is te specificeren\n",
    "# loop door id's met loopIn()\n",
    "# maak dan dict aan\n",
    "# check of dict voorkomt in normaal tabel \n",
    "# zo ja: 1, diagram.cpt(id).set(instantiation,value)\n",
    "# anders 0\n",
    "\n",
    "\n",
    "   \n",
    "    \n",
    "    for name in diagram.cpt(i).names:\n",
    "        print(name)\n",
    "        for k, nstate in switch[\"Behavior\"]['normal'].items():\n",
    "            print(k)\n",
    "            print(nstate)\n",
    "       \n",
    "        \n",
    "#        for m in [\"Inputs\", \"Outputs\", \"Healths\"]:\n",
    "#            for k, v in switch99[m].items():\n",
    "#                print(v[\"modality\"] + v[\"property\"] + m + \":\" + v[nstate])\n",
    "     \n",
    "#    diagram.cpt(i).fillWith(cptlist)\n",
    "#    print(diagram.cpt(i))\n",
    "\n",
    "\n",
    "\n",
    "#    cptlist = [1,1,1,1,0,0,0,0,1,1,1,1,0,0,0,0]\n",
    "\n",
    "    \n",
    "   \n",
    "    \n",
    "\n"
   ]
  },
  {
   "cell_type": "code",
   "execution_count": 470,
   "id": "c35efedf",
   "metadata": {},
   "outputs": [
    {
     "name": "stdout",
     "output_type": "stream",
     "text": [
      "PresentPowerOutputsSwitch\n",
      "PresentPowerInputs\n",
      "['yes', 'yes', 'no']\n",
      "EnabledStateInputs\n",
      "['yes', 'yes', 'no']\n",
      "PresentPowerOutputs\n",
      "['yes', 'yes', 'no']\n",
      "healthSwitch\n",
      "PresentPowerInputs\n",
      "['yes', 'yes', 'no']\n",
      "EnabledStateInputs\n",
      "['yes', 'yes', 'no']\n",
      "PresentPowerOutputs\n",
      "['yes', 'yes', 'no']\n",
      "PresentPowerInputsSwitch\n",
      "PresentPowerInputs\n",
      "['yes', 'yes', 'no']\n",
      "EnabledStateInputs\n",
      "['yes', 'yes', 'no']\n",
      "PresentPowerOutputs\n",
      "['yes', 'yes', 'no']\n",
      "EnabledStateInputsSwitch\n",
      "PresentPowerInputs\n",
      "['yes', 'yes', 'no']\n",
      "EnabledStateInputs\n",
      "['yes', 'yes', 'no']\n",
      "PresentPowerOutputs\n",
      "['yes', 'yes', 'no']\n"
     ]
    }
   ],
   "source": [
    "for k, v in assembly[\"structure\"][\"components\"].items():\n",
    "    ids = getIdsForName(v[\"name\"])\n",
    "    typedict = getDictByType(v[\"type\"],assembly[\"components\"])\n",
    "    for i in ids:\n",
    "        if (diagram.isChanceNode(i)):\n",
    "            if re.search(\"health\", diagram.variable(i).name()):\n",
    "                setCPTHealthNode(i, typedict)\n",
    "            elif re.search(\"Inputs\", diagram.variable(i).name()):\n",
    "                setCPTInputsNode(i, typedict)\n",
    "            elif re.search(\"Outputs\", diagram.variable(i).name()):\n",
    "                setCPTOutputsNode(i, typedict)\n"
   ]
  },
  {
   "cell_type": "code",
   "execution_count": null,
   "id": "96c9db6b",
   "metadata": {},
   "outputs": [],
   "source": []
  },
  {
   "cell_type": "code",
   "execution_count": 409,
   "id": "5d03d94c",
   "metadata": {},
   "outputs": [
    {
     "data": {
      "text/html": [
       "<table style=\"border:1px solid black;\">\n",
       "<tr><th colspan='3'></th>\n",
       "      <th colspan='2' style='border:1px solid black;color:black;background-color:#808080;'><center>PresentPowerOutputsSwitch</center>\n",
       "      </th></tr>\n",
       "<tr><th style='border:1px solid black;color:black;background-color:#808080'><center>EnabledStateInputsSwitch</center></th><th style='border:1px solid black;color:black;background-color:#808080'><center>PresentPowerInputsSwitch</center></th><th style='border:1px solid black;color:black;background-color:#808080'><center>healthSwitch</center></th><th style='border:1px solid black;border-bottom-style: double;color:black;background-color:#BBBBBB'>\n",
       "      <center>yes</center></th><th style='border:1px solid black;border-bottom-style: double;color:black;background-color:#BBBBBB'>\n",
       "      <center>no</center></th></tr>\n",
       "<tr><th style='border:1px solid black;color:black;background-color:#BBBBBB;' rowspan = '4'>\n",
       "            <center>yes</center></th><th style='border:1px solid black;color:black;background-color:#BBBBBB;' rowspan = '2'>\n",
       "            <center>yes</center></th><th style='border:1px solid black;color:black;background-color:#BBBBBB'><center>ok</center></th><td style='text-align:right;'>0.0000</td><td style='text-align:right;'>0.0000</td></tr>\n",
       "<tr><th style='border:1px solid black;color:black;background-color:#BBBBBB'><center>broken</center></th><td style='text-align:right;'>0.0000</td><td style='text-align:right;'>0.0000</td></tr>\n",
       "<tr><th style='border:1px solid black;color:black;background-color:#BBBBBB;' rowspan = '2'>\n",
       "            <center>no</center></th><th style='border:1px solid black;color:black;background-color:#BBBBBB'><center>ok</center></th><td style='text-align:right;'>0.0000</td><td style='text-align:right;'>0.0000</td></tr>\n",
       "<tr><th style='border:1px solid black;color:black;background-color:#BBBBBB'><center>broken</center></th><td style='text-align:right;'>0.0000</td><td style='text-align:right;'>0.0000</td></tr>\n",
       "<tr><th style='border:1px solid black;color:black;background-color:#BBBBBB;' rowspan = '4'>\n",
       "            <center>no</center></th><th style='border:1px solid black;color:black;background-color:#BBBBBB;' rowspan = '2'>\n",
       "            <center>yes</center></th><th style='border:1px solid black;color:black;background-color:#BBBBBB'><center>ok</center></th><td style='text-align:right;'>0.0000</td><td style='text-align:right;'>0.0000</td></tr>\n",
       "<tr><th style='border:1px solid black;color:black;background-color:#BBBBBB'><center>broken</center></th><td style='text-align:right;'>0.0000</td><td style='text-align:right;'>0.0000</td></tr>\n",
       "<tr><th style='border:1px solid black;color:black;background-color:#BBBBBB;' rowspan = '2'>\n",
       "            <center>no</center></th><th style='border:1px solid black;color:black;background-color:#BBBBBB'><center>ok</center></th><td style='text-align:right;'>0.0000</td><td style='text-align:right;'>0.0000</td></tr>\n",
       "<tr><th style='border:1px solid black;color:black;background-color:#BBBBBB'><center>broken</center></th><td style='text-align:right;'>0.0000</td><td style='text-align:right;'>0.0000</td></tr>\n",
       "</table>"
      ],
      "text/plain": [
       "(pyAgrum.Potential<double>@0x2035db10) \n",
       "                    ||  PresentPowerOutpu|\n",
       "health|Presen|Enable||yes      |no       |\n",
       "------|------|------||---------|---------|\n",
       "ok    |yes   |yes   || 0.0000  | 0.0000  |\n",
       "broken|yes   |yes   || 0.0000  | 0.0000  |\n",
       "ok    |no    |yes   || 0.0000  | 0.0000  |\n",
       "broken|no    |yes   || 0.0000  | 0.0000  |\n",
       "ok    |yes   |no    || 0.0000  | 0.0000  |\n",
       "broken|yes   |no    || 0.0000  | 0.0000  |\n",
       "ok    |no    |no    || 0.0000  | 0.0000  |\n",
       "broken|no    |no    || 0.0000  | 0.0000  |"
      ]
     },
     "execution_count": 409,
     "metadata": {},
     "output_type": "execute_result"
    }
   ],
   "source": [
    "diagram.cpt(2)"
   ]
  },
  {
   "cell_type": "code",
   "execution_count": null,
   "id": "5bb74f4d",
   "metadata": {},
   "outputs": [],
   "source": []
  },
  {
   "cell_type": "code",
   "execution_count": null,
   "id": "de4dc862",
   "metadata": {},
   "outputs": [],
   "source": []
  },
  {
   "cell_type": "code",
   "execution_count": null,
   "id": "d16131c9",
   "metadata": {},
   "outputs": [],
   "source": []
  },
  {
   "cell_type": "code",
   "execution_count": 492,
   "id": "e5c476c9",
   "metadata": {},
   "outputs": [
    {
     "data": {
      "text/html": [
       "<table style=\"border:1px solid black;\">\n",
       "<tr><th colspan='3'></th>\n",
       "      <th colspan='2' style='border:1px solid black;color:black;background-color:#808080;'><center>PresentPowerOutputsSwitch</center>\n",
       "      </th></tr>\n",
       "<tr><th style='border:1px solid black;color:black;background-color:#808080'><center>EnabledStateInputsSwitch</center></th><th style='border:1px solid black;color:black;background-color:#808080'><center>PresentPowerInputsSwitch</center></th><th style='border:1px solid black;color:black;background-color:#808080'><center>healthSwitch</center></th><th style='border:1px solid black;border-bottom-style: double;color:black;background-color:#BBBBBB'>\n",
       "      <center>yes</center></th><th style='border:1px solid black;border-bottom-style: double;color:black;background-color:#BBBBBB'>\n",
       "      <center>no</center></th></tr>\n",
       "<tr><th style='border:1px solid black;color:black;background-color:#BBBBBB;' rowspan = '4'>\n",
       "            <center>yes</center></th><th style='border:1px solid black;color:black;background-color:#BBBBBB;' rowspan = '2'>\n",
       "            <center>yes</center></th><th style='border:1px solid black;color:black;background-color:#BBBBBB'><center>ok</center></th><td style='text-align:right;'>2.0000</td><td style='text-align:right;'>2.0000</td></tr>\n",
       "<tr><th style='border:1px solid black;color:black;background-color:#BBBBBB'><center>broken</center></th><td style='text-align:right;'>1.0000</td><td style='text-align:right;'>1.0000</td></tr>\n",
       "<tr><th style='border:1px solid black;color:black;background-color:#BBBBBB;' rowspan = '2'>\n",
       "            <center>no</center></th><th style='border:1px solid black;color:black;background-color:#BBBBBB'><center>ok</center></th><td style='text-align:right;'>2.0000</td><td style='text-align:right;'>2.0000</td></tr>\n",
       "<tr><th style='border:1px solid black;color:black;background-color:#BBBBBB'><center>broken</center></th><td style='text-align:right;'>0.0000</td><td style='text-align:right;'>0.0000</td></tr>\n",
       "<tr><th style='border:1px solid black;color:black;background-color:#BBBBBB;' rowspan = '4'>\n",
       "            <center>no</center></th><th style='border:1px solid black;color:black;background-color:#BBBBBB;' rowspan = '2'>\n",
       "            <center>yes</center></th><th style='border:1px solid black;color:black;background-color:#BBBBBB'><center>ok</center></th><td style='text-align:right;'>2.0000</td><td style='text-align:right;'>2.0000</td></tr>\n",
       "<tr><th style='border:1px solid black;color:black;background-color:#BBBBBB'><center>broken</center></th><td style='text-align:right;'>1.0000</td><td style='text-align:right;'>1.0000</td></tr>\n",
       "<tr><th style='border:1px solid black;color:black;background-color:#BBBBBB;' rowspan = '2'>\n",
       "            <center>no</center></th><th style='border:1px solid black;color:black;background-color:#BBBBBB'><center>ok</center></th><td style='text-align:right;'>2.0000</td><td style='text-align:right;'>2.0000</td></tr>\n",
       "<tr><th style='border:1px solid black;color:black;background-color:#BBBBBB'><center>broken</center></th><td style='text-align:right;'>0.0000</td><td style='text-align:right;'>0.0000</td></tr>\n",
       "</table>"
      ],
      "text/plain": [
       "(pyAgrum.Potential<double>@0x2035db10) \n",
       "                    ||  PresentPowerOutpu|\n",
       "health|Presen|Enable||yes      |no       |\n",
       "------|------|------||---------|---------|\n",
       "ok    |yes   |yes   || 2.0000  | 2.0000  |\n",
       "broken|yes   |yes   || 1.0000  | 1.0000  |\n",
       "ok    |no    |yes   || 2.0000  | 2.0000  |\n",
       "broken|no    |yes   || 0.0000  | 0.0000  |\n",
       "ok    |yes   |no    || 2.0000  | 2.0000  |\n",
       "broken|yes   |no    || 1.0000  | 1.0000  |\n",
       "ok    |no    |no    || 2.0000  | 2.0000  |\n",
       "broken|no    |no    || 0.0000  | 0.0000  |"
      ]
     },
     "execution_count": 492,
     "metadata": {},
     "output_type": "execute_result"
    }
   ],
   "source": [
    "diagram.cpt(2)"
   ]
  },
  {
   "cell_type": "code",
   "execution_count": 491,
   "id": "ee46a840",
   "metadata": {},
   "outputs": [],
   "source": [
    "for i in diagram.cpt(2).loopIn():\n",
    "#    print(i)\n",
    "    if(i.todict()[\"healthSwitch\"] == \"ok\"):\n",
    "        diagram.cpt(2).set(i,2)"
   ]
  },
  {
   "cell_type": "code",
   "execution_count": 403,
   "id": "7e74a6c4",
   "metadata": {},
   "outputs": [],
   "source": [
    "probabilities = {\n",
    "\"PresentPowerInputsLight:yes|PresentPowerOutputsSwitch:yes|healthWire:ok\":0.2,\n",
    "\"PresentPowerInputsLight:no|PresentPowerOutputsSwitch:yes|healthWire:ok\":0.3,\n",
    "\"PresentPowerInputsLight:yes|PresentPowerOutputsSwitch:no|healthWire:ok\":0.4,\n",
    "\"PresentPowerInputsLight:no|PresentPowerOutputsSwitch:no|healthWire:ok\":0.5,\n",
    "\"PresentPowerInputsLight:yes|PresentPowerOutputsSwitch:yes|healthWire:broken\":0.6,\n",
    "\"PresentPowerInputsLight:no|PresentPowerOutputsSwitch:yes|healthWire:broken\":0.7,\n",
    "\"PresentPowerInputsLight:yes|PresentPowerOutputsSwitch:no|healthWire:broken\":0.8,\n",
    "\"PresentPowerInputsLight:no|PresentPowerOutputsSwitch:no|healthWire:broken\":0.9\n",
    "}\n",
    "\n",
    "probabilities2 = {\n",
    "    \"order\": (\"PresentPowerInputsLight\", \"PresentPowerOutputsSwitch\", \"healthWire\"),\n",
    "    \"yes:yes:ok\":0.9,\n",
    "    \"no:yes:ok\":0.8,\n",
    "    \"yes:no:ok\":0.7,\n",
    "    \"no:no:ok\":0.6,\n",
    "    \"yes:yes:broken\":0.5,\n",
    "    \"no:yes:broken\":0.4,\n",
    "    \"yes:no:broken\":0.3,\n",
    "    \"no:no:broken\":0.2\n",
    "}"
   ]
  },
  {
   "cell_type": "code",
   "execution_count": 471,
   "id": "a43d3d87",
   "metadata": {},
   "outputs": [
    {
     "ename": "NotFound",
     "evalue": "[pyAgrum] Object not found: No element with the key <PresentPowerInputsLight>",
     "output_type": "error",
     "traceback": [
      "\u001b[0;31m---------------------------------------------------------------------------\u001b[0m",
      "\u001b[0;31mNotFound\u001b[0m                                  Traceback (most recent call last)",
      "Cell \u001b[0;32mIn[471], line 1\u001b[0m\n\u001b[0;32m----> 1\u001b[0m id1 \u001b[38;5;241m=\u001b[39m diagram\u001b[38;5;241m.\u001b[39midFromName(\u001b[38;5;124m\"\u001b[39m\u001b[38;5;124mPresentPowerInputsLight\u001b[39m\u001b[38;5;124m\"\u001b[39m)\n\u001b[1;32m      2\u001b[0m \u001b[38;5;28;01mfor\u001b[39;00m i \u001b[38;5;129;01min\u001b[39;00m diagram\u001b[38;5;241m.\u001b[39mcpt(id1)\u001b[38;5;241m.\u001b[39mloopIn():\n\u001b[1;32m      3\u001b[0m     d \u001b[38;5;241m=\u001b[39m i\u001b[38;5;241m.\u001b[39mtodict()\n",
      "File \u001b[0;32m~/.local/lib/python3.11/site-packages/pyAgrum/pyAgrum.py:25005\u001b[0m, in \u001b[0;36mInfluenceDiagram.idFromName\u001b[0;34m(self, name)\u001b[0m\n\u001b[1;32m  24984\u001b[0m \u001b[38;5;28;01mdef\u001b[39;00m \u001b[38;5;21midFromName\u001b[39m(\u001b[38;5;28mself\u001b[39m, name: \u001b[38;5;28mstr\u001b[39m) \u001b[38;5;241m-\u001b[39m\u001b[38;5;241m>\u001b[39m \u001b[38;5;28mint\u001b[39m:\n\u001b[1;32m  24985\u001b[0m \u001b[38;5;250m    \u001b[39m\u001b[38;5;124mr\u001b[39m\u001b[38;5;124;03m\"\"\"\u001b[39;00m\n\u001b[1;32m  24986\u001b[0m \n\u001b[1;32m  24987\u001b[0m \u001b[38;5;124;03m    Returns a variable's id given its name.\u001b[39;00m\n\u001b[0;32m   (...)\u001b[0m\n\u001b[1;32m  25003\u001b[0m \n\u001b[1;32m  25004\u001b[0m \u001b[38;5;124;03m    \"\"\"\u001b[39;00m\n\u001b[0;32m> 25005\u001b[0m     \u001b[38;5;28;01mreturn\u001b[39;00m _pyAgrum\u001b[38;5;241m.\u001b[39mInfluenceDiagram_idFromName(\u001b[38;5;28mself\u001b[39m, name)\n",
      "\u001b[0;31mNotFound\u001b[0m: [pyAgrum] Object not found: No element with the key <PresentPowerInputsLight>"
     ]
    }
   ],
   "source": [
    "id1 = diagram.idFromName(\"PresentPowerInputsLight\")\n",
    "for i in diagram.cpt(id1).loopIn():\n",
    "    d = i.todict()\n",
    "    s = \"\"\n",
    "    for k, v in d.items():\n",
    "        s = s + k + \":\" + v + \"|\"\n",
    "    c = probabilities[s[:-1]]\n",
    "    diagram.cpt(id1).set(i,c)\n",
    "diagram.cpt(id1)\n",
    "    "
   ]
  },
  {
   "cell_type": "code",
   "execution_count": 259,
   "id": "02d7bc98",
   "metadata": {},
   "outputs": [
    {
     "data": {
      "text/html": [
       "<table style=\"border:1px solid black;\">\n",
       "<tr><th colspan='2'></th>\n",
       "      <th colspan='2' style='border:1px solid black;color:black;background-color:#808080;'><center>PresentPowerInputsLight</center>\n",
       "      </th></tr>\n",
       "<tr><th style='border:1px solid black;color:black;background-color:#808080'><center>healthWire</center></th><th style='border:1px solid black;color:black;background-color:#808080'><center>PresentPowerOutputsSwitch</center></th><th style='border:1px solid black;border-bottom-style: double;color:black;background-color:#BBBBBB'>\n",
       "      <center>yes</center></th><th style='border:1px solid black;border-bottom-style: double;color:black;background-color:#BBBBBB'>\n",
       "      <center>no</center></th></tr>\n",
       "<tr><th style='border:1px solid black;color:black;background-color:#BBBBBB;' rowspan = '2'>\n",
       "            <center>ok</center></th><th style='border:1px solid black;color:black;background-color:#BBBBBB'><center>yes</center></th><td style='text-align:right;'>0.9000</td><td style='text-align:right;'>0.8000</td></tr>\n",
       "<tr><th style='border:1px solid black;color:black;background-color:#BBBBBB'><center>no</center></th><td style='text-align:right;'>0.7000</td><td style='text-align:right;'>0.6000</td></tr>\n",
       "<tr><th style='border:1px solid black;color:black;background-color:#BBBBBB;' rowspan = '2'>\n",
       "            <center>broken</center></th><th style='border:1px solid black;color:black;background-color:#BBBBBB'><center>yes</center></th><td style='text-align:right;'>0.5000</td><td style='text-align:right;'>0.4000</td></tr>\n",
       "<tr><th style='border:1px solid black;color:black;background-color:#BBBBBB'><center>no</center></th><td style='text-align:right;'>0.3000</td><td style='text-align:right;'>0.2000</td></tr>\n",
       "</table>"
      ],
      "text/plain": [
       "(pyAgrum.Potential<double>@0x1fc22cb0) \n",
       "             ||  PresentPowerInput|\n",
       "Presen|health||yes      |no       |\n",
       "------|------||---------|---------|\n",
       "yes   |ok    || 0.9000  | 0.8000  |\n",
       "no    |ok    || 0.7000  | 0.6000  |\n",
       "yes   |broken|| 0.5000  | 0.4000  |\n",
       "no    |broken|| 0.3000  | 0.2000  |"
      ]
     },
     "execution_count": 259,
     "metadata": {},
     "output_type": "execute_result"
    }
   ],
   "source": [
    "id1 = diagram.idFromName(\"PresentPowerInputsLight\")\n",
    "names = diagram.cpt(id1).names\n",
    "cptlist = []\n",
    "if (names == probabilities2[\"order\"]):\n",
    "    for k, v in probabilities2.items():\n",
    "        if (k != \"order\"):\n",
    "            cptlist.append(v)\n",
    "diagram.cpt(id1).fillWith(cptlist)\n",
    "diagram.cpt(id1)\n",
    "            \n",
    "\n",
    "\n"
   ]
  },
  {
   "cell_type": "code",
   "execution_count": null,
   "id": "a8a89921",
   "metadata": {},
   "outputs": [],
   "source": []
  },
  {
   "cell_type": "code",
   "execution_count": null,
   "id": "84080294",
   "metadata": {},
   "outputs": [],
   "source": []
  },
  {
   "cell_type": "code",
   "execution_count": null,
   "id": "f426e6fd",
   "metadata": {},
   "outputs": [],
   "source": []
  },
  {
   "cell_type": "code",
   "execution_count": null,
   "id": "a0eb3a6e",
   "metadata": {},
   "outputs": [],
   "source": []
  },
  {
   "cell_type": "code",
   "execution_count": 193,
   "id": "44577f4e",
   "metadata": {},
   "outputs": [],
   "source": [
    "labvar = gum.LabelizedVariable(\"healthWire\", \"healthWire\",[\"ok\",\"broken\"])"
   ]
  },
  {
   "cell_type": "code",
   "execution_count": 200,
   "id": "f03aaa47",
   "metadata": {},
   "outputs": [
    {
     "name": "stdout",
     "output_type": "stream",
     "text": [
      "<healthWire:ok>\n"
     ]
    }
   ],
   "source": [
    "i = gum.Instantiation()\n",
    "i.add(labvar)\n",
    "i.fromdict({'healthWire': 'ok'})\n",
    "print(i)"
   ]
  },
  {
   "cell_type": "code",
   "execution_count": 201,
   "id": "06dfd3b1",
   "metadata": {},
   "outputs": [
    {
     "ename": "InvalidArgument",
     "evalue": "[pyAgrum] Invalid argument: healthWire not present in the instantiation <healthWire:ok>",
     "output_type": "error",
     "traceback": [
      "\u001b[0;31m---------------------------------------------------------------------------\u001b[0m",
      "\u001b[0;31mInvalidArgument\u001b[0m                           Traceback (most recent call last)",
      "Cell \u001b[0;32mIn[201], line 1\u001b[0m\n\u001b[0;32m----> 1\u001b[0m diagram\u001b[38;5;241m.\u001b[39mcpt(id1)\u001b[38;5;241m.\u001b[39mget(i)\n",
      "File \u001b[0;32m~/.local/lib/python3.11/site-packages/pyAgrum/pyAgrum.py:9433\u001b[0m, in \u001b[0;36mPotential.get\u001b[0;34m(self, i)\u001b[0m\n\u001b[1;32m   9419\u001b[0m \u001b[38;5;28;01mdef\u001b[39;00m \u001b[38;5;21mget\u001b[39m(\u001b[38;5;28mself\u001b[39m, i: \u001b[38;5;124m\"\u001b[39m\u001b[38;5;124mInstantiation\u001b[39m\u001b[38;5;124m\"\u001b[39m) \u001b[38;5;241m-\u001b[39m\u001b[38;5;241m>\u001b[39m \u001b[38;5;28mfloat\u001b[39m:\n\u001b[1;32m   9420\u001b[0m \u001b[38;5;250m    \u001b[39m\u001b[38;5;124mr\u001b[39m\u001b[38;5;124;03m\"\"\"\u001b[39;00m\n\u001b[1;32m   9421\u001b[0m \n\u001b[1;32m   9422\u001b[0m \u001b[38;5;124;03m    Parameters\u001b[39;00m\n\u001b[0;32m   (...)\u001b[0m\n\u001b[1;32m   9431\u001b[0m \n\u001b[1;32m   9432\u001b[0m \u001b[38;5;124;03m    \"\"\"\u001b[39;00m\n\u001b[0;32m-> 9433\u001b[0m     \u001b[38;5;28;01mreturn\u001b[39;00m _pyAgrum\u001b[38;5;241m.\u001b[39mPotential_get(\u001b[38;5;28mself\u001b[39m, i)\n",
      "\u001b[0;31mInvalidArgument\u001b[0m: [pyAgrum] Invalid argument: healthWire not present in the instantiation <healthWire:ok>"
     ]
    }
   ],
   "source": [
    "diagram.cpt(id1).get(i)"
   ]
  },
  {
   "cell_type": "code",
   "execution_count": 198,
   "id": "69ca9e5b",
   "metadata": {},
   "outputs": [
    {
     "data": {
      "text/plain": [
       "{'healthWire': 'ok'}"
      ]
     },
     "execution_count": 198,
     "metadata": {},
     "output_type": "execute_result"
    }
   ],
   "source": [
    "l = []\n",
    "\n",
    "for i in diagram.cpt(id1).loopIn():\n",
    "#    print(i)\n",
    "    l.append(i)\n",
    "    \n",
    "l[0].todict()"
   ]
  },
  {
   "cell_type": "code",
   "execution_count": null,
   "id": "1c8f2a04",
   "metadata": {},
   "outputs": [],
   "source": []
  },
  {
   "cell_type": "code",
   "execution_count": null,
   "id": "f3b66ad9",
   "metadata": {},
   "outputs": [],
   "source": []
  },
  {
   "cell_type": "code",
   "execution_count": null,
   "id": "f5f2ed69",
   "metadata": {},
   "outputs": [],
   "source": []
  },
  {
   "cell_type": "code",
   "execution_count": null,
   "id": "10d88aed",
   "metadata": {},
   "outputs": [],
   "source": []
  },
  {
   "cell_type": "code",
   "execution_count": 113,
   "id": "96d7b93f",
   "metadata": {},
   "outputs": [
    {
     "data": {
      "text/plain": [
       "('PresentPowerOutputsSwitch',\n",
       " 'healthSwitch',\n",
       " 'PresentPowerInputsSwitch',\n",
       " 'EnabledStateInputsSwitch')"
      ]
     },
     "execution_count": 113,
     "metadata": {},
     "output_type": "execute_result"
    }
   ],
   "source": [
    "values = [0.1,0.2,0.3,0.4,0.5,0.6,0.7,0.8,0.9,0.11,0.12,0.13,0.14,0.15,0.16,0.17]\n",
    "diagram.cpt(id1).names\n"
   ]
  },
  {
   "cell_type": "code",
   "execution_count": 114,
   "id": "ac1b5952",
   "metadata": {},
   "outputs": [
    {
     "data": {
      "text/html": [
       "<table style=\"border:1px solid black;\">\n",
       "<tr><th colspan='3'></th>\n",
       "      <th colspan='2' style='border:1px solid black;color:black;background-color:#808080;'><center>PresentPowerOutputsSwitch</center>\n",
       "      </th></tr>\n",
       "<tr><th style='border:1px solid black;color:black;background-color:#808080'><center>EnabledStateInputsSwitch</center></th><th style='border:1px solid black;color:black;background-color:#808080'><center>PresentPowerInputsSwitch</center></th><th style='border:1px solid black;color:black;background-color:#808080'><center>healthSwitch</center></th><th style='border:1px solid black;border-bottom-style: double;color:black;background-color:#BBBBBB'>\n",
       "      <center>yes</center></th><th style='border:1px solid black;border-bottom-style: double;color:black;background-color:#BBBBBB'>\n",
       "      <center>no</center></th></tr>\n",
       "<tr><th style='border:1px solid black;color:black;background-color:#BBBBBB;' rowspan = '4'>\n",
       "            <center>yes</center></th><th style='border:1px solid black;color:black;background-color:#BBBBBB;' rowspan = '2'>\n",
       "            <center>yes</center></th><th style='border:1px solid black;color:black;background-color:#BBBBBB'><center>ok</center></th><td style='text-align:right;'>0.1000</td><td style='text-align:right;'>0.2000</td></tr>\n",
       "<tr><th style='border:1px solid black;color:black;background-color:#BBBBBB'><center>broken</center></th><td style='text-align:right;'>0.3000</td><td style='text-align:right;'>0.4000</td></tr>\n",
       "<tr><th style='border:1px solid black;color:black;background-color:#BBBBBB;' rowspan = '2'>\n",
       "            <center>no</center></th><th style='border:1px solid black;color:black;background-color:#BBBBBB'><center>ok</center></th><td style='text-align:right;'>0.5000</td><td style='text-align:right;'>0.6000</td></tr>\n",
       "<tr><th style='border:1px solid black;color:black;background-color:#BBBBBB'><center>broken</center></th><td style='text-align:right;'>0.7000</td><td style='text-align:right;'>0.8000</td></tr>\n",
       "<tr><th style='border:1px solid black;color:black;background-color:#BBBBBB;' rowspan = '4'>\n",
       "            <center>no</center></th><th style='border:1px solid black;color:black;background-color:#BBBBBB;' rowspan = '2'>\n",
       "            <center>yes</center></th><th style='border:1px solid black;color:black;background-color:#BBBBBB'><center>ok</center></th><td style='text-align:right;'>0.9000</td><td style='text-align:right;'>0.1100</td></tr>\n",
       "<tr><th style='border:1px solid black;color:black;background-color:#BBBBBB'><center>broken</center></th><td style='text-align:right;'>0.1200</td><td style='text-align:right;'>0.1300</td></tr>\n",
       "<tr><th style='border:1px solid black;color:black;background-color:#BBBBBB;' rowspan = '2'>\n",
       "            <center>no</center></th><th style='border:1px solid black;color:black;background-color:#BBBBBB'><center>ok</center></th><td style='text-align:right;'>0.1400</td><td style='text-align:right;'>0.1500</td></tr>\n",
       "<tr><th style='border:1px solid black;color:black;background-color:#BBBBBB'><center>broken</center></th><td style='text-align:right;'>0.1600</td><td style='text-align:right;'>0.1700</td></tr>\n",
       "</table>"
      ],
      "text/plain": [
       "(pyAgrum.Potential<double>@0x1fbe0140) \n",
       "                    ||  PresentPowerOutpu|\n",
       "health|Presen|Enable||yes      |no       |\n",
       "------|------|------||---------|---------|\n",
       "ok    |yes   |yes   || 0.1000  | 0.2000  |\n",
       "broken|yes   |yes   || 0.3000  | 0.4000  |\n",
       "ok    |no    |yes   || 0.5000  | 0.6000  |\n",
       "broken|no    |yes   || 0.7000  | 0.8000  |\n",
       "ok    |yes   |no    || 0.9000  | 0.1100  |\n",
       "broken|yes   |no    || 0.1200  | 0.1300  |\n",
       "ok    |no    |no    || 0.1400  | 0.1500  |\n",
       "broken|no    |no    || 0.1600  | 0.1700  |"
      ]
     },
     "execution_count": 114,
     "metadata": {},
     "output_type": "execute_result"
    }
   ],
   "source": [
    "diagram.cpt(id1).fillWith(values)"
   ]
  },
  {
   "cell_type": "code",
   "execution_count": null,
   "id": "cfa6358d",
   "metadata": {},
   "outputs": [],
   "source": []
  },
  {
   "cell_type": "code",
   "execution_count": 119,
   "id": "d7f71f3c",
   "metadata": {},
   "outputs": [
    {
     "name": "stdout",
     "output_type": "stream",
     "text": [
      "\n",
      "             ||  A                          |\n",
      "B     |C     ||1        |2        |3        |\n",
      "------|------||---------|---------|---------|\n",
      "1     |1     || 1.0000  | 2.0000  | 3.0000  |\n",
      "2     |1     || 4.0000  | 5.0000  | 6.0000  |\n",
      "1     |2     || 7.0000  | 8.0000  | 9.0000  |\n",
      "2     |2     || 10.0000 | 11.0000 | 12.0000 |\n",
      "\n"
     ]
    }
   ],
   "source": [
    "a = gum.RangeVariable(\"A\",\"variable A\", 1, 3)\n",
    "b = gum.RangeVariable(\"B\",\"variable B\", 1, 2)\n",
    "c = gum.RangeVariable(\"C\",\"variable C\", 1, 2)\n",
    "\n",
    "p = gum.Potential().add(a).add(b).add(c).fillWith([1,2,3,4,5,6,7,8,9,10,11,12])\n",
    "print(p)"
   ]
  },
  {
   "cell_type": "code",
   "execution_count": 149,
   "id": "3cd829ea",
   "metadata": {},
   "outputs": [
    {
     "name": "stdout",
     "output_type": "stream",
     "text": [
      "<class 'pyAgrum.pyAgrum.Instantiation'>\n",
      "<class 'pyAgrum.pyAgrum.Instantiation'>\n",
      "<class 'pyAgrum.pyAgrum.Instantiation'>\n",
      "<class 'pyAgrum.pyAgrum.Instantiation'>\n",
      "<class 'pyAgrum.pyAgrum.Instantiation'>\n",
      "<class 'pyAgrum.pyAgrum.Instantiation'>\n",
      "<class 'pyAgrum.pyAgrum.Instantiation'>\n",
      "<class 'pyAgrum.pyAgrum.Instantiation'>\n",
      "<class 'pyAgrum.pyAgrum.Instantiation'>\n",
      "<class 'pyAgrum.pyAgrum.Instantiation'>\n",
      "<class 'pyAgrum.pyAgrum.Instantiation'>\n",
      "<class 'pyAgrum.pyAgrum.Instantiation'>\n"
     ]
    }
   ],
   "source": [
    "for i in p.loopIn():\n",
    "    print(type(i))"
   ]
  },
  {
   "cell_type": "code",
   "execution_count": 459,
   "id": "9e6752a9",
   "metadata": {},
   "outputs": [],
   "source": [
    "switch99 = {\n",
    "    \"type\":\"Switch\",\n",
    "    \"Inputs\":{\n",
    "        \"1\":{\n",
    "            \"modality\":\"Power\",\n",
    "            \"property\":\"Present\",\n",
    "            \"propertyvalues\":[\"yes\", \"no\"],\n",
    "            \"normal1\":\"yes\",\n",
    "            \"normal2\":\"*\",\n",
    "            \"failure1\":\"no\"\n",
    "        },\n",
    "        \"2\":\n",
    "        {\n",
    "            \"modality\":\"State\",\n",
    "            \"property\":\"Enabled\",\n",
    "            \"propertyvalues\":[\"yes\", \"no\"]\n",
    "        }\n",
    "    },\n",
    "    \"Outputs\":{\n",
    "        \"1\":{\n",
    "            \"modality\":\"Power\",\n",
    "            \"property\":\"Present\",\n",
    "            \"propertyvalues\":[\"yes\", \"no\"]\n",
    "        }\n",
    "    },\n",
    "    \"Healths\":{\n",
    "        \"1\":{\n",
    "            \"modality\":\"Health\",\n",
    "            \"property\":\"health\",\n",
    "            \"propertyvalues\":[\"ok\",\"broken\"],\n",
    "            \"priorprobability\":[0.99,0.01]\n",
    "        }\n",
    "    },\n",
    "    \"Behavior\":{\n",
    "        \"normal\": {\n",
    "            'PresentPowerInputs':  [\"yes\", \"yes\",\"no\"], \n",
    "            'EnabledStateInputs':  [\"yes\", \"yes\",\"no\"],\n",
    "            'PresentPowerOutputs': [\"yes\", \"yes\",\"no\"]\n",
    "        }\n",
    "    }\n",
    "}"
   ]
  },
  {
   "cell_type": "code",
   "execution_count": null,
   "id": "b26a5ebd",
   "metadata": {},
   "outputs": [],
   "source": []
  }
 ],
 "metadata": {
  "kernelspec": {
   "display_name": "Python 3 (ipykernel)",
   "language": "python",
   "name": "python3"
  },
  "language_info": {
   "codemirror_mode": {
    "name": "ipython",
    "version": 3
   },
   "file_extension": ".py",
   "mimetype": "text/x-python",
   "name": "python",
   "nbconvert_exporter": "python",
   "pygments_lexer": "ipython3",
   "version": "3.11.3"
  }
 },
 "nbformat": 4,
 "nbformat_minor": 5
}
