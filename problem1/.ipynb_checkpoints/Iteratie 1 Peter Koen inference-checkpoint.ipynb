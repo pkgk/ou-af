{
 "cells": [
  {
   "cell_type": "code",
   "execution_count": 1,
   "id": "21b2d869",
   "metadata": {},
   "outputs": [],
   "source": [
    "# imports\n",
    "import os\n",
    "import math\n",
    "%matplotlib inline\n",
    "import matplotlib.pyplot as plt\n",
    "import pandas as pd\n",
    "\n",
    "from pylab import *\n",
    "from IPython.display import display,HTML\n",
    "\n",
    "# pyAgrum\n",
    "import pyAgrum as gum\n",
    "import pyAgrum.lib.notebook as gnb"
   ]
  },
  {
   "cell_type": "code",
   "execution_count": 2,
   "id": "08212cea",
   "metadata": {},
   "outputs": [
    {
     "ename": "IOError",
     "evalue": "[pyAgrum] I/O Error: Couldn't load structure3.xml <ticpp.cpp@707>\nDescription: Failed to open file\nFile: structure3.xml\nLine: 0\nColumn: 0",
     "output_type": "error",
     "traceback": [
      "\u001b[0;31m---------------------------------------------------------------------------\u001b[0m",
      "\u001b[0;31mIOError\u001b[0m                                   Traceback (most recent call last)",
      "Cell \u001b[0;32mIn[2], line 3\u001b[0m\n\u001b[1;32m      1\u001b[0m \u001b[38;5;66;03m# creer influence diagram, laad BIFXML bestand en toon diagram\u001b[39;00m\n\u001b[1;32m      2\u001b[0m diag \u001b[38;5;241m=\u001b[39m gum\u001b[38;5;241m.\u001b[39mInfluenceDiagram()\n\u001b[0;32m----> 3\u001b[0m diag\u001b[38;5;241m.\u001b[39mloadBIFXML(\u001b[38;5;124m'\u001b[39m\u001b[38;5;124mstructure3.xml\u001b[39m\u001b[38;5;124m'\u001b[39m) \u001b[38;5;66;03m# met voor 1 component de ID onderdelen voor vervangen en testen\u001b[39;00m\n\u001b[1;32m      4\u001b[0m gnb\u001b[38;5;241m.\u001b[39mshowInfluenceDiagram(diag, size\u001b[38;5;241m=\u001b[39m\u001b[38;5;241m80\u001b[39m)\n",
      "File \u001b[0;32m~/.local/lib/python3.11/site-packages/pyAgrum/pyAgrum.py:25285\u001b[0m, in \u001b[0;36mInfluenceDiagram.loadBIFXML\u001b[0;34m(self, *args)\u001b[0m\n\u001b[1;32m  25267\u001b[0m \u001b[38;5;28;01mdef\u001b[39;00m \u001b[38;5;21mloadBIFXML\u001b[39m(\u001b[38;5;28mself\u001b[39m, \u001b[38;5;241m*\u001b[39margs) \u001b[38;5;241m-\u001b[39m\u001b[38;5;241m>\u001b[39m \u001b[38;5;28mbool\u001b[39m:\n\u001b[1;32m  25268\u001b[0m \u001b[38;5;250m    \u001b[39m\u001b[38;5;124mr\u001b[39m\u001b[38;5;124;03m\"\"\"\u001b[39;00m\n\u001b[1;32m  25269\u001b[0m \n\u001b[1;32m  25270\u001b[0m \u001b[38;5;124;03m    Load a BIFXML file.\u001b[39;00m\n\u001b[0;32m   (...)\u001b[0m\n\u001b[1;32m  25283\u001b[0m \n\u001b[1;32m  25284\u001b[0m \u001b[38;5;124;03m    \"\"\"\u001b[39;00m\n\u001b[0;32m> 25285\u001b[0m     \u001b[38;5;28;01mreturn\u001b[39;00m _pyAgrum\u001b[38;5;241m.\u001b[39mInfluenceDiagram_loadBIFXML(\u001b[38;5;28mself\u001b[39m, \u001b[38;5;241m*\u001b[39margs)\n",
      "\u001b[0;31mIOError\u001b[0m: [pyAgrum] I/O Error: Couldn't load structure3.xml <ticpp.cpp@707>\nDescription: Failed to open file\nFile: structure3.xml\nLine: 0\nColumn: 0"
     ]
    }
   ],
   "source": [
    "# creer influence diagram, laad BIFXML bestand en toon diagram\n",
    "diag = gum.InfluenceDiagram()\n",
    "diag.loadBIFXML('structure3.xml') # met voor 1 component de ID onderdelen voor vervangen en testen\n",
    "gnb.showInfluenceDiagram(diag, size=80)"
   ]
  },
  {
   "cell_type": "code",
   "execution_count": null,
   "id": "06e7d8d0",
   "metadata": {},
   "outputs": [],
   "source": []
  }
 ],
 "metadata": {
  "kernelspec": {
   "display_name": "Python 3 (ipykernel)",
   "language": "python",
   "name": "python3"
  },
  "language_info": {
   "codemirror_mode": {
    "name": "ipython",
    "version": 3
   },
   "file_extension": ".py",
   "mimetype": "text/x-python",
   "name": "python",
   "nbconvert_exporter": "python",
   "pygments_lexer": "ipython3",
   "version": "3.11.3"
  }
 },
 "nbformat": 4,
 "nbformat_minor": 5
}
