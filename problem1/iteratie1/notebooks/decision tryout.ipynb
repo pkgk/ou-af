{
 "cells": [
  {
   "cell_type": "code",
   "execution_count": 1,
   "id": "4d6191c3",
   "metadata": {},
   "outputs": [],
   "source": [
    "import os\n",
    "import sys\n",
    "import re\n",
    "import pyAgrum as gum\n",
    "import pyAgrum.lib.notebook as gnb\n",
    "from IPython.display import display, HTML, clear_output, Image\n",
    "import pandas as pd\n",
    "from itertools import product\n",
    "import math"
   ]
  },
  {
   "cell_type": "code",
   "execution_count": 2,
   "id": "bdb3b9a7",
   "metadata": {},
   "outputs": [
    {
     "data": {
      "text/html": [
       "<style>/* https://skelouse.github.io/styling_a_jupyter_notebook */\n",
       "\n",
       ".container { \n",
       "    width:90% !important; \n",
       "}\n",
       "\n",
       ".blockquote {\n",
       "  border: 1.5px solid #333;\n",
       "  padding: 8px 12px;\n",
       "  background-image: linear-gradient(180deg, #fff, rgb(160, 147, 147));\n",
       "  position: static;\n",
       "}\n",
       "\n",
       ".img {\n",
       "    display: inline-block;\n",
       "    align: left;\n",
       "    margin-left: auto;\n",
       "    margin-right: auto;\n",
       "    width: 75%;\n",
       "}\n",
       "\n",
       ".mycomment {\n",
       "    color: red;\n",
       "}\n",
       "</style"
      ],
      "text/plain": [
       "<IPython.core.display.HTML object>"
      ]
     },
     "execution_count": 2,
     "metadata": {},
     "output_type": "execute_result"
    }
   ],
   "source": [
    "# Styling notebook\n",
    "def css_styling():\n",
    "    styles = open(\"./styles/custom.css\", \"r\").read()\n",
    "    return HTML(\"<style>\" + styles + \"</style\")\n",
    "css_styling()"
   ]
  },
  {
   "cell_type": "code",
   "execution_count": 36,
   "id": "2de20970",
   "metadata": {},
   "outputs": [
    {
     "data": {
      "image/svg+xml": [
       "<svg xmlns=\"http://www.w3.org/2000/svg\" xmlns:xlink=\"http://www.w3.org/1999/xlink\" width=\"1384pt\" height=\"132pt\" viewBox=\"0.00 0.00 1384.42 132.37\">\n",
       "<g id=\"graph0\" class=\"graph\" transform=\"scale(1 1) rotate(0) translate(4 128.37)\">\n",
       "<title>G</title>\n",
       "<!-- PresentLightOutputsLight -->\n",
       "<g id=\"node1\" class=\"node\">\n",
       "<title>PresentLightOutputsLight</title>\n",
       "<ellipse fill=\"#808080\" stroke=\"black\" cx=\"143.54\" cy=\"-23.68\" rx=\"143.59\" ry=\"20.51\"/>\n",
       "<text text-anchor=\"middle\" x=\"143.54\" y=\"-19.98\" font-family=\"Times,serif\" font-size=\"14.00\" fill=\"white\">PresentLightOutputsLight</text>\n",
       "</g>\n",
       "<!-- PresentPowerInputsLight -->\n",
       "<g id=\"node2\" class=\"node\">\n",
       "<title>PresentPowerInputsLight</title>\n",
       "<ellipse fill=\"#808080\" stroke=\"black\" cx=\"143.54\" cy=\"-103.86\" rx=\"140.01\" ry=\"20.51\"/>\n",
       "<text text-anchor=\"middle\" x=\"143.54\" y=\"-100.16\" font-family=\"Times,serif\" font-size=\"14.00\" fill=\"white\">PresentPowerInputsLight</text>\n",
       "</g>\n",
       "<!-- PresentPowerInputsLight&#45;&gt;PresentLightOutputsLight -->\n",
       "<g id=\"edge1\" class=\"edge\">\n",
       "<title>PresentPowerInputsLight-&gt;PresentLightOutputsLight</title>\n",
       "<path fill=\"none\" stroke=\"black\" d=\"M143.54,-83.13C143.54,-74.52 143.54,-64.23 143.54,-54.71\"/>\n",
       "<polygon fill=\"black\" stroke=\"black\" points=\"147.04,-54.4 143.54,-44.4 140.04,-54.4 147.04,-54.4\"/>\n",
       "</g>\n",
       "<!-- healthLight -->\n",
       "<g id=\"node3\" class=\"node\">\n",
       "<title>healthLight</title>\n",
       "<ellipse fill=\"#808080\" stroke=\"black\" cx=\"580.54\" cy=\"-103.86\" rx=\"68.68\" ry=\"20.51\"/>\n",
       "<text text-anchor=\"middle\" x=\"580.54\" y=\"-100.16\" font-family=\"Times,serif\" font-size=\"14.00\" fill=\"white\">healthLight</text>\n",
       "</g>\n",
       "<!-- healthLight&#45;&gt;PresentLightOutputsLight -->\n",
       "<g id=\"edge2\" class=\"edge\">\n",
       "<title>healthLight-&gt;PresentLightOutputsLight</title>\n",
       "<path fill=\"none\" stroke=\"black\" d=\"M530.75,-89.76C521.41,-87.48 511.7,-85.25 502.54,-83.36 455.2,-73.58 336.08,-54.51 247.97,-40.76\"/>\n",
       "<polygon fill=\"black\" stroke=\"black\" points=\"248.35,-37.28 237.93,-39.2 247.27,-44.2 248.35,-37.28\"/>\n",
       "</g>\n",
       "<!-- TestOutcomeTestObserveHealthLight -->\n",
       "<g id=\"node4\" class=\"node\">\n",
       "<title>TestOutcomeTestObserveHealthLight</title>\n",
       "<ellipse fill=\"#808080\" stroke=\"black\" cx=\"774.54\" cy=\"-23.68\" rx=\"200.22\" ry=\"20.51\"/>\n",
       "<text text-anchor=\"middle\" x=\"774.54\" y=\"-19.98\" font-family=\"Times,serif\" font-size=\"14.00\" fill=\"white\">TestOutcomeTestObserveHealthLight</text>\n",
       "</g>\n",
       "<!-- healthLight&#45;&gt;TestOutcomeTestObserveHealthLight -->\n",
       "<g id=\"edge4\" class=\"edge\">\n",
       "<title>healthLight-&gt;TestOutcomeTestObserveHealthLight</title>\n",
       "<path fill=\"none\" stroke=\"black\" d=\"M619.8,-87.04C648,-75.68 686.42,-60.19 717.93,-47.49\"/>\n",
       "<polygon fill=\"black\" stroke=\"black\" points=\"719.5,-50.63 727.47,-43.65 716.89,-44.14 719.5,-50.63\"/>\n",
       "</g>\n",
       "<!-- UtilityReplaceLight -->\n",
       "<g id=\"node7\" class=\"node\">\n",
       "<title>UtilityReplaceLight</title>\n",
       "<polygon fill=\"#50508a\" stroke=\"black\" points=\"556.52,-23.68 493.53,-47.54 367.55,-47.54 304.56,-23.68 367.55,0.18 493.53,0.18 556.52,-23.68\"/>\n",
       "<text text-anchor=\"middle\" x=\"430.54\" y=\"-19.98\" font-family=\"Times,serif\" font-size=\"14.00\" fill=\"white\">UtilityReplaceLight</text>\n",
       "</g>\n",
       "<!-- healthLight&#45;&gt;UtilityReplaceLight -->\n",
       "<g id=\"edge3\" class=\"edge\">\n",
       "<title>healthLight-&gt;UtilityReplaceLight</title>\n",
       "<path fill=\"none\" stroke=\"black\" stroke-dasharray=\"5,2\" d=\"M547.62,-85.7C528.76,-75.87 504.64,-63.3 483.2,-52.13\"/>\n",
       "<polygon fill=\"black\" stroke=\"black\" points=\"484.69,-48.95 474.2,-47.44 481.45,-55.16 484.69,-48.95\"/>\n",
       "</g>\n",
       "<!-- DecisionReplaceLight -->\n",
       "<g id=\"node5\" class=\"node\">\n",
       "<title>DecisionReplaceLight</title>\n",
       "<polygon fill=\"#9a5050\" stroke=\"black\" points=\"494.04,-118.36 325.04,-118.36 325.04,-89.36 494.04,-89.36 494.04,-118.36\"/>\n",
       "<text text-anchor=\"middle\" x=\"409.54\" y=\"-100.16\" font-family=\"Times,serif\" font-size=\"14.00\" fill=\"white\">DecisionReplaceLight</text>\n",
       "</g>\n",
       "<!-- DecisionReplaceLight&#45;&gt;UtilityReplaceLight -->\n",
       "<g id=\"edge5\" class=\"edge\">\n",
       "<title>DecisionReplaceLight-&gt;UtilityReplaceLight</title>\n",
       "<path fill=\"none\" stroke=\"black\" stroke-dasharray=\"5,2\" d=\"M413.2,-89.24C415.56,-80.47 418.73,-68.66 421.72,-57.54\"/>\n",
       "<polygon fill=\"black\" stroke=\"black\" points=\"425.16,-58.19 424.38,-47.63 418.4,-56.38 425.16,-58.19\"/>\n",
       "</g>\n",
       "<!-- DecisionTestObserveHealthLight -->\n",
       "<g id=\"node6\" class=\"node\">\n",
       "<title>DecisionTestObserveHealthLight</title>\n",
       "<polygon fill=\"#9a5050\" stroke=\"black\" points=\"919.54,-118.36 669.54,-118.36 669.54,-89.36 919.54,-89.36 919.54,-118.36\"/>\n",
       "<text text-anchor=\"middle\" x=\"794.54\" y=\"-100.16\" font-family=\"Times,serif\" font-size=\"14.00\" fill=\"white\">DecisionTestObserveHealthLight</text>\n",
       "</g>\n",
       "<!-- DecisionTestObserveHealthLight&#45;&gt;TestOutcomeTestObserveHealthLight -->\n",
       "<g id=\"edge7\" class=\"edge\">\n",
       "<title>DecisionTestObserveHealthLight-&gt;TestOutcomeTestObserveHealthLight</title>\n",
       "<path fill=\"none\" stroke=\"black\" d=\"M791.06,-89.24C788.58,-79.54 785.14,-66.12 782.05,-54.03\"/>\n",
       "<polygon fill=\"black\" stroke=\"black\" points=\"785.43,-53.11 779.56,-44.29 778.65,-54.85 785.43,-53.11\"/>\n",
       "</g>\n",
       "<!-- UtilityTestObserveHealthLight -->\n",
       "<g id=\"node8\" class=\"node\">\n",
       "<title>UtilityTestObserveHealthLight</title>\n",
       "<polygon fill=\"#50508a\" stroke=\"black\" points=\"1376.3,-23.68 1280.42,-47.54 1088.67,-47.54 992.79,-23.68 1088.67,0.18 1280.42,0.18 1376.3,-23.68\"/>\n",
       "<text text-anchor=\"middle\" x=\"1184.54\" y=\"-19.98\" font-family=\"Times,serif\" font-size=\"14.00\" fill=\"white\">UtilityTestObserveHealthLight</text>\n",
       "</g>\n",
       "<!-- DecisionTestObserveHealthLight&#45;&gt;UtilityTestObserveHealthLight -->\n",
       "<g id=\"edge6\" class=\"edge\">\n",
       "<title>DecisionTestObserveHealthLight-&gt;UtilityTestObserveHealthLight</title>\n",
       "<path fill=\"none\" stroke=\"black\" stroke-dasharray=\"5,2\" d=\"M862.03,-89.33C919.38,-77.84 1002.94,-61.09 1070.63,-47.51\"/>\n",
       "<polygon fill=\"black\" stroke=\"black\" points=\"1071.38,-50.93 1080.5,-45.54 1070.01,-44.07 1071.38,-50.93\"/>\n",
       "</g>\n",
       "</g>\n",
       "</svg>"
      ],
      "text/plain": [
       "<IPython.core.display.SVG object>"
      ]
     },
     "metadata": {},
     "output_type": "display_data"
    }
   ],
   "source": [
    "diagram = gum.InfluenceDiagram()\n",
    "diagram.loadBIFXML('baselight.xml') # met voor 1 component de ID onderdelen voor vervangen en testen\n",
    "gnb.showInfluenceDiagram(diagram, size=80)"
   ]
  },
  {
   "cell_type": "code",
   "execution_count": 37,
   "id": "aa7dba8e",
   "metadata": {},
   "outputs": [],
   "source": [
    "diagram.erase(\"DecisionReplaceLight\")\n",
    "diagram.erase(\"UtilityReplaceLight\")\n",
    "diagram.erase(\"DecisionTestObserveHealthLight\")\n",
    "diagram.erase(\"TestOutcomeTestObserveHealthLight\")\n",
    "diagram.erase(\"UtilityTestObserveHealthLight\")"
   ]
  },
  {
   "cell_type": "code",
   "execution_count": 38,
   "id": "b1723389",
   "metadata": {},
   "outputs": [
    {
     "data": {
      "text/plain": [
       "7"
      ]
     },
     "execution_count": 38,
     "metadata": {},
     "output_type": "execute_result"
    }
   ],
   "source": [
    "diagram.addDecisionNode(gum.LabelizedVariable('DC', 'DC', [\"T1\", \"Replace\", \"None\"]))\n",
    "diagram.addUtilityNode(gum.LabelizedVariable(\"US\", \"R(T1, R, DC)\", 1))\n",
    "diagram.addChanceNode(gum.LabelizedVariable('T1', 'T1', [\"do\", \"dont\"]))\n",
    "diagram.addChanceNode(gum.LabelizedVariable('T1-Outcome', 'T1-Outcome', [\"ok\", \"broken\", \"notdone\"]))\n",
    "diagram.addChanceNode(gum.LabelizedVariable('R', 'R', [\"do\", \"dont\"]))"
   ]
  },
  {
   "cell_type": "code",
   "execution_count": 40,
   "id": "14d6a1d1",
   "metadata": {},
   "outputs": [],
   "source": [
    "diagram.addArc(\"healthLight\", \"T1\")\n",
    "diagram.addArc(\"healthLight\", \"R\")\n",
    "diagram.addArc(\"T1\", \"T1-Outcome\")\n",
    "diagram.addArc(\"T1-Outcome\", \"R\")\n",
    "diagram.addArc(\"T1\", \"US\")\n",
    "diagram.addArc(\"R\", \"US\")\n",
    "diagram.addArc(\"DC\", \"US\")\n"
   ]
  },
  {
   "cell_type": "code",
   "execution_count": 41,
   "id": "2bd6f6e0",
   "metadata": {},
   "outputs": [
    {
     "data": {
      "image/svg+xml": [
       "<svg xmlns=\"http://www.w3.org/2000/svg\" xmlns:xlink=\"http://www.w3.org/1999/xlink\" width=\"464pt\" height=\"363pt\" viewBox=\"0.00 0.00 464.01 363.41\">\n",
       "<g id=\"graph0\" class=\"graph\" transform=\"scale(1 1) rotate(0) translate(4 359.41)\">\n",
       "<title>G</title>\n",
       "<!-- PresentLightOutputsLight -->\n",
       "<g id=\"node1\" class=\"node\">\n",
       "<title>PresentLightOutputsLight</title>\n",
       "<ellipse fill=\"#808080\" stroke=\"black\" cx=\"159.01\" cy=\"-257.89\" rx=\"143.59\" ry=\"20.51\"/>\n",
       "<text text-anchor=\"middle\" x=\"159.01\" y=\"-254.19\" font-family=\"Times,serif\" font-size=\"14.00\" fill=\"white\">PresentLightOutputsLight</text>\n",
       "</g>\n",
       "<!-- PresentPowerInputsLight -->\n",
       "<g id=\"node2\" class=\"node\">\n",
       "<title>PresentPowerInputsLight</title>\n",
       "<ellipse fill=\"#808080\" stroke=\"black\" cx=\"140.01\" cy=\"-334.9\" rx=\"140.01\" ry=\"20.51\"/>\n",
       "<text text-anchor=\"middle\" x=\"140.01\" y=\"-331.2\" font-family=\"Times,serif\" font-size=\"14.00\" fill=\"white\">PresentPowerInputsLight</text>\n",
       "</g>\n",
       "<!-- PresentPowerInputsLight&#45;&gt;PresentLightOutputsLight -->\n",
       "<g id=\"edge1\" class=\"edge\">\n",
       "<title>PresentPowerInputsLight-&gt;PresentLightOutputsLight</title>\n",
       "<path fill=\"none\" stroke=\"black\" d=\"M145,-314.19C147.01,-306.27 149.36,-296.96 151.57,-288.27\"/>\n",
       "<polygon fill=\"black\" stroke=\"black\" points=\"154.99,-289.02 154.05,-278.46 148.2,-287.3 154.99,-289.02\"/>\n",
       "</g>\n",
       "<!-- healthLight -->\n",
       "<g id=\"node3\" class=\"node\">\n",
       "<title>healthLight</title>\n",
       "<ellipse fill=\"#808080\" stroke=\"black\" cx=\"367.01\" cy=\"-334.9\" rx=\"68.68\" ry=\"20.51\"/>\n",
       "<text text-anchor=\"middle\" x=\"367.01\" y=\"-331.2\" font-family=\"Times,serif\" font-size=\"14.00\" fill=\"white\">healthLight</text>\n",
       "</g>\n",
       "<!-- healthLight&#45;&gt;PresentLightOutputsLight -->\n",
       "<g id=\"edge2\" class=\"edge\">\n",
       "<title>healthLight-&gt;PresentLightOutputsLight</title>\n",
       "<path fill=\"none\" stroke=\"black\" d=\"M324.66,-318.63C294.39,-307.71 253.22,-292.86 219.49,-280.7\"/>\n",
       "<polygon fill=\"black\" stroke=\"black\" points=\"220.33,-277.28 209.74,-277.18 217.96,-283.87 220.33,-277.28\"/>\n",
       "</g>\n",
       "<!-- T1 -->\n",
       "<g id=\"node4\" class=\"node\">\n",
       "<title>T1</title>\n",
       "<ellipse fill=\"#808080\" stroke=\"black\" cx=\"357.01\" cy=\"-257.89\" rx=\"27\" ry=\"20.51\"/>\n",
       "<text text-anchor=\"middle\" x=\"357.01\" y=\"-254.19\" font-family=\"Times,serif\" font-size=\"14.00\" fill=\"white\">T1</text>\n",
       "</g>\n",
       "<!-- healthLight&#45;&gt;T1 -->\n",
       "<g id=\"edge3\" class=\"edge\">\n",
       "<title>healthLight-&gt;T1</title>\n",
       "<path fill=\"none\" stroke=\"black\" d=\"M364.38,-314.19C363.33,-306.35 362.11,-297.16 360.96,-288.55\"/>\n",
       "<polygon fill=\"black\" stroke=\"black\" points=\"364.41,-287.91 359.62,-278.46 357.47,-288.84 364.41,-287.91\"/>\n",
       "</g>\n",
       "<!-- R -->\n",
       "<g id=\"node6\" class=\"node\">\n",
       "<title>R</title>\n",
       "<ellipse fill=\"#808080\" stroke=\"black\" cx=\"357.01\" cy=\"-103.86\" rx=\"27\" ry=\"20.51\"/>\n",
       "<text text-anchor=\"middle\" x=\"357.01\" y=\"-100.16\" font-family=\"Times,serif\" font-size=\"14.00\" fill=\"white\">R</text>\n",
       "</g>\n",
       "<!-- healthLight&#45;&gt;R -->\n",
       "<g id=\"edge4\" class=\"edge\">\n",
       "<title>healthLight-&gt;R</title>\n",
       "<path fill=\"none\" stroke=\"black\" d=\"M385.19,-315.13C414.3,-282.7 465.32,-214.48 437.01,-160.37 431.44,-149.74 407.44,-133.82 387.17,-121.76\"/>\n",
       "<polygon fill=\"black\" stroke=\"black\" points=\"388.88,-118.71 378.48,-116.68 385.35,-124.75 388.88,-118.71\"/>\n",
       "</g>\n",
       "<!-- T1&#45;Outcome -->\n",
       "<g id=\"node5\" class=\"node\">\n",
       "<title>T1-Outcome</title>\n",
       "<ellipse fill=\"#808080\" stroke=\"black\" cx=\"357.01\" cy=\"-180.88\" rx=\"71.34\" ry=\"20.51\"/>\n",
       "<text text-anchor=\"middle\" x=\"357.01\" y=\"-177.18\" font-family=\"Times,serif\" font-size=\"14.00\" fill=\"white\">T1-Outcome</text>\n",
       "</g>\n",
       "<!-- T1&#45;&gt;T1&#45;Outcome -->\n",
       "<g id=\"edge7\" class=\"edge\">\n",
       "<title>T1-&gt;T1-Outcome</title>\n",
       "<path fill=\"none\" stroke=\"black\" d=\"M357.01,-237.18C357.01,-229.34 357.01,-220.15 357.01,-211.54\"/>\n",
       "<polygon fill=\"black\" stroke=\"black\" points=\"360.51,-211.45 357.01,-201.45 353.51,-211.45 360.51,-211.45\"/>\n",
       "</g>\n",
       "<!-- US -->\n",
       "<g id=\"node8\" class=\"node\">\n",
       "<title>US</title>\n",
       "<polygon fill=\"#50508a\" stroke=\"black\" points=\"386.3,-23.68 371.65,-47.54 342.36,-47.54 327.72,-23.68 342.36,0.18 371.65,0.18 386.3,-23.68\"/>\n",
       "<text text-anchor=\"middle\" x=\"357.01\" y=\"-19.98\" font-family=\"Times,serif\" font-size=\"14.00\" fill=\"white\">US</text>\n",
       "</g>\n",
       "<!-- T1&#45;&gt;US -->\n",
       "<g id=\"edge6\" class=\"edge\">\n",
       "<title>T1-&gt;US</title>\n",
       "<path fill=\"none\" stroke=\"black\" stroke-dasharray=\"5,2\" d=\"M333.27,-247.77C314.21,-239.04 288.76,-223.85 277.01,-201.38 268.56,-185.23 272.33,-177.99 277.01,-160.37 287.79,-119.76 314.44,-79.02 334.03,-52.94\"/>\n",
       "<polygon fill=\"black\" stroke=\"black\" points=\"337.06,-54.74 340.37,-44.67 331.51,-50.48 337.06,-54.74\"/>\n",
       "</g>\n",
       "<!-- T1&#45;Outcome&#45;&gt;R -->\n",
       "<g id=\"edge8\" class=\"edge\">\n",
       "<title>T1-Outcome-&gt;R</title>\n",
       "<path fill=\"none\" stroke=\"black\" d=\"M357.01,-160.17C357.01,-152.33 357.01,-143.14 357.01,-134.53\"/>\n",
       "<polygon fill=\"black\" stroke=\"black\" points=\"360.51,-134.44 357.01,-124.44 353.51,-134.44 360.51,-134.44\"/>\n",
       "</g>\n",
       "<!-- R&#45;&gt;US -->\n",
       "<g id=\"edge9\" class=\"edge\">\n",
       "<title>R-&gt;US</title>\n",
       "<path fill=\"none\" stroke=\"black\" stroke-dasharray=\"5,2\" d=\"M357.01,-83.13C357.01,-75.42 357.01,-66.35 357.01,-57.69\"/>\n",
       "<polygon fill=\"black\" stroke=\"black\" points=\"360.51,-57.45 357.01,-47.45 353.51,-57.45 360.51,-57.45\"/>\n",
       "</g>\n",
       "<!-- DC -->\n",
       "<g id=\"node7\" class=\"node\">\n",
       "<title>DC</title>\n",
       "<polygon fill=\"#9a5050\" stroke=\"black\" points=\"456.01,-118.36 402.01,-118.36 402.01,-89.36 456.01,-89.36 456.01,-118.36\"/>\n",
       "<text text-anchor=\"middle\" x=\"429.01\" y=\"-100.16\" font-family=\"Times,serif\" font-size=\"14.00\" fill=\"white\">DC</text>\n",
       "</g>\n",
       "<!-- DC&#45;&gt;US -->\n",
       "<g id=\"edge5\" class=\"edge\">\n",
       "<title>DC-&gt;US</title>\n",
       "<path fill=\"none\" stroke=\"black\" stroke-dasharray=\"5,2\" d=\"M416.47,-89.24C406.79,-78.74 393.11,-63.88 381.31,-51.07\"/>\n",
       "<polygon fill=\"black\" stroke=\"black\" points=\"383.61,-48.4 374.26,-43.41 378.46,-53.14 383.61,-48.4\"/>\n",
       "</g>\n",
       "</g>\n",
       "</svg>"
      ],
      "text/plain": [
       "<IPython.core.display.SVG object>"
      ]
     },
     "metadata": {},
     "output_type": "display_data"
    }
   ],
   "source": [
    "gnb.showInfluenceDiagram(diagram, size=80)"
   ]
  },
  {
   "cell_type": "markdown",
   "id": "91c0b3d9",
   "metadata": {},
   "source": [
    "wat wil je modelleren?\n",
    "- de zoektocht naar een oplossing waarom productie stil ligt\n",
    "- er zijn meerdere testen mogelijk die indicaties leveren of een product vervangen moet worden \n",
    "  - onderscheid tussen testen door verschillende kosten\n",
    "  - zijn er andere factoren te introduceren om testen te diferentieren?\n",
    "- vervangen is aan de orde als health:broken * kosten de meeste waarde leveren\n",
    "  - als geloof in health:broken groot genoeg dan is testen niet perse nodig\n",
    "  - vervangen is de duurste stap, testen hebben hogere waarde door health:broken * lagere kosten\n",
    "  - boete zetten op vervangen indien niet nodig maakt testen aantrekkelijker, hoe?\n",
    "- de zoektocht stopt zodra gedrag systeem weer normaal is\n",
    "\n",
    "hoe besluitvorming te modelleren?\n",
    "- evidence invoeren en inference draaien, levert inzicht met welke besluiten totaal meeste utility is te bereiken\n",
    "- totaal meeste utility is niet perse decentraal de hoogste waarden\n",
    "- aflopen states test outcome node om te zien welke meeste EU oplevert:Joep aanpak\n",
    "- algoritme kees?\n",
    "\n",
    "andere opties\n",
    "- EU uitrekenen in kleinere diagrammen zonder effect andere testen of vervangingsbesluiten?\n",
    "- een uitgebreider \"test\" bayes net om noodzakelijke testen te filteren\n",
    "\n",
    "\n",
    "  \n",
    "hoe deze keuze te modelleren afhankelijk van de health\n",
    "- health is de basis, bijvoorbeeld als health maar een klein beetje richting broken neigt dan is een test beter\n",
    "- \n",
    "\n",
    "alternatief is om er een volgorde in aan te brengen maar als er een volgorde is dan kan dat ook anders gemodelleerd worden?\n",
    "\n",
    "- health indicates belief component is broken, trigger is not normal behavior of component\n",
    "- T1 models belief a test is necessary\n",
    "  - if belief health:broken a test T1 should be done to confirm broken\n",
    "  - if belief health:broken replace should triggered if belief T1:broken is firm\n",
    "- R models belief a replacement is necessary\n",
    "  - R should be triggered by T1 and R, the more belief in T1:broken the \n",
    "- US steers the utility on which a decision DC is based\n",
    "- Decisions chooses between doing of T1 test and or Replace"
   ]
  },
  {
   "cell_type": "code",
   "execution_count": 34,
   "id": "ac53c8e3",
   "metadata": {},
   "outputs": [
    {
     "data": {
      "text/html": [
       "<table style=\"border:1px solid black;\">\n",
       "<tr><th colspan='1'></th>\n",
       "      <th colspan='2' style='border:1px solid black;color:black;background-color:#808080;'><center>T1</center>\n",
       "      </th></tr>\n",
       "<tr><th style='border:1px solid black;color:black;background-color:#808080'><center>healthLight</center></th><th style='border:1px solid black;border-bottom-style: double;color:black;background-color:#BBBBBB'>\n",
       "      <center>do</center></th><th style='border:1px solid black;border-bottom-style: double;color:black;background-color:#BBBBBB'>\n",
       "      <center>dont</center></th></tr>\n",
       "<tr><th style='border:1px solid black;color:black;background-color:#BBBBBB'><center>ok</center></th><td style='color:black;background-color:#f28b64;text-align:right;'>0.1000</td><td style='color:black;background-color:#8bf264;text-align:right;'>0.9000</td></tr>\n",
       "<tr><th style='border:1px solid black;color:black;background-color:#BBBBBB'><center>broken</center></th><td style='color:black;background-color:#8bf264;text-align:right;'>0.9000</td><td style='color:black;background-color:#f28b64;text-align:right;'>0.1000</td></tr>\n",
       "</table>"
      ],
      "text/plain": [
       "(pyAgrum.Potential<double>@0x3b39f0b0) \n",
       "      ||  T1               |\n",
       "health||do       |dont     |\n",
       "------||---------|---------|\n",
       "ok    || 0.1000  | 0.9000  |\n",
       "broken|| 0.9000  | 0.1000  |"
      ]
     },
     "execution_count": 34,
     "metadata": {},
     "output_type": "execute_result"
    }
   ],
   "source": [
    "diagram.cpt(\"T1\")[0] = [0.1, 0.9]\n",
    "diagram.cpt(\"T1\"\n",
    "           )[1] = [0.9, 0.1]\n",
    "diagram.cpt(\"T1\")"
   ]
  },
  {
   "cell_type": "code",
   "execution_count": 35,
   "id": "e390a081",
   "metadata": {},
   "outputs": [
    {
     "data": {
      "text/html": [
       "<table style=\"border:1px solid black;\">\n",
       "<tr><th colspan='2'></th>\n",
       "      <th colspan='2' style='border:1px solid black;color:black;background-color:#808080;'><center>R</center>\n",
       "      </th></tr>\n",
       "<tr><th style='border:1px solid black;color:black;background-color:#808080'><center>T1</center></th><th style='border:1px solid black;color:black;background-color:#808080'><center>healthLight</center></th><th style='border:1px solid black;border-bottom-style: double;color:black;background-color:#BBBBBB'>\n",
       "      <center>do</center></th><th style='border:1px solid black;border-bottom-style: double;color:black;background-color:#BBBBBB'>\n",
       "      <center>dont</center></th></tr>\n",
       "<tr><th style='border:1px solid black;color:black;background-color:#BBBBBB;' rowspan = '2'>\n",
       "            <center>do</center></th><th style='border:1px solid black;color:black;background-color:#BBBBBB'><center>ok</center></th><td style='text-align:right;'>0.0000</td><td style='text-align:right;'>0.0000</td></tr>\n",
       "<tr><th style='border:1px solid black;color:black;background-color:#BBBBBB'><center>broken</center></th><td style='text-align:right;'>0.0000</td><td style='text-align:right;'>0.0000</td></tr>\n",
       "<tr><th style='border:1px solid black;color:black;background-color:#BBBBBB;' rowspan = '2'>\n",
       "            <center>dont</center></th><th style='border:1px solid black;color:black;background-color:#BBBBBB'><center>ok</center></th><td style='text-align:right;'>0.0000</td><td style='text-align:right;'>0.0000</td></tr>\n",
       "<tr><th style='border:1px solid black;color:black;background-color:#BBBBBB'><center>broken</center></th><td style='text-align:right;'>0.0000</td><td style='text-align:right;'>0.0000</td></tr>\n",
       "</table>"
      ],
      "text/plain": [
       "(pyAgrum.Potential<double>@0x3b3fb2e0) \n",
       "             ||  R                |\n",
       "health|T1    ||do       |dont     |\n",
       "------|------||---------|---------|\n",
       "ok    |do    || 0.0000  | 0.0000  |\n",
       "broken|do    || 0.0000  | 0.0000  |\n",
       "ok    |dont  || 0.0000  | 0.0000  |\n",
       "broken|dont  || 0.0000  | 0.0000  |"
      ]
     },
     "execution_count": 35,
     "metadata": {},
     "output_type": "execute_result"
    }
   ],
   "source": [
    "diagram.cpt(\"R\")[0] = [0.05]\n",
    "diagram.cpt(\"R\")"
   ]
  },
  {
   "cell_type": "code",
   "execution_count": 28,
   "id": "1d94f1d9",
   "metadata": {},
   "outputs": [
    {
     "data": {
      "text/html": [
       "<table style=\"border:1px solid black;\">\n",
       "<tr><th colspan='3'></th>\n",
       "      <th colspan='1' style='border:1px solid black;color:black;background-color:#808080;'><center>US</center>\n",
       "      </th></tr>\n",
       "<tr><th style='border:1px solid black;color:black;background-color:#808080'><center>DC</center></th><th style='border:1px solid black;color:black;background-color:#808080'><center>R</center></th><th style='border:1px solid black;color:black;background-color:#808080'><center>T1</center></th><th style='border:1px solid black;border-bottom-style: double;color:black;background-color:#BBBBBB'>\n",
       "      <center>0</center></th></tr>\n",
       "<tr><th style='border:1px solid black;color:black;background-color:#BBBBBB;' rowspan = '4'>\n",
       "            <center>T1</center></th><th style='border:1px solid black;color:black;background-color:#BBBBBB;' rowspan = '2'>\n",
       "            <center>do</center></th><th style='border:1px solid black;color:black;background-color:#BBBBBB'><center>do</center></th><td style='text-align:right;'>0.0000</td></tr>\n",
       "<tr><th style='border:1px solid black;color:black;background-color:#BBBBBB'><center>dont</center></th><td style='text-align:right;'>0.0000</td></tr>\n",
       "<tr><th style='border:1px solid black;color:black;background-color:#BBBBBB;' rowspan = '2'>\n",
       "            <center>dont</center></th><th style='border:1px solid black;color:black;background-color:#BBBBBB'><center>do</center></th><td style='text-align:right;'>0.0000</td></tr>\n",
       "<tr><th style='border:1px solid black;color:black;background-color:#BBBBBB'><center>dont</center></th><td style='text-align:right;'>0.0000</td></tr>\n",
       "<tr><th style='border:1px solid black;color:black;background-color:#BBBBBB;' rowspan = '4'>\n",
       "            <center>Replace</center></th><th style='border:1px solid black;color:black;background-color:#BBBBBB;' rowspan = '2'>\n",
       "            <center>do</center></th><th style='border:1px solid black;color:black;background-color:#BBBBBB'><center>do</center></th><td style='text-align:right;'>0.0000</td></tr>\n",
       "<tr><th style='border:1px solid black;color:black;background-color:#BBBBBB'><center>dont</center></th><td style='text-align:right;'>0.0000</td></tr>\n",
       "<tr><th style='border:1px solid black;color:black;background-color:#BBBBBB;' rowspan = '2'>\n",
       "            <center>dont</center></th><th style='border:1px solid black;color:black;background-color:#BBBBBB'><center>do</center></th><td style='text-align:right;'>0.0000</td></tr>\n",
       "<tr><th style='border:1px solid black;color:black;background-color:#BBBBBB'><center>dont</center></th><td style='text-align:right;'>0.0000</td></tr>\n",
       "<tr><th style='border:1px solid black;color:black;background-color:#BBBBBB;' rowspan = '4'>\n",
       "            <center>None</center></th><th style='border:1px solid black;color:black;background-color:#BBBBBB;' rowspan = '2'>\n",
       "            <center>do</center></th><th style='border:1px solid black;color:black;background-color:#BBBBBB'><center>do</center></th><td style='text-align:right;'>0.0000</td></tr>\n",
       "<tr><th style='border:1px solid black;color:black;background-color:#BBBBBB'><center>dont</center></th><td style='text-align:right;'>0.0000</td></tr>\n",
       "<tr><th style='border:1px solid black;color:black;background-color:#BBBBBB;' rowspan = '2'>\n",
       "            <center>dont</center></th><th style='border:1px solid black;color:black;background-color:#BBBBBB'><center>do</center></th><td style='text-align:right;'>0.0000</td></tr>\n",
       "<tr><th style='border:1px solid black;color:black;background-color:#BBBBBB'><center>dont</center></th><td style='text-align:right;'>0.0000</td></tr>\n",
       "</table>"
      ],
      "text/plain": [
       "(pyAgrum.Potential<double>@0x3b437cc0) \n",
       "                    ||  US     |\n",
       "T1    |R     |DC    ||0        |\n",
       "------|------|------||---------|\n",
       "do    |do    |T1    || 0.0000  |\n",
       "dont  |do    |T1    || 0.0000  |\n",
       "do    |dont  |T1    || 0.0000  |\n",
       "dont  |dont  |T1    || 0.0000  |\n",
       "do    |do    |Replac|| 0.0000  |\n",
       "dont  |do    |Replac|| 0.0000  |\n",
       "do    |dont  |Replac|| 0.0000  |\n",
       "dont  |dont  |Replac|| 0.0000  |\n",
       "do    |do    |None  || 0.0000  |\n",
       "dont  |do    |None  || 0.0000  |\n",
       "do    |dont  |None  || 0.0000  |\n",
       "dont  |dont  |None  || 0.0000  |"
      ]
     },
     "execution_count": 28,
     "metadata": {},
     "output_type": "execute_result"
    }
   ],
   "source": [
    "diagram.utility(\"US\")"
   ]
  },
  {
   "cell_type": "code",
   "execution_count": 46,
   "id": "47685661",
   "metadata": {},
   "outputs": [
    {
     "data": {
      "image/svg+xml": [
       "<svg xmlns=\"http://www.w3.org/2000/svg\" xmlns:xlink=\"http://www.w3.org/1999/xlink\" width=\"62pt\" height=\"83pt\" viewBox=\"0.00 0.00 62.00 83.12\">\n",
       "<g id=\"graph0\" class=\"graph\" transform=\"scale(1 1) rotate(0) translate(4 79.12)\">\n",
       "<title>G</title>\n",
       "<!-- \\n\\n -->\n",
       "<g id=\"node1\" class=\"node\">\n",
       "<title>\\n\\n</title>\n",
       "<polygon fill=\"#50508a\" stroke=\"black\" points=\"54,-37.56 40.5,-75.18 13.5,-75.18 0,-37.56 13.5,0.06 40.5,0.06 54,-37.56\"/>\n",
       "</g>\n",
       "</g>\n",
       "</svg>"
      ],
      "text/plain": [
       "<IPython.core.display.SVG object>"
      ]
     },
     "metadata": {},
     "output_type": "display_data"
    }
   ],
   "source": [
    "diag = gum.InfluenceDiagram()"
   ]
  },
  {
   "cell_type": "code",
   "execution_count": 47,
   "id": "67720e31",
   "metadata": {},
   "outputs": [],
   "source": [
    "#diag.addDecisionNode(gum.LabelizedVariable('DC', 'DC', [\"T1\", \"Replace\", \"None\"]))\n",
    "#diag.addUtilityNode(gum.LabelizedVariable(\"US\", \"R(T1, R, DC)\", 1))\n",
    "#diag.addChanceNode(gum.LabelizedVariable('R', 'R', [\"do\", \"dont\"]))\n",
    "diag.addChanceNode(gum.LabelizedVariable('T1', 'T1', [\"do\", \"dont\"]))\n",
    "diag.addChanceNode(gum.LabelizedVariable('T1-Outcome', 'T1-Outcome', [\"ok\", \"broken\", \"notdone\"]))\n",
    "diag.addArc(\"T1\", \"T1-Outcome\")"
   ]
  },
  {
   "cell_type": "code",
   "execution_count": 48,
   "id": "cc1ddf28",
   "metadata": {},
   "outputs": [
    {
     "data": {
      "image/svg+xml": [
       "<svg xmlns=\"http://www.w3.org/2000/svg\" xmlns:xlink=\"http://www.w3.org/1999/xlink\" width=\"151pt\" height=\"126pt\" viewBox=\"0.00 0.00 150.84 126.02\">\n",
       "<g id=\"graph0\" class=\"graph\" transform=\"scale(1 1) rotate(0) translate(4 122.02)\">\n",
       "<title>G</title>\n",
       "<!-- T1 -->\n",
       "<g id=\"node1\" class=\"node\">\n",
       "<title>T1</title>\n",
       "<ellipse fill=\"#808080\" stroke=\"black\" cx=\"71.42\" cy=\"-97.52\" rx=\"27\" ry=\"20.51\"/>\n",
       "<text text-anchor=\"middle\" x=\"71.42\" y=\"-93.82\" font-family=\"Times,serif\" font-size=\"14.00\" fill=\"white\">T1</text>\n",
       "</g>\n",
       "<!-- T1&#45;Outcome -->\n",
       "<g id=\"node2\" class=\"node\">\n",
       "<title>T1-Outcome</title>\n",
       "<ellipse fill=\"#808080\" stroke=\"black\" cx=\"71.42\" cy=\"-20.51\" rx=\"71.34\" ry=\"20.51\"/>\n",
       "<text text-anchor=\"middle\" x=\"71.42\" y=\"-16.81\" font-family=\"Times,serif\" font-size=\"14.00\" fill=\"white\">T1-Outcome</text>\n",
       "</g>\n",
       "<!-- T1&#45;&gt;T1&#45;Outcome -->\n",
       "<g id=\"edge1\" class=\"edge\">\n",
       "<title>T1-&gt;T1-Outcome</title>\n",
       "<path fill=\"none\" stroke=\"black\" d=\"M71.42,-76.81C71.42,-68.97 71.42,-59.78 71.42,-51.17\"/>\n",
       "<polygon fill=\"black\" stroke=\"black\" points=\"74.92,-51.08 71.42,-41.08 67.92,-51.08 74.92,-51.08\"/>\n",
       "</g>\n",
       "</g>\n",
       "</svg>"
      ],
      "text/plain": [
       "<IPython.core.display.SVG object>"
      ]
     },
     "metadata": {},
     "output_type": "display_data"
    }
   ],
   "source": [
    "gnb.showInfluenceDiagram(diag)"
   ]
  },
  {
   "cell_type": "code",
   "execution_count": 54,
   "id": "23e69cfa",
   "metadata": {},
   "outputs": [
    {
     "data": {
      "text/html": [
       "<table style=\"border:1px solid black;\">\n",
       "<tr style='border:1px solid black;color:black;background-color:#808080'>\n",
       "      <th colspan='2'><center>T1</center></th></tr>\n",
       "<tr><th style='border:1px solid black;border-bottom-style: double;color:black;background-color:#BBBBBB'>\n",
       "      <center>do</center></th><th style='border:1px solid black;border-bottom-style: double;color:black;background-color:#BBBBBB'>\n",
       "      <center>dont</center></th></tr>\n",
       "<tr><td style='color:black;background-color:#8bf264;text-align:right;'>0.9000</td><td style='color:black;background-color:#f28b64;text-align:right;'>0.1000</td></tr>\n",
       "</table>"
      ],
      "text/plain": [
       "(pyAgrum.Potential<double>@0x3a42b110) \n",
       "  T1               |\n",
       "do       |dont     |\n",
       "---------|---------|\n",
       " 0.9000  | 0.1000  |"
      ]
     },
     "execution_count": 54,
     "metadata": {},
     "output_type": "execute_result"
    }
   ],
   "source": [
    "diag.cpt(\"T1\")[0] = 0.9\n",
    "diag.cpt(\"T1\")[1] = 0.1\n",
    "diag.cpt(\"T1\")"
   ]
  },
  {
   "cell_type": "code",
   "execution_count": 66,
   "id": "6a6f1179",
   "metadata": {},
   "outputs": [
    {
     "data": {
      "text/html": [
       "<table style=\"border:1px solid black;\">\n",
       "<tr><th colspan='1'></th>\n",
       "      <th colspan='3' style='border:1px solid black;color:black;background-color:#808080;'><center>T1-Outcome</center>\n",
       "      </th></tr>\n",
       "<tr><th style='border:1px solid black;color:black;background-color:#808080'><center>T1</center></th><th style='border:1px solid black;border-bottom-style: double;color:black;background-color:#BBBBBB'>\n",
       "      <center>ok</center></th><th style='border:1px solid black;border-bottom-style: double;color:black;background-color:#BBBBBB'>\n",
       "      <center>broken</center></th><th style='border:1px solid black;border-bottom-style: double;color:black;background-color:#BBBBBB'>\n",
       "      <center>notdone</center></th></tr>\n",
       "<tr><th style='border:1px solid black;color:black;background-color:#BBBBBB'><center>do</center></th><td style='text-align:right;'>0.9000</td><td style='text-align:right;'>0.9990</td><td style='text-align:right;'>0.0010</td></tr>\n",
       "<tr><th style='border:1px solid black;color:black;background-color:#BBBBBB'><center>dont</center></th><td style='text-align:right;'>0.0010</td><td style='text-align:right;'>0.0010</td><td style='text-align:right;'>0.9980</td></tr>\n",
       "</table>"
      ],
      "text/plain": [
       "(pyAgrum.Potential<double>@0x3b19b5a0) \n",
       "      ||  T1-Outcome                 |\n",
       "T1    ||ok       |broken   |notdone  |\n",
       "------||---------|---------|---------|\n",
       "do    || 0.9000  | 0.9990  | 0.0010  |\n",
       "dont  || 0.0010  | 0.0010  | 0.9980  |"
      ]
     },
     "execution_count": 66,
     "metadata": {},
     "output_type": "execute_result"
    }
   ],
   "source": [
    "diag.cpt(\"T1-Outcome\")[0] = [0.9,0.999,0.001]\n",
    "diag.cpt(\"T1-Outcome\")[1] = [0.001,0.001,0.998]\n",
    "diag.cpt(\"T1-Outcome\")"
   ]
  },
  {
   "cell_type": "code",
   "execution_count": 67,
   "id": "e0b7047d",
   "metadata": {},
   "outputs": [
    {
     "ename": "FatalError",
     "evalue": "[pyAgrum] Fatal error: This LIMID/Influence Diagram is not solvable.",
     "output_type": "error",
     "traceback": [
      "\u001b[0;31m---------------------------------------------------------------------------\u001b[0m",
      "\u001b[0;31mFatalError\u001b[0m                                Traceback (most recent call last)",
      "\u001b[0;32m/tmp/ipykernel_65376/4159967201.py\u001b[0m in \u001b[0;36m?\u001b[0;34m()\u001b[0m\n\u001b[0;32m----> 1\u001b[0;31m gnb.showInference(diag, evs={\n\u001b[0m\u001b[1;32m      2\u001b[0m     \u001b[0;34m\"T1\"\u001b[0m\u001b[0;34m:\u001b[0m\u001b[0;36m0\u001b[0m\u001b[0;34m,\u001b[0m\u001b[0;34m\u001b[0m\u001b[0;34m\u001b[0m\u001b[0m\n\u001b[1;32m      3\u001b[0m \u001b[0;31m#    \"T1-Outcome\":1,\u001b[0m\u001b[0;34m\u001b[0m\u001b[0;34m\u001b[0m\u001b[0m\n\u001b[1;32m      4\u001b[0m }, size=40)\n",
      "\u001b[0;32m~/.local/lib/python3.11/site-packages/pyAgrum/deprecated.py\u001b[0m in \u001b[0;36m?\u001b[0;34m(*args, **kwargs)\u001b[0m\n\u001b[1;32m     48\u001b[0m             f\"\"\"\n\u001b[1;32m     49\u001b[0m \u001b[0;34m**\u001b[0m \u001b[0mpyAgrum\u001b[0m \u001b[0;34m:\u001b[0m \u001b[0margument\u001b[0m \u001b[0;34m'{oldA}'\u001b[0m \u001b[0;32mis\u001b[0m \u001b[0mdeprecated\u001b[0m \u001b[0msince\u001b[0m \u001b[0;34m'{version}'\u001b[0m\u001b[0;34m,\u001b[0m \u001b[0mplease\u001b[0m \u001b[0muse\u001b[0m \u001b[0;34m'{newA}'\u001b[0m \u001b[0;32mis\u001b[0m \u001b[0minstead\u001b[0m\u001b[0;34m.\u001b[0m\u001b[0;34m\u001b[0m\u001b[0;34m\u001b[0m\u001b[0m\n\u001b[1;32m     50\u001b[0m \"\"\", DeprecationWarning, stacklevel=2)\n\u001b[1;32m     51\u001b[0m           \u001b[0mkwargs\u001b[0m\u001b[0;34m[\u001b[0m\u001b[0mnewA\u001b[0m\u001b[0;34m]\u001b[0m \u001b[0;34m=\u001b[0m \u001b[0mkwargs\u001b[0m\u001b[0;34m.\u001b[0m\u001b[0mpop\u001b[0m\u001b[0;34m(\u001b[0m\u001b[0moldA\u001b[0m\u001b[0;34m)\u001b[0m\u001b[0;34m\u001b[0m\u001b[0;34m\u001b[0m\u001b[0m\n\u001b[0;32m---> 52\u001b[0;31m       \u001b[0;32mreturn\u001b[0m \u001b[0mf\u001b[0m\u001b[0;34m(\u001b[0m\u001b[0;34m*\u001b[0m\u001b[0margs\u001b[0m\u001b[0;34m,\u001b[0m \u001b[0;34m**\u001b[0m\u001b[0mkwargs\u001b[0m\u001b[0;34m)\u001b[0m\u001b[0;34m\u001b[0m\u001b[0;34m\u001b[0m\u001b[0m\n\u001b[0m",
      "\u001b[0;32m~/.local/lib/python3.11/site-packages/pyAgrum/lib/notebook.py\u001b[0m in \u001b[0;36m?\u001b[0;34m(model, **kwargs)\u001b[0m\n\u001b[1;32m   1118\u001b[0m     \u001b[0msize\u001b[0m \u001b[0;34m=\u001b[0m \u001b[0mkwargs\u001b[0m\u001b[0;34m[\u001b[0m\u001b[0;34m'size'\u001b[0m\u001b[0;34m]\u001b[0m\u001b[0;34m\u001b[0m\u001b[0;34m\u001b[0m\u001b[0m\n\u001b[1;32m   1119\u001b[0m   \u001b[0;32melse\u001b[0m\u001b[0;34m:\u001b[0m\u001b[0;34m\u001b[0m\u001b[0;34m\u001b[0m\u001b[0m\n\u001b[1;32m   1120\u001b[0m     \u001b[0msize\u001b[0m \u001b[0;34m=\u001b[0m \u001b[0mgum\u001b[0m\u001b[0;34m.\u001b[0m\u001b[0mconfig\u001b[0m\u001b[0;34m[\u001b[0m\u001b[0;34m\"notebook\"\u001b[0m\u001b[0;34m,\u001b[0m \u001b[0;34m\"default_graph_inference_size\"\u001b[0m\u001b[0;34m]\u001b[0m\u001b[0;34m\u001b[0m\u001b[0;34m\u001b[0m\u001b[0m\n\u001b[1;32m   1121\u001b[0m \u001b[0;34m\u001b[0m\u001b[0m\n\u001b[0;32m-> 1122\u001b[0;31m   \u001b[0mshowGraph\u001b[0m\u001b[0;34m(\u001b[0m\u001b[0mprepareShowInference\u001b[0m\u001b[0;34m(\u001b[0m\u001b[0mmodel\u001b[0m\u001b[0;34m,\u001b[0m \u001b[0;34m**\u001b[0m\u001b[0mkwargs\u001b[0m\u001b[0;34m)\u001b[0m\u001b[0;34m,\u001b[0m \u001b[0msize\u001b[0m\u001b[0;34m)\u001b[0m\u001b[0;34m\u001b[0m\u001b[0;34m\u001b[0m\u001b[0m\n\u001b[0m",
      "\u001b[0;32m~/.local/lib/python3.11/site-packages/pyAgrum/deprecated.py\u001b[0m in \u001b[0;36m?\u001b[0;34m(*args, **kwargs)\u001b[0m\n\u001b[1;32m     48\u001b[0m             f\"\"\"\n\u001b[1;32m     49\u001b[0m \u001b[0;34m**\u001b[0m \u001b[0mpyAgrum\u001b[0m \u001b[0;34m:\u001b[0m \u001b[0margument\u001b[0m \u001b[0;34m'{oldA}'\u001b[0m \u001b[0;32mis\u001b[0m \u001b[0mdeprecated\u001b[0m \u001b[0msince\u001b[0m \u001b[0;34m'{version}'\u001b[0m\u001b[0;34m,\u001b[0m \u001b[0mplease\u001b[0m \u001b[0muse\u001b[0m \u001b[0;34m'{newA}'\u001b[0m \u001b[0;32mis\u001b[0m \u001b[0minstead\u001b[0m\u001b[0;34m.\u001b[0m\u001b[0;34m\u001b[0m\u001b[0;34m\u001b[0m\u001b[0m\n\u001b[1;32m     50\u001b[0m \"\"\", DeprecationWarning, stacklevel=2)\n\u001b[1;32m     51\u001b[0m           \u001b[0mkwargs\u001b[0m\u001b[0;34m[\u001b[0m\u001b[0mnewA\u001b[0m\u001b[0;34m]\u001b[0m \u001b[0;34m=\u001b[0m \u001b[0mkwargs\u001b[0m\u001b[0;34m.\u001b[0m\u001b[0mpop\u001b[0m\u001b[0;34m(\u001b[0m\u001b[0moldA\u001b[0m\u001b[0;34m)\u001b[0m\u001b[0;34m\u001b[0m\u001b[0;34m\u001b[0m\u001b[0m\n\u001b[0;32m---> 52\u001b[0;31m       \u001b[0;32mreturn\u001b[0m \u001b[0mf\u001b[0m\u001b[0;34m(\u001b[0m\u001b[0;34m*\u001b[0m\u001b[0margs\u001b[0m\u001b[0;34m,\u001b[0m \u001b[0;34m**\u001b[0m\u001b[0mkwargs\u001b[0m\u001b[0;34m)\u001b[0m\u001b[0;34m\u001b[0m\u001b[0;34m\u001b[0m\u001b[0m\n\u001b[0m",
      "\u001b[0;32m~/.local/lib/python3.11/site-packages/pyAgrum/lib/image.py\u001b[0m in \u001b[0;36m?\u001b[0;34m(model, engine, evs, targets, size, nodeColor, factorColor, arcWidth, arcColor, cmapNode, cmapArc, graph, view)\u001b[0m\n\u001b[1;32m    181\u001b[0m                                        )\n\u001b[1;32m    182\u001b[0m   \u001b[0;32mif\u001b[0m \u001b[0misinstance\u001b[0m\u001b[0;34m(\u001b[0m\u001b[0mmodel\u001b[0m\u001b[0;34m,\u001b[0m \u001b[0mgum\u001b[0m\u001b[0;34m.\u001b[0m\u001b[0mInfluenceDiagram\u001b[0m\u001b[0;34m)\u001b[0m\u001b[0;34m:\u001b[0m\u001b[0;34m\u001b[0m\u001b[0;34m\u001b[0m\u001b[0m\n\u001b[1;32m    183\u001b[0m     \u001b[0;32mif\u001b[0m \u001b[0mengine\u001b[0m \u001b[0;32mis\u001b[0m \u001b[0;32mNone\u001b[0m\u001b[0;34m:\u001b[0m\u001b[0;34m\u001b[0m\u001b[0;34m\u001b[0m\u001b[0m\n\u001b[1;32m    184\u001b[0m       \u001b[0mengine\u001b[0m \u001b[0;34m=\u001b[0m \u001b[0mgum\u001b[0m\u001b[0;34m.\u001b[0m\u001b[0mShaferShenoyLIMIDInference\u001b[0m\u001b[0;34m(\u001b[0m\u001b[0mmodel\u001b[0m\u001b[0;34m)\u001b[0m\u001b[0;34m\u001b[0m\u001b[0;34m\u001b[0m\u001b[0m\n\u001b[0;32m--> 185\u001b[0;31m     \u001b[0;32mreturn\u001b[0m \u001b[0mLIMIDinference2dot\u001b[0m\u001b[0;34m(\u001b[0m\u001b[0mmodel\u001b[0m\u001b[0;34m,\u001b[0m \u001b[0msize\u001b[0m\u001b[0;34m=\u001b[0m\u001b[0msize\u001b[0m\u001b[0;34m,\u001b[0m \u001b[0mengine\u001b[0m\u001b[0;34m=\u001b[0m\u001b[0mengine\u001b[0m\u001b[0;34m,\u001b[0m \u001b[0mevs\u001b[0m\u001b[0;34m=\u001b[0m\u001b[0mevs\u001b[0m\u001b[0;34m,\u001b[0m \u001b[0mtargets\u001b[0m\u001b[0;34m=\u001b[0m\u001b[0mtargets\u001b[0m\u001b[0;34m)\u001b[0m\u001b[0;34m\u001b[0m\u001b[0;34m\u001b[0m\u001b[0m\n\u001b[0m\u001b[1;32m    186\u001b[0m   \u001b[0;32mif\u001b[0m \u001b[0misinstance\u001b[0m\u001b[0;34m(\u001b[0m\u001b[0mmodel\u001b[0m\u001b[0;34m,\u001b[0m \u001b[0mgum\u001b[0m\u001b[0;34m.\u001b[0m\u001b[0mCredalNet\u001b[0m\u001b[0;34m)\u001b[0m\u001b[0;34m:\u001b[0m\u001b[0;34m\u001b[0m\u001b[0;34m\u001b[0m\u001b[0m\n\u001b[1;32m    187\u001b[0m     \u001b[0;32mif\u001b[0m \u001b[0mengine\u001b[0m \u001b[0;32mis\u001b[0m \u001b[0;32mNone\u001b[0m\u001b[0;34m:\u001b[0m\u001b[0;34m\u001b[0m\u001b[0;34m\u001b[0m\u001b[0m\n\u001b[1;32m    188\u001b[0m       \u001b[0mengine\u001b[0m \u001b[0;34m=\u001b[0m \u001b[0mgum\u001b[0m\u001b[0;34m.\u001b[0m\u001b[0mCNMonteCarloSampling\u001b[0m\u001b[0;34m(\u001b[0m\u001b[0mmodel\u001b[0m\u001b[0;34m)\u001b[0m\u001b[0;34m\u001b[0m\u001b[0;34m\u001b[0m\u001b[0m\n",
      "\u001b[0;32m~/.local/lib/python3.11/site-packages/pyAgrum/lib/id2graph.py\u001b[0m in \u001b[0;36m?\u001b[0;34m(diag, size, engine, evs, targets)\u001b[0m\n\u001b[1;32m    137\u001b[0m     \u001b[0mie\u001b[0m \u001b[0;34m=\u001b[0m \u001b[0mgum\u001b[0m\u001b[0;34m.\u001b[0m\u001b[0mShaferShenoyLIMIDInference\u001b[0m\u001b[0;34m(\u001b[0m\u001b[0mdiag\u001b[0m\u001b[0;34m)\u001b[0m\u001b[0;34m\u001b[0m\u001b[0;34m\u001b[0m\u001b[0m\n\u001b[1;32m    138\u001b[0m   \u001b[0;32melse\u001b[0m\u001b[0;34m:\u001b[0m\u001b[0;34m\u001b[0m\u001b[0;34m\u001b[0m\u001b[0m\n\u001b[1;32m    139\u001b[0m     \u001b[0mie\u001b[0m \u001b[0;34m=\u001b[0m \u001b[0mengine\u001b[0m\u001b[0;34m\u001b[0m\u001b[0;34m\u001b[0m\u001b[0m\n\u001b[1;32m    140\u001b[0m   \u001b[0mie\u001b[0m\u001b[0;34m.\u001b[0m\u001b[0msetEvidence\u001b[0m\u001b[0;34m(\u001b[0m\u001b[0mevs\u001b[0m\u001b[0;34m)\u001b[0m\u001b[0;34m\u001b[0m\u001b[0;34m\u001b[0m\u001b[0m\n\u001b[0;32m--> 141\u001b[0;31m   \u001b[0mie\u001b[0m\u001b[0;34m.\u001b[0m\u001b[0mmakeInference\u001b[0m\u001b[0;34m(\u001b[0m\u001b[0;34m)\u001b[0m\u001b[0;34m\u001b[0m\u001b[0;34m\u001b[0m\u001b[0m\n\u001b[0m\u001b[1;32m    142\u001b[0m   \u001b[0mstopTime\u001b[0m \u001b[0;34m=\u001b[0m \u001b[0mtime\u001b[0m\u001b[0;34m.\u001b[0m\u001b[0mtime\u001b[0m\u001b[0;34m(\u001b[0m\u001b[0;34m)\u001b[0m\u001b[0;34m\u001b[0m\u001b[0;34m\u001b[0m\u001b[0m\n\u001b[1;32m    143\u001b[0m   \u001b[0mmeu\u001b[0m \u001b[0;34m=\u001b[0m \u001b[0mie\u001b[0m\u001b[0;34m.\u001b[0m\u001b[0mMEU\u001b[0m\u001b[0;34m(\u001b[0m\u001b[0;34m)\u001b[0m\u001b[0;34m\u001b[0m\u001b[0;34m\u001b[0m\u001b[0m\n\u001b[1;32m    144\u001b[0m \u001b[0;34m\u001b[0m\u001b[0m\n",
      "\u001b[0;32m~/.local/lib/python3.11/site-packages/pyAgrum/pyAgrum.py\u001b[0m in \u001b[0;36m?\u001b[0;34m(self)\u001b[0m\n\u001b[1;32m  25720\u001b[0m \u001b[0;34m\u001b[0m\u001b[0m\n\u001b[1;32m  25721\u001b[0m         \u001b[0mMakes\u001b[0m \u001b[0mthe\u001b[0m \u001b[0minference\u001b[0m\u001b[0;34m.\u001b[0m\u001b[0;34m\u001b[0m\u001b[0;34m\u001b[0m\u001b[0m\n\u001b[1;32m  25722\u001b[0m \u001b[0;34m\u001b[0m\u001b[0m\n\u001b[1;32m  25723\u001b[0m         \"\"\"\n\u001b[0;32m> 25724\u001b[0;31m         \u001b[0;32mreturn\u001b[0m \u001b[0m_pyAgrum\u001b[0m\u001b[0;34m.\u001b[0m\u001b[0mShaferShenoyLIMIDInference_makeInference\u001b[0m\u001b[0;34m(\u001b[0m\u001b[0mself\u001b[0m\u001b[0;34m)\u001b[0m\u001b[0;34m\u001b[0m\u001b[0;34m\u001b[0m\u001b[0m\n\u001b[0m",
      "\u001b[0;31mFatalError\u001b[0m: [pyAgrum] Fatal error: This LIMID/Influence Diagram is not solvable."
     ]
    }
   ],
   "source": [
    "gnb.showInference(diag, evs={\n",
    "    \"T1\":0,\n",
    "#    \"T1-Outcome\":1,\n",
    "}, size=40)"
   ]
  },
  {
   "cell_type": "code",
   "execution_count": null,
   "id": "0a0f1e7b",
   "metadata": {},
   "outputs": [],
   "source": []
  }
 ],
 "metadata": {
  "kernelspec": {
   "display_name": "Python 3 (ipykernel)",
   "language": "python",
   "name": "python3"
  },
  "language_info": {
   "codemirror_mode": {
    "name": "ipython",
    "version": 3
   },
   "file_extension": ".py",
   "mimetype": "text/x-python",
   "name": "python",
   "nbconvert_exporter": "python",
   "pygments_lexer": "ipython3",
   "version": "3.11.5"
  }
 },
 "nbformat": 4,
 "nbformat_minor": 5
}
