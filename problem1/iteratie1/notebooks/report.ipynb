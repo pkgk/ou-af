{
 "cells": [
  {
   "cell_type": "code",
   "execution_count": null,
   "id": "de0593a0",
   "metadata": {},
   "outputs": [],
   "source": [
    "import os\n",
    "import sys\n",
    "import re\n",
    "import pyAgrum as gum\n",
    "import pyAgrum.lib.notebook as gnb\n",
    "from IPython.display import display, HTML\n"
   ]
  },
  {
   "cell_type": "code",
   "execution_count": null,
   "id": "214db6c4",
   "metadata": {},
   "outputs": [],
   "source": [
    "sys.path.insert(1, \"/workspaces/ou-af/problem1/iteratie1\")"
   ]
  },
  {
   "cell_type": "code",
   "execution_count": null,
   "id": "6acffc42",
   "metadata": {},
   "outputs": [],
   "source": [
    "# import de code\n",
    "import src.system as system\n",
    "import src.diagrambuilder as builder\n",
    "import specs.components as componentspecs\n",
    "import specs.connections as connectionspecs\n",
    "import specs.assemblies as assemblyspecs\n",
    "import specs.tests as testspecs"
   ]
  },
  {
   "cell_type": "code",
   "execution_count": null,
   "id": "76f5494a",
   "metadata": {},
   "outputs": [],
   "source": [
    "def visualizeStructure(diagram):\n",
    "    display(HTML(\"<style>.container { width:100% !important; }</style>\"))\n",
    "\n",
    "    # print summary of nodes\n",
    "    print(diagram)\n",
    "\n",
    "    # view structure\n",
    "    gnb.showInfluenceDiagram(diagram, size=60)"
   ]
  },
  {
   "cell_type": "code",
   "execution_count": null,
   "id": "8acbd63b",
   "metadata": {},
   "outputs": [],
   "source": [
    "def showCPTs(diagram, system):\n",
    "    for component in system.getComponents():\n",
    "        vars = component.getVariables()\n",
    "        for v in vars:\n",
    "            gnb.flow.row(diagram.cpt(v.name()))   \n",
    "#    for i in range(0, diagram.size()-1):\n",
    "#        gnb.flow.row(diagram.cpt(i))"
   ]
  },
  {
   "cell_type": "code",
   "execution_count": null,
   "id": "cf220281",
   "metadata": {},
   "outputs": [],
   "source": [
    "def createCptRow(nodelist):\n",
    "    if (len(nodelist) > 9): print(\"can't display cpt tables for component with more then 8 nodes\")\n",
    "    match len(nodelist):\n",
    "        case 1: gnb.flow.row(diagram.cpt(nodelist[0]))\n",
    "        case 2: gnb.flow.row(diagram.cpt(nodelist[0]), diagram.cpt(nodelist[1]))\n",
    "        case 3: gnb.flow.row(diagram.cpt(nodelist[0]), diagram.cpt(nodelist[1]), diagram.cpt(nodelist[2]))\n",
    "        case 4: gnb.flow.row(diagram.cpt(nodelist[0]), diagram.cpt(nodelist[1]), diagram.cpt(nodelist[2]), diagram.cpt(nodelist[3]))\n",
    "        case 5: gnb.flow.row(diagram.cpt(nodelist[0]), diagram.cpt(nodelist[1]), diagram.cpt(nodelist[2]), diagram.cpt(nodelist[3]), diagram.cpt(nodelist[4]))\n",
    "        case 6: gnb.flow.row(diagram.cpt(nodelist[0]), diagram.cpt(nodelist[1]), diagram.cpt(nodelist[2]), diagram.cpt(nodelist[3]), diagram.cpt(nodelist[4]), diagram.cpt(nodelist[5]))\n",
    "        case 7: gnb.flow.row(diagram.cpt(nodelist[0]), diagram.cpt(nodelist[1]), diagram.cpt(nodelist[2]), diagram.cpt(nodelist[3]), diagram.cpt(nodelist[4]), diagram.cpt(nodelist[5]), diagram.cpt(nodelist[6]))\n",
    "        case 8: gnb.flow.row(diagram.cpt(nodelist[0]), diagram.cpt(nodelist[1]), diagram.cpt(nodelist[2]), diagram.cpt(nodelist[3]), diagram.cpt(nodelist[4]), diagram.cpt(nodelist[5]), diagram.cpt(nodelist[6]), diagram.cpt(nodelist[7]))\n",
    "        case 9: gnb.flow.row(diagram.cpt(nodelist[0]), diagram.cpt(nodelist[1]), diagram.cpt(nodelist[2]), diagram.cpt(nodelist[3]), diagram.cpt(nodelist[4]), diagram.cpt(nodelist[5]), diagram.cpt(nodelist[6]), diagram.cpt(nodelist[7]), diagram.cpt(nodelist[8]))"
   ]
  },
  {
   "cell_type": "code",
   "execution_count": null,
   "id": "aff3e7d6",
   "metadata": {},
   "outputs": [],
   "source": [
    "def getDiagramChanceNodeIdsForComponent(componentname, diagram):\n",
    "    idlist = []\n",
    "    diagramNames = diagram.names()\n",
    "    for dname in diagramNames:\n",
    "        if(re.search(componentname + \"$\", dname)):\n",
    "            nodeid = diagram.idFromName(dname)\n",
    "            if (diagram.isChanceNode(nodeid)):\n",
    "                idlist.append(nodeid)\n",
    "    return idlist\n",
    "    \n",
    "\n",
    "def printCptTables(diagram, system):\n",
    "    for component in system.getComponents():\n",
    "        print(\"CPT tables for component: \" + component.getName())\n",
    "        createCptRow(getDiagramChanceNodeIdsForComponent(component.getName(), diagram))"
   ]
  },
  {
   "cell_type": "code",
   "execution_count": null,
   "id": "a3de5c1a",
   "metadata": {},
   "outputs": [],
   "source": [
    "def createUtilityRow(nodelist):\n",
    "    if (len(nodelist) > 9): print(\"can't display utility tables for component with more then 8 nodes\")\n",
    "    match len(nodelist):\n",
    "        case 1: gnb.flow.row(diagram.utility(nodelist[0]))\n",
    "        case 2: gnb.flow.row(diagram.utility(nodelist[0]), diagram.utility(nodelist[1]))\n",
    "        case 3: gnb.flow.row(diagram.utility(nodelist[0]), diagram.utility(nodelist[1]), diagram.utility(nodelist[2]))\n",
    "        case 4: gnb.flow.row(diagram.utility(nodelist[0]), diagram.utility(nodelist[1]), diagram.utility(nodelist[2]), diagram.utility(nodelist[3]))\n",
    "        case 5: gnb.flow.row(diagram.utility(nodelist[0]), diagram.utility(nodelist[1]), diagram.utility(nodelist[2]), diagram.utility(nodelist[3]), diagram.utility(nodelist[4]))\n",
    "        case 6: gnb.flow.row(diagram.utilityutility(nodelist[0]), diagram.utility(nodelist[1]), diagram.utility(nodelist[2]), diagram.utility(nodelist[3]), diagram.utility(nodelist[4]), diagram.utility(nodelist[5]))\n",
    "        case 7: gnb.flow.row(diagram.utility(nodelist[0]), diagram.utility(nodelist[1]), diagram.utility(nodelist[2]), diagram.utility(nodelist[3]), diagram.utility(nodelist[4]), diagram.utility(nodelist[5]), diagram.utility(nodelist[6]))\n",
    "        case 8: gnb.flow.row(diagram.utility(nodelist[0]), diagram.utility(nodelist[1]), diagram.utility(nodelist[2]), diagram.utility(nodelist[3]), diagram.utility(nodelist[4]), diagram.utility(nodelist[5]), diagram.utility(nodelist[6]), diagram.utility(nodelist[7]))\n",
    "        case 9: gnb.flow.row(diagram.utility(nodelist[0]), diagram.utility(nodelist[1]), diagram.utility(nodelist[2]), diagram.utility(nodelist[3]), diagram.utility(nodelist[4]), diagram.utility(nodelist[5]), diagram.utility(nodelist[6]), diagram.utility(nodelist[7]), diagram.utility(nodelist[8]))"
   ]
  },
  {
   "cell_type": "code",
   "execution_count": null,
   "id": "5ab1a454",
   "metadata": {},
   "outputs": [],
   "source": [
    "def getDiagramUtilityNodeIdsForComponent(componentname, diagram):\n",
    "    idlist = []\n",
    "    diagramNames = diagram.names()\n",
    "    for dname in diagramNames:\n",
    "        if(re.search(componentname + \"$\", dname)):\n",
    "            nodeid = diagram.idFromName(dname)\n",
    "            if (diagram.isUtilityNode(nodeid)):\n",
    "                idlist.append(nodeid)\n",
    "    return idlist\n",
    "    \n",
    "\n",
    "def printUtilityTables(diagram, system):\n",
    "    for component in system.getComponents():\n",
    "        print(\"Utility tables for component: \" + component.getName())\n",
    "        createUtilityRow(getDiagramUtilityNodeIdsForComponent(component.getName(), diagram))"
   ]
  },
  {
   "cell_type": "markdown",
   "id": "98f6a2f7",
   "metadata": {},
   "source": [
    "## main"
   ]
  },
  {
   "cell_type": "code",
   "execution_count": null,
   "id": "c2e696fa",
   "metadata": {},
   "outputs": [],
   "source": [
    "# gather specs for a system\n",
    "components = [componentspecs.light, componentspecs.switch]\n",
    "connections = [connectionspecs.wire, connectionspecs.wire2]\n",
    "tests = [testspecs.testObserveHealth]\n",
    "assembly = {\n",
    "    \"components\"  : components,\n",
    "    \"connections\" : connections,\n",
    "    \"structure\"   : assemblyspecs.structure1,\n",
    "    \"tests\"       : tests,\n",
    "    \"testmapping\" : testspecs.testmapping1\n",
    "}"
   ]
  },
  {
   "cell_type": "code",
   "execution_count": null,
   "id": "2573dc1a",
   "metadata": {},
   "outputs": [],
   "source": [
    "# read specifications, create system of objects\n",
    "system = system.createSystemFromSpecs(assembly)"
   ]
  },
  {
   "cell_type": "code",
   "execution_count": null,
   "id": "9d159205",
   "metadata": {},
   "outputs": [],
   "source": [
    "def createStepList(start, end, step):\n",
    "    value = start\n",
    "    resultlist = []\n",
    "    while (value <= end):\n",
    "        resultlist.append(value)\n",
    "        value = round((value + step), 2)\n",
    "    return resultlist\n"
   ]
  },
  {
   "cell_type": "code",
   "execution_count": null,
   "id": "de64e3c5",
   "metadata": {},
   "outputs": [],
   "source": [
    "#for component in system.getComponents():\n",
    "diagram.cpt(diagram.idFromName(\"healthLight\")).set((healthLight:ok), .6)\n",
    "    \n",
    "\n"
   ]
  },
  {
   "cell_type": "code",
   "execution_count": null,
   "id": "0329b07b",
   "metadata": {},
   "outputs": [],
   "source": [
    "dummy = gum.LabelizedVariable(\"healthLight\", \"healthLight\", [\"ok\", \"broken\"])\n",
    "\n",
    "# cpt table is a potential\n",
    "# looping a cpt table returns an instantiation which are tuples of discretevariables\n",
    "\n",
    "for row in diagram.cpt(diagram.idFromName(\"healthLight\")).loopIn():\n",
    "    print(type(row))\n",
    "    print(row.todict())\n",
    "    # return variable from tuples at location (0)\n",
    "    if (row.variable(0) == dummy): print(\"yes\")\n",
    "    # return value for variable\n",
    "    print(row.val(row.variable(0)))\n",
    "    \n",
    "    row.chgVal(row.variable(0), 1)\n"
   ]
  },
  {
   "cell_type": "code",
   "execution_count": null,
   "id": "c39a1b34",
   "metadata": {},
   "outputs": [],
   "source": [
    "diagram.cpt(diagram.idFromName(\"healthLight\"))"
   ]
  },
  {
   "cell_type": "code",
   "execution_count": null,
   "id": "9e917de3",
   "metadata": {},
   "outputs": [],
   "source": [
    "CPT = diagram.cpt(diagram.idFromName(\"healthLight\"))\n",
    "\n",
    "i = gum.Instantiation(CPT)"
   ]
  },
  {
   "cell_type": "code",
   "execution_count": null,
   "id": "8df14c85",
   "metadata": {},
   "outputs": [],
   "source": [
    "print(i)"
   ]
  },
  {
   "cell_type": "code",
   "execution_count": null,
   "id": "046df6dc",
   "metadata": {},
   "outputs": [],
   "source": [
    "CPT.set(i, 0.3)"
   ]
  },
  {
   "cell_type": "code",
   "execution_count": null,
   "id": "4594b593",
   "metadata": {},
   "outputs": [],
   "source": []
  },
  {
   "cell_type": "code",
   "execution_count": null,
   "id": "63977b9d",
   "metadata": {},
   "outputs": [],
   "source": []
  },
  {
   "cell_type": "code",
   "execution_count": null,
   "id": "90303b90",
   "metadata": {},
   "outputs": [],
   "source": [
    "# create diagram object\n",
    "diagram = gum.InfluenceDiagram()"
   ]
  },
  {
   "cell_type": "code",
   "execution_count": null,
   "id": "066998f2",
   "metadata": {
    "scrolled": true
   },
   "outputs": [],
   "source": [
    "diagram = builder.diagramBuilder(diagram, system)"
   ]
  },
  {
   "cell_type": "code",
   "execution_count": null,
   "id": "a408eb72",
   "metadata": {
    "scrolled": false
   },
   "outputs": [],
   "source": [
    "# reporting\n",
    "visualizeStructure(diagram)\n",
    "printCptTables(diagram, system)\n",
    "printUtilityTables(diagram, system)"
   ]
  },
  {
   "cell_type": "markdown",
   "id": "6fdc6f04",
   "metadata": {},
   "source": [
    "- model van de context en daartegen het artefact toetsen\n",
    "  - in de context voert iemand testen uit en levert bewijs aan om de volgende stap te bepalen, dit kunnen we een scenario noemen\n",
    "  - is een scenario vooraf bekend of dynamisch? in principe dynamisch zodat de reparateur de adviezen van het systeem opvolgt\n",
    "  - omdat het een testgeval betreft kunnen we wel al weten wat de root cause is, hoe kan dit de dynamische antwoorden helpen sturen?\n",
    "\n",
    "- wat willen we allemaal weten?\n",
    "  - de waarden van de besluiten: optimalDecision\n",
    "  - de totale utility\n",
    "  - de bronspecificaties > de uitgangssituatie\n",
    " \n",
    "- wat ga ik doen?\n",
    "  - verander de kansen van health variabelen (en/of verander de utilities): stapjes van 0.05 naar beneden\n",
    "  - bepaal een start observatie\n",
    "  - genereer een advies, volgt advies op\n",
    "  - bepaal gegeven de root cause de uitkomst van de test vooraf?\n",
    "  - ga door totdat replace besluit genomen wordt?\n",
    "  \n",
    "  - kijk welke utility dit oplevert en hoeveel besluiten: MEU en aantal besluiten met 1\n",
    "  - bewaar de key resultaten\n",
    "    - uitgangssituatie\n",
    "    - variabelen waarmee gespeeld wordt en hoe die dan zijn ingesteld\n",
    "    - status van de besluiten en de MEU"
   ]
  },
  {
   "cell_type": "code",
   "execution_count": null,
   "id": "3addf3ac",
   "metadata": {},
   "outputs": [],
   "source": [
    "def makeInferenceDiag(diagram, evs):\n",
    "    ie = gum.ShaferShenoyLIMIDInference(diagram) \n",
    "    ie.setEvidence(evs)\n",
    "    ie.makeInference()\n",
    "    return ie"
   ]
  },
  {
   "cell_type": "code",
   "execution_count": null,
   "id": "5716b8ca",
   "metadata": {},
   "outputs": [],
   "source": [
    "def getNodeSets(diagram):\n",
    "    utilitylist = []\n",
    "    decisionlist = []\n",
    "    chancelist = []\n",
    "    for node in diagram.nodes():\n",
    "        if diagram.isDecisionNode(node):\n",
    "            decisionlist.append(diagram.variable(node).name())\n",
    "        elif diagram.isUtilityNode(node):\n",
    "            utilitylist.append(diagram.variable(node).name())\n",
    "        elif diagram.isChanceNode(node):\n",
    "            chancelist.append(diagram.variable(node).name())\n",
    "    return (chancelist, decisionlist, utilitylist)\n"
   ]
  },
  {
   "cell_type": "code",
   "execution_count": null,
   "id": "e352f0e0",
   "metadata": {},
   "outputs": [],
   "source": []
  },
  {
   "cell_type": "code",
   "execution_count": null,
   "id": "75c77d3b",
   "metadata": {},
   "outputs": [],
   "source": []
  },
  {
   "cell_type": "code",
   "execution_count": null,
   "id": "aeee8516",
   "metadata": {
    "scrolled": false
   },
   "outputs": [],
   "source": [
    "#myevidence = {\"healthSwitch\":0,\"DecisionReplaceSwitch\": 0, \"DecisionTestObserveHealthLight\":1, \"DecisionReplaceLight\":0}\n",
    "myevidence = {}\n",
    "ie = makeInferenceDiag(diagram, myevidence)\n",
    "#gnb.showInference(diagram, engine=ie, evs=myevidence, size=40)\n",
    "\n",
    "\n",
    "nodesets = getNodeSets(diagram)\n",
    "\n",
    "decisionlist = nodesets[1]\n",
    "\n",
    "for decision in decisionlist:\n",
    "#    for item in ie.optimalDecision(decision).loopIn():\n",
    "#        print(item.topandas())\n",
    "    print(ie.optimalDecision(decision).topandas())\n",
    "print(ie.MEU())\n"
   ]
  },
  {
   "cell_type": "code",
   "execution_count": null,
   "id": "f644c373",
   "metadata": {},
   "outputs": [],
   "source": []
  },
  {
   "cell_type": "code",
   "execution_count": null,
   "id": "1a26732e",
   "metadata": {},
   "outputs": [],
   "source": [
    "a = 5"
   ]
  },
  {
   "cell_type": "code",
   "execution_count": null,
   "id": "85a265d6",
   "metadata": {},
   "outputs": [],
   "source": []
  }
 ],
 "metadata": {
  "kernelspec": {
   "display_name": "Python 3 (ipykernel)",
   "language": "python",
   "name": "python3"
  },
  "language_info": {
   "codemirror_mode": {
    "name": "ipython",
    "version": 3
   },
   "file_extension": ".py",
   "mimetype": "text/x-python",
   "name": "python",
   "nbconvert_exporter": "python",
   "pygments_lexer": "ipython3",
   "version": "3.11.3"
  }
 },
 "nbformat": 4,
 "nbformat_minor": 5
}
