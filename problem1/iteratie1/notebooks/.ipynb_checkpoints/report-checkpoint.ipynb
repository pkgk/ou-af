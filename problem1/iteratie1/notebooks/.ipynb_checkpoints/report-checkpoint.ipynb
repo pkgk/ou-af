{
 "cells": [
  {
   "cell_type": "markdown",
   "id": "8fceb233",
   "metadata": {},
   "source": [
    "# goal: training parameters"
   ]
  },
  {
   "cell_type": "markdown",
   "id": "227d8b45",
   "metadata": {},
   "source": [
    "# imports + settings"
   ]
  },
  {
   "cell_type": "code",
   "execution_count": 1,
   "id": "de0593a0",
   "metadata": {},
   "outputs": [],
   "source": [
    "import os\n",
    "import sys\n",
    "import re\n",
    "import pyAgrum as gum\n",
    "import pyAgrum.lib.notebook as gnb\n",
    "from IPython.display import display, HTML, clear_output\n",
    "import pandas as pd\n",
    "from itertools import product\n",
    "import math"
   ]
  },
  {
   "cell_type": "code",
   "execution_count": 2,
   "id": "214db6c4",
   "metadata": {},
   "outputs": [],
   "source": [
    "sys.path.insert(1, \"/workspaces/ou-af/problem1/iteratie1\")"
   ]
  },
  {
   "cell_type": "code",
   "execution_count": 3,
   "id": "6acffc42",
   "metadata": {},
   "outputs": [],
   "source": [
    "# import de code\n",
    "import src.system as system\n",
    "import src.diagrambuilder as builder\n",
    "import specs.components as componentspecs\n",
    "import specs.connections as connectionspecs\n",
    "import specs.assemblies as assemblyspecs\n",
    "import specs.tests as testspecs"
   ]
  },
  {
   "cell_type": "markdown",
   "id": "17b04231",
   "metadata": {},
   "source": [
    "# reporting methods"
   ]
  },
  {
   "cell_type": "code",
   "execution_count": 4,
   "id": "76f5494a",
   "metadata": {},
   "outputs": [],
   "source": [
    "def visualizeStructure(diagram):\n",
    "    display(HTML(\"<style>.container { width:100% !important; }</style>\"))\n",
    "\n",
    "    # print summary of nodes\n",
    "    print(diagram)\n",
    "\n",
    "    # view structure\n",
    "    gnb.showInfluenceDiagram(diagram, size=60)"
   ]
  },
  {
   "cell_type": "code",
   "execution_count": 5,
   "id": "8acbd63b",
   "metadata": {},
   "outputs": [],
   "source": [
    "def showCPTs(diagram, system):\n",
    "    for component in system.getComponents():\n",
    "        vars = component.getVariables()\n",
    "        for v in vars:\n",
    "            gnb.flow.row(diagram.cpt(v.name()))   \n",
    "#    for i in range(0, diagram.size()-1):\n",
    "#        gnb.flow.row(diagram.cpt(i))"
   ]
  },
  {
   "cell_type": "code",
   "execution_count": 6,
   "id": "cf220281",
   "metadata": {},
   "outputs": [],
   "source": [
    "def createCptRow(nodelist):\n",
    "    if (len(nodelist) > 9): print(\"can't display cpt tables for component with more then 8 nodes\")\n",
    "    match len(nodelist):\n",
    "        case 1: gnb.flow.row(diagram.cpt(nodelist[0]))\n",
    "        case 2: gnb.flow.row(diagram.cpt(nodelist[0]), diagram.cpt(nodelist[1]))\n",
    "        case 3: gnb.flow.row(diagram.cpt(nodelist[0]), diagram.cpt(nodelist[1]), diagram.cpt(nodelist[2]))\n",
    "        case 4: gnb.flow.row(diagram.cpt(nodelist[0]), diagram.cpt(nodelist[1]), diagram.cpt(nodelist[2]), diagram.cpt(nodelist[3]))\n",
    "        case 5: gnb.flow.row(diagram.cpt(nodelist[0]), diagram.cpt(nodelist[1]), diagram.cpt(nodelist[2]), diagram.cpt(nodelist[3]), diagram.cpt(nodelist[4]))\n",
    "        case 6: gnb.flow.row(diagram.cpt(nodelist[0]), diagram.cpt(nodelist[1]), diagram.cpt(nodelist[2]), diagram.cpt(nodelist[3]), diagram.cpt(nodelist[4]), diagram.cpt(nodelist[5]))\n",
    "        case 7: gnb.flow.row(diagram.cpt(nodelist[0]), diagram.cpt(nodelist[1]), diagram.cpt(nodelist[2]), diagram.cpt(nodelist[3]), diagram.cpt(nodelist[4]), diagram.cpt(nodelist[5]), diagram.cpt(nodelist[6]))\n",
    "        case 8: gnb.flow.row(diagram.cpt(nodelist[0]), diagram.cpt(nodelist[1]), diagram.cpt(nodelist[2]), diagram.cpt(nodelist[3]), diagram.cpt(nodelist[4]), diagram.cpt(nodelist[5]), diagram.cpt(nodelist[6]), diagram.cpt(nodelist[7]))\n",
    "        case 9: gnb.flow.row(diagram.cpt(nodelist[0]), diagram.cpt(nodelist[1]), diagram.cpt(nodelist[2]), diagram.cpt(nodelist[3]), diagram.cpt(nodelist[4]), diagram.cpt(nodelist[5]), diagram.cpt(nodelist[6]), diagram.cpt(nodelist[7]), diagram.cpt(nodelist[8]))"
   ]
  },
  {
   "cell_type": "code",
   "execution_count": 7,
   "id": "aff3e7d6",
   "metadata": {},
   "outputs": [],
   "source": [
    "def getDiagramChanceNodeIdsForComponent(componentname, diagram):\n",
    "    idlist = []\n",
    "    diagramNames = diagram.names()\n",
    "    for dname in diagramNames:\n",
    "        if(re.search(componentname + \"$\", dname)):\n",
    "            nodeid = diagram.idFromName(dname)\n",
    "            if (diagram.isChanceNode(nodeid)):\n",
    "                idlist.append(nodeid)\n",
    "    return idlist\n",
    "    \n",
    "\n",
    "def printCptTables(diagram, system):\n",
    "    for component in system.getComponents():\n",
    "        print(\"CPT tables for component: \" + component.getName())\n",
    "        createCptRow(getDiagramChanceNodeIdsForComponent(component.getName(), diagram))"
   ]
  },
  {
   "cell_type": "code",
   "execution_count": 8,
   "id": "a3de5c1a",
   "metadata": {},
   "outputs": [],
   "source": [
    "def createUtilityRow(nodelist):\n",
    "    if (len(nodelist) > 9): print(\"can't display utility tables for component with more then 8 nodes\")\n",
    "    match len(nodelist):\n",
    "        case 1: gnb.flow.row(diagram.utility(nodelist[0]))\n",
    "        case 2: gnb.flow.row(diagram.utility(nodelist[0]), diagram.utility(nodelist[1]))\n",
    "        case 3: gnb.flow.row(diagram.utility(nodelist[0]), diagram.utility(nodelist[1]), diagram.utility(nodelist[2]))\n",
    "        case 4: gnb.flow.row(diagram.utility(nodelist[0]), diagram.utility(nodelist[1]), diagram.utility(nodelist[2]), diagram.utility(nodelist[3]))\n",
    "        case 5: gnb.flow.row(diagram.utility(nodelist[0]), diagram.utility(nodelist[1]), diagram.utility(nodelist[2]), diagram.utility(nodelist[3]), diagram.utility(nodelist[4]))\n",
    "        case 6: gnb.flow.row(diagram.utilityutility(nodelist[0]), diagram.utility(nodelist[1]), diagram.utility(nodelist[2]), diagram.utility(nodelist[3]), diagram.utility(nodelist[4]), diagram.utility(nodelist[5]))\n",
    "        case 7: gnb.flow.row(diagram.utility(nodelist[0]), diagram.utility(nodelist[1]), diagram.utility(nodelist[2]), diagram.utility(nodelist[3]), diagram.utility(nodelist[4]), diagram.utility(nodelist[5]), diagram.utility(nodelist[6]))\n",
    "        case 8: gnb.flow.row(diagram.utility(nodelist[0]), diagram.utility(nodelist[1]), diagram.utility(nodelist[2]), diagram.utility(nodelist[3]), diagram.utility(nodelist[4]), diagram.utility(nodelist[5]), diagram.utility(nodelist[6]), diagram.utility(nodelist[7]))\n",
    "        case 9: gnb.flow.row(diagram.utility(nodelist[0]), diagram.utility(nodelist[1]), diagram.utility(nodelist[2]), diagram.utility(nodelist[3]), diagram.utility(nodelist[4]), diagram.utility(nodelist[5]), diagram.utility(nodelist[6]), diagram.utility(nodelist[7]), diagram.utility(nodelist[8]))"
   ]
  },
  {
   "cell_type": "code",
   "execution_count": 9,
   "id": "5ab1a454",
   "metadata": {},
   "outputs": [],
   "source": [
    "def getDiagramUtilityNodeIdsForComponent(componentname, diagram):\n",
    "    idlist = []\n",
    "    diagramNames = diagram.names()\n",
    "    for dname in diagramNames:\n",
    "        if(re.search(componentname + \"$\", dname)):\n",
    "            nodeid = diagram.idFromName(dname)\n",
    "            if (diagram.isUtilityNode(nodeid)):\n",
    "                idlist.append(nodeid)\n",
    "    return idlist\n",
    "    \n",
    "\n",
    "def printUtilityTables(diagram, system):\n",
    "    for component in system.getComponents():\n",
    "        print(\"Utility tables for component: \" + component.getName())\n",
    "        createUtilityRow(getDiagramUtilityNodeIdsForComponent(component.getName(), diagram))"
   ]
  },
  {
   "cell_type": "markdown",
   "id": "98f6a2f7",
   "metadata": {},
   "source": [
    "# main"
   ]
  },
  {
   "cell_type": "code",
   "execution_count": 10,
   "id": "c2e696fa",
   "metadata": {},
   "outputs": [],
   "source": [
    "# gather specs for a system\n",
    "components = [componentspecs.light, componentspecs.switch]\n",
    "connections = [connectionspecs.wire, connectionspecs.wire2]\n",
    "tests = [testspecs.testObserveHealth]\n",
    "assembly = {\n",
    "    \"components\"  : components,\n",
    "    \"connections\" : connections,\n",
    "    \"structure\"   : assemblyspecs.structure1,\n",
    "    \"tests\"       : tests,\n",
    "    \"testmapping\" : testspecs.testmapping1\n",
    "}"
   ]
  },
  {
   "cell_type": "code",
   "execution_count": 11,
   "id": "2573dc1a",
   "metadata": {},
   "outputs": [
    {
     "name": "stdout",
     "output_type": "stream",
     "text": [
      "building system: structure1\n",
      "number of components: 2\n",
      "number of connections: 2\n",
      "number of tests: 1\n"
     ]
    }
   ],
   "source": [
    "# read specifications, create system of objects\n",
    "system = system.createSystemFromSpecs(assembly)"
   ]
  },
  {
   "cell_type": "code",
   "execution_count": 12,
   "id": "90303b90",
   "metadata": {},
   "outputs": [],
   "source": [
    "# create diagram object\n",
    "diagram = gum.InfluenceDiagram()"
   ]
  },
  {
   "cell_type": "code",
   "execution_count": 13,
   "id": "066998f2",
   "metadata": {
    "scrolled": true
   },
   "outputs": [
    {
     "name": "stdout",
     "output_type": "stream",
     "text": [
      "adding component: Light\n",
      "adding component: Switch\n",
      "adding connection between: PresentPowerOutputsSwitch and: PresentPowerInputsLight\n",
      "adding cpt for component: Light\n",
      "adding cpt for component: Switch\n",
      "adding cpt for connection: Wire\n",
      "adding Replace decision for component: Light\n",
      "adding Replace decision for component: Switch\n",
      "adding Replace utility for component: Light\n",
      "adding Replace utility for component: Switch\n",
      "adding test: TestObserveHealth to component: Light\n"
     ]
    }
   ],
   "source": [
    "diagram = builder.diagramBuilder(diagram, system)"
   ]
  },
  {
   "cell_type": "markdown",
   "id": "2d06ce12",
   "metadata": {},
   "source": [
    "# validation"
   ]
  },
  {
   "cell_type": "markdown",
   "id": "6fdc6f04",
   "metadata": {},
   "source": [
    "- model van de context en daartegen het artefact toetsen\n",
    "  - in de context voert iemand testen uit en levert bewijs aan om de volgende stap te bepalen, dit kunnen we een scenario noemen\n",
    "  - is een scenario vooraf bekend of dynamisch? in principe dynamisch zodat de reparateur de adviezen van het systeem opvolgt\n",
    "  - omdat het een testgeval betreft kunnen we wel al weten wat de root cause is, hoe kan dit de dynamische antwoorden helpen sturen?\n",
    "\n",
    "- wat willen we allemaal weten?\n",
    "  - de waarden van de besluiten: optimalDecision\n",
    "  - de totale utility\n",
    "  - de bronspecificaties > de uitgangssituatie\n",
    " \n",
    "- wat ga ik doen?\n",
    "  - verander de kansen van health variabelen (en/of verander de utilities): stapjes van 0.05 naar beneden\n",
    "  - bepaal een start observatie\n",
    "  - genereer een advies, volgt advies op\n",
    "  - bepaal gegeven de root cause de uitkomst van de test vooraf?\n",
    "  - ga door totdat replace besluit genomen wordt?\n",
    "  \n",
    "  - kijk welke utility dit oplevert en hoeveel besluiten: MEU en aantal besluiten met 1\n",
    "  - bewaar de key resultaten\n",
    "    - uitgangssituatie\n",
    "    - variabelen waarmee gespeeld wordt en hoe die dan zijn ingesteld\n",
    "    - status van de besluiten en de MEU"
   ]
  },
  {
   "cell_type": "code",
   "execution_count": null,
   "id": "9d159205",
   "metadata": {},
   "outputs": [],
   "source": []
  },
  {
   "cell_type": "code",
   "execution_count": null,
   "id": "a778332a",
   "metadata": {},
   "outputs": [],
   "source": []
  },
  {
   "cell_type": "code",
   "execution_count": null,
   "id": "3addf3ac",
   "metadata": {},
   "outputs": [],
   "source": []
  },
  {
   "cell_type": "code",
   "execution_count": null,
   "id": "5716b8ca",
   "metadata": {},
   "outputs": [],
   "source": []
  },
  {
   "cell_type": "code",
   "execution_count": null,
   "id": "f7203e55",
   "metadata": {},
   "outputs": [],
   "source": []
  },
  {
   "cell_type": "markdown",
   "id": "e2d0ef77",
   "metadata": {},
   "source": [
    "# simulation"
   ]
  },
  {
   "cell_type": "markdown",
   "id": "46a310b2",
   "metadata": {},
   "source": [
    "steps:\n",
    "\n",
    "- for health determine priorvalueslist\n",
    "- for utility with 2 parents determine utilitytwoparentsvalueslist\n",
    "- for utility with 2 parents calculate productlist\n",
    "- for utility with 1 parent determine utilityoneparentvalueslist\n",
    "- for utility with 1 parent calculate productlist\n",
    "\n",
    "- create dict \n",
    "- call def calculateProductOfLists > productvalueslist\n",
    "\n",
    "- iterate over dictkeys\n",
    "- for healths get values directly from productvaluelist\n",
    "  - set health\n",
    "\n",
    "- for utility use values from productvaluelist as index for utilitytwoparentsvalueslist\n",
    "- ... for 1 parent\n",
    "\n",
    "- set evidence\n",
    "- do inference\n",
    "- log results to dataframe"
   ]
  },
  {
   "cell_type": "code",
   "execution_count": 14,
   "id": "87200805",
   "metadata": {},
   "outputs": [],
   "source": [
    "# generate list of numbers based on start, end and stepsize\n",
    "# round each result to 2 decimals\n",
    "def createStepList(start, end, step):\n",
    "    value = start\n",
    "    resultlist = []\n",
    "    while (value <= end):\n",
    "        resultlist.append(value)\n",
    "        value = round((value + step), 2)\n",
    "    return resultlist"
   ]
  },
  {
   "cell_type": "code",
   "execution_count": 15,
   "id": "b6420bd3",
   "metadata": {},
   "outputs": [],
   "source": [
    "# convert given dict into a list of lists\n",
    "# calculate product of all the values in the list\n",
    "def calculateProductOfLists(inputdict):\n",
    "    valuelists = []\n",
    "    keys = inputdict.keys()\n",
    "    for k in keys:\n",
    "        valuelists.append(inputdict[k])  \n",
    "    iterlist = list(product(*valuelists))\n",
    "    return iterlist\n"
   ]
  },
  {
   "cell_type": "code",
   "execution_count": 16,
   "id": "947dcba2",
   "metadata": {},
   "outputs": [],
   "source": [
    "# get health variable via name and change prior of ok state to newvalue\n",
    "def changePriorHealthNode(componentname, findstate, newvalue):\n",
    "    did = diagram.idFromName(componentname)\n",
    "    for i in diagram.cpt(did).loopIn():\n",
    "        if (i.todict()[componentname] == findstate):\n",
    "            diagram.cpt(did).set(i, round(newvalue, 2))\n",
    "        else:\n",
    "            diagram.cpt(did).set(i, round((1 - newvalue), 2))"
   ]
  },
  {
   "cell_type": "code",
   "execution_count": 17,
   "id": "48340e63",
   "metadata": {},
   "outputs": [],
   "source": [
    "# update values of a given utility table\n",
    "def changeUtilityValues(nodename, valuelist):\n",
    "    # get utilitytable as \"potential\" object\n",
    "    p = diagram.utility(diagram.idFromName(nodename))\n",
    "\n",
    "    # loop potential, every item is an Instantiation object\n",
    "    valuelistindex = 0\n",
    "    for i in p.loopIn():\n",
    "        p[i] = valuelist[valuelistindex]\n",
    "        valuelistindex = valuelistindex + 1\n",
    "\n"
   ]
  },
  {
   "cell_type": "code",
   "execution_count": 18,
   "id": "501c5afd",
   "metadata": {},
   "outputs": [],
   "source": [
    "# basic inference given evidence \"evs\"\n",
    "def makeInferenceDiag(diagram, evs):\n",
    "    ie = gum.ShaferShenoyLIMIDInference(diagram) \n",
    "    ie.setEvidence(evs)\n",
    "    ie.makeInference()\n",
    "    return ie"
   ]
  },
  {
   "cell_type": "code",
   "execution_count": 19,
   "id": "83368251",
   "metadata": {},
   "outputs": [],
   "source": [
    "# loop decisions, if optimal decision = yes put in list with postive decisions\n",
    "def getPositiveDecisions(diagram, ie):\n",
    "    resultlist = []\n",
    "    decisions = getNodeSets(diagram)[1]\n",
    "    \n",
    "    # loop decisions\n",
    "    for decision in decisions:\n",
    "        did = diagram.idFromName(decision)\n",
    "        \n",
    "        # loop all instantiations of potential\n",
    "        for i in ie.optimalDecision(did).loopIn():\n",
    "\n",
    "            # get decisions where optimaldecision is yes (value is 1)\n",
    "            for k in i.todict().keys():\n",
    "                if ( i.todict()[k] == \"yes\"):\n",
    "                    decisionvalue = ie.optimalDecision(did).get(i)\n",
    "                    if (decisionvalue == 1):\n",
    "                        resultlist.append(decision)\n",
    "    return resultlist"
   ]
  },
  {
   "cell_type": "code",
   "execution_count": 20,
   "id": "b31992e1",
   "metadata": {},
   "outputs": [],
   "source": [
    "# get all nodes from diagram and categorize into sets oof decisions, chance and utilities\n",
    "def getNodeSets(diagram):\n",
    "    utilitylist = []\n",
    "    decisionlist = []\n",
    "    chancelist = []\n",
    "    \n",
    "    for node in diagram.nodes():\n",
    "        if diagram.isDecisionNode(node):\n",
    "            decisionlist.append(diagram.variable(node).name())\n",
    "        elif diagram.isUtilityNode(node):\n",
    "            utilitylist.append(diagram.variable(node).name())\n",
    "        elif diagram.isChanceNode(node):\n",
    "            chancelist.append(diagram.variable(node).name())\n",
    "    return (chancelist, decisionlist, utilitylist)\n"
   ]
  },
  {
   "cell_type": "code",
   "execution_count": 21,
   "id": "74159ac7",
   "metadata": {},
   "outputs": [],
   "source": [
    "# get all nodes whose names start with \"health\"\n",
    "def getHealthNodes(diagram):\n",
    "    result = []\n",
    "    nodes = getNodeSets(diagram)[0]\n",
    "    for node in nodes:\n",
    "        if (re.search(\"^health\", node)):\n",
    "            result.append(node)\n",
    "    return result "
   ]
  },
  {
   "cell_type": "code",
   "execution_count": 22,
   "id": "02fc7d78",
   "metadata": {},
   "outputs": [],
   "source": [
    "# get all nodes that represent replace decisions\n",
    "def getReplaceUtilityNodes(diagram):\n",
    "    result = []\n",
    "    nodes = getNodeSets(diagram)[2]\n",
    "    for node in nodes:\n",
    "        if (re.search(\"Replace\", node)):\n",
    "            result.append(node)\n",
    "    return result "
   ]
  },
  {
   "cell_type": "code",
   "execution_count": 23,
   "id": "59ace9bf",
   "metadata": {},
   "outputs": [],
   "source": [
    "# get all nodes that represent tests\n",
    "def getTestUtilityNodes(diagram):\n",
    "    result = []\n",
    "    nodes = getNodeSets(diagram)[2]\n",
    "    for node in nodes:\n",
    "        if (re.search(\"Test\", node)):\n",
    "            result.append(node)\n",
    "    return result"
   ]
  },
  {
   "cell_type": "code",
   "execution_count": 24,
   "id": "7b671469",
   "metadata": {},
   "outputs": [],
   "source": [
    "# filter method to reduce amount of permutations\n",
    "def selectConfiguration(x):\n",
    "    if (x[0] < x[3] < x[2] < x[1]): \n",
    "        return True\n",
    "    else: \n",
    "        return False\n",
    "#    return True"
   ]
  },
  {
   "cell_type": "code",
   "execution_count": 25,
   "id": "9db55f2e",
   "metadata": {},
   "outputs": [],
   "source": [
    "# generate all configurations we want to perform inference for, use filter to limit numbers\n",
    "def determineConfigurations(diagram):\n",
    "    \n",
    "    # determine values health prior \n",
    "    priorValuesHealth = createStepList(0,1, 0.2)\n",
    "    # determine values utility replaceÍ\n",
    "    utilityValuesReplaceDecisions = list(product([-1,-2,-3,-4], repeat=4))\n",
    "    # filter the utilities to reduce numbers\n",
    "    utilityValuesReplaceDecisions2 = list(filter(lambda n: selectConfiguration(n), utilityValuesReplaceDecisions))\n",
    "\n",
    "    # determine values test utility can take\n",
    "    utilityValuesTestObserve = list(product([1,2], repeat=2))\n",
    "                                \n",
    "    # write parameters to results dict\n",
    "    parametervaluesdict = {}\n",
    "    for n in getHealthNodes(diagram):\n",
    "        parametervaluesdict[n] = priorValuesHealth\n",
    "    for n in getReplaceUtilityNodes(diagram):\n",
    "        parametervaluesdict[n] = list(range(0, len(utilityValuesReplaceDecisions2)))\n",
    "    for n in getTestUtilityNodes(diagram):\n",
    "        parametervaluesdict[n] = list(range(0, len(utilityValuesTestObserve)))\n",
    "#    print(parametervaluesdict)\n",
    "\n",
    "\n",
    "    # for all possible combinations of parameters given in dict\n",
    "    return (list(calculateProductOfLists(parametervaluesdict)), utilityValuesReplaceDecisions2, utilityValuesTestObserve)\n"
   ]
  },
  {
   "cell_type": "code",
   "execution_count": 26,
   "id": "6b9a9802",
   "metadata": {},
   "outputs": [
    {
     "name": "stdout",
     "output_type": "stream",
     "text": [
      "omvang allconfigurations: 864\n"
     ]
    }
   ],
   "source": [
    "allconfigurations = determineConfigurations(diagram)\n",
    "\n",
    "print(\"omvang allconfigurations: \" + str(len(allconfigurations[0])))\n"
   ]
  },
  {
   "cell_type": "code",
   "execution_count": 27,
   "id": "19fd4499",
   "metadata": {},
   "outputs": [],
   "source": [
    "# change values of chance and utility tables before inference\n",
    "def prepareDiagramForInference(diagram, configuration, parameters, resultdict):\n",
    "\n",
    "    # set (health/utility)nodes to new values\n",
    "    tupleindex = 0\n",
    "    for node in getHealthNodes(diagram):\n",
    "        changePriorHealthNode(node, \"ok\", parameters[tupleindex])\n",
    "        resultdict[node] = parameters[tupleindex]\n",
    "        tupleindex = tupleindex + 1\n",
    "    for node in getReplaceUtilityNodes(diagram):\n",
    "        valuelist = configuration[1][parameters[tupleindex]]\n",
    "        changeUtilityValues(node, valuelist)\n",
    "        resultdict[node] = valuelist\n",
    "        tupleindex = tupleindex + 1\n",
    "    for node in getTestUtilityNodes(diagram):\n",
    "        valuelist = configuration[2][parameters[tupleindex]]\n",
    "        changeUtilityValues(node, valuelist)\n",
    "        resultdict[node] = valuelist        \n",
    "        tupleindex = tupleindex + 1"
   ]
  },
  {
   "cell_type": "code",
   "execution_count": 28,
   "id": "564135a2",
   "metadata": {
    "scrolled": true
   },
   "outputs": [],
   "source": [
    "def runSimulation(diagram, evs, sheetname):\n",
    "\n",
    "    # temp limit to amout of iterations to perform\n",
    "    countlimit = 0\n",
    "    countnan = 0\n",
    "    # write inputparameters and results to dict\n",
    "    resultdict = {}\n",
    "    # create dataframe\n",
    "    outputdf = pd.DataFrame()\n",
    "\n",
    "    configuration = determineConfigurations(diagram)\n",
    "    allconfigurations = configuration[0]\n",
    "\n",
    "    for parameters in allconfigurations:\n",
    "        prepareDiagramForInference(diagram, configuration, parameters, resultdict)\n",
    "\n",
    "        # perform inference\n",
    "        ie = makeInferenceDiag(diagram, {})\n",
    "    \n",
    "        eu = ie.MEU()[\"mean\"]\n",
    "        if not math.isnan(eu):\n",
    "            # gather all positive decisions\n",
    "            positivedecisions = getPositiveDecisions(diagram, ie)\n",
    "            # loop all decisions\n",
    "            for decision in getNodeSets(diagram)[1]:\n",
    "                if decision in positivedecisions:\n",
    "                    resultdict[decision] = True\n",
    "                else:\n",
    "                    resultdict[decision] = False\n",
    "    \n",
    "            resultdict[\"MEUmean\"] = ie.MEU()[\"mean\"]\n",
    "            resultdict[\"MEUvariance\"] = ie.MEU()[\"variance\"]\n",
    "    \n",
    "            df_dictionary = pd.DataFrame([resultdict])\n",
    "            outputdf = pd.concat([outputdf, df_dictionary], ignore_index=True)    \n",
    "        else:\n",
    "            countnan = countnan + 1\n",
    "\n",
    "\n",
    "        if (countlimit % 1000 == 0): \n",
    "            clear_output(wait=True)\n",
    "            print(\"countlmit: \" + str(countlimit) + \", countnan: \" + str(countnan - 1))\n",
    "\n",
    "        countlimit = countlimit + 1\n",
    "        if countlimit > 10000000:break\n",
    "\n",
    "    with pd.ExcelWriter('outputdf.xlsx', mode='a', if_sheet_exists=\"replace\") as writer:  \n",
    "        outputdf.to_excel(writer, sheet_name=sheetname)\n",
    "#    outputdf.to_excel(\"outputdf.xlsx\", sheet_name=sheetname)  \n",
    "    \n"
   ]
  },
  {
   "cell_type": "code",
   "execution_count": 29,
   "id": "3c52eea9",
   "metadata": {},
   "outputs": [
    {
     "name": "stdout",
     "output_type": "stream",
     "text": [
      "countlmit: 0, countnan: 0\n"
     ]
    }
   ],
   "source": [
    "runSimulation(diagram, {}, \"base\")\n",
    "runSimulation(diagram, {\"PresentLightOutputsLight\":\"no\"}, \"nolight\")\n",
    "runSimulation(diagram, {\"PresentLightOutputsLight\":\"no\",\"TestOutcomeTestObserveHealthLight\":\"broken\"}, \"testoutcome=broken\")\n",
    "\n",
    "\n"
   ]
  },
  {
   "cell_type": "code",
   "execution_count": 30,
   "id": "f8ca6593",
   "metadata": {},
   "outputs": [],
   "source": [
    "TestOutcomeTestObserveHealthLight:\"broken\""
   ]
  },
  {
   "cell_type": "code",
   "execution_count": 31,
   "id": "4d929af8",
   "metadata": {},
   "outputs": [
    {
     "ename": "NameError",
     "evalue": "name 'outputdf' is not defined",
     "output_type": "error",
     "traceback": [
      "\u001b[0;31m---------------------------------------------------------------------------\u001b[0m",
      "\u001b[0;31mNameError\u001b[0m                                 Traceback (most recent call last)",
      "Cell \u001b[0;32mIn[31], line 1\u001b[0m\n\u001b[0;32m----> 1\u001b[0m outputdf\n",
      "\u001b[0;31mNameError\u001b[0m: name 'outputdf' is not defined"
     ]
    }
   ],
   "source": [
    "outputdf"
   ]
  },
  {
   "cell_type": "code",
   "execution_count": null,
   "id": "63977b9d",
   "metadata": {},
   "outputs": [],
   "source": [
    "outputdf.to_excel(\"outputdf.xlsx\")"
   ]
  },
  {
   "cell_type": "code",
   "execution_count": null,
   "id": "a408eb72",
   "metadata": {
    "scrolled": false
   },
   "outputs": [],
   "source": [
    "# reporting\n",
    "visualizeStructure(diagram)\n",
    "printCptTables(diagram, system)\n",
    "printUtilityTables(diagram, system)"
   ]
  },
  {
   "cell_type": "code",
   "execution_count": null,
   "id": "e352f0e0",
   "metadata": {},
   "outputs": [],
   "source": [
    "\n"
   ]
  },
  {
   "cell_type": "code",
   "execution_count": null,
   "id": "75c77d3b",
   "metadata": {},
   "outputs": [],
   "source": []
  },
  {
   "cell_type": "code",
   "execution_count": null,
   "id": "aeee8516",
   "metadata": {
    "scrolled": false
   },
   "outputs": [],
   "source": [
    "#myevidence = {\"healthSwitch\":0,\"DecisionReplaceSwitch\": 0, \"DecisionTestObserveHealthLight\":1, \"DecisionReplaceLight\":0}\n",
    "myevidence = {}\n",
    "ie = makeInferenceDiag(diagram, myevidence)\n",
    "gnb.showInference(diagram, engine=ie, evs=myevidence, size=40)\n",
    "\n",
    "\n",
    "nodesets = getNodeSets(diagram)\n",
    "\n",
    "decisionlist = nodesets[1]\n",
    "\n",
    "for decision in decisionlist:\n",
    "#    for item in ie.optimalDecision(decision).loopIn():\n",
    "#        print(item.topandas())\n",
    "    print(ie.optimalDecision(decision).topandas())\n",
    "print(ie.MEU())\n"
   ]
  },
  {
   "cell_type": "code",
   "execution_count": null,
   "id": "f644c373",
   "metadata": {},
   "outputs": [],
   "source": [
    "from itertools import permutations\n",
    "\n",
    "# Get all permutations of  \n",
    "perm = permutations([1, 2, 3, 4]) \n",
    " \n",
    "# Print the obtained permutations \n",
    "for i in list(perm): \n",
    "    print (i) "
   ]
  },
  {
   "cell_type": "code",
   "execution_count": null,
   "id": "77758102",
   "metadata": {},
   "outputs": [],
   "source": [
    "from itertools import product\n",
    "\n",
    "a = [0.0, 0.2, 0.4, 0.6, 0.8, 1.0]\n",
    "\n",
    "newlist = product(a, repeat=5)\n",
    "\n",
    "for e in newlist:\n",
    "    print(e)"
   ]
  },
  {
   "cell_type": "code",
   "execution_count": null,
   "id": "3118b1fd",
   "metadata": {},
   "outputs": [],
   "source": [
    "u = [-6, -5, -4, -3, -2, -1]\n",
    "\n",
    "\n",
    "newlista = list(product(u, repeat = 4))\n",
    "\n",
    "newlisttotal = list(product(range(0, len(newlista)), repeat = 2))\n",
    "\n",
    "for m in newlisttotal:\n",
    "    print(str(newlista[m[0]]) + str(newlista[m[1]]))\n"
   ]
  },
  {
   "cell_type": "code",
   "execution_count": null,
   "id": "9da0dba9",
   "metadata": {},
   "outputs": [],
   "source": [
    "import itertools\n",
    "\n",
    "somelists = [\n",
    "   [1, 2, 3],\n",
    "   ['a', 'b'],\n",
    "   [4, 5]\n",
    "]\n",
    "for element in itertools.product(*somelists):\n",
    "    print(element)"
   ]
  },
  {
   "cell_type": "code",
   "execution_count": null,
   "id": "1a26732e",
   "metadata": {},
   "outputs": [],
   "source": [
    "import math\n",
    "\n",
    "math.factorial(10)"
   ]
  },
  {
   "cell_type": "code",
   "execution_count": null,
   "id": "85a265d6",
   "metadata": {},
   "outputs": [],
   "source": [
    "a = [1,2,3,4,5]\n",
    "\n",
    "\n",
    "def sum(a_list):\n",
    "    print(a_list)\n",
    "    first = a_list[:1]\n",
    "    if a_list != []:\n",
    "        a_list.pop(0)\n",
    "        return first + sum(a_list)\n"
   ]
  },
  {
   "cell_type": "code",
   "execution_count": null,
   "id": "93a711a1",
   "metadata": {},
   "outputs": [],
   "source": [
    "5!"
   ]
  },
  {
   "cell_type": "code",
   "execution_count": null,
   "id": "e64f363b",
   "metadata": {},
   "outputs": [],
   "source": []
  }
 ],
 "metadata": {
  "kernelspec": {
   "display_name": "Python 3 (ipykernel)",
   "language": "python",
   "name": "python3"
  },
  "language_info": {
   "codemirror_mode": {
    "name": "ipython",
    "version": 3
   },
   "file_extension": ".py",
   "mimetype": "text/x-python",
   "name": "python",
   "nbconvert_exporter": "python",
   "pygments_lexer": "ipython3",
   "version": "3.11.5"
  }
 },
 "nbformat": 4,
 "nbformat_minor": 5
}
