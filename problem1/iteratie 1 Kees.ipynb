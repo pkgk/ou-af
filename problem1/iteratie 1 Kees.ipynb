{
 "cells": [
  {
   "cell_type": "markdown",
   "id": "92a983a2",
   "metadata": {},
   "source": [
    "# Light example: \n",
    "\n"
   ]
  },
  {
   "cell_type": "code",
   "execution_count": 17,
   "id": "ea0bda67",
   "metadata": {},
   "outputs": [],
   "source": [
    "# imports\n",
    "import os\n",
    "import matplotlib.pyplot as plt\n",
    "from pylab import *\n",
    "import pyAgrum as gum\n",
    "import pyAgrum.lib.notebook as gnb\n",
    "\n",
    "from IPython.display import display,HTML"
   ]
  },
  {
   "cell_type": "code",
   "execution_count": 33,
   "id": "382ab7d5",
   "metadata": {},
   "outputs": [],
   "source": [
    "# create influence diagram\n",
    "diag = gum.InfluenceDiagram()"
   ]
  },
  {
   "cell_type": "markdown",
   "id": "d68e0e31",
   "metadata": {},
   "source": [
    "# structure\n",
    "\n",
    "chance, test, decision and utility variables"
   ]
  },
  {
   "cell_type": "markdown",
   "id": "a1ce4be4",
   "metadata": {},
   "source": [
    "Lamp1: \n",
    "- normal behavior is light 1 is on \n",
    "\n",
    "\n",
    "HealthLamp1: \n",
    "- models if light is healthy \n",
    "- If HealthLampL1 indicates it's broken light 1 should be off. "
   ]
  },
  {
   "cell_type": "code",
   "execution_count": 34,
   "id": "79c1cf89",
   "metadata": {},
   "outputs": [],
   "source": [
    "# Lamp1 and HealthLamp1\n",
    "Lamp1 = diag.addChanceNode(gum.LabelizedVariable('Lamp1', 'Lamp 1 component', [\"on\", \"off\"]))\n",
    "HealthLamp1 = diag.addChanceNode(gum.LabelizedVariable('HealthLamp1', 'Lamp 1 health', [\"ok\", \"broken\"]))\n",
    "\n",
    "# Lamp1 is conditionally dependent on health\n",
    "diag.addArc(HealthLamp1, Lamp1)"
   ]
  },
  {
   "cell_type": "markdown",
   "id": "7cfd17a5",
   "metadata": {},
   "source": [
    "Visual Inspection: Observation\n",
    "- decision variable to determine if inspection will be performed\n",
    "- values are yes / no\n",
    "\n",
    "Observation Visual Inspection\n",
    "- models result of visual inspection\n"
   ]
  },
  {
   "cell_type": "code",
   "execution_count": 35,
   "id": "b27b83c6",
   "metadata": {},
   "outputs": [],
   "source": [
    "inspection = diag.addDecisionNode(gum.LabelizedVariable('inspection', 'visual inspection', [\"yes\", \"no\"]))\n",
    "resultinspection = diag.addChanceNode(gum.LabelizedVariable('resultinspection', 'result inspection', [\"not done\", \"ok\", \"broken\"]))"
   ]
  },
  {
   "cell_type": "code",
   "execution_count": 36,
   "id": "32ab1e76",
   "metadata": {},
   "outputs": [],
   "source": [
    "diag.addArc(HealthLamp1, resultinspection)\n",
    "diag.addArc(inspection, resultinspection)"
   ]
  },
  {
   "cell_type": "markdown",
   "id": "f932088f",
   "metadata": {},
   "source": [
    "measure\n",
    "- decision variable to determine measurement\n",
    "- values are yes / no\n",
    "\n",
    "resultmeasurement\n",
    "- chance variable resultmeasurementtest 2 result models outcome of test 2: OK, not OK\n",
    "- not done is also an option if DT2 set to no\n"
   ]
  },
  {
   "cell_type": "code",
   "execution_count": 37,
   "id": "6c06ad30",
   "metadata": {},
   "outputs": [],
   "source": [
    "measure = diag.addDecisionNode(gum.LabelizedVariable('measure', 'measurement', [\"yes\", \"no\"]))\n",
    "resultmeasurement = diag.addChanceNode(gum.LabelizedVariable('resultmeasurement', 'result measurement', [\"not done\", \"ok\", \"broken\"]))"
   ]
  },
  {
   "cell_type": "code",
   "execution_count": 38,
   "id": "675d6e3f",
   "metadata": {},
   "outputs": [],
   "source": [
    "diag.addArc(HealthLamp1, resultmeasurement)\n",
    "diag.addArc(measure, resultmeasurement)\n"
   ]
  },
  {
   "cell_type": "markdown",
   "id": "ca3aa580",
   "metadata": {},
   "source": [
    "what to test?\n",
    "- decision to determine which test to perform\n",
    "\n",
    "utilitytests\n",
    "- helps to determine the right test"
   ]
  },
  {
   "cell_type": "code",
   "execution_count": 39,
   "id": "ac3efbac",
   "metadata": {},
   "outputs": [],
   "source": [
    "whattotest = diag.addDecisionNode(gum.LabelizedVariable('whattotest', 'which test', [\"measure\", \"inspect\", \"none\"]))\n",
    "u_test = diag.addUtilityNode(gum.LabelizedVariable(\"u_test\", \"R(whattotest, HealthLamp1)\", 1))"
   ]
  },
  {
   "cell_type": "code",
   "execution_count": 40,
   "id": "de63f85c",
   "metadata": {},
   "outputs": [],
   "source": [
    "diag.addArc(HealthLamp1, u_test)\n",
    "diag.addArc(whattotest, u_test)\n",
    "diag.addArc(whattotest, inspection)\n",
    "diag.addArc(whattotest, measure)"
   ]
  },
  {
   "cell_type": "markdown",
   "id": "5660d1b4",
   "metadata": {},
   "source": [
    "replace lamp\n",
    "- when health and results of tests indicate it's necessary\n",
    "\n",
    "u_replace\n",
    "- helps to determine when to replace"
   ]
  },
  {
   "cell_type": "code",
   "execution_count": 42,
   "id": "8139c4e6",
   "metadata": {},
   "outputs": [],
   "source": [
    "replacelamp = diag.addDecisionNode(gum.LabelizedVariable('replacelamp', 'replace or not', [\"replace\", \"keep\"]))\n",
    "u_replace = diag.addUtilityNode(gum.LabelizedVariable(\"u_replace\", \"R(replacelamp, HealthLamp1)\", 1))"
   ]
  },
  {
   "cell_type": "code",
   "execution_count": 43,
   "id": "cb62b93f",
   "metadata": {},
   "outputs": [],
   "source": [
    "diag.addArc(replacelamp, u_replace)\n",
    "diag.addArc(HealthLamp1, u_replace)\n",
    "diag.addArc(resultinspection, replacelamp)\n",
    "diag.addArc(resultmeasurement, replacelamp)"
   ]
  },
  {
   "cell_type": "code",
   "execution_count": 44,
   "id": "88174711",
   "metadata": {
    "scrolled": false
   },
   "outputs": [
    {
     "name": "stdout",
     "output_type": "stream",
     "text": [
      "Influence Diagram{\n",
      "  chance: 4,\n",
      "  utility: 2,\n",
      "  decision: 4,\n",
      "  arcs: 13,\n",
      "  domainSize: 864\n",
      "}\n"
     ]
    },
    {
     "data": {
      "image/svg+xml": [
       "<svg xmlns=\"http://www.w3.org/2000/svg\" xmlns:xlink=\"http://www.w3.org/1999/xlink\" width=\"687pt\" height=\"346pt\" viewBox=\"0.00 0.00 687.28 345.73\">\n",
       "<g id=\"graph0\" class=\"graph\" transform=\"scale(1 1) rotate(0) translate(4 341.73)\">\n",
       "<title>G</title>\n",
       "<!-- Lamp1 -->\n",
       "<g id=\"node1\" class=\"node\">\n",
       "<title>Lamp1</title>\n",
       "<ellipse fill=\"#808080\" stroke=\"black\" cx=\"483.92\" cy=\"-172.04\" rx=\"44.6\" ry=\"20.51\"/>\n",
       "<text text-anchor=\"middle\" x=\"483.92\" y=\"-168.34\" font-family=\"Times,serif\" font-size=\"14.00\" fill=\"white\">Lamp1</text>\n",
       "</g>\n",
       "<!-- HealthLamp1 -->\n",
       "<g id=\"node2\" class=\"node\">\n",
       "<title>HealthLamp1</title>\n",
       "<ellipse fill=\"#808080\" stroke=\"black\" cx=\"483.92\" cy=\"-252.22\" rx=\"78.48\" ry=\"20.51\"/>\n",
       "<text text-anchor=\"middle\" x=\"483.92\" y=\"-248.52\" font-family=\"Times,serif\" font-size=\"14.00\" fill=\"white\">HealthLamp1</text>\n",
       "</g>\n",
       "<!-- HealthLamp1&#45;&gt;Lamp1 -->\n",
       "<g id=\"edge1\" class=\"edge\">\n",
       "<title>HealthLamp1-&gt;Lamp1</title>\n",
       "<path fill=\"none\" stroke=\"black\" d=\"M483.92,-231.49C483.92,-222.88 483.92,-212.59 483.92,-203.06\"/>\n",
       "<polygon fill=\"black\" stroke=\"black\" points=\"487.42,-202.76 483.92,-192.76 480.42,-202.76 487.42,-202.76\"/>\n",
       "</g>\n",
       "<!-- resultinspection -->\n",
       "<g id=\"node3\" class=\"node\">\n",
       "<title>resultinspection</title>\n",
       "<ellipse fill=\"#808080\" stroke=\"black\" cx=\"91.92\" cy=\"-172.04\" rx=\"91.85\" ry=\"20.51\"/>\n",
       "<text text-anchor=\"middle\" x=\"91.92\" y=\"-168.34\" font-family=\"Times,serif\" font-size=\"14.00\" fill=\"white\">resultinspection</text>\n",
       "</g>\n",
       "<!-- HealthLamp1&#45;&gt;resultinspection -->\n",
       "<g id=\"edge2\" class=\"edge\">\n",
       "<title>HealthLamp1-&gt;resultinspection</title>\n",
       "<path fill=\"none\" stroke=\"black\" d=\"M421.08,-239.84C362.07,-229.01 271.36,-211.99 192.92,-195.71 183.42,-193.74 173.43,-191.59 163.59,-189.43\"/>\n",
       "<polygon fill=\"black\" stroke=\"black\" points=\"164.34,-186.01 153.82,-187.27 162.82,-192.84 164.34,-186.01\"/>\n",
       "</g>\n",
       "<!-- resultmeasurement -->\n",
       "<g id=\"node4\" class=\"node\">\n",
       "<title>resultmeasurement</title>\n",
       "<ellipse fill=\"#808080\" stroke=\"black\" cx=\"311.92\" cy=\"-172.04\" rx=\"109.7\" ry=\"20.51\"/>\n",
       "<text text-anchor=\"middle\" x=\"311.92\" y=\"-168.34\" font-family=\"Times,serif\" font-size=\"14.00\" fill=\"white\">resultmeasurement</text>\n",
       "</g>\n",
       "<!-- HealthLamp1&#45;&gt;resultmeasurement -->\n",
       "<g id=\"edge3\" class=\"edge\">\n",
       "<title>HealthLamp1-&gt;resultmeasurement</title>\n",
       "<path fill=\"none\" stroke=\"black\" d=\"M446.18,-234.06C421.23,-222.72 388.28,-207.74 361.26,-195.46\"/>\n",
       "<polygon fill=\"black\" stroke=\"black\" points=\"362.53,-192.19 351.98,-191.24 359.63,-198.57 362.53,-192.19\"/>\n",
       "</g>\n",
       "<!-- u_test -->\n",
       "<g id=\"node9\" class=\"node\">\n",
       "<title>u_test</title>\n",
       "<polygon fill=\"#50508a\" stroke=\"black\" points=\"679.14,-172.04 655.53,-195.89 608.32,-195.89 584.71,-172.04 608.32,-148.18 655.53,-148.18 679.14,-172.04\"/>\n",
       "<text text-anchor=\"middle\" x=\"631.92\" y=\"-168.34\" font-family=\"Times,serif\" font-size=\"14.00\" fill=\"white\">u_test</text>\n",
       "</g>\n",
       "<!-- HealthLamp1&#45;&gt;u_test -->\n",
       "<g id=\"edge4\" class=\"edge\">\n",
       "<title>HealthLamp1-&gt;u_test</title>\n",
       "<path fill=\"none\" stroke=\"black\" stroke-dasharray=\"5,2\" d=\"M517.51,-233.48C539.79,-221.71 569.13,-206.21 592.52,-193.85\"/>\n",
       "<polygon fill=\"black\" stroke=\"black\" points=\"594.29,-196.88 601.49,-189.11 591.02,-190.69 594.29,-196.88\"/>\n",
       "</g>\n",
       "<!-- u_replace -->\n",
       "<g id=\"node10\" class=\"node\">\n",
       "<title>u_replace</title>\n",
       "<polygon fill=\"#50508a\" stroke=\"black\" points=\"501.46,-23.68 467.69,-47.54 400.15,-47.54 366.38,-23.68 400.15,0.18 467.69,0.18 501.46,-23.68\"/>\n",
       "<text text-anchor=\"middle\" x=\"433.92\" y=\"-19.98\" font-family=\"Times,serif\" font-size=\"14.00\" fill=\"white\">u_replace</text>\n",
       "</g>\n",
       "<!-- HealthLamp1&#45;&gt;u_replace -->\n",
       "<g id=\"edge5\" class=\"edge\">\n",
       "<title>HealthLamp1-&gt;u_replace</title>\n",
       "<path fill=\"none\" stroke=\"black\" stroke-dasharray=\"5,2\" d=\"M509.16,-232.79C520.22,-223.13 532,-210.29 537.92,-195.71 545.84,-176.21 545.13,-168.13 537.92,-148.36 524.4,-111.25 494.3,-77.56 469.95,-54.74\"/>\n",
       "<polygon fill=\"black\" stroke=\"black\" points=\"472.01,-51.89 462.27,-47.73 467.29,-57.06 472.01,-51.89\"/>\n",
       "</g>\n",
       "<!-- replacelamp -->\n",
       "<g id=\"node8\" class=\"node\">\n",
       "<title>replacelamp</title>\n",
       "<polygon fill=\"#9a5050\" stroke=\"black\" points=\"362.92,-112.36 260.92,-112.36 260.92,-83.36 362.92,-83.36 362.92,-112.36\"/>\n",
       "<text text-anchor=\"middle\" x=\"311.92\" y=\"-94.16\" font-family=\"Times,serif\" font-size=\"14.00\" fill=\"white\">replacelamp</text>\n",
       "</g>\n",
       "<!-- resultinspection&#45;&gt;replacelamp -->\n",
       "<g id=\"edge7\" class=\"edge\">\n",
       "<title>resultinspection-&gt;replacelamp</title>\n",
       "<polygon fill=\"black\" stroke=\"transparent\" stroke-width=\"2\" stroke-dasharray=\"1,5\" points=\"141.88,-155.7 147.29,-153.87 152.86,-152 158.58,-150.07 164.43,-148.1 170.39,-146.09 176.44,-144.05 182.57,-141.99 188.75,-139.91 194.97,-137.81 201.21,-135.71 207.45,-133.6 213.68,-131.51 219.87,-129.42 226.02,-127.35 232.09,-125.3 238.08,-123.29 243.96,-121.31 249.71,-119.37 255.33,-117.47 260.78,-115.63 260.78,-115.63 255.3,-117.39 249.65,-119.19 243.87,-121.04 237.96,-122.92 231.94,-124.84 225.83,-126.79 219.66,-128.77 213.43,-130.75 207.17,-132.75 200.9,-134.76 194.62,-136.76 188.37,-138.76 182.16,-140.74 176,-142.71 169.92,-144.65 163.93,-146.56 158.05,-148.44 152.3,-150.27 146.7,-152.06 141.26,-153.8 141.88,-155.7\"/>\n",
       "<polygon fill=\"black\" stroke=\"black\" stroke-width=\"2\" points=\"262.16,-118.87 270.58,-112.42 259.98,-112.21 262.16,-118.87\"/>\n",
       "</g>\n",
       "<!-- resultmeasurement&#45;&gt;replacelamp -->\n",
       "<g id=\"edge9\" class=\"edge\">\n",
       "<title>resultmeasurement-&gt;replacelamp</title>\n",
       "<polygon fill=\"black\" stroke=\"transparent\" stroke-width=\"2\" stroke-dasharray=\"1,5\" points=\"312.92,-151.31 312.88,-149.97 312.83,-148.6 312.78,-147.21 312.73,-145.81 312.68,-144.38 312.63,-142.95 312.58,-141.5 312.53,-140.04 312.48,-138.57 312.43,-137.1 312.38,-135.62 312.33,-134.15 312.28,-132.67 312.22,-131.2 312.17,-129.74 312.12,-128.28 312.07,-126.83 312.02,-125.39 311.97,-123.97 311.92,-122.57 311.92,-122.57 311.87,-123.97 311.83,-125.39 311.78,-126.83 311.73,-128.28 311.67,-129.74 311.62,-131.2 311.57,-132.67 311.52,-134.15 311.47,-135.62 311.42,-137.1 311.37,-138.57 311.32,-140.04 311.27,-141.5 311.21,-142.95 311.16,-144.38 311.12,-145.81 311.07,-147.21 311.02,-148.6 310.97,-149.97 310.92,-151.31 312.92,-151.31\"/>\n",
       "<polygon fill=\"black\" stroke=\"black\" stroke-width=\"2\" points=\"315.42,-122.39 311.92,-112.39 308.42,-122.39 315.42,-122.39\"/>\n",
       "</g>\n",
       "<!-- inspection -->\n",
       "<g id=\"node5\" class=\"node\">\n",
       "<title>inspection</title>\n",
       "<polygon fill=\"#9a5050\" stroke=\"black\" points=\"195.92,-266.72 107.92,-266.72 107.92,-237.72 195.92,-237.72 195.92,-266.72\"/>\n",
       "<text text-anchor=\"middle\" x=\"151.92\" y=\"-248.52\" font-family=\"Times,serif\" font-size=\"14.00\" fill=\"white\">inspection</text>\n",
       "</g>\n",
       "<!-- inspection&#45;&gt;resultinspection -->\n",
       "<g id=\"edge6\" class=\"edge\">\n",
       "<title>inspection-&gt;resultinspection</title>\n",
       "<path fill=\"none\" stroke=\"black\" d=\"M141.47,-237.6C133.6,-227.34 122.53,-212.92 112.86,-200.32\"/>\n",
       "<polygon fill=\"black\" stroke=\"black\" points=\"115.62,-198.16 106.75,-192.36 110.06,-202.42 115.62,-198.16\"/>\n",
       "</g>\n",
       "<!-- measure -->\n",
       "<g id=\"node6\" class=\"node\">\n",
       "<title>measure</title>\n",
       "<polygon fill=\"#9a5050\" stroke=\"black\" points=\"349.92,-266.72 273.92,-266.72 273.92,-237.72 349.92,-237.72 349.92,-266.72\"/>\n",
       "<text text-anchor=\"middle\" x=\"311.92\" y=\"-248.52\" font-family=\"Times,serif\" font-size=\"14.00\" fill=\"white\">measure</text>\n",
       "</g>\n",
       "<!-- measure&#45;&gt;resultmeasurement -->\n",
       "<g id=\"edge8\" class=\"edge\">\n",
       "<title>measure-&gt;resultmeasurement</title>\n",
       "<path fill=\"none\" stroke=\"black\" d=\"M311.92,-237.6C311.92,-227.99 311.92,-214.74 311.92,-202.75\"/>\n",
       "<polygon fill=\"black\" stroke=\"black\" points=\"315.42,-202.65 311.92,-192.65 308.42,-202.65 315.42,-202.65\"/>\n",
       "</g>\n",
       "<!-- whattotest -->\n",
       "<g id=\"node7\" class=\"node\">\n",
       "<title>whattotest</title>\n",
       "<polygon fill=\"#9a5050\" stroke=\"black\" points=\"357.92,-337.73 265.92,-337.73 265.92,-308.73 357.92,-308.73 357.92,-337.73\"/>\n",
       "<text text-anchor=\"middle\" x=\"311.92\" y=\"-319.53\" font-family=\"Times,serif\" font-size=\"14.00\" fill=\"white\">whattotest</text>\n",
       "</g>\n",
       "<!-- whattotest&#45;&gt;inspection -->\n",
       "<g id=\"edge10\" class=\"edge\">\n",
       "<title>whattotest-&gt;inspection</title>\n",
       "<polygon fill=\"black\" stroke=\"transparent\" stroke-width=\"2\" stroke-dasharray=\"1,5\" points=\"280.71,-307.67 276.85,-306.06 272.86,-304.39 268.74,-302.66 264.51,-300.89 260.17,-299.07 255.76,-297.22 251.27,-295.34 246.73,-293.44 242.14,-291.52 237.52,-289.58 232.89,-287.64 228.26,-285.7 223.63,-283.76 219.03,-281.84 214.47,-279.93 209.96,-278.04 205.52,-276.18 201.16,-274.35 196.89,-272.56 192.73,-270.82 192.73,-270.82 196.86,-272.65 201.09,-274.53 205.41,-276.44 209.81,-278.4 214.28,-280.38 218.8,-282.39 223.35,-284.41 227.94,-286.44 232.53,-288.48 237.12,-290.52 241.7,-292.55 246.24,-294.57 250.75,-296.56 255.19,-298.54 259.57,-300.48 263.86,-302.38 268.05,-304.25 272.14,-306.06 276.1,-307.82 279.92,-309.51 280.71,-307.67\"/>\n",
       "<polygon fill=\"black\" stroke=\"black\" stroke-width=\"2\" points=\"194.04,-267.57 183.47,-266.82 191.27,-274 194.04,-267.57\"/>\n",
       "</g>\n",
       "<!-- whattotest&#45;&gt;measure -->\n",
       "<g id=\"edge11\" class=\"edge\">\n",
       "<title>whattotest-&gt;measure</title>\n",
       "<polygon fill=\"black\" stroke=\"transparent\" stroke-width=\"2\" stroke-dasharray=\"1,5\" points=\"312.92,-308.59 312.88,-307.22 312.84,-305.81 312.79,-304.36 312.74,-302.88 312.69,-301.36 312.65,-299.82 312.6,-298.25 312.55,-296.66 312.49,-295.05 312.44,-293.42 312.39,-291.78 312.34,-290.14 312.29,-288.49 312.23,-286.84 312.18,-285.19 312.13,-283.54 312.08,-281.91 312.03,-280.28 311.97,-278.67 311.92,-277.08 311.92,-277.08 311.87,-278.67 311.82,-280.28 311.77,-281.91 311.72,-283.54 311.67,-285.19 311.61,-286.84 311.56,-288.49 311.51,-290.14 311.46,-291.78 311.41,-293.42 311.35,-295.05 311.3,-296.66 311.25,-298.25 311.2,-299.82 311.15,-301.36 311.11,-302.88 311.06,-304.36 311.01,-305.81 310.97,-307.22 310.92,-308.59 312.92,-308.59\"/>\n",
       "<polygon fill=\"black\" stroke=\"black\" stroke-width=\"2\" points=\"315.42,-276.82 311.92,-266.82 308.42,-276.82 315.42,-276.82\"/>\n",
       "</g>\n",
       "<!-- whattotest&#45;&gt;u_test -->\n",
       "<g id=\"edge12\" class=\"edge\">\n",
       "<title>whattotest-&gt;u_test</title>\n",
       "<path fill=\"none\" stroke=\"black\" stroke-dasharray=\"5,2\" d=\"M358.16,-317.9C423.08,-311.08 537.09,-296.14 570.92,-272.73 594.47,-256.43 610.59,-227.81 620.32,-205.4\"/>\n",
       "<polygon fill=\"black\" stroke=\"black\" points=\"623.65,-206.5 624.22,-195.92 617.18,-203.84 623.65,-206.5\"/>\n",
       "</g>\n",
       "<!-- replacelamp&#45;&gt;u_replace -->\n",
       "<g id=\"edge13\" class=\"edge\">\n",
       "<title>replacelamp-&gt;u_replace</title>\n",
       "<path fill=\"none\" stroke=\"black\" stroke-dasharray=\"5,2\" d=\"M334.87,-83.28C350.06,-74.3 370.48,-62.21 388.84,-51.35\"/>\n",
       "<polygon fill=\"black\" stroke=\"black\" points=\"390.83,-54.24 397.65,-46.14 387.26,-48.22 390.83,-54.24\"/>\n",
       "</g>\n",
       "</g>\n",
       "</svg>"
      ],
      "text/plain": [
       "<IPython.core.display.SVG object>"
      ]
     },
     "metadata": {},
     "output_type": "display_data"
    }
   ],
   "source": [
    "print(diag)\n",
    "gnb.showInfluenceDiagram(diag, size=60)"
   ]
  },
  {
   "cell_type": "markdown",
   "id": "8d48679f",
   "metadata": {},
   "source": [
    "opmerkingen:\n",
    "\n",
    "vervangingsbesluit:\n",
    "- Input voor vervangingsbesluit lijken mij de resultaten, in je plaatje is replacelamp verbonden met het testbesluit\n",
    "- In literatuur van TNO is de stelling dat als de health minder dan 0.5 zou worden er sprake moet zijn van vervanging. Als we dit overnemen is alleen connectie met health nodig. Health wordt dan wel ook beinvloed door resultaten van de meting en inspectie.\n",
    "\n",
    "2 typen observaties\n",
    "- De visuele inspectie is een observatie met uitkomst of de lamp stuk is of niet. Het lijkt mij dan logisch dat hij verbonden is met Health. Er zullen ook observaties zijn die checken wat de status van het systeem is en dan is verbinding met de component zelf volgens mij logischer. Voorbeeld is dat je bij constateren dat lamp het niet doet de status van de switch wil weten zonder nu meteen te testen of de switch kapot is.\n",
    "\n",
    "besluiten\n",
    "- als whattotest het besluit neemt wat er getest moet worden waarom dan nog aparte besluiten modelleren voor de inspectie en measurement test?"
   ]
  },
  {
   "cell_type": "markdown",
   "id": "2cf5c0cc",
   "metadata": {},
   "source": [
    "# probabilities"
   ]
  },
  {
   "cell_type": "code",
   "execution_count": 45,
   "id": "361b1639",
   "metadata": {},
   "outputs": [
    {
     "data": {
      "text/html": [
       "\n",
       "      <style>\n",
       "      .floating-box {\n",
       "      display: inline-block;\n",
       "      margin: 7px;\n",
       "      padding : 3px;\n",
       "      border: 0px solid transparent;  \n",
       "      valign:middle;\n",
       "      background-color: transparent;\n",
       "      }\n",
       "      </style>\n",
       "      <div class=\"floating-box\"><table style=\"border:1px solid black;\">\n",
       "<tr><th colspan='1'></th>\n",
       "      <th colspan='2' style='border:1px solid black;color:black;background-color:#808080;'><center>Lamp1</center>\n",
       "      </th></tr>\n",
       "<tr><th style='border:1px solid black;color:black;background-color:#808080'><center>HealthLamp1</center></th><th style='border:1px solid black;border-bottom-style: double;color:black;background-color:#BBBBBB'>\n",
       "      <center>on</center></th><th style='border:1px solid black;border-bottom-style: double;color:black;background-color:#BBBBBB'>\n",
       "      <center>off</center></th></tr>\n",
       "<tr><th style='border:1px solid black;color:black;background-color:#BBBBBB'><center>ok</center></th><td style='text-align:right;'>0.0000</td><td style='text-align:right;'>0.0000</td></tr>\n",
       "<tr><th style='border:1px solid black;color:black;background-color:#BBBBBB'><center>broken</center></th><td style='text-align:right;'>0.0000</td><td style='text-align:right;'>0.0000</td></tr>\n",
       "</table><br><center><small><em>prior of lamp1</em></small></center></div><div class=\"floating-box\"><table style=\"border:1px solid black;\">\n",
       "<tr style='border:1px solid black;color:black;background-color:#808080'>\n",
       "      <th colspan='2'><center>HealthLamp1</center></th></tr>\n",
       "<tr><th style='border:1px solid black;border-bottom-style: double;color:black;background-color:#BBBBBB'>\n",
       "      <center>ok</center></th><th style='border:1px solid black;border-bottom-style: double;color:black;background-color:#BBBBBB'>\n",
       "      <center>broken</center></th></tr>\n",
       "<tr><td style='text-align:right;'>0.0000</td><td style='text-align:right;'>0.0000</td></tr>\n",
       "</table><br><center><small><em>prior of HealthLamp1</em></small></center></div><div class=\"floating-box\"><table style=\"border:1px solid black;\">\n",
       "<tr><th colspan='2'></th>\n",
       "      <th colspan='3' style='border:1px solid black;color:black;background-color:#808080;'><center>resultinspection</center>\n",
       "      </th></tr>\n",
       "<tr><th style='border:1px solid black;color:black;background-color:#808080'><center>inspection</center></th><th style='border:1px solid black;color:black;background-color:#808080'><center>HealthLamp1</center></th><th style='border:1px solid black;border-bottom-style: double;color:black;background-color:#BBBBBB'>\n",
       "      <center>not done</center></th><th style='border:1px solid black;border-bottom-style: double;color:black;background-color:#BBBBBB'>\n",
       "      <center>ok</center></th><th style='border:1px solid black;border-bottom-style: double;color:black;background-color:#BBBBBB'>\n",
       "      <center>broken</center></th></tr>\n",
       "<tr><th style='border:1px solid black;color:black;background-color:#BBBBBB;' rowspan = '2'>\n",
       "            <center>yes</center></th><th style='border:1px solid black;color:black;background-color:#BBBBBB'><center>ok</center></th><td style='text-align:right;'>0.0000</td><td style='text-align:right;'>0.0000</td><td style='text-align:right;'>0.0000</td></tr>\n",
       "<tr><th style='border:1px solid black;color:black;background-color:#BBBBBB'><center>broken</center></th><td style='text-align:right;'>0.0000</td><td style='text-align:right;'>0.0000</td><td style='text-align:right;'>0.0000</td></tr>\n",
       "<tr><th style='border:1px solid black;color:black;background-color:#BBBBBB;' rowspan = '2'>\n",
       "            <center>no</center></th><th style='border:1px solid black;color:black;background-color:#BBBBBB'><center>ok</center></th><td style='text-align:right;'>0.0000</td><td style='text-align:right;'>0.0000</td><td style='text-align:right;'>0.0000</td></tr>\n",
       "<tr><th style='border:1px solid black;color:black;background-color:#BBBBBB'><center>broken</center></th><td style='text-align:right;'>0.0000</td><td style='text-align:right;'>0.0000</td><td style='text-align:right;'>0.0000</td></tr>\n",
       "</table><br><center><small><em>prior of Resultmeasurement</em></small></center></div><div class=\"floating-box\"><table style=\"border:1px solid black;\">\n",
       "<tr><th colspan='2'></th>\n",
       "      <th colspan='3' style='border:1px solid black;color:black;background-color:#808080;'><center>resultmeasurement</center>\n",
       "      </th></tr>\n",
       "<tr><th style='border:1px solid black;color:black;background-color:#808080'><center>measure</center></th><th style='border:1px solid black;color:black;background-color:#808080'><center>HealthLamp1</center></th><th style='border:1px solid black;border-bottom-style: double;color:black;background-color:#BBBBBB'>\n",
       "      <center>not done</center></th><th style='border:1px solid black;border-bottom-style: double;color:black;background-color:#BBBBBB'>\n",
       "      <center>ok</center></th><th style='border:1px solid black;border-bottom-style: double;color:black;background-color:#BBBBBB'>\n",
       "      <center>broken</center></th></tr>\n",
       "<tr><th style='border:1px solid black;color:black;background-color:#BBBBBB;' rowspan = '2'>\n",
       "            <center>yes</center></th><th style='border:1px solid black;color:black;background-color:#BBBBBB'><center>ok</center></th><td style='text-align:right;'>0.0000</td><td style='text-align:right;'>0.0000</td><td style='text-align:right;'>0.0000</td></tr>\n",
       "<tr><th style='border:1px solid black;color:black;background-color:#BBBBBB'><center>broken</center></th><td style='text-align:right;'>0.0000</td><td style='text-align:right;'>0.0000</td><td style='text-align:right;'>0.0000</td></tr>\n",
       "<tr><th style='border:1px solid black;color:black;background-color:#BBBBBB;' rowspan = '2'>\n",
       "            <center>no</center></th><th style='border:1px solid black;color:black;background-color:#BBBBBB'><center>ok</center></th><td style='text-align:right;'>0.0000</td><td style='text-align:right;'>0.0000</td><td style='text-align:right;'>0.0000</td></tr>\n",
       "<tr><th style='border:1px solid black;color:black;background-color:#BBBBBB'><center>broken</center></th><td style='text-align:right;'>0.0000</td><td style='text-align:right;'>0.0000</td><td style='text-align:right;'>0.0000</td></tr>\n",
       "</table><br><center><small><em>prior of Resultinspection</em></small></center></div>"
      ],
      "text/plain": [
       "<IPython.core.display.HTML object>"
      ]
     },
     "metadata": {},
     "output_type": "display_data"
    }
   ],
   "source": [
    "# CPT tabllen om te vullen\n",
    "gnb.flow.row(diag.cpt(Lamp1),\n",
    "            diag.cpt(HealthLamp1),\n",
    "            diag.cpt(resultinspection),\n",
    "            diag.cpt(resultmeasurement),\n",
    "            captions=[  \"prior of lamp1\",\n",
    "                        \"prior of HealthLamp1\",\n",
    "                        \"prior of Resultmeasurement\",\n",
    "                        \"prior of Resultinspection\"\n",
    "                      ])"
   ]
  },
  {
   "cell_type": "code",
   "execution_count": 49,
   "id": "4751bef1",
   "metadata": {},
   "outputs": [],
   "source": [
    "# HealthLamp1\n",
    "diag.cpt(HealthLamp1)[{\"HealthLamp1\":\"ok\"}]          = 0.95  \n",
    "diag.cpt(HealthLamp1)[{\"HealthLamp1\":\"broken\"}]      = 0.05  "
   ]
  },
  {
   "cell_type": "code",
   "execution_count": 50,
   "id": "123b6253",
   "metadata": {},
   "outputs": [
    {
     "data": {
      "text/html": [
       "\n",
       "      <style>\n",
       "      .floating-box {\n",
       "      display: inline-block;\n",
       "      margin: 7px;\n",
       "      padding : 3px;\n",
       "      border: 0px solid transparent;  \n",
       "      valign:middle;\n",
       "      background-color: transparent;\n",
       "      }\n",
       "      </style>\n",
       "      <div class=\"floating-box\"><table style=\"border:1px solid black;\">\n",
       "<tr><th colspan='1'></th>\n",
       "      <th colspan='2' style='border:1px solid black;color:black;background-color:#808080;'><center>Lamp1</center>\n",
       "      </th></tr>\n",
       "<tr><th style='border:1px solid black;color:black;background-color:#808080'><center>HealthLamp1</center></th><th style='border:1px solid black;border-bottom-style: double;color:black;background-color:#BBBBBB'>\n",
       "      <center>on</center></th><th style='border:1px solid black;border-bottom-style: double;color:black;background-color:#BBBBBB'>\n",
       "      <center>off</center></th></tr>\n",
       "<tr><th style='border:1px solid black;color:black;background-color:#BBBBBB'><center>ok</center></th><td style='text-align:right;'>0.0000</td><td style='text-align:right;'>0.0000</td></tr>\n",
       "<tr><th style='border:1px solid black;color:black;background-color:#BBBBBB'><center>broken</center></th><td style='text-align:right;'>0.0000</td><td style='text-align:right;'>0.0000</td></tr>\n",
       "</table><br><center><small><em>prior of lamp1</em></small></center></div><div class=\"floating-box\"><table style=\"border:1px solid black;\">\n",
       "<tr style='border:1px solid black;color:black;background-color:#808080'>\n",
       "      <th colspan='2'><center>HealthLamp1</center></th></tr>\n",
       "<tr><th style='border:1px solid black;border-bottom-style: double;color:black;background-color:#BBBBBB'>\n",
       "      <center>ok</center></th><th style='border:1px solid black;border-bottom-style: double;color:black;background-color:#BBBBBB'>\n",
       "      <center>broken</center></th></tr>\n",
       "<tr><td style='color:black;background-color:#85f864;text-align:right;'>0.9500</td><td style='color:black;background-color:#f88564;text-align:right;'>0.0500</td></tr>\n",
       "</table><br><center><small><em>prior of HealthLamp1</em></small></center></div><div class=\"floating-box\"><table style=\"border:1px solid black;\">\n",
       "<tr><th colspan='2'></th>\n",
       "      <th colspan='3' style='border:1px solid black;color:black;background-color:#808080;'><center>resultinspection</center>\n",
       "      </th></tr>\n",
       "<tr><th style='border:1px solid black;color:black;background-color:#808080'><center>inspection</center></th><th style='border:1px solid black;color:black;background-color:#808080'><center>HealthLamp1</center></th><th style='border:1px solid black;border-bottom-style: double;color:black;background-color:#BBBBBB'>\n",
       "      <center>not done</center></th><th style='border:1px solid black;border-bottom-style: double;color:black;background-color:#BBBBBB'>\n",
       "      <center>ok</center></th><th style='border:1px solid black;border-bottom-style: double;color:black;background-color:#BBBBBB'>\n",
       "      <center>broken</center></th></tr>\n",
       "<tr><th style='border:1px solid black;color:black;background-color:#BBBBBB;' rowspan = '2'>\n",
       "            <center>yes</center></th><th style='border:1px solid black;color:black;background-color:#BBBBBB'><center>ok</center></th><td style='text-align:right;'>0.0000</td><td style='text-align:right;'>0.0000</td><td style='text-align:right;'>0.0000</td></tr>\n",
       "<tr><th style='border:1px solid black;color:black;background-color:#BBBBBB'><center>broken</center></th><td style='text-align:right;'>0.0000</td><td style='text-align:right;'>0.0000</td><td style='text-align:right;'>0.0000</td></tr>\n",
       "<tr><th style='border:1px solid black;color:black;background-color:#BBBBBB;' rowspan = '2'>\n",
       "            <center>no</center></th><th style='border:1px solid black;color:black;background-color:#BBBBBB'><center>ok</center></th><td style='text-align:right;'>0.0000</td><td style='text-align:right;'>0.0000</td><td style='text-align:right;'>0.0000</td></tr>\n",
       "<tr><th style='border:1px solid black;color:black;background-color:#BBBBBB'><center>broken</center></th><td style='text-align:right;'>0.0000</td><td style='text-align:right;'>0.0000</td><td style='text-align:right;'>0.0000</td></tr>\n",
       "</table><br><center><small><em>prior of Resultmeasurement</em></small></center></div><div class=\"floating-box\"><table style=\"border:1px solid black;\">\n",
       "<tr><th colspan='2'></th>\n",
       "      <th colspan='3' style='border:1px solid black;color:black;background-color:#808080;'><center>resultmeasurement</center>\n",
       "      </th></tr>\n",
       "<tr><th style='border:1px solid black;color:black;background-color:#808080'><center>measure</center></th><th style='border:1px solid black;color:black;background-color:#808080'><center>HealthLamp1</center></th><th style='border:1px solid black;border-bottom-style: double;color:black;background-color:#BBBBBB'>\n",
       "      <center>not done</center></th><th style='border:1px solid black;border-bottom-style: double;color:black;background-color:#BBBBBB'>\n",
       "      <center>ok</center></th><th style='border:1px solid black;border-bottom-style: double;color:black;background-color:#BBBBBB'>\n",
       "      <center>broken</center></th></tr>\n",
       "<tr><th style='border:1px solid black;color:black;background-color:#BBBBBB;' rowspan = '2'>\n",
       "            <center>yes</center></th><th style='border:1px solid black;color:black;background-color:#BBBBBB'><center>ok</center></th><td style='text-align:right;'>0.0000</td><td style='text-align:right;'>0.0000</td><td style='text-align:right;'>0.0000</td></tr>\n",
       "<tr><th style='border:1px solid black;color:black;background-color:#BBBBBB'><center>broken</center></th><td style='text-align:right;'>0.0000</td><td style='text-align:right;'>0.0000</td><td style='text-align:right;'>0.0000</td></tr>\n",
       "<tr><th style='border:1px solid black;color:black;background-color:#BBBBBB;' rowspan = '2'>\n",
       "            <center>no</center></th><th style='border:1px solid black;color:black;background-color:#BBBBBB'><center>ok</center></th><td style='text-align:right;'>0.0000</td><td style='text-align:right;'>0.0000</td><td style='text-align:right;'>0.0000</td></tr>\n",
       "<tr><th style='border:1px solid black;color:black;background-color:#BBBBBB'><center>broken</center></th><td style='text-align:right;'>0.0000</td><td style='text-align:right;'>0.0000</td><td style='text-align:right;'>0.0000</td></tr>\n",
       "</table><br><center><small><em>prior of Resultinspection</em></small></center></div>"
      ],
      "text/plain": [
       "<IPython.core.display.HTML object>"
      ]
     },
     "metadata": {},
     "output_type": "display_data"
    }
   ],
   "source": [
    "# CPT tabllen om te vullen\n",
    "gnb.flow.row(diag.cpt(Lamp1),\n",
    "            diag.cpt(HealthLamp1),\n",
    "            diag.cpt(resultinspection),\n",
    "            diag.cpt(resultmeasurement),\n",
    "            captions=[  \"prior of lamp1\",\n",
    "                        \"prior of HealthLamp1\",\n",
    "                        \"prior of Resultmeasurement\",\n",
    "                        \"prior of Resultinspection\"\n",
    "                      ])"
   ]
  },
  {
   "cell_type": "markdown",
   "id": "4d2ba402",
   "metadata": {},
   "source": [
    "# utility function"
   ]
  },
  {
   "cell_type": "code",
   "execution_count": 53,
   "id": "618fda76",
   "metadata": {},
   "outputs": [],
   "source": [
    "diag.utility(\"u_test\")[{\"whattotest\": \"measure\",\"HealthLamp1\":\"ok\"}]            = 1 \n",
    "diag.utility(\"u_test\")[{\"whattotest\": \"measure\",\"HealthLamp1\":\"broken\" }]       = 2\n",
    "diag.utility(\"u_test\")[{\"whattotest\": \"inspect\",\"HealthLamp1\":\"ok\"}]            = 3\n",
    "diag.utility(\"u_test\")[{\"whattotest\": \"inspect\",\"HealthLamp1\":\"broken\"}]        = 4\n",
    "diag.utility(\"u_test\")[{\"whattotest\": \"none\",\"HealthLamp1\":\"ok\"}]               = 5\n",
    "diag.utility(\"u_test\")[{\"whattotest\": \"none\",\"HealthLamp1\":\"broken\"}]          = 6\n",
    "\n"
   ]
  },
  {
   "cell_type": "code",
   "execution_count": 54,
   "id": "7f2bd970",
   "metadata": {},
   "outputs": [
    {
     "data": {
      "text/html": [
       "\n",
       "      <style>\n",
       "      .floating-box {\n",
       "      display: inline-block;\n",
       "      margin: 7px;\n",
       "      padding : 3px;\n",
       "      border: 0px solid transparent;  \n",
       "      valign:middle;\n",
       "      background-color: transparent;\n",
       "      }\n",
       "      </style>\n",
       "      <div class=\"floating-box\"><table style=\"border:1px solid black;\">\n",
       "<tr><th colspan='2'></th>\n",
       "      <th colspan='1' style='border:1px solid black;color:black;background-color:#808080;'><center>u_test</center>\n",
       "      </th></tr>\n",
       "<tr><th style='border:1px solid black;color:black;background-color:#808080'><center>whattotest</center></th><th style='border:1px solid black;color:black;background-color:#808080'><center>HealthLamp1</center></th><th style='border:1px solid black;border-bottom-style: double;color:black;background-color:#BBBBBB'>\n",
       "      <center>0</center></th></tr>\n",
       "<tr><th style='border:1px solid black;color:black;background-color:#BBBBBB;' rowspan = '2'>\n",
       "            <center>measure</center></th><th style='border:1px solid black;color:black;background-color:#BBBBBB'><center>ok</center></th><td style='text-align:right;'>1.0000</td></tr>\n",
       "<tr><th style='border:1px solid black;color:black;background-color:#BBBBBB'><center>broken</center></th><td style='text-align:right;'>2.0000</td></tr>\n",
       "<tr><th style='border:1px solid black;color:black;background-color:#BBBBBB;' rowspan = '2'>\n",
       "            <center>inspect</center></th><th style='border:1px solid black;color:black;background-color:#BBBBBB'><center>ok</center></th><td style='text-align:right;'>3.0000</td></tr>\n",
       "<tr><th style='border:1px solid black;color:black;background-color:#BBBBBB'><center>broken</center></th><td style='text-align:right;'>4.0000</td></tr>\n",
       "<tr><th style='border:1px solid black;color:black;background-color:#BBBBBB;' rowspan = '2'>\n",
       "            <center>none</center></th><th style='border:1px solid black;color:black;background-color:#BBBBBB'><center>ok</center></th><td style='text-align:right;'>5.0000</td></tr>\n",
       "<tr><th style='border:1px solid black;color:black;background-color:#BBBBBB'><center>broken</center></th><td style='text-align:right;'>6.0000</td></tr>\n",
       "</table><br><center><small><em>utility test</em></small></center></div><div class=\"floating-box\"><table style=\"border:1px solid black;\">\n",
       "<tr><th colspan='2'></th>\n",
       "      <th colspan='1' style='border:1px solid black;color:black;background-color:#808080;'><center>u_replace</center>\n",
       "      </th></tr>\n",
       "<tr><th style='border:1px solid black;color:black;background-color:#808080'><center>HealthLamp1</center></th><th style='border:1px solid black;color:black;background-color:#808080'><center>replacelamp</center></th><th style='border:1px solid black;border-bottom-style: double;color:black;background-color:#BBBBBB'>\n",
       "      <center>0</center></th></tr>\n",
       "<tr><th style='border:1px solid black;color:black;background-color:#BBBBBB;' rowspan = '2'>\n",
       "            <center>ok</center></th><th style='border:1px solid black;color:black;background-color:#BBBBBB'><center>replace</center></th><td style='text-align:right;'>0.0000</td></tr>\n",
       "<tr><th style='border:1px solid black;color:black;background-color:#BBBBBB'><center>keep</center></th><td style='text-align:right;'>0.0000</td></tr>\n",
       "<tr><th style='border:1px solid black;color:black;background-color:#BBBBBB;' rowspan = '2'>\n",
       "            <center>broken</center></th><th style='border:1px solid black;color:black;background-color:#BBBBBB'><center>replace</center></th><td style='text-align:right;'>0.0000</td></tr>\n",
       "<tr><th style='border:1px solid black;color:black;background-color:#BBBBBB'><center>keep</center></th><td style='text-align:right;'>0.0000</td></tr>\n",
       "</table><br><center><small><em>utility replace</em></small></center></div>"
      ],
      "text/plain": [
       "<IPython.core.display.HTML object>"
      ]
     },
     "metadata": {},
     "output_type": "display_data"
    }
   ],
   "source": [
    "gnb.flow.row(diag.utility(\"u_test\"),\n",
    "            diag.utility(\"u_replace\"),\n",
    "           \n",
    "            captions=[  \"utility test\",\n",
    "                        \"utility replace\"\n",
    "                      ])"
   ]
  },
  {
   "cell_type": "code",
   "execution_count": null,
   "id": "5559a653",
   "metadata": {},
   "outputs": [],
   "source": [
    "diag.saveBIFXML(\"iteratie1.xml\")"
   ]
  },
  {
   "cell_type": "code",
   "execution_count": null,
   "id": "7f018c8f",
   "metadata": {},
   "outputs": [],
   "source": []
  },
  {
   "cell_type": "code",
   "execution_count": null,
   "id": "a6830a2f",
   "metadata": {},
   "outputs": [],
   "source": []
  },
  {
   "cell_type": "code",
   "execution_count": null,
   "id": "2e7461e4",
   "metadata": {},
   "outputs": [],
   "source": []
  },
  {
   "cell_type": "code",
   "execution_count": null,
   "id": "153d2b64",
   "metadata": {},
   "outputs": [],
   "source": []
  },
  {
   "cell_type": "code",
   "execution_count": null,
   "id": "051ade5c",
   "metadata": {},
   "outputs": [],
   "source": []
  }
 ],
 "metadata": {
  "kernelspec": {
   "display_name": "Python 3 (ipykernel)",
   "language": "python",
   "name": "python3"
  },
  "language_info": {
   "codemirror_mode": {
    "name": "ipython",
    "version": 3
   },
   "file_extension": ".py",
   "mimetype": "text/x-python",
   "name": "python",
   "nbconvert_exporter": "python",
   "pygments_lexer": "ipython3",
   "version": "3.11.3"
  }
 },
 "nbformat": 4,
 "nbformat_minor": 5
}
