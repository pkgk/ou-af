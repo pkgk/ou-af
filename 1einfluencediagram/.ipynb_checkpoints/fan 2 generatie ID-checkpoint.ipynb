{
 "cells": [
  {
   "cell_type": "markdown",
   "id": "b770cd4e",
   "metadata": {},
   "source": [
    "## creeren van een fan\n",
    "obv de gegeven code een \"fan\" object maken"
   ]
  },
  {
   "cell_type": "code",
   "execution_count": 1,
   "id": "3f4ea341",
   "metadata": {},
   "outputs": [
    {
     "name": "stdout",
     "output_type": "stream",
     "text": [
      "setting normal for Fan.Motor\n",
      "setting normal for Fan.Blades\n",
      "setting normal for axle connecting Motor.shaft ---> Blades.shaft\n"
     ]
    }
   ],
   "source": [
    "from concepts import Component, Assembly, Composite, SYSTEMType, InputStates, ELSE, ALWAYS, SYSTEM\n",
    "from components import DrivingShaft, AirOutlet, Axle, InputPlug, DrivenShaft\n",
    "from typing import Union\n",
    "\n",
    "class Motor(Component):\n",
    "    def __init__(self, parent, name:str):\n",
    "        super().__init__(parent, name)\n",
    "        self.signal = InputPlug(self, \"power\")\n",
    "        self.shaft = DrivingShaft(self, \"shaft\")\n",
    "\n",
    "        self.setNormal([([self.signal.present.YES] , [self.shaft.moving.YES]),\n",
    "                        (ELSE                      , [self.shaft.moving.NO])])\n",
    "\n",
    "        self.addFailure(\"broken\", 0.005, [(ALWAYS, [self.shaft.moving.NO])])\n",
    "\n",
    "class Blades(Component):\n",
    "    def __init__(self, parent, name):\n",
    "        super().__init__(parent, name)\n",
    "\n",
    "        self.shaft = DrivenShaft(self, \"shaft\")\n",
    "        self.air = AirOutlet(self, \"air outlet\")\n",
    "\n",
    "        self.setNormal([([self.shaft.moving.YES] , [self.air.present.YES]),\n",
    "                        (ELSE                    , [self.air.present.NO])])\n",
    "\n",
    "        self.addFailure(\"broken\", 0.002, [(ALWAYS, [self.air.present.NO])])\n",
    "\n",
    "class Fan(Assembly):\n",
    "    def __init__(self, parent, name):\n",
    "        super().__init__(parent, name)\n",
    "        \n",
    "        self.motor = Motor(self, \"Motor\")\n",
    "        self.blades = Blades(self, \"Blades\")\n",
    "\n",
    "        self.c1 = self.addConnection(Axle(self.motor.shaft, self.blades.shaft))\n",
    "\n",
    "\n",
    "# constructie\n",
    "fan = Fan(SYSTEM, \"Fan\")\n"
   ]
  },
  {
   "cell_type": "markdown",
   "id": "7247ea74",
   "metadata": {},
   "source": [
    "## deconstructie\n",
    "om een mapping naar een diagram te maken moet de fan ook weer uit elkaar"
   ]
  },
  {
   "cell_type": "code",
   "execution_count": 2,
   "id": "f0afc36e",
   "metadata": {},
   "outputs": [
    {
     "name": "stdout",
     "output_type": "stream",
     "text": [
      "failures of Motor:\n",
      "broken\n",
      "[([], [<Moving.NO: 2>])]\n",
      "0.005\n"
     ]
    }
   ],
   "source": [
    "import copy\n",
    "\n",
    "# methoden in de TNO code voor deconstructie:\n",
    "# getModules(), getAssemblies(), getComponents(),getCapabilities(), getConnectors(), getInputs(), getOutputs(), getConnections()\n",
    "\n",
    "fancomponents = fan.getComponents()\n",
    "for e in fancomponents:\n",
    "    if isinstance(e, Motor): motor = copy.copy(e)\n",
    "    if isinstance(e, Blades): blades = copy.copy(e)\n",
    "\n",
    "fanconnections = fan.getConnections()\n",
    "for c in fanconnections:\n",
    "        axle = copy.copy(c)\n",
    "\n",
    "inputs = motor.getInputs()\n",
    "for i in inputs:\n",
    "    if isinstance(i, InputPlug): \n",
    "        power = copy.copy(i)\n",
    "\n",
    "\n",
    "# ook de failure situaties zijn opgenomen in de objecten\n",
    "print(\"failures of Motor:\")\n",
    "flist = motor.failures\n",
    "for f in flist:\n",
    "    print(f.name)\n",
    "    print(f.relation)\n",
    "    print(f.prior)\n"
   ]
  },
  {
   "cell_type": "markdown",
   "id": "6a1f4694",
   "metadata": {},
   "source": [
    "## Bayesgen.py\n",
    "in de TNO software worden de volgende stappen gezet:\n",
    "\n",
    "\n",
    "    # First generate all modules, then all connections. This ensures that the connection endpoints exist at connection creation time.\n",
    "    generateModules(module, network, componentNodes, connectorNodes)\n",
    "    generateConnections(module, network, componentNodes, connectorNodes, connectionNodes, cableTreeNodes)\n",
    "    generateHealthLinks(module, network, componentNodes, connectorNodes, connectionNodes)"
   ]
  },
  {
   "cell_type": "markdown",
   "id": "ddc464f3",
   "metadata": {},
   "source": [
    "## influence diagram opbouwen: structuur\n",
    "bij elke component verkregen uit de decompositie wordt een \"health\" node set toegevoegd"
   ]
  },
  {
   "cell_type": "code",
   "execution_count": 3,
   "id": "541df626",
   "metadata": {},
   "outputs": [],
   "source": [
    "# imports\n",
    "import os\n",
    "import matplotlib.pyplot as plt\n",
    "from pylab import *\n",
    "import pyAgrum as gum\n",
    "import pyAgrum.lib.notebook as gnb\n",
    "\n",
    "from IPython.display import display,HTML"
   ]
  },
  {
   "cell_type": "code",
   "execution_count": 4,
   "id": "21d5b149",
   "metadata": {},
   "outputs": [],
   "source": [
    "# methode om bij gegeven component een standaard health, test, replace set toe te voegen\n",
    "def addHealthTestReplaceToComponent(diagram, node):\n",
    "    ids = []\n",
    "    label = diagram.variable(node).description()\n",
    "    H=diagram.addChanceNode(gum.LabelizedVariable('H' + label,'Health',[\"ok\",\"broken\"])) \n",
    "    T=diagram.addChanceNode(gum.LabelizedVariable('T'+label, 'Testoutcome', [\"notdone\", \"positive\", \"negative\"])) \n",
    "    DR=diagram.addDecisionNode(gum.LabelizedVariable('DR'+label, 'Replace', [\"yes\", \"no\"]))\n",
    "    DT=diagram.addDecisionNode(gum.LabelizedVariable('DT'+label,'Test',[\"yes\",\"no\"])) \n",
    "    UR=diagram.addUtilityNode(gum.LabelizedVariable('UR'+label, 'Ureplace', [\"U\\(H, DR\\)\"]))\n",
    "    UT=diagram.addUtilityNode(gum.LabelizedVariable('UT'+label, 'Utest', [\"U\\(DT\\)\"]))\n",
    "\n",
    "    diagram.addArc(H, node)\n",
    "    diagram.addArc(H, T)\n",
    "    diagram.addArc(H, UR)\n",
    "    diagram.addArc(DT, T)\n",
    "    diagram.addArc(DT, UT)\n",
    "    diagram.addArc(T, DR)\n",
    "    diagram.addArc(DR, UR)\n",
    "    ids = [H, T, DR, DT, UR, UT] \n",
    "    return ids\n"
   ]
  },
  {
   "cell_type": "code",
   "execution_count": null,
   "id": "61105e9f",
   "metadata": {},
   "outputs": [],
   "source": [
    "# creer influence diagram\n",
    "diag = gum.InfluenceDiagram()\n",
    "\n",
    "# loop door deconstructie en maak van elke component een node\n",
    "M=diag.addChanceNode(gum.LabelizedVariable('M','Motor',[\"ok\",\"broken\"])) \n",
    "B=diag.addChanceNode(gum.LabelizedVariable('B','blades',[\"ok\",\"broken\"])) \n",
    "diag.addArc(M, B)\n",
    "\n",
    "# toevoegen node set voor health, testen en vervangen\n",
    "m_ids = addHealthTestReplaceToComponent(diag, M)\n",
    "b_ids = addHealthTestReplaceToComponent(diag, B)\n",
    "\n",
    "print(diag)\n",
    "gnb.showInfluenceDiagram(diag, size=60)"
   ]
  },
  {
   "cell_type": "markdown",
   "id": "3cc6f5fe",
   "metadata": {},
   "source": [
    "## influence diagram opbouwen: cpt toevoegen\n",
    "\n",
    "voor decisions zijn de toestanden genoeg\n",
    "- decision test [yes / no] \n",
    "- decision replace (chance test) [yes / no]\n",
    "\n",
    "cpt toevoegen voor volgende nodes\n",
    "- chance node health [OK / broken] \n",
    "- chance node test (decision test / change health) [not done / positive / negative]\n",
    "\n",
    "voor utility zie verderop\n",
    "\n",
    "volgorde van de nodes in de output \"m_ids\": H, T, DR, DT, UR, UT\n"
   ]
  },
  {
   "cell_type": "code",
   "execution_count": null,
   "id": "223213c8",
   "metadata": {},
   "outputs": [],
   "source": [
    "# cpt van motor: ok of broken afhankelijk van health motor\n",
    "diag.cpt(M)[0] = [0.8, 0.2]\n",
    "diag.cpt(M)[1] = [0.7, 0.3]\n",
    "\n",
    "# health node health Motor, kans dat motor broken is klein\n",
    "diag.cpt(m_ids[0]).fillWith([0.98,0.02]) \n",
    "\n",
    "# test node \n",
    "diag.cpt(m_ids[1])[0,0] = [0.1, 0.8, 0.1] # wel besluit te testen maar health ok dan grootste kans positieve test\n",
    "diag.cpt(m_ids[1])[0,1] = [0.1, 0.1, 0.8] # wel besluit te testen maar health brokeen dan grootste kans negatieve test\n",
    "diag.cpt(m_ids[1])[1,0] = [0.7, 0.2, 0.1] # besluit niet testen, health ok dan grootste kans bij notdone\n",
    "diag.cpt(m_ids[1])[1,1] = [0.7, 0.1, 0.2] # besluit niet testen, health niet ok dan grootste kan bij notdone\n",
    "\n",
    "gnb.flow.row( diag.cpt(m_ids[0]),diag.cpt(M), diag.cpt(m_ids[1]))"
   ]
  },
  {
   "cell_type": "code",
   "execution_count": null,
   "id": "fb968912",
   "metadata": {},
   "outputs": [],
   "source": [
    "# cpt van motor: ok of broken afhankelijk van health motor\n",
    "diag.cpt(B)[0] = [[0.9, 0.1], [0.8, 0.2]]\n",
    "diag.cpt(B)[1] = [[0.8, 0.2], [0.7,0.3]]\n",
    "\n",
    "# health node health Motor, kans dat motor broken is klein\n",
    "diag.cpt(b_ids[0]).fillWith([0.98,0.02]) \n",
    "\n",
    "# test node \n",
    "diag.cpt(b_ids[1])[0,0] = [0.1, 0.8, 0.1] # wel besluit te testen maar health ok dan grootste kans positieve test\n",
    "diag.cpt(b_ids[1])[0,1] = [0.1, 0.1, 0.8] # wel besluit te testen maar health brokeen dan grootste kans negatieve test\n",
    "diag.cpt(b_ids[1])[1,0] = [0.7, 0.2, 0.1] # besluit niet testen, health ok dan grootste kans bij notdone\n",
    "diag.cpt(b_ids[1])[1,1] = [0.7, 0.1, 0.2] # besluit niet testen, health niet ok dan grootste kan bij notdone\n",
    "\n",
    "gnb.flow.row( diag.cpt(b_ids[0]),diag.cpt(B), diag.cpt(b_ids[1]))"
   ]
  },
  {
   "cell_type": "markdown",
   "id": "8d1a59df",
   "metadata": {},
   "source": [
    "## influence diagram opbouwen: utility functies\n",
    "\n",
    "de utility functies werken obv kostencomponenten:\n",
    "- c1 = kosten van een test = 10\n",
    "- c2 = vervangingskosten = 20\n",
    "- c3 = incorrect replacement penalty = 20\n",
    "- c4 = failure to repair cost c4 >> c2 + c3 = 50\n",
    "\n",
    "er is een treshold voor het vervangen van componenten ongeacht testen:\n",
    "- treshold = P(H = 0) - (c2 + c3) / P (H = 1) c2 - c4 = 1\n",
    "- P(H = 0) component in good condition\n",
    "- P(H = 1) component in defect state\n",
    "- voor duurdere onderdelen moet P(H = 1) hoger zijn voordat tot actie wordt overgegaan\n",
    "\n",
    "utility functie voor correctief onderhoud:\n",
    "- indien H = 0 / D = 0 (gezond en geen vervanging) dan kosten: nul\n",
    "- indien H = 0 / D = 1 (gezond en wel vervangen) dan kosten: c2 + c3 (vervangingskosten en penalty)\n",
    "- indien H = 1 / D = 0 (niet gezond, niet vervangen) dan kosten: c4 (failure to repair cost (groter dan c2 + c3)\n",
    "- indien H = 1 / D = 1 (niet gezond, wel vervangen) dan kosten: c2 (vervangingskosten)\n",
    "\n",
    "utility functie testen gezondheid:\n",
    "- T = yes (wel testen): c1 (kosten test)\n",
    "- T = no (niet testen): 0 (geen kosten)\n"
   ]
  },
  {
   "cell_type": "code",
   "execution_count": null,
   "id": "fa626c56",
   "metadata": {},
   "outputs": [],
   "source": [
    "# m_ids[5] = UT, m_ids[3] = DT\n",
    "diag.utility(m_ids[5])[{'DTMotor':'no'}]=0 \n",
    "diag.utility(m_ids[5])[{'DTMotor':'yes'}]=-10\n"
   ]
  },
  {
   "cell_type": "code",
   "execution_count": null,
   "id": "6f545059",
   "metadata": {},
   "outputs": [],
   "source": [
    "diag.utility(m_ids[4])[{'HMotor':'ok','DRMotor':'yes'}]=40 # health=ok, replace=yes\n",
    "diag.utility(m_ids[4])[{'HMotor':'broken','DRMotor':'yes' }]=20 # health=broken, replace=yes\n",
    "diag.utility(m_ids[4])[{'HMotor':'ok','DRMotor':'no' }]=0 # health=ok, replace=no\n",
    "diag.utility(m_ids[4])[{'HMotor':'broken','DRMotor':'no' }]=-50 # health=broken, replace=no"
   ]
  },
  {
   "cell_type": "code",
   "execution_count": null,
   "id": "1ca461aa",
   "metadata": {},
   "outputs": [],
   "source": [
    "gnb.flow.row(diag.utility(m_ids[5]), diag.utility(m_ids[4]))"
   ]
  },
  {
   "cell_type": "code",
   "execution_count": null,
   "id": "baa90f51",
   "metadata": {},
   "outputs": [],
   "source": [
    "# m_ids[5] = UT, m_ids[3] = DT\n",
    "diag.utility(b_ids[5])[{'DTBlades':'no'}]=0 \n",
    "diag.utility(b_ids[5])[{'DTBlades':'yes'}]=-10"
   ]
  },
  {
   "cell_type": "code",
   "execution_count": null,
   "id": "e8f228d1",
   "metadata": {},
   "outputs": [],
   "source": [
    "diag.utility(b_ids[4])[{'HBlades':'ok','DRBlades':'yes'}]=140 # health=ok, replace=yes\n",
    "diag.utility(b_ids[4])[{'HBlades':'broken','DRBlades':'yes' }]=20 # health=broken, replace=yes\n",
    "diag.utility(b_ids[4])[{'HBlades':'ok','DRBlades':'no' }]=0 # health=ok, replace=no\n",
    "diag.utility(b_ids[4])[{'HBlades':'broken','DRBlades':'no' }]=-150 # health=broken, replace=no"
   ]
  },
  {
   "cell_type": "code",
   "execution_count": null,
   "id": "b2c99995",
   "metadata": {},
   "outputs": [],
   "source": [
    "ie = gum.ShaferShenoyLIMIDInference(diag) \n",
    "ie.makeInference()\n"
   ]
  },
  {
   "cell_type": "code",
   "execution_count": null,
   "id": "70412964",
   "metadata": {},
   "outputs": [],
   "source": [
    "gnb.flow.row(ie.optimalDecision(m_ids[3]), ie.optimalDecision(m_ids[2]))\n",
    "gnb.flow.row(ie.optimalDecision(b_ids[3]), ie.optimalDecision(b_ids[2]))"
   ]
  },
  {
   "cell_type": "code",
   "execution_count": null,
   "id": "a39406ea",
   "metadata": {},
   "outputs": [],
   "source": [
    "ie.MEU() # maximum expected utility\n"
   ]
  },
  {
   "cell_type": "code",
   "execution_count": null,
   "id": "e0e570e0",
   "metadata": {},
   "outputs": [],
   "source": [
    "ie.posteriorUtility(m_ids[0])"
   ]
  },
  {
   "cell_type": "code",
   "execution_count": null,
   "id": "40104286",
   "metadata": {},
   "outputs": [],
   "source": [
    "gnb.flow.add(gnb.getInference(diag, size=60))\n",
    "gnb.flow.display()"
   ]
  },
  {
   "cell_type": "code",
   "execution_count": null,
   "id": "2bf045bf",
   "metadata": {},
   "outputs": [],
   "source": [
    "diag.saveBIFXML(\"fan3.xml\")"
   ]
  },
  {
   "cell_type": "code",
   "execution_count": null,
   "id": "2f49a9b4",
   "metadata": {},
   "outputs": [],
   "source": []
  }
 ],
 "metadata": {
  "kernelspec": {
   "display_name": "Python 3 (ipykernel)",
   "language": "python",
   "name": "python3"
  },
  "language_info": {
   "codemirror_mode": {
    "name": "ipython",
    "version": 3
   },
   "file_extension": ".py",
   "mimetype": "text/x-python",
   "name": "python",
   "nbconvert_exporter": "python",
   "pygments_lexer": "ipython3",
   "version": "3.11.3"
  }
 },
 "nbformat": 4,
 "nbformat_minor": 5
}
