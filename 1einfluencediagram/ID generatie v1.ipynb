{
 "cells": [
  {
   "cell_type": "code",
   "execution_count": 16,
   "id": "26d0e4fc",
   "metadata": {},
   "outputs": [],
   "source": [
    "from concepts import Component, Connection, Assembly, CapabilityInput, CapabilityOutput, Composite, SYSTEMType, InputStates, ELSE, ALWAYS, SYSTEM, printOverview\n",
    "from components import DrivingShaft, AirOutlet, Axle, InputPlug, DrivenShaft\n",
    "from typing import Union\n"
   ]
  },
  {
   "cell_type": "markdown",
   "id": "b882f82a",
   "metadata": {},
   "source": [
    "# uit concepts\n",
    "modalities\n",
    "- class Modality()\n",
    "\n",
    "connectors\n",
    "- class Connector(NamedObject)\n",
    "\n",
    "\n",
    "health\n",
    "- class Health(Modality)\n",
    "\n",
    "unreliable\n",
    "- class Unreliable()\n",
    "\n",
    "connections\n",
    "- class Connection(Unreliable, Generic[Tout, Tin])\n",
    "\n",
    "module\n",
    "- class Module(NamedObject)\n",
    "\n",
    "capabilities\n",
    "- class Capability(Module, CapabilityOutput, Unreliable) \n",
    "\n",
    "components (relaties tussen input en output)\n",
    "- class Component(Module, Unreliable)\n",
    "- class SuperComponent(Component)\n",
    "\n",
    "Assemblies (container voor meerdere modules)\n",
    "- class Assembly(Module)\n",
    "\n",
    "states\n",
    "- class State(Module)\n",
    "\n"
   ]
  },
  {
   "cell_type": "code",
   "execution_count": 11,
   "id": "3c2adcfe",
   "metadata": {},
   "outputs": [],
   "source": [
    "#uit connections.py\n",
    "\n",
    "class Axle(Connection): \n",
    "    def __init__(self, input: DrivingShaft, output: DrivenShaft):\n",
    "        super().__init__(input, output)\n",
    "    \n",
    "        self.setNormal([([self.input.moving.YES], [self.output.moving.YES]),\n",
    "                            (ELSE, [self.output.moving.NO])])\n",
    "        self.addFailure(\"broken\", 0.001, [(ALWAYS, [self.output.moving.NO])])\n",
    "\n",
    "\n",
    "    def getDescriptor(self):\n",
    "        return \"axle\" \n",
    "\n",
    "class Ability(Connection):\n",
    "    def __init__(self, input:CapabilityOutput, output:CapabilityInput):\n",
    "        super().__init__(input, output)\n",
    "\n",
    "    def getDescriptor(self):\n",
    "        return \"ability\"\n"
   ]
  },
  {
   "cell_type": "code",
   "execution_count": 17,
   "id": "56f2ccfe",
   "metadata": {},
   "outputs": [],
   "source": [
    "# uit components.py\n",
    "\n",
    "class Motor(Component):\n",
    "    def __init__(self, parent, name:str):\n",
    "        super().__init__(parent, name)\n",
    "        self.signal = InputPlug(self, \"power\")\n",
    "        self.shaft = DrivingShaft(self, \"shaft\")\n",
    "\n",
    "        self.setNormal([([self.signal.present.YES] , [self.shaft.moving.YES]),\n",
    "                        (ELSE                      , [self.shaft.moving.NO])])\n",
    "\n",
    "        self.addFailure(\"broken\", 0.005, [(ALWAYS, [self.shaft.moving.NO])])\n",
    "\n",
    "\n",
    "class Fan(Component):\n",
    "    def __init__(self, parent, name:str):\n",
    "        super().__init__(parent, name)\n",
    "        self.shaft = DrivenShaft(self, \"shaft\")\n",
    "        self.outlet = AirOutlet(self, \"air outlet\")\n",
    "\n",
    "        self.setNormal([([self.shaft.moving.YES] , [self.outlet.present.YES]),\n",
    "                              (ELSE , [self.outlet.present.NO])])\n"
   ]
  },
  {
   "cell_type": "code",
   "execution_count": 19,
   "id": "891b6fb2",
   "metadata": {},
   "outputs": [
    {
     "name": "stdout",
     "output_type": "stream",
     "text": [
      "setting normal for Fan\n",
      "CONNECTORS NOT CONNECTED\n",
      "Fan.shaft\n",
      "Fan.air outlet\n",
      "INPUTS NOT CONNECTED\n",
      "Fan.shaft\n",
      "CONNECTORS CONNECTED MULTIPLE TIMES\n"
     ]
    }
   ],
   "source": [
    "from collections import Counter\n",
    "\n",
    "def printOverview(assembly: Assembly, verbose:bool=False) -> None:\n",
    "    modules = list(assembly.getModules(recursive=True))\n",
    "    if verbose:\n",
    "        print(len(modules), \"MODULES\")\n",
    "        for m in modules: print(m)\n",
    "    connections = list(assembly.getConnections(recursive=True))\n",
    "    connectorsUsed = list(connectors for connection in connections for connectors in connection.getConnectors())\n",
    "    connectors = set(assembly.getConnectors(recursive=True))\n",
    "    if verbose:\n",
    "        print(len(connections), \"CONNECTIONS\")\n",
    "        for c in connections: print(c)\n",
    "    if verbose:\n",
    "        print(len(connectors), \"CONNECTORS\")\n",
    "        for c in connectors: print(c)\n",
    "    if verbose:\n",
    "        print(len(connectorsUsed), \"CONNECTORS USED\")\n",
    "        for c in connectorsUsed: print(c)\n",
    "    print(\"CONNECTORS NOT CONNECTED\")\n",
    "    for c in connectors - set(connectorsUsed) : print(c)\n",
    "    print(\"INPUTS NOT CONNECTED\")\n",
    "    for input in assembly.openInputs(): print(input)\n",
    "    print(\"CONNECTORS CONNECTED MULTIPLE TIMES\")\n",
    "    counter = Counter(connectorsUsed)\n",
    "    for c, n in counter.items(): \n",
    "        if n>1: print(c, n)\n",
    "\n",
    "fan = Fan(SYSTEM, \"Fan\")\n",
    "printOverview(fan)"
   ]
  },
  {
   "cell_type": "code",
   "execution_count": null,
   "id": "36472dff",
   "metadata": {},
   "outputs": [],
   "source": []
  }
 ],
 "metadata": {
  "kernelspec": {
   "display_name": "Python 3 (ipykernel)",
   "language": "python",
   "name": "python3"
  },
  "language_info": {
   "codemirror_mode": {
    "name": "ipython",
    "version": 3
   },
   "file_extension": ".py",
   "mimetype": "text/x-python",
   "name": "python",
   "nbconvert_exporter": "python",
   "pygments_lexer": "ipython3",
   "version": "3.11.3"
  }
 },
 "nbformat": 4,
 "nbformat_minor": 5
}
