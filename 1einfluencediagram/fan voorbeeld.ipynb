{
 "cells": [
  {
   "cell_type": "code",
   "execution_count": 2,
   "id": "e4decfbc",
   "metadata": {},
   "outputs": [],
   "source": [
    "# imports\n",
    "import os\n",
    "import math\n",
    "%matplotlib inline\n",
    "import matplotlib.pyplot as plt\n",
    "\n",
    "from pylab import *\n",
    "from IPython.display import display,HTML\n",
    "\n",
    "# pyAgrum\n",
    "import pyAgrum as gum\n",
    "import pyAgrum.lib.notebook as gnb"
   ]
  },
  {
   "cell_type": "markdown",
   "id": "b25d9502",
   "metadata": {},
   "source": [
    "## alternatief 1: mapping TNO python code naar BIFXML\n",
    "\n",
    "BIFXML is een \"interchange format\" voor Bayes netwerken en kent ook support voor influence diagrammen. Een BIFXMl file kan worden ingelezen met pyAgrum. (https://www.cs.cmu.edu/afs/cs/user/fgcozman/www/Research/InterchangeFormat/)\n",
    "\n",
    "onderdelen van BIFXML:\n",
    "- variabelen van type \"natural\"(kansnodes), \"decision\", \"utility\" \n",
    "- arcs tussen de variabelen\n",
    "\n",
    "onderdelen van een fan in de TNO code\n",
    "- een \"Fan\" is van class type \"Assembly\" en bestaat uit meerdere componenten: een motor en bladen\n",
    "- een \"Blades\" class is van type \"Component\" kent normaal (states) en failure gedrag (lijst failures)\n",
    "- een \"Fan\" kent een verbinding genaamd \"Axle\" van type Connection class met een input en een output\n",
    "\n",
    "idee is om de python classes te mappen op onderdelen van een BIFXML bestand:\n",
    "- een Component wordt een <VARIABLE Type=\"natural\"> node \n",
    "    - toestanden van de variabele zijn de normaal en failure status \n",
    "- een Connection kan omgezet worden in een <DEFINITION> met een van VARIABLE en een naar VARIABLE+ CPT\n",
    "\n",
    "#### Influence diagram met pyagrum obv BIFXML\n",
    "Om nu te komen tot een ID ipv een bayesiaans netwerk heb ik het volgende gedaan:\n",
    "- idee is de beslissingen en utility over te nemen uit de studie van Joep Beurskens\n",
    "    - een systeem kan bestaan uit honderden componenten, elke component kan gerepareerd moeten worden\n",
    "    - een utility functie bepaald de grenswaarden voor vervanging, de U is afhankelijk van de \"health\" en het vervangingsbesluit en berekend een uitkomst obv a. vervangingskosten, b. de kosten van niet terechte vervanging en c. failure to repair\n",
    "    - het vervangingsbesluit is wel of niet doen maar kent onzekerheid\n",
    "    - de onzekerheid kan worden opgelost met een test, de testuitkomsten zijn de waarden van de test variabele\n",
    "    - het testbesluit is om het wel of niet te doen, dit is afhankelijk van een utility die de kosten van de test meeneemt\n",
    "    - het vervangingsbesluit is afhankelijk van de uitkomst van de test \n"
   ]
  },
  {
   "cell_type": "markdown",
   "id": "66dc20b6",
   "metadata": {},
   "source": [
    "#### code inlezen met de hand gemaakt BIFXML bestand"
   ]
  },
  {
   "cell_type": "code",
   "execution_count": 3,
   "id": "4b698e85",
   "metadata": {
    "scrolled": false
   },
   "outputs": [
    {
     "data": {
      "image/svg+xml": [
       "<svg xmlns=\"http://www.w3.org/2000/svg\" xmlns:xlink=\"http://www.w3.org/1999/xlink\" width=\"480pt\" height=\"370pt\" viewBox=\"0.00 0.00 479.74 369.75\">\n",
       "<g id=\"graph0\" class=\"graph\" transform=\"scale(1 1) rotate(0) translate(4 365.75)\">\n",
       "<title>G</title>\n",
       "<!-- Power -->\n",
       "<g id=\"node1\" class=\"node\">\n",
       "<title>Power</title>\n",
       "<ellipse fill=\"#808080\" stroke=\"black\" cx=\"59.28\" cy=\"-261.06\" rx=\"41.94\" ry=\"20.51\"/>\n",
       "<text text-anchor=\"middle\" x=\"59.28\" y=\"-257.36\" font-family=\"Times,serif\" font-size=\"14.00\" fill=\"white\">Power</text>\n",
       "</g>\n",
       "<!-- Shaft -->\n",
       "<g id=\"node4\" class=\"node\">\n",
       "<title>Shaft</title>\n",
       "<ellipse fill=\"#808080\" stroke=\"black\" cx=\"58.28\" cy=\"-180.88\" rx=\"37.45\" ry=\"20.51\"/>\n",
       "<text text-anchor=\"middle\" x=\"58.28\" y=\"-177.18\" font-family=\"Times,serif\" font-size=\"14.00\" fill=\"white\">Shaft</text>\n",
       "</g>\n",
       "<!-- Power&#45;&gt;Shaft -->\n",
       "<g id=\"edge1\" class=\"edge\">\n",
       "<title>Power-&gt;Shaft</title>\n",
       "<path fill=\"none\" stroke=\"black\" d=\"M59.02,-240.33C58.91,-231.72 58.78,-221.43 58.66,-211.9\"/>\n",
       "<polygon fill=\"black\" stroke=\"black\" points=\"62.16,-211.55 58.53,-201.6 55.16,-211.64 62.16,-211.55\"/>\n",
       "</g>\n",
       "<!-- Health Power -->\n",
       "<g id=\"node2\" class=\"node\">\n",
       "<title>Health Power</title>\n",
       "<ellipse fill=\"#808080\" stroke=\"black\" cx=\"129.28\" cy=\"-341.24\" rx=\"78.48\" ry=\"20.51\"/>\n",
       "<text text-anchor=\"middle\" x=\"129.28\" y=\"-337.54\" font-family=\"Times,serif\" font-size=\"14.00\" fill=\"white\">Health Power</text>\n",
       "</g>\n",
       "<!-- Health Power&#45;&gt;Power -->\n",
       "<g id=\"edge2\" class=\"edge\">\n",
       "<title>Health Power-&gt;Power</title>\n",
       "<path fill=\"none\" stroke=\"black\" d=\"M111.97,-320.92C102.98,-310.87 91.87,-298.47 82.18,-287.64\"/>\n",
       "<polygon fill=\"black\" stroke=\"black\" points=\"84.7,-285.21 75.42,-280.09 79.48,-289.88 84.7,-285.21\"/>\n",
       "</g>\n",
       "<!-- Test Power -->\n",
       "<g id=\"node3\" class=\"node\">\n",
       "<title>Test Power</title>\n",
       "<ellipse fill=\"#808080\" stroke=\"black\" cx=\"223.28\" cy=\"-261.06\" rx=\"65.52\" ry=\"20.51\"/>\n",
       "<text text-anchor=\"middle\" x=\"223.28\" y=\"-257.36\" font-family=\"Times,serif\" font-size=\"14.00\" fill=\"white\">Test Power</text>\n",
       "</g>\n",
       "<!-- Health Power&#45;&gt;Test Power -->\n",
       "<g id=\"edge3\" class=\"edge\">\n",
       "<title>Health Power-&gt;Test Power</title>\n",
       "<path fill=\"none\" stroke=\"black\" d=\"M152.03,-321.32C164.36,-311.06 179.75,-298.26 193.07,-287.18\"/>\n",
       "<polygon fill=\"black\" stroke=\"black\" points=\"195.6,-289.63 201.05,-280.54 191.13,-284.25 195.6,-289.63\"/>\n",
       "</g>\n",
       "<!-- UPowerReplace -->\n",
       "<g id=\"node9\" class=\"node\">\n",
       "<title>UPowerReplace</title>\n",
       "<polygon fill=\"#50508a\" stroke=\"black\" points=\"327.17,-100.69 275.22,-124.55 171.33,-124.55 119.39,-100.69 171.33,-76.83 275.22,-76.83 327.17,-100.69\"/>\n",
       "<text text-anchor=\"middle\" x=\"223.28\" y=\"-96.99\" font-family=\"Times,serif\" font-size=\"14.00\" fill=\"white\">UPowerReplace</text>\n",
       "</g>\n",
       "<!-- Health Power&#45;&gt;UPowerReplace -->\n",
       "<g id=\"edge4\" class=\"edge\">\n",
       "<title>Health Power-&gt;UPowerReplace</title>\n",
       "<path fill=\"none\" stroke=\"black\" stroke-dasharray=\"5,2\" d=\"M127.13,-320.7C124.25,-286.05 122.47,-212.56 151.28,-160.37 157.49,-149.12 166.81,-139.19 176.7,-130.84\"/>\n",
       "<polygon fill=\"black\" stroke=\"black\" points=\"179.05,-133.45 184.71,-124.49 174.7,-127.96 179.05,-133.45\"/>\n",
       "</g>\n",
       "<!-- DPowerReplace -->\n",
       "<g id=\"node7\" class=\"node\">\n",
       "<title>DPowerReplace</title>\n",
       "<polygon fill=\"#9a5050\" stroke=\"black\" points=\"286.28,-195.38 160.28,-195.38 160.28,-166.38 286.28,-166.38 286.28,-195.38\"/>\n",
       "<text text-anchor=\"middle\" x=\"223.28\" y=\"-177.18\" font-family=\"Times,serif\" font-size=\"14.00\" fill=\"white\">DPowerReplace</text>\n",
       "</g>\n",
       "<!-- Test Power&#45;&gt;DPowerReplace -->\n",
       "<g id=\"edge5\" class=\"edge\">\n",
       "<title>Test Power-&gt;DPowerReplace</title>\n",
       "<polygon fill=\"black\" stroke=\"transparent\" stroke-width=\"2\" stroke-dasharray=\"1,5\" points=\"224.28,-240.33 224.23,-238.74 224.18,-237.13 224.13,-235.48 224.09,-233.8 224.04,-232.1 223.99,-230.38 223.94,-228.64 223.88,-226.88 223.83,-225.12 223.78,-223.35 223.73,-221.57 223.68,-219.79 223.63,-218.02 223.58,-216.25 223.52,-214.49 223.47,-212.74 223.42,-211.01 223.37,-209.29 223.32,-207.6 223.28,-205.93 223.28,-205.93 223.23,-207.6 223.18,-209.29 223.13,-211.01 223.08,-212.74 223.03,-214.49 222.98,-216.25 222.92,-218.02 222.87,-219.79 222.82,-221.57 222.77,-223.35 222.72,-225.12 222.67,-226.88 222.62,-228.64 222.56,-230.38 222.51,-232.1 222.47,-233.8 222.42,-235.48 222.37,-237.13 222.32,-238.74 222.28,-240.33 224.28,-240.33\"/>\n",
       "<polygon fill=\"black\" stroke=\"black\" stroke-width=\"2\" points=\"226.78,-205.68 223.28,-195.68 219.78,-205.68 226.78,-205.68\"/>\n",
       "</g>\n",
       "<!-- Blades -->\n",
       "<g id=\"node5\" class=\"node\">\n",
       "<title>Blades</title>\n",
       "<ellipse fill=\"#808080\" stroke=\"black\" cx=\"57.28\" cy=\"-100.69\" rx=\"44.6\" ry=\"20.51\"/>\n",
       "<text text-anchor=\"middle\" x=\"57.28\" y=\"-96.99\" font-family=\"Times,serif\" font-size=\"14.00\" fill=\"white\">Blades</text>\n",
       "</g>\n",
       "<!-- Shaft&#45;&gt;Blades -->\n",
       "<g id=\"edge9\" class=\"edge\">\n",
       "<title>Shaft-&gt;Blades</title>\n",
       "<path fill=\"none\" stroke=\"black\" d=\"M58.02,-160.15C57.91,-151.53 57.78,-141.25 57.66,-131.72\"/>\n",
       "<polygon fill=\"black\" stroke=\"black\" points=\"61.16,-131.37 57.53,-121.41 54.16,-131.46 61.16,-131.37\"/>\n",
       "</g>\n",
       "<!-- AirOutlet -->\n",
       "<g id=\"node6\" class=\"node\">\n",
       "<title>AirOutlet</title>\n",
       "<ellipse fill=\"#808080\" stroke=\"black\" cx=\"57.28\" cy=\"-20.51\" rx=\"57.05\" ry=\"20.51\"/>\n",
       "<text text-anchor=\"middle\" x=\"57.28\" y=\"-16.81\" font-family=\"Times,serif\" font-size=\"14.00\" fill=\"white\">AirOutlet</text>\n",
       "</g>\n",
       "<!-- Blades&#45;&gt;AirOutlet -->\n",
       "<g id=\"edge10\" class=\"edge\">\n",
       "<title>Blades-&gt;AirOutlet</title>\n",
       "<path fill=\"none\" stroke=\"black\" d=\"M57.28,-79.96C57.28,-71.35 57.28,-61.06 57.28,-51.53\"/>\n",
       "<polygon fill=\"black\" stroke=\"black\" points=\"60.78,-51.23 57.28,-41.23 53.78,-51.23 60.78,-51.23\"/>\n",
       "</g>\n",
       "<!-- DPowerReplace&#45;&gt;UPowerReplace -->\n",
       "<g id=\"edge6\" class=\"edge\">\n",
       "<title>DPowerReplace-&gt;UPowerReplace</title>\n",
       "<path fill=\"none\" stroke=\"black\" stroke-dasharray=\"5,2\" d=\"M223.28,-166.26C223.28,-157.57 223.28,-145.91 223.28,-134.89\"/>\n",
       "<polygon fill=\"black\" stroke=\"black\" points=\"226.78,-134.64 223.28,-124.64 219.78,-134.64 226.78,-134.64\"/>\n",
       "</g>\n",
       "<!-- DTestPower -->\n",
       "<g id=\"node8\" class=\"node\">\n",
       "<title>DTestPower</title>\n",
       "<polygon fill=\"#9a5050\" stroke=\"black\" points=\"382.28,-355.74 282.28,-355.74 282.28,-326.74 382.28,-326.74 382.28,-355.74\"/>\n",
       "<text text-anchor=\"middle\" x=\"332.28\" y=\"-337.54\" font-family=\"Times,serif\" font-size=\"14.00\" fill=\"white\">DTestPower</text>\n",
       "</g>\n",
       "<!-- DTestPower&#45;&gt;Test Power -->\n",
       "<g id=\"edge7\" class=\"edge\">\n",
       "<title>DTestPower-&gt;Test Power</title>\n",
       "<path fill=\"none\" stroke=\"black\" d=\"M313.29,-326.63C297.74,-315.47 275.36,-299.42 256.8,-286.11\"/>\n",
       "<polygon fill=\"black\" stroke=\"black\" points=\"258.75,-283.2 248.58,-280.21 254.67,-288.88 258.75,-283.2\"/>\n",
       "</g>\n",
       "<!-- UTestPower -->\n",
       "<g id=\"node10\" class=\"node\">\n",
       "<title>UTestPower</title>\n",
       "<polygon fill=\"#50508a\" stroke=\"black\" points=\"471.71,-261.06 430.49,-284.92 348.06,-284.92 306.84,-261.06 348.06,-237.2 430.49,-237.2 471.71,-261.06\"/>\n",
       "<text text-anchor=\"middle\" x=\"389.28\" y=\"-257.36\" font-family=\"Times,serif\" font-size=\"14.00\" fill=\"white\">UTestPower</text>\n",
       "</g>\n",
       "<!-- DTestPower&#45;&gt;UTestPower -->\n",
       "<g id=\"edge8\" class=\"edge\">\n",
       "<title>DTestPower-&gt;UTestPower</title>\n",
       "<path fill=\"none\" stroke=\"black\" stroke-dasharray=\"5,2\" d=\"M342.2,-326.63C348.93,-317.4 358.1,-304.83 366.56,-293.22\"/>\n",
       "<polygon fill=\"black\" stroke=\"black\" points=\"369.48,-295.15 372.54,-285.01 363.83,-291.03 369.48,-295.15\"/>\n",
       "</g>\n",
       "</g>\n",
       "</svg>"
      ],
      "text/plain": [
       "<IPython.core.display.SVG object>"
      ]
     },
     "metadata": {},
     "output_type": "display_data"
    }
   ],
   "source": [
    "# creer influence diagram, laad BIFXML bestand en toon diagram\n",
    "diag = gum.InfluenceDiagram()\n",
    "diag.loadBIFXML('fan2.xml') # met voor 1 component de ID onderdelen voor vervangen en testen\n",
    "gnb.showInfluenceDiagram(diag, size=80)"
   ]
  },
  {
   "cell_type": "markdown",
   "id": "30d8f368",
   "metadata": {},
   "source": [
    "#### TODO redeneren en inference\n",
    "- kosten en kansen zijn bekend dus iets wat makkelijk en snel te vervangen is kan worden vervangen\n",
    "- welke component als eerste testen: degene die dichtst bij de grenswaarden zit?"
   ]
  },
  {
   "cell_type": "code",
   "execution_count": 24,
   "id": "11942b28",
   "metadata": {},
   "outputs": [
    {
     "data": {
      "text/html": [
       "<table style=\"border:1px solid black;\">\n",
       "<tr><th colspan='1'></th>\n",
       "      <th colspan='2' style='border:1px solid black;color:black;background-color:#808080;'><center>Power</center>\n",
       "      </th></tr>\n",
       "<tr><th style='border:1px solid black;color:black;background-color:#808080'><center>Health Power</center></th><th style='border:1px solid black;border-bottom-style: double;color:black;background-color:#BBBBBB'>\n",
       "      <center>yes</center></th><th style='border:1px solid black;border-bottom-style: double;color:black;background-color:#BBBBBB'>\n",
       "      <center>no</center></th></tr>\n",
       "<tr><th style='border:1px solid black;color:black;background-color:#BBBBBB'><center>ok</center></th><td style='color:black;background-color:#7ffe64;text-align:right;'>0.9950</td><td style='color:black;background-color:#fe7f64;text-align:right;'>0.0050</td></tr>\n",
       "<tr><th style='border:1px solid black;color:black;background-color:#BBBBBB'><center>broken</center></th><td style='color:black;background-color:#fe7f64;text-align:right;'>0.0050</td><td style='color:black;background-color:#7ffe64;text-align:right;'>0.9950</td></tr>\n",
       "</table>"
      ],
      "text/plain": [
       "(pyAgrum.Potential<double>@0x5566f9bf2400) \n",
       "      ||  Power            |\n",
       "Health||yes      |no       |\n",
       "------||---------|---------|\n",
       "ok    || 0.9950  | 0.0050  |\n",
       "broken|| 0.0050  | 0.9950  |"
      ]
     },
     "execution_count": 24,
     "metadata": {},
     "output_type": "execute_result"
    }
   ],
   "source": [
    "# power is afhankelijk van Health Power \n",
    "# Health Power states zijn OK (0.99) en broken (0.01) \n",
    "# wel power gegeven health ok is hoge kans (0.995)\n",
    "# geen power gegeven health ok is lage kans (0.005)\n",
    "# wel power maar health broken is niet waarschijnlijk\n",
    "# geen power maar health broken is wel waarschijnlijk\n",
    "diag.cpt(\"Power\")"
   ]
  },
  {
   "cell_type": "code",
   "execution_count": 4,
   "id": "1d2fd3d4",
   "metadata": {},
   "outputs": [
    {
     "data": {
      "text/html": [
       "<table style=\"border:1px solid black;\">\n",
       "<tr><th colspan='1'></th>\n",
       "      <th colspan='2' style='border:1px solid black;color:black;background-color:#808080;'><center>Shaft</center>\n",
       "      </th></tr>\n",
       "<tr><th style='border:1px solid black;color:black;background-color:#808080'><center>Power</center></th><th style='border:1px solid black;border-bottom-style: double;color:black;background-color:#BBBBBB'>\n",
       "      <center>yes</center></th><th style='border:1px solid black;border-bottom-style: double;color:black;background-color:#BBBBBB'>\n",
       "      <center>no</center></th></tr>\n",
       "<tr><th style='border:1px solid black;color:black;background-color:#BBBBBB'><center>yes</center></th><td style='color:black;background-color:#b2cb64;text-align:right;'>0.6000</td><td style='color:black;background-color:#ff7f64;text-align:right;'>0.0000</td></tr>\n",
       "<tr><th style='border:1px solid black;color:black;background-color:#BBBBBB'><center>no</center></th><td style='color:black;background-color:#cbb264;text-align:right;'>0.4000</td><td style='color:black;background-color:#ff7f64;text-align:right;'>0.0000</td></tr>\n",
       "</table>"
      ],
      "text/plain": [
       "(pyAgrum.Potential<double>@0x55a17e1ccb50) \n",
       "      ||  Shaft            |\n",
       "Power ||yes      |no       |\n",
       "------||---------|---------|\n",
       "yes   || 0.6000  | 0.0000  |\n",
       "no    || 0.4000  | 0.0000  |"
      ]
     },
     "execution_count": 4,
     "metadata": {},
     "output_type": "execute_result"
    }
   ],
   "source": [
    "diag.cpt(\"Shaft\")"
   ]
  },
  {
   "cell_type": "markdown",
   "id": "bfbe4e3f",
   "metadata": {},
   "source": [
    "## TODO alternatief uitbreiden bestaande code bayesnet server\n",
    "\n"
   ]
  },
  {
   "cell_type": "markdown",
   "id": "11c1c958",
   "metadata": {},
   "source": [
    "## TODO alternatief Procesmodel\n",
    "\n",
    "- proces model is abstracter dan model met componenten en hoe die samenhangen\n",
    "    - processtap heeft input, verwerking en output\n",
    "    - indien geen output dan mogelijk geen verwerking of geen input\n",
    "    - indien geen verwerking dan model van \"onderliggend proces\" erbij pakken\n",
    "- daardoor meer standaard bouwblokken en makkelijker code genereren\n",
    "- proces van de fan\n",
    "    - power on\n",
    "    - draaien as\n",
    "    - draaien bladen\n",
    "    - resultaat lucht"
   ]
  },
  {
   "cell_type": "code",
   "execution_count": null,
   "id": "7f494b52",
   "metadata": {},
   "outputs": [],
   "source": []
  }
 ],
 "metadata": {
  "kernelspec": {
   "display_name": "Python 3 (ipykernel)",
   "language": "python",
   "name": "python3"
  },
  "language_info": {
   "codemirror_mode": {
    "name": "ipython",
    "version": 3
   },
   "file_extension": ".py",
   "mimetype": "text/x-python",
   "name": "python",
   "nbconvert_exporter": "python",
   "pygments_lexer": "ipython3",
   "version": "3.10.4"
  }
 },
 "nbformat": 4,
 "nbformat_minor": 5
}
