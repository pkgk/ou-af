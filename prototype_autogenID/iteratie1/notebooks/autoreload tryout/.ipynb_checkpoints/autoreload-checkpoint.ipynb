{
 "cells": [
  {
   "cell_type": "markdown",
   "id": "ea3a0018",
   "metadata": {},
   "source": [
    "https://www.wrighters.io/using-autoreload-to-speed-up-ipython-and-jupyter-work/\n",
    "\n",
    "The optional argument for autoreload has three valid values:\n",
    "\n",
    "- 0 – disable automatic reloading\n",
    "- 1 – reload all the modules imported by %aimport every time before executing Python code that has been typed\n",
    "- 2 – reload all modules (except those excluded by %aimport) every time before executing Python code that has been typed"
   ]
  },
  {
   "cell_type": "code",
   "execution_count": 9,
   "id": "77554d21",
   "metadata": {},
   "outputs": [
    {
     "name": "stdout",
     "output_type": "stream",
     "text": [
      "The autoreload extension is already loaded. To reload it, use:\n",
      "  %reload_ext autoreload\n"
     ]
    }
   ],
   "source": [
    "\n",
    "%load_ext autoreload\n",
    "%autoreload 2"
   ]
  },
  {
   "cell_type": "code",
   "execution_count": 12,
   "id": "a8d14055",
   "metadata": {},
   "outputs": [],
   "source": [
    "import auto\n",
    "import auto2"
   ]
  },
  {
   "cell_type": "code",
   "execution_count": 13,
   "id": "a84b8a41",
   "metadata": {},
   "outputs": [],
   "source": [
    "auto.my_api?"
   ]
  },
  {
   "cell_type": "markdown",
   "id": "79c4bb1b",
   "metadata": {},
   "source": [
    "To regulate the modules affected by autoreload, use the %aimport magic. It works as follows:\n",
    "\n",
    "- no arguments – lists the modules that will be imported or not imported\n",
    "- with one argument – the module provided will be imported with %autoreload 1\n",
    "- with comma separated arguments – all modules in list will be imported with %autoreload 1\n",
    "- with a - before argument – that module will not be autoreloaded"
   ]
  },
  {
   "cell_type": "code",
   "execution_count": 15,
   "id": "e5077bea",
   "metadata": {},
   "outputs": [
    {
     "name": "stdout",
     "output_type": "stream",
     "text": [
      "Modules to reload:\n",
      "all-except-skipped\n",
      "\n",
      "Modules to skip:\n",
      "auto\n"
     ]
    }
   ],
   "source": [
    "%aimport -auto\n",
    "\n",
    "%aimport"
   ]
  },
  {
   "cell_type": "code",
   "execution_count": null,
   "id": "c01ec5ee",
   "metadata": {},
   "outputs": [],
   "source": []
  }
 ],
 "metadata": {
  "kernelspec": {
   "display_name": "Python 3 (ipykernel)",
   "language": "python",
   "name": "python3"
  },
  "language_info": {
   "codemirror_mode": {
    "name": "ipython",
    "version": 3
   },
   "file_extension": ".py",
   "mimetype": "text/x-python",
   "name": "python",
   "nbconvert_exporter": "python",
   "pygments_lexer": "ipython3",
   "version": "3.11.5"
  }
 },
 "nbformat": 4,
 "nbformat_minor": 5
}
